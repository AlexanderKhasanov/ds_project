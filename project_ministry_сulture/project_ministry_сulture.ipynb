{
 "cells": [
  {
   "cell_type": "markdown",
   "id": "670fbca7",
   "metadata": {},
   "source": [
    "**Привет, Александр!**\n",
    "\n",
    "Меня зовут Женя, и я — твой ревьюер на этом проекте. \n",
    "Если не против, давай будем общаться на \"ты\" :) В обратном случае, просто сообщи об этом, и мы перейдем на \"вы\". Надеюсь, вместе мы проделаем хорошую работу и поможем тебе поработать над улучшением своих навыков. \n",
    "\n",
    "Ты молодец, видно, что ты потратил время, чтобы хорошо разобраться тем, что необходимо проанализировать! Пожалуйста, обрати внимание на комментарии, который я оставлю по ходу ревью, возможно, они помогут тебе в будущем.\n",
    "\n",
    "Для ревью я буду использовать комментарии трех типов:\n",
    "\n",
    "<div class=\"alert alert-danger\">\n",
    "<b>Комментарий ревьюера (необходимо исправить)</b>\n",
    "\n",
    "Так я обозначила места, над которым еще нужно будет поработать (являются обязательными к выполнению).\n",
    "</div>\n",
    "\n",
    "<div class=\"alert alert-warning\">\n",
    "<b>Комментарий ревьюера (можно лучше)</b>\n",
    "\n",
    "Так я отметила свои рекомендации, которые помогут тебе в дальнейшем (не являются  обязательными для выполнения в текущем проекте).\n",
    "</div>\n",
    "\n",
    "\n",
    "<div class=\"alert alert-success\">\n",
    "<b>Комментарий ревьюера (ОК)</b> \n",
    "\n",
    "А в таких блоках будет отмечено то, что получилось особенно хорошо и может с успехом применяться в следующих работах :)\n",
    "</div>\n",
    "\n",
    "\n",
    "Также у меня будет к тебе просьба - писать обо всех вопросах/изменениях по моим замечаниям в комментариях отдельными Markdown-ячейками по ходу проекта. Будет здорово, если ты выберешь для них новый цвет, чтобы было проще отследить твои записи. Пожалуйста, не перемещай и не удаляй мои комментарии, чтобы повторные ревью проходили оперативнее."
   ]
  },
  {
   "cell_type": "markdown",
   "id": "64c785d3",
   "metadata": {},
   "source": [
    "<div class=\"alert alert-warning\">\n",
    "<b>Комментарий ревьюера (можно лучше)</b>\n",
    "\n",
    "И сразу отмечу, что настоятельно рекомендую в начале каждого проекта добавлять введение с описанием цели и этапов проекта. Это придает работе оформленность, поэтому предлагаю выработать у себя эту хорошую привычку 😉\n",
    "</div>"
   ]
  },
  {
   "cell_type": "markdown",
   "metadata": {},
   "source": [
    "<div class=\"alert alert-info\">\n",
    "    Введение добавил\n",
    "</div>"
   ]
  },
  {
   "cell_type": "markdown",
   "metadata": {},
   "source": [
    "Цель исследования: изучить рынок российского кинопроката и выявить текущие тренды.\n",
    "Основные задачи:  \n",
    "1. Изучить динамику рынка кино.  \n",
    "2. Изучить наиболее успешные категории фильмов. \n",
    "3. Исследовать фильмы, которые получили гос.поддержку  \n",
    "  \n",
    "В исследовании используются открытые наборы данных, которые находятся на портале открытых данных Министерства культуры:  \n",
    "1. `mkrf_movies.csv` — данные о прокатных удостоверениях.  \n",
    "2. `mkrf_shows.csv` — данные о прокате в российских кинотеатрах"
   ]
  },
  {
   "cell_type": "markdown",
   "metadata": {},
   "source": [
    "<div class=\"alert alert-success\">\n",
    "<b>Комментарий ревьюера v2 (ОК)</b> \n",
    "\n",
    "Отлично, то, что нужно.</div>"
   ]
  },
  {
   "cell_type": "markdown",
   "metadata": {},
   "source": [
    "<div class=\"alert alert-info\">\n",
    "    После проверки работы почему-то регулярно появляется ошибка валидации. Смог исправить на локальном файле (Прописал значение для \"nbformat_minor\": 5), но вот на платформу Практикума не смог исправить ошибку. Лог ошибки укажу ниже\n",
    "</div>"
   ]
  },
  {
   "cell_type": "markdown",
   "metadata": {},
   "source": [
    "```\n",
    "Notebook validation failed: Additional properties are not allowed ('id' was unexpected):\n",
    "{\n",
    " \"metadata\": {},\n",
    " \"id\": \"670fbca7\",\n",
    " \"cell_type\": \"markdown\",\n",
    " \"source\": \"**\\u041f\\u0440\\u0438\\u0432\\u0435\\u0442, \\u0410\\u043b\\u0435\\u043a\\u0441\\u0430\\u043d\\u0434\\u0440!**\\n\\n\\u041c\\u0435\\u043d\\u044f \\u0437\\u043e\\u0432\\u0443\\u0442 \\u0416\\u0435\\u043d\\u044f, \\u0438 \\u044f \\u2014 \\u0442\\u0432\\u043e\\u0439 \\u0440\\u0435\\u0432\\u044c\\u044e\\u0435\\u0440 \\u043d\\u0430 \\u044d\\u0442\\u043e\\u043c \\u043f\\u0440\\u043e\\u0435\\u043a\\u0442\\u0435. \\n\\u0415\\u0441\\u043b\\u0438 \\u043d\\u0435 \\u043f\\u0440\\u043e\\u0442\\u0438\\u0432, \\u0434\\u0430\\u0432\\u0430\\u0439 \\u0431\\u0443\\u0434\\u0435\\u043c \\u043e\\u0431\\u0449\\u0430\\u0442\\u044c\\u0441\\u044f \\u043d\\u0430 \\\"\\u0442\\u044b\\\" :) \\u0412 \\u043e\\u0431\\u0440\\u0430\\u0442\\u043d\\u043e\\u043c \\u0441\\u043b\\u0443\\u0447\\u0430\\u0435, \\u043f\\u0440\\u043e\\u0441\\u0442\\u043e \\u0441\\u043e\\u043e\\u0431\\u0449\\u0438 \\u043e\\u0431 \\u044d\\u0442\\u043e\\u043c, \\u0438 \\u043c\\u044b \\u043f\\u0435\\u0440\\u0435\\u0439\\u0434\\u0435\\u043c \\u043d\\u0430 \\\"\\u0432\\u044b\\\". \\u041d\\u0430\\u0434\\u0435\\u044e\\u0441\\u044c, \\u0432\\u043c\\u0435\\u0441\\u0442\\u0435 \\u043c\\u044b \\u043f\\u0440\\u043e\\u0434\\u0435\\u043b\\u0430\\u0435\\u043c \\u0445\\u043e\\u0440\\u043e\\u0448\\u0443\\u044e \\u0440\\u0430\\u0431\\u043e\\u0442\\u0443 \\u0438 \\u043f\\u043e\\u043c\\u043e\\u0436\\u0435\\u043c \\u0442\\u0435\\u0431\\u0435 \\u043f\\u043e\\u0440\\u0430\\u0431\\u043e\\u0442\\u0430\\u0442\\u044c \\u043d\\u0430\\u0434 \\u0443\\u043b\\u0443\\u0447\\u0448\\u0435\\u043d\\u0438\\u0435\\u043c \\u0441\\u0432\\u043e\\u0438\\u0445 \\u043d\\u0430\\u0432\\u044b\\u043a\\u043e\\u0432. \\n\\n\\u0422\\u044b \\u043c\\u043e\\u043b\\u043e\\u0434\\u0435\\u0446, \\u0432\\u0438\\u0434\\u043d\\u043e, \\u0447\\u0442\\u043e \\u0442\\u044b \\u043f\\u043e\\u0442\\u0440\\u0430\\u0442\\u0438\\u043b \\u0432\\u0440\\u0435\\u043c\\u044f, \\u0447\\u0442\\u043e\\u0431\\u044b \\u0445\\u043e\\u0440\\u043e\\u0448\\u043e \\u0440\\u0430\\u0437\\u043e\\u0431\\u0440\\u0430\\u0442\\u044c\\u0441\\u044f \\u0442\\u0435\\u043c, \\u0447\\u0442\\u043e \\u043d\\u0435\\u043e\\u0431\\u0445\\u043e\\u0434\\u0438\\u043c\\u043e \\u043f\\u0440\\u043e\\u0430\\u043d\\u0430\\u043b\\u0438\\u0437\\u0438\\u0440\\u043e\\u0432\\u0430\\u0442\\u044c! \\u041f\\u043e\\u0436\\u0430\\u043b\\u0443\\u0439\\u0441\\u0442\\u0430, \\u043e\\u0431\\u0440\\u0430\\u0442\\u0438 \\u0432\\u043d\\u0438\\u043c\\u0430\\u043d\\u0438\\u0435 \\u043d\\u0430 \\u043a\\u043e\\u043c\\u043c\\u0435\\u043d\\u0442\\u0430\\u0440\\u0438\\u0438, \\u043a\\u043e\\u0442\\u043e\\u0440\\u044b\\u0439 \\u044f \\u043e\\u0441\\u0442\\u0430\\u0432\\u043b\\u044e \\u043f\\u043e \\u0445\\u043e\\u0434\\u0443 \\u0440\\u0435\\u0432\\u044c\\u044e, \\u0432\\u043e\\u0437\\u043c\\u043e\\u0436\\u043d\\u043e, \\u043e\\u043d\\u0438 \\u043f\\u043e\\u043c\\u043e\\u0433\\u0443\\u0442 \\u0442\\u0435\\u0431\\u0435 \\u0432 \\u0431\\u0443\\u0434\\u0443\\u0449\\u0435\\u043c.\\n\\n\\u0414\\u043b\\u044f \\u0440\\u0435\\u0432\\u044c\\u044e \\u044f \\u0431\\u0443\\u0434\\u0443 \\u0438\\u0441\\u043f\\u043e\\u043b\\u044c\\u0437\\u043e\\u0432\\u0430\\u0442\\u044c \\u043a\\u043e\\u043c\\u043c\\u0435\\u043d\\u0442\\u0430\\u0440\\u0438\\u0438 \\u0442\\u0440\\u0435\\u0445 \\u0442\\u0438\\u043f\\u043e\\u0432:\\n\\n<div class=\\\"alert alert-danger\\\">\\n<b>\\u041a\\u043e\\u043c\\u043c\\u0435\\u043d\\u0442\\u0430\\u0440\\u0438\\u0439 \\u0440\\u0435\\u0432\\u044c\\u044e\\u0435\\u0440\\u0430 (\\u043d\\u0435\\u043e\\u0431\\u0445\\u043e\\u0434\\u0438\\u043c\\u043e \\u0438\\u0441\\u043f\\u0440\\u0430\\u0432\\u0438\\u0442\\u044c)</b>\\n\\n\\u0422\\u0430\\u043a \\u044f \\u043e\\u0431\\u043e\\u0437\\u043d\\u0430\\u0447\\u0438\\u043b\\u0430 \\u043c\\u0435\\u0441\\u0442\\u0430, \\u043d\\u0430\\u0434 \\u043a\\u043e\\u0442\\u043e\\u0440\\u044b\\u043c \\u0435\\u0449\\u0435 \\u043d\\u0443\\u0436\\u043d\\u043e \\u0431\\u0443\\u0434\\u0435\\u0442 \\u043f\\u043e\\u0440\\u0430\\u0431\\u043e\\u0442\\u0430\\u0442\\u044c (\\u044f\\u0432\\u043b\\u044f\\u044e\\u0442\\u0441\\u044f \\u043e\\u0431\\u044f\\u0437\\u0430\\u0442\\u0435\\u043b\\u044c\\u043d\\u044b\\u043c\\u0438 \\u043a \\u0432\\u044b\\u043f\\u043e\\u043b\\u043d\\u0435\\u043d\\u0438\\u044e).\\n</div>\\n\\n<div class=\\\"alert alert-warning\\\">\\n<b>\\u041a\\u043e\\u043c\\u043c\\u0435\\u043d\\u0442\\u0430\\u0440\\u0438\\u0439 \\u0440\\u0435\\u0432\\u044c\\u044e\\u0435\\u0440\\u0430 (\\u043c\\u043e\\u0436\\u043d\\u043e \\u043b\\u0443\\u0447\\u0448\\u0435)</b>\\n\\n\\u0422\\u0430\\u043a \\u044f \\u043e\\u0442\\u043c\\u0435\\u0442\\u0438\\u043b\\u0430 \\u0441\\u0432\\u043e\\u0438 \\u0440\\u0435\\u043a\\u043e\\u043c\\u0435\\u043d\\u0434\\u0430\\u0446\\u0438\\u0438, \\u043a\\u043e\\u0442\\u043e\\u0440\\u044b\\u0435 \\u043f\\u043e\\u043c\\u043e\\u0433\\u0443\\u0442 \\u0442\\u0435\\u0431\\u0435 \\u0432 \\u0434\\u0430\\u043b\\u044c\\u043d\\u0435\\u0439\\u0448\\u0435\\u043c (\\u043d\\u0435 \\u044f\\u0432\\u043b\\u044f\\u044e\\u0442\\u0441\\u044f  \\u043e\\u0431\\u044f\\u0437\\u0430\\u0442\\u0435\\u043b\\u044c\\u043d\\u044b\\u043c\\u0438 \\u0434\\u043b\\u044f \\u0432\\u044b\\u043f\\u043e\\u043b\\u043d\\u0435\\u043d\\u0438\\u044f \\u0432 \\u0442\\u0435\\u043a\\u0443\\u0449\\u0435\\u043c \\u043f\\u0440\\u043e\\u0435\\u043a\\u0442\\u0435).\\n</div>\\n\\n\\n<div class=\\\"alert alert-success\\\">\\n<b>\\u041a\\u043e\\u043c\\u043c\\u0435\\u043d\\u0442\\u0430\\u0440\\u0438\\u0439 \\u0440\\u0435\\u0432\\u044c\\u044e\\u0435\\u0440\\u0430 (\\u041e\\u041a)</b> \\n\\n\\u0410 \\u0432 \\u0442\\u0430\\u043a\\u0438\\u0445 \\u0431\\u043b\\u043e\\u043a\\u0430\\u0445 \\u0431\\u0443\\u0434\\u0435\\u0442 \\u043e\\u0442\\u043c\\u0435\\u0447\\u0435\\u043d\\u043e \\u0442\\u043e, \\u0447\\u0442\\u043e \\u043f\\u043e\\u043b\\u0443\\u0447\\u0438\\u043b\\u043e\\u0441\\u044c \\u043e\\u0441\\u043e\\u0431\\u0435\\u043d\\u043d\\u043e \\u0445\\u043e\\u0440\\u043e\\u0448\\u043e \\u0438 \\u043c\\u043e\\u0436\\u0435\\u0442 \\u0441 \\u0443\\u0441\\u043f\\u0435\\u0445\\u043e\\u043c \\u043f\\u0440\\u0438\\u043c\\u0435\\u043d\\u044f\\u0442\\u044c\\u0441\\u044f \\u0432 \\u0441\\u043b\\u0435\\u0434\\u0443\\u044e\\u0449\\u0438\\u0445 \\u0440\\u0430\\u0431\\u043e\\u0442\\u0430\\u0445 :)\\n</div>\\n\\n\\n\\u0422\\u0430\\u043a\\u0436\\u0435 \\u0443 \\u043c\\u0435\\u043d\\u044f \\u0431\\u0443\\u0434\\u0435\\u0442 \\u043a \\u0442\\u0435\\u0431\\u0435 \\u043f\\u0440\\u043e\\u0441\\u044c\\u0431\\u0430 - \\u043f\\u0438\\u0441\\u0430\\u0442\\u044c \\u043e\\u0431\\u043e \\u0432\\u0441\\u0435\\u0445 \\u0432\\u043e\\u043f\\u0440\\u043e\\u0441\\u0430\\u0445/\\u0438\\u0437\\u043c\\u0435\\u043d\\u0435\\u043d\\u0438\\u044f\\u0445 \\u043f\\u043e \\u043c\\u043e\\u0438\\u043c \\u0437\\u0430\\u043c\\u0435\\u0447\\u0430\\u043d\\u0438\\u044f\\u043c \\u0432 \\u043a\\u043e\\u043c\\u043c\\u0435\\u043d\\u0442\\u0430\\u0440\\u0438\\u044f\\u0445 \\u043e\\u0442\\u0434\\u0435\\u043b\\u044c\\u043d\\u044b\\u043c\\u0438 Markdown-\\u044f\\u0447\\u0435\\u0439\\u043a\\u0430\\u043c\\u0438 \\u043f\\u043e \\u0445\\u043e\\u0434\\u0443 \\u043f\\u0440\\u043e\\u0435\\u043a\\u0442\\u0430. \\u0411\\u0443\\u0434\\u0435\\u0442 \\u0437\\u0434\\u043e\\u0440\\u043e\\u0432\\u043e, \\u0435\\u0441\\u043b\\u0438 \\u0442\\u044b \\u0432\\u044b\\u0431\\u0435\\u0440\\u0435\\u0448\\u044c \\u0434\\u043b\\u044f \\u043d\\u0438\\u0445 \\u043d\\u043e\\u0432\\u044b\\u0439 \\u0446\\u0432\\u0435\\u0442, \\u0447\\u0442\\u043e\\u0431\\u044b \\u0431\\u044b\\u043b\\u043e \\u043f\\u0440\\u043e\\u0449\\u0435 \\u043e\\u0442\\u0441\\u043b\\u0435\\u0434\\u0438\\u0442\\u044c \\u0442\\u0432\\u043e\\u0438 \\u0437\\u0430\\u043f\\u0438\\u0441\\u0438. \\u041f\\u043e\\u0436\\u0430\\u043b\\u0443\\u0439\\u0441\\u0442\\u0430, \\u043d\\u0435 \\u043f\\u0435\\u0440\\u0435\\u043c\\u0435\\u0449\\u0430\\u0439 \\u0438 \\u043d\\u0435 \\u0443\\u0434\\u0430\\u043b\\u044f\\u0439 \\u043c\\u043e\\u0438 \\u043a\\u043e\\u043c\\u043c\\u0435\\u043d\\u0442\\u0430\\u0440\\u0438\\u0438, \\u0447\\u0442\\u043e\\u0431\\u044b \\u043f\\u043e\\u0432\\u0442\\u043e\\u0440\\u043d\\u044b\\u0435 \\u0440\\u0435\\u0432\\u044c\\u044e \\u043f\\u0440\\u043e\\u0445\\u043e\\u0434\\u0438\\u043b\\u0438 \\u043e\\u043f\\u0435\\u0440\\u0430\\u0442\\u0438\\u0432\\u043d\\u0435\\u0435.\"\n",
    "}\n",
    "```"
   ]
  },
  {
   "cell_type": "markdown",
   "metadata": {},
   "source": [
    "<div class=\"alert alert-success\">\n",
    "<b>Комментарий ревьюера v2 (ОК)</b> \n",
    "\n",
    "Тоже пока не соображу, что делать с этой ошибкой - будем разбираться!</div>"
   ]
  },
  {
   "cell_type": "markdown",
   "metadata": {
    "id": "sIfNaMOxgFyK"
   },
   "source": [
    "## Исследование данных о российском кинопрокате\n",
    "\n"
   ]
  },
  {
   "cell_type": "code",
   "execution_count": 860,
   "metadata": {},
   "outputs": [
    {
     "name": "stdout",
     "output_type": "stream",
     "text": [
      "jupyter core     : 4.7.1\n",
      "jupyter-notebook : 6.4.0\n",
      "qtconsole        : 5.3.2\n",
      "ipython          : 7.25.0\n",
      "ipykernel        : 6.0.1\n",
      "jupyter client   : 6.1.12\n",
      "jupyter lab      : 3.0.16\n",
      "nbconvert        : 6.0.7\n",
      "ipywidgets       : 7.6.3\n",
      "nbformat         : 5.1.3\n",
      "traitlets        : 5.0.5\n"
     ]
    }
   ],
   "source": [
    "!jupyter --version"
   ]
  },
  {
   "cell_type": "markdown",
   "metadata": {
    "id": "3bSlkCsbgFyL"
   },
   "source": [
    "### Шаг 1. Откройте файлы с данными и объедините их в один датафрейм. \n",
    "\n",
    "Объедините данные таким образом, чтобы все объекты из датасета `mkrf_movies` обязательно вошли в получившийся датафрейм. \n",
    "\n",
    "<div id=\"accordion\">\n",
    "    <div class=\"card\">\n",
    "        <div class=\"card-header\" id=\"headingThree\">\n",
    "            <button class=\"btn btn-link collapsed\" data-toggle=\"collapse\" data-target=\"#collapseHint_0\" aria-expanded=\"false\" aria-controls=\"collapseHint_0\">Подсказка</button>\n",
    "        </div>\n",
    "        <div id=\"collapseHint_0\" class=\"collapse\" aria-labelledby=\"headingThree\" data-parent=\"#accordion\">\n",
    "            <div class=\"card-body\">\n",
    "Обратите внимание на тип данных столбца, по которому будете соединять датафреймы. Тип данных этих столбцов должен быть одинаковым в обоих датафреймах.\n",
    "            </div>\n",
    "        </div>\n",
    "    </div>\n",
    "</div>"
   ]
  },
  {
   "cell_type": "code",
   "execution_count": 861,
   "metadata": {
    "id": "dw87FlzMgFyM"
   },
   "outputs": [],
   "source": [
    "import pandas as pd"
   ]
  },
  {
   "cell_type": "code",
   "execution_count": 862,
   "metadata": {},
   "outputs": [
    {
     "name": "stdout",
     "output_type": "stream",
     "text": [
      "<class 'pandas.core.frame.DataFrame'>\n",
      "RangeIndex: 7486 entries, 0 to 7485\n",
      "Data columns (total 15 columns):\n",
      " #   Column                 Non-Null Count  Dtype  \n",
      "---  ------                 --------------  -----  \n",
      " 0   title                  7486 non-null   object \n",
      " 1   puNumber               7486 non-null   object \n",
      " 2   show_start_date        7486 non-null   object \n",
      " 3   type                   7486 non-null   object \n",
      " 4   film_studio            7468 non-null   object \n",
      " 5   production_country     7484 non-null   object \n",
      " 6   director               7477 non-null   object \n",
      " 7   producer               6918 non-null   object \n",
      " 8   age_restriction        7486 non-null   object \n",
      " 9   refundable_support     332 non-null    float64\n",
      " 10  nonrefundable_support  332 non-null    float64\n",
      " 11  budget                 332 non-null    float64\n",
      " 12  financing_source       332 non-null    object \n",
      " 13  ratings                6519 non-null   object \n",
      " 14  genres                 6510 non-null   object \n",
      "dtypes: float64(3), object(12)\n",
      "memory usage: 877.4+ KB\n"
     ]
    },
    {
     "data": {
      "text/html": [
       "<div>\n",
       "<style scoped>\n",
       "    .dataframe tbody tr th:only-of-type {\n",
       "        vertical-align: middle;\n",
       "    }\n",
       "\n",
       "    .dataframe tbody tr th {\n",
       "        vertical-align: top;\n",
       "    }\n",
       "\n",
       "    .dataframe thead th {\n",
       "        text-align: right;\n",
       "    }\n",
       "</style>\n",
       "<table border=\"1\" class=\"dataframe\">\n",
       "  <thead>\n",
       "    <tr style=\"text-align: right;\">\n",
       "      <th></th>\n",
       "      <th>title</th>\n",
       "      <th>puNumber</th>\n",
       "      <th>show_start_date</th>\n",
       "      <th>type</th>\n",
       "      <th>film_studio</th>\n",
       "      <th>production_country</th>\n",
       "      <th>director</th>\n",
       "      <th>producer</th>\n",
       "      <th>age_restriction</th>\n",
       "      <th>refundable_support</th>\n",
       "      <th>nonrefundable_support</th>\n",
       "      <th>budget</th>\n",
       "      <th>financing_source</th>\n",
       "      <th>ratings</th>\n",
       "      <th>genres</th>\n",
       "    </tr>\n",
       "  </thead>\n",
       "  <tbody>\n",
       "    <tr>\n",
       "      <th>0</th>\n",
       "      <td>Открытый простор</td>\n",
       "      <td>221048915</td>\n",
       "      <td>2015-11-27T12:00:00.000Z</td>\n",
       "      <td>Художественный</td>\n",
       "      <td>Тачстоун Пикчерз, Кобальт Пикчерз, Бикон Пикче...</td>\n",
       "      <td>США</td>\n",
       "      <td>Кевин Костнер</td>\n",
       "      <td>Дэвид Валдес, Кевин Костнер, Джейк Эбертс</td>\n",
       "      <td>«18+» - запрещено для детей</td>\n",
       "      <td>NaN</td>\n",
       "      <td>NaN</td>\n",
       "      <td>NaN</td>\n",
       "      <td>NaN</td>\n",
       "      <td>7.2</td>\n",
       "      <td>боевик,драма,мелодрама</td>\n",
       "    </tr>\n",
       "    <tr>\n",
       "      <th>1</th>\n",
       "      <td>Особо важное задание</td>\n",
       "      <td>111013716</td>\n",
       "      <td>2016-09-13T12:00:00.000Z</td>\n",
       "      <td>Художественный</td>\n",
       "      <td>Киностудия \"Мосфильм\"</td>\n",
       "      <td>СССР</td>\n",
       "      <td>Е.Матвеев</td>\n",
       "      <td>NaN</td>\n",
       "      <td>«6+» - для детей старше 6 лет</td>\n",
       "      <td>NaN</td>\n",
       "      <td>NaN</td>\n",
       "      <td>NaN</td>\n",
       "      <td>NaN</td>\n",
       "      <td>6.6</td>\n",
       "      <td>драма,военный</td>\n",
       "    </tr>\n",
       "    <tr>\n",
       "      <th>2</th>\n",
       "      <td>Особо опасен</td>\n",
       "      <td>221038416</td>\n",
       "      <td>2016-10-10T12:00:00.000Z</td>\n",
       "      <td>Художественный</td>\n",
       "      <td>Юниверсал Пикчерз, Кикстарт Продакшнз, Марк Пл...</td>\n",
       "      <td>США</td>\n",
       "      <td>Тимур Бекмамбетов</td>\n",
       "      <td>Джим Лемли, Джейсон Нетер, Марк Е.Платт, Яйн Смит</td>\n",
       "      <td>«18+» - запрещено для детей</td>\n",
       "      <td>NaN</td>\n",
       "      <td>NaN</td>\n",
       "      <td>NaN</td>\n",
       "      <td>NaN</td>\n",
       "      <td>6.8</td>\n",
       "      <td>фантастика,боевик,триллер</td>\n",
       "    </tr>\n",
       "    <tr>\n",
       "      <th>3</th>\n",
       "      <td>Особо опасен</td>\n",
       "      <td>221026916</td>\n",
       "      <td>2016-06-10T12:00:00.000Z</td>\n",
       "      <td>Художественный</td>\n",
       "      <td>Юниверсал Пикчерз, Кикстарт Продакшнз, Марк Пл...</td>\n",
       "      <td>США</td>\n",
       "      <td>Тимур Бекмамбетов</td>\n",
       "      <td>Джим Лемли, Джейсон Нетер, Марк Е.Платт, Яйн Смит</td>\n",
       "      <td>«18+» - запрещено для детей</td>\n",
       "      <td>NaN</td>\n",
       "      <td>NaN</td>\n",
       "      <td>NaN</td>\n",
       "      <td>NaN</td>\n",
       "      <td>6.8</td>\n",
       "      <td>фантастика,боевик,триллер</td>\n",
       "    </tr>\n",
       "    <tr>\n",
       "      <th>4</th>\n",
       "      <td>Особо опасен</td>\n",
       "      <td>221030815</td>\n",
       "      <td>2015-07-29T12:00:00.000Z</td>\n",
       "      <td>Художественный</td>\n",
       "      <td>Юниверсал Пикчерз, Кикстарт Продакшнз, Марк Пл...</td>\n",
       "      <td>США</td>\n",
       "      <td>Тимур Бекмамбетов</td>\n",
       "      <td>Джим Лемли, Джейсон Нетер, Марк Е.Платт, Яйн Смит</td>\n",
       "      <td>«18+» - запрещено для детей</td>\n",
       "      <td>NaN</td>\n",
       "      <td>NaN</td>\n",
       "      <td>NaN</td>\n",
       "      <td>NaN</td>\n",
       "      <td>6.8</td>\n",
       "      <td>фантастика,боевик,триллер</td>\n",
       "    </tr>\n",
       "  </tbody>\n",
       "</table>\n",
       "</div>"
      ],
      "text/plain": [
       "                  title   puNumber           show_start_date            type  \\\n",
       "0      Открытый простор  221048915  2015-11-27T12:00:00.000Z  Художественный   \n",
       "1  Особо важное задание  111013716  2016-09-13T12:00:00.000Z  Художественный   \n",
       "2          Особо опасен  221038416  2016-10-10T12:00:00.000Z  Художественный   \n",
       "3          Особо опасен  221026916  2016-06-10T12:00:00.000Z  Художественный   \n",
       "4          Особо опасен  221030815  2015-07-29T12:00:00.000Z  Художественный   \n",
       "\n",
       "                                         film_studio production_country  \\\n",
       "0  Тачстоун Пикчерз, Кобальт Пикчерз, Бикон Пикче...                США   \n",
       "1                              Киностудия \"Мосфильм\"               СССР   \n",
       "2  Юниверсал Пикчерз, Кикстарт Продакшнз, Марк Пл...                США   \n",
       "3  Юниверсал Пикчерз, Кикстарт Продакшнз, Марк Пл...                США   \n",
       "4  Юниверсал Пикчерз, Кикстарт Продакшнз, Марк Пл...                США   \n",
       "\n",
       "            director                                           producer  \\\n",
       "0      Кевин Костнер          Дэвид Валдес, Кевин Костнер, Джейк Эбертс   \n",
       "1          Е.Матвеев                                                NaN   \n",
       "2  Тимур Бекмамбетов  Джим Лемли, Джейсон Нетер, Марк Е.Платт, Яйн Смит   \n",
       "3  Тимур Бекмамбетов  Джим Лемли, Джейсон Нетер, Марк Е.Платт, Яйн Смит   \n",
       "4  Тимур Бекмамбетов  Джим Лемли, Джейсон Нетер, Марк Е.Платт, Яйн Смит   \n",
       "\n",
       "                 age_restriction  refundable_support  nonrefundable_support  \\\n",
       "0    «18+» - запрещено для детей                 NaN                    NaN   \n",
       "1  «6+» - для детей старше 6 лет                 NaN                    NaN   \n",
       "2    «18+» - запрещено для детей                 NaN                    NaN   \n",
       "3    «18+» - запрещено для детей                 NaN                    NaN   \n",
       "4    «18+» - запрещено для детей                 NaN                    NaN   \n",
       "\n",
       "   budget financing_source ratings                     genres  \n",
       "0     NaN              NaN     7.2     боевик,драма,мелодрама  \n",
       "1     NaN              NaN     6.6              драма,военный  \n",
       "2     NaN              NaN     6.8  фантастика,боевик,триллер  \n",
       "3     NaN              NaN     6.8  фантастика,боевик,триллер  \n",
       "4     NaN              NaN     6.8  фантастика,боевик,триллер  "
      ]
     },
     "execution_count": 862,
     "metadata": {},
     "output_type": "execute_result"
    }
   ],
   "source": [
    "mkrf_movies = pd.read_csv('/datasets/mkrf_movies.csv')\n",
    "mkrf_movies.info()\n",
    "mkrf_movies.head()"
   ]
  },
  {
   "cell_type": "code",
   "execution_count": 863,
   "metadata": {
    "scrolled": false
   },
   "outputs": [
    {
     "name": "stdout",
     "output_type": "stream",
     "text": [
      "<class 'pandas.core.frame.DataFrame'>\n",
      "RangeIndex: 3158 entries, 0 to 3157\n",
      "Data columns (total 2 columns):\n",
      " #   Column      Non-Null Count  Dtype  \n",
      "---  ------      --------------  -----  \n",
      " 0   puNumber    3158 non-null   int64  \n",
      " 1   box_office  3158 non-null   float64\n",
      "dtypes: float64(1), int64(1)\n",
      "memory usage: 49.5 KB\n"
     ]
    },
    {
     "data": {
      "text/html": [
       "<div>\n",
       "<style scoped>\n",
       "    .dataframe tbody tr th:only-of-type {\n",
       "        vertical-align: middle;\n",
       "    }\n",
       "\n",
       "    .dataframe tbody tr th {\n",
       "        vertical-align: top;\n",
       "    }\n",
       "\n",
       "    .dataframe thead th {\n",
       "        text-align: right;\n",
       "    }\n",
       "</style>\n",
       "<table border=\"1\" class=\"dataframe\">\n",
       "  <thead>\n",
       "    <tr style=\"text-align: right;\">\n",
       "      <th></th>\n",
       "      <th>puNumber</th>\n",
       "      <th>box_office</th>\n",
       "    </tr>\n",
       "  </thead>\n",
       "  <tbody>\n",
       "    <tr>\n",
       "      <th>0</th>\n",
       "      <td>111000113</td>\n",
       "      <td>2.450000e+03</td>\n",
       "    </tr>\n",
       "    <tr>\n",
       "      <th>1</th>\n",
       "      <td>111000115</td>\n",
       "      <td>6.104000e+04</td>\n",
       "    </tr>\n",
       "    <tr>\n",
       "      <th>2</th>\n",
       "      <td>111000116</td>\n",
       "      <td>1.530300e+08</td>\n",
       "    </tr>\n",
       "    <tr>\n",
       "      <th>3</th>\n",
       "      <td>111000117</td>\n",
       "      <td>1.226096e+07</td>\n",
       "    </tr>\n",
       "    <tr>\n",
       "      <th>4</th>\n",
       "      <td>111000118</td>\n",
       "      <td>1.636841e+08</td>\n",
       "    </tr>\n",
       "  </tbody>\n",
       "</table>\n",
       "</div>"
      ],
      "text/plain": [
       "    puNumber    box_office\n",
       "0  111000113  2.450000e+03\n",
       "1  111000115  6.104000e+04\n",
       "2  111000116  1.530300e+08\n",
       "3  111000117  1.226096e+07\n",
       "4  111000118  1.636841e+08"
      ]
     },
     "execution_count": 863,
     "metadata": {},
     "output_type": "execute_result"
    }
   ],
   "source": [
    "mkrf_shows = pd.read_csv('/datasets/mkrf_shows.csv')\n",
    "mkrf_shows.info()\n",
    "mkrf_shows.head()"
   ]
  },
  {
   "cell_type": "code",
   "execution_count": 864,
   "metadata": {},
   "outputs": [
    {
     "data": {
      "text/plain": [
       "puNumber      24\n",
       "box_office    24\n",
       "dtype: int64"
      ]
     },
     "execution_count": 864,
     "metadata": {},
     "output_type": "execute_result"
    }
   ],
   "source": [
    "mkrf_shows.query('box_office == 0').count()"
   ]
  },
  {
   "cell_type": "markdown",
   "metadata": {},
   "source": [
    "Столбец ```puNumber``` будем использовать для объединения таблиц. Однако в таблице ```mkrf_movies``` данный столбец имеет тип ```object```, а в таблице ```mkrf_shows``` тип ```int64```. Поэтому необходимо преобразовать тип данного столбца в таблице ```mkrf_movies``` в ```int64```.  \n",
    "1. Проверим значения в столбце\n",
    "2. Избавимся от значений, которые невозможно преобразовать"
   ]
  },
  {
   "cell_type": "code",
   "execution_count": 865,
   "metadata": {},
   "outputs": [
    {
     "data": {
      "text/plain": [
       "array([' 111004112', '111000110', '111000111', ..., '231001012',\n",
       "       '231001111', 'нет'], dtype=object)"
      ]
     },
     "execution_count": 865,
     "metadata": {},
     "output_type": "execute_result"
    }
   ],
   "source": [
    "mkrf_movies.sort_values(by='puNumber')['puNumber'].unique()"
   ]
  },
  {
   "cell_type": "markdown",
   "metadata": {},
   "source": [
    "В столбце встречается значени \"нет\". Узнаем, сколько раз данной значение встречается в столбце."
   ]
  },
  {
   "cell_type": "code",
   "execution_count": 866,
   "metadata": {},
   "outputs": [
    {
     "data": {
      "text/plain": [
       "1"
      ]
     },
     "execution_count": 866,
     "metadata": {},
     "output_type": "execute_result"
    }
   ],
   "source": [
    "mkrf_movies.query('puNumber == \"нет\"')['puNumber'].count()"
   ]
  },
  {
   "cell_type": "markdown",
   "metadata": {},
   "source": [
    "Значение встречается только один раз. Чтобы не удалять строку, присвоим столбцу ```puNumber``` значение 1"
   ]
  },
  {
   "cell_type": "code",
   "execution_count": 867,
   "metadata": {},
   "outputs": [],
   "source": [
    "new_puNumber = 1\n",
    "mkrf_movies.loc[mkrf_movies['puNumber'] == 'нет', 'puNumber'] = new_puNumber"
   ]
  },
  {
   "cell_type": "code",
   "execution_count": 868,
   "metadata": {},
   "outputs": [],
   "source": [
    "mkrf_movies['puNumber'] = mkrf_movies['puNumber'].astype('int')"
   ]
  },
  {
   "cell_type": "code",
   "execution_count": 869,
   "metadata": {},
   "outputs": [
    {
     "name": "stdout",
     "output_type": "stream",
     "text": [
      "<class 'pandas.core.frame.DataFrame'>\n",
      "Int64Index: 7486 entries, 0 to 7485\n",
      "Data columns (total 16 columns):\n",
      " #   Column                 Non-Null Count  Dtype  \n",
      "---  ------                 --------------  -----  \n",
      " 0   title                  7486 non-null   object \n",
      " 1   puNumber               7486 non-null   int64  \n",
      " 2   show_start_date        7486 non-null   object \n",
      " 3   type                   7486 non-null   object \n",
      " 4   film_studio            7468 non-null   object \n",
      " 5   production_country     7484 non-null   object \n",
      " 6   director               7477 non-null   object \n",
      " 7   producer               6918 non-null   object \n",
      " 8   age_restriction        7486 non-null   object \n",
      " 9   refundable_support     332 non-null    float64\n",
      " 10  nonrefundable_support  332 non-null    float64\n",
      " 11  budget                 332 non-null    float64\n",
      " 12  financing_source       332 non-null    object \n",
      " 13  ratings                6519 non-null   object \n",
      " 14  genres                 6510 non-null   object \n",
      " 15  box_office             3158 non-null   float64\n",
      "dtypes: float64(4), int64(1), object(11)\n",
      "memory usage: 994.2+ KB\n"
     ]
    }
   ],
   "source": [
    "mkrf_movies = mkrf_movies.merge(mkrf_shows, on='puNumber', how='left')\n",
    "# Запомним изначальный размер датасета\n",
    "start_size_dataset = mkrf_movies.shape[0]\n",
    "mkrf_movies.info()"
   ]
  },
  {
   "cell_type": "markdown",
   "metadata": {},
   "source": [
    "Объединение двух таблиц записано в переменную ```mkrf_movies``` и будет использоваться для дальнейшей работы."
   ]
  },
  {
   "cell_type": "markdown",
   "metadata": {},
   "source": [
    "<div class=\"alert alert-success\">\n",
    "<b>Комментарий ревьюера (ОК)</b> \n",
    "\n",
    "Отлично, что при исследовании датафреймов были использованы методы __head()__ и __info()__, что в датафрейме __shows__ было обнаружено, что ключевая для объединения колонка __puNumber__ находится в формате *int*, а в __movies__ — в формате *object*, а также преобразован тип колонки __puNumber__. \n",
    "\n",
    "Объединение данных также прошло успешно! Отлично, что есть проверка на корректное выполнение процедуры без потери данных.\n",
    "</div>"
   ]
  },
  {
   "cell_type": "markdown",
   "metadata": {
    "id": "KLDGpPG0gFyM"
   },
   "source": [
    "### Шаг 2. Предобработка данных"
   ]
  },
  {
   "cell_type": "markdown",
   "metadata": {
    "id": "i0MOLbF-gFyP"
   },
   "source": [
    "#### Шаг 2.1. Изучите пропуски в датафрейме\n",
    "\n",
    "- Объясните, почему заполнили пропуски определённым образом или почему не стали этого делать."
   ]
  },
  {
   "cell_type": "markdown",
   "metadata": {},
   "source": [
    "По условия данные в столбце ```budget``` указаны только для тех фильмов, которые получили государственную поддержку. Следовательно, если значение в этом столбце пропущено, то фильм не получил государственную поддержку и значения в столбцах ```budget```, ```refundable_support```, ```nonrefundable_support``` можно заполнить 0. Также столбец ```financing_source``` можно заполнить значением ```not```, так как источника государственной поддержки нет."
   ]
  },
  {
   "cell_type": "code",
   "execution_count": 870,
   "metadata": {
    "id": "8MJD_lkngFyP"
   },
   "outputs": [],
   "source": [
    "mkrf_movies.loc[mkrf_movies['budget'].isna(), ['budget', 'refundable_support', 'nonrefundable_support']] = 0\n",
    "mkrf_movies.loc[mkrf_movies['financing_source'].isna(), 'financing_source'] = 'not'"
   ]
  },
  {
   "cell_type": "markdown",
   "metadata": {},
   "source": [
    "В столбцах ```film_studio```, ```production_country```, ```director```, ```producer``` есть малое количество пропусков. Искать информацию о каждом фильме не имеет смысла. Заполним пропуски значением ```unknown```  \n",
    "Информацию о пропусках в столбце с жанрами ```genres``` также заполним значением ```unknown```, так как искать достоверную информацию о каждом фильме не представляется возможным."
   ]
  },
  {
   "cell_type": "code",
   "execution_count": 871,
   "metadata": {
    "scrolled": true
   },
   "outputs": [],
   "source": [
    "columns = ['film_studio', 'production_country', 'director', 'producer', 'genres']\n",
    "for column in columns:\n",
    "    mkrf_movies.loc[mkrf_movies[column].isna(), column] = 'unknown'"
   ]
  },
  {
   "cell_type": "markdown",
   "metadata": {},
   "source": [
    "Если значение в столбце ```ratings``` (рейтинг фильма на Кинопоиске) пропущено, то вероятно этот фильм не был доступен в данном сервисе на момент создания датасета. Поэтому заполним пропуски 0. При заполнении стоит учитывать, что на данный момент столбец имеет строковый тип."
   ]
  },
  {
   "cell_type": "code",
   "execution_count": 872,
   "metadata": {},
   "outputs": [],
   "source": [
    "mkrf_movies.loc[mkrf_movies['ratings'].isna(), 'ratings'] = '0'"
   ]
  },
  {
   "cell_type": "markdown",
   "metadata": {},
   "source": [
    "Пропуски в столбце ```box_office``` могли возникнуть по одной из причин:\n",
    "1. Фильм не показывался в кинотеатре. Поэтому нет информации о его сборах\n",
    "2. Фильм показывался в кинотеатре, но информацию о его сборах не попала в датасет ```box_office```  \n",
    "  \n",
    "  Заполним пропуски в этом столбце -1. В дальнейшем мы сможем отфильтровать данные с значением `-1` в данном столбце"
   ]
  },
  {
   "cell_type": "code",
   "execution_count": 873,
   "metadata": {},
   "outputs": [],
   "source": [
    "mkrf_movies.loc[mkrf_movies['box_office'].isna(), 'box_office'] = -1"
   ]
  },
  {
   "cell_type": "markdown",
   "metadata": {},
   "source": [
    "Проверим информацию о датасете после заполнения пропусков. Можно заметить, что пропусков не осталось"
   ]
  },
  {
   "cell_type": "code",
   "execution_count": 874,
   "metadata": {},
   "outputs": [
    {
     "name": "stdout",
     "output_type": "stream",
     "text": [
      "<class 'pandas.core.frame.DataFrame'>\n",
      "Int64Index: 7486 entries, 0 to 7485\n",
      "Data columns (total 16 columns):\n",
      " #   Column                 Non-Null Count  Dtype  \n",
      "---  ------                 --------------  -----  \n",
      " 0   title                  7486 non-null   object \n",
      " 1   puNumber               7486 non-null   int64  \n",
      " 2   show_start_date        7486 non-null   object \n",
      " 3   type                   7486 non-null   object \n",
      " 4   film_studio            7486 non-null   object \n",
      " 5   production_country     7486 non-null   object \n",
      " 6   director               7486 non-null   object \n",
      " 7   producer               7486 non-null   object \n",
      " 8   age_restriction        7486 non-null   object \n",
      " 9   refundable_support     7486 non-null   float64\n",
      " 10  nonrefundable_support  7486 non-null   float64\n",
      " 11  budget                 7486 non-null   float64\n",
      " 12  financing_source       7486 non-null   object \n",
      " 13  ratings                7486 non-null   object \n",
      " 14  genres                 7486 non-null   object \n",
      " 15  box_office             7486 non-null   float64\n",
      "dtypes: float64(4), int64(1), object(11)\n",
      "memory usage: 994.2+ KB\n"
     ]
    }
   ],
   "source": [
    "mkrf_movies.info()"
   ]
  },
  {
   "cell_type": "markdown",
   "metadata": {
    "executionInfo": {
     "elapsed": 7,
     "status": "ok",
     "timestamp": 1681448905604,
     "user": {
      "displayName": "Alexander Kozachuk",
      "userId": "09061708775740707436"
     },
     "user_tz": -180
    },
    "id": "8NntfZLebtYq"
   },
   "source": [
    "<div class=\"alert alert-success\">\n",
    "<b>Комментарий ревьюера (ОК)</b> \n",
    "\n",
    "Здорово, что доработан столбец с рейтингами 👍 Также что касается обработки пропусков - согласна с результатами анализа!\n",
    "</div>"
   ]
  },
  {
   "cell_type": "markdown",
   "metadata": {
    "id": "52fOPrEBgFyQ"
   },
   "source": [
    "#### Шаг 2.2. Изучите категориальные значения\n",
    "\n",
    "- Посмотрите, какая общая проблема встречается почти во всех категориальных столбцах;\n",
    "- Исправьте проблемные значения в поле `type`.\n",
    "\n",
    "<div id=\"accordion\">\n",
    "    <div class=\"card\">\n",
    "        <div class=\"card-header\" id=\"headingThree\">\n",
    "            <button class=\"btn btn-link collapsed\" data-toggle=\"collapse\" data-target=\"#collapseHint_1\" aria-expanded=\"false\" aria-controls=\"collapseHint_1\">Подсказка</button>\n",
    "        </div>\n",
    "        <div id=\"collapseHint_1\" class=\"collapse\" aria-labelledby=\"headingThree\" data-parent=\"#accordion\">\n",
    "            <div class=\"card-body\">\n",
    "В поле <code>type</code> есть несколько значений, у которых появился пробел в начале строки. Самый простой способ их «починить» -- использовать метод <a href=\"https://pandas.pydata.org/docs/reference/api/pandas.Series.str.strip.html#pandas.Series.str.strip\">.str.strip</a>. Этот метод удаляет все пробелы, которые встречаются в начале и в конце строки. Применяют его таким образом:<br>\n",
    "<code>df['type'].str.strip()</code>\n",
    "            </div>\n",
    "        </div>\n",
    "    </div>\n",
    "</div>"
   ]
  },
  {
   "cell_type": "markdown",
   "metadata": {},
   "source": [
    "Перед поиском дубликатов в датасете проверим каждый строковый столбец на наличие неявных дубликатов"
   ]
  },
  {
   "cell_type": "code",
   "execution_count": 875,
   "metadata": {},
   "outputs": [
    {
     "data": {
      "text/plain": [
       "array(['Художественный', 'Анимационный', 'Прочие', 'Документальный',\n",
       "       'Научно-популярный', ' Художественный', ' Анимационный',\n",
       "       'Музыкально-развлекательный'], dtype=object)"
      ]
     },
     "execution_count": 875,
     "metadata": {},
     "output_type": "execute_result"
    }
   ],
   "source": [
    "mkrf_movies['type'].unique()"
   ]
  },
  {
   "cell_type": "markdown",
   "metadata": {},
   "source": [
    "Было обнаружино 2 неявных дубликата, связанные с появление ненужного пробела перед словом. Устраним их"
   ]
  },
  {
   "cell_type": "code",
   "execution_count": 876,
   "metadata": {},
   "outputs": [],
   "source": [
    "mkrf_movies['type'] = mkrf_movies['type'].str.replace(' ', '')"
   ]
  },
  {
   "cell_type": "markdown",
   "metadata": {},
   "source": [
    "Столбцы `title`, `film_studio`, `producer`, `director`, `genres`, `production_country` имеют ряд общих проблем:  \n",
    "1. Присутствуют лишние пробелы (как между слов, так и в начале и конце строки)\n",
    "2. Где-то используется `е`, а где-то `ё`\n",
    "3. Для написания используется разный регистр  \n",
    "Выполним преобразования строк, чтобы избавиться от этих проблем"
   ]
  },
  {
   "cell_type": "code",
   "execution_count": 877,
   "metadata": {
    "id": "PnXKIVdFgFyR"
   },
   "outputs": [],
   "source": [
    "clean_columns = ['title', 'film_studio', 'producer', 'director', 'genres', 'production_country']\n",
    "for column in clean_columns:\n",
    "    mkrf_movies[column] = mkrf_movies[column].str.lower()\n",
    "    mkrf_movies[column] = mkrf_movies[column].str.replace('ё', 'е')\n",
    "    mkrf_movies[column] = mkrf_movies[column].str.strip()\n",
    "    mkrf_movies[column] = mkrf_movies[column].str.replace('  ', ' ')"
   ]
  },
  {
   "cell_type": "markdown",
   "metadata": {},
   "source": [
    "Столбец `production_country` так же имеет следующую проблему: где-то между странами используется `-`, а где-то `,`. Заменим все `-` на `,`"
   ]
  },
  {
   "cell_type": "code",
   "execution_count": 878,
   "metadata": {},
   "outputs": [],
   "source": [
    "mkrf_movies['production_country'] = mkrf_movies['production_country'].str.replace(' ', '')\n",
    "mkrf_movies['production_country'] = mkrf_movies['production_country'].str.replace('-', ',')"
   ]
  },
  {
   "cell_type": "markdown",
   "metadata": {},
   "source": [
    "Столбец `film_studio` так же имеет следующую проблему: где-то между студиями используется `;`, а где-то `,`. Заменим все `;` на `,`"
   ]
  },
  {
   "cell_type": "code",
   "execution_count": 879,
   "metadata": {},
   "outputs": [],
   "source": [
    "mkrf_movies['film_studio'] = mkrf_movies['film_studio'].str.replace(';', ',')"
   ]
  },
  {
   "cell_type": "markdown",
   "metadata": {},
   "source": [
    "<div class=\"alert alert-block alert-info\">\n",
    "    Многие категориальные данные содержат в себе перечень категорий. Обычно главная категория указана первой. Для проведения дальнейшего анализа оставим только главную категорию.\n",
    "</div>"
   ]
  },
  {
   "cell_type": "code",
   "execution_count": 880,
   "metadata": {},
   "outputs": [],
   "source": [
    "def get_main_category(string):\n",
    "    return string.split(',')[0].strip()"
   ]
  },
  {
   "cell_type": "code",
   "execution_count": 881,
   "metadata": {},
   "outputs": [],
   "source": [
    "category_columns = ['director', 'genres', 'film_studio', 'production_country', 'producer']\n",
    "for column in category_columns:\n",
    "    mkrf_movies[column] = mkrf_movies[column].apply(get_main_category)"
   ]
  },
  {
   "cell_type": "markdown",
   "metadata": {},
   "source": [
    "<div class=\"alert alert-block alert-info\">\n",
    "    Добавил свои предположения по поводу общей проблемы - выделение главной категории. Добавил код, который будет выделять главную категорию\n",
    "</div>"
   ]
  },
  {
   "cell_type": "markdown",
   "metadata": {},
   "source": [
    "<div class=\"alert alert-danger\">\n",
    "<b>Комментарий ревьюера (необходимо исправить)</b>\n",
    "\n",
    "Отлично, рассмотрены столбцы с категориальными значениями, удалены пробелы из столбца с типами фильмов и доработаны знаки препинания. Однако, необходимо назвать общую проблему практически всех категориальных столбцов здесь (например, значения из genres должны навести на мысль).\n",
    "</div>"
   ]
  },
  {
   "cell_type": "markdown",
   "metadata": {},
   "source": [
    "<div class=\"alert alert-success\">\n",
    "<b>Комментарий ревьюера v2 (ОК)</b> \n",
    "\n",
    "Да, действительно в значениях этих столбцов присутствуют перечисления, которые значенительно увеличивают число уникальных значений в столбцах. Один из вариантов - действительно оставить только первое значение как главное.</div>"
   ]
  },
  {
   "cell_type": "markdown",
   "metadata": {
    "id": "XFSN5lrEgFyR"
   },
   "source": [
    "#### Шаг 2.3. Проверьте количественные значения\n",
    "\n",
    "- Проверьте, обнаружились ли в таких столбцах подозрительные данные. Как с такими данными лучше поступить?\n",
    "\n",
    "<div id=\"accordion\">\n",
    "    <div class=\"card\">\n",
    "        <div class=\"card-header\" id=\"headingThree\">\n",
    "            <button class=\"btn btn-link collapsed\" data-toggle=\"collapse\" data-target=\"#collapseHint_budget\" aria-expanded=\"false\" aria-controls=\"collapseHint_budget\">Подсказка</button>\n",
    "        </div>\n",
    "        <div id=\"collapseHint_budget\" class=\"collapse\" aria-labelledby=\"headingThree\" data-parent=\"#accordion\">\n",
    "            <div class=\"card-body\">\n",
    "Обратите внимание на описание столбца <code>budget</code>. Как этот столбец соотносится с двумя другими: <code>refundable_support</code> и <code>nonrefundable_support</code>?\n",
    "            </div>\n",
    "        </div>\n",
    "    </div>\n",
    "</div>"
   ]
  },
  {
   "cell_type": "markdown",
   "metadata": {},
   "source": [
    "С учетом описания столбца `budget` его значение должно быть не меньше суммы значений столбцов `refundable_support` и `nonrefundable_support`. Однако в датасете содержатся строки, которые противоречат этому. Для исправления этой ситуации рассчитаем мелианную долю государственной поддержки для каждого года в датасете. Используя эти данные и значения в столбцах `refundable_support`, `nonrefundable_support` исправим нулевые значения в столбце `budget`"
   ]
  },
  {
   "cell_type": "code",
   "execution_count": 882,
   "metadata": {},
   "outputs": [],
   "source": [
    "def get_percent_support(row):\n",
    "    if row['budget'] != 0:\n",
    "        return round((row['refundable_support']\n",
    "                      + row['nonrefundable_support'])\n",
    "                     / row['budget'], 2)\n",
    "    return 0"
   ]
  },
  {
   "cell_type": "code",
   "execution_count": 883,
   "metadata": {},
   "outputs": [
    {
     "data": {
      "text/plain": [
       "0.59"
      ]
     },
     "execution_count": 883,
     "metadata": {},
     "output_type": "execute_result"
    }
   ],
   "source": [
    "mkrf_movies['percent_support'] = mkrf_movies.apply(get_percent_support, axis=1)\n",
    "median_percent_support = mkrf_movies.query('budget != 0')['percent_support'].median()\n",
    "median_percent_support"
   ]
  },
  {
   "cell_type": "code",
   "execution_count": 884,
   "metadata": {},
   "outputs": [],
   "source": [
    "invalid_budget = mkrf_movies['budget'] < (mkrf_movies['refundable_support'] + mkrf_movies['nonrefundable_support'])\n",
    "mkrf_movies.loc[invalid_budget, 'budget'] = ((mkrf_movies.loc[invalid_budget, 'refundable_support']\n",
    "                                              + mkrf_movies.loc[invalid_budget, 'nonrefundable_support'])\n",
    "                                              / median_percent_support)"
   ]
  },
  {
   "cell_type": "markdown",
   "metadata": {},
   "source": [
    "<div class=\"alert alert-block alert-info\">\n",
    "    Изучим аномальные значения в числовых столбцах\n",
    "</div>"
   ]
  },
  {
   "cell_type": "code",
   "execution_count": 885,
   "metadata": {},
   "outputs": [
    {
     "data": {
      "text/plain": [
       "array([0.00000000e+00, 1.01694915e+07, 1.44624640e+07, 1.50100000e+07,\n",
       "       1.81664180e+07, 1.87060800e+07, 2.70000000e+07, 2.81155800e+07,\n",
       "       2.85714290e+07, 3.00000000e+07, 3.04489110e+07, 3.08000000e+07,\n",
       "       3.13053130e+07, 3.30000000e+07, 3.38983051e+07, 3.50000000e+07,\n",
       "       3.52969500e+07, 3.57142860e+07, 3.57600600e+07, 3.60162690e+07,\n",
       "       3.62595000e+07, 3.70009900e+07, 3.71428570e+07, 3.73712620e+07,\n",
       "       3.74247960e+07, 3.75000000e+07, 3.76000000e+07, 3.77442800e+07,\n",
       "       3.77656540e+07, 3.78491030e+07, 3.78787870e+07, 3.78891650e+07,\n",
       "       3.79436520e+07, 3.80000000e+07, 3.84400000e+07, 3.84615380e+07,\n",
       "       3.84667000e+07, 3.84768690e+07, 3.85000000e+07, 3.88582600e+07,\n",
       "       3.89830508e+07, 3.90000000e+07, 3.90579710e+07, 3.91292890e+07,\n",
       "       3.97000000e+07, 3.99900000e+07, 4.00000000e+07, 4.00151220e+07,\n",
       "       4.02650000e+07, 4.02877700e+07, 4.05000000e+07, 4.05741400e+07,\n",
       "       4.06008000e+07, 4.10000000e+07, 4.14978600e+07, 4.19989840e+07,\n",
       "       4.20000000e+07, 4.22525090e+07, 4.28600000e+07, 4.30000000e+07,\n",
       "       4.42865840e+07, 4.46000000e+07, 4.50066090e+07, 4.50450500e+07,\n",
       "       4.50500000e+07, 4.50745470e+07, 4.54832330e+07, 4.55386550e+07,\n",
       "       4.61538460e+07, 4.61538870e+07, 4.61540000e+07, 4.61600000e+07,\n",
       "       4.61954270e+07, 4.62000000e+07, 4.63000000e+07, 4.66573110e+07,\n",
       "       4.69237760e+07, 4.69411400e+07, 4.69688830e+07, 4.72000000e+07,\n",
       "       4.73280000e+07, 4.77340500e+07, 4.80000000e+07, 4.82380750e+07,\n",
       "       4.85714300e+07, 4.86611500e+07, 4.86808580e+07, 4.90714280e+07,\n",
       "       4.92804960e+07, 5.00000000e+07, 5.02187410e+07, 5.11967110e+07,\n",
       "       5.18500000e+07, 5.21246380e+07, 5.28600000e+07, 5.38462000e+07,\n",
       "       5.40000000e+07, 5.42096570e+07, 5.43032220e+07, 5.46875000e+07,\n",
       "       5.50000000e+07, 5.51950000e+07, 5.54049630e+07, 5.57294240e+07,\n",
       "       5.66935590e+07, 5.69095200e+07, 5.71667970e+07, 5.77670810e+07,\n",
       "       5.78743750e+07, 5.78760000e+07, 5.80784510e+07, 5.84473010e+07,\n",
       "       5.93220339e+07, 5.95607460e+07, 5.99374700e+07, 6.00000000e+07,\n",
       "       6.01503760e+07, 6.03735760e+07, 6.06685760e+07, 6.10000000e+07,\n",
       "       6.10114070e+07, 6.10700000e+07, 6.15714490e+07, 6.20000000e+07,\n",
       "       6.20446460e+07, 6.24157490e+07, 6.30000000e+07, 6.31700000e+07,\n",
       "       6.40300800e+07, 6.47929130e+07, 6.50000000e+07, 6.77966102e+07,\n",
       "       6.79427180e+07, 6.82942000e+07, 6.84906060e+07, 6.88092260e+07,\n",
       "       6.94287280e+07, 6.98830490e+07, 7.00000000e+07, 7.00864390e+07,\n",
       "       7.03050000e+07, 7.08761720e+07, 7.15176310e+07, 7.33795540e+07,\n",
       "       7.40719180e+07, 7.42751000e+07, 7.49100000e+07, 7.50000000e+07,\n",
       "       7.50001350e+07, 7.59409410e+07, 7.62711864e+07, 7.69130580e+07,\n",
       "       7.70000000e+07, 7.74017510e+07, 7.80963150e+07, 7.83551540e+07,\n",
       "       7.84222120e+07, 7.86865000e+07, 7.94119000e+07, 8.00000000e+07,\n",
       "       8.02732770e+07, 8.03241370e+07, 8.16124110e+07, 8.24968890e+07,\n",
       "       8.28004880e+07, 8.35534120e+07, 8.46670380e+07, 8.53840000e+07,\n",
       "       8.62100670e+07, 8.62363940e+07, 8.76491270e+07, 8.97823120e+07,\n",
       "       9.00000000e+07, 9.01200000e+07, 9.02767740e+07, 9.02780630e+07,\n",
       "       9.08227660e+07, 9.10000000e+07, 9.25000000e+07, 9.30000000e+07,\n",
       "       9.50000000e+07, 9.50655460e+07, 1.00000000e+08, 1.00274436e+08,\n",
       "       1.01463696e+08, 1.01659240e+08, 1.01694915e+08, 1.02760000e+08,\n",
       "       1.05445546e+08, 1.05721524e+08, 1.08518988e+08, 1.09020947e+08,\n",
       "       1.09609029e+08, 1.09814241e+08, 1.10000000e+08, 1.10464061e+08,\n",
       "       1.11736163e+08, 1.11812387e+08, 1.12000000e+08, 1.13837339e+08,\n",
       "       1.14510306e+08, 1.15000000e+08, 1.18000000e+08, 1.18644068e+08,\n",
       "       1.20000000e+08, 1.23714264e+08, 1.26932894e+08, 1.27118644e+08,\n",
       "       1.28570000e+08, 1.30000000e+08, 1.30619336e+08, 1.31000000e+08,\n",
       "       1.34000000e+08, 1.35593220e+08, 1.36230333e+08, 1.38325738e+08,\n",
       "       1.39357211e+08, 1.39551503e+08, 1.40005238e+08, 1.40025000e+08,\n",
       "       1.47866278e+08, 1.48585222e+08, 1.50000000e+08, 1.50008573e+08,\n",
       "       1.50147502e+08, 1.54245687e+08, 1.54989700e+08, 1.56360666e+08,\n",
       "       1.57236080e+08, 1.60000000e+08, 1.62630398e+08, 1.64780000e+08,\n",
       "       1.65222908e+08, 1.68271268e+08, 1.69000000e+08, 1.70122675e+08,\n",
       "       1.72763618e+08, 1.74381922e+08, 1.74464395e+08, 1.76023490e+08,\n",
       "       1.79257987e+08, 1.79708770e+08, 1.80000000e+08, 1.81302726e+08,\n",
       "       1.82659393e+08, 1.85500705e+08, 1.90000000e+08, 2.00067392e+08,\n",
       "       2.02484224e+08, 2.04400968e+08, 2.04674000e+08, 2.06982031e+08,\n",
       "       2.10405981e+08, 2.11810247e+08, 2.15162287e+08, 2.15860000e+08,\n",
       "       2.19398491e+08, 2.20588394e+08, 2.22177790e+08, 2.22513841e+08,\n",
       "       2.26271533e+08, 2.35541466e+08, 2.40041307e+08, 2.40153900e+08,\n",
       "       2.43122945e+08, 2.50000000e+08, 2.52489571e+08, 2.64578774e+08,\n",
       "       2.67288892e+08, 2.70000000e+08, 2.71186441e+08, 2.87802711e+08,\n",
       "       2.92412422e+08, 2.98500000e+08, 3.00000000e+08, 3.05084746e+08,\n",
       "       3.20000000e+08, 3.23232109e+08, 3.35567667e+08, 3.44905389e+08,\n",
       "       3.52477575e+08, 3.56550000e+08, 3.60000000e+08, 3.60054850e+08,\n",
       "       3.85000000e+08, 3.90191139e+08, 3.99075326e+08, 4.23728814e+08,\n",
       "       4.30000000e+08, 4.36437176e+08, 4.53704666e+08, 4.93733957e+08,\n",
       "       4.99826569e+08, 5.00000000e+08, 5.00012729e+08, 5.28441977e+08,\n",
       "       5.63784717e+08, 5.90192191e+08, 6.35283867e+08, 6.84200536e+08,\n",
       "       7.79941965e+08, 9.44000000e+08, 9.80000000e+08, 1.03290596e+09,\n",
       "       2.30507430e+09])"
      ]
     },
     "execution_count": 885,
     "metadata": {},
     "output_type": "execute_result"
    }
   ],
   "source": [
    "mkrf_movies['budget'].sort_values().unique()"
   ]
  },
  {
   "cell_type": "markdown",
   "metadata": {},
   "source": [
    "Наиболее выделяются последние 2 значения, которые больше 1 млрд. Изучим эти строки"
   ]
  },
  {
   "cell_type": "code",
   "execution_count": 886,
   "metadata": {
    "scrolled": true
   },
   "outputs": [
    {
     "data": {
      "text/html": [
       "<div>\n",
       "<style scoped>\n",
       "    .dataframe tbody tr th:only-of-type {\n",
       "        vertical-align: middle;\n",
       "    }\n",
       "\n",
       "    .dataframe tbody tr th {\n",
       "        vertical-align: top;\n",
       "    }\n",
       "\n",
       "    .dataframe thead th {\n",
       "        text-align: right;\n",
       "    }\n",
       "</style>\n",
       "<table border=\"1\" class=\"dataframe\">\n",
       "  <thead>\n",
       "    <tr style=\"text-align: right;\">\n",
       "      <th></th>\n",
       "      <th>title</th>\n",
       "      <th>puNumber</th>\n",
       "      <th>show_start_date</th>\n",
       "      <th>type</th>\n",
       "      <th>film_studio</th>\n",
       "      <th>production_country</th>\n",
       "      <th>director</th>\n",
       "      <th>producer</th>\n",
       "      <th>age_restriction</th>\n",
       "      <th>refundable_support</th>\n",
       "      <th>nonrefundable_support</th>\n",
       "      <th>budget</th>\n",
       "      <th>financing_source</th>\n",
       "      <th>ratings</th>\n",
       "      <th>genres</th>\n",
       "      <th>box_office</th>\n",
       "      <th>percent_support</th>\n",
       "    </tr>\n",
       "  </thead>\n",
       "  <tbody>\n",
       "    <tr>\n",
       "      <th>5437</th>\n",
       "      <td>матильда</td>\n",
       "      <td>111005717</td>\n",
       "      <td>2017-08-17T12:00:00.000Z</td>\n",
       "      <td>Художественный</td>\n",
       "      <td>ооо \"тпо \"рок\"</td>\n",
       "      <td>россия</td>\n",
       "      <td>а.учитель</td>\n",
       "      <td>а.учитель</td>\n",
       "      <td>«16+» - для детей старше 16 лет</td>\n",
       "      <td>110000000.0</td>\n",
       "      <td>190000000.0</td>\n",
       "      <td>1.032906e+09</td>\n",
       "      <td>Фонд кино</td>\n",
       "      <td>7.7</td>\n",
       "      <td>фэнтези</td>\n",
       "      <td>5.117755e+08</td>\n",
       "      <td>0.29</td>\n",
       "    </tr>\n",
       "    <tr>\n",
       "      <th>7114</th>\n",
       "      <td>тайна печати дракона</td>\n",
       "      <td>111012819</td>\n",
       "      <td>2019-09-12T12:00:00.000Z</td>\n",
       "      <td>Художественный</td>\n",
       "      <td>ооо \"кинокомпания \"ств\"</td>\n",
       "      <td>россия</td>\n",
       "      <td>о.степченко</td>\n",
       "      <td>с.сельянов</td>\n",
       "      <td>«6+» - для детей старше 6 лет</td>\n",
       "      <td>180000000.0</td>\n",
       "      <td>90000000.0</td>\n",
       "      <td>2.305074e+09</td>\n",
       "      <td>Фонд кино</td>\n",
       "      <td>5.8</td>\n",
       "      <td>приключения</td>\n",
       "      <td>3.335971e+08</td>\n",
       "      <td>0.12</td>\n",
       "    </tr>\n",
       "  </tbody>\n",
       "</table>\n",
       "</div>"
      ],
      "text/plain": [
       "                     title   puNumber           show_start_date  \\\n",
       "5437              матильда  111005717  2017-08-17T12:00:00.000Z   \n",
       "7114  тайна печати дракона  111012819  2019-09-12T12:00:00.000Z   \n",
       "\n",
       "                type              film_studio production_country     director  \\\n",
       "5437  Художественный           ооо \"тпо \"рок\"             россия    а.учитель   \n",
       "7114  Художественный  ооо \"кинокомпания \"ств\"             россия  о.степченко   \n",
       "\n",
       "        producer                  age_restriction  refundable_support  \\\n",
       "5437   а.учитель  «16+» - для детей старше 16 лет         110000000.0   \n",
       "7114  с.сельянов    «6+» - для детей старше 6 лет         180000000.0   \n",
       "\n",
       "      nonrefundable_support        budget financing_source ratings  \\\n",
       "5437            190000000.0  1.032906e+09        Фонд кино     7.7   \n",
       "7114             90000000.0  2.305074e+09        Фонд кино     5.8   \n",
       "\n",
       "           genres    box_office  percent_support  \n",
       "5437      фэнтези  5.117755e+08             0.29  \n",
       "7114  приключения  3.335971e+08             0.12  "
      ]
     },
     "execution_count": 886,
     "metadata": {},
     "output_type": "execute_result"
    }
   ],
   "source": [
    "mkrf_movies.query('budget > 1000000000')"
   ]
  },
  {
   "cell_type": "markdown",
   "metadata": {},
   "source": [
    "В первой строке значение `budget` не выглядит подозрительно, так как сумма гос поддержки составляет 300 млн. А вот бюджет в 2.3 млрд при гос.поддержке 270 млн выглядит аномально. Удалим это значение"
   ]
  },
  {
   "cell_type": "code",
   "execution_count": 887,
   "metadata": {},
   "outputs": [],
   "source": [
    "mkrf_movies = mkrf_movies.query('budget < 2000000000')"
   ]
  },
  {
   "cell_type": "code",
   "execution_count": 888,
   "metadata": {},
   "outputs": [
    {
     "data": {
      "text/plain": [
       "array([0.000000e+00, 5.000000e+07, 2.600000e+07, 3.000000e+07,\n",
       "       1.500000e+07, 1.000000e+07, 2.000000e+07, 7.153119e+06,\n",
       "       2.500000e+07, 4.000000e+07, 6.000000e+07, 4.400000e+07,\n",
       "       2.900000e+07, 4.100000e+07, 3.600000e+07, 3.500000e+06,\n",
       "       5.000000e+06, 1.900000e+07, 9.000000e+06, 1.100000e+08,\n",
       "       1.700000e+07, 7.500000e+07, 1.500000e+08, 3.800000e+07,\n",
       "       1.000000e+08, 5.500000e+07, 7.000000e+06, 7.346881e+06,\n",
       "       8.000000e+06, 1.150000e+08, 3.500000e+07, 2.800000e+07,\n",
       "       8.000000e+07])"
      ]
     },
     "execution_count": 888,
     "metadata": {},
     "output_type": "execute_result"
    }
   ],
   "source": [
    "#mkrf_movies.query('refundable_support')\n",
    "mkrf_movies['refundable_support'].unique()"
   ]
  },
  {
   "cell_type": "code",
   "execution_count": 889,
   "metadata": {},
   "outputs": [
    {
     "data": {
      "text/plain": [
       "array([0.00000000e+00, 2.65000000e+07, 2.60000000e+07, 1.07847945e+08,\n",
       "       2.80000000e+07, 2.50000000e+07, 1.00000000e+08, 4.65022990e+07,\n",
       "       7.50000000e+07, 3.40000000e+07, 3.00000000e+07, 4.00000000e+07,\n",
       "       2.30000000e+07, 4.50000000e+07, 5.65790550e+07, 2.55000000e+07,\n",
       "       2.75100000e+07, 1.00000000e+07, 2.40000000e+07, 2.45000000e+07,\n",
       "       2.70000000e+07, 5.00000000e+06, 9.00000000e+07, 2.00000000e+07,\n",
       "       7.00000000e+07, 9.70000000e+07, 2.44500000e+07, 5.00000000e+07,\n",
       "       6.00000000e+07, 2.75000000e+07, 2.69500000e+07, 1.10000000e+08,\n",
       "       1.50000000e+07, 5.90000000e+07, 2.50000000e+08, 3.70000000e+07,\n",
       "       3.50000000e+07, 2.01452850e+07, 2.59000000e+07, 6.00000000e+06,\n",
       "       3.92104482e+08, 2.52000000e+07, 2.29040000e+07, 2.90000000e+07,\n",
       "       5.10000000e+07, 4.70000000e+06, 5.30000000e+06, 2.17000000e+07,\n",
       "       2.49860000e+07, 2.53450000e+07, 1.33000000e+08, 1.75000000e+08,\n",
       "       3.01239150e+07, 2.85000000e+07, 3.00000000e+08, 4.15000000e+07,\n",
       "       2.00000000e+08, 1.50000000e+08, 5.50000000e+07, 6.40000000e+07,\n",
       "       5.00008660e+07, 1.15200000e+07, 1.90000000e+08, 2.25000000e+08,\n",
       "       8.00000000e+06, 4.00000000e+08, 2.60000000e+08, 3.10000000e+07,\n",
       "       8.50000000e+07, 8.00000000e+07, 1.38969465e+08, 1.20000000e+08,\n",
       "       1.30000000e+08, 1.40000000e+08, 3.00000000e+06])"
      ]
     },
     "execution_count": 889,
     "metadata": {},
     "output_type": "execute_result"
    }
   ],
   "source": [
    "mkrf_movies['nonrefundable_support'].unique()"
   ]
  },
  {
   "cell_type": "markdown",
   "metadata": {},
   "source": [
    "В столбцах `refundable_support` и `nonrefundable_support` аномальных значений не выявлено"
   ]
  },
  {
   "cell_type": "code",
   "execution_count": 890,
   "metadata": {},
   "outputs": [
    {
     "data": {
      "text/plain": [
       "array([   0.,   40.,   50.,   75.,   80.,  100.,  115.,  120.,  125.,\n",
       "        130.,  135.,  140.,  150.,  165.,  170.,  180.,  190.,  200.,\n",
       "        210.,  225.,  235.,  240.,  250.,  260.,  295.,  300.,  330.,\n",
       "        340.,  350.,  360.,  370.,  380.,  400.,  405.,  420.,  425.,\n",
       "        450.,  460.,  465.,  480.,  490.,  500.,  520.,  540.,  550.,\n",
       "        560.,  580.,  585.,  600.,  620.,  635.,  650.,  660.,  680.,\n",
       "        690.,  700.,  710.,  720.,  735.,  740.,  750.,  760.,  765.,\n",
       "        775.,  780.,  785.,  800.,  830.,  850.,  860.,  865.,  880.,\n",
       "        895.,  900.,  930.,  940.,  950.,  960.,  975.,  980., 1000.,\n",
       "       1010., 1020., 1030., 1040., 1045., 1050., 1070., 1075., 1090.,\n",
       "       1100., 1110., 1140., 1149., 1150., 1165., 1188., 1190., 1200.,\n",
       "       1230.])"
      ]
     },
     "execution_count": 890,
     "metadata": {},
     "output_type": "execute_result"
    }
   ],
   "source": [
    "mkrf_movies.query('-1 < box_office')['box_office'].sort_values().unique()[:100]"
   ]
  },
  {
   "cell_type": "markdown",
   "metadata": {},
   "source": [
    "Значения меньше 10000 выглядят аномально для кассовых сборов. Удалим эти значения"
   ]
  },
  {
   "cell_type": "code",
   "execution_count": 891,
   "metadata": {},
   "outputs": [],
   "source": [
    "mkrf_movies = mkrf_movies.query('box_office > 10000 or box_office < 0')"
   ]
  },
  {
   "cell_type": "markdown",
   "metadata": {},
   "source": [
    "<div class=\"alert alert-block alert-info\">\n",
    "    Добавил анализ аномальных значений\n",
    "</div>"
   ]
  },
  {
   "cell_type": "markdown",
   "metadata": {},
   "source": [
    "<div class=\"alert alert-danger\">\n",
    "<b>Комментарий ревьюера (необходимо исправить)</b>\n",
    "\n",
    "Отлично, рассмотрены все столбцы с количественными столбцами, выделены основные проблемы данных столбцов и проведено заполнение столбца с бюджетом. Однако стоит добавить анализ аномальных значений - давай восстановим этот этап.\n",
    "</div>"
   ]
  },
  {
   "cell_type": "markdown",
   "metadata": {},
   "source": [
    "<div class=\"alert alert-warning\">\n",
    "<b>Комментарий ревьюера v2 (можно лучше)</b> \n",
    "\n",
    "Молодец, что добавил этот этап. Однако, перед удалением всегда нужно проверять, какую долю от общего числа значений составляют аномалии. Также аномалии хорошо прослеживаются на даиграммах размаха.</div>"
   ]
  },
  {
   "cell_type": "markdown",
   "metadata": {},
   "source": [
    "#### Шаг 2.4. Проверьте типы данных\n",
    "\n",
    "- Проверьте типы данных в датафрейме и преобразуйте их там, где это необходимо."
   ]
  },
  {
   "cell_type": "markdown",
   "metadata": {},
   "source": [
    "Перед преобразованием типа в столбце ```ratings``` необходимо привести рейтинг к одному виду. Посмторим на уникальные значения в столбце"
   ]
  },
  {
   "cell_type": "code",
   "execution_count": 892,
   "metadata": {
    "scrolled": true
   },
   "outputs": [
    {
     "data": {
      "text/plain": [
       "array(['7.2', '6.6', '6.8', '7.7', '8.0', '7.8', '8.1', '7.1', '6.0',\n",
       "       '8.3', '7.4', '5.8', '6.3', '6.9', '5.0', '4.3', '7.3', '7.0',\n",
       "       '6.4', '0', '8.2', '7.5', '6.7', '7.9', '5.9', '5.6', '6.5', '6.2',\n",
       "       '2.4', '7.6', '8.6', '6.1', '5.5', '5.1', '5.7', '5.4', '99%',\n",
       "       '4.4', '4.5', '5.3', '4.1', '8.4', '2.6', '8.8', '3.8', '4.8',\n",
       "       '4.0', '8.5', '4.2', '5.2', '4.7', '4.9', '3.9', '3.3', '2.9',\n",
       "       '2.7', '4.6', '3.7', '1.4', '3.1', '97%', '3.5', '1.5', '2.1',\n",
       "       '8.7', '2.8', '2.5', '9.2', '1.6', '1.1', '3.6', '83%', '64%',\n",
       "       '94%', '3.4', '62%', '79%', '3.2', '90%', '19%', '88%', '3.0',\n",
       "       '91%', '1.0', '89%', '1.3', '1.9', '1.8', '1.2', '1.7', '9.0',\n",
       "       '98%', '8.9', '9.1'], dtype=object)"
      ]
     },
     "execution_count": 892,
     "metadata": {},
     "output_type": "execute_result"
    }
   ],
   "source": [
    "mkrf_movies['ratings'].unique()"
   ]
  },
  {
   "cell_type": "markdown",
   "metadata": {},
   "source": [
    "Необходимо исправить значения, где присутствует знак ```%``` и представить рейтинг в формате десятичного числа со значеним от 1 до 10. Для этого напишем функцию и применим ее ко всем значениям столбца"
   ]
  },
  {
   "cell_type": "code",
   "execution_count": 893,
   "metadata": {},
   "outputs": [],
   "source": [
    "def get_correct_rating(rating):\n",
    "    if rating[-1] == '%':\n",
    "        return str(int(rating[0:-1]) / 10)\n",
    "    return rating"
   ]
  },
  {
   "cell_type": "code",
   "execution_count": 894,
   "metadata": {},
   "outputs": [],
   "source": [
    "mkrf_movies['ratings'] = mkrf_movies['ratings'].apply(get_correct_rating)"
   ]
  },
  {
   "cell_type": "markdown",
   "metadata": {},
   "source": [
    "Проверим, что все значения записаны в нужном нам формате"
   ]
  },
  {
   "cell_type": "code",
   "execution_count": 895,
   "metadata": {},
   "outputs": [
    {
     "data": {
      "text/plain": [
       "array(['7.2', '6.6', '6.8', '7.7', '8.0', '7.8', '8.1', '7.1', '6.0',\n",
       "       '8.3', '7.4', '5.8', '6.3', '6.9', '5.0', '4.3', '7.3', '7.0',\n",
       "       '6.4', '0', '8.2', '7.5', '6.7', '7.9', '5.9', '5.6', '6.5', '6.2',\n",
       "       '2.4', '7.6', '8.6', '6.1', '5.5', '5.1', '5.7', '5.4', '9.9',\n",
       "       '4.4', '4.5', '5.3', '4.1', '8.4', '2.6', '8.8', '3.8', '4.8',\n",
       "       '4.0', '8.5', '4.2', '5.2', '4.7', '4.9', '3.9', '3.3', '2.9',\n",
       "       '2.7', '4.6', '3.7', '1.4', '3.1', '9.7', '3.5', '1.5', '2.1',\n",
       "       '8.7', '2.8', '2.5', '9.2', '1.6', '1.1', '3.6', '9.4', '3.4',\n",
       "       '3.2', '9.0', '1.9', '3.0', '9.1', '1.0', '8.9', '1.3', '1.8',\n",
       "       '1.2', '1.7', '9.8'], dtype=object)"
      ]
     },
     "execution_count": 895,
     "metadata": {},
     "output_type": "execute_result"
    }
   ],
   "source": [
    "mkrf_movies['ratings'].unique()"
   ]
  },
  {
   "cell_type": "markdown",
   "metadata": {},
   "source": [
    "Приведем типы"
   ]
  },
  {
   "cell_type": "code",
   "execution_count": 896,
   "metadata": {},
   "outputs": [],
   "source": [
    "mkrf_movies['ratings'] = mkrf_movies['ratings'].astype('float32')\n",
    "mkrf_movies['refundable_support'] = mkrf_movies['refundable_support'].astype('int')\n",
    "mkrf_movies['nonrefundable_support'] = mkrf_movies['nonrefundable_support'].astype('int')\n",
    "mkrf_movies['budget'] = mkrf_movies['budget'].astype('int')\n",
    "mkrf_movies['box_office'] = mkrf_movies['box_office'].astype('int')\n",
    "mkrf_movies['show_start_date'] = pd.to_datetime(\n",
    "    mkrf_movies['show_start_date'], format='%Y-%m-%dT%H:%M:%S.%fZ'\n",
    ")"
   ]
  },
  {
   "cell_type": "code",
   "execution_count": 897,
   "metadata": {},
   "outputs": [
    {
     "name": "stdout",
     "output_type": "stream",
     "text": [
      "<class 'pandas.core.frame.DataFrame'>\n",
      "Int64Index: 6946 entries, 0 to 7485\n",
      "Data columns (total 17 columns):\n",
      " #   Column                 Non-Null Count  Dtype         \n",
      "---  ------                 --------------  -----         \n",
      " 0   title                  6946 non-null   object        \n",
      " 1   puNumber               6946 non-null   int64         \n",
      " 2   show_start_date        6946 non-null   datetime64[ns]\n",
      " 3   type                   6946 non-null   object        \n",
      " 4   film_studio            6946 non-null   object        \n",
      " 5   production_country     6946 non-null   object        \n",
      " 6   director               6946 non-null   object        \n",
      " 7   producer               6946 non-null   object        \n",
      " 8   age_restriction        6946 non-null   object        \n",
      " 9   refundable_support     6946 non-null   int64         \n",
      " 10  nonrefundable_support  6946 non-null   int64         \n",
      " 11  budget                 6946 non-null   int64         \n",
      " 12  financing_source       6946 non-null   object        \n",
      " 13  ratings                6946 non-null   float32       \n",
      " 14  genres                 6946 non-null   object        \n",
      " 15  box_office             6946 non-null   int64         \n",
      " 16  percent_support        6946 non-null   float64       \n",
      "dtypes: datetime64[ns](1), float32(1), float64(1), int64(5), object(9)\n",
      "memory usage: 949.6+ KB\n"
     ]
    }
   ],
   "source": [
    "mkrf_movies.info()"
   ]
  },
  {
   "cell_type": "markdown",
   "metadata": {
    "executionInfo": {
     "elapsed": 7,
     "status": "ok",
     "timestamp": 1681448905604,
     "user": {
      "displayName": "Alexander Kozachuk",
      "userId": "09061708775740707436"
     },
     "user_tz": -180
    },
    "id": "8NntfZLebtYq"
   },
   "source": [
    "<div class=\"alert alert-success\">\n",
    "<b>Комментарий ревьюера (ОК)</b> \n",
    "\n",
    "Типы столбцов изменены корректно 👍 \n",
    "</div>"
   ]
  },
  {
   "cell_type": "markdown",
   "metadata": {},
   "source": [
    "#### Шаг 2.5. Изучите дубликаты в датафрейме\n",
    "- Проверьте, есть ли в данных дубликаты. Опишите причины, которые могли повлиять на появление дублей."
   ]
  },
  {
   "cell_type": "markdown",
   "metadata": {},
   "source": [
    "<div class=\"alert alert-block alert-info\">\n",
    "    Проверим датасет на полные дубликаты\n",
    "</div>"
   ]
  },
  {
   "cell_type": "code",
   "execution_count": 898,
   "metadata": {},
   "outputs": [
    {
     "data": {
      "text/plain": [
       "0"
      ]
     },
     "execution_count": 898,
     "metadata": {},
     "output_type": "execute_result"
    }
   ],
   "source": [
    "mkrf_movies.duplicated().sum()"
   ]
  },
  {
   "cell_type": "markdown",
   "metadata": {},
   "source": [
    "Полных дубликатов не найдено. В столбце `puNumber` содержатся только уникальные значения. Удалим этот столбец и заново проверим на дубликаты"
   ]
  },
  {
   "cell_type": "code",
   "execution_count": 899,
   "metadata": {
    "id": "YbzClBxagFyS"
   },
   "outputs": [],
   "source": [
    "if 'puNumber' in mkrf_movies.columns:\n",
    "    mkrf_movies.drop(['puNumber'], axis=1, inplace=True)"
   ]
  },
  {
   "cell_type": "code",
   "execution_count": 900,
   "metadata": {},
   "outputs": [
    {
     "data": {
      "text/plain": [
       "5"
      ]
     },
     "execution_count": 900,
     "metadata": {},
     "output_type": "execute_result"
    }
   ],
   "source": [
    "mkrf_movies.duplicated().sum()"
   ]
  },
  {
   "cell_type": "code",
   "execution_count": 901,
   "metadata": {},
   "outputs": [
    {
     "name": "stdout",
     "output_type": "stream",
     "text": [
      "<class 'pandas.core.frame.DataFrame'>\n",
      "RangeIndex: 6941 entries, 0 to 6940\n",
      "Data columns (total 16 columns):\n",
      " #   Column                 Non-Null Count  Dtype         \n",
      "---  ------                 --------------  -----         \n",
      " 0   title                  6941 non-null   object        \n",
      " 1   show_start_date        6941 non-null   datetime64[ns]\n",
      " 2   type                   6941 non-null   object        \n",
      " 3   film_studio            6941 non-null   object        \n",
      " 4   production_country     6941 non-null   object        \n",
      " 5   director               6941 non-null   object        \n",
      " 6   producer               6941 non-null   object        \n",
      " 7   age_restriction        6941 non-null   object        \n",
      " 8   refundable_support     6941 non-null   int64         \n",
      " 9   nonrefundable_support  6941 non-null   int64         \n",
      " 10  budget                 6941 non-null   int64         \n",
      " 11  financing_source       6941 non-null   object        \n",
      " 12  ratings                6941 non-null   float32       \n",
      " 13  genres                 6941 non-null   object        \n",
      " 14  box_office             6941 non-null   int64         \n",
      " 15  percent_support        6941 non-null   float64       \n",
      "dtypes: datetime64[ns](1), float32(1), float64(1), int64(4), object(9)\n",
      "memory usage: 840.6+ KB\n"
     ]
    }
   ],
   "source": [
    "mkrf_movies = mkrf_movies.drop_duplicates().reset_index(drop=True)\n",
    "mkrf_movies.info()"
   ]
  },
  {
   "cell_type": "markdown",
   "metadata": {},
   "source": [
    "Проверим, какая часть датасета осталась после предобработки данных"
   ]
  },
  {
   "cell_type": "code",
   "execution_count": 902,
   "metadata": {},
   "outputs": [
    {
     "name": "stdout",
     "output_type": "stream",
     "text": [
      "После предобратки данных в датасете сохранился 92.72% данных\n"
     ]
    }
   ],
   "source": [
    "print(f'После предобратки данных в датасете сохранился {mkrf_movies.shape[0]/start_size_dataset:.2%} данных')"
   ]
  },
  {
   "cell_type": "markdown",
   "metadata": {},
   "source": [
    "<div class=\"alert alert-block alert-info\">\n",
    "    Добавил проверку на полные дубликаты\n",
    "</div>"
   ]
  },
  {
   "cell_type": "markdown",
   "metadata": {},
   "source": [
    "<div class=\"alert alert-danger\">\n",
    "<b>Комментарий ревьюера (необходимо исправить)</b>\n",
    "\n",
    "Отлично, что выполнена проверка на дубликаты текстовых полей. Однако стоит добавить в целом проверку на полные дубликаты.\n",
    "</div>"
   ]
  },
  {
   "cell_type": "markdown",
   "metadata": {},
   "source": [
    "<div class=\"alert alert-success\">\n",
    "<b>Комментарий ревьюера v2 (ОК)</b> \n",
    "\n",
    "Проверка на полные дубликаты выполнена 👍</div>"
   ]
  },
  {
   "cell_type": "markdown",
   "metadata": {
    "id": "Eu6oWp2CgFyS"
   },
   "source": [
    "#### Шаг 2.6. Добавьте новые столбцы\n",
    "\n",
    "\n",
    "\n"
   ]
  },
  {
   "cell_type": "markdown",
   "metadata": {
    "id": "7GgW-UpAgFyS"
   },
   "source": [
    "- Создайте столбец с информацией о годе проката. Выделите год из даты премьеры фильма."
   ]
  },
  {
   "cell_type": "code",
   "execution_count": 903,
   "metadata": {
    "id": "I-yd1DkWgFyT"
   },
   "outputs": [],
   "source": [
    "mkrf_movies['show_start_year'] = mkrf_movies['show_start_date'].dt.year"
   ]
  },
  {
   "cell_type": "markdown",
   "metadata": {
    "id": "nFTDLDYOgFyT"
   },
   "source": [
    "- Создайте два столбца: с именем и фамилией главного режиссёра и основным жанром фильма. В столбцы войдут первые значения из списка режиссёров и жанров соответственно.\n",
    "\n",
    "<div id=\"accordion\">\n",
    "    <div class=\"card\">\n",
    "        <div class=\"card-header\" id=\"headingThree\">\n",
    "            <button class=\"btn btn-link collapsed\" data-toggle=\"collapse\" data-target=\"#collapseHint_2\" aria-expanded=\"false\" aria-controls=\"collapseHint_2\">Подсказка</button>\n",
    "        </div>\n",
    "        <div id=\"collapseHint_2\" class=\"collapse\" aria-labelledby=\"headingThree\" data-parent=\"#accordion\">\n",
    "            <div class=\"card-body\">\n",
    "Чтобы создать такие столбцы, лучше всего использовать собственную функцию. Эту функцию можно применить к двум столбцам сразу. \n",
    "            </div>\n",
    "        </div>\n",
    "    </div>\n",
    "</div>"
   ]
  },
  {
   "cell_type": "markdown",
   "metadata": {},
   "source": [
    "<div class=\"alert alert-info\">\n",
    "    Сделано в предобработке категориальных столбцов. Только значения записывались не в новый столбец, а перезаписывали исхоный столбец.\n",
    "</div>\n"
   ]
  },
  {
   "cell_type": "markdown",
   "metadata": {
    "id": "1FsCXHwdgFyU"
   },
   "source": [
    "- Посчитайте, какую долю от общего бюджета фильма составляет государственная поддержка."
   ]
  },
  {
   "cell_type": "code",
   "execution_count": 904,
   "metadata": {},
   "outputs": [],
   "source": [
    "def get_percent_support(row):\n",
    "    if row['budget'] != 0:\n",
    "        return round((row['refundable_support']\n",
    "                      + row['nonrefundable_support'])\n",
    "                     / row['budget'], 2)\n",
    "    return 0"
   ]
  },
  {
   "cell_type": "code",
   "execution_count": 905,
   "metadata": {
    "id": "LV6qFuZLgFyV"
   },
   "outputs": [],
   "source": [
    "mkrf_movies['percent_support'] = mkrf_movies.apply(get_percent_support, axis=1)"
   ]
  },
  {
   "cell_type": "code",
   "execution_count": 906,
   "metadata": {},
   "outputs": [
    {
     "name": "stdout",
     "output_type": "stream",
     "text": [
      "<class 'pandas.core.frame.DataFrame'>\n",
      "RangeIndex: 6941 entries, 0 to 6940\n",
      "Data columns (total 17 columns):\n",
      " #   Column                 Non-Null Count  Dtype         \n",
      "---  ------                 --------------  -----         \n",
      " 0   title                  6941 non-null   object        \n",
      " 1   show_start_date        6941 non-null   datetime64[ns]\n",
      " 2   type                   6941 non-null   object        \n",
      " 3   film_studio            6941 non-null   object        \n",
      " 4   production_country     6941 non-null   object        \n",
      " 5   director               6941 non-null   object        \n",
      " 6   producer               6941 non-null   object        \n",
      " 7   age_restriction        6941 non-null   object        \n",
      " 8   refundable_support     6941 non-null   int64         \n",
      " 9   nonrefundable_support  6941 non-null   int64         \n",
      " 10  budget                 6941 non-null   int64         \n",
      " 11  financing_source       6941 non-null   object        \n",
      " 12  ratings                6941 non-null   float32       \n",
      " 13  genres                 6941 non-null   object        \n",
      " 14  box_office             6941 non-null   int64         \n",
      " 15  percent_support        6941 non-null   float64       \n",
      " 16  show_start_year        6941 non-null   int64         \n",
      "dtypes: datetime64[ns](1), float32(1), float64(1), int64(5), object(9)\n",
      "memory usage: 894.9+ KB\n"
     ]
    }
   ],
   "source": [
    "mkrf_movies.info()"
   ]
  },
  {
   "cell_type": "markdown",
   "metadata": {},
   "source": [
    "<div class=\"alert alert-success\">\n",
    "<b>Комментарий ревьюера (ОК)</b> \n",
    "    \n",
    "Новые столбцы добавлены корректно."
   ]
  },
  {
   "cell_type": "markdown",
   "metadata": {
    "id": "6t4EukPLgFyV"
   },
   "source": [
    "### Шаг 3. Проведите исследовательский анализ данных\n"
   ]
  },
  {
   "cell_type": "markdown",
   "metadata": {},
   "source": [
    "Составим сводную таблицу по годам, в которой отобразим, количество фильмов, который вышли в прокат, сумму сборов с фильмов за год, среднее и медианной значение сборов, максимальное и минимальное значение сборов за год"
   ]
  },
  {
   "cell_type": "code",
   "execution_count": 907,
   "metadata": {},
   "outputs": [
    {
     "data": {
      "text/html": [
       "<div>\n",
       "<style scoped>\n",
       "    .dataframe tbody tr th:only-of-type {\n",
       "        vertical-align: middle;\n",
       "    }\n",
       "\n",
       "    .dataframe tbody tr th {\n",
       "        vertical-align: top;\n",
       "    }\n",
       "\n",
       "    .dataframe thead th {\n",
       "        text-align: right;\n",
       "    }\n",
       "</style>\n",
       "<table border=\"1\" class=\"dataframe\">\n",
       "  <thead>\n",
       "    <tr style=\"text-align: right;\">\n",
       "      <th></th>\n",
       "      <th>count</th>\n",
       "      <th>sum</th>\n",
       "      <th>mean</th>\n",
       "      <th>median</th>\n",
       "      <th>min</th>\n",
       "      <th>max</th>\n",
       "    </tr>\n",
       "    <tr>\n",
       "      <th>show_start_year</th>\n",
       "      <th></th>\n",
       "      <th></th>\n",
       "      <th></th>\n",
       "      <th></th>\n",
       "      <th></th>\n",
       "      <th></th>\n",
       "    </tr>\n",
       "  </thead>\n",
       "  <tbody>\n",
       "    <tr>\n",
       "      <th>2010</th>\n",
       "      <td>20</td>\n",
       "      <td>2274770</td>\n",
       "      <td>1.137385e+05</td>\n",
       "      <td>23612.5</td>\n",
       "      <td>10685</td>\n",
       "      <td>1446400</td>\n",
       "    </tr>\n",
       "    <tr>\n",
       "      <th>2011</th>\n",
       "      <td>27</td>\n",
       "      <td>13878756</td>\n",
       "      <td>5.140280e+05</td>\n",
       "      <td>42691.0</td>\n",
       "      <td>10320</td>\n",
       "      <td>11618085</td>\n",
       "    </tr>\n",
       "    <tr>\n",
       "      <th>2012</th>\n",
       "      <td>50</td>\n",
       "      <td>6776513</td>\n",
       "      <td>1.355303e+05</td>\n",
       "      <td>30607.5</td>\n",
       "      <td>10310</td>\n",
       "      <td>2311220</td>\n",
       "    </tr>\n",
       "    <tr>\n",
       "      <th>2013</th>\n",
       "      <td>59</td>\n",
       "      <td>29509769</td>\n",
       "      <td>5.001656e+05</td>\n",
       "      <td>33500.0</td>\n",
       "      <td>10135</td>\n",
       "      <td>19957031</td>\n",
       "    </tr>\n",
       "    <tr>\n",
       "      <th>2014</th>\n",
       "      <td>164</td>\n",
       "      <td>7444709147</td>\n",
       "      <td>4.539457e+07</td>\n",
       "      <td>312423.5</td>\n",
       "      <td>10345</td>\n",
       "      <td>1016410635</td>\n",
       "    </tr>\n",
       "    <tr>\n",
       "      <th>2015</th>\n",
       "      <td>437</td>\n",
       "      <td>39497289874</td>\n",
       "      <td>9.038281e+07</td>\n",
       "      <td>6615812.0</td>\n",
       "      <td>11300</td>\n",
       "      <td>1658861425</td>\n",
       "    </tr>\n",
       "    <tr>\n",
       "      <th>2016</th>\n",
       "      <td>503</td>\n",
       "      <td>47866251741</td>\n",
       "      <td>9.516153e+07</td>\n",
       "      <td>4674744.0</td>\n",
       "      <td>11740</td>\n",
       "      <td>2048126108</td>\n",
       "    </tr>\n",
       "    <tr>\n",
       "      <th>2017</th>\n",
       "      <td>356</td>\n",
       "      <td>48563699314</td>\n",
       "      <td>1.364149e+08</td>\n",
       "      <td>10177833.5</td>\n",
       "      <td>24310</td>\n",
       "      <td>2779686144</td>\n",
       "    </tr>\n",
       "    <tr>\n",
       "      <th>2018</th>\n",
       "      <td>475</td>\n",
       "      <td>49668402949</td>\n",
       "      <td>1.045651e+08</td>\n",
       "      <td>8891102.0</td>\n",
       "      <td>41225</td>\n",
       "      <td>2271754004</td>\n",
       "    </tr>\n",
       "    <tr>\n",
       "      <th>2019</th>\n",
       "      <td>527</td>\n",
       "      <td>48092099960</td>\n",
       "      <td>9.125636e+07</td>\n",
       "      <td>4654563.0</td>\n",
       "      <td>34992</td>\n",
       "      <td>3073568690</td>\n",
       "    </tr>\n",
       "  </tbody>\n",
       "</table>\n",
       "</div>"
      ],
      "text/plain": [
       "                 count          sum          mean      median    min  \\\n",
       "show_start_year                                                        \n",
       "2010                20      2274770  1.137385e+05     23612.5  10685   \n",
       "2011                27     13878756  5.140280e+05     42691.0  10320   \n",
       "2012                50      6776513  1.355303e+05     30607.5  10310   \n",
       "2013                59     29509769  5.001656e+05     33500.0  10135   \n",
       "2014               164   7444709147  4.539457e+07    312423.5  10345   \n",
       "2015               437  39497289874  9.038281e+07   6615812.0  11300   \n",
       "2016               503  47866251741  9.516153e+07   4674744.0  11740   \n",
       "2017               356  48563699314  1.364149e+08  10177833.5  24310   \n",
       "2018               475  49668402949  1.045651e+08   8891102.0  41225   \n",
       "2019               527  48092099960  9.125636e+07   4654563.0  34992   \n",
       "\n",
       "                        max  \n",
       "show_start_year              \n",
       "2010                1446400  \n",
       "2011               11618085  \n",
       "2012                2311220  \n",
       "2013               19957031  \n",
       "2014             1016410635  \n",
       "2015             1658861425  \n",
       "2016             2048126108  \n",
       "2017             2779686144  \n",
       "2018             2271754004  \n",
       "2019             3073568690  "
      ]
     },
     "execution_count": 907,
     "metadata": {},
     "output_type": "execute_result"
    }
   ],
   "source": [
    "box_office_static = (\n",
    "    mkrf_movies.query('box_office >= 0')\n",
    "    .pivot_table(index='show_start_year', values='box_office', aggfunc=['count', 'sum', 'mean', 'median', 'min', 'max'])\n",
    "    .reset_index().droplevel(1, axis=1)\n",
    "    .set_index('show_start_year')\n",
    ")\n",
    "box_office_static"
   ]
  },
  {
   "cell_type": "markdown",
   "metadata": {},
   "source": [
    "#### Анализ количества выходяхих фильмов в год"
   ]
  },
  {
   "cell_type": "markdown",
   "metadata": {
    "id": "vAH8WCzugFyV"
   },
   "source": [
    "- Посмотрите, сколько фильмов выходило в прокат каждый год. Обратите внимание, что данные о прокате в кинотеатрах известны не для всех фильмов. Посчитайте, какую долю составляют фильмы с указанной информацией о прокате в кинотеатрах."
   ]
  },
  {
   "cell_type": "code",
   "execution_count": 908,
   "metadata": {},
   "outputs": [
    {
     "data": {
      "text/plain": [
       "<AxesSubplot:title={'center':'Динамика изменения количества фильмов в прокате по годам'}, xlabel='show_start_year'>"
      ]
     },
     "execution_count": 908,
     "metadata": {},
     "output_type": "execute_result"
    },
    {
     "data": {
      "image/png": "[encoded data removed]",
      "text/plain": [
       "<Figure size 432x288 with 1 Axes>"
      ]
     },
     "metadata": {
      "needs_background": "light"
     },
     "output_type": "display_data"
    }
   ],
   "source": [
    "box_office_static.plot(y='count', grid=True, title='Динамика изменения количества фильмов в прокате по годам')"
   ]
  },
  {
   "cell_type": "markdown",
   "metadata": {},
   "source": [
    "Из графика видно, что с 2010 года количество фильмов, выходящих в прокат, стабильно увеличивается. С 2013 по 2015 года наблюдается особо быстрый рост. В 2017 году произошла просадка по количеству фильмов, вышедших в прокат (как минимум по фильмам, содержащимся в датасете). С 2018 года количество фильмов возращается на уровень 2015 года"
   ]
  },
  {
   "cell_type": "code",
   "execution_count": 909,
   "metadata": {},
   "outputs": [
    {
     "name": "stdout",
     "output_type": "stream",
     "text": [
      "Фильмы с указанной информацие о прокате составляют 37.72% датасента\n"
     ]
    }
   ],
   "source": [
    "print(\n",
    "    f'Фильмы с указанной информацие о прокате составляют '\n",
    "    f'{box_office_static[\"count\"].sum() / mkrf_movies.shape[0]:.2%} датасента'\n",
    ")"
   ]
  },
  {
   "cell_type": "markdown",
   "metadata": {},
   "source": [
    "#### Анализ динамики проката по годам"
   ]
  },
  {
   "cell_type": "markdown",
   "metadata": {
    "id": "BEOdcIrIgFyW"
   },
   "source": [
    "- Изучите, как менялась динамика проката по годам. В каком году сумма сборов была минимальной? А максимальной?"
   ]
  },
  {
   "cell_type": "code",
   "execution_count": 910,
   "metadata": {
    "id": "tfEhofYvgFyX"
   },
   "outputs": [
    {
     "name": "stdout",
     "output_type": "stream",
     "text": [
      "Минимальная сумма сборов была в 2010 году и составляла 2274770 рублей\n",
      "Минимальная сумма сборов была в 2018 году и составляла 49668402949 рублей\n"
     ]
    },
    {
     "data": {
      "text/plain": [
       "<AxesSubplot:title={'center':'Динамика изменения суммы сборов по годам'}, xlabel='show_start_year'>"
      ]
     },
     "execution_count": 910,
     "metadata": {},
     "output_type": "execute_result"
    },
    {
     "data": {
      "image/png": "[encoded data removed]",
      "text/plain": [
       "<Figure size 432x288 with 1 Axes>"
      ]
     },
     "metadata": {
      "needs_background": "light"
     },
     "output_type": "display_data"
    }
   ],
   "source": [
    "print(f'Минимальная сумма сборов была в {box_office_static[\"sum\"].idxmin()} '\n",
    "      f'году и составляла {box_office_static[\"sum\"].min()} рублей')\n",
    "print(f'Минимальная сумма сборов была в {box_office_static[\"sum\"].idxmax()} '\n",
    "      f'году и составляла {box_office_static[\"sum\"].max()} рублей')\n",
    "box_office_static.plot(y='sum', grid=True, title='Динамика изменения суммы сборов по годам')"
   ]
  },
  {
   "cell_type": "markdown",
   "metadata": {},
   "source": [
    "Из графика видно, что после 2014 года произошел резкий рост суммы сборов за год. Рост остановился в 2016 году и сумма сборов далее оставалась на одном уровне. Минимальная сумма сборов была в 2010 году и составила `2428654` рублей. Максимальная сумма сборов была в 2018 году и составила `49668402949` рублей"
   ]
  },
  {
   "cell_type": "markdown",
   "metadata": {
    "id": "QH_aKFEFaFIx"
   },
   "source": [
    "<div class=\"alert alert-success\">\n",
    "<b>Комментарий ревьюера (ОК)</b> \n",
    "\n",
    "Хорошо выбраны методы для демонстрации динамики проката картин, согласна с выводами.\n",
    "</div>"
   ]
  },
  {
   "cell_type": "markdown",
   "metadata": {},
   "source": [
    "#### Оценка средней и медианной суммы сборов для каждого года"
   ]
  },
  {
   "cell_type": "markdown",
   "metadata": {
    "id": "G-7qS-N-gFyY"
   },
   "source": [
    "- С помощью сводной таблицы посчитайте среднюю и медианную сумму сборов для каждого года."
   ]
  },
  {
   "cell_type": "code",
   "execution_count": 911,
   "metadata": {
    "id": "jmp-rgg9gFyY"
   },
   "outputs": [
    {
     "data": {
      "text/html": [
       "<div>\n",
       "<style scoped>\n",
       "    .dataframe tbody tr th:only-of-type {\n",
       "        vertical-align: middle;\n",
       "    }\n",
       "\n",
       "    .dataframe tbody tr th {\n",
       "        vertical-align: top;\n",
       "    }\n",
       "\n",
       "    .dataframe thead th {\n",
       "        text-align: right;\n",
       "    }\n",
       "</style>\n",
       "<table border=\"1\" class=\"dataframe\">\n",
       "  <thead>\n",
       "    <tr style=\"text-align: right;\">\n",
       "      <th></th>\n",
       "      <th>mean</th>\n",
       "      <th>median</th>\n",
       "    </tr>\n",
       "    <tr>\n",
       "      <th>show_start_year</th>\n",
       "      <th></th>\n",
       "      <th></th>\n",
       "    </tr>\n",
       "  </thead>\n",
       "  <tbody>\n",
       "    <tr>\n",
       "      <th>2010</th>\n",
       "      <td>1.137385e+05</td>\n",
       "      <td>23612.5</td>\n",
       "    </tr>\n",
       "    <tr>\n",
       "      <th>2011</th>\n",
       "      <td>5.140280e+05</td>\n",
       "      <td>42691.0</td>\n",
       "    </tr>\n",
       "    <tr>\n",
       "      <th>2012</th>\n",
       "      <td>1.355303e+05</td>\n",
       "      <td>30607.5</td>\n",
       "    </tr>\n",
       "    <tr>\n",
       "      <th>2013</th>\n",
       "      <td>5.001656e+05</td>\n",
       "      <td>33500.0</td>\n",
       "    </tr>\n",
       "    <tr>\n",
       "      <th>2014</th>\n",
       "      <td>4.539457e+07</td>\n",
       "      <td>312423.5</td>\n",
       "    </tr>\n",
       "    <tr>\n",
       "      <th>2015</th>\n",
       "      <td>9.038281e+07</td>\n",
       "      <td>6615812.0</td>\n",
       "    </tr>\n",
       "    <tr>\n",
       "      <th>2016</th>\n",
       "      <td>9.516153e+07</td>\n",
       "      <td>4674744.0</td>\n",
       "    </tr>\n",
       "    <tr>\n",
       "      <th>2017</th>\n",
       "      <td>1.364149e+08</td>\n",
       "      <td>10177833.5</td>\n",
       "    </tr>\n",
       "    <tr>\n",
       "      <th>2018</th>\n",
       "      <td>1.045651e+08</td>\n",
       "      <td>8891102.0</td>\n",
       "    </tr>\n",
       "    <tr>\n",
       "      <th>2019</th>\n",
       "      <td>9.125636e+07</td>\n",
       "      <td>4654563.0</td>\n",
       "    </tr>\n",
       "  </tbody>\n",
       "</table>\n",
       "</div>"
      ],
      "text/plain": [
       "                         mean      median\n",
       "show_start_year                          \n",
       "2010             1.137385e+05     23612.5\n",
       "2011             5.140280e+05     42691.0\n",
       "2012             1.355303e+05     30607.5\n",
       "2013             5.001656e+05     33500.0\n",
       "2014             4.539457e+07    312423.5\n",
       "2015             9.038281e+07   6615812.0\n",
       "2016             9.516153e+07   4674744.0\n",
       "2017             1.364149e+08  10177833.5\n",
       "2018             1.045651e+08   8891102.0\n",
       "2019             9.125636e+07   4654563.0"
      ]
     },
     "execution_count": 911,
     "metadata": {},
     "output_type": "execute_result"
    },
    {
     "data": {
      "image/png": "[encoded data removed]",
      "text/plain": [
       "<Figure size 432x288 with 1 Axes>"
      ]
     },
     "metadata": {
      "needs_background": "light"
     },
     "output_type": "display_data"
    }
   ],
   "source": [
    "box_office_static.plot(y=['mean', 'median'], grid=True, title='Динамика средней и медианной суммы проката по годам')\n",
    "box_office_static[['mean', 'median']]"
   ]
  },
  {
   "cell_type": "markdown",
   "metadata": {},
   "source": [
    "График средней и медианной суммы сборов показывает, что с 2013 года росло не отлько количество фильмов, выходящих в прокат, но и сумма сборов с каждого фильма. График среднего значения и медианы показывают одну динамику. Разница в значениях говорит о том, что большиство выпускаемых фильмов имеет не такую высокую сумму сборов, однако каждый год выходит ряд фильмов, сумма сборов которых значительно превышает сумму сборов остальных фильмов."
   ]
  },
  {
   "cell_type": "markdown",
   "metadata": {
    "id": "xDHY8oMQaFIy"
   },
   "source": [
    "<div class=\"alert alert-success\">\n",
    "<b>Комментарий ревьюера (ОК)</b> \n",
    "\n",
    "Отлично, корректный результат, хорошее пояснение к разнице между медианой и средним.\n",
    "</div>"
   ]
  },
  {
   "cell_type": "markdown",
   "metadata": {},
   "source": [
    "#### Анализ влияния возрастных ограничений на сумму сборов"
   ]
  },
  {
   "cell_type": "markdown",
   "metadata": {
    "id": "Ok89WFwJgFyZ"
   },
   "source": [
    "- Определите, влияет ли возрастное ограничение аудитории («6+», «12+», «16+», «18+» и т. д.) на сборы фильма в прокате в период с 2015 по 2019 год? Фильмы с каким возрастным ограничением собрали больше всего денег в прокате? Меняется ли картина в зависимости от года? Если да, предположите, с чем это может быть связано."
   ]
  },
  {
   "cell_type": "code",
   "execution_count": 912,
   "metadata": {
    "id": "jsSbEqfjgFya"
   },
   "outputs": [],
   "source": [
    "age_static = (\n",
    "    mkrf_movies.query('2015 <= show_start_year <= 2019 and box_office >= 0')\n",
    "    .pivot_table(index='show_start_year', columns='age_restriction', values='box_office', aggfunc=['sum', 'mean', 'median'])\n",
    ")"
   ]
  },
  {
   "cell_type": "markdown",
   "metadata": {},
   "source": [
    "Оценивать влияние возрастных ограничений будем по средней стоимоси сборов."
   ]
  },
  {
   "cell_type": "code",
   "execution_count": 913,
   "metadata": {},
   "outputs": [
    {
     "data": {
      "text/plain": [
       "age_restriction\n",
       "«0+» - для любой зрительской аудитории    1.041467e+08\n",
       "«18+» - запрещено для детей               2.582264e+08\n",
       "«16+» - для детей старше 16 лет           4.974769e+08\n",
       "«12+» - для детей старше 12 лет           9.241490e+08\n",
       "«6+» - для детей старше 6 лет             9.445585e+08\n",
       "dtype: float64"
      ]
     },
     "execution_count": 913,
     "metadata": {},
     "output_type": "execute_result"
    },
    {
     "data": {
      "image/png": "[encoded data removed]",
      "text/plain": [
       "<Figure size 1440x1080 with 1 Axes>"
      ]
     },
     "metadata": {
      "needs_background": "light"
     },
     "output_type": "display_data"
    }
   ],
   "source": [
    "age_static['mean'].plot(figsize=(20,15), grid=True, title='Динамика средней суммы сборов для каждой категории фильмов')\n",
    "age_static['mean'].sum().sort_values()"
   ]
  },
  {
   "cell_type": "markdown",
   "metadata": {},
   "source": [
    "Из графика видно, что возрастное ограничение оказывает влияние на сборы фильма. В среднем наибольшие сборы имеют фильмы с возрастным ограничением `6+` и `12+`. Такие фильмы не содержат жестокости и подходят для похода семьей с детьми. Также на фильмы данной категории могут ходить подростки.  \n",
    "Далее выделяются фильмы с возрастным ограничением `16+`. Данные фильмы уже могут содержать боевые сцены. Не все любят подобное. Также данная категория ограничивает возможность подростков на самостоятельных поход в кино.  \n",
    "Далее выделяется категория `18+`. Фильмы данной категории могут содержать сцены насилия, курения, распития алкогольных напитков и сцены сексуального характера. Далеко не все люди поддерживают данные кадры в фильмах. Также на фильмы данной категории дети не могут пойти без родилей. Редко эти фильмы выбирают для семейного похода в кино.  \n",
    "Самые низкие сборы имеют фильм `0+`. К фильмам данной категории чаще всего относятся документальныйе фильмы, мультвильмы и др. Чаще люди смотрят подобные фильмы дома по телевизору, но не в кинотеатре"
   ]
  },
  {
   "cell_type": "markdown",
   "metadata": {},
   "source": [
    "Также построим график динамики суммы сборов за год для каждой категории"
   ]
  },
  {
   "cell_type": "code",
   "execution_count": 914,
   "metadata": {},
   "outputs": [
    {
     "data": {
      "text/plain": [
       "age_restriction\n",
       "«0+» - для любой зрительской аудитории      809064433\n",
       "«18+» - запрещено для детей               40759591090\n",
       "«6+» - для детей старше 6 лет             55464995643\n",
       "«12+» - для детей старше 12 лет           60619389295\n",
       "«16+» - для детей старше 16 лет           76034703377\n",
       "dtype: int64"
      ]
     },
     "execution_count": 914,
     "metadata": {},
     "output_type": "execute_result"
    },
    {
     "data": {
      "image/png": "[encoded data removed]",
      "text/plain": [
       "<Figure size 1440x1080 with 1 Axes>"
      ]
     },
     "metadata": {
      "needs_background": "light"
     },
     "output_type": "display_data"
    }
   ],
   "source": [
    "age_static['sum'].plot(figsize=(20,15), grid=True, title='Динамика годовой суммы сборов для каждой категории фильмов')\n",
    "age_static['sum'].sum().sort_values()"
   ]
  },
  {
   "cell_type": "markdown",
   "metadata": {},
   "source": [
    "На данном графике видно, что максимальную сумму сборов в год имеют фильмы из категории `16+`. Так как данные фильмы имеют не самую высокую среднюю стоимость, то это значит, что фильмов из данной категории выходит только, чем фильмов из категорий `6+` и `12+`  \n",
    "Также видно, что фильмы из категории `0+` сильно уступают по сумме сборов за год остальным категориям."
   ]
  },
  {
   "cell_type": "markdown",
   "metadata": {
    "id": "b3tGxHd2aFIy"
   },
   "source": [
    "<div class=\"alert alert-success\">\n",
    "<b>Комментарий ревьюера (ОК)</b> \n",
    "\n",
    "Согласна с рассуждениями, однако можно заметить, что семейные категории набирают обороты в кинопроизводстве и прокате.\n",
    "</div>"
   ]
  },
  {
   "cell_type": "markdown",
   "metadata": {
    "id": "l_Kg6Ku4gFya"
   },
   "source": [
    "### Шаг 4. Исследуйте фильмы, которые получили государственную поддержку\n",
    "\n",
    "На этом этапе нет конкретных инструкций и заданий — поищите интересные закономерности в данных. Посмотрите, сколько выделяют средств на поддержку кино. Проверьте, хорошо ли окупаются такие фильмы, какой у них рейтинг."
   ]
  },
  {
   "cell_type": "markdown",
   "metadata": {},
   "source": [
    "#### Исследование влияния жанра кино на государственную поддержку"
   ]
  },
  {
   "cell_type": "code",
   "execution_count": 915,
   "metadata": {},
   "outputs": [
    {
     "name": "stdout",
     "output_type": "stream",
     "text": [
      "<class 'pandas.core.frame.DataFrame'>\n",
      "RangeIndex: 6941 entries, 0 to 6940\n",
      "Data columns (total 17 columns):\n",
      " #   Column                 Non-Null Count  Dtype         \n",
      "---  ------                 --------------  -----         \n",
      " 0   title                  6941 non-null   object        \n",
      " 1   show_start_date        6941 non-null   datetime64[ns]\n",
      " 2   type                   6941 non-null   object        \n",
      " 3   film_studio            6941 non-null   object        \n",
      " 4   production_country     6941 non-null   object        \n",
      " 5   director               6941 non-null   object        \n",
      " 6   producer               6941 non-null   object        \n",
      " 7   age_restriction        6941 non-null   object        \n",
      " 8   refundable_support     6941 non-null   int64         \n",
      " 9   nonrefundable_support  6941 non-null   int64         \n",
      " 10  budget                 6941 non-null   int64         \n",
      " 11  financing_source       6941 non-null   object        \n",
      " 12  ratings                6941 non-null   float32       \n",
      " 13  genres                 6941 non-null   object        \n",
      " 14  box_office             6941 non-null   int64         \n",
      " 15  percent_support        6941 non-null   float64       \n",
      " 16  show_start_year        6941 non-null   int64         \n",
      "dtypes: datetime64[ns](1), float32(1), float64(1), int64(5), object(9)\n",
      "memory usage: 894.9+ KB\n"
     ]
    }
   ],
   "source": [
    "mkrf_movies.info()"
   ]
  },
  {
   "cell_type": "code",
   "execution_count": 916,
   "metadata": {
    "id": "W9QKpjUdgFyb"
   },
   "outputs": [
    {
     "data": {
      "text/html": [
       "<div>\n",
       "<style scoped>\n",
       "    .dataframe tbody tr th:only-of-type {\n",
       "        vertical-align: middle;\n",
       "    }\n",
       "\n",
       "    .dataframe tbody tr th {\n",
       "        vertical-align: top;\n",
       "    }\n",
       "\n",
       "    .dataframe thead th {\n",
       "        text-align: right;\n",
       "    }\n",
       "</style>\n",
       "<table border=\"1\" class=\"dataframe\">\n",
       "  <thead>\n",
       "    <tr style=\"text-align: right;\">\n",
       "      <th></th>\n",
       "      <th>count</th>\n",
       "    </tr>\n",
       "    <tr>\n",
       "      <th>genres</th>\n",
       "      <th></th>\n",
       "    </tr>\n",
       "  </thead>\n",
       "  <tbody>\n",
       "    <tr>\n",
       "      <th>драма</th>\n",
       "      <td>92</td>\n",
       "    </tr>\n",
       "    <tr>\n",
       "      <th>комедия</th>\n",
       "      <td>74</td>\n",
       "    </tr>\n",
       "    <tr>\n",
       "      <th>мультфильм</th>\n",
       "      <td>31</td>\n",
       "    </tr>\n",
       "    <tr>\n",
       "      <th>триллер</th>\n",
       "      <td>15</td>\n",
       "    </tr>\n",
       "    <tr>\n",
       "      <th>мелодрама</th>\n",
       "      <td>13</td>\n",
       "    </tr>\n",
       "    <tr>\n",
       "      <th>фантастика</th>\n",
       "      <td>11</td>\n",
       "    </tr>\n",
       "    <tr>\n",
       "      <th>ужасы</th>\n",
       "      <td>10</td>\n",
       "    </tr>\n",
       "    <tr>\n",
       "      <th>фэнтези</th>\n",
       "      <td>10</td>\n",
       "    </tr>\n",
       "    <tr>\n",
       "      <th>военный</th>\n",
       "      <td>9</td>\n",
       "    </tr>\n",
       "    <tr>\n",
       "      <th>семейный</th>\n",
       "      <td>7</td>\n",
       "    </tr>\n",
       "    <tr>\n",
       "      <th>боевик</th>\n",
       "      <td>6</td>\n",
       "    </tr>\n",
       "    <tr>\n",
       "      <th>приключения</th>\n",
       "      <td>6</td>\n",
       "    </tr>\n",
       "    <tr>\n",
       "      <th>детектив</th>\n",
       "      <td>5</td>\n",
       "    </tr>\n",
       "    <tr>\n",
       "      <th>история</th>\n",
       "      <td>4</td>\n",
       "    </tr>\n",
       "    <tr>\n",
       "      <th>мюзикл</th>\n",
       "      <td>4</td>\n",
       "    </tr>\n",
       "    <tr>\n",
       "      <th>детский</th>\n",
       "      <td>4</td>\n",
       "    </tr>\n",
       "    <tr>\n",
       "      <th>криминал</th>\n",
       "      <td>3</td>\n",
       "    </tr>\n",
       "    <tr>\n",
       "      <th>спорт</th>\n",
       "      <td>3</td>\n",
       "    </tr>\n",
       "    <tr>\n",
       "      <th>биография</th>\n",
       "      <td>3</td>\n",
       "    </tr>\n",
       "    <tr>\n",
       "      <th>реальное тв</th>\n",
       "      <td>1</td>\n",
       "    </tr>\n",
       "  </tbody>\n",
       "</table>\n",
       "</div>"
      ],
      "text/plain": [
       "             count\n",
       "genres            \n",
       "драма           92\n",
       "комедия         74\n",
       "мультфильм      31\n",
       "триллер         15\n",
       "мелодрама       13\n",
       "фантастика      11\n",
       "ужасы           10\n",
       "фэнтези         10\n",
       "военный          9\n",
       "семейный         7\n",
       "боевик           6\n",
       "приключения      6\n",
       "детектив         5\n",
       "история          4\n",
       "мюзикл           4\n",
       "детский          4\n",
       "криминал         3\n",
       "спорт            3\n",
       "биография        3\n",
       "реальное тв      1"
      ]
     },
     "execution_count": 916,
     "metadata": {},
     "output_type": "execute_result"
    },
    {
     "data": {
      "image/png": "[encoded data removed]",
      "text/plain": [
       "<Figure size 864x576 with 1 Axes>"
      ]
     },
     "metadata": {
      "needs_background": "light"
     },
     "output_type": "display_data"
    }
   ],
   "source": [
    "support_movies = mkrf_movies.query('financing_source != \"not\"')\n",
    "count_support_by_genre = (\n",
    "    support_movies.query('genres != \"unknown\"')\n",
    "    .pivot_table(index='genres', values='title', aggfunc='count')\n",
    "    .rename(columns={'title': 'count'})\n",
    "    .sort_values(by='count', ascending=False)\n",
    ")\n",
    "count_support_by_genre.plot(kind='bar', figsize=(12,8), title='Распределение по жанрам фильмов, получивших господдержку')\n",
    "count_support_by_genre"
   ]
  },
  {
   "cell_type": "markdown",
   "metadata": {},
   "source": [
    "Из таблицы видно, что чаще всего государственную поддержку получают фильмы из жанра `драма`(93 фильма из датасета), `комедия`(74 фильма из датасеты) и `мультфильм`(31 фильм из датасета)"
   ]
  },
  {
   "cell_type": "markdown",
   "metadata": {},
   "source": [
    "Добавим новые колонки:  \n",
    "1. Полная государственная поддержка - сумма столбцов `refundable_support` и  `nonrefundable_support`\n",
    "2. Окупаемость фильм - отношение сборов фильма к полной гос. поддержке  \n",
    "3. Окупился ли фильм(булево значение) - больше ли окупаемость фильма значения `1`"
   ]
  },
  {
   "cell_type": "code",
   "execution_count": 917,
   "metadata": {},
   "outputs": [
    {
     "name": "stderr",
     "output_type": "stream",
     "text": [
      "/tmp/ipykernel_266/1569989757.py:2: SettingWithCopyWarning: \n",
      "A value is trying to be set on a copy of a slice from a DataFrame.\n",
      "Try using .loc[row_indexer,col_indexer] = value instead\n",
      "\n",
      "See the caveats in the documentation: https://pandas.pydata.org/pandas-docs/stable/user_guide/indexing.html#returning-a-view-versus-a-copy\n",
      "  support_movies['full_support'] = support_movies['refundable_support'] + support_movies['nonrefundable_support']\n",
      "/tmp/ipykernel_266/1569989757.py:5: SettingWithCopyWarning: \n",
      "A value is trying to be set on a copy of a slice from a DataFrame.\n",
      "Try using .loc[row_indexer,col_indexer] = value instead\n",
      "\n",
      "See the caveats in the documentation: https://pandas.pydata.org/pandas-docs/stable/user_guide/indexing.html#returning-a-view-versus-a-copy\n",
      "  support_movies['recoupment'] = support_movies['box_office'] / support_movies['full_support']\n",
      "/tmp/ipykernel_266/1569989757.py:8: SettingWithCopyWarning: \n",
      "A value is trying to be set on a copy of a slice from a DataFrame.\n",
      "Try using .loc[row_indexer,col_indexer] = value instead\n",
      "\n",
      "See the caveats in the documentation: https://pandas.pydata.org/pandas-docs/stable/user_guide/indexing.html#returning-a-view-versus-a-copy\n",
      "  support_movies['paid_off'] = (support_movies['recoupment'] > 1)\n"
     ]
    }
   ],
   "source": [
    "# Полная государственная поддержка\n",
    "support_movies['full_support'] = support_movies['refundable_support'] + support_movies['nonrefundable_support']\n",
    "\n",
    "# Окупаемость фильма\n",
    "support_movies['recoupment'] = support_movies['box_office'] / support_movies['full_support']\n",
    "\n",
    "# Окупился ли фильм\n",
    "support_movies['paid_off'] = (support_movies['recoupment'] > 1)"
   ]
  },
  {
   "cell_type": "markdown",
   "metadata": {},
   "source": [
    "Посмотрим на распределение суммы гос.поддержки по жанрам"
   ]
  },
  {
   "cell_type": "code",
   "execution_count": 918,
   "metadata": {},
   "outputs": [
    {
     "data": {
      "text/plain": [
       "<AxesSubplot:title={'center':'Распределение объема гос.поддержки по жанрам'}, xlabel='genres'>"
      ]
     },
     "execution_count": 918,
     "metadata": {},
     "output_type": "execute_result"
    },
    {
     "data": {
      "image/png": "[encoded data removed]",
      "text/plain": [
       "<Figure size 1080x720 with 1 Axes>"
      ]
     },
     "metadata": {
      "needs_background": "light"
     },
     "output_type": "display_data"
    }
   ],
   "source": [
    "(\n",
    "    support_movies\n",
    "    .pivot_table(index='genres', values=['full_support', 'refundable_support', 'nonrefundable_support'], aggfunc='sum')\n",
    "    .sort_values(by='full_support', ascending=False)\n",
    "    .plot(\n",
    "        y=['refundable_support', 'nonrefundable_support'],\n",
    "        kind='bar',\n",
    "        stacked=True,\n",
    "        title='Распределение объема гос.поддержки по жанрам',\n",
    "        figsize=(15,10)\n",
    "    )\n",
    ")"
   ]
  },
  {
   "cell_type": "markdown",
   "metadata": {},
   "source": [
    "Из графика видно, что самая большая сумма гос. поддержки была выделена для фильмов жанров `драма`, `комедия` и `мультфильм`. Это подтверждает выводы, сделанные по графику `\"Распределение по жанрам фильмов, получивших господдержку\"`: самую большую гос.поддержку получают фильмы `драма`, `комедия`, `мультфильм`"
   ]
  },
  {
   "cell_type": "markdown",
   "metadata": {},
   "source": [
    "#### Изучение изменения государственной поддержки фильмов от года к году"
   ]
  },
  {
   "cell_type": "code",
   "execution_count": 919,
   "metadata": {},
   "outputs": [
    {
     "data": {
      "text/html": [
       "<div>\n",
       "<style scoped>\n",
       "    .dataframe tbody tr th:only-of-type {\n",
       "        vertical-align: middle;\n",
       "    }\n",
       "\n",
       "    .dataframe tbody tr th {\n",
       "        vertical-align: top;\n",
       "    }\n",
       "\n",
       "    .dataframe thead th {\n",
       "        text-align: right;\n",
       "    }\n",
       "</style>\n",
       "<table border=\"1\" class=\"dataframe\">\n",
       "  <thead>\n",
       "    <tr style=\"text-align: right;\">\n",
       "      <th></th>\n",
       "      <th>sum</th>\n",
       "      <th>count</th>\n",
       "      <th>mean</th>\n",
       "      <th>median</th>\n",
       "      <th>min</th>\n",
       "      <th>max</th>\n",
       "    </tr>\n",
       "    <tr>\n",
       "      <th>show_start_year</th>\n",
       "      <th></th>\n",
       "      <th></th>\n",
       "      <th></th>\n",
       "      <th></th>\n",
       "      <th></th>\n",
       "      <th></th>\n",
       "    </tr>\n",
       "  </thead>\n",
       "  <tbody>\n",
       "    <tr>\n",
       "      <th>2013</th>\n",
       "      <td>134347945</td>\n",
       "      <td>2</td>\n",
       "      <td>6.717397e+07</td>\n",
       "      <td>67173972.5</td>\n",
       "      <td>26500000</td>\n",
       "      <td>107847945</td>\n",
       "    </tr>\n",
       "    <tr>\n",
       "      <th>2014</th>\n",
       "      <td>572002299</td>\n",
       "      <td>16</td>\n",
       "      <td>3.575014e+07</td>\n",
       "      <td>27500000.0</td>\n",
       "      <td>20000000</td>\n",
       "      <td>90000000</td>\n",
       "    </tr>\n",
       "    <tr>\n",
       "      <th>2015</th>\n",
       "      <td>3568841459</td>\n",
       "      <td>83</td>\n",
       "      <td>4.299809e+07</td>\n",
       "      <td>30000000.0</td>\n",
       "      <td>4700000</td>\n",
       "      <td>250000000</td>\n",
       "    </tr>\n",
       "    <tr>\n",
       "      <th>2016</th>\n",
       "      <td>4253155482</td>\n",
       "      <td>60</td>\n",
       "      <td>7.088592e+07</td>\n",
       "      <td>35000000.0</td>\n",
       "      <td>6000000</td>\n",
       "      <td>450000000</td>\n",
       "    </tr>\n",
       "    <tr>\n",
       "      <th>2017</th>\n",
       "      <td>3183971662</td>\n",
       "      <td>41</td>\n",
       "      <td>7.765785e+07</td>\n",
       "      <td>40000000.0</td>\n",
       "      <td>6000000</td>\n",
       "      <td>400000000</td>\n",
       "    </tr>\n",
       "    <tr>\n",
       "      <th>2018</th>\n",
       "      <td>3446969465</td>\n",
       "      <td>56</td>\n",
       "      <td>6.155303e+07</td>\n",
       "      <td>45000000.0</td>\n",
       "      <td>15000000</td>\n",
       "      <td>260000000</td>\n",
       "    </tr>\n",
       "    <tr>\n",
       "      <th>2019</th>\n",
       "      <td>4634000000</td>\n",
       "      <td>69</td>\n",
       "      <td>6.715942e+07</td>\n",
       "      <td>40000000.0</td>\n",
       "      <td>3000000</td>\n",
       "      <td>500000000</td>\n",
       "    </tr>\n",
       "  </tbody>\n",
       "</table>\n",
       "</div>"
      ],
      "text/plain": [
       "                        sum  count          mean      median       min  \\\n",
       "show_start_year                                                          \n",
       "2013              134347945      2  6.717397e+07  67173972.5  26500000   \n",
       "2014              572002299     16  3.575014e+07  27500000.0  20000000   \n",
       "2015             3568841459     83  4.299809e+07  30000000.0   4700000   \n",
       "2016             4253155482     60  7.088592e+07  35000000.0   6000000   \n",
       "2017             3183971662     41  7.765785e+07  40000000.0   6000000   \n",
       "2018             3446969465     56  6.155303e+07  45000000.0  15000000   \n",
       "2019             4634000000     69  6.715942e+07  40000000.0   3000000   \n",
       "\n",
       "                       max  \n",
       "show_start_year             \n",
       "2013             107847945  \n",
       "2014              90000000  \n",
       "2015             250000000  \n",
       "2016             450000000  \n",
       "2017             400000000  \n",
       "2018             260000000  \n",
       "2019             500000000  "
      ]
     },
     "execution_count": 919,
     "metadata": {},
     "output_type": "execute_result"
    }
   ],
   "source": [
    "full_support_static = (\n",
    "    support_movies\n",
    "    .pivot_table(index='show_start_year', values='full_support', aggfunc=['sum', 'count','mean', 'median', 'min', 'max'])\n",
    "    .droplevel(1, axis=1)\n",
    ")\n",
    "full_support_static"
   ]
  },
  {
   "cell_type": "code",
   "execution_count": 920,
   "metadata": {},
   "outputs": [
    {
     "data": {
      "text/plain": [
       "<AxesSubplot:title={'center':'Количество фильмов, получающих гос поддержку за год'}, xlabel='show_start_year'>"
      ]
     },
     "execution_count": 920,
     "metadata": {},
     "output_type": "execute_result"
    },
    {
     "data": {
      "image/png": "[encoded data removed]",
      "text/plain": [
       "<Figure size 432x288 with 1 Axes>"
      ]
     },
     "metadata": {
      "needs_background": "light"
     },
     "output_type": "display_data"
    }
   ],
   "source": [
    "full_support_static.plot(y='count', grid=True, title='Количество фильмов, получающих гос поддержку за год')"
   ]
  },
  {
   "cell_type": "markdown",
   "metadata": {},
   "source": [
    "Из графика видно, что после 2014 года количество фильмов, получающих гос.поддержку резко увеличилось. В 2015 году количество фильмов, получивших гос.поддержку было максимальным(86). Далее за 2 года количество фильмов, получивших гос. поддержку, уменьшилось более чем в 2 раза (41 в 2017 году). Далее это число начало увеличиваться и в 2019 году составило 70 фильмов"
   ]
  },
  {
   "cell_type": "code",
   "execution_count": 921,
   "metadata": {
    "scrolled": true
   },
   "outputs": [
    {
     "data": {
      "text/plain": [
       "<AxesSubplot:title={'center':'Сумма гос.поддержки за год'}, xlabel='show_start_year'>"
      ]
     },
     "execution_count": 921,
     "metadata": {},
     "output_type": "execute_result"
    },
    {
     "data": {
      "image/png": "[encoded data removed]",
      "text/plain": [
       "<Figure size 432x288 with 1 Axes>"
      ]
     },
     "metadata": {
      "needs_background": "light"
     },
     "output_type": "display_data"
    }
   ],
   "source": [
    "full_support_static.plot(y='sum', grid=True, title='Сумма гос.поддержки за год')"
   ]
  },
  {
   "cell_type": "markdown",
   "metadata": {},
   "source": [
    "Сумма годовой гос.поддержки повторяет динамику графика количества фильмов, получающих гос.поддержку в год"
   ]
  },
  {
   "cell_type": "code",
   "execution_count": 922,
   "metadata": {},
   "outputs": [
    {
     "data": {
      "text/plain": [
       "<AxesSubplot:title={'center':'Ищменение средней и медионной суммы гос.поддержки'}, xlabel='show_start_year'>"
      ]
     },
     "execution_count": 922,
     "metadata": {},
     "output_type": "execute_result"
    },
    {
     "data": {
      "image/png": "[encoded data removed]",
      "text/plain": [
       "<Figure size 432x288 with 1 Axes>"
      ]
     },
     "metadata": {
      "needs_background": "light"
     },
     "output_type": "display_data"
    }
   ],
   "source": [
    "full_support_static.plot(y=['mean', 'median'], grid=True, title='Ищменение средней и медионной суммы гос.поддержки')"
   ]
  },
  {
   "cell_type": "markdown",
   "metadata": {},
   "source": [
    "Данный график также повторяет динамику прошлых двух. С учетом прошлых двух графиков значение 2013 года можно объяснить тем, что малое количество фильмов(2) получили большую сумму гос.поддержки(на уровне 2016-2019 годов)"
   ]
  },
  {
   "cell_type": "markdown",
   "metadata": {},
   "source": [
    "#### Изучение окупаемости фильмов от гос.поддержки"
   ]
  },
  {
   "cell_type": "code",
   "execution_count": 923,
   "metadata": {},
   "outputs": [
    {
     "data": {
      "text/html": [
       "<div>\n",
       "<style scoped>\n",
       "    .dataframe tbody tr th:only-of-type {\n",
       "        vertical-align: middle;\n",
       "    }\n",
       "\n",
       "    .dataframe tbody tr th {\n",
       "        vertical-align: top;\n",
       "    }\n",
       "\n",
       "    .dataframe thead th {\n",
       "        text-align: right;\n",
       "    }\n",
       "</style>\n",
       "<table border=\"1\" class=\"dataframe\">\n",
       "  <thead>\n",
       "    <tr style=\"text-align: right;\">\n",
       "      <th></th>\n",
       "      <th>count_movies</th>\n",
       "      <th>count_paid_off</th>\n",
       "      <th>percent_paid_off</th>\n",
       "    </tr>\n",
       "    <tr>\n",
       "      <th>show_start_year</th>\n",
       "      <th></th>\n",
       "      <th></th>\n",
       "      <th></th>\n",
       "    </tr>\n",
       "  </thead>\n",
       "  <tbody>\n",
       "    <tr>\n",
       "      <th>2013</th>\n",
       "      <td>2</td>\n",
       "      <td>0</td>\n",
       "      <td>0.000000</td>\n",
       "    </tr>\n",
       "    <tr>\n",
       "      <th>2014</th>\n",
       "      <td>16</td>\n",
       "      <td>5</td>\n",
       "      <td>0.312500</td>\n",
       "    </tr>\n",
       "    <tr>\n",
       "      <th>2015</th>\n",
       "      <td>83</td>\n",
       "      <td>24</td>\n",
       "      <td>0.289157</td>\n",
       "    </tr>\n",
       "    <tr>\n",
       "      <th>2016</th>\n",
       "      <td>60</td>\n",
       "      <td>20</td>\n",
       "      <td>0.333333</td>\n",
       "    </tr>\n",
       "    <tr>\n",
       "      <th>2017</th>\n",
       "      <td>41</td>\n",
       "      <td>22</td>\n",
       "      <td>0.536585</td>\n",
       "    </tr>\n",
       "    <tr>\n",
       "      <th>2018</th>\n",
       "      <td>56</td>\n",
       "      <td>26</td>\n",
       "      <td>0.464286</td>\n",
       "    </tr>\n",
       "    <tr>\n",
       "      <th>2019</th>\n",
       "      <td>69</td>\n",
       "      <td>20</td>\n",
       "      <td>0.289855</td>\n",
       "    </tr>\n",
       "  </tbody>\n",
       "</table>\n",
       "</div>"
      ],
      "text/plain": [
       "                 count_movies  count_paid_off  percent_paid_off\n",
       "show_start_year                                                \n",
       "2013                        2               0          0.000000\n",
       "2014                       16               5          0.312500\n",
       "2015                       83              24          0.289157\n",
       "2016                       60              20          0.333333\n",
       "2017                       41              22          0.536585\n",
       "2018                       56              26          0.464286\n",
       "2019                       69              20          0.289855"
      ]
     },
     "execution_count": 923,
     "metadata": {},
     "output_type": "execute_result"
    }
   ],
   "source": [
    "paid_off_movies = (\n",
    "    support_movies\n",
    "    .pivot_table(index='show_start_year', values='paid_off', aggfunc=['count', 'sum', 'mean'])\n",
    "    .droplevel(1, axis=1)\n",
    "    .rename(columns={'count': 'count_movies','sum': 'count_paid_off', 'mean': 'percent_paid_off'})\n",
    ")\n",
    "paid_off_movies"
   ]
  },
  {
   "cell_type": "code",
   "execution_count": 924,
   "metadata": {},
   "outputs": [
    {
     "data": {
      "text/plain": [
       "<AxesSubplot:xlabel='show_start_year'>"
      ]
     },
     "execution_count": 924,
     "metadata": {},
     "output_type": "execute_result"
    },
    {
     "data": {
      "image/png": "[encoded data removed]",
      "text/plain": [
       "<Figure size 432x288 with 1 Axes>"
      ]
     },
     "metadata": {
      "needs_background": "light"
     },
     "output_type": "display_data"
    }
   ],
   "source": [
    "paid_off_movies.plot(y='count_paid_off', kind='bar', grid=True)"
   ]
  },
  {
   "cell_type": "code",
   "execution_count": 925,
   "metadata": {},
   "outputs": [
    {
     "data": {
      "text/plain": [
       "<AxesSubplot:xlabel='show_start_year'>"
      ]
     },
     "execution_count": 925,
     "metadata": {},
     "output_type": "execute_result"
    },
    {
     "data": {
      "image/png": "[encoded data removed]",
      "text/plain": [
       "<Figure size 432x288 with 1 Axes>"
      ]
     },
     "metadata": {
      "needs_background": "light"
     },
     "output_type": "display_data"
    }
   ],
   "source": [
    "paid_off_movies.plot(y='percent_paid_off', kind='bar', grid=True)"
   ]
  },
  {
   "cell_type": "markdown",
   "metadata": {},
   "source": [
    "Из диаграмм видно, что окупаемость фильмов маленькая - меньше 50%. Лишь в 2017 году 54% фильмов окупились (сумма сборов превысила сумму гос поддержки)"
   ]
  },
  {
   "cell_type": "markdown",
   "metadata": {},
   "source": [
    "#### Изучение связи суммы гос.поддержки с другими показателями"
   ]
  },
  {
   "cell_type": "markdown",
   "metadata": {},
   "source": [
    "Связь суммы гос.поддержки с суммой сборов"
   ]
  },
  {
   "cell_type": "code",
   "execution_count": 926,
   "metadata": {},
   "outputs": [
    {
     "name": "stdout",
     "output_type": "stream",
     "text": [
      "Коэффициент корреляции размера государственной поддержки и суммы сборов равен 0.46\n"
     ]
    },
    {
     "data": {
      "text/plain": [
       "<AxesSubplot:xlabel='full_support', ylabel='box_office'>"
      ]
     },
     "execution_count": 926,
     "metadata": {},
     "output_type": "execute_result"
    },
    {
     "data": {
      "image/png": "[encoded data removed]",
      "text/plain": [
       "<Figure size 432x288 with 1 Axes>"
      ]
     },
     "metadata": {
      "needs_background": "light"
     },
     "output_type": "display_data"
    }
   ],
   "source": [
    "corr = support_movies['full_support'].corr(support_movies['box_office'])\n",
    "print(f'Коэффициент корреляции размера государственной поддержки и суммы сборов равен {corr:.2f}')\n",
    "support_movies.plot(\n",
    "    x='full_support',\n",
    "    y='box_office',\n",
    "    kind='scatter',\n",
    "    grid=True,\n",
    "    alpha=.3\n",
    ")"
   ]
  },
  {
   "cell_type": "markdown",
   "metadata": {},
   "source": [
    "График и коэффициент корреляции показывают, что сумма гос.поддержки слабо связана с суммоу сборов"
   ]
  },
  {
   "cell_type": "markdown",
   "metadata": {},
   "source": [
    "Связь суммы гос.поддержки с рейтингом фильма"
   ]
  },
  {
   "cell_type": "code",
   "execution_count": 927,
   "metadata": {},
   "outputs": [
    {
     "name": "stdout",
     "output_type": "stream",
     "text": [
      "Коэффициент корреляции размера государственной поддержки и суммы сборов равен 0.11\n"
     ]
    },
    {
     "data": {
      "text/plain": [
       "<AxesSubplot:xlabel='full_support', ylabel='ratings'>"
      ]
     },
     "execution_count": 927,
     "metadata": {},
     "output_type": "execute_result"
    },
    {
     "data": {
      "image/png": "[encoded data removed]",
      "text/plain": [
       "<Figure size 432x288 with 1 Axes>"
      ]
     },
     "metadata": {
      "needs_background": "light"
     },
     "output_type": "display_data"
    }
   ],
   "source": [
    "corr = support_movies['full_support'].corr(support_movies['ratings'])\n",
    "print(f'Коэффициент корреляции размера государственной поддержки и суммы сборов равен {corr:.2f}')\n",
    "support_movies.plot(\n",
    "    x='full_support',\n",
    "    y='ratings',\n",
    "    kind='scatter',\n",
    "    grid=True,\n",
    "    alpha=.3\n",
    ")"
   ]
  },
  {
   "cell_type": "markdown",
   "metadata": {},
   "source": [
    "График и коэффициент корреляции показывают, что рейтинг фильмане связан с суммой гос поддержки"
   ]
  },
  {
   "cell_type": "markdown",
   "metadata": {},
   "source": [
    "#### Изучение источников финансирования"
   ]
  },
  {
   "cell_type": "code",
   "execution_count": 928,
   "metadata": {},
   "outputs": [
    {
     "data": {
      "text/plain": [
       "array(['Министерство культуры', 'Фонд кино',\n",
       "       'Министерство культуры, Фонд кино'], dtype=object)"
      ]
     },
     "execution_count": 928,
     "metadata": {},
     "output_type": "execute_result"
    }
   ],
   "source": [
    "support_movies['financing_source'].unique()"
   ]
  },
  {
   "cell_type": "code",
   "execution_count": 929,
   "metadata": {},
   "outputs": [
    {
     "data": {
      "text/html": [
       "<div>\n",
       "<style scoped>\n",
       "    .dataframe tbody tr th:only-of-type {\n",
       "        vertical-align: middle;\n",
       "    }\n",
       "\n",
       "    .dataframe tbody tr th {\n",
       "        vertical-align: top;\n",
       "    }\n",
       "\n",
       "    .dataframe thead th {\n",
       "        text-align: right;\n",
       "    }\n",
       "</style>\n",
       "<table border=\"1\" class=\"dataframe\">\n",
       "  <thead>\n",
       "    <tr style=\"text-align: right;\">\n",
       "      <th></th>\n",
       "      <th>count</th>\n",
       "      <th>sum</th>\n",
       "      <th>mean</th>\n",
       "    </tr>\n",
       "    <tr>\n",
       "      <th>financing_source</th>\n",
       "      <th></th>\n",
       "      <th></th>\n",
       "      <th></th>\n",
       "    </tr>\n",
       "  </thead>\n",
       "  <tbody>\n",
       "    <tr>\n",
       "      <th>Министерство культуры, Фонд кино</th>\n",
       "      <td>21</td>\n",
       "      <td>1159531354</td>\n",
       "      <td>5.521578e+07</td>\n",
       "    </tr>\n",
       "    <tr>\n",
       "      <th>Министерство культуры</th>\n",
       "      <td>162</td>\n",
       "      <td>4775161000</td>\n",
       "      <td>2.947630e+07</td>\n",
       "    </tr>\n",
       "    <tr>\n",
       "      <th>Фонд кино</th>\n",
       "      <td>144</td>\n",
       "      <td>13858595958</td>\n",
       "      <td>9.624025e+07</td>\n",
       "    </tr>\n",
       "  </tbody>\n",
       "</table>\n",
       "</div>"
      ],
      "text/plain": [
       "                                  count          sum          mean\n",
       "financing_source                                                  \n",
       "Министерство культуры, Фонд кино     21   1159531354  5.521578e+07\n",
       "Министерство культуры               162   4775161000  2.947630e+07\n",
       "Фонд кино                           144  13858595958  9.624025e+07"
      ]
     },
     "execution_count": 929,
     "metadata": {},
     "output_type": "execute_result"
    }
   ],
   "source": [
    "(\n",
    "    support_movies\n",
    "    .pivot_table(index='financing_source', values='full_support', aggfunc=['count', 'sum', 'mean'])\n",
    "    .droplevel(1, axis=1)\n",
    "    .sort_values(by='sum')\n",
    ")"
   ]
  },
  {
   "cell_type": "markdown",
   "metadata": {},
   "source": [
    "Из таблицы видно, что несмотря на то, что `Фонд кино` реже выдерляет средства на поддержку фильмов, они выделяют суммы гораздо больше. Средняя суммы, выделяемая `Министерством культуры` составляет 29000000 рублей, а средняя сумма, выделяемая `Фонд кино` составляет 97000000 рублей"
   ]
  },
  {
   "cell_type": "code",
   "execution_count": 930,
   "metadata": {},
   "outputs": [
    {
     "data": {
      "text/html": [
       "<div>\n",
       "<style scoped>\n",
       "    .dataframe tbody tr th:only-of-type {\n",
       "        vertical-align: middle;\n",
       "    }\n",
       "\n",
       "    .dataframe tbody tr th {\n",
       "        vertical-align: top;\n",
       "    }\n",
       "\n",
       "    .dataframe thead th {\n",
       "        text-align: right;\n",
       "    }\n",
       "</style>\n",
       "<table border=\"1\" class=\"dataframe\">\n",
       "  <thead>\n",
       "    <tr style=\"text-align: right;\">\n",
       "      <th></th>\n",
       "      <th>nonrefundable_support</th>\n",
       "      <th>refundable_support</th>\n",
       "    </tr>\n",
       "    <tr>\n",
       "      <th>financing_source</th>\n",
       "      <th></th>\n",
       "      <th></th>\n",
       "    </tr>\n",
       "  </thead>\n",
       "  <tbody>\n",
       "    <tr>\n",
       "      <th>Министерство культуры</th>\n",
       "      <td>4775161000</td>\n",
       "      <td>0</td>\n",
       "    </tr>\n",
       "    <tr>\n",
       "      <th>Министерство культуры, Фонд кино</th>\n",
       "      <td>834031354</td>\n",
       "      <td>325500000</td>\n",
       "    </tr>\n",
       "    <tr>\n",
       "      <th>Фонд кино</th>\n",
       "      <td>10450095958</td>\n",
       "      <td>3408500000</td>\n",
       "    </tr>\n",
       "  </tbody>\n",
       "</table>\n",
       "</div>"
      ],
      "text/plain": [
       "                                  nonrefundable_support  refundable_support\n",
       "financing_source                                                           \n",
       "Министерство культуры                        4775161000                   0\n",
       "Министерство культуры, Фонд кино              834031354           325500000\n",
       "Фонд кино                                   10450095958          3408500000"
      ]
     },
     "execution_count": 930,
     "metadata": {},
     "output_type": "execute_result"
    }
   ],
   "source": [
    "(\n",
    "    support_movies\n",
    "    .pivot_table(index='financing_source', values=['refundable_support', 'nonrefundable_support'], aggfunc='sum')\n",
    ")"
   ]
  },
  {
   "cell_type": "markdown",
   "metadata": {},
   "source": [
    "Из этой таблицы видно, что `Министерство культуры` выделяет только невозвратную гос.поддержку, тогда как у `Фонд кино` присутствует возвратная гос.поддержка"
   ]
  },
  {
   "cell_type": "markdown",
   "metadata": {},
   "source": [
    "Изучим, какие жанры чаще всего поддерживаются каждой из организаций"
   ]
  },
  {
   "cell_type": "code",
   "execution_count": 931,
   "metadata": {},
   "outputs": [],
   "source": [
    "support_culture_ministry = support_movies.query('financing_source == \"Министерство культуры\"')\n",
    "support_cinema_foundation = support_movies.query('financing_source == \"Фонд кино\"')"
   ]
  },
  {
   "cell_type": "code",
   "execution_count": 932,
   "metadata": {},
   "outputs": [
    {
     "data": {
      "text/html": [
       "<div>\n",
       "<style scoped>\n",
       "    .dataframe tbody tr th:only-of-type {\n",
       "        vertical-align: middle;\n",
       "    }\n",
       "\n",
       "    .dataframe tbody tr th {\n",
       "        vertical-align: top;\n",
       "    }\n",
       "\n",
       "    .dataframe thead th {\n",
       "        text-align: right;\n",
       "    }\n",
       "</style>\n",
       "<table border=\"1\" class=\"dataframe\">\n",
       "  <thead>\n",
       "    <tr style=\"text-align: right;\">\n",
       "      <th></th>\n",
       "      <th>count</th>\n",
       "      <th>sum</th>\n",
       "    </tr>\n",
       "    <tr>\n",
       "      <th>genres</th>\n",
       "      <th></th>\n",
       "      <th></th>\n",
       "    </tr>\n",
       "  </thead>\n",
       "  <tbody>\n",
       "    <tr>\n",
       "      <th>драма</th>\n",
       "      <td>61</td>\n",
       "      <td>1780300000</td>\n",
       "    </tr>\n",
       "    <tr>\n",
       "      <th>комедия</th>\n",
       "      <td>29</td>\n",
       "      <td>800331000</td>\n",
       "    </tr>\n",
       "    <tr>\n",
       "      <th>мелодрама</th>\n",
       "      <td>11</td>\n",
       "      <td>288500000</td>\n",
       "    </tr>\n",
       "    <tr>\n",
       "      <th>unknown</th>\n",
       "      <td>11</td>\n",
       "      <td>340000000</td>\n",
       "    </tr>\n",
       "    <tr>\n",
       "      <th>военный</th>\n",
       "      <td>7</td>\n",
       "      <td>305000000</td>\n",
       "    </tr>\n",
       "    <tr>\n",
       "      <th>триллер</th>\n",
       "      <td>7</td>\n",
       "      <td>205000000</td>\n",
       "    </tr>\n",
       "    <tr>\n",
       "      <th>приключения</th>\n",
       "      <td>5</td>\n",
       "      <td>176000000</td>\n",
       "    </tr>\n",
       "    <tr>\n",
       "      <th>детский</th>\n",
       "      <td>4</td>\n",
       "      <td>119000000</td>\n",
       "    </tr>\n",
       "    <tr>\n",
       "      <th>семейный</th>\n",
       "      <td>4</td>\n",
       "      <td>113000000</td>\n",
       "    </tr>\n",
       "    <tr>\n",
       "      <th>ужасы</th>\n",
       "      <td>4</td>\n",
       "      <td>109000000</td>\n",
       "    </tr>\n",
       "    <tr>\n",
       "      <th>фантастика</th>\n",
       "      <td>4</td>\n",
       "      <td>71000000</td>\n",
       "    </tr>\n",
       "    <tr>\n",
       "      <th>фэнтези</th>\n",
       "      <td>4</td>\n",
       "      <td>119000000</td>\n",
       "    </tr>\n",
       "    <tr>\n",
       "      <th>биография</th>\n",
       "      <td>3</td>\n",
       "      <td>112510000</td>\n",
       "    </tr>\n",
       "    <tr>\n",
       "      <th>мультфильм</th>\n",
       "      <td>3</td>\n",
       "      <td>66520000</td>\n",
       "    </tr>\n",
       "    <tr>\n",
       "      <th>детектив</th>\n",
       "      <td>2</td>\n",
       "      <td>70000000</td>\n",
       "    </tr>\n",
       "    <tr>\n",
       "      <th>боевик</th>\n",
       "      <td>2</td>\n",
       "      <td>60000000</td>\n",
       "    </tr>\n",
       "    <tr>\n",
       "      <th>история</th>\n",
       "      <td>1</td>\n",
       "      <td>40000000</td>\n",
       "    </tr>\n",
       "  </tbody>\n",
       "</table>\n",
       "</div>"
      ],
      "text/plain": [
       "             count         sum\n",
       "genres                        \n",
       "драма           61  1780300000\n",
       "комедия         29   800331000\n",
       "мелодрама       11   288500000\n",
       "unknown         11   340000000\n",
       "военный          7   305000000\n",
       "триллер          7   205000000\n",
       "приключения      5   176000000\n",
       "детский          4   119000000\n",
       "семейный         4   113000000\n",
       "ужасы            4   109000000\n",
       "фантастика       4    71000000\n",
       "фэнтези          4   119000000\n",
       "биография        3   112510000\n",
       "мультфильм       3    66520000\n",
       "детектив         2    70000000\n",
       "боевик           2    60000000\n",
       "история          1    40000000"
      ]
     },
     "execution_count": 932,
     "metadata": {},
     "output_type": "execute_result"
    }
   ],
   "source": [
    "(\n",
    "    support_culture_ministry\n",
    "    .pivot_table(index='genres', values='full_support', aggfunc=['count', 'sum'])\n",
    "    .droplevel(1, axis=1)\n",
    "    .sort_values(by='count', ascending=False)\n",
    ")"
   ]
  },
  {
   "cell_type": "markdown",
   "metadata": {},
   "source": [
    "`Министерство культуры` чаще всего поддерживает фильмы жанров `драма`(61 фильм из выборки). Также часто гос. поддержку от данной организации получают фильм жанров `комедия`(29 фильмов из выборки) и `мелодрама`(13 фильмов из выборки)"
   ]
  },
  {
   "cell_type": "code",
   "execution_count": 933,
   "metadata": {},
   "outputs": [
    {
     "data": {
      "text/html": [
       "<div>\n",
       "<style scoped>\n",
       "    .dataframe tbody tr th:only-of-type {\n",
       "        vertical-align: middle;\n",
       "    }\n",
       "\n",
       "    .dataframe tbody tr th {\n",
       "        vertical-align: top;\n",
       "    }\n",
       "\n",
       "    .dataframe thead th {\n",
       "        text-align: right;\n",
       "    }\n",
       "</style>\n",
       "<table border=\"1\" class=\"dataframe\">\n",
       "  <thead>\n",
       "    <tr style=\"text-align: right;\">\n",
       "      <th></th>\n",
       "      <th>count</th>\n",
       "      <th>sum</th>\n",
       "    </tr>\n",
       "    <tr>\n",
       "      <th>genres</th>\n",
       "      <th></th>\n",
       "      <th></th>\n",
       "    </tr>\n",
       "  </thead>\n",
       "  <tbody>\n",
       "    <tr>\n",
       "      <th>комедия</th>\n",
       "      <td>43</td>\n",
       "      <td>2342751945</td>\n",
       "    </tr>\n",
       "    <tr>\n",
       "      <th>мультфильм</th>\n",
       "      <td>28</td>\n",
       "      <td>2395000000</td>\n",
       "    </tr>\n",
       "    <tr>\n",
       "      <th>драма</th>\n",
       "      <td>21</td>\n",
       "      <td>2973228397</td>\n",
       "    </tr>\n",
       "    <tr>\n",
       "      <th>фантастика</th>\n",
       "      <td>7</td>\n",
       "      <td>1335000000</td>\n",
       "    </tr>\n",
       "    <tr>\n",
       "      <th>триллер</th>\n",
       "      <td>7</td>\n",
       "      <td>414645285</td>\n",
       "    </tr>\n",
       "    <tr>\n",
       "      <th>ужасы</th>\n",
       "      <td>6</td>\n",
       "      <td>246000000</td>\n",
       "    </tr>\n",
       "    <tr>\n",
       "      <th>фэнтези</th>\n",
       "      <td>6</td>\n",
       "      <td>888000000</td>\n",
       "    </tr>\n",
       "    <tr>\n",
       "      <th>боевик</th>\n",
       "      <td>4</td>\n",
       "      <td>274000000</td>\n",
       "    </tr>\n",
       "    <tr>\n",
       "      <th>unknown</th>\n",
       "      <td>4</td>\n",
       "      <td>293969465</td>\n",
       "    </tr>\n",
       "    <tr>\n",
       "      <th>криминал</th>\n",
       "      <td>3</td>\n",
       "      <td>280000000</td>\n",
       "    </tr>\n",
       "    <tr>\n",
       "      <th>семейный</th>\n",
       "      <td>3</td>\n",
       "      <td>226000000</td>\n",
       "    </tr>\n",
       "    <tr>\n",
       "      <th>спорт</th>\n",
       "      <td>3</td>\n",
       "      <td>455000000</td>\n",
       "    </tr>\n",
       "    <tr>\n",
       "      <th>история</th>\n",
       "      <td>3</td>\n",
       "      <td>980000000</td>\n",
       "    </tr>\n",
       "    <tr>\n",
       "      <th>детектив</th>\n",
       "      <td>2</td>\n",
       "      <td>360000000</td>\n",
       "    </tr>\n",
       "    <tr>\n",
       "      <th>мелодрама</th>\n",
       "      <td>1</td>\n",
       "      <td>25000000</td>\n",
       "    </tr>\n",
       "    <tr>\n",
       "      <th>мюзикл</th>\n",
       "      <td>1</td>\n",
       "      <td>40000000</td>\n",
       "    </tr>\n",
       "    <tr>\n",
       "      <th>приключения</th>\n",
       "      <td>1</td>\n",
       "      <td>250000000</td>\n",
       "    </tr>\n",
       "    <tr>\n",
       "      <th>военный</th>\n",
       "      <td>1</td>\n",
       "      <td>80000866</td>\n",
       "    </tr>\n",
       "  </tbody>\n",
       "</table>\n",
       "</div>"
      ],
      "text/plain": [
       "             count         sum\n",
       "genres                        \n",
       "комедия         43  2342751945\n",
       "мультфильм      28  2395000000\n",
       "драма           21  2973228397\n",
       "фантастика       7  1335000000\n",
       "триллер          7   414645285\n",
       "ужасы            6   246000000\n",
       "фэнтези          6   888000000\n",
       "боевик           4   274000000\n",
       "unknown          4   293969465\n",
       "криминал         3   280000000\n",
       "семейный         3   226000000\n",
       "спорт            3   455000000\n",
       "история          3   980000000\n",
       "детектив         2   360000000\n",
       "мелодрама        1    25000000\n",
       "мюзикл           1    40000000\n",
       "приключения      1   250000000\n",
       "военный          1    80000866"
      ]
     },
     "execution_count": 933,
     "metadata": {},
     "output_type": "execute_result"
    }
   ],
   "source": [
    "(\n",
    "    support_cinema_foundation\n",
    "    .pivot_table(index='genres', values='full_support', aggfunc=['count', 'sum'])\n",
    "    .droplevel(1, axis=1)\n",
    "    .sort_values(by='count', ascending=False)\n",
    ")"
   ]
  },
  {
   "cell_type": "markdown",
   "metadata": {},
   "source": [
    "`Фонд кино` чаще всего поддерживает фильмы жанров `комедия`(43 фильм из выборки). Также часто гос. поддержку от данной организации получают фильм жанров `мультфильм`(28 фильмов из выборки) и `драма`(22 фильмов из выборки)"
   ]
  },
  {
   "cell_type": "markdown",
   "metadata": {},
   "source": [
    "#### Изучим какую поддержку получал каждый из режисеров"
   ]
  },
  {
   "cell_type": "code",
   "execution_count": 934,
   "metadata": {},
   "outputs": [
    {
     "data": {
      "text/html": [
       "<div>\n",
       "<style scoped>\n",
       "    .dataframe tbody tr th:only-of-type {\n",
       "        vertical-align: middle;\n",
       "    }\n",
       "\n",
       "    .dataframe tbody tr th {\n",
       "        vertical-align: top;\n",
       "    }\n",
       "\n",
       "    .dataframe thead th {\n",
       "        text-align: right;\n",
       "    }\n",
       "</style>\n",
       "<table border=\"1\" class=\"dataframe\">\n",
       "  <thead>\n",
       "    <tr style=\"text-align: right;\">\n",
       "      <th></th>\n",
       "      <th>count</th>\n",
       "      <th>sum</th>\n",
       "    </tr>\n",
       "    <tr>\n",
       "      <th>director</th>\n",
       "      <th></th>\n",
       "      <th></th>\n",
       "    </tr>\n",
       "  </thead>\n",
       "  <tbody>\n",
       "    <tr>\n",
       "      <th>р.давлетьяров</th>\n",
       "      <td>5</td>\n",
       "      <td>459847945</td>\n",
       "    </tr>\n",
       "    <tr>\n",
       "      <th>д.дьяченко</th>\n",
       "      <td>4</td>\n",
       "      <td>351000000</td>\n",
       "    </tr>\n",
       "    <tr>\n",
       "      <th>с.андреасян</th>\n",
       "      <td>4</td>\n",
       "      <td>325000000</td>\n",
       "    </tr>\n",
       "    <tr>\n",
       "      <th>н.хомерики</th>\n",
       "      <td>3</td>\n",
       "      <td>660000000</td>\n",
       "    </tr>\n",
       "    <tr>\n",
       "      <th>а.цицилин</th>\n",
       "      <td>3</td>\n",
       "      <td>350000000</td>\n",
       "    </tr>\n",
       "    <tr>\n",
       "      <th>к.шипенко</th>\n",
       "      <td>3</td>\n",
       "      <td>312000000</td>\n",
       "    </tr>\n",
       "    <tr>\n",
       "      <th>д.шмидт</th>\n",
       "      <td>3</td>\n",
       "      <td>215000000</td>\n",
       "    </tr>\n",
       "    <tr>\n",
       "      <th>а.аксененко</th>\n",
       "      <td>3</td>\n",
       "      <td>90000000</td>\n",
       "    </tr>\n",
       "  </tbody>\n",
       "</table>\n",
       "</div>"
      ],
      "text/plain": [
       "               count        sum\n",
       "director                       \n",
       "р.давлетьяров      5  459847945\n",
       "д.дьяченко         4  351000000\n",
       "с.андреасян        4  325000000\n",
       "н.хомерики         3  660000000\n",
       "а.цицилин          3  350000000\n",
       "к.шипенко          3  312000000\n",
       "д.шмидт            3  215000000\n",
       "а.аксененко        3   90000000"
      ]
     },
     "execution_count": 934,
     "metadata": {},
     "output_type": "execute_result"
    }
   ],
   "source": [
    "(\n",
    "    support_movies\n",
    "    .pivot_table(index='director', values='full_support', aggfunc=['count', 'sum'])\n",
    "    .droplevel(1, axis=1)\n",
    "    .sort_values(by=['count','sum'], ascending=False)\n",
    "    .query('count > 2')\n",
    ")"
   ]
  },
  {
   "cell_type": "markdown",
   "metadata": {},
   "source": [
    "В таблице представлены режисеры, фильмы которых чаще всего получали гос.поддержку. Лишь 3 режисера получали гос.поддержку 4 раза(`р.давлетьяров`, `с.андреасян`, `д.дьяченко`). Однако самую большую сумму гос.поддрежки получил режисер `н.хомерики` - 660000000 рублей на 3 фильма"
   ]
  },
  {
   "cell_type": "markdown",
   "metadata": {},
   "source": [
    "#### Изучение стран производителей фильмов, получивших гос.поддержку"
   ]
  },
  {
   "cell_type": "code",
   "execution_count": 935,
   "metadata": {
    "scrolled": true
   },
   "outputs": [
    {
     "data": {
      "text/plain": [
       "россия    327\n",
       "Name: production_country, dtype: int64"
      ]
     },
     "execution_count": 935,
     "metadata": {},
     "output_type": "execute_result"
    }
   ],
   "source": [
    "support_movies['production_country'].value_counts()"
   ]
  },
  {
   "cell_type": "markdown",
   "metadata": {},
   "source": [
    "Все фильмы получивший гос.поддержку были сняты или Россией или при участии России"
   ]
  },
  {
   "cell_type": "markdown",
   "metadata": {},
   "source": [
    "<div class=\"alert alert-info\">\n",
    "    <p><b>Вывод:</b> Суммы поддержки кинопроизводства постепенно растут. Но растет и количество фильмов (то етсь конкуренция за получение гос.поддержки)</p>\n",
    "    <p>Если Организация, которая планирует снимать фильм и получить гос.поддержку, то учтите, что лучше всего оказывается поддержка фильмам из жанроа: драмма, комедия, мультфильм. Самую большую поддержку можно получить от организации \"Фонд кино\". Однако часть суммы может оказаться возвратной. Поддержка от организации \"Министерство культуры\" меньше, но всегда является невозвратной</p>\n",
    "    <p>Если вы организация, которая планирует поддержку кино, то стоит внимательно изучить сценарий и интерес рынка, так как от суммы поддержки не зависят ни кассовые сборы, ни рейтинг будущего фильма. Все большую популярность набирают семейные фильмы, поэтому выгоднее всего оказываться поддержку фильмам с категорией \"12+\" или \"18+\". Мультфильмы имеют гораздо меньшие кассовые сборы. Также стоит изучить успех предыдущих фильмов режисера (если они имеются)</p>\n",
    "</div>"
   ]
  },
  {
   "cell_type": "markdown",
   "metadata": {},
   "source": [
    "<div class=\"alert alert-danger\">\n",
    "<b>Комментарий ревьюера (необходимо исправить)</b> \n",
    "\n",
    "Хорошее исследование, молодец, что рассмотрел доли бюджета по поддержке. Однако, в конце не хватает общего вывода по этапам этого исследования - давай доработаем этот момент. Может, можно дать какую-то рекомендацию организациям, планирующим поддержку кинокартин, или же, наоборот, тем, кто планирует кинопроизводство.\n",
    "</div>"
   ]
  },
  {
   "cell_type": "markdown",
   "metadata": {},
   "source": [
    "<div class=\"alert alert-success\">\n",
    "<b>Комментарий ревьюера v2 (ОК)</b> \n",
    "\n",
    "Хорошо получилось оформить рекомендации на основе полученных результатов 👍</div>"
   ]
  },
  {
   "cell_type": "markdown",
   "metadata": {
    "id": "V2gYwMcPgFyd"
   },
   "source": [
    "### Шаг 5. Напишите общий вывод"
   ]
  },
  {
   "cell_type": "markdown",
   "metadata": {},
   "source": [
    "В результате была проделана работа по анализу российского рынка рынка кинопроката. Была изучена динамика рынка за последние годы, а также самые успешные возрастные категории фильмов. В результате анализа можно сделать следующие выводы:  \n",
    "1. С 2010 года количество фильмов, выходящих в прокат, стабильно увеличивается. С 2013 по 2015 года наблюдается особо быстрый рост. В 2017 году произошла просадка по количеству фильмов, вышедших в прокат. С 2018 года количество фильмов возращается на уровень 2015 года.  \n",
    "2. Также с 2013 года росло не отлько количество фильмов, выходящих в прокат, но и сумма сборов с каждого фильма.  \n",
    "3. Суммв сборов фильма зависит от его возрастных ограничений. Самые большие сборы имею фильмы с возрастным ограничением 6+ и 12+. Самые низкие сборы имеют фильм 0+.  \n",
    "  \n",
    "Дополнительно был проведен анализ фильмов, которым оказывалась гос. поддержка и сформулированы рекомендации как для организаций, снимающий фильмы, так и для огранизаций оказывающих финансовую поддержку.    \n",
    "**Главные выводы по оказанию гос.поддержки фильмов**:  \n",
    "1. Все фильмы получающие гос.поддержку относятся к российскому кинематогрофу.  \n",
    "2. Чаще гос. поддержку получают фильмы из жанров `драма`(93 фильма из датасета), `комедия`(74 фильма из датасеты) и `мультфильм`(31 фильм из датасета)\n",
    "3. Наиболее активная гос.поддержка кино началась с 2015 года. С того момента она сильно не изменилась.  \n",
    "4. Источниками финансирования являются `Министерство культуры` и `Фонд кино`. `Фонд кино` выделяет больше средства на поддержку кинематогрофа, однако суммы может оказаться возвратной. `Министерство культуры` в свою очередь выделяет гораздо меньшие суммы, но все они являются невозвратными.\n",
    "5. Чаще всего(4 раза) получали гос.поддержку фильмы трех режисовров - `р.давлетьяров`, `с.андреасян`, `д.дьяченко`. Однако самую большую сумму гос.поддрежки получил режисер `н.хомерики` - 660000000 рублей на 3 фильма\n",
    "6. Несмотря на гос.поддержку кинопроизводства, окупаются меньше 50% фильмов. Лишь в 2017 году 54% фильмов окупились.\n",
    "7. Сумма сборов фильма почти не зависит от полученной гос.поддержки (коэффициент корреляции - 0.46)\n",
    "8. Рейтинг фильма не имеет никакой связи с полученной гос.поддержкой (коэффициент корреляции - 0.11)  \n",
    "**Основные рекомендации**\n",
    "1. **Для организаций, который планирует снимать фильм и получить гос.поддержку.** Лучше всего оказывается поддержка фильмам из жанроа: драмма, комедия, мультфильм. Самую большую поддержку можно получить от организации \"Фонд кино\". Однако часть суммы может оказаться возвратной. Поддержка от организации \"Министерство культуры\" меньше, но всегда является невозвратной\n",
    "2. **Для организаций, оказывающих гос. поддержку.** Внимательно изучите сценарий и интерес рынка, так как от суммы поддержки не зависят ни кассовые сборы, ни рейтинг будущего фильма. Все большую популярность набирают семейные фильмы, поэтому выгоднее всего оказываться поддержку фильмам с категорией \"12+\" или \"18+\". Мультфильмы имеют гораздо меньшие кассовые сборы. Также стоит изучить успех предыдущих фильмов режисера (если они имеются)"
   ]
  },
  {
   "cell_type": "markdown",
   "metadata": {},
   "source": [
    "<div class=\"alert alert-info\">\n",
    "    Выводы подправил\n",
    "</div>"
   ]
  },
  {
   "cell_type": "markdown",
   "id": "2557a8c1",
   "metadata": {},
   "source": [
    "<div class=\"alert alert-danger\">\n",
    "<b>Комментарий ревьюера (необходимо исправить)</b>\n",
    "\n",
    "Давай также доработаем финальный вывод, чтобы он выглядел более оформленным: я бы посоветовала начать вывод с описания того, о чем был сам проект, и выделила бы два блока: выполненные действия по ходу анализа и сами результаты с интерпретацией — это хорошо структурирует итоговый вывод и сделает его более основательным 😊\n",
    "</div>"
   ]
  },
  {
   "cell_type": "markdown",
   "metadata": {},
   "source": [
    "<div class=\"alert alert-success\">\n",
    "<b>Комментарий ревьюера v2 (ОК)</b> \n",
    "\n",
    "Вот теперь другое дело) Получился хороший, структурированный вывод, прочитав который ясно, в чем заключалась работа и какие результаты были получены.</div>"
   ]
  },
  {
   "cell_type": "markdown",
   "metadata": {},
   "source": [
    "**Резюме по проекту**\n",
    "\n",
    "В целом, у тебя вышла достойная работа, я вижу, что ты осмыленно подходишь к выполнению исследований, подробно разбираешь этапы анализа, а это очень важно. Особенно хочу отметить интерпретацию результатов, мне понравилось, что ты добавляешь рассуждения в сравнении с реальной ситуацией, находишь, примеры и на них демонстрируешь полученные результаты.\n",
    "\n",
    "Есть ряд замечаний, которые я попрошу тебя поправить:\n",
    "- назвать общую проблему остальных категориальных столбцов;\n",
    "- добавить анализ выбросов при изучении количественных столбцов;\n",
    "- доработать проверку на дубликаты;\n",
    "- добавить сводный вывод по исследованию гос. бюджета;\n",
    "- доработать финальный вывод.\n",
    "\n",
    "Также, пожалуйста, обрати внимание на остальные блоки, там я оставила небольшие рекомендации. Возвращаю проект обратно для ознакомления с комментариями и внесения корректировок. Если у тебя возникнут вопросы, я с радостью на них отвечу.\n",
    "\n",
    "Успехов с выполнением!"
   ]
  },
  {
   "cell_type": "markdown",
   "metadata": {},
   "source": [
    "***\n",
    "**Резюме по итогам ревью**\n",
    "\n",
    "Спасибо за внимание к моим комментариям! Молодец, что подробно проработал все замечания и рекомендации.\n",
    "Других замечаний у меня нет, работу принимаю.\n",
    "\n",
    "Удачи тебе с будущими проектами!"
   ]
  }
 ],
 "metadata": {
  "ExecuteTimeLog": [
   {
    "duration": 537,
    "start_time": "2021-07-07T10:12:08.634Z"
   },
   {
    "duration": 206,
    "start_time": "2021-07-07T10:12:30.191Z"
   },
   {
    "duration": 227,
    "start_time": "2021-07-07T10:12:33.078Z"
   },
   {
    "duration": 153,
    "start_time": "2021-07-07T10:13:42.146Z"
   },
   {
    "duration": 233,
    "start_time": "2021-07-07T10:30:09.252Z"
   },
   {
    "duration": 19,
    "start_time": "2021-07-07T10:30:15.577Z"
   },
   {
    "duration": 18,
    "start_time": "2021-07-07T10:30:57.348Z"
   },
   {
    "duration": 19,
    "start_time": "2021-07-07T10:31:17.452Z"
   },
   {
    "duration": 21,
    "start_time": "2021-07-07T10:31:32.227Z"
   },
   {
    "duration": 27,
    "start_time": "2021-07-07T10:32:06.588Z"
   },
   {
    "duration": 23,
    "start_time": "2021-07-07T10:32:43.645Z"
   },
   {
    "duration": 24,
    "start_time": "2021-07-07T10:33:06.948Z"
   },
   {
    "duration": 7,
    "start_time": "2021-07-07T10:33:28.558Z"
   },
   {
    "duration": 23,
    "start_time": "2021-07-07T10:33:43.761Z"
   },
   {
    "duration": 28,
    "start_time": "2021-07-07T10:34:13.466Z"
   },
   {
    "duration": 23,
    "start_time": "2021-07-07T10:35:56.187Z"
   },
   {
    "duration": 6,
    "start_time": "2021-07-07T10:36:48.182Z"
   },
   {
    "duration": 14,
    "start_time": "2021-07-07T10:37:49.641Z"
   },
   {
    "duration": 6,
    "start_time": "2021-07-07T10:38:06.694Z"
   },
   {
    "duration": 6,
    "start_time": "2021-07-07T10:38:13.493Z"
   },
   {
    "duration": 19,
    "start_time": "2021-07-07T10:38:44.056Z"
   },
   {
    "duration": 186,
    "start_time": "2021-07-07T10:48:35.618Z"
   },
   {
    "duration": 24,
    "start_time": "2021-07-07T10:48:51.498Z"
   },
   {
    "duration": 20,
    "start_time": "2021-07-07T10:48:59.415Z"
   },
   {
    "duration": 20,
    "start_time": "2021-07-07T10:53:02.195Z"
   },
   {
    "duration": 188,
    "start_time": "2021-07-07T10:54:40.486Z"
   },
   {
    "duration": 115,
    "start_time": "2021-07-07T10:54:52.552Z"
   },
   {
    "duration": 214,
    "start_time": "2021-07-07T10:54:56.354Z"
   },
   {
    "duration": 47,
    "start_time": "2021-07-07T10:54:58.282Z"
   },
   {
    "duration": 217,
    "start_time": "2021-07-07T10:59:16.075Z"
   },
   {
    "duration": 51,
    "start_time": "2021-07-07T10:59:16.243Z"
   },
   {
    "duration": 578,
    "start_time": "2021-07-07T10:59:18.774Z"
   },
   {
    "duration": 161,
    "start_time": "2021-07-07T10:59:21.238Z"
   },
   {
    "duration": 59,
    "start_time": "2021-07-07T10:59:21.453Z"
   },
   {
    "duration": 3,
    "start_time": "2021-07-07T11:02:10.786Z"
   },
   {
    "duration": 13,
    "start_time": "2021-07-07T11:07:07.722Z"
   },
   {
    "duration": 26,
    "start_time": "2021-07-07T11:07:17.958Z"
   },
   {
    "duration": 22,
    "start_time": "2021-07-07T11:08:17.939Z"
   },
   {
    "duration": 212,
    "start_time": "2021-07-07T11:08:19.665Z"
   },
   {
    "duration": 21,
    "start_time": "2021-07-07T11:08:29.945Z"
   },
   {
    "duration": 31,
    "start_time": "2021-07-07T11:08:38.899Z"
   },
   {
    "duration": 23,
    "start_time": "2021-07-07T11:08:54.527Z"
   },
   {
    "duration": 8,
    "start_time": "2021-07-07T11:18:55.974Z"
   },
   {
    "duration": 7,
    "start_time": "2021-07-07T11:19:03.639Z"
   },
   {
    "duration": 7,
    "start_time": "2021-07-07T11:19:06.444Z"
   },
   {
    "duration": 578,
    "start_time": "2021-07-07T12:09:59.576Z"
   },
   {
    "duration": 195,
    "start_time": "2021-07-07T12:10:00.156Z"
   },
   {
    "duration": 115,
    "start_time": "2021-07-07T12:10:00.353Z"
   },
   {
    "duration": 3,
    "start_time": "2021-07-07T12:10:00.470Z"
   },
   {
    "duration": 32,
    "start_time": "2021-07-07T12:10:00.474Z"
   },
   {
    "duration": 23,
    "start_time": "2021-07-07T12:10:00.508Z"
   },
   {
    "duration": 19,
    "start_time": "2021-07-07T12:10:00.533Z"
   },
   {
    "duration": 44,
    "start_time": "2021-07-07T12:10:00.553Z"
   },
   {
    "duration": 7,
    "start_time": "2021-07-07T12:10:00.600Z"
   },
   {
    "duration": 7,
    "start_time": "2021-07-07T12:19:45.761Z"
   },
   {
    "duration": 21,
    "start_time": "2021-07-07T12:21:35.482Z"
   },
   {
    "duration": 21,
    "start_time": "2021-07-07T12:29:23.569Z"
   },
   {
    "duration": 525,
    "start_time": "2021-07-07T12:29:44.542Z"
   },
   {
    "duration": 214,
    "start_time": "2021-07-07T12:29:45.069Z"
   },
   {
    "duration": 92,
    "start_time": "2021-07-07T12:29:45.285Z"
   },
   {
    "duration": 3,
    "start_time": "2021-07-07T12:29:45.379Z"
   },
   {
    "duration": 28,
    "start_time": "2021-07-07T12:29:45.384Z"
   },
   {
    "duration": 23,
    "start_time": "2021-07-07T12:29:45.413Z"
   },
   {
    "duration": 21,
    "start_time": "2021-07-07T12:29:45.437Z"
   },
   {
    "duration": 41,
    "start_time": "2021-07-07T12:29:45.460Z"
   },
   {
    "duration": 7,
    "start_time": "2021-07-07T12:29:45.502Z"
   },
   {
    "duration": 20,
    "start_time": "2021-07-07T12:29:45.511Z"
   },
   {
    "duration": 12,
    "start_time": "2021-07-07T12:34:02.800Z"
   },
   {
    "duration": 7,
    "start_time": "2021-07-07T12:35:10.479Z"
   },
   {
    "duration": 8,
    "start_time": "2021-07-07T12:35:22.440Z"
   },
   {
    "duration": 6,
    "start_time": "2021-07-07T12:35:35.649Z"
   },
   {
    "duration": 6,
    "start_time": "2021-07-07T12:35:43.107Z"
   },
   {
    "duration": 22,
    "start_time": "2021-07-07T12:38:03.029Z"
   },
   {
    "duration": 10,
    "start_time": "2021-07-07T12:38:06.592Z"
   },
   {
    "duration": 563,
    "start_time": "2021-07-07T12:38:46.493Z"
   },
   {
    "duration": 265,
    "start_time": "2021-07-07T12:38:47.058Z"
   },
   {
    "duration": 94,
    "start_time": "2021-07-07T12:38:47.325Z"
   },
   {
    "duration": 3,
    "start_time": "2021-07-07T12:38:47.422Z"
   },
   {
    "duration": 30,
    "start_time": "2021-07-07T12:38:47.427Z"
   },
   {
    "duration": 16,
    "start_time": "2021-07-07T12:38:53.305Z"
   },
   {
    "duration": 10,
    "start_time": "2021-07-07T12:38:53.499Z"
   },
   {
    "duration": 8,
    "start_time": "2021-07-07T12:39:48.161Z"
   },
   {
    "duration": 27,
    "start_time": "2021-07-07T12:41:17.629Z"
   },
   {
    "duration": 17,
    "start_time": "2021-07-07T12:41:17.867Z"
   },
   {
    "duration": 21,
    "start_time": "2021-07-07T12:41:19.310Z"
   },
   {
    "duration": 7,
    "start_time": "2021-07-07T12:41:19.544Z"
   },
   {
    "duration": 20,
    "start_time": "2021-07-07T12:41:20.504Z"
   },
   {
    "duration": 554,
    "start_time": "2021-07-07T12:56:23.696Z"
   },
   {
    "duration": 200,
    "start_time": "2021-07-07T12:56:25.234Z"
   },
   {
    "duration": 119,
    "start_time": "2021-07-07T12:56:25.480Z"
   },
   {
    "duration": 4,
    "start_time": "2021-07-07T12:56:25.762Z"
   },
   {
    "duration": 26,
    "start_time": "2021-07-07T12:56:27.172Z"
   },
   {
    "duration": 12,
    "start_time": "2021-07-07T12:56:29.051Z"
   },
   {
    "duration": 10,
    "start_time": "2021-07-07T12:56:29.291Z"
   },
   {
    "duration": 8,
    "start_time": "2021-07-07T12:56:29.623Z"
   },
   {
    "duration": 28,
    "start_time": "2021-07-07T12:56:32.137Z"
   },
   {
    "duration": 19,
    "start_time": "2021-07-07T12:56:39.785Z"
   },
   {
    "duration": 20,
    "start_time": "2021-07-07T12:56:44.297Z"
   },
   {
    "duration": 7,
    "start_time": "2021-07-07T12:56:45.392Z"
   },
   {
    "duration": 23,
    "start_time": "2021-07-07T12:56:46.615Z"
   },
   {
    "duration": 4,
    "start_time": "2021-07-07T12:57:06.625Z"
   },
   {
    "duration": 32,
    "start_time": "2021-07-07T12:57:36.690Z"
   },
   {
    "duration": 18,
    "start_time": "2021-07-07T12:58:00.149Z"
   },
   {
    "duration": 15,
    "start_time": "2021-07-07T12:59:16.793Z"
   },
   {
    "duration": 7,
    "start_time": "2021-07-07T13:19:22.624Z"
   },
   {
    "duration": 6,
    "start_time": "2021-07-07T14:17:33.527Z"
   },
   {
    "duration": 9,
    "start_time": "2021-07-07T14:17:48.409Z"
   },
   {
    "duration": 8,
    "start_time": "2021-07-07T14:20:13.060Z"
   },
   {
    "duration": 8,
    "start_time": "2021-07-07T14:20:37.957Z"
   },
   {
    "duration": 8,
    "start_time": "2021-07-07T14:20:47.470Z"
   },
   {
    "duration": 9,
    "start_time": "2021-07-07T14:20:54.503Z"
   },
   {
    "duration": 10,
    "start_time": "2021-07-07T14:28:57.763Z"
   },
   {
    "duration": 3,
    "start_time": "2021-07-07T14:30:23.377Z"
   },
   {
    "duration": 3,
    "start_time": "2021-07-07T14:30:36.489Z"
   },
   {
    "duration": 103,
    "start_time": "2021-07-07T14:30:52.351Z"
   },
   {
    "duration": 8,
    "start_time": "2021-07-07T14:30:54.763Z"
   },
   {
    "duration": 8,
    "start_time": "2021-07-07T14:31:29.301Z"
   },
   {
    "duration": 13,
    "start_time": "2021-07-07T14:31:44.516Z"
   },
   {
    "duration": 7,
    "start_time": "2021-07-07T14:33:10.972Z"
   },
   {
    "duration": 11,
    "start_time": "2021-07-07T14:33:27.780Z"
   },
   {
    "duration": 8,
    "start_time": "2021-07-07T14:34:44.588Z"
   },
   {
    "duration": 57,
    "start_time": "2021-07-07T14:35:59.042Z"
   },
   {
    "duration": 3,
    "start_time": "2021-07-07T14:36:28.168Z"
   },
   {
    "duration": 5,
    "start_time": "2021-07-07T14:36:46.254Z"
   },
   {
    "duration": 4,
    "start_time": "2021-07-07T14:36:52.714Z"
   },
   {
    "duration": 3,
    "start_time": "2021-07-07T14:36:56.612Z"
   },
   {
    "duration": 4,
    "start_time": "2021-07-07T14:36:57.049Z"
   },
   {
    "duration": 3,
    "start_time": "2021-07-07T14:39:21.214Z"
   },
   {
    "duration": 7,
    "start_time": "2021-07-07T14:39:52.406Z"
   },
   {
    "duration": 11,
    "start_time": "2021-07-07T14:39:58.576Z"
   },
   {
    "duration": 9,
    "start_time": "2021-07-07T14:40:26.301Z"
   },
   {
    "duration": 10,
    "start_time": "2021-07-07T14:40:31.704Z"
   },
   {
    "duration": 11,
    "start_time": "2021-07-07T14:40:36.249Z"
   },
   {
    "duration": 10,
    "start_time": "2021-07-07T14:40:39.783Z"
   },
   {
    "duration": 9,
    "start_time": "2021-07-07T14:40:48.558Z"
   },
   {
    "duration": 10,
    "start_time": "2021-07-07T14:40:57.143Z"
   },
   {
    "duration": 9,
    "start_time": "2021-07-07T14:41:06.074Z"
   },
   {
    "duration": 4324,
    "start_time": "2021-07-07T14:41:22.004Z"
   },
   {
    "duration": 11,
    "start_time": "2021-07-07T14:41:33.392Z"
   },
   {
    "duration": 9,
    "start_time": "2021-07-07T14:41:39.288Z"
   },
   {
    "duration": 569,
    "start_time": "2021-07-07T14:42:14.387Z"
   },
   {
    "duration": 197,
    "start_time": "2021-07-07T14:42:14.959Z"
   },
   {
    "duration": 84,
    "start_time": "2021-07-07T14:42:16.052Z"
   },
   {
    "duration": 4,
    "start_time": "2021-07-07T14:42:16.900Z"
   },
   {
    "duration": 27,
    "start_time": "2021-07-07T14:42:19.898Z"
   },
   {
    "duration": 12,
    "start_time": "2021-07-07T14:42:21.577Z"
   },
   {
    "duration": 9,
    "start_time": "2021-07-07T14:42:21.813Z"
   },
   {
    "duration": 9,
    "start_time": "2021-07-07T14:42:22.569Z"
   },
   {
    "duration": 29,
    "start_time": "2021-07-07T14:42:25.837Z"
   },
   {
    "duration": 20,
    "start_time": "2021-07-07T14:42:27.003Z"
   },
   {
    "duration": 21,
    "start_time": "2021-07-07T14:42:28.767Z"
   },
   {
    "duration": 7,
    "start_time": "2021-07-07T14:42:29.838Z"
   },
   {
    "duration": 4,
    "start_time": "2021-07-07T14:43:25.493Z"
   },
   {
    "duration": 7,
    "start_time": "2021-07-07T14:43:26.573Z"
   },
   {
    "duration": 10,
    "start_time": "2021-07-07T14:43:31.639Z"
   },
   {
    "duration": 9,
    "start_time": "2021-07-07T14:43:32.046Z"
   },
   {
    "duration": 10,
    "start_time": "2021-07-07T14:43:33.301Z"
   },
   {
    "duration": 12,
    "start_time": "2021-07-07T14:43:33.658Z"
   },
   {
    "duration": 8,
    "start_time": "2021-07-07T14:43:34.552Z"
   },
   {
    "duration": 9,
    "start_time": "2021-07-07T14:43:35.058Z"
   },
   {
    "duration": 12,
    "start_time": "2021-07-07T14:43:35.914Z"
   },
   {
    "duration": 17,
    "start_time": "2021-07-07T14:45:34.368Z"
   },
   {
    "duration": 512,
    "start_time": "2021-07-07T14:51:58.236Z"
   },
   {
    "duration": 223,
    "start_time": "2021-07-07T14:51:58.750Z"
   },
   {
    "duration": 93,
    "start_time": "2021-07-07T14:51:58.977Z"
   },
   {
    "duration": 4,
    "start_time": "2021-07-07T14:51:59.071Z"
   },
   {
    "duration": 37,
    "start_time": "2021-07-07T14:51:59.077Z"
   },
   {
    "duration": 18,
    "start_time": "2021-07-07T14:51:59.116Z"
   },
   {
    "duration": 10,
    "start_time": "2021-07-07T14:51:59.137Z"
   },
   {
    "duration": 8,
    "start_time": "2021-07-07T14:51:59.149Z"
   },
   {
    "duration": 54,
    "start_time": "2021-07-07T14:51:59.158Z"
   },
   {
    "duration": 18,
    "start_time": "2021-07-07T14:51:59.213Z"
   },
   {
    "duration": 22,
    "start_time": "2021-07-07T14:51:59.232Z"
   },
   {
    "duration": 36,
    "start_time": "2021-07-07T14:51:59.255Z"
   },
   {
    "duration": 7,
    "start_time": "2021-07-07T14:51:59.293Z"
   },
   {
    "duration": 10,
    "start_time": "2021-07-07T14:51:59.302Z"
   },
   {
    "duration": 9,
    "start_time": "2021-07-07T14:51:59.313Z"
   },
   {
    "duration": 11,
    "start_time": "2021-07-07T14:51:59.324Z"
   },
   {
    "duration": 8,
    "start_time": "2021-07-07T14:51:59.337Z"
   },
   {
    "duration": 46,
    "start_time": "2021-07-07T14:51:59.347Z"
   },
   {
    "duration": 22,
    "start_time": "2021-07-07T14:51:59.395Z"
   },
   {
    "duration": 24,
    "start_time": "2021-07-07T14:57:32.911Z"
   },
   {
    "duration": 7,
    "start_time": "2021-07-07T14:58:22.070Z"
   },
   {
    "duration": 4,
    "start_time": "2021-07-07T14:59:11.239Z"
   },
   {
    "duration": 25,
    "start_time": "2021-07-07T15:07:22.208Z"
   },
   {
    "duration": 16,
    "start_time": "2021-07-07T15:08:25.560Z"
   },
   {
    "duration": 15,
    "start_time": "2021-07-07T15:08:40.647Z"
   },
   {
    "duration": 14,
    "start_time": "2021-07-07T15:08:46.669Z"
   },
   {
    "duration": 533,
    "start_time": "2021-07-07T15:18:07.440Z"
   },
   {
    "duration": 173,
    "start_time": "2021-07-07T15:18:07.974Z"
   },
   {
    "duration": 84,
    "start_time": "2021-07-07T15:18:08.149Z"
   },
   {
    "duration": 3,
    "start_time": "2021-07-07T15:18:08.235Z"
   },
   {
    "duration": 30,
    "start_time": "2021-07-07T15:18:08.240Z"
   },
   {
    "duration": 22,
    "start_time": "2021-07-07T15:18:08.272Z"
   },
   {
    "duration": 11,
    "start_time": "2021-07-07T15:18:08.295Z"
   },
   {
    "duration": 11,
    "start_time": "2021-07-07T15:18:08.309Z"
   },
   {
    "duration": 40,
    "start_time": "2021-07-07T15:18:08.322Z"
   },
   {
    "duration": 42,
    "start_time": "2021-07-07T15:18:08.364Z"
   },
   {
    "duration": 22,
    "start_time": "2021-07-07T15:18:08.408Z"
   },
   {
    "duration": 5,
    "start_time": "2021-07-07T15:18:08.432Z"
   },
   {
    "duration": 13,
    "start_time": "2021-07-07T15:18:08.439Z"
   },
   {
    "duration": 9,
    "start_time": "2021-07-07T15:18:08.454Z"
   },
   {
    "duration": 32,
    "start_time": "2021-07-07T15:18:08.465Z"
   },
   {
    "duration": 10,
    "start_time": "2021-07-07T15:18:08.501Z"
   },
   {
    "duration": 7,
    "start_time": "2021-07-07T15:18:08.513Z"
   },
   {
    "duration": 11,
    "start_time": "2021-07-07T15:18:08.521Z"
   },
   {
    "duration": 17,
    "start_time": "2021-07-07T15:18:08.534Z"
   },
   {
    "duration": 44,
    "start_time": "2021-07-07T15:18:08.553Z"
   },
   {
    "duration": 22,
    "start_time": "2021-07-07T15:18:08.599Z"
   },
   {
    "duration": 61,
    "start_time": "2021-07-07T15:18:08.622Z"
   },
   {
    "duration": 7,
    "start_time": "2021-07-07T15:18:39.457Z"
   },
   {
    "duration": 5,
    "start_time": "2021-07-07T16:05:17.020Z"
   },
   {
    "duration": 5,
    "start_time": "2021-07-07T16:51:28.794Z"
   },
   {
    "duration": 546,
    "start_time": "2021-07-07T16:52:26.306Z"
   },
   {
    "duration": 203,
    "start_time": "2021-07-07T16:52:27.523Z"
   },
   {
    "duration": 85,
    "start_time": "2021-07-07T16:52:27.736Z"
   },
   {
    "duration": 4,
    "start_time": "2021-07-07T16:52:27.899Z"
   },
   {
    "duration": 25,
    "start_time": "2021-07-07T16:52:28.674Z"
   },
   {
    "duration": 8,
    "start_time": "2021-07-07T16:52:32.956Z"
   },
   {
    "duration": 18,
    "start_time": "2021-07-07T16:52:35.616Z"
   },
   {
    "duration": 6,
    "start_time": "2021-07-07T16:52:36.913Z"
   },
   {
    "duration": 11,
    "start_time": "2021-07-07T16:52:40.258Z"
   },
   {
    "duration": 10,
    "start_time": "2021-07-07T16:52:46.251Z"
   },
   {
    "duration": 8,
    "start_time": "2021-07-07T16:52:47.182Z"
   },
   {
    "duration": 27,
    "start_time": "2021-07-07T16:53:20.391Z"
   },
   {
    "duration": 20,
    "start_time": "2021-07-07T16:53:22.022Z"
   },
   {
    "duration": 23,
    "start_time": "2021-07-07T16:53:23.690Z"
   },
   {
    "duration": 8,
    "start_time": "2021-07-07T16:53:24.261Z"
   },
   {
    "duration": 4,
    "start_time": "2021-07-07T16:53:38.733Z"
   },
   {
    "duration": 7,
    "start_time": "2021-07-07T16:53:40.445Z"
   },
   {
    "duration": 11,
    "start_time": "2021-07-07T16:53:41.348Z"
   },
   {
    "duration": 13,
    "start_time": "2021-07-07T16:53:45.250Z"
   },
   {
    "duration": 12,
    "start_time": "2021-07-07T16:53:45.467Z"
   },
   {
    "duration": 4,
    "start_time": "2021-07-07T16:55:32.704Z"
   },
   {
    "duration": 12,
    "start_time": "2021-07-07T16:55:49.012Z"
   },
   {
    "duration": 18,
    "start_time": "2021-07-07T16:55:49.547Z"
   },
   {
    "duration": 611,
    "start_time": "2021-07-07T16:58:35.156Z"
   },
   {
    "duration": 200,
    "start_time": "2021-07-07T16:58:35.770Z"
   },
   {
    "duration": 86,
    "start_time": "2021-07-07T16:58:35.972Z"
   },
   {
    "duration": 3,
    "start_time": "2021-07-07T16:58:36.060Z"
   },
   {
    "duration": 27,
    "start_time": "2021-07-07T16:58:36.065Z"
   },
   {
    "duration": 8,
    "start_time": "2021-07-07T16:58:36.094Z"
   },
   {
    "duration": 17,
    "start_time": "2021-07-07T16:58:36.103Z"
   },
   {
    "duration": 5,
    "start_time": "2021-07-07T16:58:36.123Z"
   },
   {
    "duration": 11,
    "start_time": "2021-07-07T16:58:36.130Z"
   },
   {
    "duration": 7,
    "start_time": "2021-07-07T16:58:36.143Z"
   },
   {
    "duration": 37,
    "start_time": "2021-07-07T16:58:36.152Z"
   },
   {
    "duration": 27,
    "start_time": "2021-07-07T16:58:36.191Z"
   },
   {
    "duration": 19,
    "start_time": "2021-07-07T16:58:36.219Z"
   },
   {
    "duration": 49,
    "start_time": "2021-07-07T16:58:36.240Z"
   },
   {
    "duration": 6,
    "start_time": "2021-07-07T16:58:36.291Z"
   },
   {
    "duration": 3,
    "start_time": "2021-07-07T16:58:36.299Z"
   },
   {
    "duration": 13,
    "start_time": "2021-07-07T16:58:36.304Z"
   },
   {
    "duration": 10,
    "start_time": "2021-07-07T16:58:36.319Z"
   },
   {
    "duration": 10,
    "start_time": "2021-07-07T16:58:36.331Z"
   },
   {
    "duration": 44,
    "start_time": "2021-07-07T16:58:36.343Z"
   },
   {
    "duration": 4,
    "start_time": "2021-07-07T16:58:36.388Z"
   },
   {
    "duration": 13,
    "start_time": "2021-07-07T16:58:36.394Z"
   },
   {
    "duration": 16,
    "start_time": "2021-07-07T16:58:36.410Z"
   },
   {
    "duration": 8,
    "start_time": "2021-07-07T17:02:31.629Z"
   },
   {
    "duration": 8,
    "start_time": "2021-07-07T17:02:34.308Z"
   },
   {
    "duration": 6,
    "start_time": "2021-07-07T17:05:13.483Z"
   },
   {
    "duration": 17,
    "start_time": "2021-07-07T17:05:20.606Z"
   },
   {
    "duration": 7,
    "start_time": "2021-07-07T17:05:34.638Z"
   },
   {
    "duration": 3,
    "start_time": "2021-07-07T17:06:31.883Z"
   },
   {
    "duration": 570,
    "start_time": "2021-07-07T17:06:37.165Z"
   },
   {
    "duration": 174,
    "start_time": "2021-07-07T17:06:37.737Z"
   },
   {
    "duration": 47,
    "start_time": "2021-07-07T17:06:37.913Z"
   },
   {
    "duration": 3,
    "start_time": "2021-07-07T17:06:37.962Z"
   },
   {
    "duration": 27,
    "start_time": "2021-07-07T17:06:37.967Z"
   },
   {
    "duration": 7,
    "start_time": "2021-07-07T17:06:37.996Z"
   },
   {
    "duration": 16,
    "start_time": "2021-07-07T17:06:38.005Z"
   },
   {
    "duration": 6,
    "start_time": "2021-07-07T17:06:38.024Z"
   },
   {
    "duration": 12,
    "start_time": "2021-07-07T17:06:38.031Z"
   },
   {
    "duration": 41,
    "start_time": "2021-07-07T17:06:38.045Z"
   },
   {
    "duration": 8,
    "start_time": "2021-07-07T17:06:38.088Z"
   },
   {
    "duration": 26,
    "start_time": "2021-07-07T17:06:38.098Z"
   },
   {
    "duration": 17,
    "start_time": "2021-07-07T17:06:38.126Z"
   },
   {
    "duration": 43,
    "start_time": "2021-07-07T17:06:38.144Z"
   },
   {
    "duration": 6,
    "start_time": "2021-07-07T17:06:38.188Z"
   },
   {
    "duration": 5,
    "start_time": "2021-07-07T17:06:38.195Z"
   },
   {
    "duration": 9,
    "start_time": "2021-07-07T17:06:38.201Z"
   },
   {
    "duration": 12,
    "start_time": "2021-07-07T17:06:38.212Z"
   },
   {
    "duration": 11,
    "start_time": "2021-07-07T17:06:38.226Z"
   },
   {
    "duration": 47,
    "start_time": "2021-07-07T17:06:38.239Z"
   },
   {
    "duration": 4,
    "start_time": "2021-07-07T17:06:38.288Z"
   },
   {
    "duration": 13,
    "start_time": "2021-07-07T17:06:38.293Z"
   },
   {
    "duration": 5,
    "start_time": "2021-07-07T17:06:38.309Z"
   },
   {
    "duration": 18,
    "start_time": "2021-07-07T17:06:38.325Z"
   },
   {
    "duration": 20,
    "start_time": "2021-07-07T17:07:02.805Z"
   },
   {
    "duration": 19,
    "start_time": "2021-07-07T17:07:08.527Z"
   },
   {
    "duration": 19,
    "start_time": "2021-07-07T17:07:12.758Z"
   },
   {
    "duration": 22,
    "start_time": "2021-07-07T17:07:17.497Z"
   },
   {
    "duration": 19,
    "start_time": "2021-07-07T17:07:19.645Z"
   },
   {
    "duration": 10,
    "start_time": "2021-07-07T17:07:34.239Z"
   },
   {
    "duration": 17,
    "start_time": "2021-07-07T17:07:54.144Z"
   },
   {
    "duration": 14,
    "start_time": "2021-07-07T17:08:14.357Z"
   },
   {
    "duration": 616,
    "start_time": "2021-07-07T17:08:45.254Z"
   },
   {
    "duration": 178,
    "start_time": "2021-07-07T17:08:45.872Z"
   },
   {
    "duration": 60,
    "start_time": "2021-07-07T17:08:46.054Z"
   },
   {
    "duration": 3,
    "start_time": "2021-07-07T17:08:46.116Z"
   },
   {
    "duration": 26,
    "start_time": "2021-07-07T17:08:46.121Z"
   },
   {
    "duration": 7,
    "start_time": "2021-07-07T17:08:46.149Z"
   },
   {
    "duration": 17,
    "start_time": "2021-07-07T17:08:46.158Z"
   },
   {
    "duration": 14,
    "start_time": "2021-07-07T17:08:46.176Z"
   },
   {
    "duration": 17,
    "start_time": "2021-07-07T17:08:46.193Z"
   },
   {
    "duration": 9,
    "start_time": "2021-07-07T17:08:46.211Z"
   },
   {
    "duration": 21,
    "start_time": "2021-07-07T17:08:46.221Z"
   },
   {
    "duration": 49,
    "start_time": "2021-07-07T17:08:46.244Z"
   },
   {
    "duration": 24,
    "start_time": "2021-07-07T17:08:46.295Z"
   },
   {
    "duration": 22,
    "start_time": "2021-07-07T17:08:46.321Z"
   },
   {
    "duration": 6,
    "start_time": "2021-07-07T17:08:46.345Z"
   },
   {
    "duration": 5,
    "start_time": "2021-07-07T17:08:46.353Z"
   },
   {
    "duration": 13,
    "start_time": "2021-07-07T17:08:46.386Z"
   },
   {
    "duration": 12,
    "start_time": "2021-07-07T17:08:46.402Z"
   },
   {
    "duration": 10,
    "start_time": "2021-07-07T17:08:46.415Z"
   },
   {
    "duration": 7,
    "start_time": "2021-07-07T17:08:46.427Z"
   },
   {
    "duration": 8,
    "start_time": "2021-07-07T17:08:46.435Z"
   },
   {
    "duration": 68,
    "start_time": "2021-07-07T17:08:46.446Z"
   },
   {
    "duration": 13,
    "start_time": "2021-07-07T17:08:46.516Z"
   },
   {
    "duration": 78,
    "start_time": "2021-07-07T17:08:46.530Z"
   },
   {
    "duration": 40,
    "start_time": "2021-07-07T17:09:08.185Z"
   },
   {
    "duration": 16,
    "start_time": "2021-07-07T17:09:19.324Z"
   },
   {
    "duration": 21,
    "start_time": "2021-07-07T17:09:23.290Z"
   },
   {
    "duration": 13,
    "start_time": "2021-07-07T17:09:54.812Z"
   },
   {
    "duration": 13,
    "start_time": "2021-07-07T17:10:02.039Z"
   },
   {
    "duration": 10,
    "start_time": "2021-07-07T17:10:29.632Z"
   },
   {
    "duration": 13,
    "start_time": "2021-07-07T17:10:52.372Z"
   },
   {
    "duration": 13,
    "start_time": "2021-07-07T17:11:17.270Z"
   },
   {
    "duration": 13,
    "start_time": "2021-07-07T17:14:59.284Z"
   },
   {
    "duration": 547,
    "start_time": "2021-07-07T17:18:52.403Z"
   },
   {
    "duration": 163,
    "start_time": "2021-07-07T17:18:52.952Z"
   },
   {
    "duration": 44,
    "start_time": "2021-07-07T17:18:53.117Z"
   },
   {
    "duration": 3,
    "start_time": "2021-07-07T17:18:53.162Z"
   },
   {
    "duration": 26,
    "start_time": "2021-07-07T17:18:53.167Z"
   },
   {
    "duration": 6,
    "start_time": "2021-07-07T17:18:53.195Z"
   },
   {
    "duration": 15,
    "start_time": "2021-07-07T17:18:53.203Z"
   },
   {
    "duration": 5,
    "start_time": "2021-07-07T17:18:53.220Z"
   },
   {
    "duration": 11,
    "start_time": "2021-07-07T17:18:53.228Z"
   },
   {
    "duration": 9,
    "start_time": "2021-07-07T17:18:53.241Z"
   },
   {
    "duration": 41,
    "start_time": "2021-07-07T17:18:53.252Z"
   },
   {
    "duration": 33,
    "start_time": "2021-07-07T17:18:53.295Z"
   },
   {
    "duration": 19,
    "start_time": "2021-07-07T17:18:53.330Z"
   },
   {
    "duration": 49,
    "start_time": "2021-07-07T17:18:53.350Z"
   },
   {
    "duration": 5,
    "start_time": "2021-07-07T17:18:53.401Z"
   },
   {
    "duration": 5,
    "start_time": "2021-07-07T17:18:53.408Z"
   },
   {
    "duration": 11,
    "start_time": "2021-07-07T17:18:53.414Z"
   },
   {
    "duration": 9,
    "start_time": "2021-07-07T17:18:53.427Z"
   },
   {
    "duration": 10,
    "start_time": "2021-07-07T17:18:53.437Z"
   },
   {
    "duration": 39,
    "start_time": "2021-07-07T17:18:53.448Z"
   },
   {
    "duration": 26,
    "start_time": "2021-07-07T17:18:55.799Z"
   },
   {
    "duration": 598,
    "start_time": "2021-07-07T17:20:17.862Z"
   },
   {
    "duration": 161,
    "start_time": "2021-07-07T17:20:18.462Z"
   },
   {
    "duration": 45,
    "start_time": "2021-07-07T17:20:18.626Z"
   },
   {
    "duration": 4,
    "start_time": "2021-07-07T17:20:18.673Z"
   },
   {
    "duration": 38,
    "start_time": "2021-07-07T17:20:26.877Z"
   },
   {
    "duration": 7,
    "start_time": "2021-07-07T17:20:37.405Z"
   },
   {
    "duration": 19,
    "start_time": "2021-07-07T17:20:51.534Z"
   },
   {
    "duration": 5,
    "start_time": "2021-07-07T17:20:57.228Z"
   },
   {
    "duration": 7,
    "start_time": "2021-07-07T17:21:08.235Z"
   },
   {
    "duration": 19,
    "start_time": "2021-07-07T17:21:42.158Z"
   },
   {
    "duration": 14,
    "start_time": "2021-07-07T17:21:50.225Z"
   },
   {
    "duration": 22,
    "start_time": "2021-07-07T17:22:54.104Z"
   },
   {
    "duration": 5,
    "start_time": "2021-07-07T17:22:56.371Z"
   },
   {
    "duration": 14,
    "start_time": "2021-07-07T17:22:58.316Z"
   },
   {
    "duration": 5,
    "start_time": "2021-07-07T17:22:58.493Z"
   },
   {
    "duration": 35,
    "start_time": "2021-07-07T17:22:59.666Z"
   },
   {
    "duration": 6,
    "start_time": "2021-07-07T17:23:02.410Z"
   },
   {
    "duration": 611,
    "start_time": "2021-07-07T17:24:59.664Z"
   },
   {
    "duration": 178,
    "start_time": "2021-07-07T17:25:01.945Z"
   },
   {
    "duration": 47,
    "start_time": "2021-07-07T17:25:02.125Z"
   },
   {
    "duration": 2,
    "start_time": "2021-07-07T17:25:07.903Z"
   },
   {
    "duration": 254,
    "start_time": "2021-07-07T17:25:08.232Z"
   },
   {
    "duration": 182,
    "start_time": "2021-07-07T17:25:08.671Z"
   },
   {
    "duration": 6,
    "start_time": "2021-07-07T17:25:13.104Z"
   },
   {
    "duration": 36,
    "start_time": "2021-07-07T17:25:13.662Z"
   },
   {
    "duration": 7,
    "start_time": "2021-07-07T17:25:14.528Z"
   },
   {
    "duration": 24,
    "start_time": "2021-07-07T17:25:27.982Z"
   },
   {
    "duration": 3,
    "start_time": "2021-07-07T17:25:48.982Z"
   },
   {
    "duration": 165,
    "start_time": "2021-07-07T17:25:48.987Z"
   },
   {
    "duration": 50,
    "start_time": "2021-07-07T17:25:49.154Z"
   },
   {
    "duration": 4,
    "start_time": "2021-07-07T17:25:49.206Z"
   },
   {
    "duration": 26,
    "start_time": "2021-07-07T17:25:49.212Z"
   },
   {
    "duration": 7,
    "start_time": "2021-07-07T17:25:49.240Z"
   },
   {
    "duration": 16,
    "start_time": "2021-07-07T17:25:49.249Z"
   },
   {
    "duration": 22,
    "start_time": "2021-07-07T17:25:49.266Z"
   },
   {
    "duration": 16,
    "start_time": "2021-07-07T17:25:49.291Z"
   },
   {
    "duration": 9,
    "start_time": "2021-07-07T17:25:49.309Z"
   },
   {
    "duration": 7,
    "start_time": "2021-07-07T17:25:49.319Z"
   },
   {
    "duration": 28,
    "start_time": "2021-07-07T17:25:49.328Z"
   },
   {
    "duration": 44,
    "start_time": "2021-07-07T17:25:49.357Z"
   },
   {
    "duration": 22,
    "start_time": "2021-07-07T17:25:49.403Z"
   },
   {
    "duration": 7,
    "start_time": "2021-07-07T17:25:49.427Z"
   },
   {
    "duration": 3,
    "start_time": "2021-07-07T17:25:49.436Z"
   },
   {
    "duration": 44,
    "start_time": "2021-07-07T17:25:49.441Z"
   },
   {
    "duration": 12,
    "start_time": "2021-07-07T17:25:49.488Z"
   },
   {
    "duration": 13,
    "start_time": "2021-07-07T17:25:49.502Z"
   },
   {
    "duration": 10,
    "start_time": "2021-07-07T17:25:49.516Z"
   },
   {
    "duration": 62,
    "start_time": "2021-07-07T17:25:49.527Z"
   },
   {
    "duration": 26,
    "start_time": "2021-07-07T17:26:51.809Z"
   },
   {
    "duration": 26,
    "start_time": "2021-07-07T17:26:55.759Z"
   },
   {
    "duration": 26,
    "start_time": "2021-07-07T17:27:04.501Z"
   },
   {
    "duration": 25,
    "start_time": "2021-07-07T17:28:24.859Z"
   },
   {
    "duration": 21,
    "start_time": "2021-07-07T17:28:55.250Z"
   },
   {
    "duration": 21,
    "start_time": "2021-07-07T17:28:58.885Z"
   },
   {
    "duration": 7,
    "start_time": "2021-07-07T17:45:40.972Z"
   },
   {
    "duration": 13,
    "start_time": "2021-07-07T17:45:42.529Z"
   },
   {
    "duration": 27,
    "start_time": "2021-07-07T17:45:51.026Z"
   },
   {
    "duration": 518,
    "start_time": "2021-07-07T17:46:15.532Z"
   },
   {
    "duration": 235,
    "start_time": "2021-07-07T17:46:16.053Z"
   },
   {
    "duration": 80,
    "start_time": "2021-07-07T17:46:16.292Z"
   },
   {
    "duration": 5,
    "start_time": "2021-07-07T17:46:16.373Z"
   },
   {
    "duration": 26,
    "start_time": "2021-07-07T17:46:16.380Z"
   },
   {
    "duration": 7,
    "start_time": "2021-07-07T17:46:16.408Z"
   },
   {
    "duration": 16,
    "start_time": "2021-07-07T17:46:16.418Z"
   },
   {
    "duration": 5,
    "start_time": "2021-07-07T17:46:16.436Z"
   },
   {
    "duration": 13,
    "start_time": "2021-07-07T17:46:16.442Z"
   },
   {
    "duration": 35,
    "start_time": "2021-07-07T17:46:16.456Z"
   },
   {
    "duration": 8,
    "start_time": "2021-07-07T17:46:16.493Z"
   },
   {
    "duration": 28,
    "start_time": "2021-07-07T17:46:16.502Z"
   },
   {
    "duration": 17,
    "start_time": "2021-07-07T17:46:16.532Z"
   },
   {
    "duration": 44,
    "start_time": "2021-07-07T17:46:16.551Z"
   },
   {
    "duration": 6,
    "start_time": "2021-07-07T17:46:16.597Z"
   },
   {
    "duration": 4,
    "start_time": "2021-07-07T17:46:16.605Z"
   },
   {
    "duration": 9,
    "start_time": "2021-07-07T17:46:16.610Z"
   },
   {
    "duration": 9,
    "start_time": "2021-07-07T17:46:16.621Z"
   },
   {
    "duration": 10,
    "start_time": "2021-07-07T17:46:16.632Z"
   },
   {
    "duration": 43,
    "start_time": "2021-07-07T17:46:16.644Z"
   },
   {
    "duration": 26,
    "start_time": "2021-07-07T17:46:16.689Z"
   },
   {
    "duration": 19,
    "start_time": "2021-07-07T17:46:16.718Z"
   },
   {
    "duration": 8,
    "start_time": "2021-07-07T17:46:16.738Z"
   },
   {
    "duration": 43,
    "start_time": "2021-07-07T17:46:16.747Z"
   },
   {
    "duration": 19,
    "start_time": "2021-07-07T17:46:16.791Z"
   },
   {
    "duration": 9,
    "start_time": "2021-07-07T17:46:16.812Z"
   },
   {
    "duration": 60,
    "start_time": "2021-07-07T17:46:16.822Z"
   },
   {
    "duration": -8,
    "start_time": "2021-07-07T17:46:16.892Z"
   },
   {
    "duration": 12,
    "start_time": "2021-07-07T17:48:47.707Z"
   },
   {
    "duration": 553,
    "start_time": "2021-07-07T18:10:09.350Z"
   },
   {
    "duration": 230,
    "start_time": "2021-07-07T18:10:09.905Z"
   },
   {
    "duration": 97,
    "start_time": "2021-07-07T18:10:10.137Z"
   },
   {
    "duration": 5,
    "start_time": "2021-07-07T18:10:10.236Z"
   },
   {
    "duration": 29,
    "start_time": "2021-07-07T18:10:10.242Z"
   },
   {
    "duration": 7,
    "start_time": "2021-07-07T18:10:10.272Z"
   },
   {
    "duration": 15,
    "start_time": "2021-07-07T18:10:10.281Z"
   },
   {
    "duration": 4,
    "start_time": "2021-07-07T18:10:10.299Z"
   },
   {
    "duration": 14,
    "start_time": "2021-07-07T18:10:10.305Z"
   },
   {
    "duration": 8,
    "start_time": "2021-07-07T18:10:10.321Z"
   },
   {
    "duration": 8,
    "start_time": "2021-07-07T18:10:10.331Z"
   },
   {
    "duration": 56,
    "start_time": "2021-07-07T18:10:10.341Z"
   },
   {
    "duration": 19,
    "start_time": "2021-07-07T18:10:10.399Z"
   },
   {
    "duration": 23,
    "start_time": "2021-07-07T18:10:10.419Z"
   },
   {
    "duration": 6,
    "start_time": "2021-07-07T18:10:10.444Z"
   },
   {
    "duration": 9,
    "start_time": "2021-07-07T18:10:10.451Z"
   },
   {
    "duration": 30,
    "start_time": "2021-07-07T18:10:10.462Z"
   },
   {
    "duration": 9,
    "start_time": "2021-07-07T18:10:10.494Z"
   },
   {
    "duration": 14,
    "start_time": "2021-07-07T18:10:10.505Z"
   },
   {
    "duration": 7,
    "start_time": "2021-07-07T18:10:10.521Z"
   },
   {
    "duration": 26,
    "start_time": "2021-07-07T18:10:10.530Z"
   },
   {
    "duration": 44,
    "start_time": "2021-07-07T18:10:10.558Z"
   },
   {
    "duration": 7,
    "start_time": "2021-07-07T18:10:10.605Z"
   },
   {
    "duration": 11,
    "start_time": "2021-07-07T18:10:10.614Z"
   },
   {
    "duration": 19,
    "start_time": "2021-07-07T18:10:10.626Z"
   },
   {
    "duration": 44,
    "start_time": "2021-07-07T18:10:10.646Z"
   },
   {
    "duration": 516,
    "start_time": "2021-07-07T18:14:00.826Z"
   },
   {
    "duration": 230,
    "start_time": "2021-07-07T18:14:01.344Z"
   },
   {
    "duration": 105,
    "start_time": "2021-07-07T18:14:01.576Z"
   },
   {
    "duration": 5,
    "start_time": "2021-07-07T18:14:01.683Z"
   },
   {
    "duration": 46,
    "start_time": "2021-07-07T18:14:01.690Z"
   },
   {
    "duration": 7,
    "start_time": "2021-07-07T18:14:01.738Z"
   },
   {
    "duration": 20,
    "start_time": "2021-07-07T18:14:01.747Z"
   },
   {
    "duration": 16,
    "start_time": "2021-07-07T18:14:01.769Z"
   },
   {
    "duration": 14,
    "start_time": "2021-07-07T18:14:01.787Z"
   },
   {
    "duration": 15,
    "start_time": "2021-07-07T18:14:01.803Z"
   },
   {
    "duration": 12,
    "start_time": "2021-07-07T18:14:01.820Z"
   },
   {
    "duration": 35,
    "start_time": "2021-07-07T18:14:01.833Z"
   },
   {
    "duration": 31,
    "start_time": "2021-07-07T18:14:01.869Z"
   },
   {
    "duration": 37,
    "start_time": "2021-07-07T18:14:01.902Z"
   },
   {
    "duration": 8,
    "start_time": "2021-07-07T18:14:01.942Z"
   },
   {
    "duration": 16,
    "start_time": "2021-07-07T18:14:01.952Z"
   },
   {
    "duration": 13,
    "start_time": "2021-07-07T18:14:01.970Z"
   },
   {
    "duration": 32,
    "start_time": "2021-07-07T18:14:01.985Z"
   },
   {
    "duration": 11,
    "start_time": "2021-07-07T18:14:02.019Z"
   },
   {
    "duration": 22,
    "start_time": "2021-07-07T18:14:02.031Z"
   },
   {
    "duration": 27,
    "start_time": "2021-07-07T18:14:02.055Z"
   },
   {
    "duration": 18,
    "start_time": "2021-07-07T18:14:02.084Z"
   },
   {
    "duration": 18,
    "start_time": "2021-07-07T18:14:02.106Z"
   },
   {
    "duration": 11,
    "start_time": "2021-07-07T18:14:02.126Z"
   },
   {
    "duration": 21,
    "start_time": "2021-07-07T18:14:02.138Z"
   },
   {
    "duration": 32,
    "start_time": "2021-07-07T18:14:02.161Z"
   },
   {
    "duration": 28,
    "start_time": "2021-07-07T18:14:44.295Z"
   },
   {
    "duration": 6,
    "start_time": "2021-07-07T18:15:05.834Z"
   },
   {
    "duration": 511,
    "start_time": "2021-07-07T18:15:41.541Z"
   },
   {
    "duration": 183,
    "start_time": "2021-07-07T18:15:42.054Z"
   },
   {
    "duration": 50,
    "start_time": "2021-07-07T18:15:42.239Z"
   },
   {
    "duration": 5,
    "start_time": "2021-07-07T18:15:42.291Z"
   },
   {
    "duration": 48,
    "start_time": "2021-07-07T18:15:42.297Z"
   },
   {
    "duration": 8,
    "start_time": "2021-07-07T18:15:42.346Z"
   },
   {
    "duration": 17,
    "start_time": "2021-07-07T18:15:42.356Z"
   },
   {
    "duration": 15,
    "start_time": "2021-07-07T18:15:42.375Z"
   },
   {
    "duration": 12,
    "start_time": "2021-07-07T18:15:42.392Z"
   },
   {
    "duration": 7,
    "start_time": "2021-07-07T18:15:42.406Z"
   },
   {
    "duration": 7,
    "start_time": "2021-07-07T18:15:42.415Z"
   },
   {
    "duration": 29,
    "start_time": "2021-07-07T18:15:42.423Z"
   },
   {
    "duration": 43,
    "start_time": "2021-07-07T18:15:42.453Z"
   },
   {
    "duration": 18,
    "start_time": "2021-07-07T18:15:42.497Z"
   },
   {
    "duration": 6,
    "start_time": "2021-07-07T18:15:42.516Z"
   },
   {
    "duration": 3,
    "start_time": "2021-07-07T18:15:42.523Z"
   },
   {
    "duration": 18,
    "start_time": "2021-07-07T18:15:42.528Z"
   },
   {
    "duration": 10,
    "start_time": "2021-07-07T18:15:42.547Z"
   },
   {
    "duration": 36,
    "start_time": "2021-07-07T18:15:42.559Z"
   },
   {
    "duration": 8,
    "start_time": "2021-07-07T18:15:42.597Z"
   },
   {
    "duration": 28,
    "start_time": "2021-07-07T18:15:42.606Z"
   },
   {
    "duration": 52,
    "start_time": "2021-07-07T18:15:42.635Z"
   },
   {
    "duration": 7,
    "start_time": "2021-07-07T18:15:42.690Z"
   },
   {
    "duration": 10,
    "start_time": "2021-07-07T18:15:42.699Z"
   },
   {
    "duration": 19,
    "start_time": "2021-07-07T18:15:42.711Z"
   },
   {
    "duration": 9,
    "start_time": "2021-07-07T18:15:42.732Z"
   },
   {
    "duration": 5,
    "start_time": "2021-07-07T18:15:42.743Z"
   },
   {
    "duration": 1450,
    "start_time": "2021-07-07T18:15:51.984Z"
   },
   {
    "duration": 161,
    "start_time": "2021-07-07T18:15:53.435Z"
   },
   {
    "duration": 124,
    "start_time": "2021-07-07T18:15:53.598Z"
   },
   {
    "duration": 5,
    "start_time": "2021-07-07T18:15:53.724Z"
   },
   {
    "duration": 34,
    "start_time": "2021-07-07T18:15:53.730Z"
   },
   {
    "duration": 7,
    "start_time": "2021-07-07T18:15:53.765Z"
   },
   {
    "duration": 15,
    "start_time": "2021-07-07T18:15:53.773Z"
   },
   {
    "duration": 5,
    "start_time": "2021-07-07T18:15:53.791Z"
   },
   {
    "duration": 19,
    "start_time": "2021-07-07T18:15:53.798Z"
   },
   {
    "duration": 9,
    "start_time": "2021-07-07T18:15:53.818Z"
   },
   {
    "duration": 19,
    "start_time": "2021-07-07T18:15:53.828Z"
   },
   {
    "duration": 27,
    "start_time": "2021-07-07T18:15:53.848Z"
   },
   {
    "duration": 16,
    "start_time": "2021-07-07T18:15:53.884Z"
   },
   {
    "duration": 29,
    "start_time": "2021-07-07T18:15:53.901Z"
   },
   {
    "duration": 5,
    "start_time": "2021-07-07T18:15:53.932Z"
   },
   {
    "duration": 15,
    "start_time": "2021-07-07T18:15:53.939Z"
   },
   {
    "duration": 13,
    "start_time": "2021-07-07T18:15:53.956Z"
   },
   {
    "duration": 20,
    "start_time": "2021-07-07T18:15:53.971Z"
   },
   {
    "duration": 14,
    "start_time": "2021-07-07T18:15:53.992Z"
   },
   {
    "duration": 9,
    "start_time": "2021-07-07T18:15:54.009Z"
   },
   {
    "duration": 28,
    "start_time": "2021-07-07T18:15:54.020Z"
   },
   {
    "duration": 50,
    "start_time": "2021-07-07T18:15:54.051Z"
   },
   {
    "duration": 8,
    "start_time": "2021-07-07T18:15:54.105Z"
   },
   {
    "duration": 11,
    "start_time": "2021-07-07T18:15:54.115Z"
   },
   {
    "duration": 20,
    "start_time": "2021-07-07T18:15:54.128Z"
   },
   {
    "duration": 13,
    "start_time": "2021-07-07T18:15:54.184Z"
   },
   {
    "duration": 7,
    "start_time": "2021-07-07T18:15:54.199Z"
   },
   {
    "duration": 7,
    "start_time": "2021-07-07T18:17:08.042Z"
   },
   {
    "duration": 8,
    "start_time": "2021-07-07T18:17:21.008Z"
   },
   {
    "duration": 7,
    "start_time": "2021-07-07T18:17:29.003Z"
   },
   {
    "duration": 8,
    "start_time": "2021-07-07T18:17:32.492Z"
   },
   {
    "duration": 9,
    "start_time": "2021-07-07T18:17:41.758Z"
   },
   {
    "duration": 255,
    "start_time": "2021-07-07T18:20:20.897Z"
   },
   {
    "duration": 173,
    "start_time": "2021-07-07T18:20:26.636Z"
   },
   {
    "duration": 7,
    "start_time": "2021-07-07T18:21:47.164Z"
   },
   {
    "duration": 254,
    "start_time": "2021-07-07T18:23:08.703Z"
   },
   {
    "duration": 21,
    "start_time": "2021-07-07T18:23:22.506Z"
   },
   {
    "duration": 315,
    "start_time": "2021-07-07T18:25:54.801Z"
   },
   {
    "duration": 34,
    "start_time": "2021-07-07T18:26:51.817Z"
   },
   {
    "duration": 327,
    "start_time": "2021-07-07T18:26:56.147Z"
   },
   {
    "duration": 342,
    "start_time": "2021-07-07T18:27:15.887Z"
   },
   {
    "duration": 302,
    "start_time": "2021-07-07T18:28:18.569Z"
   },
   {
    "duration": 226,
    "start_time": "2021-07-07T18:29:20.879Z"
   },
   {
    "duration": 207,
    "start_time": "2021-07-07T18:29:58.114Z"
   },
   {
    "duration": 140,
    "start_time": "2021-07-07T18:32:04.372Z"
   },
   {
    "duration": 158,
    "start_time": "2021-07-07T18:32:32.508Z"
   },
   {
    "duration": 145,
    "start_time": "2021-07-07T18:32:41.365Z"
   },
   {
    "duration": 132,
    "start_time": "2021-07-07T18:32:45.199Z"
   },
   {
    "duration": 11,
    "start_time": "2021-07-07T18:35:24.679Z"
   },
   {
    "duration": 268,
    "start_time": "2021-07-07T18:36:16.145Z"
   },
   {
    "duration": 227,
    "start_time": "2021-07-07T18:37:04.918Z"
   },
   {
    "duration": 3,
    "start_time": "2021-07-07T18:37:33.012Z"
   },
   {
    "duration": 671,
    "start_time": "2021-07-07T18:37:38.295Z"
   },
   {
    "duration": 54,
    "start_time": "2021-07-07T18:37:53.406Z"
   },
   {
    "duration": 631,
    "start_time": "2021-07-07T18:37:56.463Z"
   },
   {
    "duration": 19,
    "start_time": "2021-07-07T18:39:40.535Z"
   },
   {
    "duration": 20,
    "start_time": "2021-07-07T18:40:12.236Z"
   },
   {
    "duration": 633,
    "start_time": "2021-07-07T18:42:00.398Z"
   },
   {
    "duration": 218,
    "start_time": "2021-07-07T18:42:01.033Z"
   },
   {
    "duration": 49,
    "start_time": "2021-07-07T18:42:01.253Z"
   },
   {
    "duration": 5,
    "start_time": "2021-07-07T18:42:01.303Z"
   },
   {
    "duration": 27,
    "start_time": "2021-07-07T18:42:01.310Z"
   },
   {
    "duration": 8,
    "start_time": "2021-07-07T18:42:01.339Z"
   },
   {
    "duration": 20,
    "start_time": "2021-07-07T18:42:01.348Z"
   },
   {
    "duration": 6,
    "start_time": "2021-07-07T18:42:01.386Z"
   },
   {
    "duration": 16,
    "start_time": "2021-07-07T18:42:01.394Z"
   },
   {
    "duration": 9,
    "start_time": "2021-07-07T18:42:01.411Z"
   },
   {
    "duration": 11,
    "start_time": "2021-07-07T18:42:01.421Z"
   },
   {
    "duration": 31,
    "start_time": "2021-07-07T18:42:01.434Z"
   },
   {
    "duration": 18,
    "start_time": "2021-07-07T18:42:01.485Z"
   },
   {
    "duration": 23,
    "start_time": "2021-07-07T18:42:01.505Z"
   },
   {
    "duration": 6,
    "start_time": "2021-07-07T18:42:01.530Z"
   },
   {
    "duration": 10,
    "start_time": "2021-07-07T18:42:01.538Z"
   },
   {
    "duration": 13,
    "start_time": "2021-07-07T18:42:01.550Z"
   },
   {
    "duration": 24,
    "start_time": "2021-07-07T18:42:01.564Z"
   },
   {
    "duration": 20,
    "start_time": "2021-07-07T18:42:01.590Z"
   },
   {
    "duration": 8,
    "start_time": "2021-07-07T18:42:01.611Z"
   },
   {
    "duration": 31,
    "start_time": "2021-07-07T18:42:01.620Z"
   },
   {
    "duration": 39,
    "start_time": "2021-07-07T18:42:01.653Z"
   },
   {
    "duration": 8,
    "start_time": "2021-07-07T18:42:01.696Z"
   },
   {
    "duration": 13,
    "start_time": "2021-07-07T18:42:01.705Z"
   },
   {
    "duration": 20,
    "start_time": "2021-07-07T18:42:01.720Z"
   },
   {
    "duration": 12,
    "start_time": "2021-07-07T18:42:01.741Z"
   },
   {
    "duration": 35,
    "start_time": "2021-07-07T18:42:01.755Z"
   },
   {
    "duration": 14,
    "start_time": "2021-07-07T18:42:01.792Z"
   },
   {
    "duration": 188,
    "start_time": "2021-07-07T18:42:01.808Z"
   },
   {
    "duration": 19,
    "start_time": "2021-07-07T18:42:01.998Z"
   },
   {
    "duration": 175,
    "start_time": "2021-07-07T18:42:02.019Z"
   },
   {
    "duration": 134,
    "start_time": "2021-07-07T18:42:02.196Z"
   },
   {
    "duration": 10,
    "start_time": "2021-07-07T18:42:02.331Z"
   },
   {
    "duration": 19,
    "start_time": "2021-07-07T18:42:02.343Z"
   },
   {
    "duration": 628,
    "start_time": "2021-07-07T18:46:30.701Z"
   },
   {
    "duration": 183,
    "start_time": "2021-07-07T18:46:31.331Z"
   },
   {
    "duration": 48,
    "start_time": "2021-07-07T18:46:31.516Z"
   },
   {
    "duration": 5,
    "start_time": "2021-07-07T18:46:31.566Z"
   },
   {
    "duration": 28,
    "start_time": "2021-07-07T18:46:31.572Z"
   },
   {
    "duration": 8,
    "start_time": "2021-07-07T18:46:31.602Z"
   },
   {
    "duration": 19,
    "start_time": "2021-07-07T18:46:31.611Z"
   },
   {
    "duration": 6,
    "start_time": "2021-07-07T18:46:31.633Z"
   },
   {
    "duration": 17,
    "start_time": "2021-07-07T18:46:31.642Z"
   },
   {
    "duration": 10,
    "start_time": "2021-07-07T18:46:31.684Z"
   },
   {
    "duration": 9,
    "start_time": "2021-07-07T18:46:31.695Z"
   },
   {
    "duration": 28,
    "start_time": "2021-07-07T18:46:31.705Z"
   },
   {
    "duration": 18,
    "start_time": "2021-07-07T18:46:31.735Z"
   },
   {
    "duration": 48,
    "start_time": "2021-07-07T18:46:31.755Z"
   },
   {
    "duration": 6,
    "start_time": "2021-07-07T18:46:31.804Z"
   },
   {
    "duration": 4,
    "start_time": "2021-07-07T18:46:31.812Z"
   },
   {
    "duration": 9,
    "start_time": "2021-07-07T18:46:31.817Z"
   },
   {
    "duration": 10,
    "start_time": "2021-07-07T18:46:31.827Z"
   },
   {
    "duration": 12,
    "start_time": "2021-07-07T18:46:31.838Z"
   },
   {
    "duration": 39,
    "start_time": "2021-07-07T18:46:31.851Z"
   },
   {
    "duration": 24,
    "start_time": "2021-07-07T18:46:31.892Z"
   },
   {
    "duration": 15,
    "start_time": "2021-07-07T18:46:31.918Z"
   },
   {
    "duration": 7,
    "start_time": "2021-07-07T18:46:31.936Z"
   },
   {
    "duration": 8,
    "start_time": "2021-07-07T18:46:31.944Z"
   },
   {
    "duration": 19,
    "start_time": "2021-07-07T18:46:31.984Z"
   },
   {
    "duration": 10,
    "start_time": "2021-07-07T18:46:32.004Z"
   },
   {
    "duration": 5,
    "start_time": "2021-07-07T18:46:32.016Z"
   },
   {
    "duration": 9,
    "start_time": "2021-07-07T18:46:32.023Z"
   },
   {
    "duration": 199,
    "start_time": "2021-07-07T18:46:32.033Z"
   },
   {
    "duration": 19,
    "start_time": "2021-07-07T18:46:32.234Z"
   },
   {
    "duration": 159,
    "start_time": "2021-07-07T18:46:32.255Z"
   },
   {
    "duration": 134,
    "start_time": "2021-07-07T18:46:32.416Z"
   },
   {
    "duration": 10,
    "start_time": "2021-07-07T18:46:32.552Z"
   },
   {
    "duration": 34,
    "start_time": "2021-07-07T18:46:32.563Z"
   },
   {
    "duration": 1039,
    "start_time": "2021-07-08T08:41:09.419Z"
   },
   {
    "duration": 333,
    "start_time": "2021-07-08T08:41:10.459Z"
   },
   {
    "duration": 173,
    "start_time": "2021-07-08T08:41:10.794Z"
   },
   {
    "duration": 5,
    "start_time": "2021-07-08T08:41:10.968Z"
   },
   {
    "duration": 25,
    "start_time": "2021-07-08T08:41:10.975Z"
   },
   {
    "duration": 9,
    "start_time": "2021-07-08T08:41:11.002Z"
   },
   {
    "duration": 18,
    "start_time": "2021-07-08T08:41:11.013Z"
   },
   {
    "duration": 6,
    "start_time": "2021-07-08T08:41:11.033Z"
   },
   {
    "duration": 44,
    "start_time": "2021-07-08T08:41:11.042Z"
   },
   {
    "duration": 10,
    "start_time": "2021-07-08T08:41:11.088Z"
   },
   {
    "duration": 9,
    "start_time": "2021-07-08T08:41:11.100Z"
   },
   {
    "duration": 27,
    "start_time": "2021-07-08T08:41:11.111Z"
   },
   {
    "duration": 46,
    "start_time": "2021-07-08T08:41:11.140Z"
   },
   {
    "duration": 17,
    "start_time": "2021-07-08T08:41:11.187Z"
   },
   {
    "duration": 6,
    "start_time": "2021-07-08T08:41:11.206Z"
   },
   {
    "duration": 5,
    "start_time": "2021-07-08T08:41:11.213Z"
   },
   {
    "duration": 10,
    "start_time": "2021-07-08T08:41:11.219Z"
   },
   {
    "duration": 9,
    "start_time": "2021-07-08T08:41:11.230Z"
   },
   {
    "duration": 45,
    "start_time": "2021-07-08T08:41:11.241Z"
   },
   {
    "duration": 7,
    "start_time": "2021-07-08T08:41:11.287Z"
   },
   {
    "duration": 24,
    "start_time": "2021-07-08T08:41:11.296Z"
   },
   {
    "duration": 16,
    "start_time": "2021-07-08T08:41:11.322Z"
   },
   {
    "duration": 7,
    "start_time": "2021-07-08T08:41:11.341Z"
   },
   {
    "duration": 41,
    "start_time": "2021-07-08T08:41:11.349Z"
   },
   {
    "duration": 17,
    "start_time": "2021-07-08T08:41:11.391Z"
   },
   {
    "duration": 9,
    "start_time": "2021-07-08T08:41:11.410Z"
   },
   {
    "duration": 5,
    "start_time": "2021-07-08T08:41:11.421Z"
   },
   {
    "duration": 6,
    "start_time": "2021-07-08T08:41:11.428Z"
   },
   {
    "duration": 198,
    "start_time": "2021-07-08T08:41:11.435Z"
   },
   {
    "duration": 18,
    "start_time": "2021-07-08T08:41:11.635Z"
   },
   {
    "duration": 155,
    "start_time": "2021-07-08T08:41:11.655Z"
   },
   {
    "duration": 138,
    "start_time": "2021-07-08T08:41:11.811Z"
   },
   {
    "duration": 10,
    "start_time": "2021-07-08T08:41:11.950Z"
   },
   {
    "duration": 29,
    "start_time": "2021-07-08T08:41:11.961Z"
   },
   {
    "duration": 171,
    "start_time": "2021-07-08T08:47:44.522Z"
   },
   {
    "duration": 124,
    "start_time": "2021-07-08T08:47:46.872Z"
   },
   {
    "duration": 191,
    "start_time": "2021-07-08T08:47:58.148Z"
   },
   {
    "duration": 191,
    "start_time": "2021-07-08T08:48:07.412Z"
   },
   {
    "duration": 261,
    "start_time": "2021-07-08T08:48:10.385Z"
   },
   {
    "duration": 255,
    "start_time": "2021-07-08T08:48:14.494Z"
   },
   {
    "duration": 219,
    "start_time": "2021-07-08T08:48:22.752Z"
   },
   {
    "duration": 173,
    "start_time": "2021-07-08T08:49:06.395Z"
   },
   {
    "duration": 180,
    "start_time": "2021-07-08T08:49:21.011Z"
   },
   {
    "duration": 6,
    "start_time": "2021-07-08T08:50:31.697Z"
   },
   {
    "duration": 10,
    "start_time": "2021-07-08T08:50:47.394Z"
   },
   {
    "duration": 11,
    "start_time": "2021-07-08T08:53:49.332Z"
   },
   {
    "duration": 171,
    "start_time": "2021-07-08T08:54:28.408Z"
   },
   {
    "duration": 636,
    "start_time": "2021-07-08T09:02:48.385Z"
   },
   {
    "duration": 227,
    "start_time": "2021-07-08T09:02:49.023Z"
   },
   {
    "duration": 104,
    "start_time": "2021-07-08T09:02:49.252Z"
   },
   {
    "duration": 5,
    "start_time": "2021-07-08T09:02:49.358Z"
   },
   {
    "duration": 27,
    "start_time": "2021-07-08T09:02:49.365Z"
   },
   {
    "duration": 8,
    "start_time": "2021-07-08T09:02:49.394Z"
   },
   {
    "duration": 18,
    "start_time": "2021-07-08T09:02:49.404Z"
   },
   {
    "duration": 6,
    "start_time": "2021-07-08T09:02:49.424Z"
   },
   {
    "duration": 11,
    "start_time": "2021-07-08T09:02:49.433Z"
   },
   {
    "duration": 13,
    "start_time": "2021-07-08T09:02:49.485Z"
   },
   {
    "duration": 9,
    "start_time": "2021-07-08T09:02:49.500Z"
   },
   {
    "duration": 38,
    "start_time": "2021-07-08T09:02:49.511Z"
   },
   {
    "duration": 42,
    "start_time": "2021-07-08T09:02:49.551Z"
   },
   {
    "duration": 21,
    "start_time": "2021-07-08T09:02:49.594Z"
   },
   {
    "duration": 6,
    "start_time": "2021-07-08T09:02:49.616Z"
   },
   {
    "duration": 3,
    "start_time": "2021-07-08T09:02:49.623Z"
   },
   {
    "duration": 9,
    "start_time": "2021-07-08T09:02:49.628Z"
   },
   {
    "duration": 52,
    "start_time": "2021-07-08T09:02:49.638Z"
   },
   {
    "duration": 11,
    "start_time": "2021-07-08T09:02:49.692Z"
   },
   {
    "duration": 8,
    "start_time": "2021-07-08T09:02:49.704Z"
   },
   {
    "duration": 27,
    "start_time": "2021-07-08T09:02:49.713Z"
   },
   {
    "duration": 59,
    "start_time": "2021-07-08T09:02:49.741Z"
   },
   {
    "duration": 8,
    "start_time": "2021-07-08T09:02:49.803Z"
   },
   {
    "duration": 14,
    "start_time": "2021-07-08T09:02:49.813Z"
   },
   {
    "duration": 20,
    "start_time": "2021-07-08T09:02:49.829Z"
   },
   {
    "duration": 44,
    "start_time": "2021-07-08T09:02:49.851Z"
   },
   {
    "duration": 14,
    "start_time": "2021-07-08T09:02:49.896Z"
   },
   {
    "duration": 221,
    "start_time": "2021-07-08T09:02:49.912Z"
   },
   {
    "duration": 6,
    "start_time": "2021-07-08T09:02:50.134Z"
   },
   {
    "duration": 206,
    "start_time": "2021-07-08T09:02:50.142Z"
   },
   {
    "duration": 19,
    "start_time": "2021-07-08T09:02:50.350Z"
   },
   {
    "duration": 21,
    "start_time": "2021-07-08T09:02:50.370Z"
   },
   {
    "duration": 20,
    "start_time": "2021-07-08T09:02:50.393Z"
   },
   {
    "duration": 5,
    "start_time": "2021-07-08T09:02:50.414Z"
   },
   {
    "duration": 5,
    "start_time": "2021-07-08T09:03:34.173Z"
   },
   {
    "duration": 6,
    "start_time": "2021-07-08T09:04:49.062Z"
   },
   {
    "duration": 9,
    "start_time": "2021-07-08T09:04:50.118Z"
   },
   {
    "duration": 14,
    "start_time": "2021-07-08T09:04:58.512Z"
   },
   {
    "duration": 9,
    "start_time": "2021-07-08T09:05:10.988Z"
   },
   {
    "duration": 11,
    "start_time": "2021-07-08T09:05:11.743Z"
   },
   {
    "duration": 7,
    "start_time": "2021-07-08T09:05:25.677Z"
   },
   {
    "duration": 13,
    "start_time": "2021-07-08T09:05:47.189Z"
   },
   {
    "duration": 13,
    "start_time": "2021-07-08T09:05:54.755Z"
   },
   {
    "duration": 4,
    "start_time": "2021-07-08T09:06:29.189Z"
   },
   {
    "duration": 244,
    "start_time": "2021-07-08T09:06:29.195Z"
   },
   {
    "duration": 91,
    "start_time": "2021-07-08T09:06:29.441Z"
   },
   {
    "duration": 4,
    "start_time": "2021-07-08T09:06:29.534Z"
   },
   {
    "duration": 28,
    "start_time": "2021-07-08T09:06:29.540Z"
   },
   {
    "duration": 6,
    "start_time": "2021-07-08T09:06:29.570Z"
   },
   {
    "duration": 18,
    "start_time": "2021-07-08T09:06:29.578Z"
   },
   {
    "duration": 5,
    "start_time": "2021-07-08T09:06:29.597Z"
   },
   {
    "duration": 13,
    "start_time": "2021-07-08T09:06:29.605Z"
   },
   {
    "duration": 8,
    "start_time": "2021-07-08T09:06:29.620Z"
   },
   {
    "duration": 7,
    "start_time": "2021-07-08T09:06:29.630Z"
   },
   {
    "duration": 63,
    "start_time": "2021-07-08T09:06:29.639Z"
   },
   {
    "duration": 17,
    "start_time": "2021-07-08T09:06:29.704Z"
   },
   {
    "duration": 20,
    "start_time": "2021-07-08T09:06:29.723Z"
   },
   {
    "duration": 6,
    "start_time": "2021-07-08T09:06:29.745Z"
   },
   {
    "duration": 3,
    "start_time": "2021-07-08T09:06:29.752Z"
   },
   {
    "duration": 7,
    "start_time": "2021-07-08T09:06:29.785Z"
   },
   {
    "duration": 11,
    "start_time": "2021-07-08T09:06:29.794Z"
   },
   {
    "duration": 15,
    "start_time": "2021-07-08T09:06:29.807Z"
   },
   {
    "duration": 8,
    "start_time": "2021-07-08T09:06:29.823Z"
   },
   {
    "duration": 70,
    "start_time": "2021-07-08T09:06:29.832Z"
   },
   {
    "duration": 17,
    "start_time": "2021-07-08T09:06:29.903Z"
   },
   {
    "duration": 9,
    "start_time": "2021-07-08T09:06:29.921Z"
   },
   {
    "duration": 9,
    "start_time": "2021-07-08T09:06:29.932Z"
   },
   {
    "duration": 57,
    "start_time": "2021-07-08T09:06:29.942Z"
   },
   {
    "duration": 11,
    "start_time": "2021-07-08T09:06:30.001Z"
   },
   {
    "duration": 19,
    "start_time": "2021-07-08T09:06:30.016Z"
   },
   {
    "duration": 217,
    "start_time": "2021-07-08T09:06:30.037Z"
   },
   {
    "duration": 6,
    "start_time": "2021-07-08T09:06:30.255Z"
   },
   {
    "duration": 205,
    "start_time": "2021-07-08T09:06:30.263Z"
   },
   {
    "duration": 27,
    "start_time": "2021-07-08T09:06:30.470Z"
   },
   {
    "duration": 11,
    "start_time": "2021-07-08T09:06:30.500Z"
   },
   {
    "duration": 31,
    "start_time": "2021-07-08T09:06:30.513Z"
   },
   {
    "duration": 18,
    "start_time": "2021-07-08T09:06:30.546Z"
   },
   {
    "duration": 11,
    "start_time": "2021-07-08T09:06:30.566Z"
   },
   {
    "duration": 19,
    "start_time": "2021-07-08T09:06:30.579Z"
   },
   {
    "duration": 20,
    "start_time": "2021-07-08T09:06:49.466Z"
   },
   {
    "duration": 9,
    "start_time": "2021-07-08T09:06:51.994Z"
   },
   {
    "duration": 20,
    "start_time": "2021-07-08T09:06:52.273Z"
   },
   {
    "duration": 246,
    "start_time": "2021-07-08T09:10:21.272Z"
   },
   {
    "duration": 84,
    "start_time": "2021-07-08T09:10:21.436Z"
   },
   {
    "duration": 7,
    "start_time": "2021-07-08T09:10:37.608Z"
   },
   {
    "duration": 189,
    "start_time": "2021-07-08T09:10:38.573Z"
   },
   {
    "duration": 185,
    "start_time": "2021-07-08T09:10:53.181Z"
   },
   {
    "duration": 11,
    "start_time": "2021-07-08T09:10:59.549Z"
   },
   {
    "duration": 42,
    "start_time": "2021-07-08T09:10:59.709Z"
   },
   {
    "duration": 12,
    "start_time": "2021-07-08T09:11:02.857Z"
   },
   {
    "duration": 28,
    "start_time": "2021-07-08T09:11:10.062Z"
   },
   {
    "duration": 249,
    "start_time": "2021-07-08T09:11:37.388Z"
   },
   {
    "duration": 232,
    "start_time": "2021-07-08T09:11:49.485Z"
   },
   {
    "duration": 453,
    "start_time": "2021-07-08T09:12:01.546Z"
   },
   {
    "duration": 440,
    "start_time": "2021-07-08T09:12:12.347Z"
   },
   {
    "duration": 213,
    "start_time": "2021-07-08T09:13:32.196Z"
   },
   {
    "duration": 172,
    "start_time": "2021-07-08T09:14:07.400Z"
   },
   {
    "duration": 185,
    "start_time": "2021-07-08T09:14:14.905Z"
   },
   {
    "duration": 209,
    "start_time": "2021-07-08T09:14:40.109Z"
   },
   {
    "duration": 201,
    "start_time": "2021-07-08T09:14:54.506Z"
   },
   {
    "duration": 622,
    "start_time": "2021-07-08T09:18:14.497Z"
   },
   {
    "duration": 220,
    "start_time": "2021-07-08T09:18:15.121Z"
   },
   {
    "duration": 79,
    "start_time": "2021-07-08T09:18:15.343Z"
   },
   {
    "duration": 4,
    "start_time": "2021-07-08T09:18:15.425Z"
   },
   {
    "duration": 24,
    "start_time": "2021-07-08T09:18:15.431Z"
   },
   {
    "duration": 8,
    "start_time": "2021-07-08T09:18:15.457Z"
   },
   {
    "duration": 16,
    "start_time": "2021-07-08T09:18:15.466Z"
   },
   {
    "duration": 5,
    "start_time": "2021-07-08T09:18:15.484Z"
   },
   {
    "duration": 10,
    "start_time": "2021-07-08T09:18:15.493Z"
   },
   {
    "duration": 8,
    "start_time": "2021-07-08T09:18:15.504Z"
   },
   {
    "duration": 7,
    "start_time": "2021-07-08T09:18:15.513Z"
   },
   {
    "duration": 26,
    "start_time": "2021-07-08T09:18:15.522Z"
   },
   {
    "duration": 49,
    "start_time": "2021-07-08T09:18:15.550Z"
   },
   {
    "duration": 21,
    "start_time": "2021-07-08T09:18:15.601Z"
   },
   {
    "duration": 8,
    "start_time": "2021-07-08T09:18:15.624Z"
   },
   {
    "duration": 3,
    "start_time": "2021-07-08T09:18:15.634Z"
   },
   {
    "duration": 8,
    "start_time": "2021-07-08T09:18:15.639Z"
   },
   {
    "duration": 45,
    "start_time": "2021-07-08T09:18:15.649Z"
   },
   {
    "duration": 13,
    "start_time": "2021-07-08T09:18:15.696Z"
   },
   {
    "duration": 10,
    "start_time": "2021-07-08T09:18:15.711Z"
   },
   {
    "duration": 64,
    "start_time": "2021-07-08T09:18:15.722Z"
   },
   {
    "duration": 19,
    "start_time": "2021-07-08T09:18:15.788Z"
   },
   {
    "duration": 9,
    "start_time": "2021-07-08T09:18:15.809Z"
   },
   {
    "duration": 9,
    "start_time": "2021-07-08T09:18:15.820Z"
   },
   {
    "duration": 18,
    "start_time": "2021-07-08T09:18:15.831Z"
   },
   {
    "duration": 43,
    "start_time": "2021-07-08T09:18:15.851Z"
   },
   {
    "duration": 12,
    "start_time": "2021-07-08T09:18:15.897Z"
   },
   {
    "duration": 219,
    "start_time": "2021-07-08T09:18:15.911Z"
   },
   {
    "duration": 8,
    "start_time": "2021-07-08T09:18:16.132Z"
   },
   {
    "duration": 199,
    "start_time": "2021-07-08T09:18:16.141Z"
   },
   {
    "duration": 18,
    "start_time": "2021-07-08T09:18:16.341Z"
   },
   {
    "duration": 24,
    "start_time": "2021-07-08T09:18:16.361Z"
   },
   {
    "duration": 24,
    "start_time": "2021-07-08T09:18:16.387Z"
   },
   {
    "duration": 211,
    "start_time": "2021-07-08T09:18:16.413Z"
   },
   {
    "duration": 18,
    "start_time": "2021-07-08T09:18:16.626Z"
   },
   {
    "duration": 596,
    "start_time": "2021-07-08T10:06:33.623Z"
   },
   {
    "duration": 181,
    "start_time": "2021-07-08T10:06:34.221Z"
   },
   {
    "duration": 176,
    "start_time": "2021-07-08T10:06:34.635Z"
   },
   {
    "duration": 239,
    "start_time": "2021-07-08T10:06:55.572Z"
   },
   {
    "duration": 6,
    "start_time": "2021-07-08T10:06:57.687Z"
   },
   {
    "duration": 4,
    "start_time": "2021-07-08T10:07:03.956Z"
   },
   {
    "duration": 4,
    "start_time": "2021-07-08T10:07:10.376Z"
   },
   {
    "duration": 4,
    "start_time": "2021-07-08T10:17:19.889Z"
   },
   {
    "duration": 3,
    "start_time": "2021-07-08T10:19:19.407Z"
   },
   {
    "duration": 197,
    "start_time": "2021-07-08T10:19:19.412Z"
   },
   {
    "duration": 127,
    "start_time": "2021-07-08T10:19:19.611Z"
   },
   {
    "duration": 4,
    "start_time": "2021-07-08T10:19:19.740Z"
   },
   {
    "duration": 27,
    "start_time": "2021-07-08T10:19:19.746Z"
   },
   {
    "duration": 7,
    "start_time": "2021-07-08T10:19:19.775Z"
   },
   {
    "duration": 30,
    "start_time": "2021-07-08T10:19:19.784Z"
   },
   {
    "duration": 7,
    "start_time": "2021-07-08T10:19:19.817Z"
   },
   {
    "duration": 26,
    "start_time": "2021-07-08T10:19:19.826Z"
   },
   {
    "duration": 18,
    "start_time": "2021-07-08T10:19:19.854Z"
   },
   {
    "duration": 14,
    "start_time": "2021-07-08T10:19:19.874Z"
   },
   {
    "duration": 48,
    "start_time": "2021-07-08T10:19:19.890Z"
   },
   {
    "duration": 17,
    "start_time": "2021-07-08T10:19:19.940Z"
   },
   {
    "duration": 38,
    "start_time": "2021-07-08T10:19:19.959Z"
   },
   {
    "duration": 8,
    "start_time": "2021-07-08T10:19:19.999Z"
   },
   {
    "duration": 15,
    "start_time": "2021-07-08T10:19:20.009Z"
   },
   {
    "duration": 22,
    "start_time": "2021-07-08T10:19:20.026Z"
   },
   {
    "duration": 10,
    "start_time": "2021-07-08T10:19:20.050Z"
   },
   {
    "duration": 10,
    "start_time": "2021-07-08T10:19:20.062Z"
   },
   {
    "duration": 20,
    "start_time": "2021-07-08T10:19:20.073Z"
   },
   {
    "duration": 29,
    "start_time": "2021-07-08T10:19:20.095Z"
   },
   {
    "duration": 17,
    "start_time": "2021-07-08T10:19:20.126Z"
   },
   {
    "duration": 40,
    "start_time": "2021-07-08T10:19:20.146Z"
   },
   {
    "duration": 15,
    "start_time": "2021-07-08T10:19:20.189Z"
   },
   {
    "duration": 19,
    "start_time": "2021-07-08T10:19:20.206Z"
   },
   {
    "duration": 10,
    "start_time": "2021-07-08T10:19:20.226Z"
   },
   {
    "duration": 11,
    "start_time": "2021-07-08T10:19:20.238Z"
   },
   {
    "duration": 297,
    "start_time": "2021-07-08T10:19:20.250Z"
   },
   {
    "duration": 6,
    "start_time": "2021-07-08T10:19:20.549Z"
   },
   {
    "duration": 191,
    "start_time": "2021-07-08T10:19:20.557Z"
   },
   {
    "duration": 19,
    "start_time": "2021-07-08T10:19:20.750Z"
   },
   {
    "duration": 20,
    "start_time": "2021-07-08T10:19:20.771Z"
   },
   {
    "duration": 15,
    "start_time": "2021-07-08T10:19:20.793Z"
   },
   {
    "duration": 222,
    "start_time": "2021-07-08T10:19:20.809Z"
   },
   {
    "duration": 20,
    "start_time": "2021-07-08T10:19:21.033Z"
   },
   {
    "duration": 27,
    "start_time": "2021-07-08T10:45:04.055Z"
   },
   {
    "duration": 8,
    "start_time": "2021-07-08T10:45:08.478Z"
   },
   {
    "duration": 8,
    "start_time": "2021-07-08T10:45:31.982Z"
   },
   {
    "duration": 10,
    "start_time": "2021-07-08T10:46:01.221Z"
   },
   {
    "duration": 17,
    "start_time": "2021-07-08T10:46:40.011Z"
   },
   {
    "duration": 193,
    "start_time": "2021-07-08T10:48:19.471Z"
   },
   {
    "duration": 225,
    "start_time": "2021-07-08T10:49:26.480Z"
   },
   {
    "duration": 204,
    "start_time": "2021-07-08T10:49:59.992Z"
   },
   {
    "duration": 435,
    "start_time": "2021-07-08T10:50:06.779Z"
   },
   {
    "duration": 199,
    "start_time": "2021-07-08T10:50:14.891Z"
   },
   {
    "duration": 204,
    "start_time": "2021-07-08T10:50:18.501Z"
   },
   {
    "duration": 244,
    "start_time": "2021-07-08T10:50:23.359Z"
   },
   {
    "duration": 192,
    "start_time": "2021-07-08T10:50:29.135Z"
   },
   {
    "duration": 218,
    "start_time": "2021-07-08T10:50:33.092Z"
   },
   {
    "duration": 207,
    "start_time": "2021-07-08T10:52:45.381Z"
   },
   {
    "duration": 5,
    "start_time": "2021-07-08T10:53:34.641Z"
   },
   {
    "duration": 196,
    "start_time": "2021-07-08T10:53:41.478Z"
   },
   {
    "duration": 43,
    "start_time": "2021-07-08T10:53:50.335Z"
   },
   {
    "duration": 32,
    "start_time": "2021-07-08T10:53:55.294Z"
   },
   {
    "duration": 55,
    "start_time": "2021-07-08T10:54:09.675Z"
   },
   {
    "duration": 16,
    "start_time": "2021-07-08T10:54:12.260Z"
   },
   {
    "duration": 15,
    "start_time": "2021-07-08T10:54:49.150Z"
   },
   {
    "duration": 20,
    "start_time": "2021-07-08T10:56:07.596Z"
   },
   {
    "duration": 16,
    "start_time": "2021-07-08T10:58:26.276Z"
   },
   {
    "duration": 22,
    "start_time": "2021-07-08T10:59:00.486Z"
   },
   {
    "duration": 18,
    "start_time": "2021-07-08T11:02:09.653Z"
   },
   {
    "duration": 10,
    "start_time": "2021-07-08T11:03:44.331Z"
   },
   {
    "duration": 10,
    "start_time": "2021-07-08T11:03:54.055Z"
   },
   {
    "duration": 12,
    "start_time": "2021-07-08T11:04:41.967Z"
   },
   {
    "duration": 24,
    "start_time": "2021-07-08T11:07:30.732Z"
   },
   {
    "duration": 6,
    "start_time": "2021-07-08T11:07:37.364Z"
   },
   {
    "duration": 16,
    "start_time": "2021-07-08T11:08:01.819Z"
   },
   {
    "duration": 17,
    "start_time": "2021-07-08T11:09:47.488Z"
   },
   {
    "duration": 246,
    "start_time": "2021-07-08T11:10:00.830Z"
   },
   {
    "duration": 18,
    "start_time": "2021-07-08T11:13:55.195Z"
   },
   {
    "duration": 204,
    "start_time": "2021-07-08T11:14:04.951Z"
   },
   {
    "duration": 19,
    "start_time": "2021-07-08T11:15:10.613Z"
   },
   {
    "duration": 680,
    "start_time": "2021-07-08T11:16:25.793Z"
   },
   {
    "duration": 451,
    "start_time": "2021-07-08T11:16:40.313Z"
   },
   {
    "duration": 469,
    "start_time": "2021-07-08T11:17:21.286Z"
   },
   {
    "duration": 20,
    "start_time": "2021-07-08T11:19:12.554Z"
   },
   {
    "duration": 35,
    "start_time": "2021-07-08T11:20:05.484Z"
   },
   {
    "duration": 53,
    "start_time": "2021-07-08T11:21:40.050Z"
   },
   {
    "duration": 13,
    "start_time": "2021-07-08T11:22:26.059Z"
   },
   {
    "duration": 19,
    "start_time": "2021-07-08T11:22:47.419Z"
   },
   {
    "duration": 25,
    "start_time": "2021-07-08T11:23:19.958Z"
   },
   {
    "duration": 29,
    "start_time": "2021-07-08T11:23:25.415Z"
   },
   {
    "duration": 10,
    "start_time": "2021-07-08T11:24:45.138Z"
   },
   {
    "duration": 19,
    "start_time": "2021-07-08T11:24:54.498Z"
   },
   {
    "duration": 12,
    "start_time": "2021-07-08T11:25:32.225Z"
   },
   {
    "duration": 19,
    "start_time": "2021-07-08T11:25:37.092Z"
   },
   {
    "duration": 17,
    "start_time": "2021-07-08T11:25:58.116Z"
   },
   {
    "duration": 15,
    "start_time": "2021-07-08T11:26:02.258Z"
   },
   {
    "duration": 8,
    "start_time": "2021-07-08T11:26:59.682Z"
   },
   {
    "duration": 184,
    "start_time": "2021-07-08T11:27:21.894Z"
   },
   {
    "duration": 8,
    "start_time": "2021-07-08T11:27:23.824Z"
   },
   {
    "duration": 202,
    "start_time": "2021-07-08T11:27:23.962Z"
   },
   {
    "duration": 360,
    "start_time": "2021-07-08T11:28:33.215Z"
   },
   {
    "duration": 231,
    "start_time": "2021-07-08T11:32:05.542Z"
   },
   {
    "duration": 607,
    "start_time": "2021-07-08T11:36:27.854Z"
   },
   {
    "duration": 241,
    "start_time": "2021-07-08T11:36:28.463Z"
   },
   {
    "duration": 67,
    "start_time": "2021-07-08T11:36:28.709Z"
   },
   {
    "duration": 5,
    "start_time": "2021-07-08T11:36:28.778Z"
   },
   {
    "duration": 32,
    "start_time": "2021-07-08T11:36:28.784Z"
   },
   {
    "duration": 11,
    "start_time": "2021-07-08T11:36:28.819Z"
   },
   {
    "duration": 20,
    "start_time": "2021-07-08T11:36:28.834Z"
   },
   {
    "duration": 36,
    "start_time": "2021-07-08T11:36:28.857Z"
   },
   {
    "duration": 16,
    "start_time": "2021-07-08T11:36:28.895Z"
   },
   {
    "duration": 14,
    "start_time": "2021-07-08T11:36:28.913Z"
   },
   {
    "duration": 9,
    "start_time": "2021-07-08T11:36:28.930Z"
   },
   {
    "duration": 55,
    "start_time": "2021-07-08T11:36:28.941Z"
   },
   {
    "duration": 27,
    "start_time": "2021-07-08T11:36:28.999Z"
   },
   {
    "duration": 30,
    "start_time": "2021-07-08T11:36:29.028Z"
   },
   {
    "duration": 31,
    "start_time": "2021-07-08T11:36:29.060Z"
   },
   {
    "duration": 3,
    "start_time": "2021-07-08T11:36:29.093Z"
   },
   {
    "duration": 12,
    "start_time": "2021-07-08T11:36:29.099Z"
   },
   {
    "duration": 11,
    "start_time": "2021-07-08T11:36:29.112Z"
   },
   {
    "duration": 12,
    "start_time": "2021-07-08T11:36:29.125Z"
   },
   {
    "duration": 9,
    "start_time": "2021-07-08T11:36:29.139Z"
   },
   {
    "duration": 31,
    "start_time": "2021-07-08T11:36:29.191Z"
   },
   {
    "duration": 17,
    "start_time": "2021-07-08T11:36:29.226Z"
   },
   {
    "duration": 7,
    "start_time": "2021-07-08T11:36:29.245Z"
   },
   {
    "duration": 10,
    "start_time": "2021-07-08T11:36:29.254Z"
   },
   {
    "duration": 30,
    "start_time": "2021-07-08T11:36:29.292Z"
   },
   {
    "duration": 11,
    "start_time": "2021-07-08T11:36:29.324Z"
   },
   {
    "duration": 11,
    "start_time": "2021-07-08T11:36:29.337Z"
   },
   {
    "duration": 230,
    "start_time": "2021-07-08T11:36:29.349Z"
   },
   {
    "duration": 13,
    "start_time": "2021-07-08T11:36:29.588Z"
   },
   {
    "duration": 205,
    "start_time": "2021-07-08T11:36:29.603Z"
   },
   {
    "duration": 20,
    "start_time": "2021-07-08T11:36:29.810Z"
   },
   {
    "duration": 9,
    "start_time": "2021-07-08T11:36:29.832Z"
   },
   {
    "duration": 16,
    "start_time": "2021-07-08T11:36:29.843Z"
   },
   {
    "duration": 283,
    "start_time": "2021-07-08T11:36:29.861Z"
   },
   {
    "duration": 50,
    "start_time": "2021-07-08T11:36:30.146Z"
   },
   {
    "duration": 14,
    "start_time": "2021-07-08T11:36:30.198Z"
   },
   {
    "duration": 11,
    "start_time": "2021-07-08T11:36:30.214Z"
   },
   {
    "duration": 245,
    "start_time": "2021-07-08T11:36:30.227Z"
   },
   {
    "duration": 439,
    "start_time": "2021-07-08T11:36:30.474Z"
   },
   {
    "duration": 210,
    "start_time": "2021-07-08T11:36:30.915Z"
   },
   {
    "duration": 15,
    "start_time": "2021-07-08T11:36:31.127Z"
   },
   {
    "duration": 17,
    "start_time": "2021-07-08T11:38:20.451Z"
   },
   {
    "duration": 642,
    "start_time": "2021-07-08T11:46:17.881Z"
   },
   {
    "duration": 210,
    "start_time": "2021-07-08T11:46:18.525Z"
   },
   {
    "duration": 104,
    "start_time": "2021-07-08T11:46:18.741Z"
   },
   {
    "duration": 8,
    "start_time": "2021-07-08T11:46:18.847Z"
   },
   {
    "duration": 25,
    "start_time": "2021-07-08T11:46:18.857Z"
   },
   {
    "duration": 14,
    "start_time": "2021-07-08T11:46:18.884Z"
   },
   {
    "duration": 22,
    "start_time": "2021-07-08T11:46:18.900Z"
   },
   {
    "duration": 5,
    "start_time": "2021-07-08T11:46:18.924Z"
   },
   {
    "duration": 13,
    "start_time": "2021-07-08T11:46:18.931Z"
   },
   {
    "duration": 45,
    "start_time": "2021-07-08T11:46:18.946Z"
   },
   {
    "duration": 12,
    "start_time": "2021-07-08T11:46:18.993Z"
   },
   {
    "duration": 38,
    "start_time": "2021-07-08T11:46:19.006Z"
   },
   {
    "duration": 50,
    "start_time": "2021-07-08T11:46:19.046Z"
   },
   {
    "duration": 29,
    "start_time": "2021-07-08T11:46:19.099Z"
   },
   {
    "duration": 7,
    "start_time": "2021-07-08T11:46:19.130Z"
   },
   {
    "duration": 3,
    "start_time": "2021-07-08T11:46:19.139Z"
   },
   {
    "duration": 11,
    "start_time": "2021-07-08T11:46:19.144Z"
   },
   {
    "duration": 40,
    "start_time": "2021-07-08T11:46:19.157Z"
   },
   {
    "duration": 15,
    "start_time": "2021-07-08T11:46:19.199Z"
   },
   {
    "duration": 10,
    "start_time": "2021-07-08T11:46:19.217Z"
   },
   {
    "duration": 68,
    "start_time": "2021-07-08T11:46:19.230Z"
   },
   {
    "duration": 17,
    "start_time": "2021-07-08T11:46:19.301Z"
   },
   {
    "duration": 7,
    "start_time": "2021-07-08T11:46:19.321Z"
   },
   {
    "duration": 11,
    "start_time": "2021-07-08T11:46:19.330Z"
   },
   {
    "duration": 59,
    "start_time": "2021-07-08T11:46:19.343Z"
   },
   {
    "duration": 17,
    "start_time": "2021-07-08T11:46:19.405Z"
   },
   {
    "duration": 16,
    "start_time": "2021-07-08T11:46:19.424Z"
   },
   {
    "duration": 252,
    "start_time": "2021-07-08T11:46:19.443Z"
   },
   {
    "duration": 9,
    "start_time": "2021-07-08T11:46:19.697Z"
   },
   {
    "duration": 224,
    "start_time": "2021-07-08T11:46:19.708Z"
   },
   {
    "duration": 21,
    "start_time": "2021-07-08T11:46:19.934Z"
   },
   {
    "duration": 9,
    "start_time": "2021-07-08T11:46:19.956Z"
   },
   {
    "duration": 32,
    "start_time": "2021-07-08T11:46:19.967Z"
   },
   {
    "duration": 288,
    "start_time": "2021-07-08T11:46:20.004Z"
   },
   {
    "duration": 23,
    "start_time": "2021-07-08T11:46:20.300Z"
   },
   {
    "duration": 11,
    "start_time": "2021-07-08T11:46:20.325Z"
   },
   {
    "duration": 11,
    "start_time": "2021-07-08T11:46:20.339Z"
   },
   {
    "duration": 259,
    "start_time": "2021-07-08T11:46:20.352Z"
   },
   {
    "duration": 438,
    "start_time": "2021-07-08T11:46:20.613Z"
   },
   {
    "duration": 207,
    "start_time": "2021-07-08T11:46:21.054Z"
   },
   {
    "duration": 27,
    "start_time": "2021-07-08T11:46:21.262Z"
   },
   {
    "duration": 19,
    "start_time": "2021-07-08T11:46:21.291Z"
   },
   {
    "duration": 820,
    "start_time": "2021-07-08T11:49:01.655Z"
   },
   {
    "duration": 372,
    "start_time": "2021-07-08T11:49:02.478Z"
   },
   {
    "duration": 98,
    "start_time": "2021-07-08T11:49:02.853Z"
   },
   {
    "duration": 6,
    "start_time": "2021-07-08T11:49:02.953Z"
   },
   {
    "duration": 39,
    "start_time": "2021-07-08T11:49:02.960Z"
   },
   {
    "duration": 9,
    "start_time": "2021-07-08T11:49:03.003Z"
   },
   {
    "duration": 23,
    "start_time": "2021-07-08T11:49:03.014Z"
   },
   {
    "duration": 6,
    "start_time": "2021-07-08T11:49:03.041Z"
   },
   {
    "duration": 20,
    "start_time": "2021-07-08T11:49:03.049Z"
   },
   {
    "duration": 18,
    "start_time": "2021-07-08T11:49:03.084Z"
   },
   {
    "duration": 14,
    "start_time": "2021-07-08T11:49:03.104Z"
   },
   {
    "duration": 39,
    "start_time": "2021-07-08T11:49:03.119Z"
   },
   {
    "duration": 38,
    "start_time": "2021-07-08T11:49:03.160Z"
   },
   {
    "duration": 26,
    "start_time": "2021-07-08T11:49:03.200Z"
   },
   {
    "duration": 7,
    "start_time": "2021-07-08T11:49:03.227Z"
   },
   {
    "duration": 4,
    "start_time": "2021-07-08T11:49:03.236Z"
   },
   {
    "duration": 15,
    "start_time": "2021-07-08T11:49:03.243Z"
   },
   {
    "duration": 21,
    "start_time": "2021-07-08T11:49:03.285Z"
   },
   {
    "duration": 17,
    "start_time": "2021-07-08T11:49:03.309Z"
   },
   {
    "duration": 10,
    "start_time": "2021-07-08T11:49:03.328Z"
   },
   {
    "duration": 65,
    "start_time": "2021-07-08T11:49:03.340Z"
   },
   {
    "duration": 18,
    "start_time": "2021-07-08T11:49:03.407Z"
   },
   {
    "duration": 8,
    "start_time": "2021-07-08T11:49:03.428Z"
   },
   {
    "duration": 15,
    "start_time": "2021-07-08T11:49:03.438Z"
   },
   {
    "duration": 40,
    "start_time": "2021-07-08T11:49:03.455Z"
   },
   {
    "duration": 12,
    "start_time": "2021-07-08T11:49:03.497Z"
   },
   {
    "duration": 29,
    "start_time": "2021-07-08T11:49:03.511Z"
   },
   {
    "duration": 285,
    "start_time": "2021-07-08T11:49:03.542Z"
   },
   {
    "duration": 8,
    "start_time": "2021-07-08T11:49:03.829Z"
   },
   {
    "duration": 227,
    "start_time": "2021-07-08T11:49:03.838Z"
   },
   {
    "duration": 40,
    "start_time": "2021-07-08T11:49:04.066Z"
   },
   {
    "duration": 10,
    "start_time": "2021-07-08T11:49:04.108Z"
   },
   {
    "duration": 26,
    "start_time": "2021-07-08T11:49:04.121Z"
   },
   {
    "duration": 290,
    "start_time": "2021-07-08T11:49:04.149Z"
   },
   {
    "duration": 26,
    "start_time": "2021-07-08T11:49:04.441Z"
   },
   {
    "duration": 31,
    "start_time": "2021-07-08T11:49:04.470Z"
   },
   {
    "duration": 14,
    "start_time": "2021-07-08T11:49:04.503Z"
   },
   {
    "duration": 259,
    "start_time": "2021-07-08T11:49:04.521Z"
   },
   {
    "duration": 480,
    "start_time": "2021-07-08T11:49:04.782Z"
   },
   {
    "duration": 225,
    "start_time": "2021-07-08T11:49:05.264Z"
   },
   {
    "duration": 22,
    "start_time": "2021-07-08T11:49:05.491Z"
   },
   {
    "duration": 24,
    "start_time": "2021-07-08T11:49:05.515Z"
   },
   {
    "duration": 634,
    "start_time": "2021-07-08T11:52:24.960Z"
   },
   {
    "duration": 199,
    "start_time": "2021-07-08T11:52:25.599Z"
   },
   {
    "duration": 106,
    "start_time": "2021-07-08T11:52:25.803Z"
   },
   {
    "duration": 7,
    "start_time": "2021-07-08T11:52:25.911Z"
   },
   {
    "duration": 29,
    "start_time": "2021-07-08T11:52:25.920Z"
   },
   {
    "duration": 7,
    "start_time": "2021-07-08T11:52:25.951Z"
   },
   {
    "duration": 26,
    "start_time": "2021-07-08T11:52:25.961Z"
   },
   {
    "duration": 11,
    "start_time": "2021-07-08T11:52:25.990Z"
   },
   {
    "duration": 29,
    "start_time": "2021-07-08T11:52:26.005Z"
   },
   {
    "duration": 9,
    "start_time": "2021-07-08T11:52:26.036Z"
   },
   {
    "duration": 8,
    "start_time": "2021-07-08T11:52:26.047Z"
   },
   {
    "duration": 63,
    "start_time": "2021-07-08T11:52:26.057Z"
   },
   {
    "duration": 17,
    "start_time": "2021-07-08T11:52:26.122Z"
   },
   {
    "duration": 43,
    "start_time": "2021-07-08T11:52:26.142Z"
   },
   {
    "duration": 17,
    "start_time": "2021-07-08T11:52:26.187Z"
   },
   {
    "duration": 5,
    "start_time": "2021-07-08T11:52:26.206Z"
   },
   {
    "duration": 12,
    "start_time": "2021-07-08T11:52:26.212Z"
   },
   {
    "duration": 11,
    "start_time": "2021-07-08T11:52:26.226Z"
   },
   {
    "duration": 12,
    "start_time": "2021-07-08T11:52:26.238Z"
   },
   {
    "duration": 38,
    "start_time": "2021-07-08T11:52:26.252Z"
   },
   {
    "duration": 40,
    "start_time": "2021-07-08T11:52:26.292Z"
   },
   {
    "duration": 17,
    "start_time": "2021-07-08T11:52:26.336Z"
   },
   {
    "duration": 39,
    "start_time": "2021-07-08T11:52:26.355Z"
   },
   {
    "duration": 11,
    "start_time": "2021-07-08T11:52:26.395Z"
   },
   {
    "duration": 23,
    "start_time": "2021-07-08T11:52:26.408Z"
   },
   {
    "duration": 12,
    "start_time": "2021-07-08T11:52:26.432Z"
   },
   {
    "duration": 41,
    "start_time": "2021-07-08T11:52:26.446Z"
   },
   {
    "duration": 215,
    "start_time": "2021-07-08T11:52:26.493Z"
   },
   {
    "duration": 8,
    "start_time": "2021-07-08T11:52:26.710Z"
   },
   {
    "duration": 228,
    "start_time": "2021-07-08T11:52:26.720Z"
   },
   {
    "duration": 18,
    "start_time": "2021-07-08T11:52:26.950Z"
   },
   {
    "duration": 35,
    "start_time": "2021-07-08T11:52:26.969Z"
   },
   {
    "duration": 23,
    "start_time": "2021-07-08T11:52:27.006Z"
   },
   {
    "duration": 258,
    "start_time": "2021-07-08T11:52:27.030Z"
   },
   {
    "duration": 24,
    "start_time": "2021-07-08T11:52:27.290Z"
   },
   {
    "duration": 12,
    "start_time": "2021-07-08T11:52:27.316Z"
   },
   {
    "duration": 10,
    "start_time": "2021-07-08T11:52:27.329Z"
   },
   {
    "duration": 298,
    "start_time": "2021-07-08T11:52:27.341Z"
   },
   {
    "duration": 436,
    "start_time": "2021-07-08T11:52:27.641Z"
   },
   {
    "duration": 216,
    "start_time": "2021-07-08T11:52:28.079Z"
   },
   {
    "duration": 20,
    "start_time": "2021-07-08T11:52:28.297Z"
   },
   {
    "duration": 17,
    "start_time": "2021-07-08T11:52:28.319Z"
   },
   {
    "duration": 477,
    "start_time": "2023-04-16T20:35:15.886Z"
   },
   {
    "duration": 530,
    "start_time": "2023-04-17T15:35:04.922Z"
   },
   {
    "duration": 382,
    "start_time": "2023-04-17T15:35:11.022Z"
   },
   {
    "duration": 3,
    "start_time": "2023-04-17T15:35:38.094Z"
   },
   {
    "duration": 103,
    "start_time": "2023-04-17T15:35:38.855Z"
   },
   {
    "duration": 84,
    "start_time": "2023-04-17T15:36:05.322Z"
   },
   {
    "duration": 61,
    "start_time": "2023-04-17T15:36:08.014Z"
   },
   {
    "duration": 54,
    "start_time": "2023-04-17T15:36:12.233Z"
   },
   {
    "duration": 101,
    "start_time": "2023-04-17T15:36:41.434Z"
   },
   {
    "duration": 57,
    "start_time": "2023-04-17T15:36:47.884Z"
   },
   {
    "duration": 5,
    "start_time": "2023-04-17T15:45:07.252Z"
   },
   {
    "duration": 15,
    "start_time": "2023-04-17T15:45:29.283Z"
   },
   {
    "duration": 352,
    "start_time": "2023-04-17T15:51:30.478Z"
   },
   {
    "duration": 5,
    "start_time": "2023-04-17T15:52:10.434Z"
   },
   {
    "duration": 33,
    "start_time": "2023-04-17T15:53:27.105Z"
   },
   {
    "duration": 16,
    "start_time": "2023-04-17T15:53:54.035Z"
   },
   {
    "duration": 10,
    "start_time": "2023-04-17T15:55:20.281Z"
   },
   {
    "duration": 18,
    "start_time": "2023-04-17T15:55:52.756Z"
   },
   {
    "duration": 13,
    "start_time": "2023-04-17T15:56:32.091Z"
   },
   {
    "duration": 19,
    "start_time": "2023-04-17T15:56:34.436Z"
   },
   {
    "duration": 17,
    "start_time": "2023-04-17T15:59:16.546Z"
   },
   {
    "duration": 14,
    "start_time": "2023-04-17T15:59:23.309Z"
   },
   {
    "duration": 59,
    "start_time": "2023-04-17T15:59:34.535Z"
   },
   {
    "duration": 17,
    "start_time": "2023-04-17T15:59:42.413Z"
   },
   {
    "duration": 15,
    "start_time": "2023-04-17T16:01:19.806Z"
   },
   {
    "duration": 17,
    "start_time": "2023-04-17T16:01:22.191Z"
   },
   {
    "duration": 10,
    "start_time": "2023-04-17T16:41:12.112Z"
   },
   {
    "duration": 13,
    "start_time": "2023-04-17T16:41:26.076Z"
   },
   {
    "duration": 18,
    "start_time": "2023-04-17T16:41:28.279Z"
   },
   {
    "duration": 102,
    "start_time": "2023-04-17T16:41:43.580Z"
   },
   {
    "duration": 7,
    "start_time": "2023-04-17T16:42:28.512Z"
   },
   {
    "duration": 3,
    "start_time": "2023-04-17T16:43:26.027Z"
   },
   {
    "duration": 117,
    "start_time": "2023-04-17T16:43:31.246Z"
   },
   {
    "duration": 5,
    "start_time": "2023-04-17T16:43:38.476Z"
   },
   {
    "duration": 56,
    "start_time": "2023-04-17T16:43:39.615Z"
   },
   {
    "duration": 17,
    "start_time": "2023-04-17T16:43:40.607Z"
   },
   {
    "duration": 14,
    "start_time": "2023-04-17T16:43:45.248Z"
   },
   {
    "duration": 16,
    "start_time": "2023-04-17T16:43:46.794Z"
   },
   {
    "duration": 19,
    "start_time": "2023-04-17T16:45:01.108Z"
   },
   {
    "duration": 117,
    "start_time": "2023-04-17T16:45:59.997Z"
   },
   {
    "duration": 61,
    "start_time": "2023-04-17T16:46:56.667Z"
   },
   {
    "duration": 5,
    "start_time": "2023-04-17T16:49:42.532Z"
   },
   {
    "duration": 126,
    "start_time": "2023-04-17T16:49:50.079Z"
   },
   {
    "duration": 64,
    "start_time": "2023-04-17T16:49:51.169Z"
   },
   {
    "duration": 4,
    "start_time": "2023-04-17T16:49:51.814Z"
   },
   {
    "duration": 15,
    "start_time": "2023-04-17T16:49:52.387Z"
   },
   {
    "duration": 15,
    "start_time": "2023-04-17T16:49:53.794Z"
   },
   {
    "duration": 132,
    "start_time": "2023-04-17T16:50:17.206Z"
   },
   {
    "duration": 61,
    "start_time": "2023-04-17T16:50:22.401Z"
   },
   {
    "duration": 13,
    "start_time": "2023-04-17T16:50:26.263Z"
   },
   {
    "duration": 55,
    "start_time": "2023-04-17T16:55:38.180Z"
   },
   {
    "duration": 227,
    "start_time": "2023-04-17T16:55:53.923Z"
   },
   {
    "duration": 723,
    "start_time": "2023-04-17T17:00:39.833Z"
   },
   {
    "duration": 127,
    "start_time": "2023-04-17T17:00:47.836Z"
   },
   {
    "duration": 53,
    "start_time": "2023-04-17T17:00:48.390Z"
   },
   {
    "duration": 253,
    "start_time": "2023-04-17T17:00:48.794Z"
   },
   {
    "duration": 6,
    "start_time": "2023-04-17T17:01:06.098Z"
   },
   {
    "duration": 51,
    "start_time": "2023-04-17T18:43:25.379Z"
   },
   {
    "duration": 447,
    "start_time": "2023-04-17T18:44:04.384Z"
   },
   {
    "duration": 122,
    "start_time": "2023-04-17T18:44:04.833Z"
   },
   {
    "duration": 49,
    "start_time": "2023-04-17T18:44:05.195Z"
   },
   {
    "duration": 29,
    "start_time": "2023-04-17T18:44:06.986Z"
   },
   {
    "duration": 4,
    "start_time": "2023-04-17T18:44:07.491Z"
   },
   {
    "duration": 17,
    "start_time": "2023-04-17T18:44:36.379Z"
   },
   {
    "duration": 15,
    "start_time": "2023-04-17T18:45:30.895Z"
   },
   {
    "duration": 31,
    "start_time": "2023-04-17T18:48:19.815Z"
   },
   {
    "duration": 32,
    "start_time": "2023-04-17T18:48:27.485Z"
   },
   {
    "duration": 13,
    "start_time": "2023-04-17T18:48:31.929Z"
   },
   {
    "duration": 7,
    "start_time": "2023-04-17T18:49:06.410Z"
   },
   {
    "duration": 9,
    "start_time": "2023-04-17T18:52:21.146Z"
   },
   {
    "duration": 5,
    "start_time": "2023-04-17T18:52:35.103Z"
   },
   {
    "duration": 24,
    "start_time": "2023-04-17T18:57:32.599Z"
   },
   {
    "duration": 4,
    "start_time": "2023-04-17T19:00:35.839Z"
   },
   {
    "duration": 24,
    "start_time": "2023-04-17T19:07:22.324Z"
   },
   {
    "duration": 26,
    "start_time": "2023-04-17T19:23:07.012Z"
   },
   {
    "duration": 32,
    "start_time": "2023-04-17T19:39:43.981Z"
   },
   {
    "duration": 44,
    "start_time": "2023-04-18T14:50:05.823Z"
   },
   {
    "duration": 3,
    "start_time": "2023-04-18T14:50:13.128Z"
   },
   {
    "duration": 153,
    "start_time": "2023-04-18T14:50:13.133Z"
   },
   {
    "duration": 57,
    "start_time": "2023-04-18T14:50:13.288Z"
   },
   {
    "duration": 14,
    "start_time": "2023-04-18T14:50:13.346Z"
   },
   {
    "duration": 19,
    "start_time": "2023-04-18T14:50:13.362Z"
   },
   {
    "duration": 31,
    "start_time": "2023-04-18T14:50:13.383Z"
   },
   {
    "duration": 30,
    "start_time": "2023-04-18T14:50:13.416Z"
   },
   {
    "duration": 33,
    "start_time": "2023-04-18T14:50:13.448Z"
   },
   {
    "duration": 45,
    "start_time": "2023-04-18T14:50:16.233Z"
   },
   {
    "duration": 10,
    "start_time": "2023-04-18T14:51:25.162Z"
   },
   {
    "duration": 79,
    "start_time": "2023-04-18T14:51:32.937Z"
   },
   {
    "duration": 10,
    "start_time": "2023-04-18T14:51:40.878Z"
   },
   {
    "duration": 30,
    "start_time": "2023-04-18T14:51:48.935Z"
   },
   {
    "duration": 28,
    "start_time": "2023-04-18T14:53:19.147Z"
   },
   {
    "duration": 19,
    "start_time": "2023-04-18T15:00:35.835Z"
   },
   {
    "duration": 11,
    "start_time": "2023-04-18T15:03:49.368Z"
   },
   {
    "duration": 22,
    "start_time": "2023-04-18T15:03:55.011Z"
   },
   {
    "duration": 7,
    "start_time": "2023-04-18T15:05:30.514Z"
   },
   {
    "duration": 7,
    "start_time": "2023-04-18T15:06:03.969Z"
   },
   {
    "duration": 31,
    "start_time": "2023-04-18T15:06:36.512Z"
   },
   {
    "duration": 17,
    "start_time": "2023-04-18T15:08:09.426Z"
   },
   {
    "duration": 14,
    "start_time": "2023-04-18T15:19:56.529Z"
   },
   {
    "duration": 20,
    "start_time": "2023-04-18T15:20:15.828Z"
   },
   {
    "duration": 20,
    "start_time": "2023-04-18T15:20:37.061Z"
   },
   {
    "duration": 18,
    "start_time": "2023-04-18T15:24:02.684Z"
   },
   {
    "duration": 10,
    "start_time": "2023-04-18T15:24:18.944Z"
   },
   {
    "duration": 26,
    "start_time": "2023-04-18T15:25:27.525Z"
   },
   {
    "duration": 34,
    "start_time": "2023-04-18T15:25:52.969Z"
   },
   {
    "duration": 32,
    "start_time": "2023-04-18T15:25:59.627Z"
   },
   {
    "duration": 35,
    "start_time": "2023-04-18T15:26:21.114Z"
   },
   {
    "duration": 15,
    "start_time": "2023-04-18T15:26:56.566Z"
   },
   {
    "duration": 13,
    "start_time": "2023-04-18T15:27:18.122Z"
   },
   {
    "duration": 14,
    "start_time": "2023-04-18T15:27:29.525Z"
   },
   {
    "duration": 13,
    "start_time": "2023-04-18T15:29:06.506Z"
   },
   {
    "duration": 16,
    "start_time": "2023-04-18T15:29:12.745Z"
   },
   {
    "duration": 4,
    "start_time": "2023-04-18T15:32:39.171Z"
   },
   {
    "duration": 18,
    "start_time": "2023-04-18T15:32:51.374Z"
   },
   {
    "duration": 5,
    "start_time": "2023-04-18T15:32:57.714Z"
   },
   {
    "duration": 15,
    "start_time": "2023-04-18T15:33:52.018Z"
   },
   {
    "duration": 15,
    "start_time": "2023-04-18T15:34:03.943Z"
   },
   {
    "duration": 12,
    "start_time": "2023-04-18T15:36:14.726Z"
   },
   {
    "duration": 5,
    "start_time": "2023-04-18T15:36:22.655Z"
   },
   {
    "duration": 86,
    "start_time": "2023-04-18T15:41:40.361Z"
   },
   {
    "duration": 5,
    "start_time": "2023-04-18T15:42:57.721Z"
   },
   {
    "duration": 4,
    "start_time": "2023-04-18T15:43:31.240Z"
   },
   {
    "duration": 277,
    "start_time": "2023-04-18T15:43:31.757Z"
   },
   {
    "duration": 3,
    "start_time": "2023-04-18T15:43:55.315Z"
   },
   {
    "duration": 330,
    "start_time": "2023-04-18T15:43:55.861Z"
   },
   {
    "duration": 4,
    "start_time": "2023-04-18T15:45:23.719Z"
   },
   {
    "duration": 766,
    "start_time": "2023-04-18T15:45:24.259Z"
   },
   {
    "duration": 2,
    "start_time": "2023-04-18T15:45:40.870Z"
   },
   {
    "duration": 292,
    "start_time": "2023-04-18T15:45:41.463Z"
   },
   {
    "duration": 4,
    "start_time": "2023-04-18T15:46:45.907Z"
   },
   {
    "duration": 232,
    "start_time": "2023-04-18T15:46:47.239Z"
   },
   {
    "duration": 4,
    "start_time": "2023-04-18T15:47:35.311Z"
   },
   {
    "duration": 245,
    "start_time": "2023-04-18T15:47:36.914Z"
   },
   {
    "duration": 5,
    "start_time": "2023-04-18T15:48:22.455Z"
   },
   {
    "duration": 3,
    "start_time": "2023-04-18T15:48:28.355Z"
   },
   {
    "duration": 269,
    "start_time": "2023-04-18T15:48:29.155Z"
   },
   {
    "duration": 5,
    "start_time": "2023-04-18T15:49:02.861Z"
   },
   {
    "duration": 4,
    "start_time": "2023-04-18T15:49:03.711Z"
   },
   {
    "duration": 19,
    "start_time": "2023-04-18T15:49:04.107Z"
   },
   {
    "duration": 5,
    "start_time": "2023-04-18T15:49:05.030Z"
   },
   {
    "duration": 3,
    "start_time": "2023-04-18T15:49:40.963Z"
   },
   {
    "duration": 120,
    "start_time": "2023-04-18T15:49:41.214Z"
   },
   {
    "duration": 50,
    "start_time": "2023-04-18T15:49:41.401Z"
   },
   {
    "duration": 13,
    "start_time": "2023-04-18T15:49:41.771Z"
   },
   {
    "duration": 7,
    "start_time": "2023-04-18T15:49:42.203Z"
   },
   {
    "duration": 5,
    "start_time": "2023-04-18T15:49:42.602Z"
   },
   {
    "duration": 5,
    "start_time": "2023-04-18T15:49:42.762Z"
   },
   {
    "duration": 24,
    "start_time": "2023-04-18T15:49:43.012Z"
   },
   {
    "duration": 26,
    "start_time": "2023-04-18T15:49:43.417Z"
   },
   {
    "duration": 7,
    "start_time": "2023-04-18T15:49:46.105Z"
   },
   {
    "duration": 9,
    "start_time": "2023-04-18T15:49:47.461Z"
   },
   {
    "duration": 3,
    "start_time": "2023-04-18T15:49:48.163Z"
   },
   {
    "duration": 5,
    "start_time": "2023-04-18T15:49:48.808Z"
   },
   {
    "duration": 15,
    "start_time": "2023-04-18T15:49:50.162Z"
   },
   {
    "duration": 5,
    "start_time": "2023-04-18T15:49:51.162Z"
   },
   {
    "duration": 4,
    "start_time": "2023-04-18T15:49:54.743Z"
   },
   {
    "duration": 277,
    "start_time": "2023-04-18T15:49:57.406Z"
   },
   {
    "duration": 4,
    "start_time": "2023-04-18T15:50:08.003Z"
   },
   {
    "duration": 970,
    "start_time": "2023-04-18T15:50:11.630Z"
   },
   {
    "duration": 9,
    "start_time": "2023-04-18T15:50:20.442Z"
   },
   {
    "duration": 312,
    "start_time": "2023-04-18T15:50:20.911Z"
   },
   {
    "duration": 9,
    "start_time": "2023-04-18T15:50:45.901Z"
   },
   {
    "duration": 134,
    "start_time": "2023-04-18T15:50:45.912Z"
   },
   {
    "duration": 53,
    "start_time": "2023-04-18T15:50:46.048Z"
   },
   {
    "duration": 16,
    "start_time": "2023-04-18T15:50:46.103Z"
   },
   {
    "duration": 21,
    "start_time": "2023-04-18T15:50:46.121Z"
   },
   {
    "duration": 18,
    "start_time": "2023-04-18T15:50:46.143Z"
   },
   {
    "duration": 15,
    "start_time": "2023-04-18T15:50:46.163Z"
   },
   {
    "duration": 49,
    "start_time": "2023-04-18T15:50:46.180Z"
   },
   {
    "duration": 28,
    "start_time": "2023-04-18T15:50:46.231Z"
   },
   {
    "duration": 9,
    "start_time": "2023-04-18T15:50:46.262Z"
   },
   {
    "duration": 25,
    "start_time": "2023-04-18T15:50:46.272Z"
   },
   {
    "duration": 22,
    "start_time": "2023-04-18T15:50:46.301Z"
   },
   {
    "duration": 10,
    "start_time": "2023-04-18T15:50:46.325Z"
   },
   {
    "duration": 26,
    "start_time": "2023-04-18T15:50:46.337Z"
   },
   {
    "duration": 7,
    "start_time": "2023-04-18T15:50:46.366Z"
   },
   {
    "duration": 6,
    "start_time": "2023-04-18T15:50:49.070Z"
   },
   {
    "duration": 3,
    "start_time": "2023-04-18T15:50:49.445Z"
   },
   {
    "duration": 7,
    "start_time": "2023-04-18T15:50:49.867Z"
   },
   {
    "duration": 6,
    "start_time": "2023-04-18T15:50:51.618Z"
   },
   {
    "duration": 4,
    "start_time": "2023-04-18T16:21:14.620Z"
   },
   {
    "duration": 179,
    "start_time": "2023-04-18T16:21:14.626Z"
   },
   {
    "duration": 58,
    "start_time": "2023-04-18T16:21:14.807Z"
   },
   {
    "duration": 14,
    "start_time": "2023-04-18T16:21:14.868Z"
   },
   {
    "duration": 24,
    "start_time": "2023-04-18T16:21:14.883Z"
   },
   {
    "duration": 9,
    "start_time": "2023-04-18T16:21:14.908Z"
   },
   {
    "duration": 7,
    "start_time": "2023-04-18T16:21:14.919Z"
   },
   {
    "duration": 26,
    "start_time": "2023-04-18T16:21:14.928Z"
   },
   {
    "duration": 64,
    "start_time": "2023-04-18T16:21:14.956Z"
   },
   {
    "duration": 7,
    "start_time": "2023-04-18T16:21:15.022Z"
   },
   {
    "duration": 12,
    "start_time": "2023-04-18T16:21:15.031Z"
   },
   {
    "duration": 26,
    "start_time": "2023-04-18T16:21:15.045Z"
   },
   {
    "duration": 20,
    "start_time": "2023-04-18T16:21:15.073Z"
   },
   {
    "duration": 38,
    "start_time": "2023-04-18T16:21:15.099Z"
   },
   {
    "duration": 6,
    "start_time": "2023-04-18T16:21:15.139Z"
   },
   {
    "duration": 9,
    "start_time": "2023-04-18T16:21:15.148Z"
   },
   {
    "duration": 11,
    "start_time": "2023-04-18T16:21:15.158Z"
   },
   {
    "duration": 22,
    "start_time": "2023-04-18T16:21:15.171Z"
   },
   {
    "duration": 6,
    "start_time": "2023-04-18T16:21:18.651Z"
   },
   {
    "duration": 19,
    "start_time": "2023-04-18T16:21:19.771Z"
   },
   {
    "duration": 18,
    "start_time": "2023-04-18T16:21:35.378Z"
   },
   {
    "duration": 12,
    "start_time": "2023-04-18T16:22:08.444Z"
   },
   {
    "duration": 18,
    "start_time": "2023-04-18T16:22:08.856Z"
   },
   {
    "duration": 18,
    "start_time": "2023-04-18T16:23:13.025Z"
   },
   {
    "duration": 12,
    "start_time": "2023-04-18T16:23:27.960Z"
   },
   {
    "duration": 16,
    "start_time": "2023-04-18T16:23:29.034Z"
   },
   {
    "duration": 17,
    "start_time": "2023-04-18T16:23:34.679Z"
   },
   {
    "duration": 429,
    "start_time": "2023-04-18T16:23:53.959Z"
   },
   {
    "duration": 136,
    "start_time": "2023-04-18T16:23:54.396Z"
   },
   {
    "duration": 51,
    "start_time": "2023-04-18T16:23:54.534Z"
   },
   {
    "duration": 24,
    "start_time": "2023-04-18T16:23:54.587Z"
   },
   {
    "duration": 9,
    "start_time": "2023-04-18T16:23:54.613Z"
   },
   {
    "duration": 6,
    "start_time": "2023-04-18T16:23:54.624Z"
   },
   {
    "duration": 9,
    "start_time": "2023-04-18T16:23:54.632Z"
   },
   {
    "duration": 68,
    "start_time": "2023-04-18T16:23:54.643Z"
   },
   {
    "duration": 30,
    "start_time": "2023-04-18T16:23:54.713Z"
   },
   {
    "duration": 8,
    "start_time": "2023-04-18T16:23:54.745Z"
   },
   {
    "duration": 43,
    "start_time": "2023-04-18T16:23:54.755Z"
   },
   {
    "duration": 12,
    "start_time": "2023-04-18T16:23:54.803Z"
   },
   {
    "duration": 19,
    "start_time": "2023-04-18T16:23:54.819Z"
   },
   {
    "duration": 21,
    "start_time": "2023-04-18T16:23:54.840Z"
   },
   {
    "duration": 7,
    "start_time": "2023-04-18T16:23:54.863Z"
   },
   {
    "duration": 33,
    "start_time": "2023-04-18T16:23:54.872Z"
   },
   {
    "duration": 27,
    "start_time": "2023-04-18T16:23:54.907Z"
   },
   {
    "duration": 8,
    "start_time": "2023-04-18T16:23:54.936Z"
   },
   {
    "duration": 17,
    "start_time": "2023-04-18T16:23:54.945Z"
   },
   {
    "duration": 17,
    "start_time": "2023-04-18T16:23:54.963Z"
   },
   {
    "duration": 25,
    "start_time": "2023-04-18T16:23:54.982Z"
   },
   {
    "duration": 25,
    "start_time": "2023-04-18T16:24:13.561Z"
   },
   {
    "duration": 16,
    "start_time": "2023-04-18T16:24:15.318Z"
   },
   {
    "duration": 25,
    "start_time": "2023-04-18T16:24:19.038Z"
   },
   {
    "duration": 18,
    "start_time": "2023-04-18T16:26:14.567Z"
   },
   {
    "duration": 3,
    "start_time": "2023-04-18T16:26:20.826Z"
   },
   {
    "duration": 153,
    "start_time": "2023-04-18T16:26:20.831Z"
   },
   {
    "duration": 57,
    "start_time": "2023-04-18T16:26:20.987Z"
   },
   {
    "duration": 18,
    "start_time": "2023-04-18T16:26:21.046Z"
   },
   {
    "duration": 34,
    "start_time": "2023-04-18T16:26:21.067Z"
   },
   {
    "duration": 20,
    "start_time": "2023-04-18T16:26:21.103Z"
   },
   {
    "duration": 49,
    "start_time": "2023-04-18T16:26:21.133Z"
   },
   {
    "duration": 78,
    "start_time": "2023-04-18T16:26:21.183Z"
   },
   {
    "duration": 44,
    "start_time": "2023-04-18T16:26:21.263Z"
   },
   {
    "duration": 10,
    "start_time": "2023-04-18T16:26:21.310Z"
   },
   {
    "duration": 30,
    "start_time": "2023-04-18T16:26:21.322Z"
   },
   {
    "duration": 15,
    "start_time": "2023-04-18T16:26:21.355Z"
   },
   {
    "duration": 24,
    "start_time": "2023-04-18T16:26:21.371Z"
   },
   {
    "duration": 24,
    "start_time": "2023-04-18T16:26:21.398Z"
   },
   {
    "duration": 18,
    "start_time": "2023-04-18T16:26:21.423Z"
   },
   {
    "duration": 26,
    "start_time": "2023-04-18T16:26:21.443Z"
   },
   {
    "duration": 8,
    "start_time": "2023-04-18T16:26:21.470Z"
   },
   {
    "duration": 22,
    "start_time": "2023-04-18T16:26:21.480Z"
   },
   {
    "duration": 29,
    "start_time": "2023-04-18T16:26:21.504Z"
   },
   {
    "duration": 14,
    "start_time": "2023-04-18T16:26:58.465Z"
   },
   {
    "duration": 16,
    "start_time": "2023-04-18T16:26:59.762Z"
   },
   {
    "duration": 3,
    "start_time": "2023-04-18T16:27:23.330Z"
   },
   {
    "duration": 152,
    "start_time": "2023-04-18T16:27:23.335Z"
   },
   {
    "duration": 53,
    "start_time": "2023-04-18T16:27:23.489Z"
   },
   {
    "duration": 14,
    "start_time": "2023-04-18T16:27:23.544Z"
   },
   {
    "duration": 58,
    "start_time": "2023-04-18T16:27:23.560Z"
   },
   {
    "duration": 22,
    "start_time": "2023-04-18T16:27:23.619Z"
   },
   {
    "duration": 24,
    "start_time": "2023-04-18T16:27:23.643Z"
   },
   {
    "duration": 46,
    "start_time": "2023-04-18T16:27:23.668Z"
   },
   {
    "duration": 31,
    "start_time": "2023-04-18T16:27:23.716Z"
   },
   {
    "duration": 7,
    "start_time": "2023-04-18T16:27:23.749Z"
   },
   {
    "duration": 41,
    "start_time": "2023-04-18T16:27:23.758Z"
   },
   {
    "duration": 11,
    "start_time": "2023-04-18T16:27:23.801Z"
   },
   {
    "duration": 17,
    "start_time": "2023-04-18T16:27:23.814Z"
   },
   {
    "duration": 32,
    "start_time": "2023-04-18T16:27:23.834Z"
   },
   {
    "duration": 16,
    "start_time": "2023-04-18T16:27:23.868Z"
   },
   {
    "duration": 52,
    "start_time": "2023-04-18T16:27:23.886Z"
   },
   {
    "duration": 32,
    "start_time": "2023-04-18T16:27:23.940Z"
   },
   {
    "duration": 34,
    "start_time": "2023-04-18T16:27:23.974Z"
   },
   {
    "duration": 46,
    "start_time": "2023-04-18T16:27:24.010Z"
   },
   {
    "duration": 26,
    "start_time": "2023-04-18T16:27:24.059Z"
   },
   {
    "duration": 26,
    "start_time": "2023-04-18T16:27:24.087Z"
   },
   {
    "duration": 27,
    "start_time": "2023-04-18T16:27:24.114Z"
   },
   {
    "duration": 92,
    "start_time": "2023-04-18T16:30:43.336Z"
   },
   {
    "duration": 17,
    "start_time": "2023-04-18T16:30:43.846Z"
   },
   {
    "duration": 20,
    "start_time": "2023-04-18T16:30:59.752Z"
   },
   {
    "duration": 3,
    "start_time": "2023-04-18T16:35:04.325Z"
   },
   {
    "duration": 165,
    "start_time": "2023-04-18T16:35:04.331Z"
   },
   {
    "duration": 62,
    "start_time": "2023-04-18T16:35:04.500Z"
   },
   {
    "duration": 18,
    "start_time": "2023-04-18T16:35:04.564Z"
   },
   {
    "duration": 32,
    "start_time": "2023-04-18T16:35:04.584Z"
   },
   {
    "duration": 25,
    "start_time": "2023-04-18T16:35:04.618Z"
   },
   {
    "duration": 34,
    "start_time": "2023-04-18T16:35:04.644Z"
   },
   {
    "duration": 73,
    "start_time": "2023-04-18T16:35:04.680Z"
   },
   {
    "duration": 41,
    "start_time": "2023-04-18T16:35:04.757Z"
   },
   {
    "duration": 15,
    "start_time": "2023-04-18T16:35:04.803Z"
   },
   {
    "duration": 28,
    "start_time": "2023-04-18T16:35:04.820Z"
   },
   {
    "duration": 28,
    "start_time": "2023-04-18T16:35:04.850Z"
   },
   {
    "duration": 36,
    "start_time": "2023-04-18T16:35:04.880Z"
   },
   {
    "duration": 43,
    "start_time": "2023-04-18T16:35:04.918Z"
   },
   {
    "duration": 47,
    "start_time": "2023-04-18T16:35:04.964Z"
   },
   {
    "duration": 11,
    "start_time": "2023-04-18T16:35:05.013Z"
   },
   {
    "duration": 59,
    "start_time": "2023-04-18T16:35:05.026Z"
   },
   {
    "duration": 73,
    "start_time": "2023-04-18T16:35:05.087Z"
   },
   {
    "duration": 67,
    "start_time": "2023-04-18T16:35:05.162Z"
   },
   {
    "duration": 75,
    "start_time": "2023-04-18T16:35:05.231Z"
   },
   {
    "duration": 35,
    "start_time": "2023-04-18T16:35:05.307Z"
   },
   {
    "duration": 67,
    "start_time": "2023-04-18T16:35:05.343Z"
   },
   {
    "duration": 2,
    "start_time": "2023-04-18T16:35:43.823Z"
   },
   {
    "duration": 138,
    "start_time": "2023-04-18T16:35:43.827Z"
   },
   {
    "duration": 61,
    "start_time": "2023-04-18T16:35:43.968Z"
   },
   {
    "duration": 22,
    "start_time": "2023-04-18T16:35:44.031Z"
   },
   {
    "duration": 9,
    "start_time": "2023-04-18T16:35:44.056Z"
   },
   {
    "duration": 16,
    "start_time": "2023-04-18T16:35:44.068Z"
   },
   {
    "duration": 30,
    "start_time": "2023-04-18T16:35:44.086Z"
   },
   {
    "duration": 38,
    "start_time": "2023-04-18T16:35:44.119Z"
   },
   {
    "duration": 41,
    "start_time": "2023-04-18T16:35:44.159Z"
   },
   {
    "duration": 10,
    "start_time": "2023-04-18T16:35:44.203Z"
   },
   {
    "duration": 19,
    "start_time": "2023-04-18T16:35:44.214Z"
   },
   {
    "duration": 22,
    "start_time": "2023-04-18T16:35:44.235Z"
   },
   {
    "duration": 14,
    "start_time": "2023-04-18T16:35:44.259Z"
   },
   {
    "duration": 39,
    "start_time": "2023-04-18T16:35:44.276Z"
   },
   {
    "duration": 25,
    "start_time": "2023-04-18T16:35:44.317Z"
   },
   {
    "duration": 33,
    "start_time": "2023-04-18T16:35:44.344Z"
   },
   {
    "duration": 193,
    "start_time": "2023-04-18T16:35:44.379Z"
   },
   {
    "duration": 32,
    "start_time": "2023-04-18T16:35:44.574Z"
   },
   {
    "duration": 33,
    "start_time": "2023-04-18T16:35:44.607Z"
   },
   {
    "duration": 27,
    "start_time": "2023-04-18T16:35:44.643Z"
   },
   {
    "duration": 18,
    "start_time": "2023-04-18T16:35:44.672Z"
   },
   {
    "duration": 33,
    "start_time": "2023-04-18T16:35:44.691Z"
   },
   {
    "duration": 20,
    "start_time": "2023-04-18T16:35:57.635Z"
   },
   {
    "duration": 19,
    "start_time": "2023-04-18T16:36:00.824Z"
   },
   {
    "duration": 19,
    "start_time": "2023-04-18T16:36:03.462Z"
   },
   {
    "duration": 3,
    "start_time": "2023-04-18T16:36:27.560Z"
   },
   {
    "duration": 140,
    "start_time": "2023-04-18T16:36:27.565Z"
   },
   {
    "duration": 53,
    "start_time": "2023-04-18T16:36:27.707Z"
   },
   {
    "duration": 17,
    "start_time": "2023-04-18T16:36:27.763Z"
   },
   {
    "duration": 15,
    "start_time": "2023-04-18T16:36:27.782Z"
   },
   {
    "duration": 14,
    "start_time": "2023-04-18T16:36:27.802Z"
   },
   {
    "duration": 10,
    "start_time": "2023-04-18T16:36:27.819Z"
   },
   {
    "duration": 30,
    "start_time": "2023-04-18T16:36:27.831Z"
   },
   {
    "duration": 52,
    "start_time": "2023-04-18T16:36:27.864Z"
   },
   {
    "duration": 7,
    "start_time": "2023-04-18T16:36:27.918Z"
   },
   {
    "duration": 15,
    "start_time": "2023-04-18T16:36:27.927Z"
   },
   {
    "duration": 8,
    "start_time": "2023-04-18T16:36:27.944Z"
   },
   {
    "duration": 9,
    "start_time": "2023-04-18T16:36:27.954Z"
   },
   {
    "duration": 62,
    "start_time": "2023-04-18T16:36:27.964Z"
   },
   {
    "duration": 6,
    "start_time": "2023-04-18T16:36:28.027Z"
   },
   {
    "duration": 16,
    "start_time": "2023-04-18T16:36:28.034Z"
   },
   {
    "duration": 22,
    "start_time": "2023-04-18T16:36:28.052Z"
   },
   {
    "duration": 35,
    "start_time": "2023-04-18T16:36:28.075Z"
   },
   {
    "duration": 29,
    "start_time": "2023-04-18T16:36:28.112Z"
   },
   {
    "duration": 24,
    "start_time": "2023-04-18T16:36:28.143Z"
   },
   {
    "duration": 10,
    "start_time": "2023-04-18T16:36:28.169Z"
   },
   {
    "duration": 36,
    "start_time": "2023-04-18T16:36:28.180Z"
   },
   {
    "duration": 22,
    "start_time": "2023-04-18T16:36:28.218Z"
   },
   {
    "duration": 16,
    "start_time": "2023-04-18T16:37:01.621Z"
   },
   {
    "duration": 6,
    "start_time": "2023-04-18T16:37:10.303Z"
   },
   {
    "duration": 23,
    "start_time": "2023-04-18T16:37:11.622Z"
   },
   {
    "duration": 21,
    "start_time": "2023-04-18T16:37:15.263Z"
   },
   {
    "duration": 414,
    "start_time": "2023-04-18T16:38:49.672Z"
   },
   {
    "duration": 3,
    "start_time": "2023-04-18T16:39:05.455Z"
   },
   {
    "duration": 146,
    "start_time": "2023-04-18T16:39:05.460Z"
   },
   {
    "duration": 58,
    "start_time": "2023-04-18T16:39:05.608Z"
   },
   {
    "duration": 15,
    "start_time": "2023-04-18T16:39:05.668Z"
   },
   {
    "duration": 19,
    "start_time": "2023-04-18T16:39:05.685Z"
   },
   {
    "duration": 12,
    "start_time": "2023-04-18T16:39:05.706Z"
   },
   {
    "duration": 21,
    "start_time": "2023-04-18T16:39:05.719Z"
   },
   {
    "duration": 40,
    "start_time": "2023-04-18T16:39:05.742Z"
   },
   {
    "duration": 37,
    "start_time": "2023-04-18T16:39:05.784Z"
   },
   {
    "duration": 10,
    "start_time": "2023-04-18T16:39:05.823Z"
   },
   {
    "duration": 25,
    "start_time": "2023-04-18T16:39:05.835Z"
   },
   {
    "duration": 16,
    "start_time": "2023-04-18T16:39:05.862Z"
   },
   {
    "duration": 29,
    "start_time": "2023-04-18T16:39:05.882Z"
   },
   {
    "duration": 20,
    "start_time": "2023-04-18T16:39:05.912Z"
   },
   {
    "duration": 6,
    "start_time": "2023-04-18T16:39:05.935Z"
   },
   {
    "duration": 13,
    "start_time": "2023-04-18T16:39:05.943Z"
   },
   {
    "duration": 44,
    "start_time": "2023-04-18T16:39:05.958Z"
   },
   {
    "duration": 20,
    "start_time": "2023-04-18T16:39:06.005Z"
   },
   {
    "duration": 39,
    "start_time": "2023-04-18T16:39:06.027Z"
   },
   {
    "duration": 38,
    "start_time": "2023-04-18T16:39:06.068Z"
   },
   {
    "duration": 25,
    "start_time": "2023-04-18T16:39:06.108Z"
   },
   {
    "duration": 19,
    "start_time": "2023-04-18T16:39:06.135Z"
   },
   {
    "duration": 3,
    "start_time": "2023-04-18T19:02:59.332Z"
   },
   {
    "duration": 143,
    "start_time": "2023-04-18T19:02:59.338Z"
   },
   {
    "duration": 71,
    "start_time": "2023-04-18T19:02:59.483Z"
   },
   {
    "duration": 17,
    "start_time": "2023-04-18T19:02:59.557Z"
   },
   {
    "duration": 9,
    "start_time": "2023-04-18T19:02:59.575Z"
   },
   {
    "duration": 19,
    "start_time": "2023-04-18T19:02:59.586Z"
   },
   {
    "duration": 38,
    "start_time": "2023-04-18T19:02:59.607Z"
   },
   {
    "duration": 60,
    "start_time": "2023-04-18T19:02:59.648Z"
   },
   {
    "duration": 45,
    "start_time": "2023-04-18T19:02:59.718Z"
   },
   {
    "duration": 8,
    "start_time": "2023-04-18T19:02:59.768Z"
   },
   {
    "duration": 80,
    "start_time": "2023-04-18T19:02:59.778Z"
   },
   {
    "duration": 10,
    "start_time": "2023-04-18T19:02:59.860Z"
   },
   {
    "duration": 27,
    "start_time": "2023-04-18T19:02:59.872Z"
   },
   {
    "duration": 70,
    "start_time": "2023-04-18T19:02:59.905Z"
   },
   {
    "duration": 7,
    "start_time": "2023-04-18T19:02:59.977Z"
   },
   {
    "duration": 52,
    "start_time": "2023-04-18T19:02:59.987Z"
   },
   {
    "duration": 19,
    "start_time": "2023-04-18T19:03:00.042Z"
   },
   {
    "duration": 24,
    "start_time": "2023-04-18T19:03:00.067Z"
   },
   {
    "duration": 80,
    "start_time": "2023-04-18T19:03:00.103Z"
   },
   {
    "duration": 43,
    "start_time": "2023-04-18T19:03:00.186Z"
   },
   {
    "duration": 26,
    "start_time": "2023-04-18T19:03:36.945Z"
   },
   {
    "duration": 38,
    "start_time": "2023-04-18T19:04:07.510Z"
   },
   {
    "duration": 9,
    "start_time": "2023-04-18T19:04:44.337Z"
   },
   {
    "duration": 7,
    "start_time": "2023-04-18T19:05:09.826Z"
   },
   {
    "duration": 11,
    "start_time": "2023-04-18T19:13:16.730Z"
   },
   {
    "duration": 12,
    "start_time": "2023-04-18T19:13:38.318Z"
   },
   {
    "duration": 27,
    "start_time": "2023-04-18T19:14:01.630Z"
   },
   {
    "duration": 18,
    "start_time": "2023-04-18T19:15:47.362Z"
   },
   {
    "duration": 3,
    "start_time": "2023-04-18T19:16:20.465Z"
   },
   {
    "duration": 231,
    "start_time": "2023-04-18T19:16:20.471Z"
   },
   {
    "duration": 93,
    "start_time": "2023-04-18T19:16:20.705Z"
   },
   {
    "duration": 28,
    "start_time": "2023-04-18T19:16:20.801Z"
   },
   {
    "duration": 53,
    "start_time": "2023-04-18T19:16:20.835Z"
   },
   {
    "duration": 56,
    "start_time": "2023-04-18T19:16:20.891Z"
   },
   {
    "duration": 49,
    "start_time": "2023-04-18T19:16:20.950Z"
   },
   {
    "duration": 130,
    "start_time": "2023-04-18T19:16:21.002Z"
   },
   {
    "duration": 76,
    "start_time": "2023-04-18T19:16:21.138Z"
   },
   {
    "duration": 162,
    "start_time": "2023-04-18T19:16:21.223Z"
   },
   {
    "duration": 99,
    "start_time": "2023-04-18T19:16:21.399Z"
   },
   {
    "duration": 110,
    "start_time": "2023-04-18T19:16:21.507Z"
   },
   {
    "duration": 36,
    "start_time": "2023-04-18T19:16:21.626Z"
   },
   {
    "duration": 31,
    "start_time": "2023-04-18T19:16:21.665Z"
   },
   {
    "duration": 59,
    "start_time": "2023-04-18T19:16:21.705Z"
   },
   {
    "duration": 13,
    "start_time": "2023-04-18T19:16:21.766Z"
   },
   {
    "duration": 57,
    "start_time": "2023-04-18T19:16:21.781Z"
   },
   {
    "duration": 25,
    "start_time": "2023-04-18T19:16:21.840Z"
   },
   {
    "duration": 44,
    "start_time": "2023-04-18T19:16:21.868Z"
   },
   {
    "duration": 55,
    "start_time": "2023-04-18T19:16:21.918Z"
   },
   {
    "duration": 6,
    "start_time": "2023-04-18T19:16:21.975Z"
   },
   {
    "duration": 10,
    "start_time": "2023-04-18T19:16:24.539Z"
   },
   {
    "duration": 21,
    "start_time": "2023-04-18T19:16:31.143Z"
   },
   {
    "duration": 10,
    "start_time": "2023-04-18T19:16:40.223Z"
   },
   {
    "duration": 28,
    "start_time": "2023-04-18T19:16:46.250Z"
   },
   {
    "duration": 14,
    "start_time": "2023-04-18T19:17:17.748Z"
   },
   {
    "duration": 26,
    "start_time": "2023-04-18T19:17:50.520Z"
   },
   {
    "duration": 4,
    "start_time": "2023-04-18T19:17:52.453Z"
   },
   {
    "duration": 13,
    "start_time": "2023-04-18T19:18:08.046Z"
   },
   {
    "duration": 10,
    "start_time": "2023-04-18T19:22:51.950Z"
   },
   {
    "duration": 16,
    "start_time": "2023-04-18T19:22:54.915Z"
   },
   {
    "duration": 14,
    "start_time": "2023-04-18T19:22:56.058Z"
   },
   {
    "duration": 3,
    "start_time": "2023-04-18T19:38:24.240Z"
   },
   {
    "duration": 169,
    "start_time": "2023-04-18T19:38:24.246Z"
   },
   {
    "duration": 54,
    "start_time": "2023-04-18T19:38:24.421Z"
   },
   {
    "duration": 28,
    "start_time": "2023-04-18T19:38:24.476Z"
   },
   {
    "duration": 36,
    "start_time": "2023-04-18T19:38:24.507Z"
   },
   {
    "duration": 19,
    "start_time": "2023-04-18T19:38:24.545Z"
   },
   {
    "duration": 18,
    "start_time": "2023-04-18T19:38:24.566Z"
   },
   {
    "duration": 76,
    "start_time": "2023-04-18T19:38:24.587Z"
   },
   {
    "duration": 31,
    "start_time": "2023-04-18T19:38:24.666Z"
   },
   {
    "duration": 10,
    "start_time": "2023-04-18T19:38:24.699Z"
   },
   {
    "duration": 39,
    "start_time": "2023-04-18T19:38:24.711Z"
   },
   {
    "duration": 38,
    "start_time": "2023-04-18T19:38:24.753Z"
   },
   {
    "duration": 44,
    "start_time": "2023-04-18T19:38:24.792Z"
   },
   {
    "duration": 55,
    "start_time": "2023-04-18T19:38:24.840Z"
   },
   {
    "duration": 14,
    "start_time": "2023-04-18T19:38:24.897Z"
   },
   {
    "duration": 9,
    "start_time": "2023-04-18T19:38:24.913Z"
   },
   {
    "duration": 29,
    "start_time": "2023-04-18T19:38:24.924Z"
   },
   {
    "duration": 40,
    "start_time": "2023-04-18T19:38:24.956Z"
   },
   {
    "duration": 57,
    "start_time": "2023-04-18T19:38:25.004Z"
   },
   {
    "duration": 28,
    "start_time": "2023-04-18T19:38:25.063Z"
   },
   {
    "duration": 43,
    "start_time": "2023-04-18T19:38:25.093Z"
   },
   {
    "duration": 37,
    "start_time": "2023-04-18T19:38:25.138Z"
   },
   {
    "duration": 8,
    "start_time": "2023-04-18T19:38:37.155Z"
   },
   {
    "duration": 14,
    "start_time": "2023-04-18T19:38:38.142Z"
   },
   {
    "duration": 8,
    "start_time": "2023-04-18T19:39:47.948Z"
   },
   {
    "duration": 10,
    "start_time": "2023-04-18T19:39:51.329Z"
   },
   {
    "duration": 14,
    "start_time": "2023-04-18T19:40:06.475Z"
   },
   {
    "duration": 6,
    "start_time": "2023-04-18T19:40:19.827Z"
   },
   {
    "duration": 18,
    "start_time": "2023-04-18T19:40:43.443Z"
   },
   {
    "duration": 27,
    "start_time": "2023-04-18T19:43:16.441Z"
   },
   {
    "duration": 31,
    "start_time": "2023-04-18T19:43:25.247Z"
   },
   {
    "duration": 21,
    "start_time": "2023-04-18T19:43:30.536Z"
   },
   {
    "duration": 7,
    "start_time": "2023-04-18T19:49:56.160Z"
   },
   {
    "duration": 19,
    "start_time": "2023-04-18T19:50:01.345Z"
   },
   {
    "duration": 6,
    "start_time": "2023-04-18T19:50:11.373Z"
   },
   {
    "duration": 19,
    "start_time": "2023-04-18T19:50:18.845Z"
   },
   {
    "duration": 30,
    "start_time": "2023-04-18T19:59:49.215Z"
   },
   {
    "duration": 7,
    "start_time": "2023-04-18T20:00:06.574Z"
   },
   {
    "duration": 4,
    "start_time": "2023-04-18T20:00:18.231Z"
   },
   {
    "duration": 238,
    "start_time": "2023-04-18T20:00:18.242Z"
   },
   {
    "duration": 86,
    "start_time": "2023-04-18T20:00:18.482Z"
   },
   {
    "duration": 30,
    "start_time": "2023-04-18T20:00:18.570Z"
   },
   {
    "duration": 32,
    "start_time": "2023-04-18T20:00:18.603Z"
   },
   {
    "duration": 15,
    "start_time": "2023-04-18T20:00:18.638Z"
   },
   {
    "duration": 9,
    "start_time": "2023-04-18T20:00:18.655Z"
   },
   {
    "duration": 64,
    "start_time": "2023-04-18T20:00:18.666Z"
   },
   {
    "duration": 57,
    "start_time": "2023-04-18T20:00:18.740Z"
   },
   {
    "duration": 77,
    "start_time": "2023-04-18T20:00:18.799Z"
   },
   {
    "duration": 24,
    "start_time": "2023-04-18T20:00:18.879Z"
   },
   {
    "duration": 76,
    "start_time": "2023-04-18T20:00:18.905Z"
   },
   {
    "duration": 80,
    "start_time": "2023-04-18T20:00:18.984Z"
   },
   {
    "duration": 19,
    "start_time": "2023-04-18T20:00:19.067Z"
   },
   {
    "duration": 67,
    "start_time": "2023-04-18T20:00:19.088Z"
   },
   {
    "duration": 6,
    "start_time": "2023-04-18T20:00:19.157Z"
   },
   {
    "duration": 12,
    "start_time": "2023-04-18T20:00:19.166Z"
   },
   {
    "duration": 42,
    "start_time": "2023-04-18T20:00:19.181Z"
   },
   {
    "duration": 58,
    "start_time": "2023-04-18T20:00:19.225Z"
   },
   {
    "duration": 29,
    "start_time": "2023-04-18T20:00:19.286Z"
   },
   {
    "duration": 45,
    "start_time": "2023-04-18T20:00:19.318Z"
   },
   {
    "duration": 17,
    "start_time": "2023-04-18T20:00:19.366Z"
   },
   {
    "duration": 66,
    "start_time": "2023-04-18T20:00:19.386Z"
   },
   {
    "duration": 31,
    "start_time": "2023-04-18T20:00:19.455Z"
   },
   {
    "duration": 62,
    "start_time": "2023-04-18T20:00:19.495Z"
   },
   {
    "duration": 10,
    "start_time": "2023-04-18T20:00:24.902Z"
   },
   {
    "duration": 26,
    "start_time": "2023-04-18T20:00:26.544Z"
   },
   {
    "duration": 13,
    "start_time": "2023-04-18T20:00:27.220Z"
   },
   {
    "duration": 36,
    "start_time": "2023-04-18T20:00:48.864Z"
   },
   {
    "duration": 23,
    "start_time": "2023-04-18T20:00:49.320Z"
   },
   {
    "duration": 67,
    "start_time": "2023-04-18T20:01:01.906Z"
   },
   {
    "duration": 9,
    "start_time": "2023-04-18T20:01:02.924Z"
   },
   {
    "duration": 15,
    "start_time": "2023-04-18T20:01:28.060Z"
   },
   {
    "duration": 54,
    "start_time": "2023-04-18T20:04:17.410Z"
   },
   {
    "duration": 10,
    "start_time": "2023-04-18T20:04:18.052Z"
   },
   {
    "duration": 4,
    "start_time": "2023-04-18T20:06:10.424Z"
   },
   {
    "duration": 361,
    "start_time": "2023-04-18T20:06:10.431Z"
   },
   {
    "duration": 126,
    "start_time": "2023-04-18T20:06:10.797Z"
   },
   {
    "duration": 38,
    "start_time": "2023-04-18T20:06:10.934Z"
   },
   {
    "duration": 88,
    "start_time": "2023-04-18T20:06:10.986Z"
   },
   {
    "duration": 82,
    "start_time": "2023-04-18T20:06:11.080Z"
   },
   {
    "duration": 96,
    "start_time": "2023-04-18T20:06:11.166Z"
   },
   {
    "duration": 200,
    "start_time": "2023-04-18T20:06:11.266Z"
   },
   {
    "duration": 118,
    "start_time": "2023-04-18T20:06:11.468Z"
   },
   {
    "duration": 40,
    "start_time": "2023-04-18T20:06:11.593Z"
   },
   {
    "duration": 40,
    "start_time": "2023-04-18T20:06:11.635Z"
   },
   {
    "duration": 58,
    "start_time": "2023-04-18T20:06:11.682Z"
   },
   {
    "duration": 62,
    "start_time": "2023-04-18T20:06:11.743Z"
   },
   {
    "duration": 119,
    "start_time": "2023-04-18T20:06:11.808Z"
   },
   {
    "duration": 30,
    "start_time": "2023-04-18T20:06:11.940Z"
   },
   {
    "duration": 83,
    "start_time": "2023-04-18T20:06:11.974Z"
   },
   {
    "duration": 100,
    "start_time": "2023-04-18T20:06:12.067Z"
   },
   {
    "duration": 110,
    "start_time": "2023-04-18T20:06:12.171Z"
   },
   {
    "duration": 113,
    "start_time": "2023-04-18T20:06:12.284Z"
   },
   {
    "duration": 29,
    "start_time": "2023-04-18T20:06:12.404Z"
   },
   {
    "duration": 34,
    "start_time": "2023-04-18T20:06:12.440Z"
   },
   {
    "duration": 92,
    "start_time": "2023-04-18T20:06:12.477Z"
   },
   {
    "duration": 83,
    "start_time": "2023-04-18T20:06:12.574Z"
   },
   {
    "duration": 148,
    "start_time": "2023-04-18T20:06:12.666Z"
   },
   {
    "duration": 100,
    "start_time": "2023-04-18T20:06:12.820Z"
   },
   {
    "duration": 18,
    "start_time": "2023-04-18T20:06:45.719Z"
   },
   {
    "duration": 21,
    "start_time": "2023-04-18T20:06:50.460Z"
   },
   {
    "duration": 9,
    "start_time": "2023-04-18T20:06:55.451Z"
   },
   {
    "duration": 25,
    "start_time": "2023-04-18T20:07:00.217Z"
   },
   {
    "duration": 34,
    "start_time": "2023-04-18T20:07:42.223Z"
   },
   {
    "duration": 18,
    "start_time": "2023-04-18T20:07:42.923Z"
   },
   {
    "duration": 19,
    "start_time": "2023-04-18T20:07:45.252Z"
   },
   {
    "duration": 40,
    "start_time": "2023-04-18T20:08:20.477Z"
   },
   {
    "duration": 22,
    "start_time": "2023-04-18T20:08:21.723Z"
   },
   {
    "duration": 19,
    "start_time": "2023-04-18T20:13:26.520Z"
   },
   {
    "duration": 32,
    "start_time": "2023-04-18T20:13:47.267Z"
   },
   {
    "duration": 17,
    "start_time": "2023-04-18T20:13:48.110Z"
   },
   {
    "duration": 12,
    "start_time": "2023-04-18T20:14:59.306Z"
   },
   {
    "duration": 30,
    "start_time": "2023-04-18T20:15:00.308Z"
   },
   {
    "duration": 7,
    "start_time": "2023-04-18T20:15:00.942Z"
   },
   {
    "duration": 23,
    "start_time": "2023-04-18T20:15:31.359Z"
   },
   {
    "duration": 14,
    "start_time": "2023-04-18T20:15:32.633Z"
   },
   {
    "duration": 20,
    "start_time": "2023-04-18T20:15:33.424Z"
   },
   {
    "duration": 4,
    "start_time": "2023-04-18T20:18:08.583Z"
   },
   {
    "duration": 263,
    "start_time": "2023-04-18T20:18:08.591Z"
   },
   {
    "duration": 88,
    "start_time": "2023-04-18T20:18:08.856Z"
   },
   {
    "duration": 17,
    "start_time": "2023-04-18T20:18:08.946Z"
   },
   {
    "duration": 8,
    "start_time": "2023-04-18T20:18:08.970Z"
   },
   {
    "duration": 46,
    "start_time": "2023-04-18T20:18:08.980Z"
   },
   {
    "duration": 29,
    "start_time": "2023-04-18T20:18:09.027Z"
   },
   {
    "duration": 70,
    "start_time": "2023-04-18T20:18:09.059Z"
   },
   {
    "duration": 53,
    "start_time": "2023-04-18T20:18:09.132Z"
   },
   {
    "duration": 11,
    "start_time": "2023-04-18T20:18:09.191Z"
   },
   {
    "duration": 53,
    "start_time": "2023-04-18T20:18:09.205Z"
   },
   {
    "duration": 11,
    "start_time": "2023-04-18T20:18:09.261Z"
   },
   {
    "duration": 67,
    "start_time": "2023-04-18T20:18:09.274Z"
   },
   {
    "duration": 27,
    "start_time": "2023-04-18T20:18:09.344Z"
   },
   {
    "duration": 5,
    "start_time": "2023-04-18T20:18:09.373Z"
   },
   {
    "duration": 66,
    "start_time": "2023-04-18T20:18:09.380Z"
   },
   {
    "duration": 9,
    "start_time": "2023-04-18T20:18:09.448Z"
   },
   {
    "duration": 11,
    "start_time": "2023-04-18T20:18:09.458Z"
   },
   {
    "duration": 40,
    "start_time": "2023-04-18T20:18:09.471Z"
   },
   {
    "duration": 60,
    "start_time": "2023-04-18T20:18:09.513Z"
   },
   {
    "duration": 11,
    "start_time": "2023-04-18T20:18:09.575Z"
   },
   {
    "duration": 48,
    "start_time": "2023-04-18T20:18:09.602Z"
   },
   {
    "duration": 12,
    "start_time": "2023-04-18T20:18:09.653Z"
   },
   {
    "duration": 22,
    "start_time": "2023-04-18T20:18:09.668Z"
   },
   {
    "duration": 65,
    "start_time": "2023-04-18T20:18:09.692Z"
   },
   {
    "duration": 18,
    "start_time": "2023-04-18T20:18:09.759Z"
   },
   {
    "duration": 6,
    "start_time": "2023-04-18T20:18:12.956Z"
   },
   {
    "duration": 27,
    "start_time": "2023-04-18T20:18:13.927Z"
   },
   {
    "duration": 7,
    "start_time": "2023-04-18T20:18:14.515Z"
   },
   {
    "duration": 13,
    "start_time": "2023-04-18T20:18:42.883Z"
   },
   {
    "duration": 32,
    "start_time": "2023-04-18T20:18:43.184Z"
   },
   {
    "duration": 17,
    "start_time": "2023-04-18T20:18:43.515Z"
   },
   {
    "duration": 7,
    "start_time": "2023-04-18T20:19:42.747Z"
   },
   {
    "duration": 16,
    "start_time": "2023-04-18T20:20:26.582Z"
   },
   {
    "duration": 7,
    "start_time": "2023-04-18T20:24:18.821Z"
   },
   {
    "duration": 10,
    "start_time": "2023-04-18T20:25:21.356Z"
   },
   {
    "duration": 11,
    "start_time": "2023-04-18T20:25:23.945Z"
   },
   {
    "duration": 21,
    "start_time": "2023-04-18T20:25:55.211Z"
   },
   {
    "duration": 15,
    "start_time": "2023-04-18T20:25:55.676Z"
   },
   {
    "duration": 22,
    "start_time": "2023-04-18T20:26:17.044Z"
   },
   {
    "duration": 18,
    "start_time": "2023-04-18T20:26:17.747Z"
   },
   {
    "duration": 53,
    "start_time": "2023-04-18T20:27:11.572Z"
   },
   {
    "duration": 17,
    "start_time": "2023-04-18T20:27:11.947Z"
   },
   {
    "duration": 3,
    "start_time": "2023-04-18T20:27:35.728Z"
   },
   {
    "duration": 254,
    "start_time": "2023-04-18T20:27:35.749Z"
   },
   {
    "duration": 72,
    "start_time": "2023-04-18T20:27:36.008Z"
   },
   {
    "duration": 42,
    "start_time": "2023-04-18T20:27:36.083Z"
   },
   {
    "duration": 60,
    "start_time": "2023-04-18T20:27:36.129Z"
   },
   {
    "duration": 94,
    "start_time": "2023-04-18T20:27:36.191Z"
   },
   {
    "duration": 90,
    "start_time": "2023-04-18T20:27:36.287Z"
   },
   {
    "duration": 98,
    "start_time": "2023-04-18T20:27:36.379Z"
   },
   {
    "duration": 187,
    "start_time": "2023-04-18T20:27:36.483Z"
   },
   {
    "duration": 18,
    "start_time": "2023-04-18T20:27:36.675Z"
   },
   {
    "duration": 198,
    "start_time": "2023-04-18T20:27:36.704Z"
   },
   {
    "duration": 72,
    "start_time": "2023-04-18T20:27:36.905Z"
   },
   {
    "duration": 13,
    "start_time": "2023-04-18T20:27:36.979Z"
   },
   {
    "duration": 125,
    "start_time": "2023-04-18T20:27:36.994Z"
   },
   {
    "duration": 62,
    "start_time": "2023-04-18T20:27:37.136Z"
   },
   {
    "duration": 77,
    "start_time": "2023-04-18T20:27:37.200Z"
   },
   {
    "duration": 69,
    "start_time": "2023-04-18T20:27:37.280Z"
   },
   {
    "duration": 124,
    "start_time": "2023-04-18T20:27:37.353Z"
   },
   {
    "duration": 118,
    "start_time": "2023-04-18T20:27:37.479Z"
   },
   {
    "duration": 69,
    "start_time": "2023-04-18T20:27:37.599Z"
   },
   {
    "duration": 33,
    "start_time": "2023-04-18T20:27:37.675Z"
   },
   {
    "duration": 82,
    "start_time": "2023-04-18T20:27:37.719Z"
   },
   {
    "duration": 78,
    "start_time": "2023-04-18T20:27:37.808Z"
   },
   {
    "duration": 80,
    "start_time": "2023-04-18T20:27:37.889Z"
   },
   {
    "duration": 31,
    "start_time": "2023-04-18T20:27:37.971Z"
   },
   {
    "duration": 70,
    "start_time": "2023-04-18T20:27:38.004Z"
   },
   {
    "duration": 50,
    "start_time": "2023-04-18T20:27:38.076Z"
   },
   {
    "duration": 85,
    "start_time": "2023-04-18T20:27:38.128Z"
   },
   {
    "duration": 84,
    "start_time": "2023-04-18T20:27:38.222Z"
   },
   {
    "duration": 12,
    "start_time": "2023-04-18T20:27:51.328Z"
   },
   {
    "duration": 37,
    "start_time": "2023-04-18T20:27:52.176Z"
   },
   {
    "duration": 25,
    "start_time": "2023-04-18T20:27:52.614Z"
   },
   {
    "duration": 47,
    "start_time": "2023-04-18T20:28:06.778Z"
   },
   {
    "duration": 16,
    "start_time": "2023-04-18T20:28:07.221Z"
   },
   {
    "duration": 3,
    "start_time": "2023-04-18T20:28:23.384Z"
   },
   {
    "duration": 392,
    "start_time": "2023-04-18T20:28:23.390Z"
   },
   {
    "duration": 89,
    "start_time": "2023-04-18T20:28:23.786Z"
   },
   {
    "duration": 85,
    "start_time": "2023-04-18T20:28:23.877Z"
   },
   {
    "duration": 20,
    "start_time": "2023-04-18T20:28:23.965Z"
   },
   {
    "duration": 84,
    "start_time": "2023-04-18T20:28:23.987Z"
   },
   {
    "duration": 55,
    "start_time": "2023-04-18T20:28:24.073Z"
   },
   {
    "duration": 102,
    "start_time": "2023-04-18T20:28:24.132Z"
   },
   {
    "duration": 87,
    "start_time": "2023-04-18T20:28:24.236Z"
   },
   {
    "duration": 22,
    "start_time": "2023-04-18T20:28:24.338Z"
   },
   {
    "duration": 43,
    "start_time": "2023-04-18T20:28:24.362Z"
   },
   {
    "duration": 72,
    "start_time": "2023-04-18T20:28:24.408Z"
   },
   {
    "duration": 41,
    "start_time": "2023-04-18T20:28:24.484Z"
   },
   {
    "duration": 69,
    "start_time": "2023-04-18T20:28:24.531Z"
   },
   {
    "duration": 72,
    "start_time": "2023-04-18T20:28:24.602Z"
   },
   {
    "duration": 40,
    "start_time": "2023-04-18T20:28:24.676Z"
   },
   {
    "duration": 62,
    "start_time": "2023-04-18T20:28:24.718Z"
   },
   {
    "duration": 56,
    "start_time": "2023-04-18T20:28:24.783Z"
   },
   {
    "duration": 124,
    "start_time": "2023-04-18T20:28:24.841Z"
   },
   {
    "duration": 118,
    "start_time": "2023-04-18T20:28:24.967Z"
   },
   {
    "duration": 83,
    "start_time": "2023-04-18T20:28:25.087Z"
   },
   {
    "duration": 54,
    "start_time": "2023-04-18T20:28:25.173Z"
   },
   {
    "duration": 53,
    "start_time": "2023-04-18T20:28:25.229Z"
   },
   {
    "duration": 74,
    "start_time": "2023-04-18T20:28:25.284Z"
   },
   {
    "duration": 53,
    "start_time": "2023-04-18T20:28:25.361Z"
   },
   {
    "duration": 41,
    "start_time": "2023-04-18T20:28:25.423Z"
   },
   {
    "duration": 32,
    "start_time": "2023-04-18T20:28:25.466Z"
   },
   {
    "duration": 75,
    "start_time": "2023-04-18T20:28:25.500Z"
   },
   {
    "duration": 8,
    "start_time": "2023-04-18T20:28:25.577Z"
   },
   {
    "duration": 8,
    "start_time": "2023-04-18T20:28:28.750Z"
   },
   {
    "duration": 4,
    "start_time": "2023-04-18T20:29:01.600Z"
   },
   {
    "duration": 423,
    "start_time": "2023-04-18T20:29:01.608Z"
   },
   {
    "duration": 110,
    "start_time": "2023-04-18T20:29:02.044Z"
   },
   {
    "duration": 221,
    "start_time": "2023-04-18T20:29:02.165Z"
   },
   {
    "duration": 133,
    "start_time": "2023-04-18T20:29:02.399Z"
   },
   {
    "duration": 175,
    "start_time": "2023-04-18T20:29:02.543Z"
   },
   {
    "duration": 131,
    "start_time": "2023-04-18T20:29:02.727Z"
   },
   {
    "duration": 238,
    "start_time": "2023-04-18T20:29:02.867Z"
   },
   {
    "duration": 132,
    "start_time": "2023-04-18T20:29:03.116Z"
   },
   {
    "duration": 133,
    "start_time": "2023-04-18T20:29:03.259Z"
   },
   {
    "duration": 135,
    "start_time": "2023-04-18T20:29:03.406Z"
   },
   {
    "duration": 112,
    "start_time": "2023-04-18T20:29:03.550Z"
   },
   {
    "duration": 109,
    "start_time": "2023-04-18T20:29:03.671Z"
   },
   {
    "duration": 197,
    "start_time": "2023-04-18T20:29:03.795Z"
   },
   {
    "duration": 63,
    "start_time": "2023-04-18T20:29:04.000Z"
   },
   {
    "duration": 24,
    "start_time": "2023-04-18T20:29:04.065Z"
   },
   {
    "duration": 88,
    "start_time": "2023-04-18T20:29:04.093Z"
   },
   {
    "duration": 89,
    "start_time": "2023-04-18T20:29:04.183Z"
   },
   {
    "duration": 88,
    "start_time": "2023-04-18T20:29:04.274Z"
   },
   {
    "duration": 34,
    "start_time": "2023-04-18T20:29:04.366Z"
   },
   {
    "duration": 116,
    "start_time": "2023-04-18T20:29:04.409Z"
   },
   {
    "duration": 209,
    "start_time": "2023-04-18T20:29:04.532Z"
   },
   {
    "duration": 366,
    "start_time": "2023-04-18T20:29:04.752Z"
   },
   {
    "duration": 152,
    "start_time": "2023-04-18T20:29:05.126Z"
   },
   {
    "duration": 49,
    "start_time": "2023-04-18T20:29:05.281Z"
   },
   {
    "duration": 52,
    "start_time": "2023-04-18T20:29:05.332Z"
   },
   {
    "duration": 84,
    "start_time": "2023-04-18T20:29:05.386Z"
   },
   {
    "duration": 12,
    "start_time": "2023-04-18T20:29:05.476Z"
   },
   {
    "duration": 76,
    "start_time": "2023-04-18T20:29:05.491Z"
   },
   {
    "duration": 50,
    "start_time": "2023-04-18T20:29:05.568Z"
   },
   {
    "duration": 56,
    "start_time": "2023-04-18T20:29:09.005Z"
   },
   {
    "duration": 15,
    "start_time": "2023-04-18T20:29:13.626Z"
   },
   {
    "duration": 33,
    "start_time": "2023-04-18T20:29:52.260Z"
   },
   {
    "duration": 17,
    "start_time": "2023-04-18T20:29:52.714Z"
   },
   {
    "duration": 44,
    "start_time": "2023-04-18T20:30:52.106Z"
   },
   {
    "duration": 7,
    "start_time": "2023-04-18T20:31:05.473Z"
   },
   {
    "duration": 56,
    "start_time": "2023-04-18T20:31:27.525Z"
   },
   {
    "duration": 15,
    "start_time": "2023-04-18T20:31:28.318Z"
   },
   {
    "duration": 102,
    "start_time": "2023-04-18T20:50:20.735Z"
   },
   {
    "duration": 47,
    "start_time": "2023-04-18T20:50:23.398Z"
   },
   {
    "duration": 65,
    "start_time": "2023-04-18T20:50:26.073Z"
   },
   {
    "duration": 23,
    "start_time": "2023-04-18T20:50:28.742Z"
   },
   {
    "duration": 76,
    "start_time": "2023-04-18T20:50:33.921Z"
   },
   {
    "duration": 42,
    "start_time": "2023-04-18T20:50:34.606Z"
   },
   {
    "duration": 32,
    "start_time": "2023-04-18T20:53:32.911Z"
   },
   {
    "duration": 105,
    "start_time": "2023-04-18T20:53:41.907Z"
   },
   {
    "duration": 22,
    "start_time": "2023-04-18T20:53:44.827Z"
   },
   {
    "duration": 24,
    "start_time": "2023-04-18T20:54:21.905Z"
   },
   {
    "duration": 8,
    "start_time": "2023-04-18T20:54:46.571Z"
   },
   {
    "duration": 36,
    "start_time": "2023-04-18T20:55:37.883Z"
   },
   {
    "duration": 29,
    "start_time": "2023-04-18T21:01:10.620Z"
   },
   {
    "duration": 17,
    "start_time": "2023-04-18T21:05:58.676Z"
   },
   {
    "duration": 31,
    "start_time": "2023-04-18T21:06:04.578Z"
   },
   {
    "duration": 12,
    "start_time": "2023-04-18T21:06:12.307Z"
   },
   {
    "duration": 316,
    "start_time": "2023-04-18T21:06:59.742Z"
   },
   {
    "duration": 45,
    "start_time": "2023-04-18T21:07:01.482Z"
   },
   {
    "duration": 39,
    "start_time": "2023-04-18T21:07:02.618Z"
   },
   {
    "duration": 11,
    "start_time": "2023-04-18T21:07:28.446Z"
   },
   {
    "duration": 15,
    "start_time": "2023-04-18T21:07:53.494Z"
   },
   {
    "duration": 15,
    "start_time": "2023-04-18T21:08:07.410Z"
   },
   {
    "duration": 236,
    "start_time": "2023-04-18T21:21:54.898Z"
   },
   {
    "duration": 40,
    "start_time": "2023-04-18T21:21:55.361Z"
   },
   {
    "duration": 61,
    "start_time": "2023-04-18T21:22:27.515Z"
   },
   {
    "duration": 27,
    "start_time": "2023-04-18T21:22:50.374Z"
   },
   {
    "duration": 5,
    "start_time": "2023-04-18T21:22:55.458Z"
   },
   {
    "duration": 73,
    "start_time": "2023-04-18T21:27:55.085Z"
   },
   {
    "duration": 50,
    "start_time": "2023-04-18T21:28:10.580Z"
   },
   {
    "duration": 53,
    "start_time": "2023-04-18T21:28:16.809Z"
   },
   {
    "duration": 6,
    "start_time": "2023-04-18T21:34:50.344Z"
   },
   {
    "duration": 245,
    "start_time": "2023-04-18T21:34:50.987Z"
   },
   {
    "duration": 116,
    "start_time": "2023-04-18T21:34:51.235Z"
   },
   {
    "duration": 35,
    "start_time": "2023-04-18T21:34:51.356Z"
   },
   {
    "duration": 58,
    "start_time": "2023-04-18T21:34:51.392Z"
   },
   {
    "duration": 24,
    "start_time": "2023-04-18T21:34:51.456Z"
   },
   {
    "duration": 89,
    "start_time": "2023-04-18T21:34:51.483Z"
   },
   {
    "duration": 54,
    "start_time": "2023-04-18T21:34:51.574Z"
   },
   {
    "duration": 77,
    "start_time": "2023-04-18T21:34:51.630Z"
   },
   {
    "duration": 15,
    "start_time": "2023-04-18T21:34:51.715Z"
   },
   {
    "duration": 57,
    "start_time": "2023-04-18T21:34:51.734Z"
   },
   {
    "duration": 77,
    "start_time": "2023-04-18T21:34:51.798Z"
   },
   {
    "duration": 9,
    "start_time": "2023-04-18T21:34:51.877Z"
   },
   {
    "duration": 88,
    "start_time": "2023-04-18T21:34:51.890Z"
   },
   {
    "duration": 10,
    "start_time": "2023-04-18T21:34:51.982Z"
   },
   {
    "duration": 54,
    "start_time": "2023-04-18T21:34:52.002Z"
   },
   {
    "duration": 16,
    "start_time": "2023-04-18T21:34:52.058Z"
   },
   {
    "duration": 70,
    "start_time": "2023-04-18T21:34:52.076Z"
   },
   {
    "duration": 56,
    "start_time": "2023-04-18T21:34:52.148Z"
   },
   {
    "duration": 71,
    "start_time": "2023-04-18T21:34:52.211Z"
   },
   {
    "duration": 17,
    "start_time": "2023-04-18T21:34:52.284Z"
   },
   {
    "duration": 83,
    "start_time": "2023-04-18T21:34:52.303Z"
   },
   {
    "duration": 251,
    "start_time": "2023-04-18T21:34:52.390Z"
   },
   {
    "duration": 15,
    "start_time": "2023-04-18T21:34:52.655Z"
   },
   {
    "duration": 44,
    "start_time": "2023-04-18T21:34:52.672Z"
   },
   {
    "duration": 112,
    "start_time": "2023-04-18T21:34:52.721Z"
   },
   {
    "duration": 130,
    "start_time": "2023-04-18T21:34:52.836Z"
   },
   {
    "duration": 38,
    "start_time": "2023-04-18T21:34:52.970Z"
   },
   {
    "duration": 73,
    "start_time": "2023-04-18T21:34:53.011Z"
   },
   {
    "duration": 91,
    "start_time": "2023-04-18T21:34:53.086Z"
   },
   {
    "duration": 95,
    "start_time": "2023-04-18T21:34:53.179Z"
   },
   {
    "duration": 5,
    "start_time": "2023-04-18T21:35:24.514Z"
   },
   {
    "duration": 210,
    "start_time": "2023-04-18T21:35:24.522Z"
   },
   {
    "duration": 136,
    "start_time": "2023-04-18T21:35:24.734Z"
   },
   {
    "duration": 28,
    "start_time": "2023-04-18T21:35:24.873Z"
   },
   {
    "duration": 68,
    "start_time": "2023-04-18T21:35:24.903Z"
   },
   {
    "duration": 19,
    "start_time": "2023-04-18T21:35:24.974Z"
   },
   {
    "duration": 80,
    "start_time": "2023-04-18T21:35:24.995Z"
   },
   {
    "duration": 98,
    "start_time": "2023-04-18T21:35:25.077Z"
   },
   {
    "duration": 77,
    "start_time": "2023-04-18T21:35:25.183Z"
   },
   {
    "duration": 13,
    "start_time": "2023-04-18T21:35:25.264Z"
   },
   {
    "duration": 18,
    "start_time": "2023-04-18T21:35:25.283Z"
   },
   {
    "duration": 67,
    "start_time": "2023-04-18T21:35:25.304Z"
   },
   {
    "duration": 7,
    "start_time": "2023-04-18T21:35:25.373Z"
   },
   {
    "duration": 48,
    "start_time": "2023-04-18T21:35:25.381Z"
   },
   {
    "duration": 39,
    "start_time": "2023-04-18T21:35:25.431Z"
   },
   {
    "duration": 52,
    "start_time": "2023-04-18T21:35:25.472Z"
   },
   {
    "duration": 42,
    "start_time": "2023-04-18T21:35:25.526Z"
   },
   {
    "duration": 14,
    "start_time": "2023-04-18T21:35:25.570Z"
   },
   {
    "duration": 107,
    "start_time": "2023-04-18T21:35:25.587Z"
   },
   {
    "duration": 36,
    "start_time": "2023-04-18T21:35:25.703Z"
   },
   {
    "duration": 18,
    "start_time": "2023-04-18T21:35:25.752Z"
   },
   {
    "duration": 24,
    "start_time": "2023-04-18T21:35:25.773Z"
   },
   {
    "duration": 211,
    "start_time": "2023-04-18T21:35:25.799Z"
   },
   {
    "duration": 18,
    "start_time": "2023-04-18T21:35:26.017Z"
   },
   {
    "duration": 27,
    "start_time": "2023-04-18T21:35:26.045Z"
   },
   {
    "duration": 36,
    "start_time": "2023-04-18T21:35:26.074Z"
   },
   {
    "duration": 103,
    "start_time": "2023-04-18T21:35:26.114Z"
   },
   {
    "duration": 57,
    "start_time": "2023-04-18T21:35:26.221Z"
   },
   {
    "duration": 37,
    "start_time": "2023-04-18T21:35:26.283Z"
   },
   {
    "duration": 49,
    "start_time": "2023-04-18T21:35:26.322Z"
   },
   {
    "duration": 77,
    "start_time": "2023-04-18T21:35:26.372Z"
   },
   {
    "duration": 56,
    "start_time": "2023-04-18T21:37:37.882Z"
   },
   {
    "duration": 43,
    "start_time": "2023-04-18T21:38:04.506Z"
   },
   {
    "duration": 104,
    "start_time": "2023-04-18T21:38:22.813Z"
   },
   {
    "duration": 54,
    "start_time": "2023-04-18T21:42:29.869Z"
   },
   {
    "duration": 59,
    "start_time": "2023-04-18T21:42:41.979Z"
   },
   {
    "duration": 23,
    "start_time": "2023-04-18T21:56:23.326Z"
   },
   {
    "duration": 42,
    "start_time": "2023-04-18T21:56:41.300Z"
   },
   {
    "duration": 65,
    "start_time": "2023-04-18T21:58:35.171Z"
   },
   {
    "duration": 38,
    "start_time": "2023-04-18T21:59:06.514Z"
   },
   {
    "duration": 13,
    "start_time": "2023-04-18T21:59:16.321Z"
   },
   {
    "duration": 5,
    "start_time": "2023-04-18T21:59:37.366Z"
   },
   {
    "duration": 131,
    "start_time": "2023-04-18T22:01:44.972Z"
   },
   {
    "duration": 108,
    "start_time": "2023-04-18T22:03:04.853Z"
   },
   {
    "duration": 78,
    "start_time": "2023-04-18T22:03:30.252Z"
   },
   {
    "duration": 95,
    "start_time": "2023-04-18T22:03:54.434Z"
   },
   {
    "duration": 204,
    "start_time": "2023-04-18T22:05:27.487Z"
   },
   {
    "duration": 185,
    "start_time": "2023-04-18T22:05:36.784Z"
   },
   {
    "duration": 11,
    "start_time": "2023-04-18T22:05:54.359Z"
   },
   {
    "duration": 488,
    "start_time": "2023-04-18T22:05:54.383Z"
   },
   {
    "duration": 102,
    "start_time": "2023-04-18T22:05:54.877Z"
   },
   {
    "duration": 54,
    "start_time": "2023-04-18T22:05:54.982Z"
   },
   {
    "duration": 117,
    "start_time": "2023-04-18T22:05:55.040Z"
   },
   {
    "duration": 110,
    "start_time": "2023-04-18T22:05:55.159Z"
   },
   {
    "duration": 158,
    "start_time": "2023-04-18T22:05:55.279Z"
   },
   {
    "duration": 179,
    "start_time": "2023-04-18T22:05:55.439Z"
   },
   {
    "duration": 176,
    "start_time": "2023-04-18T22:05:55.626Z"
   },
   {
    "duration": 82,
    "start_time": "2023-04-18T22:05:55.815Z"
   },
   {
    "duration": 133,
    "start_time": "2023-04-18T22:05:55.899Z"
   },
   {
    "duration": 168,
    "start_time": "2023-04-18T22:05:56.035Z"
   },
   {
    "duration": 122,
    "start_time": "2023-04-18T22:05:56.209Z"
   },
   {
    "duration": 197,
    "start_time": "2023-04-18T22:05:56.336Z"
   },
   {
    "duration": 101,
    "start_time": "2023-04-18T22:05:56.540Z"
   },
   {
    "duration": 96,
    "start_time": "2023-04-18T22:05:56.646Z"
   },
   {
    "duration": 149,
    "start_time": "2023-04-18T22:05:56.745Z"
   },
   {
    "duration": 123,
    "start_time": "2023-04-18T22:05:56.897Z"
   },
   {
    "duration": 169,
    "start_time": "2023-04-18T22:05:57.023Z"
   },
   {
    "duration": 87,
    "start_time": "2023-04-18T22:05:57.205Z"
   },
   {
    "duration": 121,
    "start_time": "2023-04-18T22:05:57.299Z"
   },
   {
    "duration": 96,
    "start_time": "2023-04-18T22:05:57.431Z"
   },
   {
    "duration": 316,
    "start_time": "2023-04-18T22:05:57.542Z"
   },
   {
    "duration": 35,
    "start_time": "2023-04-18T22:05:57.869Z"
   },
   {
    "duration": 107,
    "start_time": "2023-04-18T22:05:57.911Z"
   },
   {
    "duration": 147,
    "start_time": "2023-04-18T22:05:58.030Z"
   },
   {
    "duration": 154,
    "start_time": "2023-04-18T22:05:58.184Z"
   },
   {
    "duration": 217,
    "start_time": "2023-04-18T22:05:58.345Z"
   },
   {
    "duration": 7,
    "start_time": "2023-04-18T22:13:48.894Z"
   },
   {
    "duration": 372,
    "start_time": "2023-04-18T22:13:48.903Z"
   },
   {
    "duration": 150,
    "start_time": "2023-04-18T22:13:49.282Z"
   },
   {
    "duration": 53,
    "start_time": "2023-04-18T22:13:49.451Z"
   },
   {
    "duration": 115,
    "start_time": "2023-04-18T22:13:49.506Z"
   },
   {
    "duration": 137,
    "start_time": "2023-04-18T22:13:49.623Z"
   },
   {
    "duration": 122,
    "start_time": "2023-04-18T22:13:49.763Z"
   },
   {
    "duration": 209,
    "start_time": "2023-04-18T22:13:49.888Z"
   },
   {
    "duration": 137,
    "start_time": "2023-04-18T22:13:50.127Z"
   },
   {
    "duration": 85,
    "start_time": "2023-04-18T22:13:50.267Z"
   },
   {
    "duration": 137,
    "start_time": "2023-04-18T22:13:50.356Z"
   },
   {
    "duration": 130,
    "start_time": "2023-04-18T22:13:50.511Z"
   },
   {
    "duration": 121,
    "start_time": "2023-04-18T22:13:50.657Z"
   },
   {
    "duration": 177,
    "start_time": "2023-04-18T22:13:50.784Z"
   },
   {
    "duration": 75,
    "start_time": "2023-04-18T22:13:50.978Z"
   },
   {
    "duration": 103,
    "start_time": "2023-04-18T22:13:51.066Z"
   },
   {
    "duration": 111,
    "start_time": "2023-04-18T22:13:51.181Z"
   },
   {
    "duration": 166,
    "start_time": "2023-04-18T22:13:51.305Z"
   },
   {
    "duration": 179,
    "start_time": "2023-04-18T22:13:51.478Z"
   },
   {
    "duration": 172,
    "start_time": "2023-04-18T22:13:51.669Z"
   },
   {
    "duration": 124,
    "start_time": "2023-04-18T22:13:51.858Z"
   },
   {
    "duration": 127,
    "start_time": "2023-04-18T22:13:51.990Z"
   },
   {
    "duration": 500,
    "start_time": "2023-04-18T22:13:52.141Z"
   },
   {
    "duration": 54,
    "start_time": "2023-04-18T22:13:52.663Z"
   },
   {
    "duration": 91,
    "start_time": "2023-04-18T22:13:52.742Z"
   },
   {
    "duration": 152,
    "start_time": "2023-04-18T22:13:52.853Z"
   },
   {
    "duration": 130,
    "start_time": "2023-04-18T22:13:53.022Z"
   },
   {
    "duration": 251,
    "start_time": "2023-04-18T22:13:53.162Z"
   },
   {
    "duration": 121,
    "start_time": "2023-04-18T22:13:53.416Z"
   },
   {
    "duration": 112,
    "start_time": "2023-04-18T22:16:10.457Z"
   },
   {
    "duration": 56,
    "start_time": "2023-04-18T22:16:11.623Z"
   },
   {
    "duration": 15,
    "start_time": "2023-04-18T22:27:44.674Z"
   },
   {
    "duration": 14,
    "start_time": "2023-04-18T22:27:51.695Z"
   },
   {
    "duration": 331,
    "start_time": "2023-04-18T22:27:52.893Z"
   },
   {
    "duration": 40,
    "start_time": "2023-04-18T22:27:53.884Z"
   },
   {
    "duration": 14,
    "start_time": "2023-04-18T22:31:25.155Z"
   },
   {
    "duration": 384,
    "start_time": "2023-04-18T22:31:25.459Z"
   },
   {
    "duration": 119,
    "start_time": "2023-04-18T22:31:25.846Z"
   },
   {
    "duration": 41,
    "start_time": "2023-04-18T22:31:25.968Z"
   },
   {
    "duration": 146,
    "start_time": "2023-04-18T22:31:26.011Z"
   },
   {
    "duration": 95,
    "start_time": "2023-04-18T22:31:26.169Z"
   },
   {
    "duration": 150,
    "start_time": "2023-04-18T22:31:26.267Z"
   },
   {
    "duration": 242,
    "start_time": "2023-04-18T22:31:26.419Z"
   },
   {
    "duration": 163,
    "start_time": "2023-04-18T22:31:26.669Z"
   },
   {
    "duration": 132,
    "start_time": "2023-04-18T22:31:26.843Z"
   },
   {
    "duration": 134,
    "start_time": "2023-04-18T22:31:26.991Z"
   },
   {
    "duration": 99,
    "start_time": "2023-04-18T22:31:27.143Z"
   },
   {
    "duration": 120,
    "start_time": "2023-04-18T22:31:27.252Z"
   },
   {
    "duration": 178,
    "start_time": "2023-04-18T22:31:27.387Z"
   },
   {
    "duration": 69,
    "start_time": "2023-04-18T22:31:27.583Z"
   },
   {
    "duration": 107,
    "start_time": "2023-04-18T22:31:27.666Z"
   },
   {
    "duration": 115,
    "start_time": "2023-04-18T22:31:27.789Z"
   },
   {
    "duration": 159,
    "start_time": "2023-04-18T22:31:27.918Z"
   },
   {
    "duration": 149,
    "start_time": "2023-04-18T22:31:28.080Z"
   },
   {
    "duration": 168,
    "start_time": "2023-04-18T22:31:28.234Z"
   },
   {
    "duration": 86,
    "start_time": "2023-04-18T22:31:28.419Z"
   },
   {
    "duration": 109,
    "start_time": "2023-04-18T22:31:28.522Z"
   },
   {
    "duration": 397,
    "start_time": "2023-04-18T22:31:28.635Z"
   },
   {
    "duration": 33,
    "start_time": "2023-04-18T22:31:29.036Z"
   },
   {
    "duration": 201,
    "start_time": "2023-04-18T22:31:29.072Z"
   },
   {
    "duration": 55,
    "start_time": "2023-04-18T22:31:29.276Z"
   },
   {
    "duration": 10,
    "start_time": "2023-04-19T06:22:11.912Z"
   },
   {
    "duration": 72,
    "start_time": "2023-04-19T06:24:35.110Z"
   },
   {
    "duration": 35,
    "start_time": "2023-04-19T06:24:37.433Z"
   },
   {
    "duration": 31,
    "start_time": "2023-04-19T06:24:53.977Z"
   },
   {
    "duration": 48,
    "start_time": "2023-04-19T06:26:03.465Z"
   },
   {
    "duration": 42,
    "start_time": "2023-04-19T06:29:34.126Z"
   },
   {
    "duration": 60,
    "start_time": "2023-04-19T06:29:39.387Z"
   },
   {
    "duration": 54,
    "start_time": "2023-04-19T06:30:06.223Z"
   },
   {
    "duration": 19,
    "start_time": "2023-04-19T06:35:16.026Z"
   },
   {
    "duration": 19,
    "start_time": "2023-04-19T06:35:57.282Z"
   },
   {
    "duration": 7,
    "start_time": "2023-04-19T14:23:13.987Z"
   },
   {
    "duration": 21,
    "start_time": "2023-04-19T14:23:27.274Z"
   },
   {
    "duration": 4,
    "start_time": "2023-04-19T14:23:41.584Z"
   },
   {
    "duration": 119,
    "start_time": "2023-04-19T14:23:41.590Z"
   },
   {
    "duration": 50,
    "start_time": "2023-04-19T14:23:41.710Z"
   },
   {
    "duration": 14,
    "start_time": "2023-04-19T14:23:41.762Z"
   },
   {
    "duration": 8,
    "start_time": "2023-04-19T14:23:41.779Z"
   },
   {
    "duration": 11,
    "start_time": "2023-04-19T14:23:41.789Z"
   },
   {
    "duration": 8,
    "start_time": "2023-04-19T14:23:41.801Z"
   },
   {
    "duration": 27,
    "start_time": "2023-04-19T14:23:41.811Z"
   },
   {
    "duration": 27,
    "start_time": "2023-04-19T14:23:41.840Z"
   },
   {
    "duration": 25,
    "start_time": "2023-04-19T14:23:44.588Z"
   },
   {
    "duration": 3,
    "start_time": "2023-04-19T14:24:47.833Z"
   },
   {
    "duration": 117,
    "start_time": "2023-04-19T14:24:49.986Z"
   },
   {
    "duration": 69,
    "start_time": "2023-04-19T14:24:51.854Z"
   },
   {
    "duration": 14,
    "start_time": "2023-04-19T14:24:53.594Z"
   },
   {
    "duration": 8,
    "start_time": "2023-04-19T14:24:58.410Z"
   },
   {
    "duration": 4,
    "start_time": "2023-04-19T14:25:01.109Z"
   },
   {
    "duration": 6,
    "start_time": "2023-04-19T14:25:01.942Z"
   },
   {
    "duration": 25,
    "start_time": "2023-04-19T14:25:03.654Z"
   },
   {
    "duration": 29,
    "start_time": "2023-04-19T14:25:06.314Z"
   },
   {
    "duration": 22,
    "start_time": "2023-04-19T14:25:09.354Z"
   },
   {
    "duration": 11,
    "start_time": "2023-04-19T14:26:14.011Z"
   },
   {
    "duration": 15,
    "start_time": "2023-04-19T14:26:42.832Z"
   },
   {
    "duration": 13,
    "start_time": "2023-04-19T14:27:11.562Z"
   },
   {
    "duration": 12,
    "start_time": "2023-04-19T14:27:15.338Z"
   },
   {
    "duration": 11,
    "start_time": "2023-04-19T14:27:24.232Z"
   },
   {
    "duration": 35,
    "start_time": "2023-04-19T14:29:49.743Z"
   },
   {
    "duration": 129,
    "start_time": "2023-04-19T15:16:24.583Z"
   },
   {
    "duration": 475,
    "start_time": "2023-04-19T15:16:28.925Z"
   },
   {
    "duration": 48,
    "start_time": "2023-04-19T15:16:57.028Z"
   },
   {
    "duration": 53,
    "start_time": "2023-04-19T15:17:09.115Z"
   },
   {
    "duration": 98,
    "start_time": "2023-04-19T15:17:20.511Z"
   },
   {
    "duration": 53,
    "start_time": "2023-04-19T15:17:56.863Z"
   },
   {
    "duration": 105,
    "start_time": "2023-04-19T15:17:59.308Z"
   },
   {
    "duration": 12,
    "start_time": "2023-04-19T15:18:07.783Z"
   },
   {
    "duration": 11,
    "start_time": "2023-04-19T15:18:16.139Z"
   },
   {
    "duration": 11,
    "start_time": "2023-04-19T15:18:28.858Z"
   },
   {
    "duration": 6,
    "start_time": "2023-04-19T16:30:28.944Z"
   },
   {
    "duration": 7,
    "start_time": "2023-04-19T16:30:37.787Z"
   },
   {
    "duration": 97,
    "start_time": "2023-04-19T16:30:38.141Z"
   },
   {
    "duration": 11,
    "start_time": "2023-04-19T16:30:38.537Z"
   },
   {
    "duration": 13,
    "start_time": "2023-04-20T14:34:20.827Z"
   },
   {
    "duration": 30,
    "start_time": "2023-04-20T14:34:21.282Z"
   },
   {
    "duration": 32,
    "start_time": "2023-04-20T14:35:07.278Z"
   },
   {
    "duration": 31,
    "start_time": "2023-04-20T14:35:56.378Z"
   },
   {
    "duration": 25,
    "start_time": "2023-04-20T14:44:29.574Z"
   },
   {
    "duration": 36,
    "start_time": "2023-04-20T14:44:36.373Z"
   },
   {
    "duration": 32,
    "start_time": "2023-04-20T14:44:49.634Z"
   },
   {
    "duration": 3,
    "start_time": "2023-04-20T14:44:56.777Z"
   },
   {
    "duration": 166,
    "start_time": "2023-04-20T14:44:56.782Z"
   },
   {
    "duration": 50,
    "start_time": "2023-04-20T14:44:56.950Z"
   },
   {
    "duration": 14,
    "start_time": "2023-04-20T14:44:57.002Z"
   },
   {
    "duration": 35,
    "start_time": "2023-04-20T14:44:57.018Z"
   },
   {
    "duration": 30,
    "start_time": "2023-04-20T14:44:57.055Z"
   },
   {
    "duration": 13,
    "start_time": "2023-04-20T14:44:57.087Z"
   },
   {
    "duration": 47,
    "start_time": "2023-04-20T14:44:57.101Z"
   },
   {
    "duration": 9,
    "start_time": "2023-04-20T14:44:57.150Z"
   },
   {
    "duration": 17,
    "start_time": "2023-04-20T14:44:57.160Z"
   },
   {
    "duration": 110,
    "start_time": "2023-04-20T14:44:57.187Z"
   },
   {
    "duration": 12,
    "start_time": "2023-04-20T14:44:57.299Z"
   },
   {
    "duration": 27,
    "start_time": "2023-04-20T14:44:57.312Z"
   },
   {
    "duration": 31,
    "start_time": "2023-04-20T14:45:09.328Z"
   },
   {
    "duration": 7,
    "start_time": "2023-04-20T14:45:36.509Z"
   },
   {
    "duration": 9,
    "start_time": "2023-04-20T14:45:46.438Z"
   },
   {
    "duration": 11,
    "start_time": "2023-04-20T14:45:46.843Z"
   },
   {
    "duration": 4,
    "start_time": "2023-04-20T14:45:47.745Z"
   },
   {
    "duration": 5,
    "start_time": "2023-04-20T14:45:48.636Z"
   },
   {
    "duration": 17,
    "start_time": "2023-04-20T14:45:51.608Z"
   },
   {
    "duration": 6,
    "start_time": "2023-04-20T14:45:55.291Z"
   },
   {
    "duration": 3,
    "start_time": "2023-04-20T14:45:56.283Z"
   },
   {
    "duration": 5,
    "start_time": "2023-04-20T14:45:56.750Z"
   },
   {
    "duration": 5,
    "start_time": "2023-04-20T14:45:57.838Z"
   },
   {
    "duration": 22,
    "start_time": "2023-04-20T14:45:59.073Z"
   },
   {
    "duration": 21,
    "start_time": "2023-04-20T14:46:00.511Z"
   },
   {
    "duration": 47,
    "start_time": "2023-04-20T14:46:04.575Z"
   },
   {
    "duration": 13,
    "start_time": "2023-04-20T14:48:30.315Z"
   },
   {
    "duration": 3,
    "start_time": "2023-04-20T14:48:49.875Z"
   },
   {
    "duration": 122,
    "start_time": "2023-04-20T14:48:49.880Z"
   },
   {
    "duration": 51,
    "start_time": "2023-04-20T14:48:50.004Z"
   },
   {
    "duration": 14,
    "start_time": "2023-04-20T14:48:50.057Z"
   },
   {
    "duration": 13,
    "start_time": "2023-04-20T14:48:50.074Z"
   },
   {
    "duration": 17,
    "start_time": "2023-04-20T14:48:50.089Z"
   },
   {
    "duration": 9,
    "start_time": "2023-04-20T14:48:50.108Z"
   },
   {
    "duration": 30,
    "start_time": "2023-04-20T14:48:50.119Z"
   },
   {
    "duration": 5,
    "start_time": "2023-04-20T14:48:50.151Z"
   },
   {
    "duration": 35,
    "start_time": "2023-04-20T14:48:50.159Z"
   },
   {
    "duration": 120,
    "start_time": "2023-04-20T14:48:50.196Z"
   },
   {
    "duration": 12,
    "start_time": "2023-04-20T14:48:50.318Z"
   },
   {
    "duration": 38,
    "start_time": "2023-04-20T14:48:50.332Z"
   },
   {
    "duration": 8,
    "start_time": "2023-04-20T14:48:50.372Z"
   },
   {
    "duration": 15,
    "start_time": "2023-04-20T14:48:50.381Z"
   },
   {
    "duration": 14,
    "start_time": "2023-04-20T14:48:50.397Z"
   },
   {
    "duration": 11,
    "start_time": "2023-04-20T14:48:50.413Z"
   },
   {
    "duration": 35,
    "start_time": "2023-04-20T14:48:50.426Z"
   },
   {
    "duration": 5,
    "start_time": "2023-04-20T14:48:50.463Z"
   },
   {
    "duration": 15,
    "start_time": "2023-04-20T14:48:50.470Z"
   },
   {
    "duration": 17,
    "start_time": "2023-04-20T14:48:50.487Z"
   },
   {
    "duration": 10,
    "start_time": "2023-04-20T14:48:50.506Z"
   },
   {
    "duration": 30,
    "start_time": "2023-04-20T14:48:50.518Z"
   },
   {
    "duration": 22,
    "start_time": "2023-04-20T14:48:50.550Z"
   },
   {
    "duration": 73,
    "start_time": "2023-04-20T14:48:50.574Z"
   },
   {
    "duration": 9,
    "start_time": "2023-04-20T14:48:50.649Z"
   },
   {
    "duration": 4,
    "start_time": "2023-04-20T14:50:28.749Z"
   },
   {
    "duration": 9,
    "start_time": "2023-04-20T14:52:03.754Z"
   },
   {
    "duration": 11,
    "start_time": "2023-04-20T14:52:15.431Z"
   },
   {
    "duration": 11,
    "start_time": "2023-04-20T14:53:39.326Z"
   },
   {
    "duration": 11,
    "start_time": "2023-04-20T14:53:52.675Z"
   },
   {
    "duration": 10,
    "start_time": "2023-04-20T14:56:03.508Z"
   },
   {
    "duration": 12,
    "start_time": "2023-04-20T14:56:30.165Z"
   },
   {
    "duration": 10,
    "start_time": "2023-04-20T14:56:56.770Z"
   },
   {
    "duration": 7,
    "start_time": "2023-04-20T14:57:12.111Z"
   },
   {
    "duration": 16,
    "start_time": "2023-04-20T14:57:34.080Z"
   },
   {
    "duration": 11,
    "start_time": "2023-04-20T14:57:49.472Z"
   },
   {
    "duration": 3,
    "start_time": "2023-04-20T14:57:54.678Z"
   },
   {
    "duration": 152,
    "start_time": "2023-04-20T14:57:54.684Z"
   },
   {
    "duration": 62,
    "start_time": "2023-04-20T14:57:54.838Z"
   },
   {
    "duration": 15,
    "start_time": "2023-04-20T14:57:54.904Z"
   },
   {
    "duration": 9,
    "start_time": "2023-04-20T14:57:54.921Z"
   },
   {
    "duration": 10,
    "start_time": "2023-04-20T14:57:54.932Z"
   },
   {
    "duration": 16,
    "start_time": "2023-04-20T14:57:54.944Z"
   },
   {
    "duration": 46,
    "start_time": "2023-04-20T14:57:54.962Z"
   },
   {
    "duration": 6,
    "start_time": "2023-04-20T14:57:55.010Z"
   },
   {
    "duration": 7,
    "start_time": "2023-04-20T14:57:55.019Z"
   },
   {
    "duration": 113,
    "start_time": "2023-04-20T14:57:55.028Z"
   },
   {
    "duration": 11,
    "start_time": "2023-04-20T14:57:55.143Z"
   },
   {
    "duration": 13,
    "start_time": "2023-04-20T14:57:55.156Z"
   },
   {
    "duration": 32,
    "start_time": "2023-04-20T14:57:55.170Z"
   },
   {
    "duration": 15,
    "start_time": "2023-04-20T14:57:55.204Z"
   },
   {
    "duration": 23,
    "start_time": "2023-04-20T14:57:55.221Z"
   },
   {
    "duration": 10,
    "start_time": "2023-04-20T14:57:55.246Z"
   },
   {
    "duration": 23,
    "start_time": "2023-04-20T14:57:55.257Z"
   },
   {
    "duration": 17,
    "start_time": "2023-04-20T14:57:55.282Z"
   },
   {
    "duration": 29,
    "start_time": "2023-04-20T14:57:55.301Z"
   },
   {
    "duration": 27,
    "start_time": "2023-04-20T14:57:55.332Z"
   },
   {
    "duration": 18,
    "start_time": "2023-04-20T14:57:55.362Z"
   },
   {
    "duration": 25,
    "start_time": "2023-04-20T14:57:55.382Z"
   },
   {
    "duration": 28,
    "start_time": "2023-04-20T14:57:55.409Z"
   },
   {
    "duration": 43,
    "start_time": "2023-04-20T14:57:55.439Z"
   },
   {
    "duration": 8,
    "start_time": "2023-04-20T14:57:55.497Z"
   },
   {
    "duration": 7,
    "start_time": "2023-04-20T14:57:58.236Z"
   },
   {
    "duration": 7,
    "start_time": "2023-04-20T14:58:13.770Z"
   },
   {
    "duration": 4,
    "start_time": "2023-04-20T14:58:24.750Z"
   },
   {
    "duration": 6,
    "start_time": "2023-04-20T14:59:48.265Z"
   },
   {
    "duration": 6,
    "start_time": "2023-04-20T14:59:59.604Z"
   },
   {
    "duration": 3,
    "start_time": "2023-04-20T15:02:50.264Z"
   },
   {
    "duration": 4,
    "start_time": "2023-04-20T15:03:25.140Z"
   },
   {
    "duration": 4,
    "start_time": "2023-04-20T15:03:31.170Z"
   },
   {
    "duration": 41,
    "start_time": "2023-04-20T15:05:19.831Z"
   },
   {
    "duration": 11,
    "start_time": "2023-04-20T15:05:43.831Z"
   },
   {
    "duration": 1384,
    "start_time": "2023-04-20T15:06:54.542Z"
   },
   {
    "duration": 6,
    "start_time": "2023-04-20T15:11:24.705Z"
   },
   {
    "duration": 5,
    "start_time": "2023-04-20T15:11:34.213Z"
   },
   {
    "duration": 8,
    "start_time": "2023-04-20T15:14:49.936Z"
   },
   {
    "duration": 5,
    "start_time": "2023-04-20T15:14:52.950Z"
   },
   {
    "duration": 16,
    "start_time": "2023-04-20T15:14:53.348Z"
   },
   {
    "duration": 6,
    "start_time": "2023-04-20T15:15:21.984Z"
   },
   {
    "duration": 20,
    "start_time": "2023-04-20T15:15:22.584Z"
   },
   {
    "duration": 90,
    "start_time": "2023-04-20T15:18:14.068Z"
   },
   {
    "duration": 5,
    "start_time": "2023-04-20T15:18:16.301Z"
   },
   {
    "duration": 6,
    "start_time": "2023-04-20T15:18:22.647Z"
   },
   {
    "duration": 33,
    "start_time": "2023-04-20T15:18:46.586Z"
   },
   {
    "duration": 20,
    "start_time": "2023-04-20T15:21:30.066Z"
   },
   {
    "duration": 388,
    "start_time": "2023-04-20T15:28:11.551Z"
   },
   {
    "duration": 788,
    "start_time": "2023-04-20T15:29:10.461Z"
   },
   {
    "duration": 424,
    "start_time": "2023-04-20T15:31:17.385Z"
   },
   {
    "duration": 32,
    "start_time": "2023-04-20T15:31:22.147Z"
   },
   {
    "duration": 53,
    "start_time": "2023-04-20T15:32:04.014Z"
   },
   {
    "duration": 23,
    "start_time": "2023-04-20T15:32:16.672Z"
   },
   {
    "duration": 13,
    "start_time": "2023-04-20T15:32:33.068Z"
   },
   {
    "duration": 13,
    "start_time": "2023-04-20T15:32:49.372Z"
   },
   {
    "duration": 16,
    "start_time": "2023-04-20T15:32:57.459Z"
   },
   {
    "duration": 450,
    "start_time": "2023-04-20T15:33:38.139Z"
   },
   {
    "duration": 14,
    "start_time": "2023-04-20T15:33:54.569Z"
   },
   {
    "duration": 24,
    "start_time": "2023-04-20T15:33:59.282Z"
   },
   {
    "duration": 189,
    "start_time": "2023-04-20T15:34:16.185Z"
   },
   {
    "duration": 3098,
    "start_time": "2023-04-20T15:35:15.131Z"
   },
   {
    "duration": 84,
    "start_time": "2023-04-20T15:35:31.669Z"
   },
   {
    "duration": 38,
    "start_time": "2023-04-20T15:35:37.480Z"
   },
   {
    "duration": 181,
    "start_time": "2023-04-20T15:36:10.930Z"
   },
   {
    "duration": 178,
    "start_time": "2023-04-20T15:36:34.879Z"
   },
   {
    "duration": 32,
    "start_time": "2023-04-20T15:36:48.593Z"
   },
   {
    "duration": 12,
    "start_time": "2023-04-20T15:37:35.170Z"
   },
   {
    "duration": 17,
    "start_time": "2023-04-20T15:37:38.306Z"
   },
   {
    "duration": 15,
    "start_time": "2023-04-20T15:37:44.146Z"
   },
   {
    "duration": 16,
    "start_time": "2023-04-20T15:38:28.241Z"
   },
   {
    "duration": 24,
    "start_time": "2023-04-20T15:39:00.545Z"
   },
   {
    "duration": 14,
    "start_time": "2023-04-20T15:39:03.506Z"
   },
   {
    "duration": 17,
    "start_time": "2023-04-20T15:39:14.609Z"
   },
   {
    "duration": 22,
    "start_time": "2023-04-20T15:39:38.808Z"
   },
   {
    "duration": 13,
    "start_time": "2023-04-20T15:39:42.178Z"
   },
   {
    "duration": 16,
    "start_time": "2023-04-20T15:46:34.376Z"
   },
   {
    "duration": 21,
    "start_time": "2023-04-20T15:47:15.482Z"
   },
   {
    "duration": 147,
    "start_time": "2023-04-20T15:47:39.728Z"
   },
   {
    "duration": 180,
    "start_time": "2023-04-20T16:09:20.285Z"
   },
   {
    "duration": 158,
    "start_time": "2023-04-20T16:11:37.496Z"
   },
   {
    "duration": 12,
    "start_time": "2023-04-20T16:12:42.179Z"
   },
   {
    "duration": 157,
    "start_time": "2023-04-20T16:12:59.097Z"
   },
   {
    "duration": 160,
    "start_time": "2023-04-20T16:13:43.826Z"
   },
   {
    "duration": 236,
    "start_time": "2023-04-20T16:14:46.705Z"
   },
   {
    "duration": 160,
    "start_time": "2023-04-20T16:15:08.205Z"
   },
   {
    "duration": 160,
    "start_time": "2023-04-20T16:15:19.052Z"
   },
   {
    "duration": 14,
    "start_time": "2023-04-20T16:15:27.130Z"
   },
   {
    "duration": 167,
    "start_time": "2023-04-20T16:16:01.985Z"
   },
   {
    "duration": 185,
    "start_time": "2023-04-20T16:16:10.329Z"
   },
   {
    "duration": 155,
    "start_time": "2023-04-20T16:17:03.202Z"
   },
   {
    "duration": 152,
    "start_time": "2023-04-20T16:17:39.247Z"
   },
   {
    "duration": 103,
    "start_time": "2023-04-20T16:20:39.589Z"
   },
   {
    "duration": 169,
    "start_time": "2023-04-20T16:21:13.658Z"
   },
   {
    "duration": 178,
    "start_time": "2023-04-20T16:21:32.132Z"
   },
   {
    "duration": 197,
    "start_time": "2023-04-20T16:21:44.455Z"
   },
   {
    "duration": 169,
    "start_time": "2023-04-20T16:24:30.035Z"
   },
   {
    "duration": 288,
    "start_time": "2023-04-20T16:25:35.640Z"
   },
   {
    "duration": 58,
    "start_time": "2023-04-20T16:26:04.886Z"
   },
   {
    "duration": 17,
    "start_time": "2023-04-20T16:26:09.924Z"
   },
   {
    "duration": 18,
    "start_time": "2023-04-20T16:26:25.348Z"
   },
   {
    "duration": 17,
    "start_time": "2023-04-20T16:26:39.359Z"
   },
   {
    "duration": 16,
    "start_time": "2023-04-20T16:27:20.997Z"
   },
   {
    "duration": 21,
    "start_time": "2023-04-20T16:27:56.449Z"
   },
   {
    "duration": 15,
    "start_time": "2023-04-20T16:28:10.910Z"
   },
   {
    "duration": 15,
    "start_time": "2023-04-20T16:28:18.956Z"
   },
   {
    "duration": 14,
    "start_time": "2023-04-20T16:28:34.085Z"
   },
   {
    "duration": 15,
    "start_time": "2023-04-20T16:28:41.785Z"
   },
   {
    "duration": 17,
    "start_time": "2023-04-20T16:28:58.388Z"
   },
   {
    "duration": 15,
    "start_time": "2023-04-20T16:29:02.816Z"
   },
   {
    "duration": 151,
    "start_time": "2023-04-20T16:29:15.997Z"
   },
   {
    "duration": 25,
    "start_time": "2023-04-20T16:30:05.605Z"
   },
   {
    "duration": 176,
    "start_time": "2023-04-20T16:30:11.406Z"
   },
   {
    "duration": 82,
    "start_time": "2023-04-20T16:33:10.450Z"
   },
   {
    "duration": 156,
    "start_time": "2023-04-20T16:33:13.843Z"
   },
   {
    "duration": 26,
    "start_time": "2023-04-20T16:34:21.185Z"
   },
   {
    "duration": 28,
    "start_time": "2023-04-20T16:34:27.485Z"
   },
   {
    "duration": 26,
    "start_time": "2023-04-20T16:35:07.706Z"
   },
   {
    "duration": 30,
    "start_time": "2023-04-20T16:35:49.719Z"
   },
   {
    "duration": 30,
    "start_time": "2023-04-20T16:36:11.853Z"
   },
   {
    "duration": 3,
    "start_time": "2023-04-20T20:03:01.322Z"
   },
   {
    "duration": 86,
    "start_time": "2023-04-20T20:03:04.984Z"
   },
   {
    "duration": 8,
    "start_time": "2023-04-20T20:14:01.710Z"
   },
   {
    "duration": 14,
    "start_time": "2023-04-20T20:14:57.229Z"
   },
   {
    "duration": 3,
    "start_time": "2023-04-20T20:15:28.374Z"
   },
   {
    "duration": 135,
    "start_time": "2023-04-20T20:15:28.384Z"
   },
   {
    "duration": 49,
    "start_time": "2023-04-20T20:15:28.521Z"
   },
   {
    "duration": 14,
    "start_time": "2023-04-20T20:15:28.572Z"
   },
   {
    "duration": 17,
    "start_time": "2023-04-20T20:15:28.587Z"
   },
   {
    "duration": 29,
    "start_time": "2023-04-20T20:15:28.606Z"
   },
   {
    "duration": 28,
    "start_time": "2023-04-20T20:15:28.638Z"
   },
   {
    "duration": 37,
    "start_time": "2023-04-20T20:15:28.668Z"
   },
   {
    "duration": 8,
    "start_time": "2023-04-20T20:15:28.707Z"
   },
   {
    "duration": 24,
    "start_time": "2023-04-20T20:15:28.718Z"
   },
   {
    "duration": 123,
    "start_time": "2023-04-20T20:15:28.744Z"
   },
   {
    "duration": 11,
    "start_time": "2023-04-20T20:15:28.869Z"
   },
   {
    "duration": 6,
    "start_time": "2023-04-20T20:15:28.888Z"
   },
   {
    "duration": 149,
    "start_time": "2023-04-20T20:15:28.896Z"
   },
   {
    "duration": 135,
    "start_time": "2023-04-20T20:15:30.741Z"
   },
   {
    "duration": 11,
    "start_time": "2023-04-20T20:15:32.032Z"
   },
   {
    "duration": 26,
    "start_time": "2023-04-20T20:16:16.302Z"
   },
   {
    "duration": 5,
    "start_time": "2023-04-20T21:00:22.538Z"
   },
   {
    "duration": 159,
    "start_time": "2023-04-20T21:00:22.890Z"
   },
   {
    "duration": 7,
    "start_time": "2023-04-20T21:03:24.913Z"
   },
   {
    "duration": 7,
    "start_time": "2023-04-20T21:03:33.013Z"
   },
   {
    "duration": 3,
    "start_time": "2023-04-20T21:05:02.659Z"
   },
   {
    "duration": 202,
    "start_time": "2023-04-20T21:05:02.670Z"
   },
   {
    "duration": 57,
    "start_time": "2023-04-20T21:05:02.874Z"
   },
   {
    "duration": 61,
    "start_time": "2023-04-20T21:05:02.933Z"
   },
   {
    "duration": 33,
    "start_time": "2023-04-20T21:05:02.996Z"
   },
   {
    "duration": 20,
    "start_time": "2023-04-20T21:05:03.031Z"
   },
   {
    "duration": 25,
    "start_time": "2023-04-20T21:05:03.054Z"
   },
   {
    "duration": 59,
    "start_time": "2023-04-20T21:05:03.081Z"
   },
   {
    "duration": 3,
    "start_time": "2023-04-20T21:05:05.149Z"
   },
   {
    "duration": 128,
    "start_time": "2023-04-20T21:05:07.627Z"
   },
   {
    "duration": 8,
    "start_time": "2023-04-20T21:05:11.247Z"
   },
   {
    "duration": 14,
    "start_time": "2023-04-20T21:05:18.117Z"
   },
   {
    "duration": 6,
    "start_time": "2023-04-20T21:05:26.975Z"
   },
   {
    "duration": 8,
    "start_time": "2023-04-20T21:06:14.087Z"
   },
   {
    "duration": 10,
    "start_time": "2023-04-20T21:06:36.952Z"
   },
   {
    "duration": 27,
    "start_time": "2023-04-20T21:07:17.371Z"
   },
   {
    "duration": 17,
    "start_time": "2023-04-20T21:19:51.704Z"
   },
   {
    "duration": 10,
    "start_time": "2023-04-20T21:22:53.209Z"
   },
   {
    "duration": 529,
    "start_time": "2023-04-20T21:24:51.721Z"
   },
   {
    "duration": 16,
    "start_time": "2023-04-20T21:26:39.941Z"
   },
   {
    "duration": 14,
    "start_time": "2023-04-20T21:27:20.519Z"
   },
   {
    "duration": 16,
    "start_time": "2023-04-20T21:27:24.262Z"
   },
   {
    "duration": 40,
    "start_time": "2023-04-20T21:31:04.542Z"
   },
   {
    "duration": 19,
    "start_time": "2023-04-20T21:31:13.659Z"
   },
   {
    "duration": 16,
    "start_time": "2023-04-20T21:31:24.910Z"
   },
   {
    "duration": 15,
    "start_time": "2023-04-20T21:31:48.433Z"
   },
   {
    "duration": 20,
    "start_time": "2023-04-20T21:32:03.546Z"
   },
   {
    "duration": 17,
    "start_time": "2023-04-20T21:32:18.326Z"
   },
   {
    "duration": 11,
    "start_time": "2023-04-20T21:33:55.447Z"
   },
   {
    "duration": 11,
    "start_time": "2023-04-20T21:34:04.704Z"
   },
   {
    "duration": 23,
    "start_time": "2023-04-20T21:35:21.708Z"
   },
   {
    "duration": 29,
    "start_time": "2023-04-20T21:35:39.624Z"
   },
   {
    "duration": 24,
    "start_time": "2023-04-20T21:35:48.282Z"
   },
   {
    "duration": 17,
    "start_time": "2023-04-20T21:36:44.690Z"
   },
   {
    "duration": 19,
    "start_time": "2023-04-20T21:37:27.992Z"
   },
   {
    "duration": 17,
    "start_time": "2023-04-20T21:39:38.684Z"
   },
   {
    "duration": 17,
    "start_time": "2023-04-20T21:39:55.796Z"
   },
   {
    "duration": 16,
    "start_time": "2023-04-20T21:41:48.891Z"
   },
   {
    "duration": 17,
    "start_time": "2023-04-20T21:41:59.338Z"
   },
   {
    "duration": 7,
    "start_time": "2023-04-20T21:42:17.331Z"
   },
   {
    "duration": 15,
    "start_time": "2023-04-20T21:42:55.220Z"
   },
   {
    "duration": 12,
    "start_time": "2023-04-20T21:43:15.776Z"
   },
   {
    "duration": 10,
    "start_time": "2023-04-20T21:43:32.058Z"
   },
   {
    "duration": 19,
    "start_time": "2023-04-20T21:43:50.900Z"
   },
   {
    "duration": 2,
    "start_time": "2023-04-20T21:44:22.195Z"
   },
   {
    "duration": 121,
    "start_time": "2023-04-20T21:44:22.199Z"
   },
   {
    "duration": 47,
    "start_time": "2023-04-20T21:44:22.322Z"
   },
   {
    "duration": 17,
    "start_time": "2023-04-20T21:44:22.371Z"
   },
   {
    "duration": 7,
    "start_time": "2023-04-20T21:44:22.390Z"
   },
   {
    "duration": 8,
    "start_time": "2023-04-20T21:44:22.399Z"
   },
   {
    "duration": 9,
    "start_time": "2023-04-20T21:44:22.410Z"
   },
   {
    "duration": 66,
    "start_time": "2023-04-20T21:44:22.422Z"
   },
   {
    "duration": 9,
    "start_time": "2023-04-20T21:44:22.492Z"
   },
   {
    "duration": 15,
    "start_time": "2023-04-20T21:44:22.503Z"
   },
   {
    "duration": 6,
    "start_time": "2023-04-20T21:44:22.521Z"
   },
   {
    "duration": 19,
    "start_time": "2023-04-20T21:44:22.529Z"
   },
   {
    "duration": 47,
    "start_time": "2023-04-20T21:44:22.550Z"
   },
   {
    "duration": 6,
    "start_time": "2023-04-20T21:44:22.599Z"
   },
   {
    "duration": 17,
    "start_time": "2023-04-20T21:44:22.607Z"
   },
   {
    "duration": 17,
    "start_time": "2023-04-20T21:44:22.626Z"
   },
   {
    "duration": 12,
    "start_time": "2023-04-20T21:44:22.645Z"
   },
   {
    "duration": 49,
    "start_time": "2023-04-20T21:44:22.659Z"
   },
   {
    "duration": 18,
    "start_time": "2023-04-20T21:44:22.710Z"
   },
   {
    "duration": 5,
    "start_time": "2023-04-20T21:44:22.730Z"
   },
   {
    "duration": 16,
    "start_time": "2023-04-20T21:44:22.737Z"
   },
   {
    "duration": 129,
    "start_time": "2023-04-20T21:44:22.755Z"
   },
   {
    "duration": 11,
    "start_time": "2023-04-20T21:44:22.888Z"
   },
   {
    "duration": 11,
    "start_time": "2023-04-20T21:44:22.902Z"
   },
   {
    "duration": 108,
    "start_time": "2023-04-20T21:44:22.915Z"
   },
   {
    "duration": 105,
    "start_time": "2023-04-20T21:44:23.991Z"
   },
   {
    "duration": 26,
    "start_time": "2023-04-20T21:44:24.499Z"
   },
   {
    "duration": 6,
    "start_time": "2023-04-20T21:44:53.589Z"
   },
   {
    "duration": 37,
    "start_time": "2023-04-20T21:45:17.599Z"
   },
   {
    "duration": 10,
    "start_time": "2023-04-20T21:46:11.082Z"
   },
   {
    "duration": 3,
    "start_time": "2023-04-21T04:54:48.423Z"
   },
   {
    "duration": 142,
    "start_time": "2023-04-21T04:54:48.428Z"
   },
   {
    "duration": 67,
    "start_time": "2023-04-21T04:54:48.572Z"
   },
   {
    "duration": 16,
    "start_time": "2023-04-21T04:54:48.642Z"
   },
   {
    "duration": 21,
    "start_time": "2023-04-21T04:54:48.661Z"
   },
   {
    "duration": 20,
    "start_time": "2023-04-21T04:54:48.684Z"
   },
   {
    "duration": 24,
    "start_time": "2023-04-21T04:54:48.706Z"
   },
   {
    "duration": 34,
    "start_time": "2023-04-21T04:54:48.732Z"
   },
   {
    "duration": 9,
    "start_time": "2023-04-21T04:54:48.770Z"
   },
   {
    "duration": 67,
    "start_time": "2023-04-21T04:54:48.781Z"
   },
   {
    "duration": 10,
    "start_time": "2023-04-21T04:54:48.850Z"
   },
   {
    "duration": 18,
    "start_time": "2023-04-21T04:54:48.861Z"
   },
   {
    "duration": 38,
    "start_time": "2023-04-21T04:54:48.881Z"
   },
   {
    "duration": 30,
    "start_time": "2023-04-21T04:54:48.920Z"
   },
   {
    "duration": 11,
    "start_time": "2023-04-21T04:54:48.952Z"
   },
   {
    "duration": 14,
    "start_time": "2023-04-21T04:54:48.965Z"
   },
   {
    "duration": 25,
    "start_time": "2023-04-21T04:54:48.980Z"
   },
   {
    "duration": 32,
    "start_time": "2023-04-21T04:54:49.007Z"
   },
   {
    "duration": 25,
    "start_time": "2023-04-21T04:54:49.041Z"
   },
   {
    "duration": 5,
    "start_time": "2023-04-21T04:54:49.067Z"
   },
   {
    "duration": 35,
    "start_time": "2023-04-21T04:54:49.074Z"
   },
   {
    "duration": 115,
    "start_time": "2023-04-21T04:54:49.111Z"
   },
   {
    "duration": 11,
    "start_time": "2023-04-21T04:54:49.228Z"
   },
   {
    "duration": 6,
    "start_time": "2023-04-21T04:54:49.243Z"
   },
   {
    "duration": 148,
    "start_time": "2023-04-21T04:54:49.251Z"
   },
   {
    "duration": 24,
    "start_time": "2023-04-21T04:54:49.403Z"
   },
   {
    "duration": 8,
    "start_time": "2023-04-21T04:54:49.429Z"
   },
   {
    "duration": 78,
    "start_time": "2023-04-21T04:54:49.439Z"
   },
   {
    "duration": 4,
    "start_time": "2023-04-21T04:54:49.518Z"
   },
   {
    "duration": 8,
    "start_time": "2023-04-21T04:54:49.524Z"
   },
   {
    "duration": 9,
    "start_time": "2023-04-21T04:54:49.534Z"
   },
   {
    "duration": 55,
    "start_time": "2023-04-21T04:54:49.544Z"
   },
   {
    "duration": 9,
    "start_time": "2023-04-21T04:54:49.601Z"
   },
   {
    "duration": 120,
    "start_time": "2023-04-21T04:54:49.612Z"
   },
   {
    "duration": 21,
    "start_time": "2023-04-21T04:54:49.734Z"
   },
   {
    "duration": 174,
    "start_time": "2023-04-21T04:54:49.757Z"
   },
   {
    "duration": 282,
    "start_time": "2023-04-21T04:54:49.934Z"
   },
   {
    "duration": 31,
    "start_time": "2023-04-21T04:54:50.218Z"
   },
   {
    "duration": 8,
    "start_time": "2023-04-21T04:58:20.266Z"
   },
   {
    "duration": 3,
    "start_time": "2023-04-21T05:03:17.938Z"
   },
   {
    "duration": 131,
    "start_time": "2023-04-21T05:03:17.944Z"
   },
   {
    "duration": 59,
    "start_time": "2023-04-21T05:03:18.093Z"
   },
   {
    "duration": 20,
    "start_time": "2023-04-21T05:03:18.154Z"
   },
   {
    "duration": 8,
    "start_time": "2023-04-21T05:03:18.176Z"
   },
   {
    "duration": 34,
    "start_time": "2023-04-21T05:03:18.186Z"
   },
   {
    "duration": 23,
    "start_time": "2023-04-21T05:03:18.222Z"
   },
   {
    "duration": 52,
    "start_time": "2023-04-21T05:03:18.247Z"
   },
   {
    "duration": 8,
    "start_time": "2023-04-21T05:03:18.306Z"
   },
   {
    "duration": 24,
    "start_time": "2023-04-21T05:03:18.316Z"
   },
   {
    "duration": 18,
    "start_time": "2023-04-21T05:03:18.343Z"
   },
   {
    "duration": 17,
    "start_time": "2023-04-21T05:03:18.363Z"
   },
   {
    "duration": 41,
    "start_time": "2023-04-21T05:03:18.382Z"
   },
   {
    "duration": 5,
    "start_time": "2023-04-21T05:03:18.425Z"
   },
   {
    "duration": 10,
    "start_time": "2023-04-21T05:03:18.432Z"
   },
   {
    "duration": 12,
    "start_time": "2023-04-21T05:03:18.444Z"
   },
   {
    "duration": 15,
    "start_time": "2023-04-21T05:03:18.458Z"
   },
   {
    "duration": 30,
    "start_time": "2023-04-21T05:03:18.474Z"
   },
   {
    "duration": 18,
    "start_time": "2023-04-21T05:03:18.506Z"
   },
   {
    "duration": 10,
    "start_time": "2023-04-21T05:03:18.526Z"
   },
   {
    "duration": 16,
    "start_time": "2023-04-21T05:03:18.538Z"
   },
   {
    "duration": 144,
    "start_time": "2023-04-21T05:03:18.556Z"
   },
   {
    "duration": 13,
    "start_time": "2023-04-21T05:03:18.707Z"
   },
   {
    "duration": 17,
    "start_time": "2023-04-21T05:03:18.723Z"
   },
   {
    "duration": 107,
    "start_time": "2023-04-21T05:03:26.500Z"
   },
   {
    "duration": 137,
    "start_time": "2023-04-21T05:03:39.096Z"
   },
   {
    "duration": 105,
    "start_time": "2023-04-21T05:04:11.309Z"
   },
   {
    "duration": 118,
    "start_time": "2023-04-21T05:04:21.156Z"
   },
   {
    "duration": 102,
    "start_time": "2023-04-21T05:04:40.655Z"
   },
   {
    "duration": 86,
    "start_time": "2023-04-21T05:04:48.136Z"
   },
   {
    "duration": 86,
    "start_time": "2023-04-21T06:35:11.627Z"
   },
   {
    "duration": 36,
    "start_time": "2023-04-21T06:36:05.214Z"
   },
   {
    "duration": 11,
    "start_time": "2023-04-21T06:36:14.953Z"
   },
   {
    "duration": 6,
    "start_time": "2023-04-21T06:36:20.628Z"
   },
   {
    "duration": 32,
    "start_time": "2023-04-21T06:36:48.726Z"
   },
   {
    "duration": 7,
    "start_time": "2023-04-21T06:37:25.628Z"
   },
   {
    "duration": 65,
    "start_time": "2023-04-21T06:37:44.382Z"
   },
   {
    "duration": 38,
    "start_time": "2023-04-21T06:38:14.818Z"
   },
   {
    "duration": 13,
    "start_time": "2023-04-21T06:38:28.318Z"
   },
   {
    "duration": 7,
    "start_time": "2023-04-21T06:39:04.030Z"
   },
   {
    "duration": 8,
    "start_time": "2023-04-21T06:39:14.481Z"
   },
   {
    "duration": 12,
    "start_time": "2023-04-21T06:39:17.144Z"
   },
   {
    "duration": 60,
    "start_time": "2023-04-21T06:39:32.159Z"
   },
   {
    "duration": 13,
    "start_time": "2023-04-21T06:39:46.065Z"
   },
   {
    "duration": 4,
    "start_time": "2023-04-21T06:40:15.153Z"
   },
   {
    "duration": 166,
    "start_time": "2023-04-21T06:40:15.159Z"
   },
   {
    "duration": 63,
    "start_time": "2023-04-21T06:40:15.328Z"
   },
   {
    "duration": 20,
    "start_time": "2023-04-21T06:40:15.393Z"
   },
   {
    "duration": 9,
    "start_time": "2023-04-21T06:40:15.417Z"
   },
   {
    "duration": 37,
    "start_time": "2023-04-21T06:40:15.429Z"
   },
   {
    "duration": 13,
    "start_time": "2023-04-21T06:40:15.468Z"
   },
   {
    "duration": 35,
    "start_time": "2023-04-21T06:40:15.488Z"
   },
   {
    "duration": 7,
    "start_time": "2023-04-21T06:40:15.526Z"
   },
   {
    "duration": 18,
    "start_time": "2023-04-21T06:40:15.535Z"
   },
   {
    "duration": 31,
    "start_time": "2023-04-21T06:40:15.557Z"
   },
   {
    "duration": 5,
    "start_time": "2023-04-21T06:40:15.591Z"
   },
   {
    "duration": 32,
    "start_time": "2023-04-21T06:40:15.598Z"
   },
   {
    "duration": 5,
    "start_time": "2023-04-21T06:40:15.632Z"
   },
   {
    "duration": 6,
    "start_time": "2023-04-21T06:40:15.639Z"
   },
   {
    "duration": 48,
    "start_time": "2023-04-21T06:40:15.647Z"
   },
   {
    "duration": 8,
    "start_time": "2023-04-21T06:40:15.697Z"
   },
   {
    "duration": 31,
    "start_time": "2023-04-21T06:40:15.707Z"
   },
   {
    "duration": 56,
    "start_time": "2023-04-21T06:40:15.743Z"
   },
   {
    "duration": 6,
    "start_time": "2023-04-21T06:40:15.802Z"
   },
   {
    "duration": 23,
    "start_time": "2023-04-21T06:40:15.811Z"
   },
   {
    "duration": 121,
    "start_time": "2023-04-21T06:40:15.836Z"
   },
   {
    "duration": 12,
    "start_time": "2023-04-21T06:40:15.959Z"
   },
   {
    "duration": 10,
    "start_time": "2023-04-21T06:40:15.973Z"
   },
   {
    "duration": 150,
    "start_time": "2023-04-21T06:40:15.988Z"
   },
   {
    "duration": 9,
    "start_time": "2023-04-21T06:40:16.140Z"
   },
   {
    "duration": 11,
    "start_time": "2023-04-21T06:40:57.618Z"
   },
   {
    "duration": 10,
    "start_time": "2023-04-21T06:42:26.143Z"
   },
   {
    "duration": 27,
    "start_time": "2023-04-21T06:42:33.717Z"
   },
   {
    "duration": 4,
    "start_time": "2023-04-21T06:45:30.026Z"
   },
   {
    "duration": 142,
    "start_time": "2023-04-21T06:45:30.033Z"
   },
   {
    "duration": 60,
    "start_time": "2023-04-21T06:45:30.178Z"
   },
   {
    "duration": 23,
    "start_time": "2023-04-21T06:45:30.240Z"
   },
   {
    "duration": 33,
    "start_time": "2023-04-21T06:45:30.266Z"
   },
   {
    "duration": 41,
    "start_time": "2023-04-21T06:45:30.301Z"
   },
   {
    "duration": 67,
    "start_time": "2023-04-21T06:45:30.344Z"
   },
   {
    "duration": 66,
    "start_time": "2023-04-21T06:45:30.414Z"
   },
   {
    "duration": 3,
    "start_time": "2023-04-21T06:45:40.155Z"
   },
   {
    "duration": 139,
    "start_time": "2023-04-21T06:45:40.925Z"
   },
   {
    "duration": 26,
    "start_time": "2023-04-21T06:45:44.418Z"
   },
   {
    "duration": 3,
    "start_time": "2023-04-21T06:48:58.430Z"
   },
   {
    "duration": 129,
    "start_time": "2023-04-21T06:48:58.435Z"
   },
   {
    "duration": 54,
    "start_time": "2023-04-21T06:48:58.566Z"
   },
   {
    "duration": 16,
    "start_time": "2023-04-21T06:48:58.621Z"
   },
   {
    "duration": 9,
    "start_time": "2023-04-21T06:48:58.640Z"
   },
   {
    "duration": 12,
    "start_time": "2023-04-21T06:48:58.651Z"
   },
   {
    "duration": 10,
    "start_time": "2023-04-21T06:48:58.665Z"
   },
   {
    "duration": 43,
    "start_time": "2023-04-21T06:48:58.695Z"
   },
   {
    "duration": 8,
    "start_time": "2023-04-21T06:48:58.740Z"
   },
   {
    "duration": 27,
    "start_time": "2023-04-21T06:48:58.750Z"
   },
   {
    "duration": 58,
    "start_time": "2023-04-21T06:48:58.779Z"
   },
   {
    "duration": 19,
    "start_time": "2023-04-21T06:48:58.839Z"
   },
   {
    "duration": 20,
    "start_time": "2023-04-21T06:48:58.862Z"
   },
   {
    "duration": 12,
    "start_time": "2023-04-21T06:48:58.884Z"
   },
   {
    "duration": 18,
    "start_time": "2023-04-21T06:48:58.899Z"
   },
   {
    "duration": 115,
    "start_time": "2023-04-21T06:48:58.919Z"
   },
   {
    "duration": 11,
    "start_time": "2023-04-21T06:48:59.036Z"
   },
   {
    "duration": 6,
    "start_time": "2023-04-21T06:48:59.049Z"
   },
   {
    "duration": 99,
    "start_time": "2023-04-21T06:48:59.057Z"
   },
   {
    "duration": 8,
    "start_time": "2023-04-21T06:48:59.157Z"
   },
   {
    "duration": 23,
    "start_time": "2023-04-21T06:48:59.166Z"
   },
   {
    "duration": 27,
    "start_time": "2023-04-21T06:48:59.192Z"
   },
   {
    "duration": 8,
    "start_time": "2023-04-21T06:48:59.222Z"
   },
   {
    "duration": 30,
    "start_time": "2023-04-21T06:48:59.231Z"
   },
   {
    "duration": 37,
    "start_time": "2023-04-21T06:48:59.264Z"
   },
   {
    "duration": 26,
    "start_time": "2023-04-21T06:48:59.306Z"
   },
   {
    "duration": 10,
    "start_time": "2023-04-21T06:49:41.126Z"
   },
   {
    "duration": 3,
    "start_time": "2023-04-21T06:49:50.329Z"
   },
   {
    "duration": 171,
    "start_time": "2023-04-21T06:49:50.337Z"
   },
   {
    "duration": 53,
    "start_time": "2023-04-21T06:49:50.511Z"
   },
   {
    "duration": 18,
    "start_time": "2023-04-21T06:49:50.567Z"
   },
   {
    "duration": 36,
    "start_time": "2023-04-21T06:49:50.595Z"
   },
   {
    "duration": 35,
    "start_time": "2023-04-21T06:49:50.634Z"
   },
   {
    "duration": 72,
    "start_time": "2023-04-21T06:49:50.671Z"
   },
   {
    "duration": 62,
    "start_time": "2023-04-21T06:49:50.746Z"
   },
   {
    "duration": 19,
    "start_time": "2023-04-21T06:49:50.815Z"
   },
   {
    "duration": 28,
    "start_time": "2023-04-21T06:49:50.836Z"
   },
   {
    "duration": 10,
    "start_time": "2023-04-21T06:49:50.867Z"
   },
   {
    "duration": 13,
    "start_time": "2023-04-21T06:49:50.879Z"
   },
   {
    "duration": 36,
    "start_time": "2023-04-21T06:49:50.896Z"
   },
   {
    "duration": 5,
    "start_time": "2023-04-21T06:49:50.934Z"
   },
   {
    "duration": 10,
    "start_time": "2023-04-21T06:49:50.941Z"
   },
   {
    "duration": 124,
    "start_time": "2023-04-21T06:49:50.953Z"
   },
   {
    "duration": 24,
    "start_time": "2023-04-21T06:49:51.079Z"
   },
   {
    "duration": 24,
    "start_time": "2023-04-21T06:49:51.106Z"
   },
   {
    "duration": 110,
    "start_time": "2023-04-21T06:49:51.132Z"
   },
   {
    "duration": 11,
    "start_time": "2023-04-21T06:49:51.244Z"
   },
   {
    "duration": 4,
    "start_time": "2023-04-21T06:50:05.242Z"
   },
   {
    "duration": 158,
    "start_time": "2023-04-21T06:50:05.248Z"
   },
   {
    "duration": 51,
    "start_time": "2023-04-21T06:50:05.408Z"
   },
   {
    "duration": 17,
    "start_time": "2023-04-21T06:50:05.461Z"
   },
   {
    "duration": 20,
    "start_time": "2023-04-21T06:50:05.481Z"
   },
   {
    "duration": 11,
    "start_time": "2023-04-21T06:50:05.503Z"
   },
   {
    "duration": 14,
    "start_time": "2023-04-21T06:50:05.516Z"
   },
   {
    "duration": 34,
    "start_time": "2023-04-21T06:50:05.532Z"
   },
   {
    "duration": 24,
    "start_time": "2023-04-21T06:50:05.568Z"
   },
   {
    "duration": 24,
    "start_time": "2023-04-21T06:50:05.595Z"
   },
   {
    "duration": 5,
    "start_time": "2023-04-21T06:50:05.621Z"
   },
   {
    "duration": 8,
    "start_time": "2023-04-21T06:50:05.628Z"
   },
   {
    "duration": 52,
    "start_time": "2023-04-21T06:50:05.638Z"
   },
   {
    "duration": 6,
    "start_time": "2023-04-21T06:50:05.697Z"
   },
   {
    "duration": 29,
    "start_time": "2023-04-21T06:50:05.705Z"
   },
   {
    "duration": 125,
    "start_time": "2023-04-21T06:50:05.736Z"
   },
   {
    "duration": 16,
    "start_time": "2023-04-21T06:50:05.863Z"
   },
   {
    "duration": 15,
    "start_time": "2023-04-21T06:50:05.887Z"
   },
   {
    "duration": 79,
    "start_time": "2023-04-21T06:50:05.905Z"
   },
   {
    "duration": 11,
    "start_time": "2023-04-21T06:50:05.986Z"
   },
   {
    "duration": 32,
    "start_time": "2023-04-21T06:50:05.999Z"
   },
   {
    "duration": 26,
    "start_time": "2023-04-21T06:50:06.034Z"
   },
   {
    "duration": 35,
    "start_time": "2023-04-21T06:50:06.062Z"
   },
   {
    "duration": 20,
    "start_time": "2023-04-21T06:50:06.099Z"
   },
   {
    "duration": 36,
    "start_time": "2023-04-21T06:50:06.122Z"
   },
   {
    "duration": 35,
    "start_time": "2023-04-21T06:50:06.160Z"
   },
   {
    "duration": 13,
    "start_time": "2023-04-21T06:53:01.507Z"
   },
   {
    "duration": 25,
    "start_time": "2023-04-21T06:53:20.617Z"
   },
   {
    "duration": 27,
    "start_time": "2023-04-21T06:53:40.577Z"
   },
   {
    "duration": 19,
    "start_time": "2023-04-21T06:55:05.624Z"
   },
   {
    "duration": 23,
    "start_time": "2023-04-21T06:55:12.474Z"
   },
   {
    "duration": 4,
    "start_time": "2023-04-21T06:55:27.236Z"
   },
   {
    "duration": 136,
    "start_time": "2023-04-21T06:55:27.245Z"
   },
   {
    "duration": 51,
    "start_time": "2023-04-21T06:55:27.387Z"
   },
   {
    "duration": 18,
    "start_time": "2023-04-21T06:55:27.440Z"
   },
   {
    "duration": 10,
    "start_time": "2023-04-21T06:55:27.461Z"
   },
   {
    "duration": 6,
    "start_time": "2023-04-21T06:55:29.252Z"
   },
   {
    "duration": 18,
    "start_time": "2023-04-21T06:55:29.261Z"
   },
   {
    "duration": 50,
    "start_time": "2023-04-21T06:55:29.282Z"
   },
   {
    "duration": 9,
    "start_time": "2023-04-21T06:55:29.334Z"
   },
   {
    "duration": 17,
    "start_time": "2023-04-21T06:55:29.346Z"
   },
   {
    "duration": 15,
    "start_time": "2023-04-21T06:55:29.365Z"
   },
   {
    "duration": 10,
    "start_time": "2023-04-21T06:55:29.382Z"
   },
   {
    "duration": 25,
    "start_time": "2023-04-21T06:55:29.394Z"
   },
   {
    "duration": 6,
    "start_time": "2023-04-21T06:55:29.421Z"
   },
   {
    "duration": 20,
    "start_time": "2023-04-21T06:55:29.428Z"
   },
   {
    "duration": 109,
    "start_time": "2023-04-21T06:55:30.115Z"
   },
   {
    "duration": 11,
    "start_time": "2023-04-21T06:55:30.227Z"
   },
   {
    "duration": 39,
    "start_time": "2023-04-21T06:55:30.240Z"
   },
   {
    "duration": 98,
    "start_time": "2023-04-21T06:55:30.280Z"
   },
   {
    "duration": 7,
    "start_time": "2023-04-21T06:55:30.380Z"
   },
   {
    "duration": 32,
    "start_time": "2023-04-21T06:55:30.389Z"
   },
   {
    "duration": 4,
    "start_time": "2023-04-21T06:55:30.551Z"
   },
   {
    "duration": 50,
    "start_time": "2023-04-21T06:55:30.557Z"
   },
   {
    "duration": 6,
    "start_time": "2023-04-21T06:55:31.515Z"
   },
   {
    "duration": 62,
    "start_time": "2023-04-21T06:55:31.523Z"
   },
   {
    "duration": 57,
    "start_time": "2023-04-21T06:55:31.587Z"
   },
   {
    "duration": 70,
    "start_time": "2023-04-21T06:55:31.646Z"
   },
   {
    "duration": 4,
    "start_time": "2023-04-21T06:55:31.718Z"
   },
   {
    "duration": 6,
    "start_time": "2023-04-21T06:55:33.132Z"
   },
   {
    "duration": 28,
    "start_time": "2023-04-21T06:55:33.140Z"
   },
   {
    "duration": 30,
    "start_time": "2023-04-21T06:55:33.170Z"
   },
   {
    "duration": 24,
    "start_time": "2023-04-21T06:55:33.202Z"
   },
   {
    "duration": 116,
    "start_time": "2023-04-21T06:55:33.229Z"
   },
   {
    "duration": 19,
    "start_time": "2023-04-21T06:55:33.531Z"
   },
   {
    "duration": 23,
    "start_time": "2023-04-21T06:55:37.040Z"
   },
   {
    "duration": 6,
    "start_time": "2023-04-21T06:59:36.215Z"
   },
   {
    "duration": 141,
    "start_time": "2023-04-21T06:59:46.671Z"
   },
   {
    "duration": 6,
    "start_time": "2023-04-21T06:59:52.963Z"
   },
   {
    "duration": 13,
    "start_time": "2023-04-21T07:00:25.234Z"
   },
   {
    "duration": 14,
    "start_time": "2023-04-21T07:00:37.514Z"
   },
   {
    "duration": 14,
    "start_time": "2023-04-21T07:00:42.886Z"
   },
   {
    "duration": 13,
    "start_time": "2023-04-21T07:02:04.918Z"
   },
   {
    "duration": 32,
    "start_time": "2023-04-21T07:03:05.118Z"
   },
   {
    "duration": 16,
    "start_time": "2023-04-21T07:03:26.967Z"
   },
   {
    "duration": 3,
    "start_time": "2023-04-21T07:03:35.637Z"
   },
   {
    "duration": 136,
    "start_time": "2023-04-21T07:03:35.642Z"
   },
   {
    "duration": 50,
    "start_time": "2023-04-21T07:03:35.781Z"
   },
   {
    "duration": 14,
    "start_time": "2023-04-21T07:03:35.832Z"
   },
   {
    "duration": 14,
    "start_time": "2023-04-21T07:03:35.848Z"
   },
   {
    "duration": 13,
    "start_time": "2023-04-21T07:03:35.864Z"
   },
   {
    "duration": 22,
    "start_time": "2023-04-21T07:03:35.879Z"
   },
   {
    "duration": 36,
    "start_time": "2023-04-21T07:03:35.904Z"
   },
   {
    "duration": 20,
    "start_time": "2023-04-21T07:03:37.882Z"
   },
   {
    "duration": 27,
    "start_time": "2023-04-21T07:03:54.433Z"
   },
   {
    "duration": 5,
    "start_time": "2023-04-21T07:05:47.083Z"
   },
   {
    "duration": 3,
    "start_time": "2023-04-21T07:06:04.505Z"
   },
   {
    "duration": 133,
    "start_time": "2023-04-21T07:06:04.510Z"
   },
   {
    "duration": 55,
    "start_time": "2023-04-21T07:06:04.646Z"
   },
   {
    "duration": 20,
    "start_time": "2023-04-21T07:06:04.703Z"
   },
   {
    "duration": 12,
    "start_time": "2023-04-21T07:06:04.725Z"
   },
   {
    "duration": 8,
    "start_time": "2023-04-21T07:06:04.739Z"
   },
   {
    "duration": 14,
    "start_time": "2023-04-21T07:06:04.749Z"
   },
   {
    "duration": 57,
    "start_time": "2023-04-21T07:06:04.764Z"
   },
   {
    "duration": 9,
    "start_time": "2023-04-21T07:06:04.825Z"
   },
   {
    "duration": 20,
    "start_time": "2023-04-21T07:06:04.837Z"
   },
   {
    "duration": 34,
    "start_time": "2023-04-21T07:06:04.859Z"
   },
   {
    "duration": 7,
    "start_time": "2023-04-21T07:06:04.895Z"
   },
   {
    "duration": 32,
    "start_time": "2023-04-21T07:06:04.904Z"
   },
   {
    "duration": 6,
    "start_time": "2023-04-21T07:06:04.939Z"
   },
   {
    "duration": 22,
    "start_time": "2023-04-21T07:06:04.948Z"
   },
   {
    "duration": 125,
    "start_time": "2023-04-21T07:06:04.987Z"
   },
   {
    "duration": 13,
    "start_time": "2023-04-21T07:06:05.114Z"
   },
   {
    "duration": 30,
    "start_time": "2023-04-21T07:06:05.130Z"
   },
   {
    "duration": 125,
    "start_time": "2023-04-21T07:06:05.162Z"
   },
   {
    "duration": 7,
    "start_time": "2023-04-21T07:06:05.289Z"
   },
   {
    "duration": 16,
    "start_time": "2023-04-21T07:06:05.298Z"
   },
   {
    "duration": 7,
    "start_time": "2023-04-21T07:06:05.316Z"
   },
   {
    "duration": 20,
    "start_time": "2023-04-21T07:06:05.325Z"
   },
   {
    "duration": 12,
    "start_time": "2023-04-21T07:06:05.350Z"
   },
   {
    "duration": 47,
    "start_time": "2023-04-21T07:06:05.364Z"
   },
   {
    "duration": 30,
    "start_time": "2023-04-21T07:06:05.414Z"
   },
   {
    "duration": 57,
    "start_time": "2023-04-21T07:06:05.447Z"
   },
   {
    "duration": 4,
    "start_time": "2023-04-21T07:06:05.506Z"
   },
   {
    "duration": 12,
    "start_time": "2023-04-21T07:06:05.512Z"
   },
   {
    "duration": 11,
    "start_time": "2023-04-21T07:06:05.526Z"
   },
   {
    "duration": 30,
    "start_time": "2023-04-21T07:06:05.539Z"
   },
   {
    "duration": 7,
    "start_time": "2023-04-21T07:06:05.570Z"
   },
   {
    "duration": 99,
    "start_time": "2023-04-21T07:06:05.579Z"
   },
   {
    "duration": 18,
    "start_time": "2023-04-21T07:06:05.680Z"
   },
   {
    "duration": 23,
    "start_time": "2023-04-21T07:06:05.700Z"
   },
   {
    "duration": 10,
    "start_time": "2023-04-21T07:06:05.725Z"
   },
   {
    "duration": 16,
    "start_time": "2023-04-21T07:06:24.508Z"
   },
   {
    "duration": 37,
    "start_time": "2023-04-21T07:06:28.210Z"
   },
   {
    "duration": 31,
    "start_time": "2023-04-21T07:12:19.921Z"
   },
   {
    "duration": 58,
    "start_time": "2023-04-21T07:12:46.905Z"
   },
   {
    "duration": 45,
    "start_time": "2023-04-21T07:13:14.579Z"
   },
   {
    "duration": 50,
    "start_time": "2023-04-21T13:00:24.711Z"
   },
   {
    "duration": 55,
    "start_time": "2023-04-21T13:00:28.361Z"
   },
   {
    "duration": 79,
    "start_time": "2023-04-21T13:02:23.617Z"
   },
   {
    "duration": 4,
    "start_time": "2023-04-21T13:03:06.210Z"
   },
   {
    "duration": 121,
    "start_time": "2023-04-21T13:03:06.216Z"
   },
   {
    "duration": 55,
    "start_time": "2023-04-21T13:03:06.340Z"
   },
   {
    "duration": 14,
    "start_time": "2023-04-21T13:03:06.397Z"
   },
   {
    "duration": 21,
    "start_time": "2023-04-21T13:03:06.414Z"
   },
   {
    "duration": 12,
    "start_time": "2023-04-21T13:03:06.437Z"
   },
   {
    "duration": 50,
    "start_time": "2023-04-21T13:03:06.452Z"
   },
   {
    "duration": 37,
    "start_time": "2023-04-21T13:03:06.505Z"
   },
   {
    "duration": 12,
    "start_time": "2023-04-21T13:03:06.546Z"
   },
   {
    "duration": 15,
    "start_time": "2023-04-21T13:03:06.560Z"
   },
   {
    "duration": 19,
    "start_time": "2023-04-21T13:03:06.577Z"
   },
   {
    "duration": 17,
    "start_time": "2023-04-21T13:03:06.599Z"
   },
   {
    "duration": 31,
    "start_time": "2023-04-21T13:03:06.619Z"
   },
   {
    "duration": 7,
    "start_time": "2023-04-21T13:03:06.655Z"
   },
   {
    "duration": 25,
    "start_time": "2023-04-21T13:03:06.664Z"
   },
   {
    "duration": 138,
    "start_time": "2023-04-21T13:03:06.692Z"
   },
   {
    "duration": 16,
    "start_time": "2023-04-21T13:03:06.833Z"
   },
   {
    "duration": 12,
    "start_time": "2023-04-21T13:03:06.851Z"
   },
   {
    "duration": 88,
    "start_time": "2023-04-21T13:03:06.866Z"
   },
   {
    "duration": 7,
    "start_time": "2023-04-21T13:03:06.956Z"
   },
   {
    "duration": 24,
    "start_time": "2023-04-21T13:03:06.965Z"
   },
   {
    "duration": 7,
    "start_time": "2023-04-21T13:03:06.991Z"
   },
   {
    "duration": 17,
    "start_time": "2023-04-21T13:03:07.001Z"
   },
   {
    "duration": 15,
    "start_time": "2023-04-21T13:03:07.020Z"
   },
   {
    "duration": 26,
    "start_time": "2023-04-21T13:03:07.037Z"
   },
   {
    "duration": 21,
    "start_time": "2023-04-21T13:03:07.066Z"
   },
   {
    "duration": 67,
    "start_time": "2023-04-21T13:03:07.089Z"
   },
   {
    "duration": 4,
    "start_time": "2023-04-21T13:03:07.158Z"
   },
   {
    "duration": 12,
    "start_time": "2023-04-21T13:03:07.164Z"
   },
   {
    "duration": 6,
    "start_time": "2023-04-21T13:03:07.178Z"
   },
   {
    "duration": 17,
    "start_time": "2023-04-21T13:03:07.188Z"
   },
   {
    "duration": 11,
    "start_time": "2023-04-21T13:03:07.207Z"
   },
   {
    "duration": 106,
    "start_time": "2023-04-21T13:03:07.221Z"
   },
   {
    "duration": 25,
    "start_time": "2023-04-21T13:03:07.329Z"
   },
   {
    "duration": 36,
    "start_time": "2023-04-21T13:03:07.356Z"
   },
   {
    "duration": 153,
    "start_time": "2023-04-21T13:03:07.394Z"
   },
   {
    "duration": 177,
    "start_time": "2023-04-21T13:03:07.548Z"
   },
   {
    "duration": 187,
    "start_time": "2023-04-21T13:03:07.728Z"
   },
   {
    "duration": 43,
    "start_time": "2023-04-21T13:03:07.917Z"
   },
   {
    "duration": 10,
    "start_time": "2023-04-21T13:26:12.947Z"
   },
   {
    "duration": 152,
    "start_time": "2023-04-21T13:59:38.477Z"
   },
   {
    "duration": 128,
    "start_time": "2023-04-21T13:59:48.418Z"
   },
   {
    "duration": 143,
    "start_time": "2023-04-21T13:59:52.753Z"
   },
   {
    "duration": 164,
    "start_time": "2023-04-21T14:00:17.677Z"
   },
   {
    "duration": 188,
    "start_time": "2023-04-21T14:00:39.593Z"
   },
   {
    "duration": 172,
    "start_time": "2023-04-21T14:00:50.694Z"
   },
   {
    "duration": 4,
    "start_time": "2023-04-21T14:10:18.410Z"
   },
   {
    "duration": 143,
    "start_time": "2023-04-21T14:12:44.476Z"
   },
   {
    "duration": 4,
    "start_time": "2023-04-21T14:13:01.363Z"
   },
   {
    "duration": 4,
    "start_time": "2023-04-21T14:13:06.328Z"
   },
   {
    "duration": 56,
    "start_time": "2023-04-21T15:39:14.805Z"
   },
   {
    "duration": 1762,
    "start_time": "2023-04-21T15:39:38.957Z"
   },
   {
    "duration": 168,
    "start_time": "2023-04-21T15:40:22.223Z"
   },
   {
    "duration": 172,
    "start_time": "2023-04-21T15:41:22.579Z"
   },
   {
    "duration": 182,
    "start_time": "2023-04-21T15:42:30.375Z"
   },
   {
    "duration": 179,
    "start_time": "2023-04-21T15:42:53.545Z"
   },
   {
    "duration": 242,
    "start_time": "2023-04-21T15:44:37.046Z"
   },
   {
    "duration": 224,
    "start_time": "2023-04-21T15:44:41.163Z"
   },
   {
    "duration": 11,
    "start_time": "2023-04-21T15:45:16.359Z"
   },
   {
    "duration": 14,
    "start_time": "2023-04-21T15:45:40.542Z"
   },
   {
    "duration": 256,
    "start_time": "2023-04-21T15:46:53.362Z"
   },
   {
    "duration": 275,
    "start_time": "2023-04-21T15:48:11.822Z"
   },
   {
    "duration": 19,
    "start_time": "2023-04-21T15:50:37.865Z"
   },
   {
    "duration": 30,
    "start_time": "2023-04-21T15:54:22.615Z"
   },
   {
    "duration": 58,
    "start_time": "2023-04-21T15:54:38.016Z"
   },
   {
    "duration": 50,
    "start_time": "2023-04-21T15:55:00.809Z"
   },
   {
    "duration": 52,
    "start_time": "2023-04-21T15:55:07.507Z"
   },
   {
    "duration": 35,
    "start_time": "2023-04-21T15:55:46.958Z"
   },
   {
    "duration": 69,
    "start_time": "2023-04-21T15:55:59.735Z"
   },
   {
    "duration": 47,
    "start_time": "2023-04-21T15:56:33.105Z"
   },
   {
    "duration": 57,
    "start_time": "2023-04-21T15:56:47.227Z"
   },
   {
    "duration": 283,
    "start_time": "2023-04-21T15:58:23.491Z"
   },
   {
    "duration": 366,
    "start_time": "2023-04-21T15:58:44.641Z"
   },
   {
    "duration": 385,
    "start_time": "2023-04-21T15:58:55.261Z"
   },
   {
    "duration": 365,
    "start_time": "2023-04-21T16:00:20.747Z"
   },
   {
    "duration": 588,
    "start_time": "2023-04-21T16:01:11.928Z"
   },
   {
    "duration": 375,
    "start_time": "2023-04-21T16:01:27.648Z"
   },
   {
    "duration": 374,
    "start_time": "2023-04-21T16:02:28.667Z"
   },
   {
    "duration": 424,
    "start_time": "2023-04-21T16:04:53.082Z"
   },
   {
    "duration": 402,
    "start_time": "2023-04-21T16:05:13.885Z"
   },
   {
    "duration": 461,
    "start_time": "2023-04-21T16:05:30.411Z"
   },
   {
    "duration": 517,
    "start_time": "2023-04-21T16:05:38.256Z"
   },
   {
    "duration": 211,
    "start_time": "2023-04-21T16:05:51.973Z"
   },
   {
    "duration": 385,
    "start_time": "2023-04-21T16:06:20.692Z"
   },
   {
    "duration": 394,
    "start_time": "2023-04-21T16:06:34.784Z"
   },
   {
    "duration": 46,
    "start_time": "2023-04-21T16:16:27.877Z"
   },
   {
    "duration": 13,
    "start_time": "2023-04-21T16:19:53.114Z"
   },
   {
    "duration": 14,
    "start_time": "2023-04-21T16:20:02.516Z"
   },
   {
    "duration": 13,
    "start_time": "2023-04-21T16:20:22.083Z"
   },
   {
    "duration": 11,
    "start_time": "2023-04-21T16:20:29.457Z"
   },
   {
    "duration": 13,
    "start_time": "2023-04-21T16:20:49.587Z"
   },
   {
    "duration": 13,
    "start_time": "2023-04-21T16:20:59.749Z"
   },
   {
    "duration": 12,
    "start_time": "2023-04-21T16:21:11.786Z"
   },
   {
    "duration": 32,
    "start_time": "2023-04-21T16:21:17.825Z"
   },
   {
    "duration": 32,
    "start_time": "2023-04-21T16:21:45.905Z"
   },
   {
    "duration": 15,
    "start_time": "2023-04-21T16:21:49.947Z"
   },
   {
    "duration": 32,
    "start_time": "2023-04-21T16:22:04.714Z"
   },
   {
    "duration": 44,
    "start_time": "2023-04-21T16:48:05.423Z"
   },
   {
    "duration": 42,
    "start_time": "2023-04-21T16:51:55.829Z"
   },
   {
    "duration": 21,
    "start_time": "2023-04-21T16:52:02.361Z"
   },
   {
    "duration": 353,
    "start_time": "2023-04-21T17:47:25.215Z"
   },
   {
    "duration": 347,
    "start_time": "2023-04-21T17:47:53.792Z"
   },
   {
    "duration": 351,
    "start_time": "2023-04-21T17:48:36.398Z"
   },
   {
    "duration": 350,
    "start_time": "2023-04-21T17:48:46.538Z"
   },
   {
    "duration": 37,
    "start_time": "2023-04-21T17:48:52.084Z"
   },
   {
    "duration": 339,
    "start_time": "2023-04-21T17:48:52.449Z"
   },
   {
    "duration": 351,
    "start_time": "2023-04-21T17:49:39.781Z"
   },
   {
    "duration": 357,
    "start_time": "2023-04-21T18:00:01.428Z"
   },
   {
    "duration": 401,
    "start_time": "2023-04-21T18:00:20.161Z"
   },
   {
    "duration": 345,
    "start_time": "2023-04-21T18:00:53.603Z"
   },
   {
    "duration": 353,
    "start_time": "2023-04-21T18:03:40.128Z"
   },
   {
    "duration": 21,
    "start_time": "2023-04-21T18:48:11.706Z"
   },
   {
    "duration": 25,
    "start_time": "2023-04-21T18:49:12.340Z"
   },
   {
    "duration": 29,
    "start_time": "2023-04-21T18:49:28.038Z"
   },
   {
    "duration": 20,
    "start_time": "2023-04-21T18:49:48.380Z"
   },
   {
    "duration": 19,
    "start_time": "2023-04-21T18:51:17.997Z"
   },
   {
    "duration": 17,
    "start_time": "2023-04-21T18:51:33.373Z"
   },
   {
    "duration": 14,
    "start_time": "2023-04-21T18:51:52.182Z"
   },
   {
    "duration": 48,
    "start_time": "2023-04-21T18:52:41.593Z"
   },
   {
    "duration": 21,
    "start_time": "2023-04-21T18:52:48.695Z"
   },
   {
    "duration": 19,
    "start_time": "2023-04-21T18:52:58.110Z"
   },
   {
    "duration": 24,
    "start_time": "2023-04-21T18:53:16.003Z"
   },
   {
    "duration": 21,
    "start_time": "2023-04-21T18:53:19.828Z"
   },
   {
    "duration": 23,
    "start_time": "2023-04-21T18:53:56.040Z"
   },
   {
    "duration": 23,
    "start_time": "2023-04-21T18:54:55.574Z"
   },
   {
    "duration": 22,
    "start_time": "2023-04-21T18:55:04.961Z"
   },
   {
    "duration": 23,
    "start_time": "2023-04-21T18:55:15.534Z"
   },
   {
    "duration": 24,
    "start_time": "2023-04-21T18:55:28.321Z"
   },
   {
    "duration": 24,
    "start_time": "2023-04-21T18:55:32.661Z"
   },
   {
    "duration": 20,
    "start_time": "2023-04-21T18:55:41.421Z"
   },
   {
    "duration": 28,
    "start_time": "2023-04-21T18:55:54.075Z"
   },
   {
    "duration": 19,
    "start_time": "2023-04-21T18:56:04.441Z"
   },
   {
    "duration": 20,
    "start_time": "2023-04-21T18:56:09.234Z"
   },
   {
    "duration": 7,
    "start_time": "2023-04-21T19:00:52.403Z"
   },
   {
    "duration": 92,
    "start_time": "2023-04-21T19:01:32.735Z"
   },
   {
    "duration": 6,
    "start_time": "2023-04-21T19:01:47.386Z"
   },
   {
    "duration": 7,
    "start_time": "2023-04-21T19:01:58.066Z"
   },
   {
    "duration": 39,
    "start_time": "2023-04-21T19:03:40.845Z"
   },
   {
    "duration": 44,
    "start_time": "2023-04-21T19:04:00.291Z"
   },
   {
    "duration": 9,
    "start_time": "2023-04-21T19:05:12.806Z"
   },
   {
    "duration": 29,
    "start_time": "2023-04-21T19:05:28.686Z"
   },
   {
    "duration": 33,
    "start_time": "2023-04-21T19:06:22.826Z"
   },
   {
    "duration": 27,
    "start_time": "2023-04-21T19:06:44.846Z"
   },
   {
    "duration": 31,
    "start_time": "2023-04-21T19:07:23.140Z"
   },
   {
    "duration": 40,
    "start_time": "2023-04-21T19:07:34.940Z"
   },
   {
    "duration": 24,
    "start_time": "2023-04-21T19:07:54.355Z"
   },
   {
    "duration": 59,
    "start_time": "2023-04-21T19:08:20.519Z"
   },
   {
    "duration": 45,
    "start_time": "2023-04-21T19:09:19.375Z"
   },
   {
    "duration": 288,
    "start_time": "2023-04-22T02:12:25.783Z"
   },
   {
    "duration": 10,
    "start_time": "2023-04-22T02:12:29.631Z"
   },
   {
    "duration": 4,
    "start_time": "2023-04-22T02:12:55.750Z"
   },
   {
    "duration": 4,
    "start_time": "2023-04-22T02:13:03.588Z"
   },
   {
    "duration": 4,
    "start_time": "2023-04-22T02:13:14.390Z"
   },
   {
    "duration": 4,
    "start_time": "2023-04-22T02:14:00.223Z"
   },
   {
    "duration": 3,
    "start_time": "2023-04-22T02:14:29.315Z"
   },
   {
    "duration": 4,
    "start_time": "2023-04-22T02:14:37.514Z"
   },
   {
    "duration": 5,
    "start_time": "2023-04-22T02:15:14.710Z"
   },
   {
    "duration": 4,
    "start_time": "2023-04-22T02:15:44.027Z"
   },
   {
    "duration": 4,
    "start_time": "2023-04-22T02:15:52.503Z"
   },
   {
    "duration": 4,
    "start_time": "2023-04-22T02:16:23.042Z"
   },
   {
    "duration": 15,
    "start_time": "2023-04-22T02:16:29.612Z"
   },
   {
    "duration": 40,
    "start_time": "2023-04-22T02:17:00.367Z"
   },
   {
    "duration": 4,
    "start_time": "2023-04-22T02:17:11.619Z"
   },
   {
    "duration": 4,
    "start_time": "2023-04-22T02:19:39.472Z"
   },
   {
    "duration": 7,
    "start_time": "2023-04-22T02:19:47.879Z"
   },
   {
    "duration": 4,
    "start_time": "2023-04-22T02:19:58.529Z"
   },
   {
    "duration": 4,
    "start_time": "2023-04-22T02:20:42.103Z"
   },
   {
    "duration": 9,
    "start_time": "2023-04-22T02:21:16.238Z"
   },
   {
    "duration": 10,
    "start_time": "2023-04-22T02:21:20.838Z"
   },
   {
    "duration": 8,
    "start_time": "2023-04-22T02:21:39.594Z"
   },
   {
    "duration": 10,
    "start_time": "2023-04-22T02:22:06.067Z"
   },
   {
    "duration": 10,
    "start_time": "2023-04-22T02:22:20.157Z"
   },
   {
    "duration": 7,
    "start_time": "2023-04-22T02:22:25.400Z"
   },
   {
    "duration": 8,
    "start_time": "2023-04-22T02:22:39.518Z"
   },
   {
    "duration": 13,
    "start_time": "2023-04-22T02:23:46.505Z"
   },
   {
    "duration": 38,
    "start_time": "2023-04-22T02:23:52.369Z"
   },
   {
    "duration": 40,
    "start_time": "2023-04-22T02:25:31.679Z"
   },
   {
    "duration": 3,
    "start_time": "2023-04-22T02:27:33.234Z"
   },
   {
    "duration": 145,
    "start_time": "2023-04-22T02:27:33.249Z"
   },
   {
    "duration": 51,
    "start_time": "2023-04-22T02:27:33.397Z"
   },
   {
    "duration": 11,
    "start_time": "2023-04-22T02:27:33.450Z"
   },
   {
    "duration": 27,
    "start_time": "2023-04-22T02:27:33.463Z"
   },
   {
    "duration": 12,
    "start_time": "2023-04-22T02:27:33.492Z"
   },
   {
    "duration": 18,
    "start_time": "2023-04-22T02:27:33.506Z"
   },
   {
    "duration": 12,
    "start_time": "2023-04-22T02:27:33.526Z"
   },
   {
    "duration": 38,
    "start_time": "2023-04-22T02:27:33.540Z"
   },
   {
    "duration": 7,
    "start_time": "2023-04-22T02:27:33.580Z"
   },
   {
    "duration": 11,
    "start_time": "2023-04-22T02:27:33.590Z"
   },
   {
    "duration": 9,
    "start_time": "2023-04-22T02:27:33.602Z"
   },
   {
    "duration": 13,
    "start_time": "2023-04-22T02:27:33.613Z"
   },
   {
    "duration": 19,
    "start_time": "2023-04-22T02:27:33.628Z"
   },
   {
    "duration": 5,
    "start_time": "2023-04-22T02:27:33.650Z"
   },
   {
    "duration": 36,
    "start_time": "2023-04-22T02:27:33.656Z"
   },
   {
    "duration": 108,
    "start_time": "2023-04-22T02:27:33.694Z"
   },
   {
    "duration": 11,
    "start_time": "2023-04-22T02:27:33.804Z"
   },
   {
    "duration": 23,
    "start_time": "2023-04-22T02:27:33.817Z"
   },
   {
    "duration": 107,
    "start_time": "2023-04-22T02:27:33.842Z"
   },
   {
    "duration": 6,
    "start_time": "2023-04-22T02:27:33.951Z"
   },
   {
    "duration": 8,
    "start_time": "2023-04-22T02:27:33.960Z"
   },
   {
    "duration": 8,
    "start_time": "2023-04-22T02:27:33.970Z"
   },
   {
    "duration": 5,
    "start_time": "2023-04-22T02:27:33.988Z"
   },
   {
    "duration": 9,
    "start_time": "2023-04-22T02:27:33.994Z"
   },
   {
    "duration": 25,
    "start_time": "2023-04-22T02:27:34.004Z"
   },
   {
    "duration": 18,
    "start_time": "2023-04-22T02:27:34.031Z"
   },
   {
    "duration": 84,
    "start_time": "2023-04-22T02:27:34.051Z"
   },
   {
    "duration": 3,
    "start_time": "2023-04-22T02:27:34.138Z"
   },
   {
    "duration": 14,
    "start_time": "2023-04-22T02:27:34.143Z"
   },
   {
    "duration": 9,
    "start_time": "2023-04-22T02:27:34.159Z"
   },
   {
    "duration": 27,
    "start_time": "2023-04-22T02:27:34.170Z"
   },
   {
    "duration": 14,
    "start_time": "2023-04-22T02:27:34.199Z"
   },
   {
    "duration": 107,
    "start_time": "2023-04-22T02:27:34.215Z"
   },
   {
    "duration": 19,
    "start_time": "2023-04-22T02:27:34.324Z"
   },
   {
    "duration": 66,
    "start_time": "2023-04-22T02:27:34.345Z"
   },
   {
    "duration": 169,
    "start_time": "2023-04-22T02:27:34.413Z"
   },
   {
    "duration": 4,
    "start_time": "2023-04-22T02:27:34.586Z"
   },
   {
    "duration": 316,
    "start_time": "2023-04-22T02:27:34.592Z"
   },
   {
    "duration": 201,
    "start_time": "2023-04-22T02:27:34.910Z"
   },
   {
    "duration": 37,
    "start_time": "2023-04-22T02:27:35.113Z"
   },
   {
    "duration": 352,
    "start_time": "2023-04-22T02:27:35.152Z"
   },
   {
    "duration": 346,
    "start_time": "2023-04-22T02:27:35.506Z"
   },
   {
    "duration": 18,
    "start_time": "2023-04-22T02:27:35.854Z"
   },
   {
    "duration": 296,
    "start_time": "2023-04-22T02:27:35.887Z"
   },
   {
    "duration": 27,
    "start_time": "2023-04-22T02:28:22.339Z"
   },
   {
    "duration": 31,
    "start_time": "2023-04-22T02:29:32.510Z"
   },
   {
    "duration": 11,
    "start_time": "2023-04-22T02:30:41.827Z"
   },
   {
    "duration": 9,
    "start_time": "2023-04-22T02:31:23.810Z"
   },
   {
    "duration": 16,
    "start_time": "2023-04-22T02:31:45.170Z"
   },
   {
    "duration": 3,
    "start_time": "2023-04-22T02:38:35.322Z"
   },
   {
    "duration": 5,
    "start_time": "2023-04-22T02:39:04.849Z"
   },
   {
    "duration": 3,
    "start_time": "2023-04-22T02:39:19.313Z"
   },
   {
    "duration": 142,
    "start_time": "2023-04-22T02:39:19.318Z"
   },
   {
    "duration": 50,
    "start_time": "2023-04-22T02:39:19.462Z"
   },
   {
    "duration": 8,
    "start_time": "2023-04-22T02:39:19.514Z"
   },
   {
    "duration": 34,
    "start_time": "2023-04-22T02:39:19.525Z"
   },
   {
    "duration": 25,
    "start_time": "2023-04-22T02:39:19.561Z"
   },
   {
    "duration": 31,
    "start_time": "2023-04-22T02:39:19.588Z"
   },
   {
    "duration": 27,
    "start_time": "2023-04-22T02:39:19.621Z"
   },
   {
    "duration": 40,
    "start_time": "2023-04-22T02:39:19.650Z"
   },
   {
    "duration": 7,
    "start_time": "2023-04-22T02:39:19.692Z"
   },
   {
    "duration": 24,
    "start_time": "2023-04-22T02:39:19.702Z"
   },
   {
    "duration": 26,
    "start_time": "2023-04-22T02:39:19.728Z"
   },
   {
    "duration": 23,
    "start_time": "2023-04-22T02:39:19.756Z"
   },
   {
    "duration": 43,
    "start_time": "2023-04-22T02:39:19.781Z"
   },
   {
    "duration": 30,
    "start_time": "2023-04-22T02:39:19.825Z"
   },
   {
    "duration": 23,
    "start_time": "2023-04-22T02:39:19.857Z"
   },
   {
    "duration": 116,
    "start_time": "2023-04-22T02:39:19.881Z"
   },
   {
    "duration": 12,
    "start_time": "2023-04-22T02:39:19.999Z"
   },
   {
    "duration": 13,
    "start_time": "2023-04-22T02:39:20.012Z"
   },
   {
    "duration": 103,
    "start_time": "2023-04-22T02:39:20.027Z"
   },
   {
    "duration": 6,
    "start_time": "2023-04-22T02:39:20.132Z"
   },
   {
    "duration": 27,
    "start_time": "2023-04-22T02:39:20.139Z"
   },
   {
    "duration": 24,
    "start_time": "2023-04-22T02:39:20.168Z"
   },
   {
    "duration": 14,
    "start_time": "2023-04-22T02:39:20.194Z"
   },
   {
    "duration": 27,
    "start_time": "2023-04-22T02:39:20.210Z"
   },
   {
    "duration": 38,
    "start_time": "2023-04-22T02:39:20.239Z"
   },
   {
    "duration": 17,
    "start_time": "2023-04-22T02:39:20.279Z"
   },
   {
    "duration": 77,
    "start_time": "2023-04-22T02:39:20.298Z"
   },
   {
    "duration": 6,
    "start_time": "2023-04-22T02:39:20.380Z"
   },
   {
    "duration": 26,
    "start_time": "2023-04-22T02:39:20.388Z"
   },
   {
    "duration": 27,
    "start_time": "2023-04-22T02:39:20.416Z"
   },
   {
    "duration": 29,
    "start_time": "2023-04-22T02:39:20.446Z"
   },
   {
    "duration": 28,
    "start_time": "2023-04-22T02:39:20.477Z"
   },
   {
    "duration": 96,
    "start_time": "2023-04-22T02:39:20.508Z"
   },
   {
    "duration": 18,
    "start_time": "2023-04-22T02:39:20.606Z"
   },
   {
    "duration": 63,
    "start_time": "2023-04-22T02:39:20.626Z"
   },
   {
    "duration": 168,
    "start_time": "2023-04-22T02:39:20.691Z"
   },
   {
    "duration": 4,
    "start_time": "2023-04-22T02:39:20.861Z"
   },
   {
    "duration": 167,
    "start_time": "2023-04-22T02:39:20.867Z"
   },
   {
    "duration": 209,
    "start_time": "2023-04-22T02:39:21.036Z"
   },
   {
    "duration": 47,
    "start_time": "2023-04-22T02:39:21.247Z"
   },
   {
    "duration": 343,
    "start_time": "2023-04-22T02:39:21.296Z"
   },
   {
    "duration": 358,
    "start_time": "2023-04-22T02:39:21.641Z"
   },
   {
    "duration": 21,
    "start_time": "2023-04-22T02:39:22.001Z"
   },
   {
    "duration": 312,
    "start_time": "2023-04-22T02:39:22.024Z"
   },
   {
    "duration": 29,
    "start_time": "2023-04-22T02:39:22.338Z"
   },
   {
    "duration": 28,
    "start_time": "2023-04-22T02:39:30.402Z"
   },
   {
    "duration": 5,
    "start_time": "2023-04-22T02:39:31.309Z"
   },
   {
    "duration": 11,
    "start_time": "2023-04-22T02:40:15.563Z"
   },
   {
    "duration": 41,
    "start_time": "2023-04-22T02:40:32.038Z"
   },
   {
    "duration": 5,
    "start_time": "2023-04-22T02:40:57.502Z"
   },
   {
    "duration": 6,
    "start_time": "2023-04-22T02:41:20.783Z"
   },
   {
    "duration": 46,
    "start_time": "2023-04-22T02:45:43.457Z"
   },
   {
    "duration": 39,
    "start_time": "2023-04-22T02:46:06.960Z"
   },
   {
    "duration": 40,
    "start_time": "2023-04-22T02:46:23.703Z"
   },
   {
    "duration": 43,
    "start_time": "2023-04-22T02:46:29.884Z"
   },
   {
    "duration": 193,
    "start_time": "2023-04-22T02:50:48.319Z"
   },
   {
    "duration": 45,
    "start_time": "2023-04-22T02:52:06.609Z"
   },
   {
    "duration": 168,
    "start_time": "2023-04-22T02:52:11.151Z"
   },
   {
    "duration": 38,
    "start_time": "2023-04-22T02:52:12.905Z"
   },
   {
    "duration": 46,
    "start_time": "2023-04-22T02:52:19.847Z"
   },
   {
    "duration": 13,
    "start_time": "2023-04-22T02:54:30.243Z"
   },
   {
    "duration": 22,
    "start_time": "2023-04-22T02:55:09.605Z"
   },
   {
    "duration": 23,
    "start_time": "2023-04-22T02:56:58.330Z"
   },
   {
    "duration": 20,
    "start_time": "2023-04-22T02:57:05.112Z"
   },
   {
    "duration": 4,
    "start_time": "2023-04-22T03:00:09.502Z"
   },
   {
    "duration": 6,
    "start_time": "2023-04-22T03:00:13.890Z"
   },
   {
    "duration": 197,
    "start_time": "2023-04-22T03:01:50.397Z"
   },
   {
    "duration": 158,
    "start_time": "2023-04-22T03:02:07.309Z"
   },
   {
    "duration": 141,
    "start_time": "2023-04-22T03:03:49.097Z"
   },
   {
    "duration": 9,
    "start_time": "2023-04-22T03:07:01.060Z"
   },
   {
    "duration": 5,
    "start_time": "2023-04-22T03:07:08.832Z"
   },
   {
    "duration": 334,
    "start_time": "2023-04-22T10:03:12.814Z"
   },
   {
    "duration": 186,
    "start_time": "2023-04-22T10:03:46.849Z"
   },
   {
    "duration": 87,
    "start_time": "2023-04-22T10:03:56.130Z"
   },
   {
    "duration": 217,
    "start_time": "2023-04-22T10:03:59.202Z"
   },
   {
    "duration": 191,
    "start_time": "2023-04-22T10:04:18.562Z"
   },
   {
    "duration": 198,
    "start_time": "2023-04-22T10:04:50.177Z"
   },
   {
    "duration": 266,
    "start_time": "2023-04-22T10:05:10.545Z"
   },
   {
    "duration": 15,
    "start_time": "2023-04-22T10:08:01.849Z"
   },
   {
    "duration": 21,
    "start_time": "2023-04-22T10:08:21.112Z"
   },
   {
    "duration": 17,
    "start_time": "2023-04-22T10:08:29.519Z"
   },
   {
    "duration": 18,
    "start_time": "2023-04-22T10:08:33.520Z"
   },
   {
    "duration": 23,
    "start_time": "2023-04-22T10:08:43.675Z"
   },
   {
    "duration": 16,
    "start_time": "2023-04-22T10:08:54.239Z"
   },
   {
    "duration": 21,
    "start_time": "2023-04-22T10:10:43.934Z"
   },
   {
    "duration": 6229,
    "start_time": "2023-04-22T10:11:15.576Z"
   },
   {
    "duration": 15,
    "start_time": "2023-04-22T10:11:51.819Z"
   },
   {
    "duration": 24,
    "start_time": "2023-04-22T10:12:24.115Z"
   },
   {
    "duration": 390,
    "start_time": "2023-04-22T10:12:51.876Z"
   },
   {
    "duration": 476,
    "start_time": "2023-04-22T10:13:10.698Z"
   },
   {
    "duration": 202,
    "start_time": "2023-04-22T10:15:07.882Z"
   },
   {
    "duration": 18,
    "start_time": "2023-04-22T10:18:54.822Z"
   },
   {
    "duration": 23,
    "start_time": "2023-04-22T10:19:14.909Z"
   },
   {
    "duration": 367,
    "start_time": "2023-04-22T10:19:16.768Z"
   },
   {
    "duration": 191,
    "start_time": "2023-04-22T10:19:25.560Z"
   },
   {
    "duration": 24,
    "start_time": "2023-04-22T10:19:52.644Z"
   },
   {
    "duration": 199,
    "start_time": "2023-04-22T10:20:02.428Z"
   },
   {
    "duration": 28,
    "start_time": "2023-04-22T10:31:39.449Z"
   },
   {
    "duration": 32,
    "start_time": "2023-04-22T10:32:02.913Z"
   },
   {
    "duration": 27,
    "start_time": "2023-04-22T10:34:56.931Z"
   },
   {
    "duration": 31,
    "start_time": "2023-04-22T10:35:54.250Z"
   },
   {
    "duration": 21,
    "start_time": "2023-04-22T10:40:29.908Z"
   },
   {
    "duration": 24,
    "start_time": "2023-04-22T10:41:22.226Z"
   },
   {
    "duration": 24,
    "start_time": "2023-04-22T10:42:26.918Z"
   },
   {
    "duration": 26,
    "start_time": "2023-04-22T10:43:01.918Z"
   },
   {
    "duration": 34,
    "start_time": "2023-04-22T10:43:12.808Z"
   },
   {
    "duration": 25,
    "start_time": "2023-04-22T10:43:17.716Z"
   },
   {
    "duration": 220,
    "start_time": "2023-04-22T11:09:49.660Z"
   },
   {
    "duration": 25,
    "start_time": "2023-04-22T11:10:49.751Z"
   },
   {
    "duration": 17,
    "start_time": "2023-04-22T11:11:08.031Z"
   },
   {
    "duration": 41,
    "start_time": "2023-04-22T11:14:53.073Z"
   },
   {
    "duration": 23,
    "start_time": "2023-04-22T11:15:08.263Z"
   },
   {
    "duration": 50,
    "start_time": "2023-04-22T11:15:31.909Z"
   },
   {
    "duration": 32,
    "start_time": "2023-04-22T11:15:42.412Z"
   },
   {
    "duration": 31,
    "start_time": "2023-04-22T11:16:41.836Z"
   },
   {
    "duration": 27,
    "start_time": "2023-04-22T11:16:53.236Z"
   },
   {
    "duration": 52,
    "start_time": "2023-04-22T11:19:10.871Z"
   },
   {
    "duration": 164,
    "start_time": "2023-04-22T11:43:56.606Z"
   },
   {
    "duration": 203,
    "start_time": "2023-04-22T11:44:20.844Z"
   },
   {
    "duration": 212,
    "start_time": "2023-04-22T11:44:54.310Z"
   },
   {
    "duration": 105,
    "start_time": "2023-04-22T11:55:28.933Z"
   },
   {
    "duration": 75,
    "start_time": "2023-04-22T11:55:55.871Z"
   },
   {
    "duration": 86,
    "start_time": "2023-04-22T11:56:44.868Z"
   },
   {
    "duration": 30,
    "start_time": "2023-04-22T11:57:57.134Z"
   },
   {
    "duration": 68,
    "start_time": "2023-04-22T11:59:03.441Z"
   },
   {
    "duration": 53,
    "start_time": "2023-04-22T12:01:51.177Z"
   },
   {
    "duration": 29,
    "start_time": "2023-04-22T12:02:03.635Z"
   },
   {
    "duration": 38,
    "start_time": "2023-04-22T12:02:09.276Z"
   },
   {
    "duration": 35,
    "start_time": "2023-04-22T12:04:11.903Z"
   },
   {
    "duration": 27,
    "start_time": "2023-04-22T12:04:32.955Z"
   },
   {
    "duration": 21,
    "start_time": "2023-04-22T12:04:54.384Z"
   },
   {
    "duration": 93,
    "start_time": "2023-04-22T12:15:31.625Z"
   },
   {
    "duration": 25,
    "start_time": "2023-04-22T12:15:38.853Z"
   },
   {
    "duration": 6,
    "start_time": "2023-04-22T12:18:31.742Z"
   },
   {
    "duration": 61,
    "start_time": "2023-04-22T12:21:11.818Z"
   },
   {
    "duration": 431,
    "start_time": "2023-04-22T12:26:52.464Z"
   },
   {
    "duration": 451,
    "start_time": "2023-04-22T12:27:23.010Z"
   },
   {
    "duration": 3,
    "start_time": "2023-04-22T12:43:40.578Z"
   },
   {
    "duration": 239,
    "start_time": "2023-04-22T12:43:40.594Z"
   },
   {
    "duration": 57,
    "start_time": "2023-04-22T12:43:40.836Z"
   },
   {
    "duration": 13,
    "start_time": "2023-04-22T12:43:40.896Z"
   },
   {
    "duration": 56,
    "start_time": "2023-04-22T12:43:40.912Z"
   },
   {
    "duration": 22,
    "start_time": "2023-04-22T12:43:40.972Z"
   },
   {
    "duration": 61,
    "start_time": "2023-04-22T12:43:40.997Z"
   },
   {
    "duration": 13,
    "start_time": "2023-04-22T12:43:41.061Z"
   },
   {
    "duration": 42,
    "start_time": "2023-04-22T12:43:41.077Z"
   },
   {
    "duration": 33,
    "start_time": "2023-04-22T12:43:41.122Z"
   },
   {
    "duration": 17,
    "start_time": "2023-04-22T12:43:41.158Z"
   },
   {
    "duration": 56,
    "start_time": "2023-04-22T12:43:41.177Z"
   },
   {
    "duration": 22,
    "start_time": "2023-04-22T12:43:41.235Z"
   },
   {
    "duration": 52,
    "start_time": "2023-04-22T12:43:41.259Z"
   },
   {
    "duration": 28,
    "start_time": "2023-04-22T12:43:41.316Z"
   },
   {
    "duration": 9,
    "start_time": "2023-04-22T12:43:41.347Z"
   },
   {
    "duration": 146,
    "start_time": "2023-04-22T12:43:41.358Z"
   },
   {
    "duration": 20,
    "start_time": "2023-04-22T12:43:41.506Z"
   },
   {
    "duration": 23,
    "start_time": "2023-04-22T12:43:41.528Z"
   },
   {
    "duration": 97,
    "start_time": "2023-04-22T12:43:41.553Z"
   },
   {
    "duration": 7,
    "start_time": "2023-04-22T12:43:41.652Z"
   },
   {
    "duration": 12,
    "start_time": "2023-04-22T12:43:41.661Z"
   },
   {
    "duration": 23,
    "start_time": "2023-04-22T12:43:41.675Z"
   },
   {
    "duration": 44,
    "start_time": "2023-04-22T12:43:41.701Z"
   },
   {
    "duration": 8,
    "start_time": "2023-04-22T12:43:41.747Z"
   },
   {
    "duration": 24,
    "start_time": "2023-04-22T12:43:41.756Z"
   },
   {
    "duration": 28,
    "start_time": "2023-04-22T12:43:41.782Z"
   },
   {
    "duration": 86,
    "start_time": "2023-04-22T12:43:41.814Z"
   },
   {
    "duration": 5,
    "start_time": "2023-04-22T12:43:41.903Z"
   },
   {
    "duration": 33,
    "start_time": "2023-04-22T12:43:41.911Z"
   },
   {
    "duration": 4,
    "start_time": "2023-04-22T12:43:41.946Z"
   },
   {
    "duration": 14,
    "start_time": "2023-04-22T12:43:41.952Z"
   },
   {
    "duration": 13,
    "start_time": "2023-04-22T12:43:41.968Z"
   },
   {
    "duration": 160,
    "start_time": "2023-04-22T12:43:41.983Z"
   },
   {
    "duration": 20,
    "start_time": "2023-04-22T12:43:42.145Z"
   },
   {
    "duration": 85,
    "start_time": "2023-04-22T12:43:42.166Z"
   },
   {
    "duration": 200,
    "start_time": "2023-04-22T12:43:42.254Z"
   },
   {
    "duration": 4,
    "start_time": "2023-04-22T12:43:42.456Z"
   },
   {
    "duration": 217,
    "start_time": "2023-04-22T12:43:42.462Z"
   },
   {
    "duration": 252,
    "start_time": "2023-04-22T12:43:42.681Z"
   },
   {
    "duration": 40,
    "start_time": "2023-04-22T12:43:42.939Z"
   },
   {
    "duration": 523,
    "start_time": "2023-04-22T12:43:42.983Z"
   },
   {
    "duration": 474,
    "start_time": "2023-04-22T12:43:43.508Z"
   },
   {
    "duration": 392,
    "start_time": "2023-04-22T12:43:43.984Z"
   },
   {
    "duration": 10,
    "start_time": "2023-04-22T12:43:44.378Z"
   },
   {
    "duration": 507,
    "start_time": "2023-04-22T12:43:44.391Z"
   },
   {
    "duration": 61,
    "start_time": "2023-04-22T12:43:44.900Z"
   },
   {
    "duration": 226,
    "start_time": "2023-04-22T12:43:44.963Z"
   },
   {
    "duration": 242,
    "start_time": "2023-04-22T12:43:45.191Z"
   },
   {
    "duration": 236,
    "start_time": "2023-04-22T12:43:45.435Z"
   },
   {
    "duration": 48,
    "start_time": "2023-04-22T12:43:45.673Z"
   },
   {
    "duration": 221,
    "start_time": "2023-04-22T12:43:45.723Z"
   },
   {
    "duration": 204,
    "start_time": "2023-04-22T12:43:45.947Z"
   },
   {
    "duration": 216,
    "start_time": "2023-04-22T12:43:46.153Z"
   },
   {
    "duration": 234,
    "start_time": "2023-04-22T12:43:46.371Z"
   },
   {
    "duration": 5,
    "start_time": "2023-04-22T12:43:46.608Z"
   },
   {
    "duration": 51,
    "start_time": "2023-04-22T12:43:46.614Z"
   },
   {
    "duration": 15,
    "start_time": "2023-04-22T12:43:46.667Z"
   },
   {
    "duration": 56,
    "start_time": "2023-04-22T12:43:46.690Z"
   },
   {
    "duration": 29,
    "start_time": "2023-04-22T12:43:46.747Z"
   },
   {
    "duration": 37,
    "start_time": "2023-04-22T12:43:46.778Z"
   },
   {
    "duration": 63,
    "start_time": "2023-04-22T12:43:46.817Z"
   },
   {
    "duration": 15,
    "start_time": "2023-04-22T12:43:46.882Z"
   },
   {
    "duration": 6,
    "start_time": "2023-04-23T08:13:27.525Z"
   },
   {
    "duration": 6,
    "start_time": "2023-04-23T08:14:10.184Z"
   },
   {
    "duration": 2309,
    "start_time": "2023-04-23T08:40:38.339Z"
   },
   {
    "duration": 383,
    "start_time": "2023-04-23T08:40:40.651Z"
   },
   {
    "duration": 2267,
    "start_time": "2023-04-23T08:41:15.947Z"
   },
   {
    "duration": 3,
    "start_time": "2023-04-23T08:41:18.217Z"
   },
   {
    "duration": 153,
    "start_time": "2023-04-23T08:41:18.221Z"
   },
   {
    "duration": 51,
    "start_time": "2023-04-23T08:41:18.378Z"
   },
   {
    "duration": 12,
    "start_time": "2023-04-23T08:41:18.430Z"
   },
   {
    "duration": 39,
    "start_time": "2023-04-23T08:41:18.444Z"
   },
   {
    "duration": 41,
    "start_time": "2023-04-23T08:41:18.485Z"
   },
   {
    "duration": 64,
    "start_time": "2023-04-23T08:41:18.528Z"
   },
   {
    "duration": 40,
    "start_time": "2023-04-23T08:41:18.593Z"
   },
   {
    "duration": 56,
    "start_time": "2023-04-23T08:41:18.637Z"
   },
   {
    "duration": 7,
    "start_time": "2023-04-23T08:41:18.695Z"
   },
   {
    "duration": 49,
    "start_time": "2023-04-23T08:41:18.703Z"
   },
   {
    "duration": 14,
    "start_time": "2023-04-23T08:41:18.754Z"
   },
   {
    "duration": 11,
    "start_time": "2023-04-23T08:41:18.770Z"
   },
   {
    "duration": 28,
    "start_time": "2023-04-23T08:41:18.783Z"
   },
   {
    "duration": 4,
    "start_time": "2023-04-23T08:41:18.813Z"
   },
   {
    "duration": 17,
    "start_time": "2023-04-23T08:41:18.819Z"
   },
   {
    "duration": 106,
    "start_time": "2023-04-23T08:41:18.837Z"
   },
   {
    "duration": 11,
    "start_time": "2023-04-23T08:41:18.945Z"
   },
   {
    "duration": 19,
    "start_time": "2023-04-23T08:41:18.958Z"
   },
   {
    "duration": 10,
    "start_time": "2023-04-23T08:41:18.979Z"
   },
   {
    "duration": 78,
    "start_time": "2023-04-23T08:41:18.991Z"
   },
   {
    "duration": 8,
    "start_time": "2023-04-23T08:41:19.086Z"
   },
   {
    "duration": 16,
    "start_time": "2023-04-23T08:41:19.095Z"
   },
   {
    "duration": 7,
    "start_time": "2023-04-23T08:41:19.113Z"
   },
   {
    "duration": 13,
    "start_time": "2023-04-23T08:41:19.122Z"
   },
   {
    "duration": 5,
    "start_time": "2023-04-23T08:41:19.136Z"
   },
   {
    "duration": 52,
    "start_time": "2023-04-23T08:41:19.145Z"
   },
   {
    "duration": 17,
    "start_time": "2023-04-23T08:41:19.199Z"
   },
   {
    "duration": 45,
    "start_time": "2023-04-23T08:41:19.218Z"
   },
   {
    "duration": 5,
    "start_time": "2023-04-23T08:41:19.288Z"
   },
   {
    "duration": 11,
    "start_time": "2023-04-23T08:41:19.295Z"
   },
   {
    "duration": 7,
    "start_time": "2023-04-23T08:41:19.307Z"
   },
   {
    "duration": 16,
    "start_time": "2023-04-23T08:41:19.315Z"
   },
   {
    "duration": 3,
    "start_time": "2023-04-23T08:41:19.333Z"
   },
   {
    "duration": 164,
    "start_time": "2023-04-23T08:41:19.338Z"
   },
   {
    "duration": 73,
    "start_time": "2023-04-23T08:41:27.418Z"
   },
   {
    "duration": 79,
    "start_time": "2023-04-23T08:41:39.187Z"
   },
   {
    "duration": 2388,
    "start_time": "2023-04-23T08:41:55.588Z"
   },
   {
    "duration": 3,
    "start_time": "2023-04-23T08:41:57.978Z"
   },
   {
    "duration": 131,
    "start_time": "2023-04-23T08:41:57.983Z"
   },
   {
    "duration": 50,
    "start_time": "2023-04-23T08:41:58.116Z"
   },
   {
    "duration": 8,
    "start_time": "2023-04-23T08:41:58.169Z"
   },
   {
    "duration": 27,
    "start_time": "2023-04-23T08:41:58.179Z"
   },
   {
    "duration": 16,
    "start_time": "2023-04-23T08:41:58.209Z"
   },
   {
    "duration": 16,
    "start_time": "2023-04-23T08:41:58.227Z"
   },
   {
    "duration": 14,
    "start_time": "2023-04-23T08:41:58.245Z"
   },
   {
    "duration": 43,
    "start_time": "2023-04-23T08:41:58.261Z"
   },
   {
    "duration": 7,
    "start_time": "2023-04-23T08:41:58.306Z"
   },
   {
    "duration": 22,
    "start_time": "2023-04-23T08:41:58.315Z"
   },
   {
    "duration": 7,
    "start_time": "2023-04-23T08:41:58.339Z"
   },
   {
    "duration": 17,
    "start_time": "2023-04-23T08:41:58.349Z"
   },
   {
    "duration": 32,
    "start_time": "2023-04-23T08:41:58.367Z"
   },
   {
    "duration": 18,
    "start_time": "2023-04-23T08:41:58.402Z"
   },
   {
    "duration": 30,
    "start_time": "2023-04-23T08:41:58.422Z"
   },
   {
    "duration": 100,
    "start_time": "2023-04-23T08:41:58.455Z"
   },
   {
    "duration": 11,
    "start_time": "2023-04-23T08:41:58.557Z"
   },
   {
    "duration": 28,
    "start_time": "2023-04-23T08:41:58.569Z"
   },
   {
    "duration": 32,
    "start_time": "2023-04-23T08:41:58.599Z"
   },
   {
    "duration": 76,
    "start_time": "2023-04-23T08:41:58.633Z"
   },
   {
    "duration": 6,
    "start_time": "2023-04-23T08:41:58.711Z"
   },
   {
    "duration": 32,
    "start_time": "2023-04-23T08:41:58.719Z"
   },
   {
    "duration": 22,
    "start_time": "2023-04-23T08:41:58.753Z"
   },
   {
    "duration": 26,
    "start_time": "2023-04-23T08:41:58.777Z"
   },
   {
    "duration": 31,
    "start_time": "2023-04-23T08:41:58.805Z"
   },
   {
    "duration": 37,
    "start_time": "2023-04-23T08:41:58.838Z"
   },
   {
    "duration": 18,
    "start_time": "2023-04-23T08:41:58.877Z"
   },
   {
    "duration": 55,
    "start_time": "2023-04-23T08:41:58.897Z"
   },
   {
    "duration": 5,
    "start_time": "2023-04-23T08:41:58.954Z"
   },
   {
    "duration": 27,
    "start_time": "2023-04-23T08:41:58.961Z"
   },
   {
    "duration": 12,
    "start_time": "2023-04-23T08:41:58.990Z"
   },
   {
    "duration": 17,
    "start_time": "2023-04-23T08:41:59.004Z"
   },
   {
    "duration": 12,
    "start_time": "2023-04-23T08:41:59.023Z"
   },
   {
    "duration": 92,
    "start_time": "2023-04-23T08:41:59.036Z"
   },
   {
    "duration": 78,
    "start_time": "2023-04-23T08:42:04.189Z"
   },
   {
    "duration": 18,
    "start_time": "2023-04-23T08:42:05.962Z"
   },
   {
    "duration": 74,
    "start_time": "2023-04-23T08:42:23.084Z"
   },
   {
    "duration": 6,
    "start_time": "2023-04-23T08:43:06.739Z"
   },
   {
    "duration": 23,
    "start_time": "2023-04-23T08:43:08.572Z"
   },
   {
    "duration": 20,
    "start_time": "2023-04-23T08:43:19.673Z"
   },
   {
    "duration": 16,
    "start_time": "2023-04-23T08:51:13.238Z"
   },
   {
    "duration": 21,
    "start_time": "2023-04-23T08:53:32.564Z"
   },
   {
    "duration": 2289,
    "start_time": "2023-04-23T08:54:47.634Z"
   },
   {
    "duration": 3,
    "start_time": "2023-04-23T08:54:49.925Z"
   },
   {
    "duration": 134,
    "start_time": "2023-04-23T08:54:49.930Z"
   },
   {
    "duration": 48,
    "start_time": "2023-04-23T08:54:50.067Z"
   },
   {
    "duration": 8,
    "start_time": "2023-04-23T08:54:50.117Z"
   },
   {
    "duration": 24,
    "start_time": "2023-04-23T08:54:50.127Z"
   },
   {
    "duration": 8,
    "start_time": "2023-04-23T08:54:50.153Z"
   },
   {
    "duration": 27,
    "start_time": "2023-04-23T08:54:50.163Z"
   },
   {
    "duration": 5,
    "start_time": "2023-04-23T08:54:50.192Z"
   },
   {
    "duration": 34,
    "start_time": "2023-04-23T08:54:50.200Z"
   },
   {
    "duration": 7,
    "start_time": "2023-04-23T08:54:50.236Z"
   },
   {
    "duration": 21,
    "start_time": "2023-04-23T08:54:50.244Z"
   },
   {
    "duration": 24,
    "start_time": "2023-04-23T08:54:50.266Z"
   },
   {
    "duration": 27,
    "start_time": "2023-04-23T08:54:50.292Z"
   },
   {
    "duration": 23,
    "start_time": "2023-04-23T08:54:50.321Z"
   },
   {
    "duration": 7,
    "start_time": "2023-04-23T08:54:50.346Z"
   },
   {
    "duration": 26,
    "start_time": "2023-04-23T08:54:50.355Z"
   },
   {
    "duration": 148,
    "start_time": "2023-04-23T08:54:50.387Z"
   },
   {
    "duration": 15,
    "start_time": "2023-04-23T08:54:50.537Z"
   },
   {
    "duration": 58,
    "start_time": "2023-04-23T08:54:50.554Z"
   },
   {
    "duration": 33,
    "start_time": "2023-04-23T08:54:50.614Z"
   },
   {
    "duration": 79,
    "start_time": "2023-04-23T08:54:50.649Z"
   },
   {
    "duration": 8,
    "start_time": "2023-04-23T08:54:50.730Z"
   },
   {
    "duration": 29,
    "start_time": "2023-04-23T08:54:50.739Z"
   },
   {
    "duration": 39,
    "start_time": "2023-04-23T08:54:50.770Z"
   },
   {
    "duration": 22,
    "start_time": "2023-04-23T08:54:50.811Z"
   },
   {
    "duration": 36,
    "start_time": "2023-04-23T08:54:50.834Z"
   },
   {
    "duration": 36,
    "start_time": "2023-04-23T08:54:50.875Z"
   },
   {
    "duration": 20,
    "start_time": "2023-04-23T08:54:50.912Z"
   },
   {
    "duration": 64,
    "start_time": "2023-04-23T08:54:50.934Z"
   },
   {
    "duration": 4,
    "start_time": "2023-04-23T08:54:51.000Z"
   },
   {
    "duration": 16,
    "start_time": "2023-04-23T08:54:51.007Z"
   },
   {
    "duration": 7,
    "start_time": "2023-04-23T08:54:51.025Z"
   },
   {
    "duration": 22,
    "start_time": "2023-04-23T08:54:51.034Z"
   },
   {
    "duration": 29,
    "start_time": "2023-04-23T08:54:51.058Z"
   },
   {
    "duration": 80,
    "start_time": "2023-04-23T08:54:51.090Z"
   },
   {
    "duration": 24,
    "start_time": "2023-04-23T08:54:51.172Z"
   },
   {
    "duration": 36,
    "start_time": "2023-04-23T08:54:51.198Z"
   },
   {
    "duration": 18,
    "start_time": "2023-04-23T08:54:51.236Z"
   },
   {
    "duration": 43,
    "start_time": "2023-04-23T08:54:51.255Z"
   },
   {
    "duration": 45,
    "start_time": "2023-04-23T08:54:51.300Z"
   },
   {
    "duration": 422,
    "start_time": "2023-04-23T08:54:51.347Z"
   },
   {
    "duration": 17,
    "start_time": "2023-04-23T08:54:51.770Z"
   },
   {
    "duration": 169,
    "start_time": "2023-04-23T08:54:51.789Z"
   },
   {
    "duration": 193,
    "start_time": "2023-04-23T08:54:51.959Z"
   },
   {
    "duration": 49,
    "start_time": "2023-04-23T08:54:52.153Z"
   },
   {
    "duration": 366,
    "start_time": "2023-04-23T08:54:52.203Z"
   },
   {
    "duration": 374,
    "start_time": "2023-04-23T08:54:52.570Z"
   },
   {
    "duration": 50,
    "start_time": "2023-04-23T08:54:52.946Z"
   },
   {
    "duration": 0,
    "start_time": "2023-04-23T08:54:52.998Z"
   },
   {
    "duration": 1,
    "start_time": "2023-04-23T08:54:52.998Z"
   },
   {
    "duration": 0,
    "start_time": "2023-04-23T08:54:52.999Z"
   },
   {
    "duration": 0,
    "start_time": "2023-04-23T08:54:53.000Z"
   },
   {
    "duration": 0,
    "start_time": "2023-04-23T08:54:53.003Z"
   },
   {
    "duration": 0,
    "start_time": "2023-04-23T08:54:53.004Z"
   },
   {
    "duration": 0,
    "start_time": "2023-04-23T08:54:53.006Z"
   },
   {
    "duration": 0,
    "start_time": "2023-04-23T08:54:53.007Z"
   },
   {
    "duration": 0,
    "start_time": "2023-04-23T08:54:53.008Z"
   },
   {
    "duration": 0,
    "start_time": "2023-04-23T08:54:53.010Z"
   },
   {
    "duration": 0,
    "start_time": "2023-04-23T08:54:53.011Z"
   },
   {
    "duration": 0,
    "start_time": "2023-04-23T08:54:53.012Z"
   },
   {
    "duration": 0,
    "start_time": "2023-04-23T08:54:53.013Z"
   },
   {
    "duration": 0,
    "start_time": "2023-04-23T08:54:53.014Z"
   },
   {
    "duration": 0,
    "start_time": "2023-04-23T08:54:53.015Z"
   },
   {
    "duration": 0,
    "start_time": "2023-04-23T08:54:53.016Z"
   },
   {
    "duration": 0,
    "start_time": "2023-04-23T08:54:53.018Z"
   },
   {
    "duration": 0,
    "start_time": "2023-04-23T08:54:53.019Z"
   },
   {
    "duration": 0,
    "start_time": "2023-04-23T08:54:53.020Z"
   },
   {
    "duration": 2419,
    "start_time": "2023-04-23T08:55:17.228Z"
   },
   {
    "duration": 4,
    "start_time": "2023-04-23T08:55:19.649Z"
   },
   {
    "duration": 145,
    "start_time": "2023-04-23T08:55:19.655Z"
   },
   {
    "duration": 51,
    "start_time": "2023-04-23T08:55:19.802Z"
   },
   {
    "duration": 12,
    "start_time": "2023-04-23T08:55:19.855Z"
   },
   {
    "duration": 31,
    "start_time": "2023-04-23T08:55:19.869Z"
   },
   {
    "duration": 17,
    "start_time": "2023-04-23T08:55:19.902Z"
   },
   {
    "duration": 38,
    "start_time": "2023-04-23T08:55:19.921Z"
   },
   {
    "duration": 33,
    "start_time": "2023-04-23T08:55:19.961Z"
   },
   {
    "duration": 51,
    "start_time": "2023-04-23T08:55:19.998Z"
   },
   {
    "duration": 7,
    "start_time": "2023-04-23T08:55:20.051Z"
   },
   {
    "duration": 39,
    "start_time": "2023-04-23T08:55:20.060Z"
   },
   {
    "duration": 31,
    "start_time": "2023-04-23T08:55:20.101Z"
   },
   {
    "duration": 24,
    "start_time": "2023-04-23T08:55:20.134Z"
   },
   {
    "duration": 43,
    "start_time": "2023-04-23T08:55:20.160Z"
   },
   {
    "duration": 22,
    "start_time": "2023-04-23T08:55:20.204Z"
   },
   {
    "duration": 40,
    "start_time": "2023-04-23T08:55:20.227Z"
   },
   {
    "duration": 128,
    "start_time": "2023-04-23T08:55:20.269Z"
   },
   {
    "duration": 14,
    "start_time": "2023-04-23T08:55:20.399Z"
   },
   {
    "duration": 28,
    "start_time": "2023-04-23T08:55:20.415Z"
   },
   {
    "duration": 39,
    "start_time": "2023-04-23T08:55:20.445Z"
   },
   {
    "duration": 118,
    "start_time": "2023-04-23T08:55:20.486Z"
   },
   {
    "duration": 7,
    "start_time": "2023-04-23T08:55:20.607Z"
   },
   {
    "duration": 27,
    "start_time": "2023-04-23T08:55:20.616Z"
   },
   {
    "duration": 22,
    "start_time": "2023-04-23T08:55:20.645Z"
   },
   {
    "duration": 50,
    "start_time": "2023-04-23T08:55:20.669Z"
   },
   {
    "duration": 36,
    "start_time": "2023-04-23T08:55:20.722Z"
   },
   {
    "duration": 21,
    "start_time": "2023-04-23T08:55:20.762Z"
   },
   {
    "duration": 22,
    "start_time": "2023-04-23T08:55:20.785Z"
   },
   {
    "duration": 48,
    "start_time": "2023-04-23T08:55:20.809Z"
   },
   {
    "duration": 4,
    "start_time": "2023-04-23T08:55:20.859Z"
   },
   {
    "duration": 4,
    "start_time": "2023-04-23T08:55:20.888Z"
   },
   {
    "duration": 25,
    "start_time": "2023-04-23T08:55:20.894Z"
   },
   {
    "duration": 35,
    "start_time": "2023-04-23T08:55:20.920Z"
   },
   {
    "duration": 24,
    "start_time": "2023-04-23T08:55:20.957Z"
   },
   {
    "duration": 104,
    "start_time": "2023-04-23T08:55:20.983Z"
   },
   {
    "duration": 21,
    "start_time": "2023-04-23T08:55:36.210Z"
   },
   {
    "duration": 6,
    "start_time": "2023-04-23T08:56:02.443Z"
   },
   {
    "duration": 7,
    "start_time": "2023-04-23T08:56:42.975Z"
   },
   {
    "duration": 2369,
    "start_time": "2023-04-23T08:57:21.958Z"
   },
   {
    "duration": 3,
    "start_time": "2023-04-23T08:57:24.330Z"
   },
   {
    "duration": 143,
    "start_time": "2023-04-23T08:57:24.335Z"
   },
   {
    "duration": 51,
    "start_time": "2023-04-23T08:57:24.480Z"
   },
   {
    "duration": 13,
    "start_time": "2023-04-23T08:57:24.534Z"
   },
   {
    "duration": 42,
    "start_time": "2023-04-23T08:57:24.550Z"
   },
   {
    "duration": 8,
    "start_time": "2023-04-23T08:57:24.595Z"
   },
   {
    "duration": 17,
    "start_time": "2023-04-23T08:57:24.605Z"
   },
   {
    "duration": 13,
    "start_time": "2023-04-23T08:57:24.624Z"
   },
   {
    "duration": 56,
    "start_time": "2023-04-23T08:57:24.639Z"
   },
   {
    "duration": 10,
    "start_time": "2023-04-23T08:57:24.697Z"
   },
   {
    "duration": 28,
    "start_time": "2023-04-23T08:57:24.709Z"
   },
   {
    "duration": 6,
    "start_time": "2023-04-23T08:57:24.739Z"
   },
   {
    "duration": 43,
    "start_time": "2023-04-23T08:57:24.750Z"
   },
   {
    "duration": 49,
    "start_time": "2023-04-23T08:57:24.796Z"
   },
   {
    "duration": 28,
    "start_time": "2023-04-23T08:57:24.847Z"
   },
   {
    "duration": 33,
    "start_time": "2023-04-23T08:57:24.877Z"
   },
   {
    "duration": 120,
    "start_time": "2023-04-23T08:57:24.912Z"
   },
   {
    "duration": 12,
    "start_time": "2023-04-23T08:57:25.034Z"
   },
   {
    "duration": 20,
    "start_time": "2023-04-23T08:57:25.048Z"
   },
   {
    "duration": 17,
    "start_time": "2023-04-23T08:57:25.070Z"
   },
   {
    "duration": 81,
    "start_time": "2023-04-23T08:57:25.089Z"
   },
   {
    "duration": 6,
    "start_time": "2023-04-23T08:57:25.172Z"
   },
   {
    "duration": 7,
    "start_time": "2023-04-23T08:57:25.188Z"
   },
   {
    "duration": 14,
    "start_time": "2023-04-23T08:57:25.197Z"
   },
   {
    "duration": 37,
    "start_time": "2023-04-23T08:57:25.213Z"
   },
   {
    "duration": 14,
    "start_time": "2023-04-23T08:57:25.251Z"
   },
   {
    "duration": 31,
    "start_time": "2023-04-23T08:57:25.267Z"
   },
   {
    "duration": 23,
    "start_time": "2023-04-23T08:57:25.302Z"
   },
   {
    "duration": 92,
    "start_time": "2023-04-23T08:57:25.327Z"
   },
   {
    "duration": 5,
    "start_time": "2023-04-23T08:57:25.421Z"
   },
   {
    "duration": 17,
    "start_time": "2023-04-23T08:57:25.428Z"
   },
   {
    "duration": 14,
    "start_time": "2023-04-23T08:57:25.447Z"
   },
   {
    "duration": 38,
    "start_time": "2023-04-23T08:57:25.464Z"
   },
   {
    "duration": 31,
    "start_time": "2023-04-23T08:57:25.503Z"
   },
   {
    "duration": 5,
    "start_time": "2023-04-23T08:57:29.232Z"
   },
   {
    "duration": 7,
    "start_time": "2023-04-23T08:57:34.103Z"
   },
   {
    "duration": 25,
    "start_time": "2023-04-23T08:59:49.756Z"
   },
   {
    "duration": 11,
    "start_time": "2023-04-23T09:23:58.297Z"
   },
   {
    "duration": 4,
    "start_time": "2023-04-23T09:24:48.002Z"
   },
   {
    "duration": 21,
    "start_time": "2023-04-23T09:27:22.213Z"
   },
   {
    "duration": 2439,
    "start_time": "2023-04-23T09:28:44.345Z"
   },
   {
    "duration": 4,
    "start_time": "2023-04-23T09:28:46.788Z"
   },
   {
    "duration": 163,
    "start_time": "2023-04-23T09:28:46.794Z"
   },
   {
    "duration": 52,
    "start_time": "2023-04-23T09:28:46.959Z"
   },
   {
    "duration": 12,
    "start_time": "2023-04-23T09:28:47.013Z"
   },
   {
    "duration": 44,
    "start_time": "2023-04-23T09:28:47.027Z"
   },
   {
    "duration": 17,
    "start_time": "2023-04-23T09:28:47.074Z"
   },
   {
    "duration": 15,
    "start_time": "2023-04-23T09:28:47.093Z"
   },
   {
    "duration": 26,
    "start_time": "2023-04-23T09:28:47.110Z"
   },
   {
    "duration": 39,
    "start_time": "2023-04-23T09:28:47.139Z"
   },
   {
    "duration": 13,
    "start_time": "2023-04-23T09:28:47.180Z"
   },
   {
    "duration": 15,
    "start_time": "2023-04-23T09:28:47.195Z"
   },
   {
    "duration": 10,
    "start_time": "2023-04-23T09:28:47.212Z"
   },
   {
    "duration": 20,
    "start_time": "2023-04-23T09:28:47.223Z"
   },
   {
    "duration": 46,
    "start_time": "2023-04-23T09:28:47.245Z"
   },
   {
    "duration": 6,
    "start_time": "2023-04-23T09:28:47.293Z"
   },
   {
    "duration": 27,
    "start_time": "2023-04-23T09:28:47.301Z"
   },
   {
    "duration": 130,
    "start_time": "2023-04-23T09:28:47.330Z"
   },
   {
    "duration": 25,
    "start_time": "2023-04-23T09:28:47.463Z"
   },
   {
    "duration": 14,
    "start_time": "2023-04-23T09:28:47.490Z"
   },
   {
    "duration": 29,
    "start_time": "2023-04-23T09:28:47.506Z"
   },
   {
    "duration": 19,
    "start_time": "2023-04-23T09:28:49.715Z"
   },
   {
    "duration": 24,
    "start_time": "2023-04-23T09:28:50.802Z"
   },
   {
    "duration": 161,
    "start_time": "2023-04-23T09:31:40.259Z"
   },
   {
    "duration": 154,
    "start_time": "2023-04-23T09:32:01.469Z"
   },
   {
    "duration": 175,
    "start_time": "2023-04-23T09:32:08.928Z"
   },
   {
    "duration": 161,
    "start_time": "2023-04-23T09:32:15.404Z"
   },
   {
    "duration": 244,
    "start_time": "2023-04-23T09:32:25.111Z"
   },
   {
    "duration": 167,
    "start_time": "2023-04-23T09:32:37.722Z"
   },
   {
    "duration": 162,
    "start_time": "2023-04-23T09:32:49.321Z"
   },
   {
    "duration": 177,
    "start_time": "2023-04-23T09:32:56.342Z"
   },
   {
    "duration": 158,
    "start_time": "2023-04-23T09:33:23.279Z"
   },
   {
    "duration": 149,
    "start_time": "2023-04-23T09:33:30.028Z"
   },
   {
    "duration": 146,
    "start_time": "2023-04-23T09:33:35.267Z"
   },
   {
    "duration": 143,
    "start_time": "2023-04-23T09:33:39.240Z"
   },
   {
    "duration": 8,
    "start_time": "2023-04-23T09:33:58.115Z"
   },
   {
    "duration": 31,
    "start_time": "2023-04-23T09:34:49.004Z"
   },
   {
    "duration": 7,
    "start_time": "2023-04-23T09:36:24.418Z"
   },
   {
    "duration": 2403,
    "start_time": "2023-04-23T09:36:39.271Z"
   },
   {
    "duration": 4,
    "start_time": "2023-04-23T09:36:41.676Z"
   },
   {
    "duration": 133,
    "start_time": "2023-04-23T09:36:41.682Z"
   },
   {
    "duration": 49,
    "start_time": "2023-04-23T09:36:41.817Z"
   },
   {
    "duration": 10,
    "start_time": "2023-04-23T09:36:41.868Z"
   },
   {
    "duration": 34,
    "start_time": "2023-04-23T09:36:41.880Z"
   },
   {
    "duration": 29,
    "start_time": "2023-04-23T09:36:41.916Z"
   },
   {
    "duration": 40,
    "start_time": "2023-04-23T09:36:41.947Z"
   },
   {
    "duration": 22,
    "start_time": "2023-04-23T09:36:41.989Z"
   },
   {
    "duration": 49,
    "start_time": "2023-04-23T09:36:42.015Z"
   },
   {
    "duration": 7,
    "start_time": "2023-04-23T09:36:42.067Z"
   },
   {
    "duration": 16,
    "start_time": "2023-04-23T09:36:42.076Z"
   },
   {
    "duration": 11,
    "start_time": "2023-04-23T09:36:42.094Z"
   },
   {
    "duration": 10,
    "start_time": "2023-04-23T09:36:42.107Z"
   },
   {
    "duration": 24,
    "start_time": "2023-04-23T09:36:42.119Z"
   },
   {
    "duration": 5,
    "start_time": "2023-04-23T09:36:42.145Z"
   },
   {
    "duration": 36,
    "start_time": "2023-04-23T09:36:42.152Z"
   },
   {
    "duration": 113,
    "start_time": "2023-04-23T09:36:42.190Z"
   },
   {
    "duration": 17,
    "start_time": "2023-04-23T09:36:42.306Z"
   },
   {
    "duration": 18,
    "start_time": "2023-04-23T09:36:42.326Z"
   },
   {
    "duration": 42,
    "start_time": "2023-04-23T09:36:42.346Z"
   },
   {
    "duration": 12,
    "start_time": "2023-04-23T09:36:42.390Z"
   },
   {
    "duration": 140,
    "start_time": "2023-04-23T09:36:42.405Z"
   },
   {
    "duration": 7,
    "start_time": "2023-04-23T09:36:42.547Z"
   },
   {
    "duration": 2332,
    "start_time": "2023-04-23T09:36:50.867Z"
   },
   {
    "duration": 4,
    "start_time": "2023-04-23T09:36:53.202Z"
   },
   {
    "duration": 159,
    "start_time": "2023-04-23T09:36:53.208Z"
   },
   {
    "duration": 54,
    "start_time": "2023-04-23T09:36:53.369Z"
   },
   {
    "duration": 12,
    "start_time": "2023-04-23T09:36:53.426Z"
   },
   {
    "duration": 25,
    "start_time": "2023-04-23T09:36:53.440Z"
   },
   {
    "duration": 22,
    "start_time": "2023-04-23T09:36:53.467Z"
   },
   {
    "duration": 28,
    "start_time": "2023-04-23T09:36:53.492Z"
   },
   {
    "duration": 27,
    "start_time": "2023-04-23T09:36:53.522Z"
   },
   {
    "duration": 28,
    "start_time": "2023-04-23T09:36:53.553Z"
   },
   {
    "duration": 11,
    "start_time": "2023-04-23T09:36:53.583Z"
   },
   {
    "duration": 17,
    "start_time": "2023-04-23T09:36:53.596Z"
   },
   {
    "duration": 17,
    "start_time": "2023-04-23T09:36:53.615Z"
   },
   {
    "duration": 16,
    "start_time": "2023-04-23T09:36:53.634Z"
   },
   {
    "duration": 27,
    "start_time": "2023-04-23T09:36:53.652Z"
   },
   {
    "duration": 20,
    "start_time": "2023-04-23T09:36:53.680Z"
   },
   {
    "duration": 26,
    "start_time": "2023-04-23T09:36:53.702Z"
   },
   {
    "duration": 112,
    "start_time": "2023-04-23T09:36:53.730Z"
   },
   {
    "duration": 16,
    "start_time": "2023-04-23T09:36:53.845Z"
   },
   {
    "duration": 3,
    "start_time": "2023-04-23T09:36:53.864Z"
   },
   {
    "duration": 25,
    "start_time": "2023-04-23T09:36:53.887Z"
   },
   {
    "duration": 31,
    "start_time": "2023-04-23T09:36:53.914Z"
   },
   {
    "duration": 61,
    "start_time": "2023-04-23T09:36:53.947Z"
   },
   {
    "duration": 0,
    "start_time": "2023-04-23T09:36:54.010Z"
   },
   {
    "duration": 2360,
    "start_time": "2023-04-23T09:37:04.507Z"
   },
   {
    "duration": 3,
    "start_time": "2023-04-23T09:37:06.870Z"
   },
   {
    "duration": 135,
    "start_time": "2023-04-23T09:37:06.875Z"
   },
   {
    "duration": 51,
    "start_time": "2023-04-23T09:37:07.012Z"
   },
   {
    "duration": 12,
    "start_time": "2023-04-23T09:37:07.066Z"
   },
   {
    "duration": 39,
    "start_time": "2023-04-23T09:37:07.080Z"
   },
   {
    "duration": 21,
    "start_time": "2023-04-23T09:37:07.122Z"
   },
   {
    "duration": 15,
    "start_time": "2023-04-23T09:37:07.145Z"
   },
   {
    "duration": 22,
    "start_time": "2023-04-23T09:37:07.162Z"
   },
   {
    "duration": 32,
    "start_time": "2023-04-23T09:37:07.186Z"
   },
   {
    "duration": 7,
    "start_time": "2023-04-23T09:37:07.220Z"
   },
   {
    "duration": 24,
    "start_time": "2023-04-23T09:37:07.228Z"
   },
   {
    "duration": 20,
    "start_time": "2023-04-23T09:37:07.255Z"
   },
   {
    "duration": 15,
    "start_time": "2023-04-23T09:37:07.278Z"
   },
   {
    "duration": 26,
    "start_time": "2023-04-23T09:37:07.295Z"
   },
   {
    "duration": 21,
    "start_time": "2023-04-23T09:37:07.324Z"
   },
   {
    "duration": 16,
    "start_time": "2023-04-23T09:37:07.347Z"
   },
   {
    "duration": 109,
    "start_time": "2023-04-23T09:37:07.365Z"
   },
   {
    "duration": 21,
    "start_time": "2023-04-23T09:37:07.475Z"
   },
   {
    "duration": 15,
    "start_time": "2023-04-23T09:37:07.498Z"
   },
   {
    "duration": 35,
    "start_time": "2023-04-23T09:37:07.515Z"
   },
   {
    "duration": 10,
    "start_time": "2023-04-23T09:37:07.552Z"
   },
   {
    "duration": 3,
    "start_time": "2023-04-23T09:37:09.902Z"
   },
   {
    "duration": 34,
    "start_time": "2023-04-23T09:37:11.270Z"
   },
   {
    "duration": 3,
    "start_time": "2023-04-23T09:37:43.407Z"
   },
   {
    "duration": 2347,
    "start_time": "2023-04-23T09:37:46.660Z"
   },
   {
    "duration": 4,
    "start_time": "2023-04-23T09:37:49.010Z"
   },
   {
    "duration": 162,
    "start_time": "2023-04-23T09:37:49.016Z"
   },
   {
    "duration": 50,
    "start_time": "2023-04-23T09:37:49.187Z"
   },
   {
    "duration": 10,
    "start_time": "2023-04-23T09:37:49.239Z"
   },
   {
    "duration": 23,
    "start_time": "2023-04-23T09:37:49.251Z"
   },
   {
    "duration": 12,
    "start_time": "2023-04-23T09:37:49.276Z"
   },
   {
    "duration": 11,
    "start_time": "2023-04-23T09:37:49.290Z"
   },
   {
    "duration": 11,
    "start_time": "2023-04-23T09:37:49.303Z"
   },
   {
    "duration": 27,
    "start_time": "2023-04-23T09:37:49.317Z"
   },
   {
    "duration": 45,
    "start_time": "2023-04-23T09:37:49.346Z"
   },
   {
    "duration": 12,
    "start_time": "2023-04-23T09:37:49.393Z"
   },
   {
    "duration": 14,
    "start_time": "2023-04-23T09:37:49.407Z"
   },
   {
    "duration": 13,
    "start_time": "2023-04-23T09:37:49.423Z"
   },
   {
    "duration": 51,
    "start_time": "2023-04-23T09:37:49.438Z"
   },
   {
    "duration": 5,
    "start_time": "2023-04-23T09:37:49.491Z"
   },
   {
    "duration": 13,
    "start_time": "2023-04-23T09:37:49.498Z"
   },
   {
    "duration": 128,
    "start_time": "2023-04-23T09:37:49.513Z"
   },
   {
    "duration": 12,
    "start_time": "2023-04-23T09:37:49.642Z"
   },
   {
    "duration": 7,
    "start_time": "2023-04-23T09:37:49.656Z"
   },
   {
    "duration": 44,
    "start_time": "2023-04-23T09:37:49.665Z"
   },
   {
    "duration": 25,
    "start_time": "2023-04-23T09:37:49.711Z"
   },
   {
    "duration": 4,
    "start_time": "2023-04-23T09:37:54.130Z"
   },
   {
    "duration": 66,
    "start_time": "2023-04-23T09:37:54.544Z"
   },
   {
    "duration": 6,
    "start_time": "2023-04-23T09:38:05.602Z"
   },
   {
    "duration": 13,
    "start_time": "2023-04-23T09:38:09.995Z"
   },
   {
    "duration": 2329,
    "start_time": "2023-04-23T09:39:42.160Z"
   },
   {
    "duration": 4,
    "start_time": "2023-04-23T09:39:44.492Z"
   },
   {
    "duration": 134,
    "start_time": "2023-04-23T09:39:44.498Z"
   },
   {
    "duration": 50,
    "start_time": "2023-04-23T09:39:44.636Z"
   },
   {
    "duration": 12,
    "start_time": "2023-04-23T09:39:44.688Z"
   },
   {
    "duration": 23,
    "start_time": "2023-04-23T09:39:44.701Z"
   },
   {
    "duration": 8,
    "start_time": "2023-04-23T09:39:44.726Z"
   },
   {
    "duration": 10,
    "start_time": "2023-04-23T09:39:44.736Z"
   },
   {
    "duration": 44,
    "start_time": "2023-04-23T09:39:44.748Z"
   },
   {
    "duration": 67,
    "start_time": "2023-04-23T09:39:44.795Z"
   },
   {
    "duration": 30,
    "start_time": "2023-04-23T09:39:58.532Z"
   },
   {
    "duration": 2349,
    "start_time": "2023-04-23T09:40:05.142Z"
   },
   {
    "duration": 4,
    "start_time": "2023-04-23T09:40:07.494Z"
   },
   {
    "duration": 138,
    "start_time": "2023-04-23T09:40:07.500Z"
   },
   {
    "duration": 50,
    "start_time": "2023-04-23T09:40:07.641Z"
   },
   {
    "duration": 9,
    "start_time": "2023-04-23T09:40:07.694Z"
   },
   {
    "duration": 21,
    "start_time": "2023-04-23T09:40:07.706Z"
   },
   {
    "duration": 10,
    "start_time": "2023-04-23T09:40:07.728Z"
   },
   {
    "duration": 49,
    "start_time": "2023-04-23T09:40:07.740Z"
   },
   {
    "duration": 7,
    "start_time": "2023-04-23T09:40:07.791Z"
   },
   {
    "duration": 34,
    "start_time": "2023-04-23T09:40:07.801Z"
   },
   {
    "duration": 28,
    "start_time": "2023-04-23T09:40:11.970Z"
   },
   {
    "duration": 73,
    "start_time": "2023-04-23T09:40:57.107Z"
   },
   {
    "duration": 14,
    "start_time": "2023-04-23T09:41:03.203Z"
   },
   {
    "duration": 12,
    "start_time": "2023-04-23T09:41:09.302Z"
   },
   {
    "duration": 13,
    "start_time": "2023-04-23T09:41:12.671Z"
   },
   {
    "duration": 13,
    "start_time": "2023-04-23T09:41:15.033Z"
   },
   {
    "duration": 44,
    "start_time": "2023-04-23T09:41:21.283Z"
   },
   {
    "duration": 2314,
    "start_time": "2023-04-23T09:42:12.206Z"
   },
   {
    "duration": 3,
    "start_time": "2023-04-23T09:42:14.523Z"
   },
   {
    "duration": 165,
    "start_time": "2023-04-23T09:42:14.528Z"
   },
   {
    "duration": 50,
    "start_time": "2023-04-23T09:42:14.695Z"
   },
   {
    "duration": 10,
    "start_time": "2023-04-23T09:42:14.747Z"
   },
   {
    "duration": 37,
    "start_time": "2023-04-23T09:42:14.759Z"
   },
   {
    "duration": 8,
    "start_time": "2023-04-23T09:42:14.799Z"
   },
   {
    "duration": 16,
    "start_time": "2023-04-23T09:42:14.810Z"
   },
   {
    "duration": 13,
    "start_time": "2023-04-23T09:42:14.828Z"
   },
   {
    "duration": 55,
    "start_time": "2023-04-23T09:42:14.844Z"
   },
   {
    "duration": 7,
    "start_time": "2023-04-23T09:42:14.901Z"
   },
   {
    "duration": 22,
    "start_time": "2023-04-23T09:42:14.910Z"
   },
   {
    "duration": 10,
    "start_time": "2023-04-23T09:42:14.935Z"
   },
   {
    "duration": 14,
    "start_time": "2023-04-23T09:42:14.947Z"
   },
   {
    "duration": 18,
    "start_time": "2023-04-23T09:42:14.988Z"
   },
   {
    "duration": 32,
    "start_time": "2023-04-23T09:42:15.009Z"
   },
   {
    "duration": 20,
    "start_time": "2023-04-23T09:42:15.043Z"
   },
   {
    "duration": 126,
    "start_time": "2023-04-23T09:42:15.065Z"
   },
   {
    "duration": 11,
    "start_time": "2023-04-23T09:42:15.194Z"
   },
   {
    "duration": 20,
    "start_time": "2023-04-23T09:42:15.207Z"
   },
   {
    "duration": 34,
    "start_time": "2023-04-23T09:42:15.229Z"
   },
   {
    "duration": 22,
    "start_time": "2023-04-23T09:42:15.265Z"
   },
   {
    "duration": 82,
    "start_time": "2023-04-23T09:42:15.289Z"
   },
   {
    "duration": 18,
    "start_time": "2023-04-23T09:42:15.373Z"
   },
   {
    "duration": 2300,
    "start_time": "2023-04-23T09:42:24.735Z"
   },
   {
    "duration": 4,
    "start_time": "2023-04-23T09:42:27.038Z"
   },
   {
    "duration": 137,
    "start_time": "2023-04-23T09:42:27.044Z"
   },
   {
    "duration": 54,
    "start_time": "2023-04-23T09:42:27.183Z"
   },
   {
    "duration": 10,
    "start_time": "2023-04-23T09:42:27.240Z"
   },
   {
    "duration": 19,
    "start_time": "2023-04-23T09:42:27.252Z"
   },
   {
    "duration": 36,
    "start_time": "2023-04-23T09:42:27.273Z"
   },
   {
    "duration": 17,
    "start_time": "2023-04-23T09:42:27.311Z"
   },
   {
    "duration": 10,
    "start_time": "2023-04-23T09:42:27.330Z"
   },
   {
    "duration": 29,
    "start_time": "2023-04-23T09:42:27.342Z"
   },
   {
    "duration": 7,
    "start_time": "2023-04-23T09:42:27.373Z"
   },
   {
    "duration": 19,
    "start_time": "2023-04-23T09:42:27.387Z"
   },
   {
    "duration": 38,
    "start_time": "2023-04-23T09:42:27.408Z"
   },
   {
    "duration": 11,
    "start_time": "2023-04-23T09:42:27.449Z"
   },
   {
    "duration": 22,
    "start_time": "2023-04-23T09:42:27.462Z"
   },
   {
    "duration": 5,
    "start_time": "2023-04-23T09:42:27.486Z"
   },
   {
    "duration": 25,
    "start_time": "2023-04-23T09:42:27.493Z"
   },
   {
    "duration": 117,
    "start_time": "2023-04-23T09:42:27.520Z"
   },
   {
    "duration": 11,
    "start_time": "2023-04-23T09:42:27.639Z"
   },
   {
    "duration": 10,
    "start_time": "2023-04-23T09:42:27.651Z"
   },
   {
    "duration": 52,
    "start_time": "2023-04-23T09:42:27.663Z"
   },
   {
    "duration": 4,
    "start_time": "2023-04-23T09:42:27.717Z"
   },
   {
    "duration": 3,
    "start_time": "2023-04-23T09:42:28.859Z"
   },
   {
    "duration": 65,
    "start_time": "2023-04-23T09:42:29.202Z"
   },
   {
    "duration": 17,
    "start_time": "2023-04-23T09:44:07.121Z"
   },
   {
    "duration": 34,
    "start_time": "2023-04-23T09:45:21.102Z"
   },
   {
    "duration": 20,
    "start_time": "2023-04-23T09:45:29.349Z"
   },
   {
    "duration": 16,
    "start_time": "2023-04-23T09:49:36.519Z"
   },
   {
    "duration": 9,
    "start_time": "2023-04-23T09:49:55.264Z"
   },
   {
    "duration": 2441,
    "start_time": "2023-04-23T09:50:34.467Z"
   },
   {
    "duration": 4,
    "start_time": "2023-04-23T09:50:36.912Z"
   },
   {
    "duration": 150,
    "start_time": "2023-04-23T09:50:36.918Z"
   },
   {
    "duration": 58,
    "start_time": "2023-04-23T09:50:37.070Z"
   },
   {
    "duration": 12,
    "start_time": "2023-04-23T09:50:37.132Z"
   },
   {
    "duration": 35,
    "start_time": "2023-04-23T09:50:37.146Z"
   },
   {
    "duration": 11,
    "start_time": "2023-04-23T09:50:37.184Z"
   },
   {
    "duration": 24,
    "start_time": "2023-04-23T09:50:37.197Z"
   },
   {
    "duration": 18,
    "start_time": "2023-04-23T09:50:37.223Z"
   },
   {
    "duration": 51,
    "start_time": "2023-04-23T09:50:37.243Z"
   },
   {
    "duration": 11,
    "start_time": "2023-04-23T09:50:37.296Z"
   },
   {
    "duration": 34,
    "start_time": "2023-04-23T09:50:37.309Z"
   },
   {
    "duration": 16,
    "start_time": "2023-04-23T09:50:37.345Z"
   },
   {
    "duration": 17,
    "start_time": "2023-04-23T09:50:37.365Z"
   },
   {
    "duration": 20,
    "start_time": "2023-04-23T09:50:37.388Z"
   },
   {
    "duration": 7,
    "start_time": "2023-04-23T09:50:37.411Z"
   },
   {
    "duration": 21,
    "start_time": "2023-04-23T09:50:37.420Z"
   },
   {
    "duration": 135,
    "start_time": "2023-04-23T09:50:37.443Z"
   },
   {
    "duration": 12,
    "start_time": "2023-04-23T09:50:37.580Z"
   },
   {
    "duration": 15,
    "start_time": "2023-04-23T09:50:37.594Z"
   },
   {
    "duration": 11,
    "start_time": "2023-04-23T09:50:37.612Z"
   },
   {
    "duration": 61,
    "start_time": "2023-04-23T09:50:37.626Z"
   },
   {
    "duration": 4,
    "start_time": "2023-04-23T09:50:37.690Z"
   },
   {
    "duration": 75,
    "start_time": "2023-04-23T09:50:37.696Z"
   },
   {
    "duration": 21,
    "start_time": "2023-04-23T09:50:37.773Z"
   },
   {
    "duration": 7,
    "start_time": "2023-04-23T09:50:38.575Z"
   },
   {
    "duration": 21,
    "start_time": "2023-04-23T09:50:39.052Z"
   },
   {
    "duration": 2295,
    "start_time": "2023-04-23T09:50:53.456Z"
   },
   {
    "duration": 4,
    "start_time": "2023-04-23T09:50:55.754Z"
   },
   {
    "duration": 135,
    "start_time": "2023-04-23T09:50:55.760Z"
   },
   {
    "duration": 50,
    "start_time": "2023-04-23T09:50:55.898Z"
   },
   {
    "duration": 10,
    "start_time": "2023-04-23T09:50:55.950Z"
   },
   {
    "duration": 27,
    "start_time": "2023-04-23T09:50:55.963Z"
   },
   {
    "duration": 10,
    "start_time": "2023-04-23T09:50:55.993Z"
   },
   {
    "duration": 11,
    "start_time": "2023-04-23T09:50:56.004Z"
   },
   {
    "duration": 14,
    "start_time": "2023-04-23T09:50:56.017Z"
   },
   {
    "duration": 34,
    "start_time": "2023-04-23T09:50:56.034Z"
   },
   {
    "duration": 23,
    "start_time": "2023-04-23T09:50:56.070Z"
   },
   {
    "duration": 22,
    "start_time": "2023-04-23T09:50:56.095Z"
   },
   {
    "duration": 25,
    "start_time": "2023-04-23T09:50:56.119Z"
   },
   {
    "duration": 11,
    "start_time": "2023-04-23T09:50:56.146Z"
   },
   {
    "duration": 20,
    "start_time": "2023-04-23T09:50:56.159Z"
   },
   {
    "duration": 5,
    "start_time": "2023-04-23T09:50:56.188Z"
   },
   {
    "duration": 14,
    "start_time": "2023-04-23T09:50:56.194Z"
   },
   {
    "duration": 128,
    "start_time": "2023-04-23T09:50:56.210Z"
   },
   {
    "duration": 10,
    "start_time": "2023-04-23T09:50:56.340Z"
   },
   {
    "duration": 16,
    "start_time": "2023-04-23T09:50:56.352Z"
   },
   {
    "duration": 17,
    "start_time": "2023-04-23T09:50:56.370Z"
   },
   {
    "duration": 30,
    "start_time": "2023-04-23T09:50:56.389Z"
   },
   {
    "duration": 10,
    "start_time": "2023-04-23T09:50:56.421Z"
   },
   {
    "duration": 91,
    "start_time": "2023-04-23T09:50:56.433Z"
   },
   {
    "duration": 8,
    "start_time": "2023-04-23T09:50:56.527Z"
   },
   {
    "duration": 6,
    "start_time": "2023-04-23T09:50:58.731Z"
   },
   {
    "duration": 2389,
    "start_time": "2023-04-23T09:51:34.874Z"
   },
   {
    "duration": 4,
    "start_time": "2023-04-23T09:51:37.266Z"
   },
   {
    "duration": 132,
    "start_time": "2023-04-23T09:51:37.272Z"
   },
   {
    "duration": 50,
    "start_time": "2023-04-23T09:51:37.406Z"
   },
   {
    "duration": 10,
    "start_time": "2023-04-23T09:51:37.458Z"
   },
   {
    "duration": 25,
    "start_time": "2023-04-23T09:51:37.471Z"
   },
   {
    "duration": 9,
    "start_time": "2023-04-23T09:51:37.498Z"
   },
   {
    "duration": 9,
    "start_time": "2023-04-23T09:51:37.509Z"
   },
   {
    "duration": 14,
    "start_time": "2023-04-23T09:51:37.519Z"
   },
   {
    "duration": 53,
    "start_time": "2023-04-23T09:51:37.535Z"
   },
   {
    "duration": 8,
    "start_time": "2023-04-23T09:51:37.590Z"
   },
   {
    "duration": 22,
    "start_time": "2023-04-23T09:51:37.599Z"
   },
   {
    "duration": 6,
    "start_time": "2023-04-23T09:51:37.623Z"
   },
   {
    "duration": 12,
    "start_time": "2023-04-23T09:51:37.633Z"
   },
   {
    "duration": 50,
    "start_time": "2023-04-23T09:51:37.647Z"
   },
   {
    "duration": 5,
    "start_time": "2023-04-23T09:51:37.699Z"
   },
   {
    "duration": 42,
    "start_time": "2023-04-23T09:51:37.706Z"
   },
   {
    "duration": 109,
    "start_time": "2023-04-23T09:51:37.750Z"
   },
   {
    "duration": 11,
    "start_time": "2023-04-23T09:51:37.861Z"
   },
   {
    "duration": 44,
    "start_time": "2023-04-23T09:51:37.874Z"
   },
   {
    "duration": 35,
    "start_time": "2023-04-23T09:51:37.919Z"
   },
   {
    "duration": 41,
    "start_time": "2023-04-23T09:51:37.955Z"
   },
   {
    "duration": 14,
    "start_time": "2023-04-23T09:51:37.998Z"
   },
   {
    "duration": 84,
    "start_time": "2023-04-23T09:51:38.015Z"
   },
   {
    "duration": 7,
    "start_time": "2023-04-23T09:51:38.101Z"
   },
   {
    "duration": 7,
    "start_time": "2023-04-23T09:51:39.169Z"
   },
   {
    "duration": 30,
    "start_time": "2023-04-23T09:51:39.706Z"
   },
   {
    "duration": 32,
    "start_time": "2023-04-23T10:30:54.921Z"
   },
   {
    "duration": 17,
    "start_time": "2023-04-23T10:36:08.713Z"
   },
   {
    "duration": 17,
    "start_time": "2023-04-23T10:36:47.359Z"
   },
   {
    "duration": 14,
    "start_time": "2023-04-23T10:36:56.268Z"
   },
   {
    "duration": 18,
    "start_time": "2023-04-23T10:37:06.524Z"
   },
   {
    "duration": 20,
    "start_time": "2023-04-23T10:38:05.854Z"
   },
   {
    "duration": 15,
    "start_time": "2023-04-23T10:39:00.339Z"
   },
   {
    "duration": 45,
    "start_time": "2023-04-23T10:39:07.160Z"
   },
   {
    "duration": 18,
    "start_time": "2023-04-23T10:44:36.980Z"
   },
   {
    "duration": 22,
    "start_time": "2023-04-23T10:45:02.422Z"
   },
   {
    "duration": 6,
    "start_time": "2023-04-23T10:45:34.025Z"
   },
   {
    "duration": 5,
    "start_time": "2023-04-23T10:45:40.181Z"
   },
   {
    "duration": 8,
    "start_time": "2023-04-23T10:47:50.520Z"
   },
   {
    "duration": 7,
    "start_time": "2023-04-23T10:48:43.366Z"
   },
   {
    "duration": 11,
    "start_time": "2023-04-23T10:49:06.058Z"
   },
   {
    "duration": 6,
    "start_time": "2023-04-23T10:49:13.133Z"
   },
   {
    "duration": 7,
    "start_time": "2023-04-23T10:49:22.624Z"
   },
   {
    "duration": 9,
    "start_time": "2023-04-23T10:49:58.744Z"
   },
   {
    "duration": 23,
    "start_time": "2023-04-23T10:50:34.279Z"
   },
   {
    "duration": 19,
    "start_time": "2023-04-23T10:50:39.360Z"
   },
   {
    "duration": 23,
    "start_time": "2023-04-23T10:51:24.116Z"
   },
   {
    "duration": 19,
    "start_time": "2023-04-23T10:51:36.223Z"
   },
   {
    "duration": 32,
    "start_time": "2023-04-23T10:51:45.081Z"
   },
   {
    "duration": 26,
    "start_time": "2023-04-23T10:52:36.575Z"
   },
   {
    "duration": 20,
    "start_time": "2023-04-23T10:56:27.013Z"
   },
   {
    "duration": 22,
    "start_time": "2023-04-23T10:56:40.271Z"
   },
   {
    "duration": 16,
    "start_time": "2023-04-23T10:57:05.030Z"
   },
   {
    "duration": 22,
    "start_time": "2023-04-23T10:57:12.429Z"
   },
   {
    "duration": 18,
    "start_time": "2023-04-23T10:57:20.127Z"
   },
   {
    "duration": 23,
    "start_time": "2023-04-23T10:58:21.836Z"
   },
   {
    "duration": 8,
    "start_time": "2023-04-23T11:23:24.658Z"
   },
   {
    "duration": 9,
    "start_time": "2023-04-23T11:23:41.661Z"
   },
   {
    "duration": 14,
    "start_time": "2023-04-23T11:37:05.454Z"
   },
   {
    "duration": 21,
    "start_time": "2023-04-23T11:42:00.948Z"
   },
   {
    "duration": 13,
    "start_time": "2023-04-23T11:44:02.825Z"
   },
   {
    "duration": 7,
    "start_time": "2023-04-23T11:44:36.128Z"
   },
   {
    "duration": 6,
    "start_time": "2023-04-23T11:44:49.221Z"
   },
   {
    "duration": 2504,
    "start_time": "2023-04-23T11:45:40.217Z"
   },
   {
    "duration": 3,
    "start_time": "2023-04-23T11:45:42.724Z"
   },
   {
    "duration": 150,
    "start_time": "2023-04-23T11:45:42.729Z"
   },
   {
    "duration": 60,
    "start_time": "2023-04-23T11:45:42.890Z"
   },
   {
    "duration": 10,
    "start_time": "2023-04-23T11:45:42.953Z"
   },
   {
    "duration": 55,
    "start_time": "2023-04-23T11:45:42.966Z"
   },
   {
    "duration": 45,
    "start_time": "2023-04-23T11:45:43.023Z"
   },
   {
    "duration": 17,
    "start_time": "2023-04-23T11:45:43.070Z"
   },
   {
    "duration": 30,
    "start_time": "2023-04-23T11:45:43.089Z"
   },
   {
    "duration": 42,
    "start_time": "2023-04-23T11:45:43.120Z"
   },
   {
    "duration": 8,
    "start_time": "2023-04-23T11:45:43.163Z"
   },
   {
    "duration": 26,
    "start_time": "2023-04-23T11:45:43.173Z"
   },
   {
    "duration": 27,
    "start_time": "2023-04-23T11:45:43.202Z"
   },
   {
    "duration": 23,
    "start_time": "2023-04-23T11:45:43.235Z"
   },
   {
    "duration": 44,
    "start_time": "2023-04-23T11:45:43.261Z"
   },
   {
    "duration": 37,
    "start_time": "2023-04-23T11:45:43.308Z"
   },
   {
    "duration": 39,
    "start_time": "2023-04-23T11:45:43.347Z"
   },
   {
    "duration": 146,
    "start_time": "2023-04-23T11:45:43.388Z"
   },
   {
    "duration": 11,
    "start_time": "2023-04-23T11:45:43.536Z"
   },
   {
    "duration": 27,
    "start_time": "2023-04-23T11:45:43.549Z"
   },
   {
    "duration": 32,
    "start_time": "2023-04-23T11:45:43.578Z"
   },
   {
    "duration": 33,
    "start_time": "2023-04-23T11:45:43.611Z"
   },
   {
    "duration": 10,
    "start_time": "2023-04-23T11:45:43.646Z"
   },
   {
    "duration": 87,
    "start_time": "2023-04-23T11:45:43.657Z"
   },
   {
    "duration": 6,
    "start_time": "2023-04-23T11:45:43.746Z"
   },
   {
    "duration": 16,
    "start_time": "2023-04-23T11:45:43.754Z"
   },
   {
    "duration": 36,
    "start_time": "2023-04-23T11:45:43.772Z"
   },
   {
    "duration": 19,
    "start_time": "2023-04-23T11:45:43.810Z"
   },
   {
    "duration": 6,
    "start_time": "2023-04-23T11:45:43.830Z"
   },
   {
    "duration": 58,
    "start_time": "2023-04-23T11:45:43.839Z"
   },
   {
    "duration": 14,
    "start_time": "2023-04-23T11:45:55.156Z"
   },
   {
    "duration": 2450,
    "start_time": "2023-04-23T11:46:22.336Z"
   },
   {
    "duration": 8,
    "start_time": "2023-04-23T11:46:24.789Z"
   },
   {
    "duration": 165,
    "start_time": "2023-04-23T11:46:24.803Z"
   },
   {
    "duration": 58,
    "start_time": "2023-04-23T11:46:24.971Z"
   },
   {
    "duration": 11,
    "start_time": "2023-04-23T11:46:25.032Z"
   },
   {
    "duration": 59,
    "start_time": "2023-04-23T11:46:25.045Z"
   },
   {
    "duration": 39,
    "start_time": "2023-04-23T11:46:25.107Z"
   },
   {
    "duration": 30,
    "start_time": "2023-04-23T11:46:25.148Z"
   },
   {
    "duration": 39,
    "start_time": "2023-04-23T11:46:25.180Z"
   },
   {
    "duration": 59,
    "start_time": "2023-04-23T11:46:25.221Z"
   },
   {
    "duration": 8,
    "start_time": "2023-04-23T11:46:25.282Z"
   },
   {
    "duration": 38,
    "start_time": "2023-04-23T11:46:25.294Z"
   },
   {
    "duration": 24,
    "start_time": "2023-04-23T11:46:25.334Z"
   },
   {
    "duration": 24,
    "start_time": "2023-04-23T11:46:25.362Z"
   },
   {
    "duration": 34,
    "start_time": "2023-04-23T11:46:25.394Z"
   },
   {
    "duration": 7,
    "start_time": "2023-04-23T11:46:25.430Z"
   },
   {
    "duration": 12,
    "start_time": "2023-04-23T11:46:25.439Z"
   },
   {
    "duration": 132,
    "start_time": "2023-04-23T11:46:25.453Z"
   },
   {
    "duration": 20,
    "start_time": "2023-04-23T11:46:25.587Z"
   },
   {
    "duration": 24,
    "start_time": "2023-04-23T11:46:25.610Z"
   },
   {
    "duration": 6,
    "start_time": "2023-04-23T11:46:25.636Z"
   },
   {
    "duration": 139,
    "start_time": "2023-04-23T11:46:25.644Z"
   },
   {
    "duration": 14,
    "start_time": "2023-04-23T11:46:25.785Z"
   },
   {
    "duration": 92,
    "start_time": "2023-04-23T11:46:25.806Z"
   },
   {
    "duration": 9,
    "start_time": "2023-04-23T11:46:25.901Z"
   },
   {
    "duration": 10,
    "start_time": "2023-04-23T11:46:27.831Z"
   },
   {
    "duration": 34,
    "start_time": "2023-04-23T11:46:33.977Z"
   },
   {
    "duration": 24,
    "start_time": "2023-04-23T11:46:40.656Z"
   },
   {
    "duration": 6,
    "start_time": "2023-04-23T11:46:41.326Z"
   },
   {
    "duration": 9,
    "start_time": "2023-04-23T11:46:42.863Z"
   },
   {
    "duration": 7,
    "start_time": "2023-04-23T11:46:47.050Z"
   },
   {
    "duration": 6,
    "start_time": "2023-04-23T11:46:56.531Z"
   },
   {
    "duration": 9,
    "start_time": "2023-04-23T11:47:08.732Z"
   },
   {
    "duration": 7,
    "start_time": "2023-04-23T11:47:18.333Z"
   },
   {
    "duration": 24,
    "start_time": "2023-04-23T11:48:33.468Z"
   },
   {
    "duration": 18,
    "start_time": "2023-04-23T11:48:43.987Z"
   },
   {
    "duration": 13,
    "start_time": "2023-04-23T11:49:14.531Z"
   },
   {
    "duration": 18,
    "start_time": "2023-04-23T11:49:16.314Z"
   },
   {
    "duration": 294,
    "start_time": "2023-04-23T11:49:38.588Z"
   },
   {
    "duration": 26,
    "start_time": "2023-04-23T11:49:39.324Z"
   },
   {
    "duration": 2580,
    "start_time": "2023-04-23T11:49:44.127Z"
   },
   {
    "duration": 4,
    "start_time": "2023-04-23T11:49:46.709Z"
   },
   {
    "duration": 176,
    "start_time": "2023-04-23T11:49:46.714Z"
   },
   {
    "duration": 53,
    "start_time": "2023-04-23T11:49:46.894Z"
   },
   {
    "duration": 14,
    "start_time": "2023-04-23T11:49:46.950Z"
   },
   {
    "duration": 38,
    "start_time": "2023-04-23T11:49:46.966Z"
   },
   {
    "duration": 33,
    "start_time": "2023-04-23T11:49:47.007Z"
   },
   {
    "duration": 16,
    "start_time": "2023-04-23T11:49:47.043Z"
   },
   {
    "duration": 25,
    "start_time": "2023-04-23T11:49:47.061Z"
   },
   {
    "duration": 77,
    "start_time": "2023-04-23T11:49:47.090Z"
   },
   {
    "duration": 8,
    "start_time": "2023-04-23T11:49:47.170Z"
   },
   {
    "duration": 42,
    "start_time": "2023-04-23T11:49:47.180Z"
   },
   {
    "duration": 36,
    "start_time": "2023-04-23T11:49:47.224Z"
   },
   {
    "duration": 42,
    "start_time": "2023-04-23T11:49:47.264Z"
   },
   {
    "duration": 33,
    "start_time": "2023-04-23T11:49:47.308Z"
   },
   {
    "duration": 16,
    "start_time": "2023-04-23T11:49:47.344Z"
   },
   {
    "duration": 34,
    "start_time": "2023-04-23T11:49:47.362Z"
   },
   {
    "duration": 124,
    "start_time": "2023-04-23T11:49:47.402Z"
   },
   {
    "duration": 12,
    "start_time": "2023-04-23T11:49:47.528Z"
   },
   {
    "duration": 73,
    "start_time": "2023-04-23T11:49:47.542Z"
   },
   {
    "duration": 46,
    "start_time": "2023-04-23T11:49:47.618Z"
   },
   {
    "duration": 79,
    "start_time": "2023-04-23T11:49:47.666Z"
   },
   {
    "duration": 14,
    "start_time": "2023-04-23T11:49:47.747Z"
   },
   {
    "duration": 89,
    "start_time": "2023-04-23T11:49:47.763Z"
   },
   {
    "duration": 8,
    "start_time": "2023-04-23T11:49:47.854Z"
   },
   {
    "duration": 50,
    "start_time": "2023-04-23T11:49:47.865Z"
   },
   {
    "duration": 26,
    "start_time": "2023-04-23T11:49:47.917Z"
   },
   {
    "duration": 33,
    "start_time": "2023-04-23T11:49:47.946Z"
   },
   {
    "duration": 38,
    "start_time": "2023-04-23T11:49:47.981Z"
   },
   {
    "duration": 27,
    "start_time": "2023-04-23T11:49:48.021Z"
   },
   {
    "duration": 22,
    "start_time": "2023-04-23T11:49:48.050Z"
   },
   {
    "duration": 13,
    "start_time": "2023-04-23T11:49:49.366Z"
   },
   {
    "duration": 22,
    "start_time": "2023-04-23T11:49:51.267Z"
   },
   {
    "duration": 2468,
    "start_time": "2023-04-23T11:50:25.865Z"
   },
   {
    "duration": 3,
    "start_time": "2023-04-23T11:50:28.337Z"
   },
   {
    "duration": 151,
    "start_time": "2023-04-23T11:50:28.342Z"
   },
   {
    "duration": 53,
    "start_time": "2023-04-23T11:50:28.495Z"
   },
   {
    "duration": 13,
    "start_time": "2023-04-23T11:50:28.550Z"
   },
   {
    "duration": 32,
    "start_time": "2023-04-23T11:50:28.565Z"
   },
   {
    "duration": 12,
    "start_time": "2023-04-23T11:50:28.599Z"
   },
   {
    "duration": 22,
    "start_time": "2023-04-23T11:50:28.613Z"
   },
   {
    "duration": 23,
    "start_time": "2023-04-23T11:50:28.637Z"
   },
   {
    "duration": 69,
    "start_time": "2023-04-23T11:50:28.664Z"
   },
   {
    "duration": 9,
    "start_time": "2023-04-23T11:50:28.735Z"
   },
   {
    "duration": 20,
    "start_time": "2023-04-23T11:50:28.746Z"
   },
   {
    "duration": 29,
    "start_time": "2023-04-23T11:50:28.768Z"
   },
   {
    "duration": 33,
    "start_time": "2023-04-23T11:50:28.800Z"
   },
   {
    "duration": 41,
    "start_time": "2023-04-23T11:50:28.835Z"
   },
   {
    "duration": 7,
    "start_time": "2023-04-23T11:50:28.879Z"
   },
   {
    "duration": 39,
    "start_time": "2023-04-23T11:50:28.892Z"
   },
   {
    "duration": 133,
    "start_time": "2023-04-23T11:50:28.933Z"
   },
   {
    "duration": 11,
    "start_time": "2023-04-23T11:50:29.068Z"
   },
   {
    "duration": 20,
    "start_time": "2023-04-23T11:50:29.081Z"
   },
   {
    "duration": 14,
    "start_time": "2023-04-23T11:50:29.103Z"
   },
   {
    "duration": 31,
    "start_time": "2023-04-23T11:50:29.120Z"
   },
   {
    "duration": 4,
    "start_time": "2023-04-23T11:50:29.153Z"
   },
   {
    "duration": 89,
    "start_time": "2023-04-23T11:50:29.190Z"
   },
   {
    "duration": 13,
    "start_time": "2023-04-23T11:50:29.281Z"
   },
   {
    "duration": 35,
    "start_time": "2023-04-23T11:50:29.295Z"
   },
   {
    "duration": 20,
    "start_time": "2023-04-23T11:50:29.332Z"
   },
   {
    "duration": 30,
    "start_time": "2023-04-23T11:50:29.357Z"
   },
   {
    "duration": 23,
    "start_time": "2023-04-23T11:50:29.398Z"
   },
   {
    "duration": 14,
    "start_time": "2023-04-23T11:50:29.423Z"
   },
   {
    "duration": 29,
    "start_time": "2023-04-23T11:50:29.439Z"
   },
   {
    "duration": 12,
    "start_time": "2023-04-23T11:50:31.043Z"
   },
   {
    "duration": 2490,
    "start_time": "2023-04-23T11:50:52.768Z"
   },
   {
    "duration": 3,
    "start_time": "2023-04-23T11:50:55.261Z"
   },
   {
    "duration": 152,
    "start_time": "2023-04-23T11:50:55.266Z"
   },
   {
    "duration": 86,
    "start_time": "2023-04-23T11:50:55.420Z"
   },
   {
    "duration": 17,
    "start_time": "2023-04-23T11:50:55.508Z"
   },
   {
    "duration": 34,
    "start_time": "2023-04-23T11:50:55.527Z"
   },
   {
    "duration": 9,
    "start_time": "2023-04-23T11:50:55.564Z"
   },
   {
    "duration": 54,
    "start_time": "2023-04-23T11:50:55.575Z"
   },
   {
    "duration": 34,
    "start_time": "2023-04-23T11:50:55.631Z"
   },
   {
    "duration": 56,
    "start_time": "2023-04-23T11:50:55.668Z"
   },
   {
    "duration": 9,
    "start_time": "2023-04-23T11:50:55.726Z"
   },
   {
    "duration": 24,
    "start_time": "2023-04-23T11:50:55.737Z"
   },
   {
    "duration": 51,
    "start_time": "2023-04-23T11:50:55.763Z"
   },
   {
    "duration": 18,
    "start_time": "2023-04-23T11:50:55.816Z"
   },
   {
    "duration": 39,
    "start_time": "2023-04-23T11:50:55.836Z"
   },
   {
    "duration": 25,
    "start_time": "2023-04-23T11:50:55.878Z"
   },
   {
    "duration": 47,
    "start_time": "2023-04-23T11:50:55.915Z"
   },
   {
    "duration": 191,
    "start_time": "2023-04-23T11:50:55.964Z"
   },
   {
    "duration": 11,
    "start_time": "2023-04-23T11:50:56.157Z"
   },
   {
    "duration": 29,
    "start_time": "2023-04-23T11:50:56.170Z"
   },
   {
    "duration": 19,
    "start_time": "2023-04-23T11:50:56.202Z"
   },
   {
    "duration": 39,
    "start_time": "2023-04-23T11:50:56.223Z"
   },
   {
    "duration": 18,
    "start_time": "2023-04-23T11:50:59.826Z"
   },
   {
    "duration": 4,
    "start_time": "2023-04-23T11:51:24.568Z"
   },
   {
    "duration": 104,
    "start_time": "2023-04-23T11:51:24.805Z"
   },
   {
    "duration": 8,
    "start_time": "2023-04-23T11:51:25.043Z"
   },
   {
    "duration": 10,
    "start_time": "2023-04-23T11:51:25.899Z"
   },
   {
    "duration": 21,
    "start_time": "2023-04-23T11:51:30.145Z"
   },
   {
    "duration": 8,
    "start_time": "2023-04-23T11:51:38.126Z"
   },
   {
    "duration": 9,
    "start_time": "2023-04-23T11:51:43.281Z"
   },
   {
    "duration": 6,
    "start_time": "2023-04-23T11:51:47.657Z"
   },
   {
    "duration": 17,
    "start_time": "2023-04-23T11:51:50.726Z"
   },
   {
    "duration": 8,
    "start_time": "2023-04-23T11:51:54.668Z"
   },
   {
    "duration": 16,
    "start_time": "2023-04-23T11:51:55.831Z"
   },
   {
    "duration": 2499,
    "start_time": "2023-04-23T11:52:54.825Z"
   },
   {
    "duration": 4,
    "start_time": "2023-04-23T11:52:57.327Z"
   },
   {
    "duration": 166,
    "start_time": "2023-04-23T11:52:57.334Z"
   },
   {
    "duration": 60,
    "start_time": "2023-04-23T11:52:57.504Z"
   },
   {
    "duration": 15,
    "start_time": "2023-04-23T11:52:57.568Z"
   },
   {
    "duration": 50,
    "start_time": "2023-04-23T11:52:57.585Z"
   },
   {
    "duration": 11,
    "start_time": "2023-04-23T11:52:57.637Z"
   },
   {
    "duration": 13,
    "start_time": "2023-04-23T11:52:57.651Z"
   },
   {
    "duration": 27,
    "start_time": "2023-04-23T11:52:57.666Z"
   },
   {
    "duration": 54,
    "start_time": "2023-04-23T11:52:57.695Z"
   },
   {
    "duration": 16,
    "start_time": "2023-04-23T11:52:57.753Z"
   },
   {
    "duration": 23,
    "start_time": "2023-04-23T11:52:57.771Z"
   },
   {
    "duration": 27,
    "start_time": "2023-04-23T11:52:57.799Z"
   },
   {
    "duration": 6,
    "start_time": "2023-04-23T11:52:57.831Z"
   },
   {
    "duration": 33,
    "start_time": "2023-04-23T11:52:57.839Z"
   },
   {
    "duration": 22,
    "start_time": "2023-04-23T11:52:57.875Z"
   },
   {
    "duration": 31,
    "start_time": "2023-04-23T11:52:57.899Z"
   },
   {
    "duration": 204,
    "start_time": "2023-04-23T11:52:57.932Z"
   },
   {
    "duration": 18,
    "start_time": "2023-04-23T11:52:58.138Z"
   },
   {
    "duration": 71,
    "start_time": "2023-04-23T11:52:58.159Z"
   },
   {
    "duration": 29,
    "start_time": "2023-04-23T11:52:58.232Z"
   },
   {
    "duration": 84,
    "start_time": "2023-04-23T11:52:58.264Z"
   },
   {
    "duration": 86,
    "start_time": "2023-04-23T11:52:58.350Z"
   },
   {
    "duration": 5,
    "start_time": "2023-04-23T11:52:58.440Z"
   },
   {
    "duration": 127,
    "start_time": "2023-04-23T11:52:58.448Z"
   },
   {
    "duration": 20,
    "start_time": "2023-04-23T11:52:58.578Z"
   },
   {
    "duration": 62,
    "start_time": "2023-04-23T11:52:58.600Z"
   },
   {
    "duration": 38,
    "start_time": "2023-04-23T11:52:58.664Z"
   },
   {
    "duration": 25,
    "start_time": "2023-04-23T11:52:58.710Z"
   },
   {
    "duration": 27,
    "start_time": "2023-04-23T11:52:58.738Z"
   },
   {
    "duration": 28,
    "start_time": "2023-04-23T11:52:58.768Z"
   },
   {
    "duration": 43,
    "start_time": "2023-04-23T11:52:58.798Z"
   },
   {
    "duration": 12,
    "start_time": "2023-04-23T11:53:03.871Z"
   },
   {
    "duration": 21,
    "start_time": "2023-04-23T11:53:04.423Z"
   },
   {
    "duration": 24,
    "start_time": "2023-04-23T11:55:56.702Z"
   },
   {
    "duration": 37,
    "start_time": "2023-04-23T11:57:22.129Z"
   },
   {
    "duration": 4,
    "start_time": "2023-04-23T11:57:27.622Z"
   },
   {
    "duration": 2549,
    "start_time": "2023-04-23T11:57:59.159Z"
   },
   {
    "duration": 4,
    "start_time": "2023-04-23T11:58:01.711Z"
   },
   {
    "duration": 214,
    "start_time": "2023-04-23T11:58:01.717Z"
   },
   {
    "duration": 51,
    "start_time": "2023-04-23T11:58:01.933Z"
   },
   {
    "duration": 28,
    "start_time": "2023-04-23T11:58:01.987Z"
   },
   {
    "duration": 156,
    "start_time": "2023-04-23T11:58:02.017Z"
   },
   {
    "duration": 105,
    "start_time": "2023-04-23T11:58:02.175Z"
   },
   {
    "duration": 61,
    "start_time": "2023-04-23T11:58:02.282Z"
   },
   {
    "duration": 41,
    "start_time": "2023-04-23T11:58:02.345Z"
   },
   {
    "duration": 79,
    "start_time": "2023-04-23T11:58:02.388Z"
   },
   {
    "duration": 52,
    "start_time": "2023-04-23T11:58:02.469Z"
   },
   {
    "duration": 24,
    "start_time": "2023-04-23T11:58:02.524Z"
   },
   {
    "duration": 41,
    "start_time": "2023-04-23T11:58:02.550Z"
   },
   {
    "duration": 34,
    "start_time": "2023-04-23T11:58:02.604Z"
   },
   {
    "duration": 58,
    "start_time": "2023-04-23T11:58:02.640Z"
   },
   {
    "duration": 15,
    "start_time": "2023-04-23T11:58:02.702Z"
   },
   {
    "duration": 20,
    "start_time": "2023-04-23T11:58:02.718Z"
   },
   {
    "duration": 162,
    "start_time": "2023-04-23T11:58:02.740Z"
   },
   {
    "duration": 12,
    "start_time": "2023-04-23T11:58:02.903Z"
   },
   {
    "duration": 29,
    "start_time": "2023-04-23T11:58:02.917Z"
   },
   {
    "duration": 20,
    "start_time": "2023-04-23T11:58:02.947Z"
   },
   {
    "duration": 35,
    "start_time": "2023-04-23T11:58:02.969Z"
   },
   {
    "duration": 14,
    "start_time": "2023-04-23T11:58:03.006Z"
   },
   {
    "duration": 82,
    "start_time": "2023-04-23T11:58:03.022Z"
   },
   {
    "duration": 7,
    "start_time": "2023-04-23T11:58:03.106Z"
   },
   {
    "duration": 26,
    "start_time": "2023-04-23T11:58:03.115Z"
   },
   {
    "duration": 21,
    "start_time": "2023-04-23T11:58:03.143Z"
   },
   {
    "duration": 29,
    "start_time": "2023-04-23T11:58:03.166Z"
   },
   {
    "duration": 21,
    "start_time": "2023-04-23T11:58:03.197Z"
   },
   {
    "duration": 10,
    "start_time": "2023-04-23T11:58:03.220Z"
   },
   {
    "duration": 17,
    "start_time": "2023-04-23T11:58:03.233Z"
   },
   {
    "duration": 12,
    "start_time": "2023-04-23T11:58:03.252Z"
   },
   {
    "duration": 43,
    "start_time": "2023-04-23T11:58:03.266Z"
   },
   {
    "duration": 10,
    "start_time": "2023-04-23T11:58:03.310Z"
   },
   {
    "duration": 18,
    "start_time": "2023-04-23T11:58:03.322Z"
   },
   {
    "duration": 12,
    "start_time": "2023-04-23T11:58:03.342Z"
   },
   {
    "duration": 43,
    "start_time": "2023-04-23T11:58:03.355Z"
   },
   {
    "duration": 22,
    "start_time": "2023-04-23T11:58:03.399Z"
   },
   {
    "duration": 32,
    "start_time": "2023-04-23T11:58:03.423Z"
   },
   {
    "duration": 39,
    "start_time": "2023-04-23T11:58:03.458Z"
   },
   {
    "duration": 3,
    "start_time": "2023-04-23T11:58:12.650Z"
   },
   {
    "duration": 21,
    "start_time": "2023-04-23T11:58:13.429Z"
   },
   {
    "duration": 35,
    "start_time": "2023-04-23T11:58:14.925Z"
   },
   {
    "duration": 3,
    "start_time": "2023-04-23T11:58:25.065Z"
   },
   {
    "duration": 29,
    "start_time": "2023-04-23T12:00:32.286Z"
   },
   {
    "duration": 284,
    "start_time": "2023-04-23T12:08:38.424Z"
   },
   {
    "duration": 2515,
    "start_time": "2023-04-23T12:10:17.304Z"
   },
   {
    "duration": 11,
    "start_time": "2023-04-23T12:10:19.822Z"
   },
   {
    "duration": 181,
    "start_time": "2023-04-23T12:10:19.843Z"
   },
   {
    "duration": 54,
    "start_time": "2023-04-23T12:10:20.028Z"
   },
   {
    "duration": 24,
    "start_time": "2023-04-23T12:10:20.085Z"
   },
   {
    "duration": 35,
    "start_time": "2023-04-23T12:10:20.114Z"
   },
   {
    "duration": 10,
    "start_time": "2023-04-23T12:10:20.151Z"
   },
   {
    "duration": 27,
    "start_time": "2023-04-23T12:10:20.164Z"
   },
   {
    "duration": 40,
    "start_time": "2023-04-23T12:10:20.193Z"
   },
   {
    "duration": 41,
    "start_time": "2023-04-23T12:10:20.237Z"
   },
   {
    "duration": 19,
    "start_time": "2023-04-23T12:10:20.280Z"
   },
   {
    "duration": 36,
    "start_time": "2023-04-23T12:10:20.302Z"
   },
   {
    "duration": 38,
    "start_time": "2023-04-23T12:10:20.341Z"
   },
   {
    "duration": 49,
    "start_time": "2023-04-23T12:10:20.382Z"
   },
   {
    "duration": 26,
    "start_time": "2023-04-23T12:10:20.434Z"
   },
   {
    "duration": 10,
    "start_time": "2023-04-23T12:10:20.463Z"
   },
   {
    "duration": 58,
    "start_time": "2023-04-23T12:10:20.476Z"
   },
   {
    "duration": 186,
    "start_time": "2023-04-23T12:10:20.537Z"
   },
   {
    "duration": 17,
    "start_time": "2023-04-23T12:10:20.725Z"
   },
   {
    "duration": 86,
    "start_time": "2023-04-23T12:10:20.744Z"
   },
   {
    "duration": 48,
    "start_time": "2023-04-23T12:10:20.833Z"
   },
   {
    "duration": 99,
    "start_time": "2023-04-23T12:10:20.884Z"
   },
   {
    "duration": 70,
    "start_time": "2023-04-23T12:10:20.986Z"
   },
   {
    "duration": 109,
    "start_time": "2023-04-23T12:10:21.058Z"
   },
   {
    "duration": 6,
    "start_time": "2023-04-23T12:10:21.169Z"
   },
   {
    "duration": 19,
    "start_time": "2023-04-23T12:10:21.187Z"
   },
   {
    "duration": 40,
    "start_time": "2023-04-23T12:10:21.209Z"
   },
   {
    "duration": 37,
    "start_time": "2023-04-23T12:10:21.258Z"
   },
   {
    "duration": 39,
    "start_time": "2023-04-23T12:10:21.297Z"
   },
   {
    "duration": 31,
    "start_time": "2023-04-23T12:10:21.337Z"
   },
   {
    "duration": 44,
    "start_time": "2023-04-23T12:10:21.370Z"
   },
   {
    "duration": 16,
    "start_time": "2023-04-23T12:10:21.416Z"
   },
   {
    "duration": 73,
    "start_time": "2023-04-23T12:10:21.434Z"
   },
   {
    "duration": 16,
    "start_time": "2023-04-23T12:10:21.509Z"
   },
   {
    "duration": 28,
    "start_time": "2023-04-23T12:10:21.527Z"
   },
   {
    "duration": 54,
    "start_time": "2023-04-23T12:10:21.556Z"
   },
   {
    "duration": 34,
    "start_time": "2023-04-23T12:10:21.612Z"
   },
   {
    "duration": 25,
    "start_time": "2023-04-23T12:10:21.648Z"
   },
   {
    "duration": 65,
    "start_time": "2023-04-23T12:10:21.675Z"
   },
   {
    "duration": 7,
    "start_time": "2023-04-23T12:10:21.743Z"
   },
   {
    "duration": 56,
    "start_time": "2023-04-23T12:10:21.752Z"
   },
   {
    "duration": 47,
    "start_time": "2023-04-23T12:10:21.809Z"
   },
   {
    "duration": 5,
    "start_time": "2023-04-23T12:10:21.858Z"
   },
   {
    "duration": 40,
    "start_time": "2023-04-23T12:10:21.865Z"
   },
   {
    "duration": 30,
    "start_time": "2023-04-23T12:10:21.909Z"
   },
   {
    "duration": 108,
    "start_time": "2023-04-23T12:10:21.941Z"
   },
   {
    "duration": 10,
    "start_time": "2023-04-23T12:10:22.051Z"
   },
   {
    "duration": 48,
    "start_time": "2023-04-23T12:10:22.063Z"
   },
   {
    "duration": 35,
    "start_time": "2023-04-23T12:10:22.114Z"
   },
   {
    "duration": 59,
    "start_time": "2023-04-23T12:10:22.151Z"
   },
   {
    "duration": 187,
    "start_time": "2023-04-23T12:10:22.212Z"
   },
   {
    "duration": 5,
    "start_time": "2023-04-23T12:10:22.401Z"
   },
   {
    "duration": 202,
    "start_time": "2023-04-23T12:10:22.411Z"
   },
   {
    "duration": 232,
    "start_time": "2023-04-23T12:10:22.615Z"
   },
   {
    "duration": 58,
    "start_time": "2023-04-23T12:10:22.849Z"
   },
   {
    "duration": 405,
    "start_time": "2023-04-23T12:10:22.909Z"
   },
   {
    "duration": 407,
    "start_time": "2023-04-23T12:10:23.316Z"
   },
   {
    "duration": 49,
    "start_time": "2023-04-23T12:10:23.725Z"
   },
   {
    "duration": 0,
    "start_time": "2023-04-23T12:10:23.790Z"
   },
   {
    "duration": 0,
    "start_time": "2023-04-23T12:10:23.791Z"
   },
   {
    "duration": 0,
    "start_time": "2023-04-23T12:10:23.792Z"
   },
   {
    "duration": 0,
    "start_time": "2023-04-23T12:10:23.793Z"
   },
   {
    "duration": 0,
    "start_time": "2023-04-23T12:10:23.797Z"
   },
   {
    "duration": 0,
    "start_time": "2023-04-23T12:10:23.798Z"
   },
   {
    "duration": 0,
    "start_time": "2023-04-23T12:10:23.798Z"
   },
   {
    "duration": 0,
    "start_time": "2023-04-23T12:10:23.800Z"
   },
   {
    "duration": 0,
    "start_time": "2023-04-23T12:10:23.800Z"
   },
   {
    "duration": 0,
    "start_time": "2023-04-23T12:10:23.801Z"
   },
   {
    "duration": 0,
    "start_time": "2023-04-23T12:10:23.802Z"
   },
   {
    "duration": 0,
    "start_time": "2023-04-23T12:10:23.803Z"
   },
   {
    "duration": 0,
    "start_time": "2023-04-23T12:10:23.804Z"
   },
   {
    "duration": 0,
    "start_time": "2023-04-23T12:10:23.807Z"
   },
   {
    "duration": 0,
    "start_time": "2023-04-23T12:10:23.809Z"
   },
   {
    "duration": 0,
    "start_time": "2023-04-23T12:10:23.811Z"
   },
   {
    "duration": 0,
    "start_time": "2023-04-23T12:10:23.812Z"
   },
   {
    "duration": 0,
    "start_time": "2023-04-23T12:10:23.813Z"
   },
   {
    "duration": 0,
    "start_time": "2023-04-23T12:10:23.814Z"
   },
   {
    "duration": 21,
    "start_time": "2023-04-23T12:10:57.585Z"
   },
   {
    "duration": 2448,
    "start_time": "2023-04-23T12:12:09.967Z"
   },
   {
    "duration": 3,
    "start_time": "2023-04-23T12:12:12.418Z"
   },
   {
    "duration": 180,
    "start_time": "2023-04-23T12:12:12.423Z"
   },
   {
    "duration": 51,
    "start_time": "2023-04-23T12:12:12.605Z"
   },
   {
    "duration": 11,
    "start_time": "2023-04-23T12:12:12.658Z"
   },
   {
    "duration": 31,
    "start_time": "2023-04-23T12:12:12.671Z"
   },
   {
    "duration": 14,
    "start_time": "2023-04-23T12:12:12.704Z"
   },
   {
    "duration": 13,
    "start_time": "2023-04-23T12:12:12.719Z"
   },
   {
    "duration": 12,
    "start_time": "2023-04-23T12:12:12.734Z"
   },
   {
    "duration": 53,
    "start_time": "2023-04-23T12:12:12.748Z"
   },
   {
    "duration": 10,
    "start_time": "2023-04-23T12:12:12.803Z"
   },
   {
    "duration": 29,
    "start_time": "2023-04-23T12:12:12.815Z"
   },
   {
    "duration": 18,
    "start_time": "2023-04-23T12:12:12.846Z"
   },
   {
    "duration": 13,
    "start_time": "2023-04-23T12:12:12.868Z"
   },
   {
    "duration": 34,
    "start_time": "2023-04-23T12:12:12.883Z"
   },
   {
    "duration": 5,
    "start_time": "2023-04-23T12:12:12.920Z"
   },
   {
    "duration": 14,
    "start_time": "2023-04-23T12:12:12.927Z"
   },
   {
    "duration": 127,
    "start_time": "2023-04-23T12:12:12.944Z"
   },
   {
    "duration": 12,
    "start_time": "2023-04-23T12:12:13.073Z"
   },
   {
    "duration": 31,
    "start_time": "2023-04-23T12:12:13.094Z"
   },
   {
    "duration": 12,
    "start_time": "2023-04-23T12:12:13.127Z"
   },
   {
    "duration": 38,
    "start_time": "2023-04-23T12:12:13.141Z"
   },
   {
    "duration": 30,
    "start_time": "2023-04-23T12:12:13.181Z"
   },
   {
    "duration": 89,
    "start_time": "2023-04-23T12:12:13.214Z"
   },
   {
    "duration": 7,
    "start_time": "2023-04-23T12:12:13.305Z"
   },
   {
    "duration": 24,
    "start_time": "2023-04-23T12:12:13.315Z"
   },
   {
    "duration": 22,
    "start_time": "2023-04-23T12:12:13.341Z"
   },
   {
    "duration": 32,
    "start_time": "2023-04-23T12:12:13.365Z"
   },
   {
    "duration": 6,
    "start_time": "2023-04-23T12:12:13.399Z"
   },
   {
    "duration": 15,
    "start_time": "2023-04-23T12:12:13.406Z"
   },
   {
    "duration": 23,
    "start_time": "2023-04-23T12:12:13.423Z"
   },
   {
    "duration": 17,
    "start_time": "2023-04-23T12:12:13.448Z"
   },
   {
    "duration": 40,
    "start_time": "2023-04-23T12:12:13.467Z"
   },
   {
    "duration": 18,
    "start_time": "2023-04-23T12:12:13.510Z"
   },
   {
    "duration": 19,
    "start_time": "2023-04-23T12:12:13.530Z"
   },
   {
    "duration": 14,
    "start_time": "2023-04-23T12:12:13.551Z"
   },
   {
    "duration": 39,
    "start_time": "2023-04-23T12:12:13.567Z"
   },
   {
    "duration": 31,
    "start_time": "2023-04-23T12:12:13.608Z"
   },
   {
    "duration": 23,
    "start_time": "2023-04-23T12:12:13.641Z"
   },
   {
    "duration": 24,
    "start_time": "2023-04-23T12:12:13.665Z"
   },
   {
    "duration": 22,
    "start_time": "2023-04-23T12:12:13.698Z"
   },
   {
    "duration": 34,
    "start_time": "2023-04-23T12:12:13.722Z"
   },
   {
    "duration": 37,
    "start_time": "2023-04-23T12:12:13.758Z"
   },
   {
    "duration": 29,
    "start_time": "2023-04-23T12:12:13.803Z"
   },
   {
    "duration": 17,
    "start_time": "2023-04-23T12:12:13.835Z"
   },
   {
    "duration": 89,
    "start_time": "2023-04-23T12:12:13.855Z"
   },
   {
    "duration": 17,
    "start_time": "2023-04-23T12:12:13.946Z"
   },
   {
    "duration": 71,
    "start_time": "2023-04-23T12:12:13.965Z"
   },
   {
    "duration": 195,
    "start_time": "2023-04-23T12:12:14.038Z"
   },
   {
    "duration": 4,
    "start_time": "2023-04-23T12:12:14.235Z"
   },
   {
    "duration": 320,
    "start_time": "2023-04-23T12:12:14.241Z"
   },
   {
    "duration": 223,
    "start_time": "2023-04-23T12:12:14.563Z"
   },
   {
    "duration": 51,
    "start_time": "2023-04-23T12:12:14.789Z"
   },
   {
    "duration": 419,
    "start_time": "2023-04-23T12:12:14.843Z"
   },
   {
    "duration": 419,
    "start_time": "2023-04-23T12:12:15.264Z"
   },
   {
    "duration": 28,
    "start_time": "2023-04-23T12:12:15.686Z"
   },
   {
    "duration": 335,
    "start_time": "2023-04-23T12:12:15.717Z"
   },
   {
    "duration": 8,
    "start_time": "2023-04-23T12:12:16.054Z"
   },
   {
    "duration": 401,
    "start_time": "2023-04-23T12:12:16.064Z"
   },
   {
    "duration": 70,
    "start_time": "2023-04-23T12:12:16.467Z"
   },
   {
    "duration": 214,
    "start_time": "2023-04-23T12:12:16.539Z"
   },
   {
    "duration": 177,
    "start_time": "2023-04-23T12:12:16.755Z"
   },
   {
    "duration": 228,
    "start_time": "2023-04-23T12:12:16.935Z"
   },
   {
    "duration": 49,
    "start_time": "2023-04-23T12:12:17.165Z"
   },
   {
    "duration": 179,
    "start_time": "2023-04-23T12:12:17.216Z"
   },
   {
    "duration": 172,
    "start_time": "2023-04-23T12:12:17.403Z"
   },
   {
    "duration": 292,
    "start_time": "2023-04-23T12:12:17.577Z"
   },
   {
    "duration": 184,
    "start_time": "2023-04-23T12:12:17.871Z"
   },
   {
    "duration": 5,
    "start_time": "2023-04-23T12:12:18.057Z"
   },
   {
    "duration": 49,
    "start_time": "2023-04-23T12:12:18.064Z"
   },
   {
    "duration": 21,
    "start_time": "2023-04-23T12:12:18.114Z"
   },
   {
    "duration": 16,
    "start_time": "2023-04-23T12:12:18.137Z"
   },
   {
    "duration": 55,
    "start_time": "2023-04-23T12:12:18.155Z"
   },
   {
    "duration": 24,
    "start_time": "2023-04-23T12:12:18.212Z"
   },
   {
    "duration": 64,
    "start_time": "2023-04-23T12:12:18.238Z"
   },
   {
    "duration": 7,
    "start_time": "2023-04-23T12:12:18.306Z"
   },
   {
    "duration": 180,
    "start_time": "2023-04-23T12:46:29.937Z"
   },
   {
    "duration": 83,
    "start_time": "2023-04-24T05:04:37.135Z"
   }
  ],
  "colab": {
   "name": "DA+. Сборный проект 1. Шаблон (1).ipynb",
   "provenance": []
  },
  "kernelspec": {
   "display_name": "Python 3 (ipykernel)",
   "language": "python",
   "name": "python3"
  },
  "language_info": {
   "codemirror_mode": {
    "name": "ipython",
    "version": 3
   },
   "file_extension": ".py",
   "mimetype": "text/x-python",
   "name": "python",
   "nbconvert_exporter": "python",
   "pygments_lexer": "ipython3",
   "version": "3.9.5"
  },
  "toc": {
   "base_numbering": 1,
   "nav_menu": {},
   "number_sections": true,
   "sideBar": true,
   "skip_h1_title": true,
   "title_cell": "Table of Contents",
   "title_sidebar": "Contents",
   "toc_cell": false,
   "toc_position": {
    "height": "calc(100% - 180px)",
    "left": "10px",
    "top": "150px",
    "width": "375.391px"
   },
   "toc_section_display": true,
   "toc_window_display": false
  }
 },
 "nbformat": 4,
 "nbformat_minor": 1
}
