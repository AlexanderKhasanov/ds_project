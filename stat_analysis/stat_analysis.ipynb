{
 "cells": [
  {
   "cell_type": "markdown",
   "id": "57d5c0d0",
   "metadata": {},
   "source": [
    "<div style=\"border:solid steelblue 3px; padding: 20px; border-radius: 10px\">\n",
    "\n",
    "**Александр, привет!** 👋\n",
    "\n",
    "Меня зовут Алексей Манелюк, я буду проверять твой проект. В Яндекс Практикуме принято общаться на \"ты\" 😉, но если некомфортно - скажи и перейдем на \"Вы\".\n",
    "\n",
    "Моя цель - не указать на ошибки, а поделиться опытом и помочь в освоении анализа данных.\n",
    "\n",
    "В тетрадке ты увидишь мои комментарии, пожалуйста, не удаляй, не перемещай и не изменяй их. У комментариев могут быть приписки **V2**, **V3**, **V...**, которые соответствуют каждой версии проверки. \n",
    "    \n",
    "Я буду использовать цветовую разметку:\n",
    "<p>\n",
    "<div class=\"alert-danger\" style=\"padding: 20px; border-radius: 10px\">\n",
    "<b>Комментарий ревьюера ❌</b>\n",
    "\n",
    "Так выделены критические замечания. Без их отработки я не смогу принять проект. </div>\n",
    "\n",
    "<div class=\"alert-warning\" style=\"padding: 20px; border-radius: 10px\">\n",
    "<b>  Комментарий ревьюера ⚠️</b>\n",
    "\n",
    "Так выделены небольшие замечания или полезные советы. Постарайся учесть их.</div>\n",
    "<p>\n",
    "<div class=\"alert-success\" style=\"padding: 20px; border-radius: 10px\">\n",
    "<b>Комментарий ревьюера ✔️</b>\n",
    "\n",
    "Так выделены правильные решения.</div>\n",
    "\n",
    "Предлагаю работать в диалоге: если что-то дорабатываешь или отвечаешь на мой комментарий - пиши об этом. Мне будет удобней, если ты выделишь свои комментарии:\n",
    "<p>\n",
    "<div class=\"alert-info\" style=\"padding: 20px; border-radius: 10px\">\n",
    "<b>Комментарий студента 💎</b>\n",
    "\n",
    "Здесь исправил.</div>\n",
    "\n",
    "Все это поможет мне быстрее принять твой проект.</div>"
   ]
  },
  {
   "cell_type": "markdown",
   "id": "6b526374",
   "metadata": {},
   "source": [
    "<div class=\"alert-info\" style=\"padding: 20px; border-radius: 10px\">\n",
    "<b>Комментарий студента 💎</b>\n",
    "\n",
    "Написать свой комментарий можно, скопировав этот блок в ячейку Markdown.</div>"
   ]
  },
  {
   "cell_type": "markdown",
   "id": "d42da87b",
   "metadata": {},
   "source": [
    "# Исследование рентабельности подписочной системы в сервисе GoFast"
   ]
  },
  {
   "cell_type": "markdown",
   "id": "ad35e7aa",
   "metadata": {},
   "source": [
    "Условия использования сервиса:  \n",
    "1. без подписки:  \n",
    "    * абонентская плата отсутствует;\n",
    "    * стоимость одной минуты поездки — 8 рублей;\n",
    "    * стоимость старта (начала поездки) — 50 рублей;\n",
    "2. с подпиской Ultra:  \n",
    "    * абонентская плата — 199 рублей в месяц;\n",
    "    * стоимость одной минуты поездки — 6 рублей;\n",
    "    * стоимость старта — бесплатно.  \n",
    "  \n",
    "Имеется информация о пользователях, их поездках и подписках:\n",
    "1. users_go.csv - информация о пользователях  \n",
    "2. rides_go.csv - информация о поездках пользователей  \n",
    "  \n",
    "Цель исследования: на основании имеющихся данных понять, выгодна ли подписка Ultra компании GoFast"
   ]
  },
  {
   "cell_type": "markdown",
   "id": "d1f385b8",
   "metadata": {},
   "source": [
    "<div class=\"alert-success\" style=\"padding: 20px; border-radius: 10px\">\n",
    "<b>Комментарий ревьюера ✔️</b>\n",
    "\n",
    "Отлично, что начал с описания проекта.\n",
    "\n",
    "Можно добавить краткий план исследования.</div>"
   ]
  },
  {
   "cell_type": "code",
   "execution_count": 1,
   "id": "72576667",
   "metadata": {},
   "outputs": [],
   "source": [
    "import pandas as pd\n",
    "import numpy as np\n",
    "from math import sqrt\n",
    "from scipy import stats as st\n",
    "from scipy.stats import norm, binom\n",
    "from matplotlib import pyplot as plt"
   ]
  },
  {
   "cell_type": "markdown",
   "id": "c42cbe00",
   "metadata": {},
   "source": [
    "#### Шаг 1. Загрузка данных"
   ]
  },
  {
   "cell_type": "code",
   "execution_count": 2,
   "id": "eff9f206",
   "metadata": {},
   "outputs": [],
   "source": [
    "users = pd.read_csv('/datasets/users_go.csv')\n",
    "rides = pd.read_csv('/datasets/rides_go.csv')\n",
    "subscriptions = pd.read_csv('/datasets/subscriptions_go.csv')"
   ]
  },
  {
   "cell_type": "code",
   "execution_count": 3,
   "id": "ed7e4f29",
   "metadata": {},
   "outputs": [
    {
     "name": "stdout",
     "output_type": "stream",
     "text": [
      "<class 'pandas.core.frame.DataFrame'>\n",
      "RangeIndex: 1565 entries, 0 to 1564\n",
      "Data columns (total 5 columns):\n",
      " #   Column             Non-Null Count  Dtype \n",
      "---  ------             --------------  ----- \n",
      " 0   user_id            1565 non-null   int64 \n",
      " 1   name               1565 non-null   object\n",
      " 2   age                1565 non-null   int64 \n",
      " 3   city               1565 non-null   object\n",
      " 4   subscription_type  1565 non-null   object\n",
      "dtypes: int64(2), object(3)\n",
      "memory usage: 61.3+ KB\n"
     ]
    },
    {
     "data": {
      "text/html": [
       "<div>\n",
       "<style scoped>\n",
       "    .dataframe tbody tr th:only-of-type {\n",
       "        vertical-align: middle;\n",
       "    }\n",
       "\n",
       "    .dataframe tbody tr th {\n",
       "        vertical-align: top;\n",
       "    }\n",
       "\n",
       "    .dataframe thead th {\n",
       "        text-align: right;\n",
       "    }\n",
       "</style>\n",
       "<table border=\"1\" class=\"dataframe\">\n",
       "  <thead>\n",
       "    <tr style=\"text-align: right;\">\n",
       "      <th></th>\n",
       "      <th>user_id</th>\n",
       "      <th>name</th>\n",
       "      <th>age</th>\n",
       "      <th>city</th>\n",
       "      <th>subscription_type</th>\n",
       "    </tr>\n",
       "  </thead>\n",
       "  <tbody>\n",
       "    <tr>\n",
       "      <th>0</th>\n",
       "      <td>1</td>\n",
       "      <td>Кира</td>\n",
       "      <td>22</td>\n",
       "      <td>Тюмень</td>\n",
       "      <td>ultra</td>\n",
       "    </tr>\n",
       "    <tr>\n",
       "      <th>1</th>\n",
       "      <td>2</td>\n",
       "      <td>Станислав</td>\n",
       "      <td>31</td>\n",
       "      <td>Омск</td>\n",
       "      <td>ultra</td>\n",
       "    </tr>\n",
       "    <tr>\n",
       "      <th>2</th>\n",
       "      <td>3</td>\n",
       "      <td>Алексей</td>\n",
       "      <td>20</td>\n",
       "      <td>Москва</td>\n",
       "      <td>ultra</td>\n",
       "    </tr>\n",
       "    <tr>\n",
       "      <th>3</th>\n",
       "      <td>4</td>\n",
       "      <td>Константин</td>\n",
       "      <td>26</td>\n",
       "      <td>Ростов-на-Дону</td>\n",
       "      <td>ultra</td>\n",
       "    </tr>\n",
       "    <tr>\n",
       "      <th>4</th>\n",
       "      <td>5</td>\n",
       "      <td>Адель</td>\n",
       "      <td>28</td>\n",
       "      <td>Омск</td>\n",
       "      <td>ultra</td>\n",
       "    </tr>\n",
       "    <tr>\n",
       "      <th>5</th>\n",
       "      <td>6</td>\n",
       "      <td>Регина</td>\n",
       "      <td>25</td>\n",
       "      <td>Краснодар</td>\n",
       "      <td>ultra</td>\n",
       "    </tr>\n",
       "    <tr>\n",
       "      <th>6</th>\n",
       "      <td>7</td>\n",
       "      <td>Игорь</td>\n",
       "      <td>23</td>\n",
       "      <td>Омск</td>\n",
       "      <td>ultra</td>\n",
       "    </tr>\n",
       "    <tr>\n",
       "      <th>7</th>\n",
       "      <td>8</td>\n",
       "      <td>Юрий</td>\n",
       "      <td>23</td>\n",
       "      <td>Краснодар</td>\n",
       "      <td>ultra</td>\n",
       "    </tr>\n",
       "    <tr>\n",
       "      <th>8</th>\n",
       "      <td>9</td>\n",
       "      <td>Ян</td>\n",
       "      <td>21</td>\n",
       "      <td>Пятигорск</td>\n",
       "      <td>ultra</td>\n",
       "    </tr>\n",
       "    <tr>\n",
       "      <th>9</th>\n",
       "      <td>10</td>\n",
       "      <td>Валерий</td>\n",
       "      <td>18</td>\n",
       "      <td>Екатеринбург</td>\n",
       "      <td>ultra</td>\n",
       "    </tr>\n",
       "    <tr>\n",
       "      <th>10</th>\n",
       "      <td>11</td>\n",
       "      <td>Агата</td>\n",
       "      <td>31</td>\n",
       "      <td>Краснодар</td>\n",
       "      <td>ultra</td>\n",
       "    </tr>\n",
       "    <tr>\n",
       "      <th>11</th>\n",
       "      <td>12</td>\n",
       "      <td>Марк</td>\n",
       "      <td>27</td>\n",
       "      <td>Тюмень</td>\n",
       "      <td>ultra</td>\n",
       "    </tr>\n",
       "    <tr>\n",
       "      <th>12</th>\n",
       "      <td>13</td>\n",
       "      <td>Ева</td>\n",
       "      <td>24</td>\n",
       "      <td>Краснодар</td>\n",
       "      <td>ultra</td>\n",
       "    </tr>\n",
       "    <tr>\n",
       "      <th>13</th>\n",
       "      <td>14</td>\n",
       "      <td>Антонина</td>\n",
       "      <td>18</td>\n",
       "      <td>Пятигорск</td>\n",
       "      <td>ultra</td>\n",
       "    </tr>\n",
       "    <tr>\n",
       "      <th>14</th>\n",
       "      <td>15</td>\n",
       "      <td>Валерия</td>\n",
       "      <td>24</td>\n",
       "      <td>Тюмень</td>\n",
       "      <td>ultra</td>\n",
       "    </tr>\n",
       "    <tr>\n",
       "      <th>15</th>\n",
       "      <td>16</td>\n",
       "      <td>Амалия</td>\n",
       "      <td>27</td>\n",
       "      <td>Краснодар</td>\n",
       "      <td>ultra</td>\n",
       "    </tr>\n",
       "    <tr>\n",
       "      <th>16</th>\n",
       "      <td>17</td>\n",
       "      <td>Даниил</td>\n",
       "      <td>29</td>\n",
       "      <td>Москва</td>\n",
       "      <td>ultra</td>\n",
       "    </tr>\n",
       "    <tr>\n",
       "      <th>17</th>\n",
       "      <td>18</td>\n",
       "      <td>Аделина</td>\n",
       "      <td>24</td>\n",
       "      <td>Сочи</td>\n",
       "      <td>ultra</td>\n",
       "    </tr>\n",
       "    <tr>\n",
       "      <th>18</th>\n",
       "      <td>19</td>\n",
       "      <td>Регина</td>\n",
       "      <td>32</td>\n",
       "      <td>Тюмень</td>\n",
       "      <td>ultra</td>\n",
       "    </tr>\n",
       "    <tr>\n",
       "      <th>19</th>\n",
       "      <td>20</td>\n",
       "      <td>Игорь</td>\n",
       "      <td>23</td>\n",
       "      <td>Омск</td>\n",
       "      <td>ultra</td>\n",
       "    </tr>\n",
       "  </tbody>\n",
       "</table>\n",
       "</div>"
      ],
      "text/plain": [
       "    user_id        name  age            city subscription_type\n",
       "0         1        Кира   22          Тюмень             ultra\n",
       "1         2   Станислав   31            Омск             ultra\n",
       "2         3     Алексей   20          Москва             ultra\n",
       "3         4  Константин   26  Ростов-на-Дону             ultra\n",
       "4         5       Адель   28            Омск             ultra\n",
       "5         6      Регина   25       Краснодар             ultra\n",
       "6         7       Игорь   23            Омск             ultra\n",
       "7         8        Юрий   23       Краснодар             ultra\n",
       "8         9          Ян   21       Пятигорск             ultra\n",
       "9        10     Валерий   18    Екатеринбург             ultra\n",
       "10       11       Агата   31       Краснодар             ultra\n",
       "11       12        Марк   27          Тюмень             ultra\n",
       "12       13         Ева   24       Краснодар             ultra\n",
       "13       14    Антонина   18       Пятигорск             ultra\n",
       "14       15     Валерия   24          Тюмень             ultra\n",
       "15       16      Амалия   27       Краснодар             ultra\n",
       "16       17      Даниил   29          Москва             ultra\n",
       "17       18     Аделина   24            Сочи             ultra\n",
       "18       19      Регина   32          Тюмень             ultra\n",
       "19       20       Игорь   23            Омск             ultra"
      ]
     },
     "execution_count": 3,
     "metadata": {},
     "output_type": "execute_result"
    }
   ],
   "source": [
    "users.info()\n",
    "start_users_size = users.shape[0]\n",
    "users.head(20)"
   ]
  },
  {
   "cell_type": "markdown",
   "id": "30337d47",
   "metadata": {},
   "source": [
    "По информации видно, что набор данных не содержит пропущенных значений. Изменение типов не требуется."
   ]
  },
  {
   "cell_type": "code",
   "execution_count": 4,
   "id": "711b70f6",
   "metadata": {},
   "outputs": [
    {
     "name": "stdout",
     "output_type": "stream",
     "text": [
      "<class 'pandas.core.frame.DataFrame'>\n",
      "RangeIndex: 18068 entries, 0 to 18067\n",
      "Data columns (total 4 columns):\n",
      " #   Column    Non-Null Count  Dtype  \n",
      "---  ------    --------------  -----  \n",
      " 0   user_id   18068 non-null  int64  \n",
      " 1   distance  18068 non-null  float64\n",
      " 2   duration  18068 non-null  float64\n",
      " 3   date      18068 non-null  object \n",
      "dtypes: float64(2), int64(1), object(1)\n",
      "memory usage: 564.8+ KB\n"
     ]
    },
    {
     "data": {
      "text/html": [
       "<div>\n",
       "<style scoped>\n",
       "    .dataframe tbody tr th:only-of-type {\n",
       "        vertical-align: middle;\n",
       "    }\n",
       "\n",
       "    .dataframe tbody tr th {\n",
       "        vertical-align: top;\n",
       "    }\n",
       "\n",
       "    .dataframe thead th {\n",
       "        text-align: right;\n",
       "    }\n",
       "</style>\n",
       "<table border=\"1\" class=\"dataframe\">\n",
       "  <thead>\n",
       "    <tr style=\"text-align: right;\">\n",
       "      <th></th>\n",
       "      <th>user_id</th>\n",
       "      <th>distance</th>\n",
       "      <th>duration</th>\n",
       "      <th>date</th>\n",
       "    </tr>\n",
       "  </thead>\n",
       "  <tbody>\n",
       "    <tr>\n",
       "      <th>0</th>\n",
       "      <td>1</td>\n",
       "      <td>4409.919140</td>\n",
       "      <td>25.599769</td>\n",
       "      <td>2021-01-01</td>\n",
       "    </tr>\n",
       "    <tr>\n",
       "      <th>1</th>\n",
       "      <td>1</td>\n",
       "      <td>2617.592153</td>\n",
       "      <td>15.816871</td>\n",
       "      <td>2021-01-18</td>\n",
       "    </tr>\n",
       "    <tr>\n",
       "      <th>2</th>\n",
       "      <td>1</td>\n",
       "      <td>754.159807</td>\n",
       "      <td>6.232113</td>\n",
       "      <td>2021-04-20</td>\n",
       "    </tr>\n",
       "    <tr>\n",
       "      <th>3</th>\n",
       "      <td>1</td>\n",
       "      <td>2694.783254</td>\n",
       "      <td>18.511000</td>\n",
       "      <td>2021-08-11</td>\n",
       "    </tr>\n",
       "    <tr>\n",
       "      <th>4</th>\n",
       "      <td>1</td>\n",
       "      <td>4028.687306</td>\n",
       "      <td>26.265803</td>\n",
       "      <td>2021-08-28</td>\n",
       "    </tr>\n",
       "    <tr>\n",
       "      <th>5</th>\n",
       "      <td>1</td>\n",
       "      <td>2770.890808</td>\n",
       "      <td>16.650138</td>\n",
       "      <td>2021-10-09</td>\n",
       "    </tr>\n",
       "    <tr>\n",
       "      <th>6</th>\n",
       "      <td>1</td>\n",
       "      <td>3039.020292</td>\n",
       "      <td>14.927879</td>\n",
       "      <td>2021-10-19</td>\n",
       "    </tr>\n",
       "    <tr>\n",
       "      <th>7</th>\n",
       "      <td>1</td>\n",
       "      <td>2842.118050</td>\n",
       "      <td>23.117468</td>\n",
       "      <td>2021-11-06</td>\n",
       "    </tr>\n",
       "    <tr>\n",
       "      <th>8</th>\n",
       "      <td>1</td>\n",
       "      <td>3412.690668</td>\n",
       "      <td>15.238072</td>\n",
       "      <td>2021-11-14</td>\n",
       "    </tr>\n",
       "    <tr>\n",
       "      <th>9</th>\n",
       "      <td>1</td>\n",
       "      <td>748.690645</td>\n",
       "      <td>15.041884</td>\n",
       "      <td>2021-11-22</td>\n",
       "    </tr>\n",
       "    <tr>\n",
       "      <th>10</th>\n",
       "      <td>1</td>\n",
       "      <td>4031.020195</td>\n",
       "      <td>17.674448</td>\n",
       "      <td>2021-12-14</td>\n",
       "    </tr>\n",
       "    <tr>\n",
       "      <th>11</th>\n",
       "      <td>1</td>\n",
       "      <td>2720.609748</td>\n",
       "      <td>9.529463</td>\n",
       "      <td>2021-12-22</td>\n",
       "    </tr>\n",
       "    <tr>\n",
       "      <th>12</th>\n",
       "      <td>2</td>\n",
       "      <td>3105.086678</td>\n",
       "      <td>24.307514</td>\n",
       "      <td>2021-03-15</td>\n",
       "    </tr>\n",
       "    <tr>\n",
       "      <th>13</th>\n",
       "      <td>2</td>\n",
       "      <td>3053.519401</td>\n",
       "      <td>11.543256</td>\n",
       "      <td>2021-03-18</td>\n",
       "    </tr>\n",
       "    <tr>\n",
       "      <th>14</th>\n",
       "      <td>2</td>\n",
       "      <td>4029.116927</td>\n",
       "      <td>25.109188</td>\n",
       "      <td>2021-03-23</td>\n",
       "    </tr>\n",
       "    <tr>\n",
       "      <th>15</th>\n",
       "      <td>2</td>\n",
       "      <td>2805.786329</td>\n",
       "      <td>20.652145</td>\n",
       "      <td>2021-04-08</td>\n",
       "    </tr>\n",
       "    <tr>\n",
       "      <th>16</th>\n",
       "      <td>2</td>\n",
       "      <td>3358.595495</td>\n",
       "      <td>18.396489</td>\n",
       "      <td>2021-04-13</td>\n",
       "    </tr>\n",
       "    <tr>\n",
       "      <th>17</th>\n",
       "      <td>2</td>\n",
       "      <td>3255.338202</td>\n",
       "      <td>13.851127</td>\n",
       "      <td>2021-06-20</td>\n",
       "    </tr>\n",
       "    <tr>\n",
       "      <th>18</th>\n",
       "      <td>2</td>\n",
       "      <td>3942.817648</td>\n",
       "      <td>20.142725</td>\n",
       "      <td>2021-07-02</td>\n",
       "    </tr>\n",
       "    <tr>\n",
       "      <th>19</th>\n",
       "      <td>2</td>\n",
       "      <td>2837.905316</td>\n",
       "      <td>26.027432</td>\n",
       "      <td>2021-07-18</td>\n",
       "    </tr>\n",
       "  </tbody>\n",
       "</table>\n",
       "</div>"
      ],
      "text/plain": [
       "    user_id     distance   duration        date\n",
       "0         1  4409.919140  25.599769  2021-01-01\n",
       "1         1  2617.592153  15.816871  2021-01-18\n",
       "2         1   754.159807   6.232113  2021-04-20\n",
       "3         1  2694.783254  18.511000  2021-08-11\n",
       "4         1  4028.687306  26.265803  2021-08-28\n",
       "5         1  2770.890808  16.650138  2021-10-09\n",
       "6         1  3039.020292  14.927879  2021-10-19\n",
       "7         1  2842.118050  23.117468  2021-11-06\n",
       "8         1  3412.690668  15.238072  2021-11-14\n",
       "9         1   748.690645  15.041884  2021-11-22\n",
       "10        1  4031.020195  17.674448  2021-12-14\n",
       "11        1  2720.609748   9.529463  2021-12-22\n",
       "12        2  3105.086678  24.307514  2021-03-15\n",
       "13        2  3053.519401  11.543256  2021-03-18\n",
       "14        2  4029.116927  25.109188  2021-03-23\n",
       "15        2  2805.786329  20.652145  2021-04-08\n",
       "16        2  3358.595495  18.396489  2021-04-13\n",
       "17        2  3255.338202  13.851127  2021-06-20\n",
       "18        2  3942.817648  20.142725  2021-07-02\n",
       "19        2  2837.905316  26.027432  2021-07-18"
      ]
     },
     "execution_count": 4,
     "metadata": {},
     "output_type": "execute_result"
    }
   ],
   "source": [
    "rides.info()\n",
    "rides.head(20)"
   ]
  },
  {
   "cell_type": "markdown",
   "id": "8f13378f",
   "metadata": {},
   "source": [
    "По информации видно, что набор данных не содержит пропущенных значений. Столбец `date` требует изменения типа данных"
   ]
  },
  {
   "cell_type": "code",
   "execution_count": 5,
   "id": "0f8d7f47",
   "metadata": {},
   "outputs": [
    {
     "name": "stdout",
     "output_type": "stream",
     "text": [
      "<class 'pandas.core.frame.DataFrame'>\n",
      "RangeIndex: 2 entries, 0 to 1\n",
      "Data columns (total 4 columns):\n",
      " #   Column             Non-Null Count  Dtype \n",
      "---  ------             --------------  ----- \n",
      " 0   subscription_type  2 non-null      object\n",
      " 1   minute_price       2 non-null      int64 \n",
      " 2   start_ride_price   2 non-null      int64 \n",
      " 3   subscription_fee   2 non-null      int64 \n",
      "dtypes: int64(3), object(1)\n",
      "memory usage: 192.0+ bytes\n"
     ]
    },
    {
     "data": {
      "text/html": [
       "<div>\n",
       "<style scoped>\n",
       "    .dataframe tbody tr th:only-of-type {\n",
       "        vertical-align: middle;\n",
       "    }\n",
       "\n",
       "    .dataframe tbody tr th {\n",
       "        vertical-align: top;\n",
       "    }\n",
       "\n",
       "    .dataframe thead th {\n",
       "        text-align: right;\n",
       "    }\n",
       "</style>\n",
       "<table border=\"1\" class=\"dataframe\">\n",
       "  <thead>\n",
       "    <tr style=\"text-align: right;\">\n",
       "      <th></th>\n",
       "      <th>subscription_type</th>\n",
       "      <th>minute_price</th>\n",
       "      <th>start_ride_price</th>\n",
       "      <th>subscription_fee</th>\n",
       "    </tr>\n",
       "  </thead>\n",
       "  <tbody>\n",
       "    <tr>\n",
       "      <th>0</th>\n",
       "      <td>free</td>\n",
       "      <td>8</td>\n",
       "      <td>50</td>\n",
       "      <td>0</td>\n",
       "    </tr>\n",
       "    <tr>\n",
       "      <th>1</th>\n",
       "      <td>ultra</td>\n",
       "      <td>6</td>\n",
       "      <td>0</td>\n",
       "      <td>199</td>\n",
       "    </tr>\n",
       "  </tbody>\n",
       "</table>\n",
       "</div>"
      ],
      "text/plain": [
       "  subscription_type  minute_price  start_ride_price  subscription_fee\n",
       "0              free             8                50                 0\n",
       "1             ultra             6                 0               199"
      ]
     },
     "execution_count": 5,
     "metadata": {},
     "output_type": "execute_result"
    }
   ],
   "source": [
    "subscriptions.info()\n",
    "subscriptions.head()"
   ]
  },
  {
   "cell_type": "markdown",
   "id": "57a0ab06",
   "metadata": {},
   "source": [
    "По информации видно, что набор данных не содержит пропущенных значений. Изменение типов не требуется."
   ]
  },
  {
   "cell_type": "markdown",
   "id": "0770b758",
   "metadata": {},
   "source": [
    "<div class=\"alert-success\" style=\"padding: 20px; border-radius: 10px\">\n",
    "<b>Комментарий ревьюера ✔️</b>\n",
    "\n",
    "Данные загружены верно, получена общая информация о датафреймах. 🚀</div>"
   ]
  },
  {
   "cell_type": "markdown",
   "id": "e95ebca7",
   "metadata": {},
   "source": [
    "#### Шаг 2. Предобработка данных"
   ]
  },
  {
   "cell_type": "code",
   "execution_count": 6,
   "id": "af6d202c",
   "metadata": {},
   "outputs": [],
   "source": [
    "rides['date'] = pd.to_datetime(rides['date'], format='%Y-%m-%d')"
   ]
  },
  {
   "cell_type": "code",
   "execution_count": 7,
   "id": "256892f9",
   "metadata": {},
   "outputs": [
    {
     "name": "stdout",
     "output_type": "stream",
     "text": [
      "<class 'pandas.core.frame.DataFrame'>\n",
      "RangeIndex: 18068 entries, 0 to 18067\n",
      "Data columns (total 5 columns):\n",
      " #   Column    Non-Null Count  Dtype         \n",
      "---  ------    --------------  -----         \n",
      " 0   user_id   18068 non-null  int64         \n",
      " 1   distance  18068 non-null  float64       \n",
      " 2   duration  18068 non-null  float64       \n",
      " 3   date      18068 non-null  datetime64[ns]\n",
      " 4   month     18068 non-null  int64         \n",
      "dtypes: datetime64[ns](1), float64(2), int64(2)\n",
      "memory usage: 705.9 KB\n"
     ]
    }
   ],
   "source": [
    "rides['month'] = rides['date'].dt.month\n",
    "rides.info()"
   ]
  },
  {
   "cell_type": "code",
   "execution_count": 8,
   "id": "a0773afc",
   "metadata": {},
   "outputs": [
    {
     "name": "stdout",
     "output_type": "stream",
     "text": [
      "В датасете представлены данный с 2021-01-01 по 2021-12-30\n"
     ]
    }
   ],
   "source": [
    "print(f'В датасете представлены данный с {rides[\"date\"].min().date()} по {rides[\"date\"].max().date()}')"
   ]
  },
  {
   "cell_type": "markdown",
   "id": "e7ce3fba",
   "metadata": {},
   "source": [
    "<div class=\"alert-warning\" style=\"padding: 20px; border-radius: 10px\">\n",
    "<b>Комментарий ревьюера ⚠️</b>\n",
    "\n",
    "<s>Здесь можно проверить за какой период у нас данные.</div>"
   ]
  },
  {
   "cell_type": "markdown",
   "id": "aef36da5",
   "metadata": {},
   "source": [
    "<div class=\"alert-info\" style=\"padding: 20px; border-radius: 10px\">\n",
    "<b>Комментарий студента 💎</b>\n",
    "\n",
    "Добавил информацию о периоде</div>"
   ]
  },
  {
   "cell_type": "markdown",
   "id": "76f8cf1f",
   "metadata": {},
   "source": [
    "<div class=\"alert-success\" style=\"border-radius: 10px; padding: 20px\">\n",
    "<b>Комментарий ревьюера V2 ✔️</b>\n",
    "\n",
    "Провести такую проверку важно, чтобы данные за несколько лет не склеились при агрегации по месяцам.</div>"
   ]
  },
  {
   "cell_type": "markdown",
   "id": "1a8dc0aa",
   "metadata": {},
   "source": [
    "Проверим наличие дубликатов в датасете `rides`"
   ]
  },
  {
   "cell_type": "code",
   "execution_count": 9,
   "id": "183d54df",
   "metadata": {},
   "outputs": [
    {
     "data": {
      "text/plain": [
       "0"
      ]
     },
     "execution_count": 9,
     "metadata": {},
     "output_type": "execute_result"
    }
   ],
   "source": [
    "rides.duplicated().sum()"
   ]
  },
  {
   "cell_type": "markdown",
   "id": "09da2436",
   "metadata": {},
   "source": [
    "Датасет `rides` не содержит явных дубликатов. Поэтому далее проверим датасет `users`. Однако перед этим избавимся от неявных дубликатов, приведя строковые столбцы к нижнему регистру и заменив `ё` на `е`"
   ]
  },
  {
   "cell_type": "code",
   "execution_count": 10,
   "id": "db635383",
   "metadata": {},
   "outputs": [],
   "source": [
    "columns = ['name', 'city', 'subscription_type']\n",
    "for column in columns:\n",
    "    users[column] = users[column].str.lower()\n",
    "    users[column] = users[column].str.replace('ё', 'e')"
   ]
  },
  {
   "cell_type": "code",
   "execution_count": 11,
   "id": "d4de7218",
   "metadata": {},
   "outputs": [
    {
     "data": {
      "text/plain": [
       "31"
      ]
     },
     "execution_count": 11,
     "metadata": {},
     "output_type": "execute_result"
    }
   ],
   "source": [
    "users.duplicated().sum()"
   ]
  },
  {
   "cell_type": "code",
   "execution_count": 12,
   "id": "cd52de16",
   "metadata": {
    "scrolled": true
   },
   "outputs": [
    {
     "name": "stdout",
     "output_type": "stream",
     "text": [
      "<class 'pandas.core.frame.DataFrame'>\n",
      "RangeIndex: 1534 entries, 0 to 1533\n",
      "Data columns (total 5 columns):\n",
      " #   Column             Non-Null Count  Dtype \n",
      "---  ------             --------------  ----- \n",
      " 0   user_id            1534 non-null   int64 \n",
      " 1   name               1534 non-null   object\n",
      " 2   age                1534 non-null   int64 \n",
      " 3   city               1534 non-null   object\n",
      " 4   subscription_type  1534 non-null   object\n",
      "dtypes: int64(2), object(3)\n",
      "memory usage: 60.0+ KB\n"
     ]
    }
   ],
   "source": [
    "users = users.drop_duplicates().reset_index(drop=True)\n",
    "users.info()"
   ]
  },
  {
   "cell_type": "code",
   "execution_count": 13,
   "id": "6a967085",
   "metadata": {},
   "outputs": [
    {
     "name": "stdout",
     "output_type": "stream",
     "text": [
      "После предобратки данных в датасете \"users\" сохранился 98.02% данных\n"
     ]
    }
   ],
   "source": [
    "print(f'После предобратки данных в датасете \"users\" сохранился {users.shape[0]/start_users_size:.2%} данных')"
   ]
  },
  {
   "cell_type": "markdown",
   "id": "2b0a7a52",
   "metadata": {},
   "source": [
    "<div class=\"alert-success\" style=\"padding: 20px; border-radius: 10px\">\n",
    "<b>Комментарий ревьюера ✔️</b>\n",
    "\n",
    "Молодец, ты отлично справился с предобработкой данных! 🔥</div>"
   ]
  },
  {
   "cell_type": "markdown",
   "id": "212593c7",
   "metadata": {},
   "source": [
    "#### Шаг 3. Исследовательский анализ данных"
   ]
  },
  {
   "cell_type": "markdown",
   "id": "ab2ff734",
   "metadata": {},
   "source": [
    "##### Частота встречаемости городов"
   ]
  },
  {
   "cell_type": "code",
   "execution_count": 14,
   "id": "5ced235d",
   "metadata": {},
   "outputs": [
    {
     "data": {
      "text/html": [
       "<div>\n",
       "<style scoped>\n",
       "    .dataframe tbody tr th:only-of-type {\n",
       "        vertical-align: middle;\n",
       "    }\n",
       "\n",
       "    .dataframe tbody tr th {\n",
       "        vertical-align: top;\n",
       "    }\n",
       "\n",
       "    .dataframe thead th {\n",
       "        text-align: right;\n",
       "    }\n",
       "</style>\n",
       "<table border=\"1\" class=\"dataframe\">\n",
       "  <thead>\n",
       "    <tr style=\"text-align: right;\">\n",
       "      <th></th>\n",
       "      <th>count</th>\n",
       "    </tr>\n",
       "    <tr>\n",
       "      <th>city</th>\n",
       "      <th></th>\n",
       "    </tr>\n",
       "  </thead>\n",
       "  <tbody>\n",
       "    <tr>\n",
       "      <th>пятигорск</th>\n",
       "      <td>219</td>\n",
       "    </tr>\n",
       "    <tr>\n",
       "      <th>екатеринбург</th>\n",
       "      <td>204</td>\n",
       "    </tr>\n",
       "    <tr>\n",
       "      <th>ростов-на-дону</th>\n",
       "      <td>198</td>\n",
       "    </tr>\n",
       "    <tr>\n",
       "      <th>краснодар</th>\n",
       "      <td>193</td>\n",
       "    </tr>\n",
       "    <tr>\n",
       "      <th>сочи</th>\n",
       "      <td>189</td>\n",
       "    </tr>\n",
       "    <tr>\n",
       "      <th>омск</th>\n",
       "      <td>183</td>\n",
       "    </tr>\n",
       "    <tr>\n",
       "      <th>тюмень</th>\n",
       "      <td>180</td>\n",
       "    </tr>\n",
       "    <tr>\n",
       "      <th>москва</th>\n",
       "      <td>168</td>\n",
       "    </tr>\n",
       "  </tbody>\n",
       "</table>\n",
       "</div>"
      ],
      "text/plain": [
       "                count\n",
       "city                 \n",
       "пятигорск         219\n",
       "екатеринбург      204\n",
       "ростов-на-дону    198\n",
       "краснодар         193\n",
       "сочи              189\n",
       "омск              183\n",
       "тюмень            180\n",
       "москва            168"
      ]
     },
     "execution_count": 14,
     "metadata": {},
     "output_type": "execute_result"
    }
   ],
   "source": [
    "cities = (\n",
    "    users\n",
    "    .pivot_table(index='city', values='user_id', aggfunc='count')\n",
    "    .rename(columns={'user_id': 'count'})\n",
    "    .sort_values(by='count', ascending=False)\n",
    ")\n",
    "cities"
   ]
  },
  {
   "cell_type": "code",
   "execution_count": 15,
   "id": "fe5c8af9",
   "metadata": {},
   "outputs": [
    {
     "data": {
      "text/plain": [
       "<AxesSubplot:title={'center':'Распределение пользователей по городам'}, xlabel='city'>"
      ]
     },
     "execution_count": 15,
     "metadata": {},
     "output_type": "execute_result"
    },
    {
     "data": {
      "image/png": "[encoded data removed]",
      "text/plain": [
       "<Figure size 432x288 with 1 Axes>"
      ]
     },
     "metadata": {
      "needs_background": "light"
     },
     "output_type": "display_data"
    }
   ],
   "source": [
    "cities['count'].plot(\n",
    "    kind='bar',\n",
    "    grid=True,\n",
    "    ylim=(150, 250),\n",
    "    title='Распределение пользователей по городам'\n",
    ")"
   ]
  },
  {
   "cell_type": "markdown",
   "id": "70e48096",
   "metadata": {},
   "source": [
    "<div class=\"alert-danger\" style=\"padding: 20px; border-radius: 10px\">\n",
    "<b>Комментарий ревьюера ❌</b>\n",
    "\n",
    "<s>Это неудачный тип визуализации для сравнения категорий:\n",
    "   \n",
    "- слишком много категорий\n",
    "- категории примерно одинаковые, сложно выделить лидеров\n",
    "    \n",
    "Для сравнения категорий больше подходит столбчатая диаграмма.\n",
    "</div>"
   ]
  },
  {
   "cell_type": "markdown",
   "id": "85b7773d",
   "metadata": {},
   "source": [
    "<div class=\"alert-info\" style=\"padding: 20px; border-radius: 10px\">\n",
    "<b>Комментарий студента 💎</b>\n",
    "\n",
    "Изменил тип диаграммы с крговой на столбчатую</div>"
   ]
  },
  {
   "cell_type": "markdown",
   "id": "44f6323e",
   "metadata": {},
   "source": [
    "<div class=\"alert-success\" style=\"border-radius: 10px; padding: 20px\">\n",
    "<b>Комментарий ревьюера V2 ✔️</b>\n",
    "\n",
    "Отлично. Можно еще убрать сетку и развернуть либо график на 90 градусов (тип графика `'barh'`), либо подписи к оси Х параметром `rot=`</div>"
   ]
  },
  {
   "cell_type": "markdown",
   "id": "6e822950",
   "metadata": {},
   "source": [
    "Сервис присутствует в 8 городах. Нет сильно выделяющегося города по количеству пользователей. Однако наибольшее количество пользователей находится в Пятигорске (219 человек), а наименьшее в Москве (168 человек)."
   ]
  },
  {
   "cell_type": "markdown",
   "id": "440b7d54",
   "metadata": {},
   "source": [
    "##### Соотношение пользователей с подпиской и без подписки"
   ]
  },
  {
   "cell_type": "code",
   "execution_count": 16,
   "id": "445f7eeb",
   "metadata": {},
   "outputs": [
    {
     "data": {
      "text/html": [
       "<div>\n",
       "<style scoped>\n",
       "    .dataframe tbody tr th:only-of-type {\n",
       "        vertical-align: middle;\n",
       "    }\n",
       "\n",
       "    .dataframe tbody tr th {\n",
       "        vertical-align: top;\n",
       "    }\n",
       "\n",
       "    .dataframe thead th {\n",
       "        text-align: right;\n",
       "    }\n",
       "</style>\n",
       "<table border=\"1\" class=\"dataframe\">\n",
       "  <thead>\n",
       "    <tr style=\"text-align: right;\">\n",
       "      <th></th>\n",
       "      <th>count</th>\n",
       "    </tr>\n",
       "    <tr>\n",
       "      <th>subscription_type</th>\n",
       "      <th></th>\n",
       "    </tr>\n",
       "  </thead>\n",
       "  <tbody>\n",
       "    <tr>\n",
       "      <th>free</th>\n",
       "      <td>835</td>\n",
       "    </tr>\n",
       "    <tr>\n",
       "      <th>ultra</th>\n",
       "      <td>699</td>\n",
       "    </tr>\n",
       "  </tbody>\n",
       "</table>\n",
       "</div>"
      ],
      "text/plain": [
       "                   count\n",
       "subscription_type       \n",
       "free                 835\n",
       "ultra                699"
      ]
     },
     "execution_count": 16,
     "metadata": {},
     "output_type": "execute_result"
    }
   ],
   "source": [
    "subscription = (\n",
    "    users\n",
    "    .pivot_table(index='subscription_type', values='user_id', aggfunc='count')\n",
    "    .rename(columns={'user_id': 'count'})\n",
    ")\n",
    "subscription"
   ]
  },
  {
   "cell_type": "code",
   "execution_count": 17,
   "id": "0df613d2",
   "metadata": {},
   "outputs": [
    {
     "name": "stdout",
     "output_type": "stream",
     "text": [
      "Процент пользователей с подпиской - 45.57%\n"
     ]
    }
   ],
   "source": [
    "percent_subsciption = subscription.loc['ultra', 'count'] / users.shape[0]\n",
    "print(f'Процент пользователей с подпиской - {percent_subsciption:.2%}')"
   ]
  },
  {
   "cell_type": "code",
   "execution_count": 18,
   "id": "0d780ed9",
   "metadata": {},
   "outputs": [
    {
     "data": {
      "text/plain": [
       "<AxesSubplot:title={'center':'Соотношение пользователей с подпиской и без'}, ylabel='count'>"
      ]
     },
     "execution_count": 18,
     "metadata": {},
     "output_type": "execute_result"
    },
    {
     "data": {
      "image/png": "[encoded data removed]",
      "text/plain": [
       "<Figure size 504x504 with 1 Axes>"
      ]
     },
     "metadata": {},
     "output_type": "display_data"
    }
   ],
   "source": [
    "subscription['count'].plot(\n",
    "    kind='pie',\n",
    "    autopct='%.2f%%',\n",
    "    figsize=(7, 7),\n",
    "    title='Соотношение пользователей с подпиской и без'\n",
    ")"
   ]
  },
  {
   "cell_type": "markdown",
   "id": "817a4a33",
   "metadata": {},
   "source": [
    "Видно, что пользователй с подпиской меньше половины, однако их количество все равно составляет внушитиельные 45,57%."
   ]
  },
  {
   "cell_type": "markdown",
   "id": "e4ba4602",
   "metadata": {},
   "source": [
    "<div class=\"alert-danger\" style=\"padding: 20px; border-radius: 10px\">\n",
    "<b>Комментарий ревьюера ❌</b>\n",
    "\n",
    "<s>Соотношение категорий пользователей тоже нужно визуализировать. Вот здесь подойдет круговая диаграмма, она хорошо показывает части целого.\n",
    "</div>"
   ]
  },
  {
   "cell_type": "markdown",
   "id": "5ac3a97a",
   "metadata": {},
   "source": [
    "<div class=\"alert-info\" style=\"padding: 20px; border-radius: 10px\">\n",
    "<b>Комментарий студента 💎</b>\n",
    "\n",
    "Добавил круговую диаграмму</div>"
   ]
  },
  {
   "cell_type": "markdown",
   "id": "2f72492f",
   "metadata": {},
   "source": [
    "<div class=\"alert-success\" style=\"border-radius: 10px; padding: 20px\">\n",
    "<b>Комментарий ревьюера V2 ✔️</b>\n",
    "\n",
    "Теперь все отлично! 👍</div>"
   ]
  },
  {
   "cell_type": "markdown",
   "id": "c4e7b60a",
   "metadata": {},
   "source": [
    "##### Возраст пользователей"
   ]
  },
  {
   "cell_type": "markdown",
   "id": "bf127d25",
   "metadata": {},
   "source": [
    "Добави в датасет `users` возрастную категорию пользователя:  \n",
    "1. child - пользователи до 18 лет  \n",
    "2. youth пользователи от 18 до 30 лет  \n",
    "3. adult - пользователи старше 30 лет"
   ]
  },
  {
   "cell_type": "code",
   "execution_count": 19,
   "id": "3d941d04",
   "metadata": {},
   "outputs": [],
   "source": [
    "def get_age_category(age):\n",
    "    if age < 18:\n",
    "        return 'child'\n",
    "    elif age < 30:\n",
    "        return 'youth'\n",
    "    return 'adult'"
   ]
  },
  {
   "cell_type": "code",
   "execution_count": 20,
   "id": "e99486c8",
   "metadata": {},
   "outputs": [],
   "source": [
    "users['age_category'] = users['age'].apply(get_age_category)"
   ]
  },
  {
   "cell_type": "code",
   "execution_count": 21,
   "id": "b44f14ab",
   "metadata": {
    "scrolled": true
   },
   "outputs": [
    {
     "name": "stdout",
     "output_type": "stream",
     "text": [
      "Самому младшему пользователю 12 лет\n",
      "Самому старшему пользователю 43 года\n",
      "Средний возраст пользователей 24.903520208604956 лет\n"
     ]
    }
   ],
   "source": [
    "print(f'Самому младшему пользователю {users[\"age\"].min()} лет')\n",
    "print(f'Самому старшему пользователю {users[\"age\"].max()} года')\n",
    "print(f'Средний возраст пользователей {users[\"age\"].mean()} лет')"
   ]
  },
  {
   "cell_type": "code",
   "execution_count": 22,
   "id": "eb855a2e",
   "metadata": {},
   "outputs": [
    {
     "data": {
      "text/plain": [
       "<AxesSubplot:title={'center':'Распределение пользователей по возрастам'}, ylabel='Frequency'>"
      ]
     },
     "execution_count": 22,
     "metadata": {},
     "output_type": "execute_result"
    },
    {
     "data": {
      "image/png": "[encoded data removed]",
      "text/plain": [
       "<Figure size 432x288 with 1 Axes>"
      ]
     },
     "metadata": {
      "needs_background": "light"
     },
     "output_type": "display_data"
    }
   ],
   "source": [
    "users['age'].plot(\n",
    "    kind='hist',\n",
    "    grid=True,\n",
    "    title='Распределение пользователей по возрастам',\n",
    "    bins=32\n",
    ")"
   ]
  },
  {
   "cell_type": "code",
   "execution_count": 23,
   "id": "a5854e32",
   "metadata": {},
   "outputs": [
    {
     "data": {
      "text/html": [
       "<div>\n",
       "<style scoped>\n",
       "    .dataframe tbody tr th:only-of-type {\n",
       "        vertical-align: middle;\n",
       "    }\n",
       "\n",
       "    .dataframe tbody tr th {\n",
       "        vertical-align: top;\n",
       "    }\n",
       "\n",
       "    .dataframe thead th {\n",
       "        text-align: right;\n",
       "    }\n",
       "</style>\n",
       "<table border=\"1\" class=\"dataframe\">\n",
       "  <thead>\n",
       "    <tr style=\"text-align: right;\">\n",
       "      <th></th>\n",
       "      <th>min</th>\n",
       "      <th>max</th>\n",
       "      <th>mean</th>\n",
       "    </tr>\n",
       "    <tr>\n",
       "      <th>city</th>\n",
       "      <th></th>\n",
       "      <th></th>\n",
       "      <th></th>\n",
       "    </tr>\n",
       "  </thead>\n",
       "  <tbody>\n",
       "    <tr>\n",
       "      <th>омск</th>\n",
       "      <td>13</td>\n",
       "      <td>38</td>\n",
       "      <td>25.382514</td>\n",
       "    </tr>\n",
       "    <tr>\n",
       "      <th>краснодар</th>\n",
       "      <td>13</td>\n",
       "      <td>38</td>\n",
       "      <td>25.290155</td>\n",
       "    </tr>\n",
       "    <tr>\n",
       "      <th>москва</th>\n",
       "      <td>13</td>\n",
       "      <td>43</td>\n",
       "      <td>25.267857</td>\n",
       "    </tr>\n",
       "    <tr>\n",
       "      <th>екатеринбург</th>\n",
       "      <td>13</td>\n",
       "      <td>35</td>\n",
       "      <td>24.955882</td>\n",
       "    </tr>\n",
       "    <tr>\n",
       "      <th>пятигорск</th>\n",
       "      <td>12</td>\n",
       "      <td>36</td>\n",
       "      <td>24.716895</td>\n",
       "    </tr>\n",
       "    <tr>\n",
       "      <th>тюмень</th>\n",
       "      <td>13</td>\n",
       "      <td>38</td>\n",
       "      <td>24.638889</td>\n",
       "    </tr>\n",
       "    <tr>\n",
       "      <th>ростов-на-дону</th>\n",
       "      <td>12</td>\n",
       "      <td>37</td>\n",
       "      <td>24.545455</td>\n",
       "    </tr>\n",
       "    <tr>\n",
       "      <th>сочи</th>\n",
       "      <td>12</td>\n",
       "      <td>36</td>\n",
       "      <td>24.507937</td>\n",
       "    </tr>\n",
       "  </tbody>\n",
       "</table>\n",
       "</div>"
      ],
      "text/plain": [
       "                min  max       mean\n",
       "city                               \n",
       "омск             13   38  25.382514\n",
       "краснодар        13   38  25.290155\n",
       "москва           13   43  25.267857\n",
       "екатеринбург     13   35  24.955882\n",
       "пятигорск        12   36  24.716895\n",
       "тюмень           13   38  24.638889\n",
       "ростов-на-дону   12   37  24.545455\n",
       "сочи             12   36  24.507937"
      ]
     },
     "execution_count": 23,
     "metadata": {},
     "output_type": "execute_result"
    }
   ],
   "source": [
    "age = (\n",
    "    users\n",
    "    .pivot_table(index='city', values='age', aggfunc=['min', 'max', 'mean'])\n",
    "    .reset_index().droplevel(1, axis=1)\n",
    "    .set_index('city')\n",
    "    .sort_values(by='mean', ascending=False)\n",
    ")\n",
    "age"
   ]
  },
  {
   "cell_type": "code",
   "execution_count": 24,
   "id": "0be9e7a9",
   "metadata": {},
   "outputs": [
    {
     "data": {
      "text/plain": [
       "<AxesSubplot:title={'center':'Средний возраст пользователей в разных городах'}, xlabel='city'>"
      ]
     },
     "execution_count": 24,
     "metadata": {},
     "output_type": "execute_result"
    },
    {
     "data": {
      "image/png": "[encoded data removed]",
      "text/plain": [
       "<Figure size 432x288 with 1 Axes>"
      ]
     },
     "metadata": {
      "needs_background": "light"
     },
     "output_type": "display_data"
    }
   ],
   "source": [
    "age['mean'].plot(\n",
    "    kind='bar',\n",
    "    grid=True,\n",
    "    title='Средний возраст пользователей в разных городах',\n",
    "    ylim=(24, 26)\n",
    ")"
   ]
  },
  {
   "cell_type": "code",
   "execution_count": 25,
   "id": "4b8c439d",
   "metadata": {},
   "outputs": [
    {
     "data": {
      "text/html": [
       "<div>\n",
       "<style scoped>\n",
       "    .dataframe tbody tr th:only-of-type {\n",
       "        vertical-align: middle;\n",
       "    }\n",
       "\n",
       "    .dataframe tbody tr th {\n",
       "        vertical-align: top;\n",
       "    }\n",
       "\n",
       "    .dataframe thead th {\n",
       "        text-align: right;\n",
       "    }\n",
       "</style>\n",
       "<table border=\"1\" class=\"dataframe\">\n",
       "  <thead>\n",
       "    <tr style=\"text-align: right;\">\n",
       "      <th></th>\n",
       "      <th>age</th>\n",
       "    </tr>\n",
       "    <tr>\n",
       "      <th>age_category</th>\n",
       "      <th></th>\n",
       "    </tr>\n",
       "  </thead>\n",
       "  <tbody>\n",
       "    <tr>\n",
       "      <th>adult</th>\n",
       "      <td>243</td>\n",
       "    </tr>\n",
       "    <tr>\n",
       "      <th>child</th>\n",
       "      <td>79</td>\n",
       "    </tr>\n",
       "    <tr>\n",
       "      <th>youth</th>\n",
       "      <td>1212</td>\n",
       "    </tr>\n",
       "  </tbody>\n",
       "</table>\n",
       "</div>"
      ],
      "text/plain": [
       "               age\n",
       "age_category      \n",
       "adult          243\n",
       "child           79\n",
       "youth         1212"
      ]
     },
     "execution_count": 25,
     "metadata": {},
     "output_type": "execute_result"
    }
   ],
   "source": [
    "age_category = (\n",
    "    users\n",
    "    .pivot_table(index='age_category', values='age', aggfunc='count')\n",
    ")\n",
    "age_category"
   ]
  },
  {
   "cell_type": "code",
   "execution_count": 26,
   "id": "3dfbc322",
   "metadata": {},
   "outputs": [
    {
     "data": {
      "text/plain": [
       "<AxesSubplot:title={'center':'Распределение пользователей по возрастным категориям'}, ylabel='age'>"
      ]
     },
     "execution_count": 26,
     "metadata": {},
     "output_type": "execute_result"
    },
    {
     "data": {
      "image/png": "[encoded data removed]",
      "text/plain": [
       "<Figure size 504x504 with 1 Axes>"
      ]
     },
     "metadata": {},
     "output_type": "display_data"
    }
   ],
   "source": [
    "age_category['age'].plot(\n",
    "    kind='pie',\n",
    "    autopct='%.2f%%',\n",
    "    figsize=(7, 7),\n",
    "    title='Распределение пользователей по возрастным категориям'\n",
    ")"
   ]
  },
  {
   "cell_type": "markdown",
   "id": "e76e40b8",
   "metadata": {},
   "source": [
    "Сервис охватывает широкий диапазон возврастных категорий. Самому младшему пользователю 12 лет, а самому старшему 43. Средний возраст - 24.9 года. Распределение возрастов пользавателей похоже на нормальное распределение  \n",
    "Самый маленький средний возраст пользователей в Сочи (24,5 лет), самый высокий в Омске (25.4 года).  \n",
    "Также можно заметить, что польшинство пользователей находятся в ворасте от 18 до 30 лет. Данная категория является платежеспособной, а также заинтересованной в постоянном использовании самокатов для быстрого перемещения по городу. Лишь 5,15% пользователей относятся к категории до 18 лет. Это хорошо, так как платежеспособность данной категории вызывает вопросы"
   ]
  },
  {
   "cell_type": "markdown",
   "id": "4507e924",
   "metadata": {},
   "source": [
    "<div class=\"alert-success\" style=\"padding: 20px; border-radius: 10px\">\n",
    "<b>Комментарий ревьюера ✔️</b>\n",
    "\n",
    "Молодец, ты очень подробно изучил возраст пользователей. 👍</div>"
   ]
  },
  {
   "cell_type": "markdown",
   "id": "67bb8ca7",
   "metadata": {},
   "source": [
    "##### Расстояние, которое пользователь преодолел за одну поездку;"
   ]
  },
  {
   "cell_type": "code",
   "execution_count": 27,
   "id": "5c5b6404",
   "metadata": {},
   "outputs": [
    {
     "name": "stdout",
     "output_type": "stream",
     "text": [
      "В среднем пользователь сервиса проезжает расстояние в 3070.66 м\n"
     ]
    }
   ],
   "source": [
    "print(f'В среднем пользователь сервиса проезжает расстояние в {rides[\"distance\"].mean():.2f} м')"
   ]
  },
  {
   "cell_type": "code",
   "execution_count": 28,
   "id": "28d773a8",
   "metadata": {},
   "outputs": [
    {
     "data": {
      "text/plain": [
       "<AxesSubplot:title={'center':'Распределение дистанции, которая была пройдена за одну поездку'}, ylabel='Frequency'>"
      ]
     },
     "execution_count": 28,
     "metadata": {},
     "output_type": "execute_result"
    },
    {
     "data": {
      "image/png": "[encoded data removed]",
      "text/plain": [
       "<Figure size 432x288 with 1 Axes>"
      ]
     },
     "metadata": {
      "needs_background": "light"
     },
     "output_type": "display_data"
    }
   ],
   "source": [
    "rides['distance'].plot(\n",
    "    kind='hist',\n",
    "    bins=50,\n",
    "    grid=True,\n",
    "    title='Распределение дистанции, которая была пройдена за одну поездку'\n",
    ")"
   ]
  },
  {
   "cell_type": "markdown",
   "id": "6f4a3cfc",
   "metadata": {},
   "source": [
    "Распределение дистации за поездку имеет 2 пика, каждый из которых напоминает нормальное распределение. Первый пик имеет вершину на значении примерно 600 м, второй - 3200 м. В среднем пользователи сервиса проезжают 3070 м."
   ]
  },
  {
   "cell_type": "markdown",
   "id": "d1fe8e43",
   "metadata": {},
   "source": [
    "<div class=\"alert-success\" style=\"padding: 20px; border-radius: 10px\">\n",
    "<b>Комментарий ревьюера ✔️</b>\n",
    "\n",
    "Всё верно. Поездки делятся на короткие и длинные.</div>"
   ]
  },
  {
   "cell_type": "markdown",
   "id": "23c1c635",
   "metadata": {},
   "source": [
    "##### Продолжительность поездок"
   ]
  },
  {
   "cell_type": "code",
   "execution_count": 29,
   "id": "1eb72b87",
   "metadata": {},
   "outputs": [
    {
     "name": "stdout",
     "output_type": "stream",
     "text": [
      "В среднем поездка пользователя сервиса занимает 17.81 мин\n"
     ]
    }
   ],
   "source": [
    "print(f'В среднем поездка пользователя сервиса занимает {rides[\"duration\"].mean():.2f} мин')"
   ]
  },
  {
   "cell_type": "code",
   "execution_count": 30,
   "id": "69382291",
   "metadata": {},
   "outputs": [
    {
     "data": {
      "text/plain": [
       "<AxesSubplot:title={'center':'Распределение времени одной поездки'}, ylabel='Frequency'>"
      ]
     },
     "execution_count": 30,
     "metadata": {},
     "output_type": "execute_result"
    },
    {
     "data": {
      "image/png": "[encoded data removed]",
      "text/plain": [
       "<Figure size 432x288 with 1 Axes>"
      ]
     },
     "metadata": {
      "needs_background": "light"
     },
     "output_type": "display_data"
    }
   ],
   "source": [
    "rides['duration'].plot(\n",
    "    kind='hist',\n",
    "    bins=50,\n",
    "    grid=True,\n",
    "    title='Распределение времени одной поездки'\n",
    ")"
   ]
  },
  {
   "cell_type": "markdown",
   "id": "1ccce9ae",
   "metadata": {},
   "source": [
    "Дистанция, которую в среднем проезжает каждый пользователь, распределена нормально. Однако наблюдается всплеск около продолжительности поездки в 1 мин. В среднем пользователи сервиса проезжают 17,81 мин."
   ]
  },
  {
   "cell_type": "markdown",
   "id": "feecea0b",
   "metadata": {},
   "source": [
    "<div class=\"alert-success\" style=\"padding: 20px; border-radius: 10px\">\n",
    "<b>Комментарий ревьюера ✔️</b>\n",
    "\n",
    "Согласен, а основной диапазон 10 - 25 мин.</div>"
   ]
  },
  {
   "cell_type": "markdown",
   "id": "4ef51331",
   "metadata": {},
   "source": [
    "#### Шаг 4. Объединение данных"
   ]
  },
  {
   "cell_type": "markdown",
   "id": "ed91dec1",
   "metadata": {},
   "source": [
    "##### Объединение датасетов"
   ]
  },
  {
   "cell_type": "code",
   "execution_count": 31,
   "id": "6bf288b5",
   "metadata": {},
   "outputs": [
    {
     "name": "stdout",
     "output_type": "stream",
     "text": [
      "<class 'pandas.core.frame.DataFrame'>\n",
      "Int64Index: 18068 entries, 0 to 18067\n",
      "Data columns (total 10 columns):\n",
      " #   Column             Non-Null Count  Dtype         \n",
      "---  ------             --------------  -----         \n",
      " 0   user_id            18068 non-null  int64         \n",
      " 1   distance           18068 non-null  float64       \n",
      " 2   duration           18068 non-null  float64       \n",
      " 3   date               18068 non-null  datetime64[ns]\n",
      " 4   month              18068 non-null  int64         \n",
      " 5   name               18068 non-null  object        \n",
      " 6   age                18068 non-null  int64         \n",
      " 7   city               18068 non-null  object        \n",
      " 8   subscription_type  18068 non-null  object        \n",
      " 9   age_category       18068 non-null  object        \n",
      "dtypes: datetime64[ns](1), float64(2), int64(3), object(4)\n",
      "memory usage: 1.5+ MB\n"
     ]
    },
    {
     "data": {
      "text/html": [
       "<div>\n",
       "<style scoped>\n",
       "    .dataframe tbody tr th:only-of-type {\n",
       "        vertical-align: middle;\n",
       "    }\n",
       "\n",
       "    .dataframe tbody tr th {\n",
       "        vertical-align: top;\n",
       "    }\n",
       "\n",
       "    .dataframe thead th {\n",
       "        text-align: right;\n",
       "    }\n",
       "</style>\n",
       "<table border=\"1\" class=\"dataframe\">\n",
       "  <thead>\n",
       "    <tr style=\"text-align: right;\">\n",
       "      <th></th>\n",
       "      <th>user_id</th>\n",
       "      <th>distance</th>\n",
       "      <th>duration</th>\n",
       "      <th>date</th>\n",
       "      <th>month</th>\n",
       "      <th>name</th>\n",
       "      <th>age</th>\n",
       "      <th>city</th>\n",
       "      <th>subscription_type</th>\n",
       "      <th>age_category</th>\n",
       "    </tr>\n",
       "  </thead>\n",
       "  <tbody>\n",
       "    <tr>\n",
       "      <th>0</th>\n",
       "      <td>1</td>\n",
       "      <td>4409.919140</td>\n",
       "      <td>25.599769</td>\n",
       "      <td>2021-01-01</td>\n",
       "      <td>1</td>\n",
       "      <td>кира</td>\n",
       "      <td>22</td>\n",
       "      <td>тюмень</td>\n",
       "      <td>ultra</td>\n",
       "      <td>youth</td>\n",
       "    </tr>\n",
       "    <tr>\n",
       "      <th>1</th>\n",
       "      <td>1</td>\n",
       "      <td>2617.592153</td>\n",
       "      <td>15.816871</td>\n",
       "      <td>2021-01-18</td>\n",
       "      <td>1</td>\n",
       "      <td>кира</td>\n",
       "      <td>22</td>\n",
       "      <td>тюмень</td>\n",
       "      <td>ultra</td>\n",
       "      <td>youth</td>\n",
       "    </tr>\n",
       "    <tr>\n",
       "      <th>2</th>\n",
       "      <td>1</td>\n",
       "      <td>754.159807</td>\n",
       "      <td>6.232113</td>\n",
       "      <td>2021-04-20</td>\n",
       "      <td>4</td>\n",
       "      <td>кира</td>\n",
       "      <td>22</td>\n",
       "      <td>тюмень</td>\n",
       "      <td>ultra</td>\n",
       "      <td>youth</td>\n",
       "    </tr>\n",
       "    <tr>\n",
       "      <th>3</th>\n",
       "      <td>1</td>\n",
       "      <td>2694.783254</td>\n",
       "      <td>18.511000</td>\n",
       "      <td>2021-08-11</td>\n",
       "      <td>8</td>\n",
       "      <td>кира</td>\n",
       "      <td>22</td>\n",
       "      <td>тюмень</td>\n",
       "      <td>ultra</td>\n",
       "      <td>youth</td>\n",
       "    </tr>\n",
       "    <tr>\n",
       "      <th>4</th>\n",
       "      <td>1</td>\n",
       "      <td>4028.687306</td>\n",
       "      <td>26.265803</td>\n",
       "      <td>2021-08-28</td>\n",
       "      <td>8</td>\n",
       "      <td>кира</td>\n",
       "      <td>22</td>\n",
       "      <td>тюмень</td>\n",
       "      <td>ultra</td>\n",
       "      <td>youth</td>\n",
       "    </tr>\n",
       "    <tr>\n",
       "      <th>5</th>\n",
       "      <td>1</td>\n",
       "      <td>2770.890808</td>\n",
       "      <td>16.650138</td>\n",
       "      <td>2021-10-09</td>\n",
       "      <td>10</td>\n",
       "      <td>кира</td>\n",
       "      <td>22</td>\n",
       "      <td>тюмень</td>\n",
       "      <td>ultra</td>\n",
       "      <td>youth</td>\n",
       "    </tr>\n",
       "    <tr>\n",
       "      <th>6</th>\n",
       "      <td>1</td>\n",
       "      <td>3039.020292</td>\n",
       "      <td>14.927879</td>\n",
       "      <td>2021-10-19</td>\n",
       "      <td>10</td>\n",
       "      <td>кира</td>\n",
       "      <td>22</td>\n",
       "      <td>тюмень</td>\n",
       "      <td>ultra</td>\n",
       "      <td>youth</td>\n",
       "    </tr>\n",
       "    <tr>\n",
       "      <th>7</th>\n",
       "      <td>1</td>\n",
       "      <td>2842.118050</td>\n",
       "      <td>23.117468</td>\n",
       "      <td>2021-11-06</td>\n",
       "      <td>11</td>\n",
       "      <td>кира</td>\n",
       "      <td>22</td>\n",
       "      <td>тюмень</td>\n",
       "      <td>ultra</td>\n",
       "      <td>youth</td>\n",
       "    </tr>\n",
       "    <tr>\n",
       "      <th>8</th>\n",
       "      <td>1</td>\n",
       "      <td>3412.690668</td>\n",
       "      <td>15.238072</td>\n",
       "      <td>2021-11-14</td>\n",
       "      <td>11</td>\n",
       "      <td>кира</td>\n",
       "      <td>22</td>\n",
       "      <td>тюмень</td>\n",
       "      <td>ultra</td>\n",
       "      <td>youth</td>\n",
       "    </tr>\n",
       "    <tr>\n",
       "      <th>9</th>\n",
       "      <td>1</td>\n",
       "      <td>748.690645</td>\n",
       "      <td>15.041884</td>\n",
       "      <td>2021-11-22</td>\n",
       "      <td>11</td>\n",
       "      <td>кира</td>\n",
       "      <td>22</td>\n",
       "      <td>тюмень</td>\n",
       "      <td>ultra</td>\n",
       "      <td>youth</td>\n",
       "    </tr>\n",
       "  </tbody>\n",
       "</table>\n",
       "</div>"
      ],
      "text/plain": [
       "   user_id     distance   duration       date  month  name  age    city  \\\n",
       "0        1  4409.919140  25.599769 2021-01-01      1  кира   22  тюмень   \n",
       "1        1  2617.592153  15.816871 2021-01-18      1  кира   22  тюмень   \n",
       "2        1   754.159807   6.232113 2021-04-20      4  кира   22  тюмень   \n",
       "3        1  2694.783254  18.511000 2021-08-11      8  кира   22  тюмень   \n",
       "4        1  4028.687306  26.265803 2021-08-28      8  кира   22  тюмень   \n",
       "5        1  2770.890808  16.650138 2021-10-09     10  кира   22  тюмень   \n",
       "6        1  3039.020292  14.927879 2021-10-19     10  кира   22  тюмень   \n",
       "7        1  2842.118050  23.117468 2021-11-06     11  кира   22  тюмень   \n",
       "8        1  3412.690668  15.238072 2021-11-14     11  кира   22  тюмень   \n",
       "9        1   748.690645  15.041884 2021-11-22     11  кира   22  тюмень   \n",
       "\n",
       "  subscription_type age_category  \n",
       "0             ultra        youth  \n",
       "1             ultra        youth  \n",
       "2             ultra        youth  \n",
       "3             ultra        youth  \n",
       "4             ultra        youth  \n",
       "5             ultra        youth  \n",
       "6             ultra        youth  \n",
       "7             ultra        youth  \n",
       "8             ultra        youth  \n",
       "9             ultra        youth  "
      ]
     },
     "execution_count": 31,
     "metadata": {},
     "output_type": "execute_result"
    }
   ],
   "source": [
    "rides_users = rides.merge(users, on='user_id', how='left')\n",
    "rides_users.info()\n",
    "rides_users.head(10)"
   ]
  },
  {
   "cell_type": "code",
   "execution_count": 32,
   "id": "ba9d0bf7",
   "metadata": {},
   "outputs": [
    {
     "name": "stdout",
     "output_type": "stream",
     "text": [
      "<class 'pandas.core.frame.DataFrame'>\n",
      "Int64Index: 18068 entries, 0 to 18067\n",
      "Data columns (total 13 columns):\n",
      " #   Column             Non-Null Count  Dtype         \n",
      "---  ------             --------------  -----         \n",
      " 0   user_id            18068 non-null  int64         \n",
      " 1   distance           18068 non-null  float64       \n",
      " 2   duration           18068 non-null  float64       \n",
      " 3   date               18068 non-null  datetime64[ns]\n",
      " 4   month              18068 non-null  int64         \n",
      " 5   name               18068 non-null  object        \n",
      " 6   age                18068 non-null  int64         \n",
      " 7   city               18068 non-null  object        \n",
      " 8   subscription_type  18068 non-null  object        \n",
      " 9   age_category       18068 non-null  object        \n",
      " 10  minute_price       18068 non-null  int64         \n",
      " 11  start_ride_price   18068 non-null  int64         \n",
      " 12  subscription_fee   18068 non-null  int64         \n",
      "dtypes: datetime64[ns](1), float64(2), int64(6), object(4)\n",
      "memory usage: 1.9+ MB\n"
     ]
    }
   ],
   "source": [
    "all_data = rides_users.merge(subscriptions, on='subscription_type')\n",
    "all_data.info()"
   ]
  },
  {
   "cell_type": "markdown",
   "id": "3248cd7f",
   "metadata": {},
   "source": [
    "##### Создание датасетов для пользователей с подпиской и без"
   ]
  },
  {
   "cell_type": "code",
   "execution_count": 33,
   "id": "8f431e42",
   "metadata": {},
   "outputs": [
    {
     "name": "stdout",
     "output_type": "stream",
     "text": [
      "<class 'pandas.core.frame.DataFrame'>\n",
      "Int64Index: 11568 entries, 6500 to 18067\n",
      "Data columns (total 13 columns):\n",
      " #   Column             Non-Null Count  Dtype         \n",
      "---  ------             --------------  -----         \n",
      " 0   user_id            11568 non-null  int64         \n",
      " 1   distance           11568 non-null  float64       \n",
      " 2   duration           11568 non-null  float64       \n",
      " 3   date               11568 non-null  datetime64[ns]\n",
      " 4   month              11568 non-null  int64         \n",
      " 5   name               11568 non-null  object        \n",
      " 6   age                11568 non-null  int64         \n",
      " 7   city               11568 non-null  object        \n",
      " 8   subscription_type  11568 non-null  object        \n",
      " 9   age_category       11568 non-null  object        \n",
      " 10  minute_price       11568 non-null  int64         \n",
      " 11  start_ride_price   11568 non-null  int64         \n",
      " 12  subscription_fee   11568 non-null  int64         \n",
      "dtypes: datetime64[ns](1), float64(2), int64(6), object(4)\n",
      "memory usage: 1.2+ MB\n",
      "<class 'pandas.core.frame.DataFrame'>\n",
      "Int64Index: 6500 entries, 0 to 6499\n",
      "Data columns (total 13 columns):\n",
      " #   Column             Non-Null Count  Dtype         \n",
      "---  ------             --------------  -----         \n",
      " 0   user_id            6500 non-null   int64         \n",
      " 1   distance           6500 non-null   float64       \n",
      " 2   duration           6500 non-null   float64       \n",
      " 3   date               6500 non-null   datetime64[ns]\n",
      " 4   month              6500 non-null   int64         \n",
      " 5   name               6500 non-null   object        \n",
      " 6   age                6500 non-null   int64         \n",
      " 7   city               6500 non-null   object        \n",
      " 8   subscription_type  6500 non-null   object        \n",
      " 9   age_category       6500 non-null   object        \n",
      " 10  minute_price       6500 non-null   int64         \n",
      " 11  start_ride_price   6500 non-null   int64         \n",
      " 12  subscription_fee   6500 non-null   int64         \n",
      "dtypes: datetime64[ns](1), float64(2), int64(6), object(4)\n",
      "memory usage: 710.9+ KB\n"
     ]
    }
   ],
   "source": [
    "users_free = all_data.query('subscription_type == \"free\"')\n",
    "users_ultra = all_data.query('subscription_type == \"ultra\"')\n",
    "\n",
    "users_free.info()\n",
    "users_ultra.info()"
   ]
  },
  {
   "cell_type": "markdown",
   "id": "2dcaf51d",
   "metadata": {},
   "source": [
    "<div class=\"alert-success\" style=\"padding: 20px; border-radius: 10px\">\n",
    "<b>Комментарий ревьюера ✔️</b>\n",
    "\n",
    "Данные объединены верно и отдельные датафреймы созданы правильно. 👍</div>"
   ]
  },
  {
   "cell_type": "markdown",
   "id": "a9ce3bd3",
   "metadata": {},
   "source": [
    "##### Визуализация информацию о расстоянии и времени поездок для пользователей обеих категорий"
   ]
  },
  {
   "cell_type": "markdown",
   "id": "bcf12a47",
   "metadata": {},
   "source": [
    "###### Пользователи без подписки"
   ]
  },
  {
   "cell_type": "code",
   "execution_count": 34,
   "id": "5afee1eb",
   "metadata": {},
   "outputs": [
    {
     "name": "stdout",
     "output_type": "stream",
     "text": [
      "В среднем поездка пользователя без подписки занимает 17.39 мин\n"
     ]
    }
   ],
   "source": [
    "print(f'В среднем поездка пользователя без подписки занимает {users_free[\"duration\"].mean():.2f} мин')"
   ]
  },
  {
   "cell_type": "code",
   "execution_count": 35,
   "id": "ecea0c51",
   "metadata": {
    "scrolled": true
   },
   "outputs": [
    {
     "data": {
      "text/plain": [
       "<AxesSubplot:title={'center':'Распределение времени поездки для пользователей без подписки'}, ylabel='Frequency'>"
      ]
     },
     "execution_count": 35,
     "metadata": {},
     "output_type": "execute_result"
    },
    {
     "data": {
      "image/png": "[encoded data removed]",
      "text/plain": [
       "<Figure size 432x288 with 1 Axes>"
      ]
     },
     "metadata": {
      "needs_background": "light"
     },
     "output_type": "display_data"
    }
   ],
   "source": [
    "users_free['duration'].plot(\n",
    "    kind='hist',\n",
    "    bins=50,\n",
    "    grid=True,\n",
    "    title='Распределение времени поездки для пользователей без подписки'\n",
    ")"
   ]
  },
  {
   "cell_type": "code",
   "execution_count": 36,
   "id": "d96175f6",
   "metadata": {},
   "outputs": [
    {
     "data": {
      "text/plain": [
       "<AxesSubplot:title={'center':'Распределение времени поездки до 5 мин для пользователей без подписки'}, ylabel='Frequency'>"
      ]
     },
     "execution_count": 36,
     "metadata": {},
     "output_type": "execute_result"
    },
    {
     "data": {
      "image/png": "[encoded data removed]",
      "text/plain": [
       "<Figure size 432x288 with 1 Axes>"
      ]
     },
     "metadata": {
      "needs_background": "light"
     },
     "output_type": "display_data"
    }
   ],
   "source": [
    "users_free['duration'].plot(\n",
    "    kind='hist',\n",
    "    bins=5,\n",
    "    range=(0,5),\n",
    "    grid=True,\n",
    "    title='Распределение времени поездки до 5 мин для пользователей без подписки'\n",
    ")"
   ]
  },
  {
   "cell_type": "code",
   "execution_count": 37,
   "id": "a332ecd9",
   "metadata": {
    "scrolled": true
   },
   "outputs": [
    {
     "name": "stdout",
     "output_type": "stream",
     "text": [
      "В среднем пользователь без подписки проезжает расстояние в 3045.50 м\n"
     ]
    }
   ],
   "source": [
    "print(f'В среднем пользователь без подписки проезжает расстояние в {users_free[\"distance\"].mean():.2f} м')"
   ]
  },
  {
   "cell_type": "code",
   "execution_count": 38,
   "id": "1aa0daf9",
   "metadata": {},
   "outputs": [
    {
     "data": {
      "text/plain": [
       "<AxesSubplot:title={'center':'Распределение дистации поездки для пользователей без подписки'}, ylabel='Frequency'>"
      ]
     },
     "execution_count": 38,
     "metadata": {},
     "output_type": "execute_result"
    },
    {
     "data": {
      "image/png": "[encoded data removed]",
      "text/plain": [
       "<Figure size 432x288 with 1 Axes>"
      ]
     },
     "metadata": {
      "needs_background": "light"
     },
     "output_type": "display_data"
    }
   ],
   "source": [
    "users_free['distance'].plot(\n",
    "    kind='hist',\n",
    "    bins=50,\n",
    "    grid=True,\n",
    "    title='Распределение дистации поездки для пользователей без подписки'\n",
    ")"
   ]
  },
  {
   "cell_type": "code",
   "execution_count": 39,
   "id": "731859b6",
   "metadata": {
    "scrolled": true
   },
   "outputs": [
    {
     "name": "stdout",
     "output_type": "stream",
     "text": [
      "В среднем пользователь без подписки совершает 13.85 поездки\n"
     ]
    }
   ],
   "source": [
    "mean_rides_free = users_free.shape[0] / len(users_free['user_id'].unique())\n",
    "print(f'В среднем пользователь без подписки совершает {mean_rides_free:.2f} поездки')"
   ]
  },
  {
   "cell_type": "markdown",
   "id": "ce73cb2b",
   "metadata": {},
   "source": [
    "**Вывод:** Среднее время поездки пользователей без подписки составляеет 17,39 мин. На графике распределения времени наблюдается всплеск поездой до 1 мин. Это может быть связано с тем, что пользователь  удаленно забронировал самокат, но не обратил внимание на то, что он разряжен или он ему просто не понравился. Однако деньги за старт он уже заплатил. На графике распределения дистанции за поездку наблюдается 2 пика. Скорее всего, это поездки, когда пользователи используют самокат, чтобы быстро добраться до остановки, метро, магазина. Срднее расстояние поездки составляет 3045.5 м. Также стоит отметить, что в среднем пользователь без подписки совершает 13,85 поездки."
   ]
  },
  {
   "cell_type": "markdown",
   "id": "ea965525",
   "metadata": {},
   "source": [
    "###### Пользователи без подписки"
   ]
  },
  {
   "cell_type": "code",
   "execution_count": 40,
   "id": "a68c53ce",
   "metadata": {},
   "outputs": [
    {
     "name": "stdout",
     "output_type": "stream",
     "text": [
      "В среднем поездка пользователя с подпиской занимает 18.54 мин\n"
     ]
    }
   ],
   "source": [
    "print(f'В среднем поездка пользователя с подпиской занимает {users_ultra[\"duration\"].mean():.2f} мин')"
   ]
  },
  {
   "cell_type": "code",
   "execution_count": 41,
   "id": "75acd34a",
   "metadata": {},
   "outputs": [
    {
     "data": {
      "text/plain": [
       "<AxesSubplot:title={'center':'Распределение времени поездки для пользователей с подпиской'}, ylabel='Frequency'>"
      ]
     },
     "execution_count": 41,
     "metadata": {},
     "output_type": "execute_result"
    },
    {
     "data": {
      "image/png": "[encoded data removed]",
      "text/plain": [
       "<Figure size 432x288 with 1 Axes>"
      ]
     },
     "metadata": {
      "needs_background": "light"
     },
     "output_type": "display_data"
    }
   ],
   "source": [
    "users_ultra['duration'].plot(\n",
    "    kind='hist',\n",
    "    bins=50,\n",
    "    grid=True,\n",
    "    title='Распределение времени поездки для пользователей с подпиской'\n",
    ")"
   ]
  },
  {
   "cell_type": "code",
   "execution_count": 42,
   "id": "61052d29",
   "metadata": {},
   "outputs": [
    {
     "name": "stdout",
     "output_type": "stream",
     "text": [
      "В среднем пользователь с подпиской проезжает расстояние в 3115.45 м\n"
     ]
    }
   ],
   "source": [
    "print(f'В среднем пользователь с подпиской проезжает расстояние в {users_ultra[\"distance\"].mean():.2f} м')"
   ]
  },
  {
   "cell_type": "code",
   "execution_count": 43,
   "id": "923b9c03",
   "metadata": {},
   "outputs": [
    {
     "data": {
      "text/plain": [
       "<AxesSubplot:title={'center':'Распределение дистации поездки для пользователей с подпиской'}, ylabel='Frequency'>"
      ]
     },
     "execution_count": 43,
     "metadata": {},
     "output_type": "execute_result"
    },
    {
     "data": {
      "image/png": "[encoded data removed]",
      "text/plain": [
       "<Figure size 432x288 with 1 Axes>"
      ]
     },
     "metadata": {
      "needs_background": "light"
     },
     "output_type": "display_data"
    }
   ],
   "source": [
    "users_ultra['distance'].plot(\n",
    "    kind='hist',\n",
    "    bins=50,\n",
    "    grid=True,\n",
    "    title='Распределение дистации поездки для пользователей с подпиской'\n",
    ")"
   ]
  },
  {
   "cell_type": "code",
   "execution_count": 44,
   "id": "875f039f",
   "metadata": {},
   "outputs": [
    {
     "name": "stdout",
     "output_type": "stream",
     "text": [
      "В среднем пользователь с подпиской совершает 9.30 поездки\n"
     ]
    }
   ],
   "source": [
    "mean_rides_ultra = users_ultra.shape[0] / len(users_ultra['user_id'].unique())\n",
    "print(f'В среднем пользователь с подпиской совершает {mean_rides_ultra:.2f} поездки')"
   ]
  },
  {
   "cell_type": "markdown",
   "id": "26c611ab",
   "metadata": {},
   "source": [
    "**Вывод:** Среди пользователей с подпиской наблюдается немного другая картина. Среднее время их поездки больше - 18.54 мин. В отличии от пользователей без подписки распределение времени поездки уже не имеет всплеска в поездках до 1 мин. Однако распределение расстояния также имеет 2 пика. Но здесь малый пик значительно меньше по отношении к большому, чем у пользователей без подписки. Получается, что пользователи с подпиской в основном нацелены на длительные поездки. В среднем каждый пользователь с подпиской совершает 9.3 поездки."
   ]
  },
  {
   "cell_type": "markdown",
   "id": "7c7884d7",
   "metadata": {},
   "source": [
    "<div class=\"alert-success\" style=\"padding: 20px; border-radius: 10px\">\n",
    "<b>Комментарий ревьюера ✔️</b>\n",
    "\n",
    "Cогласен со сравнением, в целом можно отметить, что профили пользователей обеих категорий похожи.\n",
    "\n",
    "💡 Можно совместить на одном графике распределения пользователей с подпиской и без, для более наглядного сравнения.</div>"
   ]
  },
  {
   "cell_type": "markdown",
   "id": "402d620f",
   "metadata": {},
   "source": [
    "#### Шаг 5. Подсчёт выручки"
   ]
  },
  {
   "cell_type": "markdown",
   "id": "3e09cf81",
   "metadata": {},
   "source": [
    "Перед составлением датафрейма с агрегированным данными округлим все значения в столбце `duration` вверх"
   ]
  },
  {
   "cell_type": "code",
   "execution_count": 45,
   "id": "cd08f97e",
   "metadata": {},
   "outputs": [],
   "source": [
    "all_data['duration'] = np.ceil(all_data['duration']).astype('int')"
   ]
  },
  {
   "cell_type": "code",
   "execution_count": 46,
   "id": "a2ebcbad",
   "metadata": {},
   "outputs": [
    {
     "data": {
      "text/html": [
       "<div>\n",
       "<style scoped>\n",
       "    .dataframe tbody tr th:only-of-type {\n",
       "        vertical-align: middle;\n",
       "    }\n",
       "\n",
       "    .dataframe tbody tr th {\n",
       "        vertical-align: top;\n",
       "    }\n",
       "\n",
       "    .dataframe thead th {\n",
       "        text-align: right;\n",
       "    }\n",
       "</style>\n",
       "<table border=\"1\" class=\"dataframe\">\n",
       "  <thead>\n",
       "    <tr style=\"text-align: right;\">\n",
       "      <th></th>\n",
       "      <th>user_id</th>\n",
       "      <th>month</th>\n",
       "      <th>sum_distance</th>\n",
       "      <th>sum_duration</th>\n",
       "      <th>count_rides</th>\n",
       "      <th>subscription_type</th>\n",
       "      <th>minute_price</th>\n",
       "      <th>start_ride_price</th>\n",
       "      <th>subscription_fee</th>\n",
       "    </tr>\n",
       "  </thead>\n",
       "  <tbody>\n",
       "    <tr>\n",
       "      <th>0</th>\n",
       "      <td>1</td>\n",
       "      <td>1</td>\n",
       "      <td>7027.511294</td>\n",
       "      <td>42</td>\n",
       "      <td>2</td>\n",
       "      <td>ultra</td>\n",
       "      <td>6</td>\n",
       "      <td>0</td>\n",
       "      <td>199</td>\n",
       "    </tr>\n",
       "    <tr>\n",
       "      <th>1</th>\n",
       "      <td>1</td>\n",
       "      <td>4</td>\n",
       "      <td>754.159807</td>\n",
       "      <td>7</td>\n",
       "      <td>1</td>\n",
       "      <td>ultra</td>\n",
       "      <td>6</td>\n",
       "      <td>0</td>\n",
       "      <td>199</td>\n",
       "    </tr>\n",
       "    <tr>\n",
       "      <th>2</th>\n",
       "      <td>1</td>\n",
       "      <td>8</td>\n",
       "      <td>6723.470560</td>\n",
       "      <td>46</td>\n",
       "      <td>2</td>\n",
       "      <td>ultra</td>\n",
       "      <td>6</td>\n",
       "      <td>0</td>\n",
       "      <td>199</td>\n",
       "    </tr>\n",
       "    <tr>\n",
       "      <th>3</th>\n",
       "      <td>1</td>\n",
       "      <td>10</td>\n",
       "      <td>5809.911100</td>\n",
       "      <td>32</td>\n",
       "      <td>2</td>\n",
       "      <td>ultra</td>\n",
       "      <td>6</td>\n",
       "      <td>0</td>\n",
       "      <td>199</td>\n",
       "    </tr>\n",
       "    <tr>\n",
       "      <th>4</th>\n",
       "      <td>1</td>\n",
       "      <td>11</td>\n",
       "      <td>7003.499363</td>\n",
       "      <td>56</td>\n",
       "      <td>3</td>\n",
       "      <td>ultra</td>\n",
       "      <td>6</td>\n",
       "      <td>0</td>\n",
       "      <td>199</td>\n",
       "    </tr>\n",
       "  </tbody>\n",
       "</table>\n",
       "</div>"
      ],
      "text/plain": [
       "   user_id  month  sum_distance  sum_duration  count_rides subscription_type  \\\n",
       "0        1      1   7027.511294            42            2             ultra   \n",
       "1        1      4    754.159807             7            1             ultra   \n",
       "2        1      8   6723.470560            46            2             ultra   \n",
       "3        1     10   5809.911100            32            2             ultra   \n",
       "4        1     11   7003.499363            56            3             ultra   \n",
       "\n",
       "   minute_price  start_ride_price  subscription_fee  \n",
       "0             6                 0               199  \n",
       "1             6                 0               199  \n",
       "2             6                 0               199  \n",
       "3             6                 0               199  \n",
       "4             6                 0               199  "
      ]
     },
     "execution_count": 46,
     "metadata": {},
     "output_type": "execute_result"
    }
   ],
   "source": [
    "agg_data = all_data.groupby(by=['user_id', 'month']).agg(\n",
    "    {\n",
    "        'distance': 'sum',\n",
    "        'duration': 'sum',\n",
    "        'name': 'count',\n",
    "        'subscription_type': 'first',\n",
    "        'minute_price': 'first',\n",
    "        'start_ride_price': 'first',\n",
    "        'subscription_fee': 'first'\n",
    "    })\n",
    "agg_data.rename(\n",
    "    columns={\n",
    "        'name': 'count_rides',\n",
    "        'distance': 'sum_distance',\n",
    "        'duration': 'sum_duration'\n",
    "    },\n",
    "    inplace=True\n",
    ")\n",
    "agg_data.reset_index(inplace=True)\n",
    "agg_data.head()"
   ]
  },
  {
   "cell_type": "code",
   "execution_count": 47,
   "id": "8ff2f3e1",
   "metadata": {},
   "outputs": [],
   "source": [
    "def get_income(row):\n",
    "    return (row['count_rides'] * row['start_ride_price']\n",
    "            + row['sum_duration'] * row['minute_price']\n",
    "            + row['subscription_fee'])"
   ]
  },
  {
   "cell_type": "code",
   "execution_count": 48,
   "id": "b24d1d60",
   "metadata": {},
   "outputs": [
    {
     "data": {
      "text/html": [
       "<div>\n",
       "<style scoped>\n",
       "    .dataframe tbody tr th:only-of-type {\n",
       "        vertical-align: middle;\n",
       "    }\n",
       "\n",
       "    .dataframe tbody tr th {\n",
       "        vertical-align: top;\n",
       "    }\n",
       "\n",
       "    .dataframe thead th {\n",
       "        text-align: right;\n",
       "    }\n",
       "</style>\n",
       "<table border=\"1\" class=\"dataframe\">\n",
       "  <thead>\n",
       "    <tr style=\"text-align: right;\">\n",
       "      <th></th>\n",
       "      <th>user_id</th>\n",
       "      <th>month</th>\n",
       "      <th>sum_distance</th>\n",
       "      <th>sum_duration</th>\n",
       "      <th>count_rides</th>\n",
       "      <th>subscription_type</th>\n",
       "      <th>minute_price</th>\n",
       "      <th>start_ride_price</th>\n",
       "      <th>subscription_fee</th>\n",
       "      <th>income</th>\n",
       "    </tr>\n",
       "  </thead>\n",
       "  <tbody>\n",
       "    <tr>\n",
       "      <th>0</th>\n",
       "      <td>1</td>\n",
       "      <td>1</td>\n",
       "      <td>7027.511294</td>\n",
       "      <td>42</td>\n",
       "      <td>2</td>\n",
       "      <td>ultra</td>\n",
       "      <td>6</td>\n",
       "      <td>0</td>\n",
       "      <td>199</td>\n",
       "      <td>451</td>\n",
       "    </tr>\n",
       "    <tr>\n",
       "      <th>1</th>\n",
       "      <td>1</td>\n",
       "      <td>4</td>\n",
       "      <td>754.159807</td>\n",
       "      <td>7</td>\n",
       "      <td>1</td>\n",
       "      <td>ultra</td>\n",
       "      <td>6</td>\n",
       "      <td>0</td>\n",
       "      <td>199</td>\n",
       "      <td>241</td>\n",
       "    </tr>\n",
       "    <tr>\n",
       "      <th>2</th>\n",
       "      <td>1</td>\n",
       "      <td>8</td>\n",
       "      <td>6723.470560</td>\n",
       "      <td>46</td>\n",
       "      <td>2</td>\n",
       "      <td>ultra</td>\n",
       "      <td>6</td>\n",
       "      <td>0</td>\n",
       "      <td>199</td>\n",
       "      <td>475</td>\n",
       "    </tr>\n",
       "    <tr>\n",
       "      <th>3</th>\n",
       "      <td>1</td>\n",
       "      <td>10</td>\n",
       "      <td>5809.911100</td>\n",
       "      <td>32</td>\n",
       "      <td>2</td>\n",
       "      <td>ultra</td>\n",
       "      <td>6</td>\n",
       "      <td>0</td>\n",
       "      <td>199</td>\n",
       "      <td>391</td>\n",
       "    </tr>\n",
       "    <tr>\n",
       "      <th>4</th>\n",
       "      <td>1</td>\n",
       "      <td>11</td>\n",
       "      <td>7003.499363</td>\n",
       "      <td>56</td>\n",
       "      <td>3</td>\n",
       "      <td>ultra</td>\n",
       "      <td>6</td>\n",
       "      <td>0</td>\n",
       "      <td>199</td>\n",
       "      <td>535</td>\n",
       "    </tr>\n",
       "  </tbody>\n",
       "</table>\n",
       "</div>"
      ],
      "text/plain": [
       "   user_id  month  sum_distance  sum_duration  count_rides subscription_type  \\\n",
       "0        1      1   7027.511294            42            2             ultra   \n",
       "1        1      4    754.159807             7            1             ultra   \n",
       "2        1      8   6723.470560            46            2             ultra   \n",
       "3        1     10   5809.911100            32            2             ultra   \n",
       "4        1     11   7003.499363            56            3             ultra   \n",
       "\n",
       "   minute_price  start_ride_price  subscription_fee  income  \n",
       "0             6                 0               199     451  \n",
       "1             6                 0               199     241  \n",
       "2             6                 0               199     475  \n",
       "3             6                 0               199     391  \n",
       "4             6                 0               199     535  "
      ]
     },
     "execution_count": 48,
     "metadata": {},
     "output_type": "execute_result"
    }
   ],
   "source": [
    "agg_data['income'] = agg_data.apply(get_income, axis=1)\n",
    "agg_data.head()"
   ]
  },
  {
   "cell_type": "code",
   "execution_count": 49,
   "id": "96b9ecef",
   "metadata": {},
   "outputs": [
    {
     "data": {
      "text/plain": [
       "subscription_type\n",
       "free     328.641365\n",
       "ultra    362.792191\n",
       "Name: income, dtype: float64"
      ]
     },
     "execution_count": 49,
     "metadata": {},
     "output_type": "execute_result"
    }
   ],
   "source": [
    "# Код ревьюера\n",
    "agg_data.groupby('subscription_type')['income'].mean()"
   ]
  },
  {
   "cell_type": "markdown",
   "id": "05efcce3",
   "metadata": {},
   "source": [
    "<div class=\"alert-success\" style=\"padding: 20px; border-radius: 10px\">\n",
    "<b>Комментарий ревьюера ✔️</b>\n",
    "\n",
    "Выручка рассчитана верно. Молодец, что не забыл про округление длительности каждой поездки. 👍</div>"
   ]
  },
  {
   "cell_type": "markdown",
   "id": "41545ac0",
   "metadata": {},
   "source": [
    "#### Шаг 6. Проверка гипотез"
   ]
  },
  {
   "cell_type": "markdown",
   "id": "59925406",
   "metadata": {},
   "source": [
    "Установим уровень статистической значимости 1%"
   ]
  },
  {
   "cell_type": "code",
   "execution_count": 50,
   "id": "0f30bbd6",
   "metadata": {},
   "outputs": [],
   "source": [
    "alpha = .01"
   ]
  },
  {
   "cell_type": "markdown",
   "id": "c0f15b17",
   "metadata": {},
   "source": [
    "##### Гипотеза о продолжительности поездки"
   ]
  },
  {
   "cell_type": "markdown",
   "id": "e5e9ad8f",
   "metadata": {},
   "source": [
    "$H_0$: Средняя продолжительность поездки пользователей с подпиской равна средней продолжительности поездки пользователей без подписки  \n",
    "$H_1$: Средняя продолжительность поездки пользователей с подпиской больше средней продолжительности поездки пользователей без подписки  "
   ]
  },
  {
   "cell_type": "code",
   "execution_count": 51,
   "id": "23ea867b",
   "metadata": {},
   "outputs": [
    {
     "name": "stdout",
     "output_type": "stream",
     "text": [
      "p-значение: 5.6757813771289775e-37\n",
      "Отвергаем нулевую гипотезу\n"
     ]
    }
   ],
   "source": [
    "results = st.ttest_ind(\n",
    "    users_ultra['duration'],\n",
    "    users_free['duration'],\n",
    "    equal_var=False,\n",
    "    alternative='greater'\n",
    ")\n",
    "print('p-значение:', results.pvalue)\n",
    "if results.pvalue < alpha:\n",
    "    print('Отвергаем нулевую гипотезу')\n",
    "else:\n",
    "    print('Не получилось отвергнуть нулевую гипотезу')"
   ]
  },
  {
   "cell_type": "markdown",
   "id": "4ca0426e",
   "metadata": {},
   "source": [
    "<div class=\"alert-success\" style=\"border-radius: 10px; padding: 20px\">\n",
    "<b>Комментарий ревьюера V2 ✔️</b>\n",
    "\n",
    "Гипотеза сформулирована и проверена правильно!</div>"
   ]
  },
  {
   "cell_type": "markdown",
   "id": "5f244ee1",
   "metadata": {},
   "source": [
    "<div class=\"alert-danger\" style=\"padding: 20px; border-radius: 10px\">\n",
    "<b>Комментарий ревьюера ❌</b>\n",
    "\n",
    "<s>Некоторые блоки кода не работают. Посмотри, пожалуйста, что пошло не так. Перед отправкой проекта стоит проверять работоспособность кода — это можно сделать, нажав на панели Jupiter Hub ``Kernel`` и ``Restart & Run All`` (см скриншот ниже).\n",
    "![](https://i.postimg.cc/yd19rYf6/Screenshot-428.png)</div>"
   ]
  },
  {
   "cell_type": "markdown",
   "id": "a89ec352",
   "metadata": {},
   "source": [
    "<div style=\"border:solid steelblue 3px; padding: 20px; border-radius: 10px\">\n",
    "    \n",
    "<b>Общий комментарий ревьюера</b>\n",
    "\n",
    "Поправь пожалуйста код, чтобы я смог проверить твою работу до конца.\n",
    "    \n",
    "Также, постарайся отработать те комментарии, которые я уже дал.\n",
    "    \n",
    "Буду ждать твой доработанный проект. ⌛️</div>"
   ]
  },
  {
   "cell_type": "markdown",
   "id": "3b10ad6e",
   "metadata": {},
   "source": [
    "<div class=\"alert-info\" style=\"padding: 20px; border-radius: 10px\">\n",
    "<b>Комментарий студента 💎</b>\n",
    "\n",
    "Извиняюсь за такую ситуации. Вроде, перед отправкой даже нажимал выполнить все ячейки, но когда просматривал не заметил, что удалил из импорта библиотеку. Из-за этого и появилась ошибка.  \n",
    "Ошибку исправил.\n",
    "</div>"
   ]
  },
  {
   "cell_type": "markdown",
   "id": "6d3dccde",
   "metadata": {},
   "source": [
    "<div class=\"alert-success\" style=\"border-radius: 10px; padding: 20px\">\n",
    "<b>Комментарий ревьюера V2 ✔️</b>\n",
    "\n",
    "Принято. Теперь все супер!</div>"
   ]
  },
  {
   "cell_type": "markdown",
   "id": "46766989",
   "metadata": {},
   "source": [
    "**Вывод:** в результате t-теста P-values ($5.7 * 10^{-34}$) оказался меньше уровня статичтической значимости (1%). Следовательно, нулевая гипотеза о том, что средняя продолжительность поездки пользователей с подпиской равна средней продолжительности поездки пользователей без подписки должна быть отвегнута в пользу гипотезы о том, что средняя продолжительность поездки пользователей с подпиской больше средней продолжительности поездки пользователей без подписки. А значит, пользователи с подпиской потенциально могут принести сервису больше денег."
   ]
  },
  {
   "cell_type": "markdown",
   "id": "80b2c2ea",
   "metadata": {},
   "source": [
    "##### Гипотеза о расстоянии, преодолеваемом пользователями с подпиской"
   ]
  },
  {
   "cell_type": "markdown",
   "id": "50f52905",
   "metadata": {},
   "source": [
    "$H_0$: Среднее расстояние, преодолеваемое пользователями с подпиской равно 3130 м  \n",
    "$H_1$: Среднее расстояние, преодолеваемое пользователями с подпиской превышает 3130 м  "
   ]
  },
  {
   "cell_type": "code",
   "execution_count": 52,
   "id": "a8f8b8d4",
   "metadata": {},
   "outputs": [
    {
     "name": "stdout",
     "output_type": "stream",
     "text": [
      "p-значение: 0.9195368847849785\n",
      "Не получилось отвергнуть нулевую гипотезу\n"
     ]
    }
   ],
   "source": [
    "intrested_distance = 3130\n",
    "results = st.ttest_1samp(\n",
    "    users_ultra['distance'],\n",
    "    intrested_distance,\n",
    "    alternative='greater'\n",
    ")\n",
    "print('p-значение:', results.pvalue)\n",
    "if results.pvalue < alpha:\n",
    "    print('Отвергаем нулевую гипотезу')\n",
    "else:\n",
    "    print('Не получилось отвергнуть нулевую гипотезу')"
   ]
  },
  {
   "cell_type": "markdown",
   "id": "b3541835",
   "metadata": {},
   "source": [
    "**Вывод:** в результате t-теста P-values ($0.92$) оказался больше уровня статистической значимости (1%). Следовательно, нелувая гипотеза о том, что среднее расстояние, преодолеваемое пользователями с подпиской равно 3130 м не может быть отвергнута. А значит, не оснований полагать, что использование самоката пользователями без подписки больше вредит сервису, чем использование самоката пользователями без подписки. А значит, уже вторая гипотеза говорит нам о том, что подписка не приносит ущерб компании."
   ]
  },
  {
   "cell_type": "markdown",
   "id": "bb93a8c5",
   "metadata": {},
   "source": [
    "<div class=\"alert-success\" style=\"border-radius: 10px; padding: 20px\">\n",
    "<b>Комментарий ревьюера V2 ✔️</b>\n",
    "\n",
    "Совершенно верно. 👌</div>"
   ]
  },
  {
   "cell_type": "markdown",
   "id": "f66eb712",
   "metadata": {},
   "source": [
    "##### Гипотеза о выручке от пользователей с подпиской и без"
   ]
  },
  {
   "cell_type": "markdown",
   "id": "47811dce",
   "metadata": {},
   "source": [
    "$H_0$: Помесячная выручка от пользователей с подпиской равна выручке от пользователей без подписки  \n",
    "$H_1$: Помесячная выручка от пользователей с подпиской выше, чем от пользователей без подписки  "
   ]
  },
  {
   "cell_type": "code",
   "execution_count": 53,
   "id": "b7691dab",
   "metadata": {},
   "outputs": [
    {
     "name": "stdout",
     "output_type": "stream",
     "text": [
      "p-значение: 8.874140893976874e-40\n",
      "Отвергаем нулевую гипотезу\n"
     ]
    }
   ],
   "source": [
    "income_users_ultra = agg_data.query('subscription_type == \"ultra\"')\n",
    "income_users_free = agg_data.query('subscription_type == \"free\"')\n",
    "                                    \n",
    "results = st.ttest_ind(\n",
    "    income_users_ultra['income'],\n",
    "    income_users_free['income'],\n",
    "    equal_var=False,\n",
    "    alternative='greater'\n",
    ")\n",
    "print('p-значение:', results.pvalue)\n",
    "if results.pvalue < alpha:\n",
    "    print('Отвергаем нулевую гипотезу')\n",
    "else:\n",
    "    print('Не получилось отвергнуть нулевую гипотезу')"
   ]
  },
  {
   "cell_type": "markdown",
   "id": "f8883888",
   "metadata": {},
   "source": [
    "**Вывод:** в результате t-теста P-values($8.9 * 10^{-40}$) оказался меньше уровня статистической значимости  (1%). Следовательно, нулевая гипотеза о том, что помесячная выручка от пользователей с подпиской равна выручке от пользователей без подписки должна быть отвегнута в пользу гипотезы о том, что помесячная выручка от пользователей с подпиской выше, чем от пользователей без подписки. А значит, подписка должна быть выгодна компании"
   ]
  },
  {
   "cell_type": "markdown",
   "id": "4228c042",
   "metadata": {},
   "source": [
    "<div class=\"alert-success\" style=\"border-radius: 10px; padding: 20px\">\n",
    "<b>Комментарий ревьюера V2 ✔️</b>\n",
    "\n",
    "Эта гипотеза также проверена правильно.</div>"
   ]
  },
  {
   "cell_type": "markdown",
   "id": "768baa90",
   "metadata": {},
   "source": [
    "##### Гипотеза о снижении обращений в тех поддержку"
   ]
  },
  {
   "cell_type": "markdown",
   "id": "84f471fb",
   "metadata": {},
   "source": [
    "Для проверки данной гитехы необходимо использовать t-тест для зависимых выборок. Необходимо применить метод `ttest_rel()` из библиотеки `scipy.stats`. На вход ему необходимо наборы парных выборок: имеют одинаковый размер и порядок элементов."
   ]
  },
  {
   "cell_type": "markdown",
   "id": "acec7076",
   "metadata": {},
   "source": [
    "**Общий вывод проверки гипотез:** в результате проверки гипотез можно сделать вывод о том, что подписка должна быть выгодна компании и приносить больше прибыли. Также нет оснований полагать, что пользователи с подпиской больше вредят самокатам в результате более интенсивного использования. Далее необходимо проверить данный выовд на практике и через какой-то время сделать повторное исследование. "
   ]
  },
  {
   "cell_type": "markdown",
   "id": "f45e29e6",
   "metadata": {},
   "source": [
    "<div class=\"alert-success\" style=\"padding: 20px; border-radius: 10px\">\n",
    "<b>Комментарий ревьюера V2 ✔️</b>\n",
    "\n",
    "Верно, чтобы проверить, значительно ли уменьшилось количество обращений в техподдержку после обновления серверов, можно использовать t-тест парных выборок.\n",
    "\n",
    "</div>"
   ]
  },
  {
   "cell_type": "markdown",
   "id": "61213c5e",
   "metadata": {},
   "source": [
    "#### Шаг 7. Распределения"
   ]
  },
  {
   "cell_type": "markdown",
   "id": "7c716953",
   "metadata": {},
   "source": [
    "##### Количество промокодов"
   ]
  },
  {
   "cell_type": "markdown",
   "id": "47e61095",
   "metadata": {},
   "source": [
    "По плану необходимо получить минимум 100 новых пользователей с подпиской. Вероятность, что план не будет выполнен должна составлять около 5%. Чтобы план был не выполнен необходимо, чтобы количество новых пользователей с подпиской было меньше либо равно 99."
   ]
  },
  {
   "cell_type": "code",
   "execution_count": 54,
   "id": "95cd1d51",
   "metadata": {},
   "outputs": [
    {
     "name": "stdout",
     "output_type": "stream",
     "text": [
      "N = 1161\n",
      "Вероятность не выполнить план при данном значении Т равна 4.98%\n"
     ]
    }
   ],
   "source": [
    "p = .1\n",
    "k = 100 # План по новым пользователям с подпиской\n",
    "need_percent_fail = .05\n",
    "delta = .0005\n",
    "N = None\n",
    "for n in range(k, 50*k):\n",
    "    percent_fail = binom.cdf(k - 1, n, p)\n",
    "    if need_percent_fail - delta <= percent_fail <= need_percent_fail + delta:\n",
    "        N = n\n",
    "        print(f'N = {N}')\n",
    "        print(f'Вероятность не выполнить план при данном значении Т равна {percent_fail:.2%}')\n",
    "        break;"
   ]
  },
  {
   "cell_type": "markdown",
   "id": "88071ba5",
   "metadata": {},
   "source": [
    "Построим график распределения"
   ]
  },
  {
   "cell_type": "code",
   "execution_count": 55,
   "id": "c184672e",
   "metadata": {},
   "outputs": [
    {
     "name": "stderr",
     "output_type": "stream",
     "text": [
      "/opt/conda/lib/python3.9/site-packages/scipy/stats/_discrete_distns.py:78: RuntimeWarning: divide by zero encountered in _binom_pdf\n",
      "  return _boost._binom_pdf(x, n, p)\n"
     ]
    },
    {
     "data": {
      "text/plain": [
       "<BarContainer object of 1162 artists>"
      ]
     },
     "execution_count": 55,
     "metadata": {},
     "output_type": "execute_result"
    },
    {
     "data": {
      "image/png": "[encoded data removed]",
      "text/plain": [
       "<Figure size 432x288 with 1 Axes>"
      ]
     },
     "metadata": {
      "needs_background": "light"
     },
     "output_type": "display_data"
    }
   ],
   "source": [
    "distr = []\n",
    "\n",
    "for k in range(0, N+1):\n",
    "    prob = binom.pmf(k, N, p)\n",
    "    distr.append(prob)\n",
    "    \n",
    "plt.bar(range(0, N + 1), distr)"
   ]
  },
  {
   "cell_type": "markdown",
   "id": "f5b22c49",
   "metadata": {},
   "source": [
    "**Вывод**: с учетом поставленных условий необходимо разослать 1161 промокод на один бесплатный месяц подписки."
   ]
  },
  {
   "cell_type": "markdown",
   "id": "a8d3f11a",
   "metadata": {},
   "source": [
    "<div class=\"alert-success\" style=\"padding: 20px; border-radius: 10px\">\n",
    "<b>Комментарий ревьюера ✔️</b>\n",
    "\n",
    "Всё верно! 👍\n",
    "\n",
    "</div>"
   ]
  },
  {
   "cell_type": "markdown",
   "id": "9627ae2f",
   "metadata": {},
   "source": [
    "##### Push-уведомления"
   ]
  },
  {
   "cell_type": "markdown",
   "id": "8d83d088",
   "metadata": {},
   "source": [
    "Для решения поставленной задачи необходимо использовать биномиальное распределение.  \n",
    "Проверим условия хорошей апроксимации биномиального распределения нормальным распределением"
   ]
  },
  {
   "cell_type": "code",
   "execution_count": 56,
   "id": "296057ab",
   "metadata": {},
   "outputs": [
    {
     "name": "stdout",
     "output_type": "stream",
     "text": [
      "Хорошие условия для апроксимации\n"
     ]
    }
   ],
   "source": [
    "n = 10**6\n",
    "p = .4\n",
    "\n",
    "mu = n * p\n",
    "sigma = sqrt(n * p * (1 - p))\n",
    "\n",
    "if (mu - 3 * sigma >= 0) and (mu + 3 * sigma < n):\n",
    "    print('Хорошие условия для апроксимации')\n",
    "else:\n",
    "    print('Плохие условия для апроксимации')"
   ]
  },
  {
   "cell_type": "code",
   "execution_count": 57,
   "id": "27c5a686",
   "metadata": {},
   "outputs": [
    {
     "data": {
      "image/png": "[encoded data removed]",
      "text/plain": [
       "<Figure size 432x288 with 1 Axes>"
      ]
     },
     "metadata": {
      "needs_background": "light"
     },
     "output_type": "display_data"
    }
   ],
   "source": [
    "left = int(mu - 4 * sigma)\n",
    "right = int(mu + 4 * sigma)\n",
    "norm_distr = norm(mu, sigma)\n",
    "x = range(left, right, 100)\n",
    "ax = plt.subplot()\n",
    "ax.plot(x, norm_distr.pdf(x))\n",
    "plt.title('Плотность вероятности нормального распределения')\n",
    "plt.grid(True)"
   ]
  },
  {
   "cell_type": "code",
   "execution_count": 58,
   "id": "05629b85",
   "metadata": {},
   "outputs": [
    {
     "name": "stdout",
     "output_type": "stream",
     "text": [
      "Вероятность получить более 399500 кликов равняяется 84.63%\n"
     ]
    }
   ],
   "source": [
    "need_clicks = 399500\n",
    "prob = 1 - norm_distr.cdf(need_clicks)\n",
    "print(f'Вероятность получить более {need_clicks} кликов равняяется {prob:.2%}')"
   ]
  },
  {
   "cell_type": "markdown",
   "id": "1d8eab6f",
   "metadata": {},
   "source": [
    "<div class=\"alert-warning\" style=\"padding: 20px; border-radius: 10px\">\n",
    "<b>Комментарий ревьюера V2 ⚠️</b>\n",
    "\n",
    "Правильнее так, раз мы считаем вероятность успеха 👇\n",
    "</div>"
   ]
  },
  {
   "cell_type": "code",
   "execution_count": 59,
   "id": "01b49c28",
   "metadata": {},
   "outputs": [
    {
     "data": {
      "text/plain": [
       "0.15371708296369768"
      ]
     },
     "execution_count": 59,
     "metadata": {},
     "output_type": "execute_result"
    }
   ],
   "source": [
    "# Код ревьюера\n",
    "norm_distr.cdf(need_clicks)"
   ]
  },
  {
   "cell_type": "markdown",
   "id": "baac6b06",
   "metadata": {},
   "source": [
    "**Вывод:** для решения поставленной задачи необходимо использовать биномиальное распределение. Однако с заданными параметрами распределение хорошо аппроксимируется нормальным распределением. В результате была построена функция плотности вероятности аппроксимированной функции.  \n",
    "399500 кликов будет получено с вероятностью 84.63%"
   ]
  },
  {
   "cell_type": "markdown",
   "id": "623549a3",
   "metadata": {},
   "source": [
    "#### Шаг 8. Общий вывод"
   ]
  },
  {
   "cell_type": "markdown",
   "id": "c22f109a",
   "metadata": {},
   "source": [
    "В результате работы были исследованы данные о пользователях и их поездказ на самокатахх сервиса GoFast. В датасете присутствуют данные за 2021 год (с 2021-01-01 по 2021-12-30) \n",
    "Был проведен исследовательский анализ данных, который показал:  \n",
    "1. Сервис охватывает широкий диапазон возврастных категорий. Самому младшему пользователю 12 лет, а самому старшему 43. Средний возраст - 24.9 года. Почти 95% пользователей являются платежеспособной целевой аудиторией: из них 79% в возрасте от 18 до 30 лет, 15.84% в возрасте старше 30 лет.  \n",
    "2. 45.57% пользователей на данный момент имееют подписку Ultra.  \n",
    "3. На данный момент сервис присутствует в 8 городах. Наибольшее количество пользователей находится в Пятигорске (219 человек), а наименьшее в Москве (168 человек). Однако нет сильно выделяющегося города по количеству пользователей.  \n",
    "4. Распределение дистации за поездку имеет 2 пика, каждый из которых напоминает нормальное распределение. Первый пик имеет вершину на значении примерно 600 м, второй - 3200 м. Это говорит о том, что пользователи используют самокат как для быстрого добора до определенной точки, так и для прогулочной поездки. В среднем пользователи сервиса проезжают 3070 м.  \n",
    "  \n",
    "Были проверены 3 гипотезы: \n",
    "1. Гипотеза о том, что средняя продолжительность поездки пользователей с подпиской равна средней продолжительности поездки пользователей без подписки была отклонена в пользу гипотезы о том, что средняя продолжительность поездки пользователей с подпиской больше средней продолжительности поездки пользователей без подписки  \n",
    "2. Гипотеза о том, что среднее расстояние, преодолеваемое пользователями с подпиской равно 3130 м не подтвердилась и была отклонена  \n",
    "3. Помесячная выручка от пользователей с подпиской равна выручке от пользователей без подписки также была отклонена в пользу гипотезы о том, что помесячная выручка от пользователей с подпиской выше, чем от пользователей без подписки  \n",
    "Все это говорит о том, что подписка должна быть выгодна компании и приносить больше прибыли. Также нет оснований полагать, что пользователи с подпиской больше вредят самокатам в результате более интенсивного использования. Следовательно, компании выгодно стремиться к увеличению пользователей с подпиской. Далее необходимо проверить данный выовд на практике и через какой-то время сделать повторное исследование.  \n",
    "  \n",
    "Если для увеличения числа подписок использовать акцию с раздачей промокода на один бесплатный месяц, то для того, чтобы получить 100 новых пользователей с подпиской с вероятностю 95.02% необходимо раздать 1161 промокод.  \n",
    "При рассылки 1000000 Push-уведомлений более 399500 пользователей откоют данной уведомление с вероятностью 84.63%"
   ]
  },
  {
   "cell_type": "markdown",
   "id": "a74000bb",
   "metadata": {},
   "source": [
    "<div class=\"alert-success\" style=\"border-radius: 10px; padding: 20px\">\n",
    "<b>Комментарий ревьюера V2 ✔️</b>\n",
    "\n",
    "У тебя получился подробный общий вывод, отражающий основные результаты исследования. </div>"
   ]
  },
  {
   "cell_type": "markdown",
   "id": "4a156b63",
   "metadata": {},
   "source": [
    "<div style=\"border:solid steelblue 3px; padding: 20px; border-radius: 10px\">\n",
    "    \n",
    "<b>Общий комментарий ревьюера V2</b>\n",
    "\n",
    "Спасибо, что доработал проект! Критических замечаний нет, получилась очень хорошая работа.\n",
    "    \n",
    "Успехов в дальнейшем обучении! 🏆\n",
    "    \n",
    "</div>"
   ]
  },
  {
   "cell_type": "code",
   "execution_count": null,
   "id": "520060dc",
   "metadata": {},
   "outputs": [],
   "source": []
  }
 ],
 "metadata": {
  "ExecuteTimeLog": [
   {
    "duration": 47,
    "start_time": "2023-05-29T08:56:07.697Z"
   },
   {
    "duration": 358,
    "start_time": "2023-05-29T08:56:49.752Z"
   },
   {
    "duration": 2,
    "start_time": "2023-05-29T08:56:51.490Z"
   },
   {
    "duration": 2,
    "start_time": "2023-05-29T08:56:52.495Z"
   },
   {
    "duration": 87,
    "start_time": "2023-05-29T08:56:53.483Z"
   },
   {
    "duration": 177,
    "start_time": "2023-05-29T08:57:19.011Z"
   },
   {
    "duration": 61,
    "start_time": "2023-05-29T08:57:20.182Z"
   },
   {
    "duration": 13,
    "start_time": "2023-05-29T08:57:42.736Z"
   },
   {
    "duration": 10,
    "start_time": "2023-05-29T08:57:58.405Z"
   },
   {
    "duration": 10,
    "start_time": "2023-05-29T08:58:03.691Z"
   },
   {
    "duration": 9,
    "start_time": "2023-05-29T08:59:34.094Z"
   },
   {
    "duration": 7,
    "start_time": "2023-05-29T08:59:57.182Z"
   },
   {
    "duration": 7,
    "start_time": "2023-05-29T09:00:05.277Z"
   },
   {
    "duration": 7,
    "start_time": "2023-05-29T09:00:27.182Z"
   },
   {
    "duration": 6,
    "start_time": "2023-05-29T09:00:30.782Z"
   },
   {
    "duration": 20,
    "start_time": "2023-05-29T09:09:03.549Z"
   },
   {
    "duration": 16,
    "start_time": "2023-05-29T09:09:13.663Z"
   },
   {
    "duration": 17,
    "start_time": "2023-05-29T09:09:45.379Z"
   },
   {
    "duration": 7,
    "start_time": "2023-05-29T10:38:03.490Z"
   },
   {
    "duration": 20,
    "start_time": "2023-05-29T10:38:07.956Z"
   },
   {
    "duration": 51,
    "start_time": "2023-05-29T10:38:23.421Z"
   },
   {
    "duration": 9,
    "start_time": "2023-05-29T10:40:40.087Z"
   },
   {
    "duration": 7,
    "start_time": "2023-05-29T10:40:51.007Z"
   },
   {
    "duration": 7,
    "start_time": "2023-05-29T10:40:58.642Z"
   },
   {
    "duration": 7,
    "start_time": "2023-05-29T10:41:44.179Z"
   },
   {
    "duration": 8,
    "start_time": "2023-05-29T10:42:16.084Z"
   },
   {
    "duration": 9,
    "start_time": "2023-05-29T10:42:23.239Z"
   },
   {
    "duration": 11,
    "start_time": "2023-05-29T10:42:49.989Z"
   },
   {
    "duration": 10,
    "start_time": "2023-05-29T10:43:01.303Z"
   },
   {
    "duration": 7,
    "start_time": "2023-05-29T10:44:14.139Z"
   },
   {
    "duration": 10,
    "start_time": "2023-05-29T10:44:20.551Z"
   },
   {
    "duration": 18,
    "start_time": "2023-05-29T10:44:30.321Z"
   },
   {
    "duration": 27,
    "start_time": "2023-05-29T10:44:43.713Z"
   },
   {
    "duration": 7,
    "start_time": "2023-05-29T10:45:50.997Z"
   },
   {
    "duration": 9,
    "start_time": "2023-05-29T10:45:57.099Z"
   },
   {
    "duration": 8,
    "start_time": "2023-05-29T10:51:03.139Z"
   },
   {
    "duration": 23,
    "start_time": "2023-05-29T10:51:08.413Z"
   },
   {
    "duration": 8,
    "start_time": "2023-05-29T10:51:22.292Z"
   },
   {
    "duration": 2,
    "start_time": "2023-05-29T10:51:42.578Z"
   },
   {
    "duration": 107,
    "start_time": "2023-05-29T10:51:42.581Z"
   },
   {
    "duration": 14,
    "start_time": "2023-05-29T10:51:42.690Z"
   },
   {
    "duration": 31,
    "start_time": "2023-05-29T10:51:42.706Z"
   },
   {
    "duration": 20,
    "start_time": "2023-05-29T10:51:42.738Z"
   },
   {
    "duration": 12,
    "start_time": "2023-05-29T10:51:42.759Z"
   },
   {
    "duration": 8,
    "start_time": "2023-05-29T10:51:42.772Z"
   },
   {
    "duration": 6,
    "start_time": "2023-05-29T10:51:42.782Z"
   },
   {
    "duration": 10,
    "start_time": "2023-05-29T10:51:42.790Z"
   },
   {
    "duration": 9,
    "start_time": "2023-05-29T10:51:45.143Z"
   },
   {
    "duration": 14,
    "start_time": "2023-05-29T10:51:46.507Z"
   },
   {
    "duration": 9,
    "start_time": "2023-05-29T10:52:13.227Z"
   },
   {
    "duration": 12,
    "start_time": "2023-05-29T10:54:41.327Z"
   },
   {
    "duration": 6,
    "start_time": "2023-05-29T10:54:50.538Z"
   },
   {
    "duration": 14,
    "start_time": "2023-05-29T10:55:14.944Z"
   },
   {
    "duration": 6,
    "start_time": "2023-05-29T10:55:15.880Z"
   },
   {
    "duration": 10,
    "start_time": "2023-05-29T11:12:41.048Z"
   },
   {
    "duration": 18,
    "start_time": "2023-05-29T11:18:58.092Z"
   },
   {
    "duration": 80,
    "start_time": "2023-05-29T11:21:11.877Z"
   },
   {
    "duration": 12,
    "start_time": "2023-05-29T11:21:43.867Z"
   },
   {
    "duration": 10,
    "start_time": "2023-05-29T11:22:41.800Z"
   },
   {
    "duration": 16,
    "start_time": "2023-05-29T11:41:40.786Z"
   },
   {
    "duration": 16,
    "start_time": "2023-05-29T11:41:51.176Z"
   },
   {
    "duration": 2,
    "start_time": "2023-05-29T11:42:01.460Z"
   },
   {
    "duration": 70,
    "start_time": "2023-05-29T11:42:02.184Z"
   },
   {
    "duration": 17,
    "start_time": "2023-05-29T11:42:02.904Z"
   },
   {
    "duration": 11,
    "start_time": "2023-05-29T11:42:19.606Z"
   },
   {
    "duration": 16,
    "start_time": "2023-05-29T11:42:24.020Z"
   },
   {
    "duration": 3,
    "start_time": "2023-05-29T11:42:54.720Z"
   },
   {
    "duration": 3,
    "start_time": "2023-05-29T11:43:03.920Z"
   },
   {
    "duration": 3,
    "start_time": "2023-05-29T11:43:07.844Z"
   },
   {
    "duration": 3,
    "start_time": "2023-05-29T11:43:38.808Z"
   },
   {
    "duration": 71,
    "start_time": "2023-05-29T11:43:38.813Z"
   },
   {
    "duration": 17,
    "start_time": "2023-05-29T11:43:38.886Z"
   },
   {
    "duration": 30,
    "start_time": "2023-05-29T11:43:38.904Z"
   },
   {
    "duration": 13,
    "start_time": "2023-05-29T11:43:38.936Z"
   },
   {
    "duration": 7,
    "start_time": "2023-05-29T11:43:38.950Z"
   },
   {
    "duration": 21,
    "start_time": "2023-05-29T11:43:38.958Z"
   },
   {
    "duration": 7,
    "start_time": "2023-05-29T11:43:38.981Z"
   },
   {
    "duration": 19,
    "start_time": "2023-05-29T11:43:38.989Z"
   },
   {
    "duration": 10,
    "start_time": "2023-05-29T11:43:39.009Z"
   },
   {
    "duration": 30,
    "start_time": "2023-05-29T11:43:39.020Z"
   },
   {
    "duration": 3,
    "start_time": "2023-05-29T11:43:42.476Z"
   },
   {
    "duration": 3,
    "start_time": "2023-05-29T11:43:46.184Z"
   },
   {
    "duration": 37,
    "start_time": "2023-05-29T11:57:39.157Z"
   },
   {
    "duration": 29,
    "start_time": "2023-05-29T11:59:50.613Z"
   },
   {
    "duration": 37,
    "start_time": "2023-05-29T11:59:57.198Z"
   },
   {
    "duration": 9,
    "start_time": "2023-05-29T12:02:07.633Z"
   },
   {
    "duration": 35,
    "start_time": "2023-05-29T12:02:11.614Z"
   },
   {
    "duration": 16,
    "start_time": "2023-05-29T12:02:14.547Z"
   },
   {
    "duration": 20,
    "start_time": "2023-05-29T12:02:22.205Z"
   },
   {
    "duration": 26,
    "start_time": "2023-05-29T12:03:46.484Z"
   },
   {
    "duration": 25,
    "start_time": "2023-05-29T12:04:36.884Z"
   },
   {
    "duration": 26,
    "start_time": "2023-05-29T12:04:47.753Z"
   },
   {
    "duration": 75,
    "start_time": "2023-05-29T12:04:54.688Z"
   },
   {
    "duration": 38,
    "start_time": "2023-05-29T12:04:58.812Z"
   },
   {
    "duration": 32,
    "start_time": "2023-05-29T12:05:23.055Z"
   },
   {
    "duration": 44,
    "start_time": "2023-05-29T12:05:52.797Z"
   },
   {
    "duration": 27,
    "start_time": "2023-05-29T12:05:53.636Z"
   },
   {
    "duration": 3,
    "start_time": "2023-05-29T18:56:09.551Z"
   },
   {
    "duration": 79,
    "start_time": "2023-05-29T18:56:09.555Z"
   },
   {
    "duration": 16,
    "start_time": "2023-05-29T18:56:09.636Z"
   },
   {
    "duration": 24,
    "start_time": "2023-05-29T18:56:09.653Z"
   },
   {
    "duration": 29,
    "start_time": "2023-05-29T18:56:09.679Z"
   },
   {
    "duration": 17,
    "start_time": "2023-05-29T18:56:09.709Z"
   },
   {
    "duration": 11,
    "start_time": "2023-05-29T18:56:09.728Z"
   },
   {
    "duration": 20,
    "start_time": "2023-05-29T18:56:09.741Z"
   },
   {
    "duration": 15,
    "start_time": "2023-05-29T18:56:09.762Z"
   },
   {
    "duration": 16,
    "start_time": "2023-05-29T18:56:09.778Z"
   },
   {
    "duration": 27,
    "start_time": "2023-05-29T18:56:09.796Z"
   },
   {
    "duration": 3,
    "start_time": "2023-05-29T18:56:09.825Z"
   },
   {
    "duration": 15,
    "start_time": "2023-05-29T18:56:13.135Z"
   },
   {
    "duration": 4,
    "start_time": "2023-05-29T18:57:33.117Z"
   },
   {
    "duration": 7,
    "start_time": "2023-05-29T18:57:43.532Z"
   },
   {
    "duration": 10,
    "start_time": "2023-05-29T18:57:54.554Z"
   },
   {
    "duration": 7,
    "start_time": "2023-05-29T18:58:43.099Z"
   },
   {
    "duration": 14,
    "start_time": "2023-05-29T18:58:48.880Z"
   },
   {
    "duration": 17,
    "start_time": "2023-05-29T19:02:23.915Z"
   },
   {
    "duration": 11,
    "start_time": "2023-05-29T19:02:37.226Z"
   },
   {
    "duration": 10,
    "start_time": "2023-05-29T19:03:03.670Z"
   },
   {
    "duration": 9,
    "start_time": "2023-05-29T19:03:14.105Z"
   },
   {
    "duration": 8,
    "start_time": "2023-05-29T19:03:42.486Z"
   },
   {
    "duration": 10,
    "start_time": "2023-05-29T19:03:45.131Z"
   },
   {
    "duration": 11,
    "start_time": "2023-05-29T19:04:04.511Z"
   },
   {
    "duration": 11,
    "start_time": "2023-05-29T19:04:52.033Z"
   },
   {
    "duration": 26,
    "start_time": "2023-05-29T19:05:39.607Z"
   },
   {
    "duration": 13,
    "start_time": "2023-05-29T19:06:23.083Z"
   },
   {
    "duration": 9,
    "start_time": "2023-05-29T19:06:32.642Z"
   },
   {
    "duration": 10,
    "start_time": "2023-05-29T19:06:41.499Z"
   },
   {
    "duration": 12,
    "start_time": "2023-05-29T19:06:45.586Z"
   },
   {
    "duration": 15,
    "start_time": "2023-05-29T19:07:10.003Z"
   },
   {
    "duration": 11,
    "start_time": "2023-05-29T19:07:16.206Z"
   },
   {
    "duration": 12,
    "start_time": "2023-05-29T19:07:21.699Z"
   },
   {
    "duration": 13,
    "start_time": "2023-05-29T19:07:42.011Z"
   },
   {
    "duration": 16,
    "start_time": "2023-05-29T19:07:59.205Z"
   },
   {
    "duration": 13,
    "start_time": "2023-05-29T19:08:10.412Z"
   },
   {
    "duration": 13,
    "start_time": "2023-05-29T19:08:14.224Z"
   },
   {
    "duration": 11,
    "start_time": "2023-05-29T19:08:47.504Z"
   },
   {
    "duration": 477,
    "start_time": "2023-05-29T19:11:46.922Z"
   },
   {
    "duration": 16,
    "start_time": "2023-05-29T19:11:52.487Z"
   },
   {
    "duration": 140,
    "start_time": "2023-05-29T19:14:08.844Z"
   },
   {
    "duration": 10,
    "start_time": "2023-05-29T19:14:51.324Z"
   },
   {
    "duration": 169,
    "start_time": "2023-05-29T19:15:10.923Z"
   },
   {
    "duration": 2,
    "start_time": "2023-05-29T20:42:19.602Z"
   },
   {
    "duration": 81,
    "start_time": "2023-05-29T20:42:19.606Z"
   },
   {
    "duration": 15,
    "start_time": "2023-05-29T20:42:19.689Z"
   },
   {
    "duration": 24,
    "start_time": "2023-05-29T20:42:19.706Z"
   },
   {
    "duration": 13,
    "start_time": "2023-05-29T20:42:19.732Z"
   },
   {
    "duration": 14,
    "start_time": "2023-05-29T20:42:19.746Z"
   },
   {
    "duration": 11,
    "start_time": "2023-05-29T20:42:19.761Z"
   },
   {
    "duration": 7,
    "start_time": "2023-05-29T20:42:19.773Z"
   },
   {
    "duration": 53,
    "start_time": "2023-05-29T20:42:19.781Z"
   },
   {
    "duration": 6,
    "start_time": "2023-05-29T20:42:19.836Z"
   },
   {
    "duration": 13,
    "start_time": "2023-05-29T20:42:19.844Z"
   },
   {
    "duration": 3,
    "start_time": "2023-05-29T20:42:19.858Z"
   },
   {
    "duration": 11,
    "start_time": "2023-05-29T20:42:19.863Z"
   },
   {
    "duration": 8,
    "start_time": "2023-05-29T20:42:20.938Z"
   },
   {
    "duration": 134,
    "start_time": "2023-05-29T20:42:21.597Z"
   },
   {
    "duration": 23,
    "start_time": "2023-05-29T20:42:49.911Z"
   },
   {
    "duration": 18,
    "start_time": "2023-05-29T20:43:00.200Z"
   },
   {
    "duration": 130,
    "start_time": "2023-05-29T20:44:20.342Z"
   },
   {
    "duration": 145,
    "start_time": "2023-05-29T20:44:29.146Z"
   },
   {
    "duration": 12,
    "start_time": "2023-05-29T20:44:35.059Z"
   },
   {
    "duration": 143,
    "start_time": "2023-05-29T20:44:45.953Z"
   },
   {
    "duration": 7,
    "start_time": "2023-05-29T20:47:02.501Z"
   },
   {
    "duration": 13,
    "start_time": "2023-05-29T20:47:12.185Z"
   },
   {
    "duration": 11,
    "start_time": "2023-05-29T20:47:18.841Z"
   },
   {
    "duration": 11,
    "start_time": "2023-05-29T20:47:58.101Z"
   },
   {
    "duration": 1239,
    "start_time": "2023-05-29T20:51:06.602Z"
   },
   {
    "duration": 8,
    "start_time": "2023-05-29T20:51:43.999Z"
   },
   {
    "duration": 3,
    "start_time": "2023-05-29T20:51:49.943Z"
   },
   {
    "duration": 9,
    "start_time": "2023-05-29T20:58:12.729Z"
   },
   {
    "duration": 87,
    "start_time": "2023-05-29T20:58:27.492Z"
   },
   {
    "duration": 89,
    "start_time": "2023-05-29T20:59:05.991Z"
   },
   {
    "duration": 72,
    "start_time": "2023-05-29T20:59:11.874Z"
   },
   {
    "duration": 109,
    "start_time": "2023-05-29T20:59:15.114Z"
   },
   {
    "duration": 110,
    "start_time": "2023-05-29T21:00:22.590Z"
   },
   {
    "duration": 113,
    "start_time": "2023-05-29T21:00:32.404Z"
   },
   {
    "duration": 139,
    "start_time": "2023-05-29T21:00:38.615Z"
   },
   {
    "duration": 149,
    "start_time": "2023-05-29T21:00:45.551Z"
   },
   {
    "duration": 168,
    "start_time": "2023-05-29T21:01:05.003Z"
   },
   {
    "duration": 109,
    "start_time": "2023-05-29T21:01:09.900Z"
   },
   {
    "duration": 136,
    "start_time": "2023-05-29T21:01:51.749Z"
   },
   {
    "duration": 113,
    "start_time": "2023-05-29T21:02:58.295Z"
   },
   {
    "duration": 120,
    "start_time": "2023-05-30T05:55:56.646Z"
   },
   {
    "duration": 17,
    "start_time": "2023-05-30T06:01:17.611Z"
   },
   {
    "duration": 28,
    "start_time": "2023-05-30T06:01:23.764Z"
   },
   {
    "duration": 23,
    "start_time": "2023-05-30T06:03:18.723Z"
   },
   {
    "duration": 23,
    "start_time": "2023-05-30T06:03:42.090Z"
   },
   {
    "duration": 7,
    "start_time": "2023-05-30T06:04:46.756Z"
   },
   {
    "duration": 12,
    "start_time": "2023-05-30T06:04:58.846Z"
   },
   {
    "duration": 127,
    "start_time": "2023-05-30T06:04:59.594Z"
   },
   {
    "duration": 91,
    "start_time": "2023-05-30T06:08:50.777Z"
   },
   {
    "duration": 71,
    "start_time": "2023-05-30T06:08:59.326Z"
   },
   {
    "duration": 8,
    "start_time": "2023-05-30T06:09:11.688Z"
   },
   {
    "duration": 4,
    "start_time": "2023-05-30T06:09:30.514Z"
   },
   {
    "duration": 7,
    "start_time": "2023-05-30T06:10:38.404Z"
   },
   {
    "duration": 117,
    "start_time": "2023-05-30T06:10:47.508Z"
   },
   {
    "duration": 135,
    "start_time": "2023-05-30T06:11:32.210Z"
   },
   {
    "duration": 131,
    "start_time": "2023-05-30T06:12:01.868Z"
   },
   {
    "duration": 143,
    "start_time": "2023-05-30T06:12:21.836Z"
   },
   {
    "duration": 11,
    "start_time": "2023-05-30T06:13:11.224Z"
   },
   {
    "duration": 18,
    "start_time": "2023-05-30T06:14:13.140Z"
   },
   {
    "duration": 27,
    "start_time": "2023-05-30T06:14:20.819Z"
   },
   {
    "duration": 185,
    "start_time": "2023-05-30T06:14:50.572Z"
   },
   {
    "duration": 27,
    "start_time": "2023-05-30T06:14:55.954Z"
   },
   {
    "duration": 25,
    "start_time": "2023-05-30T06:15:22.375Z"
   },
   {
    "duration": 26,
    "start_time": "2023-05-30T06:15:50.953Z"
   },
   {
    "duration": 160,
    "start_time": "2023-05-30T06:16:48.124Z"
   },
   {
    "duration": 68,
    "start_time": "2023-05-30T06:17:14.610Z"
   },
   {
    "duration": 172,
    "start_time": "2023-05-30T06:17:19.835Z"
   },
   {
    "duration": 128,
    "start_time": "2023-05-30T06:18:48.038Z"
   },
   {
    "duration": 140,
    "start_time": "2023-05-30T06:18:57.091Z"
   },
   {
    "duration": 26,
    "start_time": "2023-05-30T06:28:16.045Z"
   },
   {
    "duration": 150,
    "start_time": "2023-05-30T06:30:13.600Z"
   },
   {
    "duration": 7,
    "start_time": "2023-05-30T06:32:32.185Z"
   },
   {
    "duration": 126,
    "start_time": "2023-05-30T06:32:42.714Z"
   },
   {
    "duration": 143,
    "start_time": "2023-05-30T06:32:53.249Z"
   },
   {
    "duration": 179,
    "start_time": "2023-05-30T08:54:51.720Z"
   },
   {
    "duration": 145,
    "start_time": "2023-05-30T08:54:58.484Z"
   },
   {
    "duration": 146,
    "start_time": "2023-05-30T08:55:27.559Z"
   },
   {
    "duration": 26,
    "start_time": "2023-05-30T08:57:38.712Z"
   },
   {
    "duration": 158,
    "start_time": "2023-05-30T08:57:52.651Z"
   },
   {
    "duration": 301,
    "start_time": "2023-05-30T08:57:56.442Z"
   },
   {
    "duration": 23,
    "start_time": "2023-05-30T08:58:00.015Z"
   },
   {
    "duration": 145,
    "start_time": "2023-05-30T08:58:32.222Z"
   },
   {
    "duration": 2,
    "start_time": "2023-05-30T09:05:57.085Z"
   },
   {
    "duration": 3,
    "start_time": "2023-05-30T09:07:07.275Z"
   },
   {
    "duration": 11,
    "start_time": "2023-05-30T09:07:15.300Z"
   },
   {
    "duration": 149,
    "start_time": "2023-05-30T09:07:45.824Z"
   },
   {
    "duration": 146,
    "start_time": "2023-05-30T09:07:57.068Z"
   },
   {
    "duration": 15,
    "start_time": "2023-05-30T09:09:42.146Z"
   },
   {
    "duration": 4,
    "start_time": "2023-05-30T09:10:18.348Z"
   },
   {
    "duration": 21,
    "start_time": "2023-05-30T09:10:25.711Z"
   },
   {
    "duration": 25,
    "start_time": "2023-05-30T09:10:39.354Z"
   },
   {
    "duration": 76,
    "start_time": "2023-05-30T09:12:06.941Z"
   },
   {
    "duration": 99,
    "start_time": "2023-05-30T09:12:10.908Z"
   },
   {
    "duration": 15,
    "start_time": "2023-05-30T09:13:07.339Z"
   },
   {
    "duration": 79,
    "start_time": "2023-05-30T09:14:32.256Z"
   },
   {
    "duration": 181,
    "start_time": "2023-05-30T09:14:35.955Z"
   },
   {
    "duration": 12,
    "start_time": "2023-05-30T09:16:25.488Z"
   },
   {
    "duration": 11,
    "start_time": "2023-05-30T09:16:29.479Z"
   },
   {
    "duration": 10,
    "start_time": "2023-05-30T09:16:47.634Z"
   },
   {
    "duration": 9,
    "start_time": "2023-05-30T09:29:55.642Z"
   },
   {
    "duration": 14,
    "start_time": "2023-05-30T09:30:29.136Z"
   },
   {
    "duration": 11,
    "start_time": "2023-05-30T09:31:00.119Z"
   },
   {
    "duration": 10,
    "start_time": "2023-05-30T09:31:09.148Z"
   },
   {
    "duration": 119,
    "start_time": "2023-05-30T09:31:20.745Z"
   },
   {
    "duration": 97,
    "start_time": "2023-05-30T09:31:59.588Z"
   },
   {
    "duration": 11,
    "start_time": "2023-05-30T09:32:31.891Z"
   },
   {
    "duration": 91,
    "start_time": "2023-05-30T09:37:26.618Z"
   },
   {
    "duration": 4,
    "start_time": "2023-05-30T09:37:31.986Z"
   },
   {
    "duration": 4,
    "start_time": "2023-05-30T09:37:39.756Z"
   },
   {
    "duration": 16,
    "start_time": "2023-05-30T10:14:04.886Z"
   },
   {
    "duration": 13,
    "start_time": "2023-05-30T10:14:34.890Z"
   },
   {
    "duration": 3,
    "start_time": "2023-05-30T10:17:21.348Z"
   },
   {
    "duration": 26,
    "start_time": "2023-05-30T10:18:20.467Z"
   },
   {
    "duration": 27,
    "start_time": "2023-05-30T10:18:26.838Z"
   },
   {
    "duration": 148,
    "start_time": "2023-05-30T10:23:38.908Z"
   },
   {
    "duration": 148,
    "start_time": "2023-05-30T10:24:20.752Z"
   },
   {
    "duration": 165,
    "start_time": "2023-05-30T10:24:33.861Z"
   },
   {
    "duration": 7,
    "start_time": "2023-05-30T10:28:34.585Z"
   },
   {
    "duration": 25,
    "start_time": "2023-05-30T10:28:39.054Z"
   },
   {
    "duration": 25,
    "start_time": "2023-05-30T10:29:24.705Z"
   },
   {
    "duration": 111,
    "start_time": "2023-05-30T10:31:21.425Z"
   },
   {
    "duration": 101,
    "start_time": "2023-05-30T10:31:35.075Z"
   },
   {
    "duration": 92,
    "start_time": "2023-05-30T10:31:58.295Z"
   },
   {
    "duration": 138,
    "start_time": "2023-05-30T10:34:16.173Z"
   },
   {
    "duration": 164,
    "start_time": "2023-05-30T10:34:41.011Z"
   },
   {
    "duration": 10,
    "start_time": "2023-05-30T10:36:48.813Z"
   },
   {
    "duration": 189,
    "start_time": "2023-05-30T10:38:25.431Z"
   },
   {
    "duration": 207,
    "start_time": "2023-05-30T10:38:42.373Z"
   },
   {
    "duration": 16,
    "start_time": "2023-05-30T10:39:40.350Z"
   },
   {
    "duration": 12,
    "start_time": "2023-05-30T10:39:47.601Z"
   },
   {
    "duration": 121,
    "start_time": "2023-05-30T10:40:03.171Z"
   },
   {
    "duration": 135,
    "start_time": "2023-05-30T10:40:20.046Z"
   },
   {
    "duration": 149,
    "start_time": "2023-05-30T10:40:34.986Z"
   },
   {
    "duration": 142,
    "start_time": "2023-05-30T10:40:38.924Z"
   },
   {
    "duration": 170,
    "start_time": "2023-05-30T10:40:46.492Z"
   },
   {
    "duration": 105,
    "start_time": "2023-05-30T10:40:50.346Z"
   },
   {
    "duration": 80,
    "start_time": "2023-05-30T10:42:05.917Z"
   },
   {
    "duration": 167,
    "start_time": "2023-05-30T10:42:12.323Z"
   },
   {
    "duration": 4,
    "start_time": "2023-05-30T10:43:01.735Z"
   },
   {
    "duration": 3,
    "start_time": "2023-05-30T10:43:09.721Z"
   },
   {
    "duration": 3,
    "start_time": "2023-05-30T10:44:35.005Z"
   },
   {
    "duration": 4,
    "start_time": "2023-05-30T10:46:54.411Z"
   },
   {
    "duration": 1339,
    "start_time": "2023-05-30T10:47:01.673Z"
   },
   {
    "duration": 3,
    "start_time": "2023-05-30T10:47:09.455Z"
   },
   {
    "duration": 4,
    "start_time": "2023-05-30T10:47:12.782Z"
   },
   {
    "duration": 172,
    "start_time": "2023-05-30T10:47:47.383Z"
   },
   {
    "duration": 73,
    "start_time": "2023-05-30T10:48:21.986Z"
   },
   {
    "duration": 178,
    "start_time": "2023-05-30T10:48:24.682Z"
   },
   {
    "duration": 7,
    "start_time": "2023-05-30T10:49:54.646Z"
   },
   {
    "duration": 7,
    "start_time": "2023-05-30T10:50:01.392Z"
   },
   {
    "duration": 21,
    "start_time": "2023-05-30T10:50:11.895Z"
   },
   {
    "duration": 18,
    "start_time": "2023-05-30T10:51:34.544Z"
   },
   {
    "duration": 10,
    "start_time": "2023-05-30T10:51:56.711Z"
   },
   {
    "duration": 8,
    "start_time": "2023-05-30T10:52:43.421Z"
   },
   {
    "duration": 4,
    "start_time": "2023-05-30T10:52:51.987Z"
   },
   {
    "duration": 3,
    "start_time": "2023-05-30T10:54:02.322Z"
   },
   {
    "duration": 3,
    "start_time": "2023-05-30T10:57:04.250Z"
   },
   {
    "duration": 188,
    "start_time": "2023-05-30T10:57:10.558Z"
   },
   {
    "duration": 4,
    "start_time": "2023-05-30T10:57:14.750Z"
   },
   {
    "duration": 157,
    "start_time": "2023-05-30T10:57:15.425Z"
   },
   {
    "duration": 4,
    "start_time": "2023-05-30T10:59:28.659Z"
   },
   {
    "duration": 4,
    "start_time": "2023-05-30T10:59:45.953Z"
   },
   {
    "duration": 3,
    "start_time": "2023-05-30T10:59:55.572Z"
   },
   {
    "duration": 3,
    "start_time": "2023-05-30T11:00:58.871Z"
   },
   {
    "duration": 3,
    "start_time": "2023-05-30T11:01:02.687Z"
   },
   {
    "duration": 7,
    "start_time": "2023-05-30T11:04:31.241Z"
   },
   {
    "duration": 148,
    "start_time": "2023-05-30T11:04:38.766Z"
   },
   {
    "duration": 308,
    "start_time": "2023-05-30T11:05:13.665Z"
   },
   {
    "duration": 167,
    "start_time": "2023-05-30T11:05:25.867Z"
   },
   {
    "duration": 175,
    "start_time": "2023-05-30T11:06:16.224Z"
   },
   {
    "duration": 167,
    "start_time": "2023-05-30T11:07:07.276Z"
   },
   {
    "duration": 209,
    "start_time": "2023-05-30T11:19:47.450Z"
   },
   {
    "duration": 26,
    "start_time": "2023-05-30T15:53:25.359Z"
   },
   {
    "duration": 11,
    "start_time": "2023-05-30T15:54:26.498Z"
   },
   {
    "duration": 11,
    "start_time": "2023-05-30T15:54:49.329Z"
   },
   {
    "duration": 12,
    "start_time": "2023-05-30T15:55:01.183Z"
   },
   {
    "duration": 32,
    "start_time": "2023-05-30T15:57:10.713Z"
   },
   {
    "duration": 15,
    "start_time": "2023-05-30T15:58:25.871Z"
   },
   {
    "duration": 13,
    "start_time": "2023-05-30T15:59:53.100Z"
   },
   {
    "duration": 17,
    "start_time": "2023-05-30T16:01:02.016Z"
   },
   {
    "duration": 30,
    "start_time": "2023-05-30T16:02:07.111Z"
   },
   {
    "duration": 23,
    "start_time": "2023-05-30T16:03:21.265Z"
   },
   {
    "duration": 24,
    "start_time": "2023-05-30T16:04:07.227Z"
   },
   {
    "duration": 23,
    "start_time": "2023-05-30T16:04:24.004Z"
   },
   {
    "duration": 24,
    "start_time": "2023-05-30T16:04:35.561Z"
   },
   {
    "duration": 29,
    "start_time": "2023-05-30T16:04:50.569Z"
   },
   {
    "duration": 39,
    "start_time": "2023-05-30T16:04:54.867Z"
   },
   {
    "duration": 38,
    "start_time": "2023-05-30T16:05:06.762Z"
   },
   {
    "duration": 28,
    "start_time": "2023-05-30T16:05:35.196Z"
   },
   {
    "duration": 19,
    "start_time": "2023-05-30T16:11:08.351Z"
   },
   {
    "duration": 23,
    "start_time": "2023-05-30T16:11:25.081Z"
   },
   {
    "duration": 28,
    "start_time": "2023-05-30T16:11:44.458Z"
   },
   {
    "duration": 24,
    "start_time": "2023-05-30T16:12:07.637Z"
   },
   {
    "duration": 23,
    "start_time": "2023-05-30T16:12:13.347Z"
   },
   {
    "duration": 20,
    "start_time": "2023-05-30T16:12:22.262Z"
   },
   {
    "duration": 23,
    "start_time": "2023-05-30T16:12:27.891Z"
   },
   {
    "duration": 21,
    "start_time": "2023-05-30T16:14:12.275Z"
   },
   {
    "duration": 19,
    "start_time": "2023-05-30T16:15:36.448Z"
   },
   {
    "duration": 18,
    "start_time": "2023-05-30T16:18:06.728Z"
   },
   {
    "duration": 19,
    "start_time": "2023-05-30T16:19:07.104Z"
   },
   {
    "duration": 19,
    "start_time": "2023-05-30T16:19:49.283Z"
   },
   {
    "duration": 97,
    "start_time": "2023-05-30T16:21:25.889Z"
   },
   {
    "duration": 19,
    "start_time": "2023-05-30T16:21:29.689Z"
   },
   {
    "duration": 29,
    "start_time": "2023-05-30T16:22:03.184Z"
   },
   {
    "duration": 31,
    "start_time": "2023-05-30T16:22:10.377Z"
   },
   {
    "duration": 24,
    "start_time": "2023-05-30T16:22:28.505Z"
   },
   {
    "duration": 30,
    "start_time": "2023-05-30T16:28:43.474Z"
   },
   {
    "duration": 21,
    "start_time": "2023-05-30T16:29:32.757Z"
   },
   {
    "duration": 27,
    "start_time": "2023-05-30T16:29:40.331Z"
   },
   {
    "duration": 28,
    "start_time": "2023-05-30T16:31:38.541Z"
   },
   {
    "duration": 32,
    "start_time": "2023-05-30T16:31:50.517Z"
   },
   {
    "duration": 28,
    "start_time": "2023-05-30T16:32:14.062Z"
   },
   {
    "duration": 28,
    "start_time": "2023-05-30T16:32:19.769Z"
   },
   {
    "duration": 19,
    "start_time": "2023-05-30T16:32:44.481Z"
   },
   {
    "duration": 11,
    "start_time": "2023-05-30T16:34:41.785Z"
   },
   {
    "duration": 9,
    "start_time": "2023-05-30T16:35:30.198Z"
   },
   {
    "duration": 28,
    "start_time": "2023-05-30T16:41:57.754Z"
   },
   {
    "duration": 532,
    "start_time": "2023-05-30T16:45:07.122Z"
   },
   {
    "duration": 3,
    "start_time": "2023-05-30T16:46:10.954Z"
   },
   {
    "duration": 31,
    "start_time": "2023-05-30T16:46:34.625Z"
   },
   {
    "duration": 0,
    "start_time": "2023-05-30T16:46:56.674Z"
   },
   {
    "duration": 10120,
    "start_time": "2023-05-30T16:47:04.791Z"
   },
   {
    "duration": 1718,
    "start_time": "2023-05-30T16:48:38.686Z"
   },
   {
    "duration": 5,
    "start_time": "2023-05-30T16:48:44.243Z"
   },
   {
    "duration": 3,
    "start_time": "2023-05-30T16:50:00.286Z"
   },
   {
    "duration": 3783,
    "start_time": "2023-05-30T16:50:05.694Z"
   },
   {
    "duration": 3,
    "start_time": "2023-05-30T16:50:43.277Z"
   },
   {
    "duration": 12922,
    "start_time": "2023-05-30T16:50:43.734Z"
   },
   {
    "duration": 3,
    "start_time": "2023-05-30T16:52:16.602Z"
   },
   {
    "duration": 20164,
    "start_time": "2023-05-30T16:52:17.089Z"
   },
   {
    "duration": 3,
    "start_time": "2023-05-30T16:52:47.538Z"
   },
   {
    "duration": 22825,
    "start_time": "2023-05-30T16:52:49.332Z"
   },
   {
    "duration": 94,
    "start_time": "2023-05-30T16:53:27.791Z"
   },
   {
    "duration": 3,
    "start_time": "2023-05-30T16:53:36.890Z"
   },
   {
    "duration": 25712,
    "start_time": "2023-05-30T16:53:38.301Z"
   },
   {
    "duration": 0,
    "start_time": "2023-05-30T16:54:04.015Z"
   },
   {
    "duration": 4,
    "start_time": "2023-05-30T16:54:06.958Z"
   },
   {
    "duration": 14166,
    "start_time": "2023-05-30T16:54:07.610Z"
   },
   {
    "duration": 29,
    "start_time": "2023-05-30T16:58:13.403Z"
   },
   {
    "duration": 3,
    "start_time": "2023-05-30T17:02:57.472Z"
   },
   {
    "duration": 9928,
    "start_time": "2023-05-30T17:03:01.212Z"
   },
   {
    "duration": 3,
    "start_time": "2023-05-30T17:04:50.051Z"
   },
   {
    "duration": 9319,
    "start_time": "2023-05-30T17:04:52.374Z"
   },
   {
    "duration": 6,
    "start_time": "2023-05-30T17:05:56.860Z"
   },
   {
    "duration": 5,
    "start_time": "2023-05-30T17:06:20.050Z"
   },
   {
    "duration": 6,
    "start_time": "2023-05-30T17:07:33.089Z"
   },
   {
    "duration": 5,
    "start_time": "2023-05-30T17:07:55.755Z"
   },
   {
    "duration": 5,
    "start_time": "2023-05-30T17:07:57.973Z"
   },
   {
    "duration": 3,
    "start_time": "2023-05-30T17:08:21.959Z"
   },
   {
    "duration": 1528,
    "start_time": "2023-05-30T17:08:22.403Z"
   },
   {
    "duration": 37,
    "start_time": "2023-05-30T17:09:13.893Z"
   },
   {
    "duration": 8,
    "start_time": "2023-05-30T17:09:31.447Z"
   },
   {
    "duration": 3,
    "start_time": "2023-05-30T17:12:43.483Z"
   },
   {
    "duration": 15,
    "start_time": "2023-05-30T17:14:12.656Z"
   },
   {
    "duration": 11,
    "start_time": "2023-05-30T17:20:45.739Z"
   },
   {
    "duration": 14,
    "start_time": "2023-05-30T17:20:49.138Z"
   },
   {
    "duration": 32,
    "start_time": "2023-05-30T17:57:38.698Z"
   },
   {
    "duration": 41,
    "start_time": "2023-05-30T17:59:33.692Z"
   },
   {
    "duration": 28,
    "start_time": "2023-05-30T17:59:55.404Z"
   },
   {
    "duration": 21,
    "start_time": "2023-05-30T18:00:00.565Z"
   },
   {
    "duration": 20,
    "start_time": "2023-05-30T18:00:14.531Z"
   },
   {
    "duration": 14,
    "start_time": "2023-05-30T18:10:36.931Z"
   },
   {
    "duration": 21,
    "start_time": "2023-05-30T18:10:44.649Z"
   },
   {
    "duration": 18,
    "start_time": "2023-05-30T18:11:06.773Z"
   },
   {
    "duration": 25,
    "start_time": "2023-05-30T18:14:51.613Z"
   },
   {
    "duration": 3,
    "start_time": "2023-05-30T18:17:54.442Z"
   },
   {
    "duration": 3,
    "start_time": "2023-05-30T18:18:34.295Z"
   },
   {
    "duration": 12,
    "start_time": "2023-05-30T18:18:34.996Z"
   },
   {
    "duration": 4,
    "start_time": "2023-05-30T18:18:46.427Z"
   },
   {
    "duration": 12,
    "start_time": "2023-05-30T18:18:46.794Z"
   },
   {
    "duration": 7,
    "start_time": "2023-05-30T18:19:03.084Z"
   },
   {
    "duration": 24,
    "start_time": "2023-05-30T18:20:39.754Z"
   },
   {
    "duration": 4,
    "start_time": "2023-05-30T18:20:54.581Z"
   },
   {
    "duration": 3,
    "start_time": "2023-05-30T18:22:19.534Z"
   },
   {
    "duration": 19,
    "start_time": "2023-05-30T18:22:20.344Z"
   },
   {
    "duration": 3,
    "start_time": "2023-05-30T18:22:37.090Z"
   },
   {
    "duration": 71,
    "start_time": "2023-05-30T18:22:37.094Z"
   },
   {
    "duration": 14,
    "start_time": "2023-05-30T18:22:37.166Z"
   },
   {
    "duration": 16,
    "start_time": "2023-05-30T18:22:37.182Z"
   },
   {
    "duration": 12,
    "start_time": "2023-05-30T18:22:37.199Z"
   },
   {
    "duration": 7,
    "start_time": "2023-05-30T18:22:37.212Z"
   },
   {
    "duration": 11,
    "start_time": "2023-05-30T18:22:37.220Z"
   },
   {
    "duration": 6,
    "start_time": "2023-05-30T18:22:37.232Z"
   },
   {
    "duration": 13,
    "start_time": "2023-05-30T18:22:37.240Z"
   },
   {
    "duration": 23,
    "start_time": "2023-05-30T18:22:37.255Z"
   },
   {
    "duration": 15,
    "start_time": "2023-05-30T18:22:37.279Z"
   },
   {
    "duration": 6,
    "start_time": "2023-05-30T18:22:37.296Z"
   },
   {
    "duration": 21,
    "start_time": "2023-05-30T18:22:37.303Z"
   },
   {
    "duration": 130,
    "start_time": "2023-05-30T18:22:37.326Z"
   },
   {
    "duration": 11,
    "start_time": "2023-05-30T18:22:37.458Z"
   },
   {
    "duration": 9,
    "start_time": "2023-05-30T18:22:37.470Z"
   },
   {
    "duration": 6,
    "start_time": "2023-05-30T18:22:37.480Z"
   },
   {
    "duration": 5,
    "start_time": "2023-05-30T18:22:37.488Z"
   },
   {
    "duration": 6,
    "start_time": "2023-05-30T18:22:37.494Z"
   },
   {
    "duration": 146,
    "start_time": "2023-05-30T18:22:37.516Z"
   },
   {
    "duration": 25,
    "start_time": "2023-05-30T18:22:37.664Z"
   },
   {
    "duration": 147,
    "start_time": "2023-05-30T18:22:37.690Z"
   },
   {
    "duration": 10,
    "start_time": "2023-05-30T18:22:37.838Z"
   },
   {
    "duration": 109,
    "start_time": "2023-05-30T18:22:37.849Z"
   },
   {
    "duration": 5,
    "start_time": "2023-05-30T18:22:37.959Z"
   },
   {
    "duration": 185,
    "start_time": "2023-05-30T18:22:37.966Z"
   },
   {
    "duration": 3,
    "start_time": "2023-05-30T18:22:38.152Z"
   },
   {
    "duration": 173,
    "start_time": "2023-05-30T18:22:38.156Z"
   },
   {
    "duration": 25,
    "start_time": "2023-05-30T18:22:38.330Z"
   },
   {
    "duration": 15,
    "start_time": "2023-05-30T18:22:38.356Z"
   },
   {
    "duration": 22,
    "start_time": "2023-05-30T18:22:38.373Z"
   },
   {
    "duration": 3,
    "start_time": "2023-05-30T18:22:38.416Z"
   },
   {
    "duration": 167,
    "start_time": "2023-05-30T18:22:38.421Z"
   },
   {
    "duration": 433,
    "start_time": "2023-05-30T18:22:38.590Z"
   },
   {
    "duration": 3,
    "start_time": "2023-05-30T18:22:39.025Z"
   },
   {
    "duration": 179,
    "start_time": "2023-05-30T18:22:39.029Z"
   },
   {
    "duration": 7,
    "start_time": "2023-05-30T18:22:39.210Z"
   },
   {
    "duration": 11,
    "start_time": "2023-05-30T18:22:39.218Z"
   },
   {
    "duration": 166,
    "start_time": "2023-05-30T18:22:39.230Z"
   },
   {
    "duration": 3,
    "start_time": "2023-05-30T18:22:39.398Z"
   },
   {
    "duration": 174,
    "start_time": "2023-05-30T18:22:39.404Z"
   },
   {
    "duration": 3,
    "start_time": "2023-05-30T18:22:39.580Z"
   },
   {
    "duration": 7,
    "start_time": "2023-05-30T18:22:39.585Z"
   },
   {
    "duration": 2,
    "start_time": "2023-05-30T18:22:40.334Z"
   },
   {
    "duration": 21,
    "start_time": "2023-05-30T18:22:41.848Z"
   },
   {
    "duration": 14,
    "start_time": "2023-05-30T18:23:11.277Z"
   },
   {
    "duration": 23,
    "start_time": "2023-05-30T18:23:45.981Z"
   },
   {
    "duration": 3,
    "start_time": "2023-05-30T18:23:54.291Z"
   },
   {
    "duration": 21,
    "start_time": "2023-05-30T18:23:58.130Z"
   },
   {
    "duration": 2,
    "start_time": "2023-05-30T18:25:16.933Z"
   },
   {
    "duration": 3,
    "start_time": "2023-05-30T18:28:21.414Z"
   },
   {
    "duration": 3,
    "start_time": "2023-05-30T18:30:01.458Z"
   },
   {
    "duration": 171,
    "start_time": "2023-05-30T18:30:13.961Z"
   },
   {
    "duration": 373,
    "start_time": "2023-05-30T19:06:42.523Z"
   },
   {
    "duration": 49,
    "start_time": "2023-05-30T19:09:07.709Z"
   },
   {
    "duration": 5,
    "start_time": "2023-05-30T19:09:18.286Z"
   },
   {
    "duration": 6,
    "start_time": "2023-05-30T19:10:11.197Z"
   },
   {
    "duration": 5,
    "start_time": "2023-05-30T19:10:41.054Z"
   },
   {
    "duration": 4,
    "start_time": "2023-05-30T19:13:54.029Z"
   },
   {
    "duration": 4,
    "start_time": "2023-05-30T19:14:16.525Z"
   },
   {
    "duration": 3,
    "start_time": "2023-05-30T19:14:25.430Z"
   },
   {
    "duration": 79,
    "start_time": "2023-05-30T19:14:45.785Z"
   },
   {
    "duration": 2,
    "start_time": "2023-05-30T19:14:50.095Z"
   },
   {
    "duration": 5,
    "start_time": "2023-05-30T19:16:57.373Z"
   },
   {
    "duration": 4,
    "start_time": "2023-05-30T19:17:16.918Z"
   },
   {
    "duration": 102,
    "start_time": "2023-05-30T19:22:05.255Z"
   },
   {
    "duration": 23,
    "start_time": "2023-05-30T19:22:09.019Z"
   },
   {
    "duration": 15,
    "start_time": "2023-05-30T19:22:48.422Z"
   },
   {
    "duration": 1623,
    "start_time": "2023-05-30T19:23:17.021Z"
   },
   {
    "duration": 21,
    "start_time": "2023-05-30T21:16:40.674Z"
   },
   {
    "duration": 3,
    "start_time": "2023-05-30T21:17:01.310Z"
   },
   {
    "duration": 123,
    "start_time": "2023-05-30T21:17:01.315Z"
   },
   {
    "duration": 16,
    "start_time": "2023-05-30T21:17:01.439Z"
   },
   {
    "duration": 43,
    "start_time": "2023-05-30T21:17:01.456Z"
   },
   {
    "duration": 81,
    "start_time": "2023-05-30T21:17:01.501Z"
   },
   {
    "duration": 69,
    "start_time": "2023-05-30T21:17:01.583Z"
   },
   {
    "duration": 51,
    "start_time": "2023-05-30T21:17:01.653Z"
   },
   {
    "duration": 52,
    "start_time": "2023-05-30T21:17:01.705Z"
   },
   {
    "duration": 97,
    "start_time": "2023-05-30T21:17:01.760Z"
   },
   {
    "duration": 96,
    "start_time": "2023-05-30T21:17:01.859Z"
   },
   {
    "duration": 52,
    "start_time": "2023-05-30T21:17:01.957Z"
   },
   {
    "duration": 69,
    "start_time": "2023-05-30T21:17:02.011Z"
   },
   {
    "duration": 34,
    "start_time": "2023-05-30T21:17:02.082Z"
   },
   {
    "duration": 149,
    "start_time": "2023-05-30T21:17:02.117Z"
   },
   {
    "duration": 13,
    "start_time": "2023-05-30T21:17:02.267Z"
   },
   {
    "duration": 17,
    "start_time": "2023-05-30T21:17:02.281Z"
   },
   {
    "duration": 23,
    "start_time": "2023-05-30T21:17:02.299Z"
   },
   {
    "duration": 32,
    "start_time": "2023-05-30T21:17:02.324Z"
   },
   {
    "duration": 10,
    "start_time": "2023-05-30T21:17:02.358Z"
   },
   {
    "duration": 174,
    "start_time": "2023-05-30T21:17:02.369Z"
   },
   {
    "duration": 26,
    "start_time": "2023-05-30T21:17:02.545Z"
   },
   {
    "duration": 152,
    "start_time": "2023-05-30T21:17:02.573Z"
   },
   {
    "duration": 12,
    "start_time": "2023-05-30T21:17:02.726Z"
   },
   {
    "duration": 109,
    "start_time": "2023-05-30T21:17:02.740Z"
   },
   {
    "duration": 4,
    "start_time": "2023-05-30T21:17:02.850Z"
   },
   {
    "duration": 182,
    "start_time": "2023-05-30T21:17:02.855Z"
   },
   {
    "duration": 4,
    "start_time": "2023-05-30T21:17:03.038Z"
   },
   {
    "duration": 193,
    "start_time": "2023-05-30T21:17:03.043Z"
   },
   {
    "duration": 25,
    "start_time": "2023-05-30T21:17:03.238Z"
   },
   {
    "duration": 15,
    "start_time": "2023-05-30T21:17:03.265Z"
   },
   {
    "duration": 49,
    "start_time": "2023-05-30T21:17:03.281Z"
   },
   {
    "duration": 5,
    "start_time": "2023-05-30T21:17:03.331Z"
   },
   {
    "duration": 170,
    "start_time": "2023-05-30T21:17:03.337Z"
   },
   {
    "duration": 123,
    "start_time": "2023-05-30T21:17:03.508Z"
   },
   {
    "duration": 4,
    "start_time": "2023-05-30T21:17:03.632Z"
   },
   {
    "duration": 183,
    "start_time": "2023-05-30T21:17:03.637Z"
   },
   {
    "duration": 6,
    "start_time": "2023-05-30T21:17:03.821Z"
   },
   {
    "duration": 35,
    "start_time": "2023-05-30T21:17:03.829Z"
   },
   {
    "duration": 177,
    "start_time": "2023-05-30T21:17:03.866Z"
   },
   {
    "duration": 3,
    "start_time": "2023-05-30T21:17:04.044Z"
   },
   {
    "duration": 311,
    "start_time": "2023-05-30T21:17:04.048Z"
   },
   {
    "duration": 3,
    "start_time": "2023-05-30T21:17:04.360Z"
   },
   {
    "duration": 36,
    "start_time": "2023-05-30T21:17:04.364Z"
   },
   {
    "duration": 47,
    "start_time": "2023-05-30T21:17:04.401Z"
   },
   {
    "duration": 44,
    "start_time": "2023-05-30T21:17:04.450Z"
   },
   {
    "duration": 184,
    "start_time": "2023-05-30T21:17:04.495Z"
   },
   {
    "duration": 2,
    "start_time": "2023-05-30T21:17:04.681Z"
   },
   {
    "duration": 9,
    "start_time": "2023-05-30T21:17:04.685Z"
   },
   {
    "duration": 11,
    "start_time": "2023-05-30T21:17:04.696Z"
   },
   {
    "duration": 21,
    "start_time": "2023-05-30T21:17:04.708Z"
   },
   {
    "duration": 17,
    "start_time": "2023-05-30T21:17:10.158Z"
   },
   {
    "duration": 9,
    "start_time": "2023-05-30T21:17:11.184Z"
   },
   {
    "duration": 10,
    "start_time": "2023-05-30T21:21:23.024Z"
   },
   {
    "duration": 9,
    "start_time": "2023-05-30T21:21:30.052Z"
   },
   {
    "duration": 13,
    "start_time": "2023-05-30T21:21:35.847Z"
   },
   {
    "duration": 8,
    "start_time": "2023-05-30T21:21:51.513Z"
   },
   {
    "duration": 33,
    "start_time": "2023-05-31T05:20:03.150Z"
   },
   {
    "duration": 2,
    "start_time": "2023-05-31T05:20:09.348Z"
   },
   {
    "duration": 9,
    "start_time": "2023-05-31T05:23:41.929Z"
   },
   {
    "duration": 11,
    "start_time": "2023-05-31T05:23:59.479Z"
   },
   {
    "duration": 207,
    "start_time": "2023-05-31T06:05:44.372Z"
   },
   {
    "duration": 292,
    "start_time": "2023-05-31T06:05:57.298Z"
   },
   {
    "duration": 197,
    "start_time": "2023-05-31T06:06:06.147Z"
   },
   {
    "duration": 203,
    "start_time": "2023-05-31T06:06:25.741Z"
   },
   {
    "duration": 225,
    "start_time": "2023-05-31T06:06:30.214Z"
   },
   {
    "duration": 500,
    "start_time": "2023-05-31T06:06:42.546Z"
   },
   {
    "duration": 4541,
    "start_time": "2023-05-31T06:06:48.469Z"
   },
   {
    "duration": 4463,
    "start_time": "2023-05-31T06:07:12.643Z"
   },
   {
    "duration": 6748,
    "start_time": "2023-05-31T06:07:52.122Z"
   },
   {
    "duration": 8738,
    "start_time": "2023-05-31T06:09:31.005Z"
   },
   {
    "duration": 5486,
    "start_time": "2023-05-31T06:10:20.454Z"
   },
   {
    "duration": 275,
    "start_time": "2023-05-31T06:10:29.821Z"
   },
   {
    "duration": 544,
    "start_time": "2023-05-31T06:10:35.623Z"
   },
   {
    "duration": 762,
    "start_time": "2023-05-31T06:10:40.948Z"
   },
   {
    "duration": 642,
    "start_time": "2023-05-31T06:11:04.999Z"
   },
   {
    "duration": 622,
    "start_time": "2023-05-31T06:11:16.125Z"
   },
   {
    "duration": 646,
    "start_time": "2023-05-31T06:12:37.139Z"
   },
   {
    "duration": 634,
    "start_time": "2023-05-31T06:12:48.237Z"
   },
   {
    "duration": 654,
    "start_time": "2023-05-31T06:12:55.578Z"
   },
   {
    "duration": 657,
    "start_time": "2023-05-31T06:13:12.204Z"
   },
   {
    "duration": 671,
    "start_time": "2023-05-31T06:13:49.308Z"
   },
   {
    "duration": 4,
    "start_time": "2023-05-31T06:15:20.511Z"
   },
   {
    "duration": 11,
    "start_time": "2023-05-31T06:19:36.557Z"
   },
   {
    "duration": 4,
    "start_time": "2023-05-31T06:19:47.030Z"
   },
   {
    "duration": 510,
    "start_time": "2023-05-31T06:24:04.075Z"
   },
   {
    "duration": 1505,
    "start_time": "2023-05-31T06:24:38.539Z"
   },
   {
    "duration": 1547,
    "start_time": "2023-05-31T06:25:17.785Z"
   },
   {
    "duration": 250,
    "start_time": "2023-05-31T06:25:48.154Z"
   },
   {
    "duration": 1281,
    "start_time": "2023-05-31T06:26:10.429Z"
   },
   {
    "duration": 3,
    "start_time": "2023-05-31T06:26:48.008Z"
   },
   {
    "duration": 1612,
    "start_time": "2023-05-31T06:26:51.821Z"
   },
   {
    "duration": 9,
    "start_time": "2023-05-31T06:27:12.027Z"
   },
   {
    "duration": 112,
    "start_time": "2023-05-31T06:27:21.481Z"
   },
   {
    "duration": 314,
    "start_time": "2023-05-31T06:27:39.508Z"
   },
   {
    "duration": 1669,
    "start_time": "2023-05-31T06:27:48.295Z"
   },
   {
    "duration": 110,
    "start_time": "2023-05-31T06:30:20.282Z"
   },
   {
    "duration": 120,
    "start_time": "2023-05-31T06:31:24.025Z"
   },
   {
    "duration": 1495,
    "start_time": "2023-05-31T06:31:25.421Z"
   },
   {
    "duration": 11,
    "start_time": "2023-05-31T07:38:33.935Z"
   },
   {
    "duration": 8,
    "start_time": "2023-05-31T07:38:40.702Z"
   },
   {
    "duration": 4,
    "start_time": "2023-05-31T07:38:57.131Z"
   },
   {
    "duration": 124,
    "start_time": "2023-05-31T07:39:01.155Z"
   },
   {
    "duration": 1889,
    "start_time": "2023-05-31T07:39:02.481Z"
   },
   {
    "duration": 4,
    "start_time": "2023-05-31T07:41:30.874Z"
   },
   {
    "duration": 103,
    "start_time": "2023-05-31T07:48:28.554Z"
   },
   {
    "duration": 125,
    "start_time": "2023-05-31T07:49:03.092Z"
   },
   {
    "duration": 5,
    "start_time": "2023-05-31T07:49:16.532Z"
   },
   {
    "duration": 9,
    "start_time": "2023-05-31T07:49:28.982Z"
   },
   {
    "duration": 4,
    "start_time": "2023-05-31T07:49:44.994Z"
   },
   {
    "duration": 135,
    "start_time": "2023-05-31T07:49:46.112Z"
   },
   {
    "duration": 136,
    "start_time": "2023-05-31T07:50:01.645Z"
   },
   {
    "duration": 111,
    "start_time": "2023-05-31T07:50:35.036Z"
   },
   {
    "duration": 143,
    "start_time": "2023-05-31T07:50:38.253Z"
   },
   {
    "duration": 4,
    "start_time": "2023-05-31T07:51:12.250Z"
   },
   {
    "duration": 115,
    "start_time": "2023-05-31T07:51:14.605Z"
   },
   {
    "duration": 106,
    "start_time": "2023-05-31T07:51:22.180Z"
   },
   {
    "duration": 112,
    "start_time": "2023-05-31T07:51:31.880Z"
   },
   {
    "duration": 107,
    "start_time": "2023-05-31T07:52:06.319Z"
   },
   {
    "duration": 120,
    "start_time": "2023-05-31T07:52:19.810Z"
   },
   {
    "duration": 111,
    "start_time": "2023-05-31T07:52:32.651Z"
   },
   {
    "duration": 110,
    "start_time": "2023-05-31T07:52:58.647Z"
   },
   {
    "duration": 5,
    "start_time": "2023-05-31T07:53:50.984Z"
   },
   {
    "duration": 114,
    "start_time": "2023-05-31T07:53:52.701Z"
   },
   {
    "duration": 4,
    "start_time": "2023-05-31T07:54:47.354Z"
   },
   {
    "duration": 118,
    "start_time": "2023-05-31T07:54:52.641Z"
   },
   {
    "duration": 126,
    "start_time": "2023-05-31T07:55:33.659Z"
   },
   {
    "duration": 104,
    "start_time": "2023-05-31T07:55:39.369Z"
   },
   {
    "duration": 97,
    "start_time": "2023-05-31T07:55:46.536Z"
   },
   {
    "duration": 128,
    "start_time": "2023-05-31T07:55:59.027Z"
   },
   {
    "duration": 128,
    "start_time": "2023-05-31T07:57:07.156Z"
   },
   {
    "duration": 138,
    "start_time": "2023-05-31T07:57:22.192Z"
   },
   {
    "duration": 145,
    "start_time": "2023-05-31T07:57:29.505Z"
   },
   {
    "duration": 97,
    "start_time": "2023-05-31T07:58:52.854Z"
   },
   {
    "duration": 137,
    "start_time": "2023-05-31T07:58:57.377Z"
   },
   {
    "duration": 170,
    "start_time": "2023-05-31T08:01:18.472Z"
   },
   {
    "duration": 8,
    "start_time": "2023-05-31T08:01:26.476Z"
   },
   {
    "duration": 151,
    "start_time": "2023-05-31T08:01:31.713Z"
   },
   {
    "duration": 3,
    "start_time": "2023-05-31T08:01:32.194Z"
   },
   {
    "duration": 5,
    "start_time": "2023-05-31T08:02:09.507Z"
   },
   {
    "duration": 105,
    "start_time": "2023-05-31T08:03:24.831Z"
   },
   {
    "duration": 103,
    "start_time": "2023-05-31T08:03:52.880Z"
   },
   {
    "duration": 109,
    "start_time": "2023-05-31T08:03:56.660Z"
   },
   {
    "duration": 149,
    "start_time": "2023-05-31T08:04:06.253Z"
   },
   {
    "duration": 146,
    "start_time": "2023-05-31T08:04:30.224Z"
   },
   {
    "duration": 4,
    "start_time": "2023-05-31T08:05:05.075Z"
   },
   {
    "duration": 178,
    "start_time": "2023-05-31T08:05:05.450Z"
   },
   {
    "duration": 4,
    "start_time": "2023-05-31T08:05:06.358Z"
   },
   {
    "duration": 5,
    "start_time": "2023-05-31T08:06:23.115Z"
   },
   {
    "duration": 4,
    "start_time": "2023-05-31T08:06:27.569Z"
   },
   {
    "duration": 4,
    "start_time": "2023-05-31T08:06:33.179Z"
   },
   {
    "duration": 4,
    "start_time": "2023-05-31T08:06:35.415Z"
   },
   {
    "duration": 4,
    "start_time": "2023-05-31T08:07:15.923Z"
   },
   {
    "duration": 3,
    "start_time": "2023-05-31T08:07:21.817Z"
   },
   {
    "duration": 5,
    "start_time": "2023-05-31T08:07:35.284Z"
   },
   {
    "duration": 4,
    "start_time": "2023-05-31T08:07:43.677Z"
   },
   {
    "duration": 2,
    "start_time": "2023-05-31T08:40:39.640Z"
   },
   {
    "duration": 68,
    "start_time": "2023-05-31T08:40:39.644Z"
   },
   {
    "duration": 16,
    "start_time": "2023-05-31T08:40:39.714Z"
   },
   {
    "duration": 16,
    "start_time": "2023-05-31T08:40:39.731Z"
   },
   {
    "duration": 12,
    "start_time": "2023-05-31T08:40:39.749Z"
   },
   {
    "duration": 10,
    "start_time": "2023-05-31T08:40:39.763Z"
   },
   {
    "duration": 10,
    "start_time": "2023-05-31T08:40:39.775Z"
   },
   {
    "duration": 32,
    "start_time": "2023-05-31T08:40:39.786Z"
   },
   {
    "duration": 15,
    "start_time": "2023-05-31T08:40:39.819Z"
   },
   {
    "duration": 12,
    "start_time": "2023-05-31T08:40:39.835Z"
   },
   {
    "duration": 14,
    "start_time": "2023-05-31T08:40:39.848Z"
   },
   {
    "duration": 3,
    "start_time": "2023-05-31T08:40:39.864Z"
   },
   {
    "duration": 15,
    "start_time": "2023-05-31T08:40:39.869Z"
   },
   {
    "duration": 155,
    "start_time": "2023-05-31T08:40:39.887Z"
   },
   {
    "duration": 11,
    "start_time": "2023-05-31T08:40:40.043Z"
   },
   {
    "duration": 8,
    "start_time": "2023-05-31T08:40:40.056Z"
   },
   {
    "duration": 6,
    "start_time": "2023-05-31T08:40:40.065Z"
   },
   {
    "duration": 12,
    "start_time": "2023-05-31T08:40:40.072Z"
   },
   {
    "duration": 8,
    "start_time": "2023-05-31T08:40:40.086Z"
   },
   {
    "duration": 163,
    "start_time": "2023-05-31T08:40:40.096Z"
   },
   {
    "duration": 25,
    "start_time": "2023-05-31T08:40:40.261Z"
   },
   {
    "duration": 160,
    "start_time": "2023-05-31T08:40:40.287Z"
   },
   {
    "duration": 11,
    "start_time": "2023-05-31T08:40:40.449Z"
   },
   {
    "duration": 107,
    "start_time": "2023-05-31T08:40:40.462Z"
   },
   {
    "duration": 3,
    "start_time": "2023-05-31T08:40:40.570Z"
   },
   {
    "duration": 178,
    "start_time": "2023-05-31T08:40:40.574Z"
   },
   {
    "duration": 3,
    "start_time": "2023-05-31T08:40:40.753Z"
   },
   {
    "duration": 175,
    "start_time": "2023-05-31T08:40:40.758Z"
   },
   {
    "duration": 26,
    "start_time": "2023-05-31T08:40:40.934Z"
   },
   {
    "duration": 16,
    "start_time": "2023-05-31T08:40:40.961Z"
   },
   {
    "duration": 44,
    "start_time": "2023-05-31T08:40:40.978Z"
   },
   {
    "duration": 3,
    "start_time": "2023-05-31T08:40:41.024Z"
   },
   {
    "duration": 179,
    "start_time": "2023-05-31T08:40:41.028Z"
   },
   {
    "duration": 133,
    "start_time": "2023-05-31T08:40:41.208Z"
   },
   {
    "duration": 4,
    "start_time": "2023-05-31T08:40:41.342Z"
   },
   {
    "duration": 201,
    "start_time": "2023-05-31T08:40:41.348Z"
   },
   {
    "duration": 3,
    "start_time": "2023-05-31T08:40:41.551Z"
   },
   {
    "duration": 10,
    "start_time": "2023-05-31T08:40:41.556Z"
   },
   {
    "duration": 190,
    "start_time": "2023-05-31T08:40:41.567Z"
   },
   {
    "duration": 3,
    "start_time": "2023-05-31T08:40:41.759Z"
   },
   {
    "duration": 200,
    "start_time": "2023-05-31T08:40:41.766Z"
   },
   {
    "duration": 4,
    "start_time": "2023-05-31T08:40:41.967Z"
   },
   {
    "duration": 15,
    "start_time": "2023-05-31T08:40:41.972Z"
   },
   {
    "duration": 40,
    "start_time": "2023-05-31T08:40:41.988Z"
   },
   {
    "duration": 3,
    "start_time": "2023-05-31T08:40:42.029Z"
   },
   {
    "duration": 219,
    "start_time": "2023-05-31T08:40:42.034Z"
   },
   {
    "duration": 3,
    "start_time": "2023-05-31T08:40:42.254Z"
   },
   {
    "duration": 16,
    "start_time": "2023-05-31T08:40:42.258Z"
   },
   {
    "duration": 17,
    "start_time": "2023-05-31T08:40:42.275Z"
   },
   {
    "duration": 22,
    "start_time": "2023-05-31T08:40:42.293Z"
   },
   {
    "duration": 137,
    "start_time": "2023-05-31T08:40:42.317Z"
   },
   {
    "duration": 2026,
    "start_time": "2023-05-31T08:40:42.456Z"
   },
   {
    "duration": 3,
    "start_time": "2023-05-31T08:40:44.484Z"
   },
   {
    "duration": 160,
    "start_time": "2023-05-31T08:40:44.489Z"
   },
   {
    "duration": 4,
    "start_time": "2023-05-31T08:40:44.650Z"
   },
   {
    "duration": 1044,
    "start_time": "2023-05-31T13:54:00.878Z"
   },
   {
    "duration": 128,
    "start_time": "2023-05-31T13:54:01.923Z"
   },
   {
    "duration": 203,
    "start_time": "2023-05-31T13:54:02.053Z"
   },
   {
    "duration": 230,
    "start_time": "2023-05-31T13:54:02.258Z"
   },
   {
    "duration": 206,
    "start_time": "2023-05-31T13:54:02.490Z"
   },
   {
    "duration": 61,
    "start_time": "2023-05-31T13:54:02.697Z"
   },
   {
    "duration": 33,
    "start_time": "2023-05-31T13:54:02.759Z"
   },
   {
    "duration": 23,
    "start_time": "2023-05-31T13:54:02.794Z"
   },
   {
    "duration": 24,
    "start_time": "2023-05-31T13:54:02.819Z"
   },
   {
    "duration": 39,
    "start_time": "2023-05-31T13:54:02.847Z"
   },
   {
    "duration": 29,
    "start_time": "2023-05-31T13:54:02.888Z"
   },
   {
    "duration": 9,
    "start_time": "2023-05-31T13:54:02.919Z"
   },
   {
    "duration": 65,
    "start_time": "2023-05-31T13:54:02.930Z"
   },
   {
    "duration": 188,
    "start_time": "2023-05-31T13:54:02.997Z"
   },
   {
    "duration": 13,
    "start_time": "2023-05-31T13:54:03.192Z"
   },
   {
    "duration": 41,
    "start_time": "2023-05-31T13:54:03.207Z"
   },
   {
    "duration": 34,
    "start_time": "2023-05-31T13:54:03.250Z"
   },
   {
    "duration": 29,
    "start_time": "2023-05-31T13:54:03.286Z"
   },
   {
    "duration": 30,
    "start_time": "2023-05-31T13:54:03.317Z"
   },
   {
    "duration": 223,
    "start_time": "2023-05-31T13:54:03.349Z"
   },
   {
    "duration": 28,
    "start_time": "2023-05-31T13:54:03.574Z"
   },
   {
    "duration": 179,
    "start_time": "2023-05-31T13:54:03.603Z"
   },
   {
    "duration": 12,
    "start_time": "2023-05-31T13:54:03.784Z"
   },
   {
    "duration": 193,
    "start_time": "2023-05-31T13:54:03.797Z"
   },
   {
    "duration": 5,
    "start_time": "2023-05-31T13:54:03.991Z"
   },
   {
    "duration": 216,
    "start_time": "2023-05-31T13:54:03.997Z"
   },
   {
    "duration": 4,
    "start_time": "2023-05-31T13:54:04.215Z"
   },
   {
    "duration": 210,
    "start_time": "2023-05-31T13:54:04.227Z"
   },
   {
    "duration": 32,
    "start_time": "2023-05-31T13:54:04.438Z"
   },
   {
    "duration": 18,
    "start_time": "2023-05-31T13:54:04.471Z"
   },
   {
    "duration": 78,
    "start_time": "2023-05-31T13:54:04.490Z"
   },
   {
    "duration": 10,
    "start_time": "2023-05-31T13:54:04.570Z"
   },
   {
    "duration": 197,
    "start_time": "2023-05-31T13:54:04.581Z"
   },
   {
    "duration": 135,
    "start_time": "2023-05-31T13:54:04.779Z"
   },
   {
    "duration": 9,
    "start_time": "2023-05-31T13:54:04.917Z"
   },
   {
    "duration": 330,
    "start_time": "2023-05-31T13:54:04.928Z"
   },
   {
    "duration": 5,
    "start_time": "2023-05-31T13:54:05.260Z"
   },
   {
    "duration": 27,
    "start_time": "2023-05-31T13:54:05.267Z"
   },
   {
    "duration": 231,
    "start_time": "2023-05-31T13:54:05.295Z"
   },
   {
    "duration": 4,
    "start_time": "2023-05-31T13:54:05.527Z"
   },
   {
    "duration": 216,
    "start_time": "2023-05-31T13:54:05.533Z"
   },
   {
    "duration": 4,
    "start_time": "2023-05-31T13:54:05.751Z"
   },
   {
    "duration": 22,
    "start_time": "2023-05-31T13:54:05.756Z"
   },
   {
    "duration": 59,
    "start_time": "2023-05-31T13:54:05.780Z"
   },
   {
    "duration": 24,
    "start_time": "2023-05-31T13:54:05.841Z"
   },
   {
    "duration": 210,
    "start_time": "2023-05-31T13:54:05.867Z"
   },
   {
    "duration": 2,
    "start_time": "2023-05-31T13:54:06.078Z"
   },
   {
    "duration": 113,
    "start_time": "2023-05-31T13:54:06.082Z"
   },
   {
    "duration": 0,
    "start_time": "2023-05-31T13:54:06.197Z"
   },
   {
    "duration": 0,
    "start_time": "2023-05-31T13:54:06.198Z"
   },
   {
    "duration": 0,
    "start_time": "2023-05-31T13:54:06.199Z"
   },
   {
    "duration": 0,
    "start_time": "2023-05-31T13:54:06.200Z"
   },
   {
    "duration": 0,
    "start_time": "2023-05-31T13:54:06.201Z"
   },
   {
    "duration": 0,
    "start_time": "2023-05-31T13:54:06.202Z"
   },
   {
    "duration": 0,
    "start_time": "2023-05-31T13:54:06.203Z"
   },
   {
    "duration": 7,
    "start_time": "2023-05-31T14:29:02.111Z"
   },
   {
    "duration": 47,
    "start_time": "2023-05-31T15:45:29.940Z"
   },
   {
    "duration": 6,
    "start_time": "2023-05-31T15:45:33.754Z"
   },
   {
    "duration": 1189,
    "start_time": "2023-05-31T15:47:08.315Z"
   },
   {
    "duration": 70,
    "start_time": "2023-05-31T15:47:21.014Z"
   },
   {
    "duration": 9,
    "start_time": "2023-05-31T15:47:28.712Z"
   },
   {
    "duration": 277,
    "start_time": "2023-05-31T15:47:28.722Z"
   },
   {
    "duration": 30,
    "start_time": "2023-05-31T15:47:29.000Z"
   },
   {
    "duration": 18,
    "start_time": "2023-05-31T15:47:29.032Z"
   },
   {
    "duration": 11,
    "start_time": "2023-05-31T15:47:29.051Z"
   },
   {
    "duration": 6,
    "start_time": "2023-05-31T15:47:29.064Z"
   },
   {
    "duration": 16,
    "start_time": "2023-05-31T15:47:29.071Z"
   },
   {
    "duration": 6,
    "start_time": "2023-05-31T15:47:29.089Z"
   },
   {
    "duration": 32,
    "start_time": "2023-05-31T15:47:29.097Z"
   },
   {
    "duration": 13,
    "start_time": "2023-05-31T15:47:29.132Z"
   },
   {
    "duration": 18,
    "start_time": "2023-05-31T15:47:29.146Z"
   },
   {
    "duration": 3,
    "start_time": "2023-05-31T15:47:29.166Z"
   },
   {
    "duration": 22,
    "start_time": "2023-05-31T15:47:29.170Z"
   },
   {
    "duration": 156,
    "start_time": "2023-05-31T15:47:29.193Z"
   },
   {
    "duration": 12,
    "start_time": "2023-05-31T15:47:29.350Z"
   },
   {
    "duration": 10,
    "start_time": "2023-05-31T15:47:29.364Z"
   },
   {
    "duration": 19,
    "start_time": "2023-05-31T15:47:29.376Z"
   },
   {
    "duration": 7,
    "start_time": "2023-05-31T15:47:29.396Z"
   },
   {
    "duration": 16,
    "start_time": "2023-05-31T15:47:29.405Z"
   },
   {
    "duration": 150,
    "start_time": "2023-05-31T15:47:29.429Z"
   },
   {
    "duration": 36,
    "start_time": "2023-05-31T15:47:29.581Z"
   },
   {
    "duration": 149,
    "start_time": "2023-05-31T15:47:29.626Z"
   },
   {
    "duration": 11,
    "start_time": "2023-05-31T15:47:29.776Z"
   },
   {
    "duration": 112,
    "start_time": "2023-05-31T15:47:29.788Z"
   },
   {
    "duration": 3,
    "start_time": "2023-05-31T15:47:29.902Z"
   },
   {
    "duration": 217,
    "start_time": "2023-05-31T15:47:29.916Z"
   },
   {
    "duration": 5,
    "start_time": "2023-05-31T15:47:30.135Z"
   },
   {
    "duration": 260,
    "start_time": "2023-05-31T15:47:30.143Z"
   },
   {
    "duration": 38,
    "start_time": "2023-05-31T15:47:30.405Z"
   },
   {
    "duration": 21,
    "start_time": "2023-05-31T15:47:30.444Z"
   },
   {
    "duration": 62,
    "start_time": "2023-05-31T15:47:30.467Z"
   },
   {
    "duration": 4,
    "start_time": "2023-05-31T15:47:30.534Z"
   },
   {
    "duration": 250,
    "start_time": "2023-05-31T15:47:30.539Z"
   },
   {
    "duration": 141,
    "start_time": "2023-05-31T15:47:30.790Z"
   },
   {
    "duration": 5,
    "start_time": "2023-05-31T15:47:30.932Z"
   },
   {
    "duration": 246,
    "start_time": "2023-05-31T15:47:30.938Z"
   },
   {
    "duration": 4,
    "start_time": "2023-05-31T15:47:31.185Z"
   },
   {
    "duration": 42,
    "start_time": "2023-05-31T15:47:31.191Z"
   },
   {
    "duration": 308,
    "start_time": "2023-05-31T15:47:31.235Z"
   },
   {
    "duration": 4,
    "start_time": "2023-05-31T15:47:31.544Z"
   },
   {
    "duration": 237,
    "start_time": "2023-05-31T15:47:31.549Z"
   },
   {
    "duration": 4,
    "start_time": "2023-05-31T15:47:31.788Z"
   },
   {
    "duration": 39,
    "start_time": "2023-05-31T15:47:31.794Z"
   },
   {
    "duration": 58,
    "start_time": "2023-05-31T15:47:31.835Z"
   },
   {
    "duration": 40,
    "start_time": "2023-05-31T15:47:31.894Z"
   },
   {
    "duration": 234,
    "start_time": "2023-05-31T15:47:31.936Z"
   },
   {
    "duration": 6,
    "start_time": "2023-05-31T15:47:32.171Z"
   },
   {
    "duration": 12,
    "start_time": "2023-05-31T15:47:32.178Z"
   },
   {
    "duration": 6,
    "start_time": "2023-05-31T15:47:33.865Z"
   },
   {
    "duration": 5,
    "start_time": "2023-05-31T16:10:36.427Z"
   },
   {
    "duration": 5,
    "start_time": "2023-05-31T16:11:01.732Z"
   },
   {
    "duration": 95,
    "start_time": "2023-05-31T16:11:59.954Z"
   },
   {
    "duration": 4,
    "start_time": "2023-05-31T16:12:11.315Z"
   },
   {
    "duration": 4,
    "start_time": "2023-05-31T16:12:22.654Z"
   },
   {
    "duration": 4,
    "start_time": "2023-05-31T16:12:28.754Z"
   },
   {
    "duration": 4,
    "start_time": "2023-05-31T16:12:32.193Z"
   },
   {
    "duration": 4,
    "start_time": "2023-05-31T16:12:38.384Z"
   },
   {
    "duration": 4,
    "start_time": "2023-05-31T16:12:57.382Z"
   },
   {
    "duration": 9,
    "start_time": "2023-05-31T16:13:06.691Z"
   },
   {
    "duration": 9,
    "start_time": "2023-05-31T16:13:11.427Z"
   },
   {
    "duration": 3,
    "start_time": "2023-05-31T16:13:32.455Z"
   },
   {
    "duration": 11,
    "start_time": "2023-05-31T16:13:39.781Z"
   },
   {
    "duration": 11,
    "start_time": "2023-05-31T16:13:40.388Z"
   },
   {
    "duration": 5,
    "start_time": "2023-05-31T16:13:40.630Z"
   },
   {
    "duration": 5,
    "start_time": "2023-05-31T16:14:30.452Z"
   },
   {
    "duration": 7,
    "start_time": "2023-05-31T16:14:43.330Z"
   },
   {
    "duration": 4,
    "start_time": "2023-05-31T16:14:54.477Z"
   },
   {
    "duration": 5,
    "start_time": "2023-05-31T16:15:02.176Z"
   },
   {
    "duration": 3,
    "start_time": "2023-05-31T16:16:29.262Z"
   },
   {
    "duration": 4,
    "start_time": "2023-05-31T16:16:32.863Z"
   },
   {
    "duration": 3,
    "start_time": "2023-05-31T16:16:37.339Z"
   },
   {
    "duration": 3,
    "start_time": "2023-05-31T16:16:43.303Z"
   },
   {
    "duration": 3,
    "start_time": "2023-05-31T16:19:57.106Z"
   },
   {
    "duration": 106,
    "start_time": "2023-05-31T16:20:23.450Z"
   },
   {
    "duration": 10,
    "start_time": "2023-05-31T16:20:27.721Z"
   },
   {
    "duration": 4,
    "start_time": "2023-05-31T16:20:32.850Z"
   },
   {
    "duration": 6,
    "start_time": "2023-05-31T16:20:55.830Z"
   },
   {
    "duration": 7,
    "start_time": "2023-05-31T16:21:02.721Z"
   },
   {
    "duration": 144,
    "start_time": "2023-05-31T16:21:08.162Z"
   },
   {
    "duration": 4,
    "start_time": "2023-05-31T16:21:11.379Z"
   },
   {
    "duration": 17,
    "start_time": "2023-05-31T16:21:35.311Z"
   },
   {
    "duration": 158,
    "start_time": "2023-05-31T16:25:39.352Z"
   },
   {
    "duration": 120,
    "start_time": "2023-05-31T16:25:46.259Z"
   },
   {
    "duration": 133,
    "start_time": "2023-05-31T16:26:08.638Z"
   },
   {
    "duration": 81,
    "start_time": "2023-05-31T16:28:03.827Z"
   },
   {
    "duration": 968,
    "start_time": "2023-05-31T16:31:32.089Z"
   },
   {
    "duration": 107,
    "start_time": "2023-05-31T16:31:33.058Z"
   },
   {
    "duration": 18,
    "start_time": "2023-05-31T16:31:33.166Z"
   },
   {
    "duration": 14,
    "start_time": "2023-05-31T16:31:33.186Z"
   },
   {
    "duration": 11,
    "start_time": "2023-05-31T16:31:33.202Z"
   },
   {
    "duration": 21,
    "start_time": "2023-05-31T16:31:33.214Z"
   },
   {
    "duration": 14,
    "start_time": "2023-05-31T16:31:33.236Z"
   },
   {
    "duration": 3,
    "start_time": "2023-05-31T16:31:33.251Z"
   },
   {
    "duration": 11,
    "start_time": "2023-05-31T16:31:33.256Z"
   },
   {
    "duration": 8,
    "start_time": "2023-05-31T16:31:33.268Z"
   },
   {
    "duration": 7,
    "start_time": "2023-05-31T16:31:33.278Z"
   },
   {
    "duration": 13,
    "start_time": "2023-05-31T16:31:33.287Z"
   },
   {
    "duration": 5,
    "start_time": "2023-05-31T16:31:33.301Z"
   },
   {
    "duration": 26,
    "start_time": "2023-05-31T16:31:33.317Z"
   },
   {
    "duration": 145,
    "start_time": "2023-05-31T16:31:33.344Z"
   },
   {
    "duration": 11,
    "start_time": "2023-05-31T16:31:33.491Z"
   },
   {
    "duration": 18,
    "start_time": "2023-05-31T16:31:33.503Z"
   },
   {
    "duration": 77,
    "start_time": "2023-05-31T16:31:33.527Z"
   },
   {
    "duration": 3,
    "start_time": "2023-05-31T16:31:33.606Z"
   },
   {
    "duration": 29,
    "start_time": "2023-05-31T16:31:33.610Z"
   },
   {
    "duration": 6,
    "start_time": "2023-05-31T16:31:33.641Z"
   },
   {
    "duration": 149,
    "start_time": "2023-05-31T16:31:33.649Z"
   },
   {
    "duration": 31,
    "start_time": "2023-05-31T16:31:33.799Z"
   },
   {
    "duration": 147,
    "start_time": "2023-05-31T16:31:33.832Z"
   },
   {
    "duration": 10,
    "start_time": "2023-05-31T16:31:33.981Z"
   },
   {
    "duration": 104,
    "start_time": "2023-05-31T16:31:33.993Z"
   },
   {
    "duration": 3,
    "start_time": "2023-05-31T16:31:34.098Z"
   },
   {
    "duration": 190,
    "start_time": "2023-05-31T16:31:34.102Z"
   },
   {
    "duration": 4,
    "start_time": "2023-05-31T16:31:34.293Z"
   },
   {
    "duration": 169,
    "start_time": "2023-05-31T16:31:34.298Z"
   },
   {
    "duration": 25,
    "start_time": "2023-05-31T16:31:34.469Z"
   },
   {
    "duration": 34,
    "start_time": "2023-05-31T16:31:34.495Z"
   },
   {
    "duration": 24,
    "start_time": "2023-05-31T16:31:34.530Z"
   },
   {
    "duration": 3,
    "start_time": "2023-05-31T16:31:34.555Z"
   },
   {
    "duration": 187,
    "start_time": "2023-05-31T16:31:34.560Z"
   },
   {
    "duration": 163,
    "start_time": "2023-05-31T16:31:34.749Z"
   },
   {
    "duration": 13,
    "start_time": "2023-05-31T16:31:34.913Z"
   },
   {
    "duration": 204,
    "start_time": "2023-05-31T16:31:34.928Z"
   },
   {
    "duration": 5,
    "start_time": "2023-05-31T16:31:35.133Z"
   },
   {
    "duration": 6,
    "start_time": "2023-05-31T16:31:35.139Z"
   },
   {
    "duration": 176,
    "start_time": "2023-05-31T16:31:35.149Z"
   },
   {
    "duration": 3,
    "start_time": "2023-05-31T16:31:35.326Z"
   },
   {
    "duration": 206,
    "start_time": "2023-05-31T16:31:35.334Z"
   },
   {
    "duration": 5,
    "start_time": "2023-05-31T16:31:35.541Z"
   },
   {
    "duration": 23,
    "start_time": "2023-05-31T16:31:35.548Z"
   },
   {
    "duration": 33,
    "start_time": "2023-05-31T16:31:35.572Z"
   },
   {
    "duration": 5,
    "start_time": "2023-05-31T16:31:35.607Z"
   },
   {
    "duration": 229,
    "start_time": "2023-05-31T16:31:35.621Z"
   },
   {
    "duration": 7,
    "start_time": "2023-05-31T16:31:35.852Z"
   },
   {
    "duration": 14,
    "start_time": "2023-05-31T16:31:35.861Z"
   },
   {
    "duration": 18,
    "start_time": "2023-05-31T16:31:35.876Z"
   },
   {
    "duration": 16,
    "start_time": "2023-05-31T16:31:35.895Z"
   },
   {
    "duration": 46,
    "start_time": "2023-05-31T16:31:35.912Z"
   },
   {
    "duration": 168,
    "start_time": "2023-05-31T16:31:35.959Z"
   },
   {
    "duration": 1452,
    "start_time": "2023-05-31T16:31:36.129Z"
   },
   {
    "duration": 4,
    "start_time": "2023-05-31T16:31:37.582Z"
   },
   {
    "duration": 144,
    "start_time": "2023-05-31T16:31:37.587Z"
   },
   {
    "duration": 4,
    "start_time": "2023-05-31T16:31:37.732Z"
   },
   {
    "duration": 14,
    "start_time": "2023-05-31T16:33:34.311Z"
   },
   {
    "duration": 5,
    "start_time": "2023-05-31T16:33:54.149Z"
   },
   {
    "duration": 10,
    "start_time": "2023-05-31T16:33:58.904Z"
   },
   {
    "duration": 127,
    "start_time": "2023-05-31T16:34:05.040Z"
   },
   {
    "duration": 1479,
    "start_time": "2023-05-31T16:34:06.568Z"
   },
   {
    "duration": 4,
    "start_time": "2023-05-31T16:34:10.432Z"
   },
   {
    "duration": 289,
    "start_time": "2023-05-31T16:34:11.111Z"
   },
   {
    "duration": 4,
    "start_time": "2023-05-31T16:34:13.078Z"
   },
   {
    "duration": 1244,
    "start_time": "2023-06-01T04:21:42.006Z"
   },
   {
    "duration": 257,
    "start_time": "2023-06-01T04:21:43.252Z"
   },
   {
    "duration": 26,
    "start_time": "2023-06-01T04:21:43.510Z"
   },
   {
    "duration": 20,
    "start_time": "2023-06-01T04:21:43.538Z"
   },
   {
    "duration": 14,
    "start_time": "2023-06-01T04:21:43.560Z"
   },
   {
    "duration": 7,
    "start_time": "2023-06-01T04:21:43.576Z"
   },
   {
    "duration": 11,
    "start_time": "2023-06-01T04:21:43.585Z"
   },
   {
    "duration": 4,
    "start_time": "2023-06-01T04:21:43.598Z"
   },
   {
    "duration": 40,
    "start_time": "2023-06-01T04:21:43.603Z"
   },
   {
    "duration": 10,
    "start_time": "2023-06-01T04:21:43.645Z"
   },
   {
    "duration": 11,
    "start_time": "2023-06-01T04:21:43.656Z"
   },
   {
    "duration": 12,
    "start_time": "2023-06-01T04:21:43.668Z"
   },
   {
    "duration": 3,
    "start_time": "2023-06-01T04:21:43.682Z"
   },
   {
    "duration": 16,
    "start_time": "2023-06-01T04:21:43.686Z"
   },
   {
    "duration": 186,
    "start_time": "2023-06-01T04:21:43.703Z"
   },
   {
    "duration": 13,
    "start_time": "2023-06-01T04:21:43.892Z"
   },
   {
    "duration": 8,
    "start_time": "2023-06-01T04:21:43.906Z"
   },
   {
    "duration": 107,
    "start_time": "2023-06-01T04:21:43.915Z"
   },
   {
    "duration": 3,
    "start_time": "2023-06-01T04:21:44.024Z"
   },
   {
    "duration": 22,
    "start_time": "2023-06-01T04:21:44.028Z"
   },
   {
    "duration": 8,
    "start_time": "2023-06-01T04:21:44.051Z"
   },
   {
    "duration": 189,
    "start_time": "2023-06-01T04:21:44.061Z"
   },
   {
    "duration": 27,
    "start_time": "2023-06-01T04:21:44.253Z"
   },
   {
    "duration": 168,
    "start_time": "2023-06-01T04:21:44.282Z"
   },
   {
    "duration": 11,
    "start_time": "2023-06-01T04:21:44.452Z"
   },
   {
    "duration": 127,
    "start_time": "2023-06-01T04:21:44.465Z"
   },
   {
    "duration": 4,
    "start_time": "2023-06-01T04:21:44.593Z"
   },
   {
    "duration": 227,
    "start_time": "2023-06-01T04:21:44.601Z"
   },
   {
    "duration": 4,
    "start_time": "2023-06-01T04:21:44.829Z"
   },
   {
    "duration": 210,
    "start_time": "2023-06-01T04:21:44.842Z"
   },
   {
    "duration": 32,
    "start_time": "2023-06-01T04:21:45.054Z"
   },
   {
    "duration": 20,
    "start_time": "2023-06-01T04:21:45.087Z"
   },
   {
    "duration": 52,
    "start_time": "2023-06-01T04:21:45.109Z"
   },
   {
    "duration": 4,
    "start_time": "2023-06-01T04:21:45.162Z"
   },
   {
    "duration": 296,
    "start_time": "2023-06-01T04:21:45.167Z"
   },
   {
    "duration": 142,
    "start_time": "2023-06-01T04:21:45.464Z"
   },
   {
    "duration": 4,
    "start_time": "2023-06-01T04:21:45.608Z"
   },
   {
    "duration": 226,
    "start_time": "2023-06-01T04:21:45.614Z"
   },
   {
    "duration": 5,
    "start_time": "2023-06-01T04:21:45.841Z"
   },
   {
    "duration": 10,
    "start_time": "2023-06-01T04:21:45.848Z"
   },
   {
    "duration": 227,
    "start_time": "2023-06-01T04:21:45.860Z"
   },
   {
    "duration": 4,
    "start_time": "2023-06-01T04:21:46.089Z"
   },
   {
    "duration": 207,
    "start_time": "2023-06-01T04:21:46.094Z"
   },
   {
    "duration": 5,
    "start_time": "2023-06-01T04:21:46.303Z"
   },
   {
    "duration": 8,
    "start_time": "2023-06-01T04:21:46.309Z"
   },
   {
    "duration": 41,
    "start_time": "2023-06-01T04:21:46.319Z"
   },
   {
    "duration": 3,
    "start_time": "2023-06-01T04:21:46.362Z"
   },
   {
    "duration": 205,
    "start_time": "2023-06-01T04:21:46.366Z"
   },
   {
    "duration": 6,
    "start_time": "2023-06-01T04:21:46.573Z"
   },
   {
    "duration": 6,
    "start_time": "2023-06-01T04:21:46.580Z"
   },
   {
    "duration": 9,
    "start_time": "2023-06-01T04:21:46.587Z"
   },
   {
    "duration": 10,
    "start_time": "2023-06-01T04:21:46.598Z"
   },
   {
    "duration": 33,
    "start_time": "2023-06-01T04:21:46.609Z"
   },
   {
    "duration": 138,
    "start_time": "2023-06-01T04:21:46.644Z"
   },
   {
    "duration": 1993,
    "start_time": "2023-06-01T04:21:46.784Z"
   },
   {
    "duration": 4,
    "start_time": "2023-06-01T04:21:48.779Z"
   },
   {
    "duration": 192,
    "start_time": "2023-06-01T04:21:48.785Z"
   },
   {
    "duration": 6,
    "start_time": "2023-06-01T04:21:48.979Z"
   },
   {
    "duration": 5,
    "start_time": "2023-06-01T04:30:08.022Z"
   }
  ],
  "kernelspec": {
   "display_name": "Python 3 (ipykernel)",
   "language": "python",
   "name": "python3"
  },
  "language_info": {
   "codemirror_mode": {
    "name": "ipython",
    "version": 3
   },
   "file_extension": ".py",
   "mimetype": "text/x-python",
   "name": "python",
   "nbconvert_exporter": "python",
   "pygments_lexer": "ipython3",
   "version": "3.9.5"
  },
  "toc": {
   "base_numbering": 1,
   "nav_menu": {},
   "number_sections": true,
   "sideBar": true,
   "skip_h1_title": true,
   "title_cell": "Table of Contents",
   "title_sidebar": "Contents",
   "toc_cell": false,
   "toc_position": {},
   "toc_section_display": true,
   "toc_window_display": false
  }
 },
 "nbformat": 4,
 "nbformat_minor": 5
}
