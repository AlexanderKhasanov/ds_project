{
 "cells": [
  {
   "cell_type": "markdown",
   "metadata": {},
   "source": [
    "<div style=\"border:solid Chocolate 2px; padding: 40px\">\n",
    "\n",
    "Привет Александр, меня зовут Саша Атаков. Сегодня я проверю твой проект.\n",
    "<br> Дальнейшее общение будет происходить на \"ты\" если это не вызывает никаких проблем.\n",
    "<br> Желательно реагировать на каждый мой комментарий ('исправил', 'не понятно как исправить ошибку', ...)\n",
    "<br> Пожалуйста, не удаляй комментарии ревьюера, так как они повышают качество повторного ревью.\n",
    "\n",
    "Комментарии будут в <font color='green'>зеленой</font>, <font color='blue'>синей</font> или <font color='red'>красной</font> рамках:\n",
    "\n",
    "<div class=\"alert alert-block alert-success\">\n",
    "<b>Успех👍:</b> Если все сделано отлично\n",
    "</div>\n",
    "\n",
    "<div class=\"alert alert-block alert-info\">\n",
    "<b>Совет🤔: </b> Если можно немного улучшить\n",
    "</div>\n",
    "\n",
    "<div class=\"alert alert-block alert-danger\">\n",
    "<b>Ошибка❌:</b> Если требуются исправления. Работа не может быть принята с красными комментариями.\n",
    "</div>\n",
    "\n",
    "-------------------\n",
    "\n",
    "Будет очень хорошо, если ты будешь помечать свои действия следующим образом:\n",
    "<div class=\"alert alert-block alert-warning\">\n",
    "<b>Комментарий студента:</b> ...\n",
    "</div>\n",
    "\n",
    "<div class=\"alert alert-block alert-warning\">\n",
    "<b>Изменения:</b> Были внесены следующие изменения ...\n",
    "</div>\n",
    "\n",
    "<b><font color='orange'>Вот тебе полезная ссылка, вдруг подчерпнешь что-то новое для себя):</font></b>\n",
    "* Полезная статья о дисбалансе классов: https://habr.com/ru/post/349078/\n",
    "* Полезная статья о auc-roc кривых итп: https://alexanderdyakonov.wordpress.com/2017/07/28/auc-roc-%D0%BF%D0%BB%D0%BE%D1%89%D0%B0%D0%B4%D1%8C-%D0%BF%D0%BE%D0%B4-%D0%BA%D1%80%D0%B8%D0%B2%D0%BE%D0%B9-%D0%BE%D1%88%D0%B8%D0%B1%D0%BE%D0%BA/\n",
    "* OHE: https://scikit-learn.org/stable/modules/generated/sklearn.preprocessing.OneHotEncoder.html\n",
    "* Предсказание auc_roc: https://scikit-learn.org/stable/modules/generated/sklearn.metrics.roc_auc_score.html\n",
    "\n",
    "\n",
    "<b><font color='orange'>Общее впечатление</font></b>\n",
    "* Большое спасибо за проделанную работу. Видно, что ты отлично освоил тему.\n",
    "* Отлично, что ноутбук хорошо структурирован. Приятно проверять такие работы.\n",
    "* Над этим проектом нужно будет еще немного поработать, ведь критические ошибки требуют внимания. Однако, изменения не должны занять много времени.\n",
    "* В работе я оставил несколько советов. Буду рад, если ты учтешь их.\n",
    "* В конце прописал свой комментарий по всему проекту, ознакомься с ним, пожалуйста)\n",
    "* С радостью отвечу на твои вопросы, касательно выданной тебе темы, если они есть. Жду новую версию проекта.)"
   ]
  },
  {
   "cell_type": "markdown",
   "metadata": {
    "toc": true
   },
   "source": [
    "<h1>Содержание<span class=\"tocSkip\"></span></h1>\n",
    "<div class=\"toc\"><ul class=\"toc-item\"><li><span><a href=\"#Подготовка-данных\" data-toc-modified-id=\"Подготовка-данных-1\"><span class=\"toc-item-num\">1&nbsp;&nbsp;</span>Подготовка данных</a></span></li><li><span><a href=\"#Исследование-задачи\" data-toc-modified-id=\"Исследование-задачи-2\"><span class=\"toc-item-num\">2&nbsp;&nbsp;</span>Исследование задачи</a></span></li><li><span><a href=\"#Борьба-с-дисбалансом\" data-toc-modified-id=\"Борьба-с-дисбалансом-3\"><span class=\"toc-item-num\">3&nbsp;&nbsp;</span>Борьба с дисбалансом</a></span><ul class=\"toc-item\"><li><span><a href=\"#Взвешивание-классов\" data-toc-modified-id=\"Взвешивание-классов-3.1\"><span class=\"toc-item-num\">3.1&nbsp;&nbsp;</span>Взвешивание классов</a></span></li><li><span><a href=\"#Увеличение/уменьшение-выборки\" data-toc-modified-id=\"Увеличение/уменьшение-выборки-3.2\"><span class=\"toc-item-num\">3.2&nbsp;&nbsp;</span>Увеличение/уменьшение выборки</a></span><ul class=\"toc-item\"><li><span><a href=\"#Увеличение-выборки\" data-toc-modified-id=\"Увеличение-выборки-3.2.1\"><span class=\"toc-item-num\">3.2.1&nbsp;&nbsp;</span>Увеличение выборки</a></span></li><li><span><a href=\"#Уменьшение-выборки\" data-toc-modified-id=\"Уменьшение-выборки-3.2.2\"><span class=\"toc-item-num\">3.2.2&nbsp;&nbsp;</span>Уменьшение выборки</a></span></li></ul></li></ul></li><li><span><a href=\"#Тестирование-модели\" data-toc-modified-id=\"Тестирование-модели-4\"><span class=\"toc-item-num\">4&nbsp;&nbsp;</span>Тестирование модели</a></span></li><li><span><a href=\"#Общий-вывод\" data-toc-modified-id=\"Общий-вывод-5\"><span class=\"toc-item-num\">5&nbsp;&nbsp;</span>Общий вывод</a></span></li><li><span><a href=\"#Чек-лист-готовности-проекта\" data-toc-modified-id=\"Чек-лист-готовности-проекта-6\"><span class=\"toc-item-num\">6&nbsp;&nbsp;</span>Чек-лист готовности проекта</a></span></li><li><span><a href=\"#Общий-вывод-по-проекту\" data-toc-modified-id=\"Общий-вывод-по-проекту-7\"><span class=\"toc-item-num\">7&nbsp;&nbsp;</span><b>Общий вывод по проекту</b></a></span></li><li><span><a href=\"#Общий-вывод-по-проекту-В2\" data-toc-modified-id=\"Общий-вывод-по-проекту-В2-8\"><span class=\"toc-item-num\">8&nbsp;&nbsp;</span><b>Общий вывод по проекту В2</b></a></span></li></ul></div>"
   ]
  },
  {
   "cell_type": "markdown",
   "metadata": {},
   "source": [
    "# Отток клиентов"
   ]
  },
  {
   "cell_type": "markdown",
   "metadata": {},
   "source": [
    "Из «Бета-Банка» стали уходить клиенты. Каждый месяц. Немного, но заметно. Банковские маркетологи посчитали: сохранять текущих клиентов дешевле, чем привлекать новых.\n",
    "\n",
    "Нужно спрогнозировать, уйдёт клиент из банка в ближайшее время или нет. Вам предоставлены исторические данные о поведении клиентов и расторжении договоров с банком. \n",
    "\n",
    "Постройте модель с предельно большим значением *F1*-меры. Чтобы сдать проект успешно, нужно довести метрику до 0.59. Проверьте *F1*-меру на тестовой выборке самостоятельно.\n",
    "\n",
    "Дополнительно измеряйте *AUC-ROC*, сравнивайте её значение с *F1*-мерой.\n",
    "\n",
    "Источник данных: [https://www.kaggle.com/barelydedicated/bank-customer-churn-modeling](https://www.kaggle.com/barelydedicated/bank-customer-churn-modeling)"
   ]
  },
  {
   "cell_type": "markdown",
   "metadata": {},
   "source": [
    "<div class=\"alert alert-block alert-success\">\n",
    "<b>Успех👍:</b> \n",
    "\n",
    "Крайне полезно то, что ты написал описание к работе, потому что так можно точно понять, о чем идет речь в данном проекте - молодец)\n",
    "</div>\n"
   ]
  },
  {
   "cell_type": "markdown",
   "metadata": {},
   "source": [
    "## Подготовка данных"
   ]
  },
  {
   "cell_type": "code",
   "execution_count": 1,
   "metadata": {},
   "outputs": [],
   "source": [
    "import pandas as pd\n",
    "import numpy as np\n",
    "import matplotlib.pyplot as plt\n",
    "from sklearn.preprocessing import StandardScaler\n",
    "from sklearn.model_selection import train_test_split\n",
    "from sklearn.tree import DecisionTreeClassifier\n",
    "from sklearn.ensemble import RandomForestClassifier\n",
    "from sklearn.linear_model import LogisticRegression\n",
    "from sklearn.metrics import f1_score, roc_curve, roc_auc_score, precision_score, recall_score\n",
    "from sklearn.utils import shuffle\n",
    "from sklearn.preprocessing import OneHotEncoder"
   ]
  },
  {
   "cell_type": "markdown",
   "metadata": {},
   "source": [
    "<div class=\"alert alert-block alert-success\">\n",
    "<b>Успех👍:</b> \n",
    "\n",
    "Крайне удобно, когда программист указывает все библиотеки с которыми он работал в самом начале проекта. Молодец!\n",
    "</div>"
   ]
  },
  {
   "cell_type": "code",
   "execution_count": 42,
   "metadata": {},
   "outputs": [],
   "source": [
    "RANDOM_STATE = 42\n",
    "# Запускать ли обучение и подбор гиперпараметров для модели\n",
    "TRAIN_TREE = False\n",
    "TRAIN_FOREST = False # Полбор гиперпараметров занимает около 8 минут на один прогон. В проекте есть 3 прогона\n",
    "TRAIN_LOG_REGRESSION = False"
   ]
  },
  {
   "cell_type": "code",
   "execution_count": 3,
   "metadata": {},
   "outputs": [
    {
     "name": "stdout",
     "output_type": "stream",
     "text": [
      "<class 'pandas.core.frame.DataFrame'>\n",
      "RangeIndex: 10000 entries, 0 to 9999\n",
      "Data columns (total 14 columns):\n",
      " #   Column           Non-Null Count  Dtype  \n",
      "---  ------           --------------  -----  \n",
      " 0   RowNumber        10000 non-null  int64  \n",
      " 1   CustomerId       10000 non-null  int64  \n",
      " 2   Surname          10000 non-null  object \n",
      " 3   CreditScore      10000 non-null  int64  \n",
      " 4   Geography        10000 non-null  object \n",
      " 5   Gender           10000 non-null  object \n",
      " 6   Age              10000 non-null  int64  \n",
      " 7   Tenure           9091 non-null   float64\n",
      " 8   Balance          10000 non-null  float64\n",
      " 9   NumOfProducts    10000 non-null  int64  \n",
      " 10  HasCrCard        10000 non-null  int64  \n",
      " 11  IsActiveMember   10000 non-null  int64  \n",
      " 12  EstimatedSalary  10000 non-null  float64\n",
      " 13  Exited           10000 non-null  int64  \n",
      "dtypes: float64(3), int64(8), object(3)\n",
      "memory usage: 1.1+ MB\n"
     ]
    },
    {
     "data": {
      "text/html": [
       "<div>\n",
       "<style scoped>\n",
       "    .dataframe tbody tr th:only-of-type {\n",
       "        vertical-align: middle;\n",
       "    }\n",
       "\n",
       "    .dataframe tbody tr th {\n",
       "        vertical-align: top;\n",
       "    }\n",
       "\n",
       "    .dataframe thead th {\n",
       "        text-align: right;\n",
       "    }\n",
       "</style>\n",
       "<table border=\"1\" class=\"dataframe\">\n",
       "  <thead>\n",
       "    <tr style=\"text-align: right;\">\n",
       "      <th></th>\n",
       "      <th>RowNumber</th>\n",
       "      <th>CustomerId</th>\n",
       "      <th>Surname</th>\n",
       "      <th>CreditScore</th>\n",
       "      <th>Geography</th>\n",
       "      <th>Gender</th>\n",
       "      <th>Age</th>\n",
       "      <th>Tenure</th>\n",
       "      <th>Balance</th>\n",
       "      <th>NumOfProducts</th>\n",
       "      <th>HasCrCard</th>\n",
       "      <th>IsActiveMember</th>\n",
       "      <th>EstimatedSalary</th>\n",
       "      <th>Exited</th>\n",
       "    </tr>\n",
       "  </thead>\n",
       "  <tbody>\n",
       "    <tr>\n",
       "      <th>0</th>\n",
       "      <td>1</td>\n",
       "      <td>15634602</td>\n",
       "      <td>Hargrave</td>\n",
       "      <td>619</td>\n",
       "      <td>France</td>\n",
       "      <td>Female</td>\n",
       "      <td>42</td>\n",
       "      <td>2.0</td>\n",
       "      <td>0.00</td>\n",
       "      <td>1</td>\n",
       "      <td>1</td>\n",
       "      <td>1</td>\n",
       "      <td>101348.88</td>\n",
       "      <td>1</td>\n",
       "    </tr>\n",
       "    <tr>\n",
       "      <th>1</th>\n",
       "      <td>2</td>\n",
       "      <td>15647311</td>\n",
       "      <td>Hill</td>\n",
       "      <td>608</td>\n",
       "      <td>Spain</td>\n",
       "      <td>Female</td>\n",
       "      <td>41</td>\n",
       "      <td>1.0</td>\n",
       "      <td>83807.86</td>\n",
       "      <td>1</td>\n",
       "      <td>0</td>\n",
       "      <td>1</td>\n",
       "      <td>112542.58</td>\n",
       "      <td>0</td>\n",
       "    </tr>\n",
       "    <tr>\n",
       "      <th>2</th>\n",
       "      <td>3</td>\n",
       "      <td>15619304</td>\n",
       "      <td>Onio</td>\n",
       "      <td>502</td>\n",
       "      <td>France</td>\n",
       "      <td>Female</td>\n",
       "      <td>42</td>\n",
       "      <td>8.0</td>\n",
       "      <td>159660.80</td>\n",
       "      <td>3</td>\n",
       "      <td>1</td>\n",
       "      <td>0</td>\n",
       "      <td>113931.57</td>\n",
       "      <td>1</td>\n",
       "    </tr>\n",
       "    <tr>\n",
       "      <th>3</th>\n",
       "      <td>4</td>\n",
       "      <td>15701354</td>\n",
       "      <td>Boni</td>\n",
       "      <td>699</td>\n",
       "      <td>France</td>\n",
       "      <td>Female</td>\n",
       "      <td>39</td>\n",
       "      <td>1.0</td>\n",
       "      <td>0.00</td>\n",
       "      <td>2</td>\n",
       "      <td>0</td>\n",
       "      <td>0</td>\n",
       "      <td>93826.63</td>\n",
       "      <td>0</td>\n",
       "    </tr>\n",
       "    <tr>\n",
       "      <th>4</th>\n",
       "      <td>5</td>\n",
       "      <td>15737888</td>\n",
       "      <td>Mitchell</td>\n",
       "      <td>850</td>\n",
       "      <td>Spain</td>\n",
       "      <td>Female</td>\n",
       "      <td>43</td>\n",
       "      <td>2.0</td>\n",
       "      <td>125510.82</td>\n",
       "      <td>1</td>\n",
       "      <td>1</td>\n",
       "      <td>1</td>\n",
       "      <td>79084.10</td>\n",
       "      <td>0</td>\n",
       "    </tr>\n",
       "    <tr>\n",
       "      <th>5</th>\n",
       "      <td>6</td>\n",
       "      <td>15574012</td>\n",
       "      <td>Chu</td>\n",
       "      <td>645</td>\n",
       "      <td>Spain</td>\n",
       "      <td>Male</td>\n",
       "      <td>44</td>\n",
       "      <td>8.0</td>\n",
       "      <td>113755.78</td>\n",
       "      <td>2</td>\n",
       "      <td>1</td>\n",
       "      <td>0</td>\n",
       "      <td>149756.71</td>\n",
       "      <td>1</td>\n",
       "    </tr>\n",
       "    <tr>\n",
       "      <th>6</th>\n",
       "      <td>7</td>\n",
       "      <td>15592531</td>\n",
       "      <td>Bartlett</td>\n",
       "      <td>822</td>\n",
       "      <td>France</td>\n",
       "      <td>Male</td>\n",
       "      <td>50</td>\n",
       "      <td>7.0</td>\n",
       "      <td>0.00</td>\n",
       "      <td>2</td>\n",
       "      <td>1</td>\n",
       "      <td>1</td>\n",
       "      <td>10062.80</td>\n",
       "      <td>0</td>\n",
       "    </tr>\n",
       "    <tr>\n",
       "      <th>7</th>\n",
       "      <td>8</td>\n",
       "      <td>15656148</td>\n",
       "      <td>Obinna</td>\n",
       "      <td>376</td>\n",
       "      <td>Germany</td>\n",
       "      <td>Female</td>\n",
       "      <td>29</td>\n",
       "      <td>4.0</td>\n",
       "      <td>115046.74</td>\n",
       "      <td>4</td>\n",
       "      <td>1</td>\n",
       "      <td>0</td>\n",
       "      <td>119346.88</td>\n",
       "      <td>1</td>\n",
       "    </tr>\n",
       "    <tr>\n",
       "      <th>8</th>\n",
       "      <td>9</td>\n",
       "      <td>15792365</td>\n",
       "      <td>He</td>\n",
       "      <td>501</td>\n",
       "      <td>France</td>\n",
       "      <td>Male</td>\n",
       "      <td>44</td>\n",
       "      <td>4.0</td>\n",
       "      <td>142051.07</td>\n",
       "      <td>2</td>\n",
       "      <td>0</td>\n",
       "      <td>1</td>\n",
       "      <td>74940.50</td>\n",
       "      <td>0</td>\n",
       "    </tr>\n",
       "    <tr>\n",
       "      <th>9</th>\n",
       "      <td>10</td>\n",
       "      <td>15592389</td>\n",
       "      <td>H?</td>\n",
       "      <td>684</td>\n",
       "      <td>France</td>\n",
       "      <td>Male</td>\n",
       "      <td>27</td>\n",
       "      <td>2.0</td>\n",
       "      <td>134603.88</td>\n",
       "      <td>1</td>\n",
       "      <td>1</td>\n",
       "      <td>1</td>\n",
       "      <td>71725.73</td>\n",
       "      <td>0</td>\n",
       "    </tr>\n",
       "  </tbody>\n",
       "</table>\n",
       "</div>"
      ],
      "text/plain": [
       "   RowNumber  CustomerId   Surname  CreditScore Geography  Gender  Age  \\\n",
       "0          1    15634602  Hargrave          619    France  Female   42   \n",
       "1          2    15647311      Hill          608     Spain  Female   41   \n",
       "2          3    15619304      Onio          502    France  Female   42   \n",
       "3          4    15701354      Boni          699    France  Female   39   \n",
       "4          5    15737888  Mitchell          850     Spain  Female   43   \n",
       "5          6    15574012       Chu          645     Spain    Male   44   \n",
       "6          7    15592531  Bartlett          822    France    Male   50   \n",
       "7          8    15656148    Obinna          376   Germany  Female   29   \n",
       "8          9    15792365        He          501    France    Male   44   \n",
       "9         10    15592389        H?          684    France    Male   27   \n",
       "\n",
       "   Tenure    Balance  NumOfProducts  HasCrCard  IsActiveMember  \\\n",
       "0     2.0       0.00              1          1               1   \n",
       "1     1.0   83807.86              1          0               1   \n",
       "2     8.0  159660.80              3          1               0   \n",
       "3     1.0       0.00              2          0               0   \n",
       "4     2.0  125510.82              1          1               1   \n",
       "5     8.0  113755.78              2          1               0   \n",
       "6     7.0       0.00              2          1               1   \n",
       "7     4.0  115046.74              4          1               0   \n",
       "8     4.0  142051.07              2          0               1   \n",
       "9     2.0  134603.88              1          1               1   \n",
       "\n",
       "   EstimatedSalary  Exited  \n",
       "0        101348.88       1  \n",
       "1        112542.58       0  \n",
       "2        113931.57       1  \n",
       "3         93826.63       0  \n",
       "4         79084.10       0  \n",
       "5        149756.71       1  \n",
       "6         10062.80       0  \n",
       "7        119346.88       1  \n",
       "8         74940.50       0  \n",
       "9         71725.73       0  "
      ]
     },
     "execution_count": 3,
     "metadata": {},
     "output_type": "execute_result"
    }
   ],
   "source": [
    "data = pd.read_csv('/datasets/Churn.csv')\n",
    "data.info()\n",
    "data.head(10)"
   ]
  },
  {
   "cell_type": "markdown",
   "metadata": {},
   "source": [
    "В столбце `Tenure — сколько лет человек является клиентом банка` присутствуют пропущенные значения. Запослним пропуски медианным значением для каждой группы клиентов. Группы сформируем по целевому признаку `Exited`"
   ]
  },
  {
   "cell_type": "code",
   "execution_count": 4,
   "metadata": {},
   "outputs": [
    {
     "name": "stdout",
     "output_type": "stream",
     "text": [
      "<class 'pandas.core.frame.DataFrame'>\n",
      "RangeIndex: 10000 entries, 0 to 9999\n",
      "Data columns (total 14 columns):\n",
      " #   Column           Non-Null Count  Dtype  \n",
      "---  ------           --------------  -----  \n",
      " 0   RowNumber        10000 non-null  int64  \n",
      " 1   CustomerId       10000 non-null  int64  \n",
      " 2   Surname          10000 non-null  object \n",
      " 3   CreditScore      10000 non-null  int64  \n",
      " 4   Geography        10000 non-null  object \n",
      " 5   Gender           10000 non-null  object \n",
      " 6   Age              10000 non-null  int64  \n",
      " 7   Tenure           10000 non-null  float64\n",
      " 8   Balance          10000 non-null  float64\n",
      " 9   NumOfProducts    10000 non-null  int64  \n",
      " 10  HasCrCard        10000 non-null  int64  \n",
      " 11  IsActiveMember   10000 non-null  int64  \n",
      " 12  EstimatedSalary  10000 non-null  float64\n",
      " 13  Exited           10000 non-null  int64  \n",
      "dtypes: float64(3), int64(8), object(3)\n",
      "memory usage: 1.1+ MB\n"
     ]
    }
   ],
   "source": [
    "for t in data['Exited'].unique():\n",
    "    data.loc[(data['Exited'] == t) & (data['Tenure'].isna()), 'Tenure'] = \\\n",
    "    data.loc[data['Exited'] == t, 'Tenure'].median()\n",
    "data.info()"
   ]
  },
  {
   "cell_type": "markdown",
   "metadata": {},
   "source": [
    "<div class=\"alert alert-block alert-success\">\n",
    "<b>Успех👍:</b> \n",
    "\n",
    "Прекрасная идея для заполнения пропусков - молодец)\n",
    "</div>"
   ]
  },
  {
   "cell_type": "markdown",
   "metadata": {},
   "source": [
    "Столбцы:\n",
    "* `RowNumber — индекс строки в данных`  \n",
    "* `CustomerId — уникальный идентификатор клиента`  \n",
    "* `Surname — фамилия`  \n",
    "не несут полезной информации для классификации. Поэтому удалим данные столбцы из выборки"
   ]
  },
  {
   "cell_type": "code",
   "execution_count": 5,
   "metadata": {},
   "outputs": [],
   "source": [
    "data.drop(['RowNumber', 'CustomerId', 'Surname'], axis=1, inplace=True)"
   ]
  },
  {
   "cell_type": "markdown",
   "metadata": {},
   "source": [
    "<div class=\"alert alert-block alert-success\">\n",
    "<b>Успех👍:</b> \n",
    "\n",
    "Да, данные признаки нам не нужны, так как никак не влияют на качество обучения\n",
    "</div>"
   ]
  },
  {
   "cell_type": "markdown",
   "metadata": {},
   "source": [
    "Закодируем категориальные столбцы методом прямого кодирования"
   ]
  },
  {
   "cell_type": "code",
   "execution_count": 6,
   "metadata": {},
   "outputs": [],
   "source": [
    "#data_ohe = pd.get_dummies(data, drop_first=True)"
   ]
  },
  {
   "cell_type": "markdown",
   "metadata": {},
   "source": [
    "<div class=\"alert alert-block alert-info\">\n",
    "<b>Совет🤔: </b> \n",
    "    \n",
    "Смотри, ты используешь get_dummies, но ведь есть в sklearn гораздно более эффективный метод, который работает по такому же алгоритму - OHE (https://albertum.medium.com/preprocessing-onehotencoder-vs-pandas-get-dummies-3de1f3d77dcc). Если смотреть на работу внутри библиотеки sklearn, то get_dummies подходит для анализа данных, а для машинного обучения более предпочтителен OHE, т.к. он позоволяет избежать ряда ошибок при обучении моделей\n",
    "    \n",
    "Также по поводу преобразования всего датасета, а не по частям - кодирование всего датасета некорректно, т.к. мы не знаем какие категории попадут в готовую модель и не будет ли там категорий, которых не было в трейне (именно в нашем проекте такого момента нет, но мы, как будущие профи, должны рассматривать все возможные случаи). Также хотел бы сразу предупредить тебя в том, что преобразуем после деления на выборки только тогда, когда используем OneHotEncoding. Применяя get_dummies, ты должен использовать данный метод сразу ко всему датасету. В будущих проектах будет приниматься только OHE и только после разделения на выборки, поэтому запомни этот совет)\n",
    "    \n",
    "Да, я знаю, что в теории курса вам преподают именно get_dummies, но я просто хочу отметить, что есть другой метод, который работает намного лучше и его в основном используют на практике - можешь пока ознакомиться, потом проверишь)\n",
    "</div>"
   ]
  },
  {
   "cell_type": "markdown",
   "metadata": {},
   "source": [
    "<div class=\"alert alert-block alert-warning\">\n",
    "<b>Комментарий:</b> Спасибо! Поменял способ кодирования. Код ниже\n",
    "</div>"
   ]
  },
  {
   "cell_type": "markdown",
   "metadata": {},
   "source": [
    "Выделим в отдельные переменные набор признаков и целевой признак"
   ]
  },
  {
   "cell_type": "code",
   "execution_count": 7,
   "metadata": {},
   "outputs": [],
   "source": [
    "features = data.drop('Exited', axis=1)\n",
    "target = data['Exited']"
   ]
  },
  {
   "cell_type": "markdown",
   "metadata": {},
   "source": [
    "Выполним стандартизацию данных для количественных признаков"
   ]
  },
  {
   "cell_type": "code",
   "execution_count": 8,
   "metadata": {},
   "outputs": [
    {
     "data": {
      "text/plain": [
       "\"\\nnumeric = ['CreditScore', 'Age', 'Tenure', 'Balance', 'NumOfProducts', 'HasCrCard', 'IsActiveMember', 'EstimatedSalary']\\n\\nscaler = StandardScaler()\\nscaler.fit(features[numeric])\\nfeatures[numeric] = scaler.transform(features[numeric])\\n\""
      ]
     },
     "execution_count": 8,
     "metadata": {},
     "output_type": "execute_result"
    }
   ],
   "source": [
    "'''\n",
    "numeric = ['CreditScore', 'Age', 'Tenure', 'Balance', 'NumOfProducts', 'HasCrCard', 'IsActiveMember', 'EstimatedSalary']\n",
    "\n",
    "scaler = StandardScaler()\n",
    "scaler.fit(features[numeric])\n",
    "features[numeric] = scaler.transform(features[numeric])\n",
    "'''"
   ]
  },
  {
   "cell_type": "markdown",
   "metadata": {},
   "source": [
    "<div class=\"alert alert-block alert-danger\">\n",
    "<b>Ошибка❌:</b> \n",
    "    \n",
    "Добавил ты и реализовал по алгоритму верно, но смотри в чем трудность заключается - как работает метод стандартизации признаков - scaler обучается на том наборе данных, который ты ему скидываешь. Обучение происходит так - метод смотрит на данные по признакам, берет среднее и стандартное отклонение, высчитывает по формуле `z = (x - u) / s` и реализует преобразование по формуле. То есть, все зависит именно от среднего и стандартного отклонения выборки. Но ты закидываешь туда весь датасет, и метод берет среднее и стандартное отклонение всего датасета, и при преобразовании в данных содержится информация будущих valid и test значений (которые мы получим после деления на выборки). Из-за этого у нас может появиться утечка данных, что в будущем может сыграть плохую роль. Поэтому рекомендую тебе сделать масштабирование данных после деления на выборки\n",
    "</div>"
   ]
  },
  {
   "cell_type": "markdown",
   "metadata": {},
   "source": [
    "<div class=\"alert alert-block alert-warning\">\n",
    "<b>Изменения:</b> Убрал стандартизацию признаков для все выборки. Ниже добавил стандартизацию после разделения\n",
    "</div>"
   ]
  },
  {
   "cell_type": "markdown",
   "metadata": {},
   "source": [
    "Выделим тестовую выборку"
   ]
  },
  {
   "cell_type": "code",
   "execution_count": 9,
   "metadata": {},
   "outputs": [],
   "source": [
    "features_train, features_test, target_train, target_test = train_test_split(\n",
    "    features, target, test_size=.2, stratify=target, random_state=RANDOM_STATE\n",
    ")"
   ]
  },
  {
   "cell_type": "markdown",
   "metadata": {},
   "source": [
    "Выделим валидационную выборку"
   ]
  },
  {
   "cell_type": "code",
   "execution_count": 10,
   "metadata": {},
   "outputs": [],
   "source": [
    "features_train, features_valid, target_train, target_valid = train_test_split(\n",
    "    features_train, target_train, test_size=.25, stratify=target_train, random_state=RANDOM_STATE\n",
    ")"
   ]
  },
  {
   "cell_type": "code",
   "execution_count": 11,
   "metadata": {},
   "outputs": [
    {
     "name": "stdout",
     "output_type": "stream",
     "text": [
      "Размер тренировочной выборки -  6000\n",
      "Размер валидационной выборки -  2000\n",
      "Размер тестовой выборки -  2000\n"
     ]
    }
   ],
   "source": [
    "print('Размер тренировочной выборки - ', features_train.shape[0])\n",
    "print('Размер валидационной выборки - ', features_valid.shape[0])\n",
    "print('Размер тестовой выборки - ', features_test.shape[0])"
   ]
  },
  {
   "cell_type": "markdown",
   "metadata": {},
   "source": [
    "Закодируем категориальные столбцы методом прямого кодирования"
   ]
  },
  {
   "cell_type": "code",
   "execution_count": 12,
   "metadata": {},
   "outputs": [],
   "source": [
    "def ohe(df, encoder, columns):\n",
    "    encoder_categorical = pd.DataFrame(encoder.transform(df[columns]).toarray(), index=df.index)\n",
    "    df = df.join(encoder_categorical)\n",
    "    df.drop(columns, inplace=True, axis=1)\n",
    "    return df"
   ]
  },
  {
   "cell_type": "code",
   "execution_count": 13,
   "metadata": {},
   "outputs": [
    {
     "data": {
      "text/plain": [
       "OneHotEncoder(drop='first')"
      ]
     },
     "execution_count": 13,
     "metadata": {},
     "output_type": "execute_result"
    }
   ],
   "source": [
    "categorical = ['Geography', 'Gender']\n",
    "encoder = OneHotEncoder(drop='first') #handle_unknown='ignore'\n",
    "encoder.fit(features_train[categorical])"
   ]
  },
  {
   "cell_type": "code",
   "execution_count": 14,
   "metadata": {},
   "outputs": [],
   "source": [
    "features_train = ohe(features_train, encoder, categorical)\n",
    "features_valid = ohe(features_valid, encoder, categorical)\n",
    "features_test = ohe(features_test, encoder, categorical)"
   ]
  },
  {
   "cell_type": "markdown",
   "metadata": {},
   "source": [
    "<div class=\"alert alert-block alert-success\">\n",
    "<b>Успех👍 В2:</b> \n",
    "\n",
    "Прекрасно, ты все верно расписал для метода OHE - обучение на трейн выборке и преобразование за счет функции, ведь у нас повторяется действие - прекрасно, ты молодец)\n",
    "</div>"
   ]
  },
  {
   "cell_type": "code",
   "execution_count": 15,
   "metadata": {},
   "outputs": [
    {
     "name": "stdout",
     "output_type": "stream",
     "text": [
      "<class 'pandas.core.frame.DataFrame'>\n",
      "Int64Index: 6000 entries, 1995 to 1215\n",
      "Data columns (total 11 columns):\n",
      " #   Column           Non-Null Count  Dtype  \n",
      "---  ------           --------------  -----  \n",
      " 0   CreditScore      6000 non-null   int64  \n",
      " 1   Age              6000 non-null   int64  \n",
      " 2   Tenure           6000 non-null   float64\n",
      " 3   Balance          6000 non-null   float64\n",
      " 4   NumOfProducts    6000 non-null   int64  \n",
      " 5   HasCrCard        6000 non-null   int64  \n",
      " 6   IsActiveMember   6000 non-null   int64  \n",
      " 7   EstimatedSalary  6000 non-null   float64\n",
      " 8   0                6000 non-null   float64\n",
      " 9   1                6000 non-null   float64\n",
      " 10  2                6000 non-null   float64\n",
      "dtypes: float64(6), int64(5)\n",
      "memory usage: 691.5 KB\n",
      "<class 'pandas.core.frame.DataFrame'>\n",
      "Int64Index: 2000 entries, 6263 to 1630\n",
      "Data columns (total 11 columns):\n",
      " #   Column           Non-Null Count  Dtype  \n",
      "---  ------           --------------  -----  \n",
      " 0   CreditScore      2000 non-null   int64  \n",
      " 1   Age              2000 non-null   int64  \n",
      " 2   Tenure           2000 non-null   float64\n",
      " 3   Balance          2000 non-null   float64\n",
      " 4   NumOfProducts    2000 non-null   int64  \n",
      " 5   HasCrCard        2000 non-null   int64  \n",
      " 6   IsActiveMember   2000 non-null   int64  \n",
      " 7   EstimatedSalary  2000 non-null   float64\n",
      " 8   0                2000 non-null   float64\n",
      " 9   1                2000 non-null   float64\n",
      " 10  2                2000 non-null   float64\n",
      "dtypes: float64(6), int64(5)\n",
      "memory usage: 252.0 KB\n",
      "<class 'pandas.core.frame.DataFrame'>\n",
      "Int64Index: 2000 entries, 5702 to 3776\n",
      "Data columns (total 11 columns):\n",
      " #   Column           Non-Null Count  Dtype  \n",
      "---  ------           --------------  -----  \n",
      " 0   CreditScore      2000 non-null   int64  \n",
      " 1   Age              2000 non-null   int64  \n",
      " 2   Tenure           2000 non-null   float64\n",
      " 3   Balance          2000 non-null   float64\n",
      " 4   NumOfProducts    2000 non-null   int64  \n",
      " 5   HasCrCard        2000 non-null   int64  \n",
      " 6   IsActiveMember   2000 non-null   int64  \n",
      " 7   EstimatedSalary  2000 non-null   float64\n",
      " 8   0                2000 non-null   float64\n",
      " 9   1                2000 non-null   float64\n",
      " 10  2                2000 non-null   float64\n",
      "dtypes: float64(6), int64(5)\n",
      "memory usage: 252.0 KB\n"
     ]
    }
   ],
   "source": [
    "features_train.info()\n",
    "features_valid.info()\n",
    "features_test.info()"
   ]
  },
  {
   "cell_type": "markdown",
   "metadata": {},
   "source": [
    "<div class=\"alert alert-block alert-warning\">\n",
    "<b>Изменения:</b> Изменил способ кодирования. Правильно я понял, что когда мы предполагаем, что в тестовых/реальных данных у нас могут быть другие категории, то лучше создавать OneHotEncoder не с параметром drop='first', а с handle_unknown='ignore'. Тогда в неизвестных категориях буду просто стоять нули\n",
    "</div>"
   ]
  },
  {
   "cell_type": "markdown",
   "metadata": {},
   "source": [
    "<div class=\"alert alert-block alert-success\">\n",
    "<b>Успех👍:</b> \n",
    "    \n",
    "Данные поделены, замечательно! \n",
    "</div>\n",
    "\n",
    "<div class=\"alert alert-block alert-info\">\n",
    "<b>Совет🤔: </b> \n",
    "    \n",
    "Однако плюсом также являлось бы проверить размеры полученных выборок - так мы сможем убедиться в том, что мы правильно поделили датасет на выборки\n",
    "</div>"
   ]
  },
  {
   "cell_type": "markdown",
   "metadata": {},
   "source": [
    "Выполним стандартизацию данных для количественных признаков"
   ]
  },
  {
   "cell_type": "code",
   "execution_count": 16,
   "metadata": {},
   "outputs": [],
   "source": [
    "numeric = ['CreditScore', 'Age', 'Tenure', 'Balance', 'NumOfProducts', 'HasCrCard', 'IsActiveMember', 'EstimatedSalary']\n",
    "\n",
    "# Стандартизация тренировочной выборки\n",
    "scaler_train = StandardScaler()\n",
    "scaler_train.fit(features_train[numeric])\n",
    "features_train[numeric] = scaler_train.transform(features_train[numeric])\n",
    "\n",
    "# Стандартизация валидационной выборки\n",
    "scaler_valid = StandardScaler()\n",
    "scaler_valid.fit(features_valid[numeric])\n",
    "features_valid[numeric] = scaler_valid.transform(features_valid[numeric])\n",
    "\n",
    "# Стандартизация тестовой выборки\n",
    "scaler_test = StandardScaler()\n",
    "scaler_test.fit(features_test[numeric])\n",
    "features_test[numeric] = scaler_test.transform(features_test[numeric])"
   ]
  },
  {
   "cell_type": "markdown",
   "metadata": {},
   "source": [
    "<div class=\"alert alert-block alert-warning\">\n",
    "<b>Изменения:</b> Добавил разделение для разделенных частей выборки. Подумал, что имеет смысл для каждой выборки отдельно обучать StandardScaler и именно им нормализовывать входные данные\n",
    "</div>"
   ]
  },
  {
   "cell_type": "markdown",
   "metadata": {},
   "source": [
    "<div class=\"alert alert-block alert-warning\">\n",
    "<b>Комментарий:</b> Не очень понял, почему выдается предупреждение о задании значений для копии фрагмента датасета. Причем это предепреждение выдается только для features_test. И насколько нужно обращать внимание на это предупреждение?\n",
    "</div>"
   ]
  },
  {
   "cell_type": "markdown",
   "metadata": {},
   "source": [
    "<div class=\"alert alert-block alert-info\">\n",
    "<b>Совет🤔 В2: </b> \n",
    "    \n",
    "Реализовал стандартизацию - отлично! Однако у тебя преобразование признаков есть, которое не особо нужно, ведь они уже в виде 0 и 1: 'HasCrCard', 'IsActiveMember'. Также ты обучаешь скелер на разных выборках, а стоило бы обучать лишь на одном - трейн выборке, ведь так у нас везде будет одинаковый коэфициент стандартизации\n",
    "</div>"
   ]
  },
  {
   "cell_type": "markdown",
   "metadata": {},
   "source": [
    "## Исследование задачи"
   ]
  },
  {
   "cell_type": "markdown",
   "metadata": {},
   "source": [
    "Посмотрим распределение классов на обучающей выборке"
   ]
  },
  {
   "cell_type": "code",
   "execution_count": 17,
   "metadata": {},
   "outputs": [
    {
     "data": {
      "text/plain": [
       "0    4777\n",
       "1    1223\n",
       "Name: Exited, dtype: int64"
      ]
     },
     "execution_count": 17,
     "metadata": {},
     "output_type": "execute_result"
    }
   ],
   "source": [
    "target_train.value_counts()"
   ]
  },
  {
   "cell_type": "code",
   "execution_count": 18,
   "metadata": {},
   "outputs": [
    {
     "name": "stdout",
     "output_type": "stream",
     "text": [
      "Положительный класс составляет 20.38% всей обучающей выборки\n"
     ]
    }
   ],
   "source": [
    "percent_one = target_train[target_train == 1].count() / target_train.shape[0]\n",
    "print(f'Положительный класс составляет {percent_one:.2%} всей обучающей выборки')"
   ]
  },
  {
   "cell_type": "markdown",
   "metadata": {},
   "source": [
    "Видно, что в выборке наблюдается дисбаланс классов. Положительный класс составлятет лишь `20.38%` выборки"
   ]
  },
  {
   "cell_type": "markdown",
   "metadata": {},
   "source": [
    "<div class=\"alert alert-block alert-success\">\n",
    "<b>Успех👍:</b> \n",
    "    \n",
    "Да, дисбаланс у нас довольно серьезный - нужно что-то сделать\n",
    "</div>"
   ]
  },
  {
   "cell_type": "markdown",
   "metadata": {},
   "source": [
    "Исследуем модель решающего дерева"
   ]
  },
  {
   "cell_type": "code",
   "execution_count": 19,
   "metadata": {},
   "outputs": [],
   "source": [
    "def get_score(model, features, target):\n",
    "    predicted = model.predict(features)\n",
    "    f1 = f1_score(target, predicted)\n",
    "    probabilities_one = model.predict_proba(features)[:, 1]\n",
    "    roc_auc = roc_auc_score(target, probabilities_one)\n",
    "    return f1, roc_auc"
   ]
  },
  {
   "cell_type": "code",
   "execution_count": 20,
   "metadata": {},
   "outputs": [],
   "source": [
    "def train_decision_tree(features_train, target_train, features_valid, target_valid, max_depth, class_weight=None):\n",
    "    best_depth = 1\n",
    "    best_f1_score = 0\n",
    "    best_roc_auce = 0\n",
    "    best_model = None\n",
    "    for depth in range(1, max_depth+1):\n",
    "        model = DecisionTreeClassifier(max_depth=depth, class_weight=class_weight, random_state=RANDOM_STATE)\n",
    "        model.fit(features_train, target_train)\n",
    "        f1, roc_auc = get_score(model, features_valid, target_valid)\n",
    "        if f1 > best_f1_score:\n",
    "            best_model = model\n",
    "            best_depth = depth\n",
    "            best_f1_score = f1\n",
    "            best_roc_auc = roc_auc\n",
    "    return best_model, best_depth, best_f1_score, best_roc_auc"
   ]
  },
  {
   "cell_type": "code",
   "execution_count": 21,
   "metadata": {},
   "outputs": [
    {
     "name": "stdout",
     "output_type": "stream",
     "text": [
      "Best max depth = 2\n",
      "Best f1 score = 0.5007\n",
      "Best roc-auc = 0.7408\n"
     ]
    }
   ],
   "source": [
    "best_model_tree = None\n",
    "if TRAIN_TREE:\n",
    "    best_model_tree, best_depth, best_f1_score, best_roc_auc = train_decision_tree(\n",
    "        features_train, target_train, features_valid, target_valid, 50)\n",
    "\n",
    "    print(f'Best max depth = {best_depth}')\n",
    "    print(f'Best f1 score = {best_f1_score:.4}')\n",
    "    print(f'Best roc-auc = {best_roc_auc:.4}')"
   ]
  },
  {
   "cell_type": "markdown",
   "metadata": {},
   "source": [
    "Best max depth = 2  \n",
    "Best f1 score = 0.5007  \n",
    "Best roc-auc = 0.7408"
   ]
  },
  {
   "cell_type": "markdown",
   "metadata": {},
   "source": [
    "Модель решающего дерева показывает лучший результат при максимальной глубине равной 2. Значение метрики F1 на валидационной выборке составило `0.5007`. Площадь под ROC кривой составила `0.7408`, что является показателем хорошей разделяющей способности алгоритма. Однако делать такие выводы нельзя из-за дисбаланса обучающей выборки"
   ]
  },
  {
   "cell_type": "markdown",
   "metadata": {},
   "source": [
    "<div class=\"alert alert-block alert-success\">\n",
    "<b>Успех👍:</b> \n",
    "    \n",
    "Прекрасно, у тебя вышло довольно интересно все реализовать в одной функции: обучение, предсказания, проверка метрик, перебор гиперпараметров - сильно)\n",
    "</div>\n",
    "\n",
    "<div class=\"alert alert-block alert-info\">\n",
    "<b>Совет🤔: </b> \n",
    "    \n",
    "Однако по PEP8 я бы тебе посоветовал реализовать все в нескольких функциях: в первой функции сделать перебор гиперпараметров, а во второй результаты на метриках проверять\n",
    "</div>"
   ]
  },
  {
   "cell_type": "markdown",
   "metadata": {},
   "source": [
    "<div class=\"alert alert-block alert-warning\">\n",
    "<b>Изменения:</b> Доработал функцию\n",
    "</div>"
   ]
  },
  {
   "cell_type": "markdown",
   "metadata": {},
   "source": [
    "<div class=\"alert alert-block alert-success\">\n",
    "<b>Успех👍 В2:</b> \n",
    "    \n",
    "Приятно, теперь все автоматизированно)\n",
    "</div>"
   ]
  },
  {
   "cell_type": "markdown",
   "metadata": {},
   "source": [
    "Исследуем модель случайного леса"
   ]
  },
  {
   "cell_type": "code",
   "execution_count": 22,
   "metadata": {},
   "outputs": [],
   "source": [
    "def train_random_forest(features_train, target_train, features_valid, target_valid, max_depth, n_estimators, class_weight=None):\n",
    "    best_depth = 1\n",
    "    best_n_estimators = 1\n",
    "    best_f1_score = 0\n",
    "    best_roc_auc = 0\n",
    "    best_model = None\n",
    "    for n in range(5, n_estimators+1, 5):\n",
    "        for depth in range(1, max_depth+1):\n",
    "            model = RandomForestClassifier(\n",
    "                n_estimators=n, max_depth=depth, class_weight=class_weight,random_state=RANDOM_STATE)\n",
    "            model.fit(features_train, target_train)\n",
    "            f1, roc_auc = get_score(model, features_valid, target_valid)      \n",
    "            if f1 > best_f1_score:\n",
    "                best_model = model\n",
    "                best_f1_score = f1\n",
    "                best_n_estimators = n\n",
    "                best_depth = depth\n",
    "                best_roc_auc = roc_auc\n",
    "    return best_model, best_depth, best_n_estimators, best_f1_score, best_roc_auc"
   ]
  },
  {
   "cell_type": "code",
   "execution_count": 23,
   "metadata": {},
   "outputs": [
    {
     "name": "stdout",
     "output_type": "stream",
     "text": [
      "Best max depth = 22\n",
      "Best n_estimators = 45\n",
      "Best f1 score = 0.6012\n",
      "Best roc-auc = 0.8447\n",
      "CPU times: user 7min 50s, sys: 2.86 s, total: 7min 53s\n",
      "Wall time: 7min 53s\n"
     ]
    }
   ],
   "source": [
    "%%time\n",
    "best_model_rand_forest = None\n",
    "if TRAIN_FOREST:\n",
    "    best_model_rand_forest, best_depth, best_n_estimators, best_f1_score, best_roc_auc = train_random_forest(\n",
    "        features_train, target_train, features_valid, target_valid, 30, 155)\n",
    "\n",
    "    print(f'Best max depth = {best_depth}')\n",
    "    print(f'Best n_estimators = {best_n_estimators}')    \n",
    "    print(f'Best f1 score = {best_f1_score:.4}')\n",
    "    print(f'Best roc-auc = {best_roc_auc:.4}')"
   ]
  },
  {
   "cell_type": "markdown",
   "metadata": {},
   "source": [
    "Best max depth = 22  \n",
    "Best n_estimators = 45  \n",
    "Best f1 score = 0.6012  \n",
    "Best roc-auc = 0.8447"
   ]
  },
  {
   "cell_type": "markdown",
   "metadata": {},
   "source": [
    "Модель случайного показывает лучший результат при максимальной глубине равной 22 и количестве решателей равным 45. Значение метрики F1 на валидационной выборке составило `0.6012`. Площадь под ROC кривой составила `0.8447`, что является показателем хорошей разделяющей способности алгоритма. Однако делать такие выводы нельзя из-за дисбаланса обучающей выборки"
   ]
  },
  {
   "cell_type": "markdown",
   "metadata": {},
   "source": [
    "<div class=\"alert alert-block alert-success\">\n",
    "<b>Успех👍:</b> \n",
    "    \n",
    "Ну тут также все замечательно сделано, молодец)\n",
    "</div>\n",
    "\n",
    "<div class=\"alert alert-block alert-info\">\n",
    "<b>Совет🤔: </b> \n",
    "    \n",
    "Совет такой же)\n",
    "</div>"
   ]
  },
  {
   "cell_type": "markdown",
   "metadata": {},
   "source": [
    "<div class=\"alert alert-block alert-warning\">\n",
    "<b>Изменения:</b> Доработал функцию\n",
    "</div>"
   ]
  },
  {
   "cell_type": "markdown",
   "metadata": {},
   "source": [
    "Исследуем модель логистической регрессии"
   ]
  },
  {
   "cell_type": "code",
   "execution_count": 24,
   "metadata": {},
   "outputs": [],
   "source": [
    "def train_log_regression(features_train, target_train, features_valid, target_valid, max_iter=100, class_weight=None):\n",
    "    best_c = 0\n",
    "    best_f1_score = 0\n",
    "    best_roc_auc = 0\n",
    "    best_model = None\n",
    "    for c in np.arange(.1, 5, .1):\n",
    "        model = LogisticRegression(\n",
    "            max_iter=max_iter, solver='liblinear', C=c, class_weight=class_weight, random_state=RANDOM_STATE\n",
    "        )\n",
    "        model.fit(features_train, target_train)\n",
    "        f1, roc_auc = get_score(model, features_valid, target_valid)\n",
    "        if f1 > best_f1_score:\n",
    "            best_model = model\n",
    "            best_f1_score = f1\n",
    "            best_roc_auc = roc_auc\n",
    "            best_c = c\n",
    "    return best_model, best_c, best_f1_score, best_roc_auc"
   ]
  },
  {
   "cell_type": "code",
   "execution_count": 25,
   "metadata": {},
   "outputs": [
    {
     "name": "stdout",
     "output_type": "stream",
     "text": [
      "f1 score = 0.3201\n",
      "roc-auc = 0.7556\n",
      "Best C = 1.2\n"
     ]
    }
   ],
   "source": [
    "model_log_regression = None\n",
    "if TRAIN_LOG_REGRESSION:\n",
    "    model_log_regression, best_c, best_f1_score, best_roc_auc = train_log_regression(\n",
    "        features_train, target_train, features_valid, target_valid)\n",
    "    print(f'f1 score = {best_f1_score:.4}')\n",
    "    print(f'roc-auc = {best_roc_auc:.4}')\n",
    "    print(f'Best C = {best_c:.2}')"
   ]
  },
  {
   "cell_type": "markdown",
   "metadata": {},
   "source": [
    "<div class=\"alert alert-block alert-success\">\n",
    "<b>Успех👍:</b> \n",
    "    \n",
    "Лог регрессия имеется, обучение и метрики верно реализованы - молодец!\n",
    "</div>\n",
    "\n",
    "<div class=\"alert alert-block alert-info\">\n",
    "<b>Совет🤔: </b> \n",
    "    \n",
    "Для лог регрессии я бы перебрал гиперпараметр C (сила обратной регуляризации - от нее может качество значительно вырасти)\n",
    "</div>"
   ]
  },
  {
   "cell_type": "markdown",
   "metadata": {},
   "source": [
    "<div class=\"alert alert-block alert-warning\">\n",
    "<b>Изменения:</b> Добавил перепор параметра. Правильно я понял, что он отвечает за переобучение модели?\n",
    "</div>"
   ]
  },
  {
   "cell_type": "markdown",
   "metadata": {},
   "source": [
    "f1 score = 0.3201  \n",
    "roc-auc = 0.7556  \n",
    "Best C = 1.2"
   ]
  },
  {
   "cell_type": "markdown",
   "metadata": {},
   "source": [
    "Логистическая регрессия обученная на 100 итерациях на валидационной выборке показала значение метрики F1 равное `0.3201`"
   ]
  },
  {
   "cell_type": "markdown",
   "metadata": {},
   "source": [
    "**Выводы:** В результате исследования моделей на несбалансированной выборке было обучено 3 модели: решающее дерево, случайный лес и логистическая регрессия.  \n",
    "* Модель решающего дерева показала лучший результат при максимальной глубине равной 2. Значение метрики F1 на валидационной выборке составило `0.5007` .  \n",
    "* Модель случайного дерева показала лучший результат при максимальной глубине равной 22 и количестве решателей равным 45. Значение метрики F1 на валидационной выборке составило `0.6012` .    \n",
    "* Модель логистической регрессии, обученная на 100 итерациях, на валидационной выборке показала значение метрики F1 равное `0.3201` .  \n",
    "\n",
    "Таким образом, лучший результат показала модель случайного леса."
   ]
  },
  {
   "cell_type": "markdown",
   "metadata": {},
   "source": [
    "<div class=\"alert alert-block alert-success\">\n",
    "<b>Успех👍:</b> \n",
    "    \n",
    "Отлично, модели проверены, давай же проверим их на методах борьбы с дисбалансом)\n",
    "</div>"
   ]
  },
  {
   "cell_type": "markdown",
   "metadata": {},
   "source": [
    "## Борьба с дисбалансом"
   ]
  },
  {
   "cell_type": "markdown",
   "metadata": {},
   "source": [
    "### Взвешивание классов"
   ]
  },
  {
   "cell_type": "markdown",
   "metadata": {},
   "source": [
    "Исследуем модель решающего дерева"
   ]
  },
  {
   "cell_type": "code",
   "execution_count": 26,
   "metadata": {
    "scrolled": true
   },
   "outputs": [
    {
     "name": "stdout",
     "output_type": "stream",
     "text": [
      "Best max depth = 6\n",
      "Best f1 score = 0.5875\n",
      "Best roc-auc = 0.8348\n"
     ]
    }
   ],
   "source": [
    "best_model_tree_w_balanced = None\n",
    "if TRAIN_TREE:\n",
    "    best_model_tree_w_balanced, best_depth, best_f1_score, best_roc_auc = train_decision_tree(\n",
    "        features_train, target_train, features_valid, target_valid, 30, class_weight='balanced')\n",
    "\n",
    "    print(f'Best max depth = {best_depth}')\n",
    "    print(f'Best f1 score = {best_f1_score:.4}')\n",
    "    print(f'Best roc-auc = {best_roc_auc:.4}')"
   ]
  },
  {
   "cell_type": "markdown",
   "metadata": {},
   "source": [
    "Best max depth = 6  \n",
    "Best f1 score = 0.5875  \n",
    "Best roc-auc = 0.8348"
   ]
  },
  {
   "cell_type": "markdown",
   "metadata": {},
   "source": [
    "Исследуем модель случайного леса"
   ]
  },
  {
   "cell_type": "code",
   "execution_count": 27,
   "metadata": {},
   "outputs": [
    {
     "name": "stdout",
     "output_type": "stream",
     "text": [
      "Best max depth = 10\n",
      "Best n_estimators = 135\n",
      "Best f1 score = 0.6434\n",
      "Best roc-auc = 0.8579\n",
      "CPU times: user 7min 53s, sys: 1.95 s, total: 7min 55s\n",
      "Wall time: 7min 55s\n"
     ]
    }
   ],
   "source": [
    "%%time\n",
    "best_model_rand_forest_w_balanced = None\n",
    "if TRAIN_FOREST:\n",
    "    best_model_rand_forest_w_balanced, best_depth, best_n_estimators, best_f1_score, best_roc_auc = train_random_forest(\n",
    "        features_train, target_train, features_valid, target_valid, 30, 155, class_weight='balanced')\n",
    "\n",
    "    print(f'Best max depth = {best_depth}')\n",
    "    print(f'Best n_estimators = {best_n_estimators}')    \n",
    "    print(f'Best f1 score = {best_f1_score:.4}')\n",
    "    print(f'Best roc-auc = {best_roc_auc:.4}')"
   ]
  },
  {
   "cell_type": "markdown",
   "metadata": {},
   "source": [
    "Best max depth = 10  \n",
    "Best n_estimators = 135  \n",
    "Best f1 score = 0.6434  \n",
    "Best roc-auc = 0.8579"
   ]
  },
  {
   "cell_type": "markdown",
   "metadata": {},
   "source": [
    "Исследуем модель логистической регрессии"
   ]
  },
  {
   "cell_type": "code",
   "execution_count": 28,
   "metadata": {},
   "outputs": [
    {
     "name": "stdout",
     "output_type": "stream",
     "text": [
      "f1 score = 0.481\n",
      "roc-auc = 0.7602\n",
      "Best C = 0.2\n"
     ]
    }
   ],
   "source": [
    "model_log_regr_w_balanced = None\n",
    "if TRAIN_LOG_REGRESSION:\n",
    "    model_log_regr_w_balanced, best_c, best_f1_score, best_roc_auc = train_log_regression(\n",
    "        features_train, target_train, features_valid, target_valid, class_weight='balanced')\n",
    "    print(f'f1 score = {best_f1_score:.4}')\n",
    "    print(f'roc-auc = {best_roc_auc:.4}')\n",
    "    print(f'Best C = {best_c:.2}')"
   ]
  },
  {
   "cell_type": "markdown",
   "metadata": {},
   "source": [
    "f1 score = 0.481  \n",
    "roc-auc = 0.7602  \n",
    "Best C = 0.2"
   ]
  },
  {
   "cell_type": "markdown",
   "metadata": {},
   "source": [
    "<div class=\"alert alert-block alert-success\">\n",
    "<b>Успех👍:</b> \n",
    "    \n",
    "Прекрасно, все модели реализованы верно, алгоритм class_weight реализован, а это значит, что все отлично. И да, случайный лес показал хороший результат, нам стоит это запомнить!\n",
    "</div>"
   ]
  },
  {
   "cell_type": "markdown",
   "metadata": {},
   "source": [
    "**Вывод:** Использование взвешенных классов позволило добиться баланса в обучающей выборке. Это позволило увеличить качество моделей.  \n",
    "* Модель решающего дерева показала лучший результат при максимальной глубине равной 6. Значение метрики F1 на валидационной выборке выросло до `0.5875` . Площадь под ROC кривой для данной модели составила `0.8348`, что говорит о достаточно хорошей разделяющей способности данной модели.  \n",
    "* Модель случайного леса показала лучший результат при максимальной глубине равной 10 и количестве решателей равным 135. Значение метрики F1 на валидационной выборке выросло до `0.6434` . Площадь под ROC кривой для данной модели составила `0.8579`, что говорит о хорошей разделяющей способности данной модели. Это лучший результат из всех трех моделей.  \n",
    "* Модель логистической регрессии, обученная на 100 итерациях, на валидационной выборке показала значение метрики F1 выросло до `0.481` . Площадь под ROC кривой для данной модели составила `0.7602`. Разделяющая способность данной модели худшая из всех трех.  \n",
    "\n",
    "Таким образом, лучший результат показала модель случайного леса и имеет лучшую разделяющую способнось."
   ]
  },
  {
   "cell_type": "markdown",
   "metadata": {},
   "source": [
    "<div class=\"alert alert-block alert-success\">\n",
    "<b>Успех👍:</b> \n",
    "\n",
    "Использование class_weight привело к балансу в обучающей выборке и улучшило качество моделей.\n",
    "\n",
    "- Модель решающего дерева с максимальной глубиной 6 показала F1-меру 0.5875 на валидационной выборке и AUC-ROC 0.8314, что указывает на хорошую разделяющую способность.\n",
    "\n",
    "- Модель случайного леса с максимальной глубиной 10 и 130 решателями показала лучший результат с F1-мерой 0.6557 на валидационной выборке и AUC-ROC 0.8591, что говорит о хорошей разделяющей способности. Это лучший результат среди всех трех моделей.\n",
    "\n",
    "- Модель логистической регрессии с 100 итерациями показала меньшую F1-меру 0.4804 на валидационной выборке и AUC-ROC 0.7607, что указывает на её более низкую разделяющую способность по сравнению с другими моделями.\n",
    "\n",
    "Таким образом, модель случайного леса является наилучшей в данном контексте, отлично!"
   ]
  },
  {
   "cell_type": "markdown",
   "metadata": {},
   "source": [
    "### Увеличение/уменьшение выборки"
   ]
  },
  {
   "cell_type": "code",
   "execution_count": 29,
   "metadata": {},
   "outputs": [],
   "source": [
    "def upsample(features, target, repeat):\n",
    "    features_zeros = features[target == 0]\n",
    "    features_one = features[target == 1]\n",
    "    target_zeros = target[target == 0]\n",
    "    target_one = target[target == 1]\n",
    "    \n",
    "    features_upsample = pd.concat([features_zeros] + [features_one] * repeat)\n",
    "    target_upsample = pd.concat([target_zeros] + [target_one] * repeat)\n",
    "    features_upsample, target_upsample = shuffle(\n",
    "        features_upsample, target_upsample, random_state=RANDOM_STATE)\n",
    "    \n",
    "    return features_upsample, target_upsample"
   ]
  },
  {
   "cell_type": "code",
   "execution_count": 30,
   "metadata": {},
   "outputs": [],
   "source": [
    "def downsample(features, target, fraction):\n",
    "    features_zeros = features[target == 0]\n",
    "    features_one = features[target == 1]\n",
    "    target_zeros = target[target == 0]\n",
    "    target_one = target[target == 1]\n",
    "    \n",
    "    features_downsample = pd.concat(\n",
    "        [features_zeros.sample(frac=fraction, random_state=RANDOM_STATE)] + [features_one])\n",
    "    target_downsample = pd.concat(\n",
    "        [target_zeros.sample(frac=fraction, random_state=RANDOM_STATE)] + [target_one])\n",
    "    features_downsample, target_downsample = shuffle(\n",
    "        features_downsample, target_downsample, random_state=RANDOM_STATE)\n",
    "    \n",
    "    return features_downsample, target_downsample"
   ]
  },
  {
   "cell_type": "markdown",
   "metadata": {},
   "source": [
    "<div class=\"alert alert-block alert-success\">\n",
    "<b>Успех👍:</b> \n",
    "    \n",
    "Обе функции расписаны идеально верно, давай же проверим их, как они себя проявят в улучшении качества моделей"
   ]
  },
  {
   "cell_type": "markdown",
   "metadata": {},
   "source": [
    "#### Увеличение выборки"
   ]
  },
  {
   "cell_type": "markdown",
   "metadata": {},
   "source": [
    "Увеличим количество положительного класса в 4 раза."
   ]
  },
  {
   "cell_type": "code",
   "execution_count": 31,
   "metadata": {},
   "outputs": [
    {
     "name": "stdout",
     "output_type": "stream",
     "text": [
      "(9669, 11)\n",
      "(9669,)\n"
     ]
    }
   ],
   "source": [
    "features_train_upsample, target_train_upsample = upsample(features_train, target_train, 4)\n",
    "print(features_train_upsample.shape)\n",
    "print(target_train_upsample.shape)"
   ]
  },
  {
   "cell_type": "code",
   "execution_count": 32,
   "metadata": {},
   "outputs": [
    {
     "name": "stdout",
     "output_type": "stream",
     "text": [
      "Величина новой выборки - 9669. Положительный класс составляет 50.59% всей обучающей выборки\n"
     ]
    }
   ],
   "source": [
    "percent_one = target_train_upsample[target_train_upsample == 1].count() / target_train_upsample.shape[0]\n",
    "print(f'Величина новой выборки - {features_train_upsample.shape[0]}. '\n",
    "      f'Положительный класс составляет {percent_one:.2%} всей обучающей выборки')"
   ]
  },
  {
   "cell_type": "code",
   "execution_count": 33,
   "metadata": {},
   "outputs": [
    {
     "name": "stdout",
     "output_type": "stream",
     "text": [
      "Best max depth = 6\n",
      "Best f1 score = 0.5875\n",
      "Best roc-auc = 0.8348\n"
     ]
    }
   ],
   "source": [
    "best_model_tree_upsample = None\n",
    "if TRAIN_TREE:\n",
    "    best_model_tree_upsample, best_depth, best_f1_score, best_roc_auc = train_decision_tree(\n",
    "        features_train_upsample, target_train_upsample, features_valid, target_valid, 30)\n",
    "\n",
    "    print(f'Best max depth = {best_depth}')\n",
    "    print(f'Best f1 score = {best_f1_score:.4}')\n",
    "    print(f'Best roc-auc = {best_roc_auc:.4}')"
   ]
  },
  {
   "cell_type": "markdown",
   "metadata": {},
   "source": [
    "Best max depth = 6  \n",
    "Best f1 score = 0.5875  \n",
    "Best roc-auc = 0.8348  "
   ]
  },
  {
   "cell_type": "markdown",
   "metadata": {},
   "source": [
    "Исследуем модель случайного леса"
   ]
  },
  {
   "cell_type": "code",
   "execution_count": 34,
   "metadata": {},
   "outputs": [
    {
     "name": "stdout",
     "output_type": "stream",
     "text": [
      "Best max depth = 15\n",
      "Best n_estimators = 95\n",
      "Best f1 score = 0.6497\n",
      "Best roc-auc = 0.8541\n",
      "CPU times: user 11min 6s, sys: 3.14 s, total: 11min 9s\n",
      "Wall time: 11min 10s\n"
     ]
    }
   ],
   "source": [
    "%%time\n",
    "best_model_rand_forest_upsample = None\n",
    "if TRAIN_FOREST:\n",
    "    best_model_rand_forest_upsample, best_depth, best_n_estimators, best_f1_score, best_roc_auc = train_random_forest(\n",
    "        features_train_upsample, target_train_upsample, features_valid, target_valid, 30, 155)\n",
    "\n",
    "    print(f'Best max depth = {best_depth}')\n",
    "    print(f'Best n_estimators = {best_n_estimators}')    \n",
    "    print(f'Best f1 score = {best_f1_score:.4}')\n",
    "    print(f'Best roc-auc = {best_roc_auc:.4}')"
   ]
  },
  {
   "cell_type": "markdown",
   "metadata": {},
   "source": [
    "Best max depth = 15  \n",
    "Best n_estimators = 95  \n",
    "Best f1 score = 0.6497  \n",
    "Best roc-auc = 0.8541"
   ]
  },
  {
   "cell_type": "markdown",
   "metadata": {},
   "source": [
    "Исследуем модель логистической регрессии"
   ]
  },
  {
   "cell_type": "code",
   "execution_count": 35,
   "metadata": {},
   "outputs": [
    {
     "name": "stdout",
     "output_type": "stream",
     "text": [
      "f1 score = 0.4843\n",
      "roc-auc = 0.7604\n",
      "Best C = 0.4\n"
     ]
    }
   ],
   "source": [
    "model_log_regr_upsample = None\n",
    "if TRAIN_LOG_REGRESSION:\n",
    "    model_log_regr_upsample, best_c, best_f1_score, best_roc_auc = train_log_regression(\n",
    "        features_train_upsample, target_train_upsample, features_valid, target_valid)\n",
    "    print(f'f1 score = {best_f1_score:.4}')\n",
    "    print(f'roc-auc = {best_roc_auc:.4}')\n",
    "    print(f'Best C = {best_c:.2}')"
   ]
  },
  {
   "cell_type": "markdown",
   "metadata": {},
   "source": [
    "f1 score = 0.4843  \n",
    "roc-auc = 0.7604  \n",
    "Best C = 0.4"
   ]
  },
  {
   "cell_type": "markdown",
   "metadata": {},
   "source": [
    "**Вывод:** Использование метода upsampling позволило добиться баланса в обучающей выборке. Мы увеличили количество положительных классов в 4 раза. В итоге положительные классы стали составлять в обучающей выборке `50.59%`. Обучение моделей на новой обучающей выборке позволило улучшить качестов моделей.  \n",
    "* Модель решающего дерева показала лучший результат при максимальной глубине равной 6. Значение метрики F1 на валидационной выборке выросло до `0.5875` . Площадь под ROC кривой для данной модели составила `0.8348`, что говорит о достаточно хорошей разделяющей способности данной модели.  \n",
    "* Модель случайного леса показала лучший результат при максимальной глубине равной 15 и количестве решателей равным 95. Значение метрики F1 на валидационной выборке выросло до `0.6497` . Площадь под ROC кривой для данной модели составила `0.8541`, что говорит о хорошей разделяющей способности данной модели. Это лучший результат из всех трех моделей.  \n",
    "* Модель логистической регрессии, обученная на 100 итерациях, на валидационной выборке показала значение метрики F1 выросло до `0.4843` . Площадь под ROC кривой для данной модели составила `0.7604`. Разделяющая способность данной модели худшая из всех трех.  \n",
    "\n",
    "Таким образом, лучший результат показала модель случайного леса и имеет лучшую разделяющую способнось."
   ]
  },
  {
   "cell_type": "markdown",
   "metadata": {},
   "source": [
    "#### Уменьшение выборки"
   ]
  },
  {
   "cell_type": "markdown",
   "metadata": {},
   "source": [
    "Оставим в выборке 25% отрицательного класса"
   ]
  },
  {
   "cell_type": "code",
   "execution_count": 36,
   "metadata": {},
   "outputs": [
    {
     "name": "stdout",
     "output_type": "stream",
     "text": [
      "(2417, 11)\n",
      "(2417,)\n"
     ]
    }
   ],
   "source": [
    "features_train_downsample, target_train_downsample = downsample(features_train, target_train, .25)\n",
    "print(features_train_downsample.shape)\n",
    "print(target_train_downsample.shape)"
   ]
  },
  {
   "cell_type": "code",
   "execution_count": 37,
   "metadata": {},
   "outputs": [
    {
     "name": "stdout",
     "output_type": "stream",
     "text": [
      "Величина новой выборки - 2417. Положительный класс составляет 50.60% всей обучающей выборки\n"
     ]
    }
   ],
   "source": [
    "percent_one = target_train_downsample[target_train_downsample == 1].count() / target_train_downsample.shape[0]\n",
    "print(f'Величина новой выборки - {features_train_downsample.shape[0]}. '\n",
    "      f'Положительный класс составляет {percent_one:.2%} всей обучающей выборки')"
   ]
  },
  {
   "cell_type": "code",
   "execution_count": 38,
   "metadata": {},
   "outputs": [
    {
     "name": "stdout",
     "output_type": "stream",
     "text": [
      "Best max depth = 5\n",
      "Best f1 score = 0.5871\n",
      "Best roc-auc = 0.8114\n"
     ]
    }
   ],
   "source": [
    "best_model_tree_downsample = None\n",
    "if TRAIN_TREE:\n",
    "    best_model_tree_downsample, best_depth, best_f1_score, best_roc_auc = train_decision_tree(\n",
    "        features_train_downsample, target_train_downsample, features_valid, target_valid, 30)\n",
    "\n",
    "    print(f'Best max depth = {best_depth}')\n",
    "    print(f'Best f1 score = {best_f1_score:.4}')\n",
    "    print(f'Best roc-auc = {best_roc_auc:.4}')"
   ]
  },
  {
   "cell_type": "markdown",
   "metadata": {},
   "source": [
    "Best max depth = 5  \n",
    "Best f1 score = 0.5871  \n",
    "Best roc-auc = 0.8114  "
   ]
  },
  {
   "cell_type": "markdown",
   "metadata": {},
   "source": [
    "Исследуем модель случайного леса"
   ]
  },
  {
   "cell_type": "code",
   "execution_count": 39,
   "metadata": {},
   "outputs": [
    {
     "name": "stdout",
     "output_type": "stream",
     "text": [
      "Best max depth = 8\n",
      "Best n_estimators = 50\n",
      "Best f1 score = 0.6082\n",
      "Best roc-auc = 0.8545\n",
      "CPU times: user 4min 52s, sys: 1.12 s, total: 4min 53s\n",
      "Wall time: 4min 54s\n"
     ]
    }
   ],
   "source": [
    "%%time\n",
    "best_model_rand_forest_downsample = None\n",
    "if TRAIN_FOREST:\n",
    "    best_model_rand_forest_downsample, best_depth, best_n_estimators, best_f1_score, best_roc_auc = train_random_forest(\n",
    "        features_train_downsample, target_train_downsample, features_valid, target_valid, 30, 155)\n",
    "\n",
    "    print(f'Best max depth = {best_depth}')\n",
    "    print(f'Best n_estimators = {best_n_estimators}')    \n",
    "    print(f'Best f1 score = {best_f1_score:.4}')\n",
    "    print(f'Best roc-auc = {best_roc_auc:.4}')"
   ]
  },
  {
   "cell_type": "markdown",
   "metadata": {},
   "source": [
    "Best max depth = 8  \n",
    "Best n_estimators = 50  \n",
    "Best f1 score = 0.6082  \n",
    "Best roc-auc = 0.8545"
   ]
  },
  {
   "cell_type": "markdown",
   "metadata": {},
   "source": [
    "Исследуем модель логистической регрессии"
   ]
  },
  {
   "cell_type": "code",
   "execution_count": 40,
   "metadata": {},
   "outputs": [
    {
     "name": "stdout",
     "output_type": "stream",
     "text": [
      "f1 score = 0.4781\n",
      "roc-auc = 0.7597\n",
      "Best C = 0.4\n"
     ]
    }
   ],
   "source": [
    "model_log_regr_downsample = None\n",
    "if TRAIN_LOG_REGRESSION:\n",
    "    model_log_regr_downsample, best_c, best_f1_score, best_roc_auc = train_log_regression(\n",
    "        features_train_downsample, target_train_downsample, features_valid, target_valid)\n",
    "    print(f'f1 score = {best_f1_score:.4}')\n",
    "    print(f'roc-auc = {best_roc_auc:.4}')\n",
    "    print(f'Best C = {best_c:.2}')"
   ]
  },
  {
   "cell_type": "markdown",
   "metadata": {},
   "source": [
    "f1 score = 0.4781  \n",
    "roc-auc = 0.7597  \n",
    "Best C = 0.4"
   ]
  },
  {
   "cell_type": "markdown",
   "metadata": {},
   "source": [
    "<div class=\"alert alert-block alert-danger\">\n",
    "<b>Ошибка❌:</b> \n",
    "    \n",
    "Поидее такие алгоритмы используют не вместе, а раздельно, то есть вначале проверяют как работает upsample, потом проверяют downsample. Как только получим качество на этих алгоритмах, можно сравнить его. А ты сделал по-другому, так не стоит делать. Проверь раздельно данные алгоритмы. Upsample увеличиваем в 4 раза, а для проверки downsample проверяем число 0.25\n",
    "</div>"
   ]
  },
  {
   "cell_type": "markdown",
   "metadata": {},
   "source": [
    "<div class=\"alert alert-block alert-warning\">\n",
    "    <b>Изменения:</b> Практически полностью переписал блок с учетом замечания.<br>\n",
    "    Почему плохо использовать оба этих метода одновременно?\n",
    "</div>"
   ]
  },
  {
   "cell_type": "markdown",
   "metadata": {},
   "source": [
    "<div class=\"alert alert-block alert-success\">\n",
    "<b>Успех👍 В2:</b> \n",
    "    \n",
    "Не то, чтобы прямо плохо, но есть два момента: ты должен реализовать алгоритмы отдельно друг от друга, ведь именно так ты сможешь проверить их эффективность и выявить лучший. Также логика применения двух алгоритмов сразу непонятна, ведь upsample - увеличивает меньший класс, а downsample уменьшает наибольший класс - можно просто задать значения либо тут, либо там побольше и разница в значениях будет такая же, если ты их будешь применять вместе, а не отдельно\n",
    "</div>"
   ]
  },
  {
   "cell_type": "markdown",
   "metadata": {},
   "source": [
    "<div class=\"alert alert-block alert-success\">\n",
    "<b>Успех👍:</b> \n",
    "    \n",
    "Делаешь похожим образом, но реализуешь отдельно для upsample и отдельно для downsample\n",
    "</div>"
   ]
  },
  {
   "cell_type": "markdown",
   "metadata": {},
   "source": [
    "**Вывод:** Использование метода downsampling позволило добиться баланса в обучающей выборке. Мы оставили в выборке 25% отрицательных классов. В итоге положительные классы стали составлять в обучающей выборке `50.6%`. Обучение моделей на новой обучающей выборке позволило улучшить качестов моделей.  \n",
    "* Модель решающего дерева показала лучший результат при максимальной глубине равной 5. Значение метрики F1 на валидационной выборке выросло до `0.5871` . Площадь под ROC кривой для данной модели составила `0.8114`, что говорит о достаточно хорошей разделяющей способности данной модели.  \n",
    "* Модель случайного леса показала лучший результат при максимальной глубине равной 8 и количестве решателей равным 50. Значение метрики F1 на валидационной выборке выросло до `0.6082` . Площадь под ROC кривой для данной модели составила `0.8545`, что говорит о хорошей разделяющей способности данной модели. Это лучший результат из всех трех моделей.  \n",
    "* Модель логистической регрессии, обученная на 100 итерациях, на валидационной выборке показала значение метрики F1 выросло до `0.4781` . Площадь под ROC кривой для данной модели составила `0.7597`. Разделяющая способность данной модели худшая из всех трех.  \n",
    "\n",
    "Таким образом, лучший результат показала модель случайного леса и имеет лучшую разделяющую способнось.  \n",
    "Однако результы, показанные моделями при обучении на выборке, полученнной методом downsampling, оказались хуже, чем при использовании метода upsampling. Скорее всего, это связано с тем, что использовании метода downsampling у нас оказалось значительно меньше данных в тренировочной выборке (9669 при upsampling и 2417 downsampling)"
   ]
  },
  {
   "cell_type": "markdown",
   "metadata": {},
   "source": [
    "## Тестирование модели"
   ]
  },
  {
   "cell_type": "markdown",
   "metadata": {},
   "source": [
    "Проверим лучшую модель - модель случайного леса с максимальной глубиной равной 15 и количестве решателей равным 95 на тестовой выборке."
   ]
  },
  {
   "cell_type": "code",
   "execution_count": 44,
   "metadata": {},
   "outputs": [
    {
     "name": "stdout",
     "output_type": "stream",
     "text": [
      "F1 = 0.6028\n",
      "roc_auc = 0.8536\n"
     ]
    }
   ],
   "source": [
    "if not TRAIN_FOREST:\n",
    "    best_model_rand_forest = RandomForestClassifier(max_depth=15, n_estimators=95, random_state=RANDOM_STATE)\n",
    "    best_model_rand_forest.fit(features_train_upsample, target_train_upsample)\n",
    "else:\n",
    "    best_model_rand_forest = best_model_rand_forest_upsample\n",
    "predicted = best_model_rand_forest.predict(features_test)\n",
    "f1, roc_auc = get_score(best_model_rand_forest, features_test, target_test)\n",
    "print(f'F1 = {f1:.4}')\n",
    "print(f'roc_auc = {roc_auc:.4}')"
   ]
  },
  {
   "cell_type": "markdown",
   "metadata": {},
   "source": [
    "<div class=\"alert alert-block alert-success\">\n",
    "<b>Успех👍:</b> \n",
    "    \n",
    "Такс, смотри в чем плюс твой - ты хорошо реализовал выбор лучшей модели - ну и у тебя действительно проверяется лучшая модель - молодец)\n",
    "</div>\n",
    "\n",
    "<div class=\"alert alert-block alert-danger\">\n",
    "<b>Ошибка❌:</b> \n",
    "    \n",
    "А вот минус в двух вещах: ты проверяешь метрику f1 на валид данных, а на тесте нужно проверять на тестовых данных. Также у тебя отсутствует проверка auc_roc метрики - добавь ее, но не забудь, что ее проверять стоит на тестовых данных\n",
    "</div>"
   ]
  },
  {
   "cell_type": "markdown",
   "metadata": {},
   "source": [
    "<div class=\"alert alert-block alert-warning\">\n",
    "<b>Изменения:</b> Исправил на тестовую выборку. Видимо, пока редактировал код, случайно написал валидационную выборку и не заметил\n",
    "</div>"
   ]
  },
  {
   "cell_type": "markdown",
   "metadata": {},
   "source": [
    "<div class=\"alert alert-block alert-success\">\n",
    "<b>Успех👍 В2:</b> \n",
    "    \n",
    "Супер!\n",
    "</div>"
   ]
  },
  {
   "cell_type": "markdown",
   "metadata": {},
   "source": [
    "Таким образом на тестовой выборке модель имеет значение метрики F1 равно `0.6028`, что удовлетворяет поставленной задаче"
   ]
  },
  {
   "cell_type": "markdown",
   "metadata": {},
   "source": [
    "## Общий вывод"
   ]
  },
  {
   "cell_type": "markdown",
   "metadata": {},
   "source": [
    "**Общий вывод:** в ходе работы были исследованы исторические данные о поведении клиентов и расторжении договоров с банком. На первоб этапе работы была проведена предобработка данных (устранены все пропуски, закодированы категориальный признаки и нормированы количественные). Стоит отметить, что в данных содержится дисбаланс классов (в датасете преобладают данные с классом `0`). Датасет был разделен на 3 выборки:\n",
    "* Тренировочная - 60%  \n",
    "* Валидационная - 20%  \n",
    "* Тестовая - 20%  \n",
    "\n",
    "На втором этапе работы на данных с дисбалансом классов было обучено 3 модели:\n",
    "* Модель решающего дерева. Показала лучший результат при максимальной глубине равной 2. Значение метрики F1 на валидационной выборке составило `0.5007` .  \n",
    "* Модель случайного дерева. Показала лучший результат при максимальной глубине равной 22 и количестве решателей равным 45. Значение метрики F1 на валидационной выборке составило `0.6012` .  \n",
    "* Модель логистической регрессии, обученная на 100 итерациях, на валидационной выборке показала значение метрики F1 равное `0.3201` .  \n",
    "\n",
    "На третьем этапе указанный выше модели обучались на тренировочной выборке, на которой был устранен дисбаланс классов. Уравновешивание выборки выполнялось двумя способами.\n",
    "1. Взвешивание классов. При данном методе модели показали следующие результаты:\n",
    "    * Модель решающего дерева показала лучший результат при максимальной глубине равной 6. Значение метрики F1 на валидационной выборке выросло до `0.5875` . Площадь под ROC кривой для данной модели составила `0.8348`, что говорит о достаточно хорошей разделяющей способности данной модели.  \n",
    "    * Модель случайного леса показала лучший результат при максимальной глубине равной 10 и количестве решателей равным 135. Значение метрики F1 на валидационной выборке выросло до `0.6434` . Площадь под ROC кривой для данной модели составила `0.8579`, что говорит о хорошей разделяющей способности данной модели. Это лучший результат из всех трех моделей.  \n",
    "    * Модель логистической регрессии, обученная на 100 итерациях, на валидационной выборке показала значение метрики F1 выросло до `0.481` . Площадь под ROC кривой для данной модели составила `0.7602`. Разделяющая способность данной модели худшая из всех трех.  \n",
    "    \n",
    "Таким образом, лучший результат показала модель случайного леса и имеет лучшую разделяющую способнось.\n",
    "\n",
    "2. С помощью увеличения выборки. Положительный класс был увеличен в 4 раза. В результате удалось добиться того, что положительный класс составлял `50.59%` обучающей выборки. При данном методе модели показали следующие результаты: \n",
    "    * Модель решающего дерева показала лучший результат при максимальной глубине равной 6. Значение метрики F1 на валидационной выборке выросло до `0.5875` . Площадь под ROC кривой для данной модели составила `0.8346`, что говорит о достаточно хорошей разделяющей способности данной модели.  \n",
    "    * Модель случайного леса показала лучший результат при максимальной глубине равной 15 и количестве решателей равным 95. Значение метрики F1 на валидационной выборке выросло до `0.6497` . Площадь под ROC кривой для данной модели составила `0.8541`, что говорит о хорошей разделяющей способности данной модели. Это лучший результат из всех трех моделей.  \n",
    "    * Модель логистической регрессии, обученная на 100 итерациях, на валидационной выборке показала значение метрики F1 выросло до `0.4843` . Площадь под ROC кривой для данной модели составила `0.7604`. Разделяющая способность данной модели худшая из всех трех.  \n",
    "    \n",
    "Таким образом, лучший результат опять показала модель случайного леса и имеет лучшую разделяющую способнось.\n",
    "\n",
    "3. С помощью уменьшения выборки. В выборке было осавлено 25% отрицательных классов. В результате удалось добиться того, что положительный класс составлял `50.6%` обучающей выборки. При данном методе модели показали следующие результаты: \n",
    "    * Модель решающего дерева показала лучший результат при максимальной глубине равной 5. Значение метрики F1 на валидационной выборке выросло до `0.5871` . Площадь под ROC кривой для данной модели составила `0.8114`, что говорит о достаточно хорошей разделяющей способности данной модели.  \n",
    "    * Модель случайного леса показала лучший результат при максимальной глубине равной 8 и количестве решателей равным 50. Значение метрики F1 на валидационной выборке выросло до `0.6082` . Площадь под ROC кривой для данной модели составила `0.8545`, что говорит о хорошей разделяющей способности данной модели. Это лучший результат из всех трех моделей.  \n",
    "    * Модель логистической регрессии, обученная на 100 итерациях, на валидационной выборке показала значение метрики F1 выросло до `0.4781` . Площадь под ROC кривой для данной модели составила `0.7597`. Разделяющая способность данной модели худшая из всех трех.  \n",
    "    \n",
    "Таким образом, лучший результат опять показала модель случайного леса и имеет лучшую разделяющую способнось.\n",
    "  \n",
    "В результате экспериментов был сделан вывод, что лучшей является модель случайного леса с максимальной глубиной 15 и количеством решателей равным 95, обучнная на сбалансированной выборке, полученной с помощью увеличения выборки. Именно данная модель была проверена на тестовой выборке.\n",
    "  \n",
    "На четвертом этапе лучшая модель была проверена на тестовой выборке. Значение метрики F1 оказалось равным 0.6028, что удовлетворяет поставленной задаче.    \n",
    "  \n",
    "Таким образом, рекомендуется использовать модель случайного леса с максимальной глубиной 15 и количеством решателей равным 95."
   ]
  },
  {
   "cell_type": "markdown",
   "metadata": {},
   "source": [
    "<div class=\"alert alert-block alert-success\">\n",
    "<b>Успех👍:</b> \n",
    "    \n",
    "Прекрасно, вывод по всему проекту в целом - так держать! Из основного можно выделить:\n",
    "    \n",
    "- Исследованы исторические данные о поведении клиентов и расторжении договоров с банком.\n",
    "- Проведена предобработка данных, включая заполнение пропусков, кодирование категориальных признаков и нормировку количественных признаков.\n",
    "- Датасет разделен на тренировочную (60%), валидационную (20%) и тестовую (20%) выборки.\n",
    "- Обучены 3 модели на данных с дисбалансом классов: решающее дерево, случайный лес и логистическая регрессия.\n",
    "- На третьем этапе модели обучались на уравновешенной выборке, используя взвешивание классов и увеличение/уменьшение классов.\n",
    "- Модель случайного леса показала наилучший результат с максимальной глубиной 16 и количеством решателей 145. Она обучена на сбалансированной выборке с увеличенным положительным классом.\n",
    "- Лучшая модель проверена на тестовой выборке, где достигнута F1-мера 0.6583, соответствующая поставленной задаче.\n",
    "- Рекомендуется использовать модель случайного леса с максимальной глубиной 16 и количеством решателей 145 для прогнозирования расторжения договоров с банком.\n",
    "    \n",
    "Мне нравится твой вывод, правда как проект поправишь, итоговый вывод также нужно будет поправить)\n",
    "</div>"
   ]
  },
  {
   "cell_type": "markdown",
   "metadata": {},
   "source": [
    "## Чек-лист готовности проекта"
   ]
  },
  {
   "cell_type": "markdown",
   "metadata": {},
   "source": [
    "Поставьте 'x' в выполненных пунктах. Далее нажмите Shift+Enter."
   ]
  },
  {
   "cell_type": "markdown",
   "metadata": {},
   "source": [
    "- [x]  Jupyter Notebook открыт\n",
    "- [x]  Весь код выполняется без ошибок\n",
    "- [x]  Ячейки с кодом расположены в порядке исполнения\n",
    "- [x]  Выполнен шаг 1: данные подготовлены\n",
    "- [x]  Выполнен шаг 2: задача исследована\n",
    "    - [x]  Исследован баланс классов\n",
    "    - [x]  Изучены модели без учёта дисбаланса\n",
    "    - [x]  Написаны выводы по результатам исследования\n",
    "- [x]  Выполнен шаг 3: учтён дисбаланс\n",
    "    - [x]  Применено несколько способов борьбы с дисбалансом\n",
    "    - [x]  Написаны выводы по результатам исследования\n",
    "- [x]  Выполнен шаг 4: проведено тестирование\n",
    "- [x]  Удалось достичь *F1*-меры не менее 0.59\n",
    "- [x]  Исследована метрика *AUC-ROC*"
   ]
  },
  {
   "cell_type": "markdown",
   "metadata": {},
   "source": [
    "<div style=\"border:solid Chocolate 2px; padding: 40px\">\n",
    "\n",
    "<h2><b>Общий вывод по проекту</b></h2>\n",
    "\n",
    "Ты очень постарался, спасибо тебе за такую работу!)\n",
    "\n",
    "В ходе проекта были выполнены все этапы проекта, главная цель достигнута. Конечно присутствует ряд моментов, которые необходимо рассмотреть, но ничего страшного, для это я здесь). Давай пройдемся по всему что ты сделал, чтобы понять что надо сделать для того, чтобы проект был засчитан:\n",
    "\n",
    "- стандартизация выполнена с ошибкой\n",
    "- алгоритмы upsample и downsample реализовал вместе \n",
    "- на тесте у тебя проверка идет на валиде + отсутствует метрика auc_roc\n",
    "- Есть советы по проекту, если хочешь и есть время - реализуй их. Если нет, то запомни на будущее)\n",
    "    \n",
    "`Отдельно прошу тебя рассмотреть совет с кодирование категориальных признаков - это очень важный момент. В следующих проектах, тебе проставят за такую реализацию минус`\n",
    "\n",
    "Работа классная, но нужно доработать! Удачи)"
   ]
  },
  {
   "cell_type": "markdown",
   "metadata": {},
   "source": [
    "<div style=\"border:solid Chocolate 2px; padding: 40px\">\n",
    "\n",
    "<h2><b>Общий вывод по проекту В2</b></h2>\n",
    "\n",
    "Прекрасно, проект могу принять, ты хорошо его реализовал, молодец! Удачи в следующих проектах)"
   ]
  },
  {
   "cell_type": "code",
   "execution_count": null,
   "metadata": {},
   "outputs": [],
   "source": []
  }
 ],
 "metadata": {
  "ExecuteTimeLog": [
   {
    "duration": 450,
    "start_time": "2023-06-20T19:34:21.902Z"
   },
   {
    "duration": 48,
    "start_time": "2023-06-20T19:35:18.562Z"
   },
   {
    "duration": 111,
    "start_time": "2023-06-20T19:36:26.709Z"
   },
   {
    "duration": 49,
    "start_time": "2023-06-20T19:36:53.225Z"
   },
   {
    "duration": 56,
    "start_time": "2023-06-20T19:41:32.995Z"
   },
   {
    "duration": 49,
    "start_time": "2023-06-20T19:41:43.240Z"
   },
   {
    "duration": 76,
    "start_time": "2023-06-20T19:43:29.440Z"
   },
   {
    "duration": 96,
    "start_time": "2023-06-20T19:46:39.496Z"
   },
   {
    "duration": 57,
    "start_time": "2023-06-20T19:46:48.593Z"
   },
   {
    "duration": 58,
    "start_time": "2023-06-20T19:47:14.667Z"
   },
   {
    "duration": 62,
    "start_time": "2023-06-20T19:47:30.910Z"
   },
   {
    "duration": 62,
    "start_time": "2023-06-20T19:55:21.461Z"
   },
   {
    "duration": 77,
    "start_time": "2023-06-20T19:55:36.014Z"
   },
   {
    "duration": 87,
    "start_time": "2023-06-20T19:55:54.196Z"
   },
   {
    "duration": 62,
    "start_time": "2023-06-22T17:33:18.664Z"
   },
   {
    "duration": 565,
    "start_time": "2023-06-22T17:33:31.216Z"
   },
   {
    "duration": 30,
    "start_time": "2023-06-22T17:33:31.786Z"
   },
   {
    "duration": 9,
    "start_time": "2023-06-22T17:33:33.807Z"
   },
   {
    "duration": 12,
    "start_time": "2023-06-22T17:33:47.930Z"
   },
   {
    "duration": 14,
    "start_time": "2023-06-22T17:33:48.996Z"
   },
   {
    "duration": 30,
    "start_time": "2023-06-22T17:34:56.451Z"
   },
   {
    "duration": 64,
    "start_time": "2023-06-22T17:35:41.280Z"
   },
   {
    "duration": 85,
    "start_time": "2023-06-22T17:35:49.499Z"
   },
   {
    "duration": 9,
    "start_time": "2023-06-22T17:36:00.041Z"
   },
   {
    "duration": 91,
    "start_time": "2023-06-22T17:36:29.291Z"
   },
   {
    "duration": 77,
    "start_time": "2023-06-22T17:36:40.464Z"
   },
   {
    "duration": 59,
    "start_time": "2023-06-22T17:36:52.578Z"
   },
   {
    "duration": 58,
    "start_time": "2023-06-22T17:37:02.496Z"
   },
   {
    "duration": 68,
    "start_time": "2023-06-22T17:37:13.115Z"
   },
   {
    "duration": 64,
    "start_time": "2023-06-22T17:37:35.279Z"
   },
   {
    "duration": 18,
    "start_time": "2023-06-22T17:38:20.910Z"
   },
   {
    "duration": 28,
    "start_time": "2023-06-22T17:38:41.776Z"
   },
   {
    "duration": 36,
    "start_time": "2023-06-22T17:39:06.747Z"
   },
   {
    "duration": 7,
    "start_time": "2023-06-22T17:41:52.698Z"
   },
   {
    "duration": 4,
    "start_time": "2023-06-22T17:41:56.673Z"
   },
   {
    "duration": 4,
    "start_time": "2023-06-22T17:42:04.867Z"
   },
   {
    "duration": 17,
    "start_time": "2023-06-22T17:42:07.369Z"
   },
   {
    "duration": 15,
    "start_time": "2023-06-22T17:42:54.652Z"
   },
   {
    "duration": 5,
    "start_time": "2023-06-22T17:43:56.721Z"
   },
   {
    "duration": 46,
    "start_time": "2023-06-22T17:44:20.900Z"
   },
   {
    "duration": 27,
    "start_time": "2023-06-22T17:44:20.948Z"
   },
   {
    "duration": 11,
    "start_time": "2023-06-22T17:44:20.977Z"
   },
   {
    "duration": 19,
    "start_time": "2023-06-22T17:44:20.990Z"
   },
   {
    "duration": 16,
    "start_time": "2023-06-22T17:44:22.045Z"
   },
   {
    "duration": 6,
    "start_time": "2023-06-22T17:44:23.380Z"
   },
   {
    "duration": 20,
    "start_time": "2023-06-22T17:44:24.848Z"
   },
   {
    "duration": 815,
    "start_time": "2023-06-22T17:47:37.516Z"
   },
   {
    "duration": 10,
    "start_time": "2023-06-22T17:48:01.479Z"
   },
   {
    "duration": 47,
    "start_time": "2023-06-22T17:48:06.850Z"
   },
   {
    "duration": 78,
    "start_time": "2023-06-22T17:48:57.294Z"
   },
   {
    "duration": 17,
    "start_time": "2023-06-22T17:49:10.871Z"
   },
   {
    "duration": 5,
    "start_time": "2023-06-22T17:49:26.973Z"
   },
   {
    "duration": 29,
    "start_time": "2023-06-22T17:51:10.719Z"
   },
   {
    "duration": 22,
    "start_time": "2023-06-22T17:51:22.112Z"
   },
   {
    "duration": 21,
    "start_time": "2023-06-22T17:51:34.754Z"
   },
   {
    "duration": 30,
    "start_time": "2023-06-22T17:52:10.768Z"
   },
   {
    "duration": 30,
    "start_time": "2023-06-22T17:52:18.947Z"
   },
   {
    "duration": 13,
    "start_time": "2023-06-22T17:52:25.491Z"
   },
   {
    "duration": 19,
    "start_time": "2023-06-22T17:52:27.985Z"
   },
   {
    "duration": 47,
    "start_time": "2023-06-22T21:19:50.450Z"
   },
   {
    "duration": 1110,
    "start_time": "2023-06-22T21:19:58.725Z"
   },
   {
    "duration": 188,
    "start_time": "2023-06-22T21:19:59.837Z"
   },
   {
    "duration": 16,
    "start_time": "2023-06-22T21:20:00.027Z"
   },
   {
    "duration": 17,
    "start_time": "2023-06-22T21:20:00.045Z"
   },
   {
    "duration": 10,
    "start_time": "2023-06-22T21:20:00.063Z"
   },
   {
    "duration": 36,
    "start_time": "2023-06-22T21:20:00.075Z"
   },
   {
    "duration": 68,
    "start_time": "2023-06-22T21:20:02.693Z"
   },
   {
    "duration": 11,
    "start_time": "2023-06-22T21:20:26.894Z"
   },
   {
    "duration": 13,
    "start_time": "2023-06-22T21:21:13.356Z"
   },
   {
    "duration": 24,
    "start_time": "2023-06-22T21:21:43.233Z"
   },
   {
    "duration": 18,
    "start_time": "2023-06-22T21:22:59.694Z"
   },
   {
    "duration": 19,
    "start_time": "2023-06-22T21:24:50.250Z"
   },
   {
    "duration": 6,
    "start_time": "2023-06-22T21:26:05.928Z"
   },
   {
    "duration": 18,
    "start_time": "2023-06-22T21:28:44.916Z"
   },
   {
    "duration": 3,
    "start_time": "2023-06-22T21:28:45.384Z"
   },
   {
    "duration": 8,
    "start_time": "2023-06-22T21:31:50.290Z"
   },
   {
    "duration": 44,
    "start_time": "2023-06-23T06:08:32.867Z"
   },
   {
    "duration": 1040,
    "start_time": "2023-06-23T06:08:41.477Z"
   },
   {
    "duration": 2,
    "start_time": "2023-06-23T06:08:42.519Z"
   },
   {
    "duration": 116,
    "start_time": "2023-06-23T06:08:42.523Z"
   },
   {
    "duration": 16,
    "start_time": "2023-06-23T06:08:42.641Z"
   },
   {
    "duration": 4,
    "start_time": "2023-06-23T06:08:42.659Z"
   },
   {
    "duration": 21,
    "start_time": "2023-06-23T06:08:42.664Z"
   },
   {
    "duration": 5,
    "start_time": "2023-06-23T06:08:42.686Z"
   },
   {
    "duration": 22,
    "start_time": "2023-06-23T06:08:42.693Z"
   },
   {
    "duration": 6,
    "start_time": "2023-06-23T06:08:42.717Z"
   },
   {
    "duration": 12,
    "start_time": "2023-06-23T06:08:42.725Z"
   },
   {
    "duration": 19,
    "start_time": "2023-06-23T06:09:03.228Z"
   },
   {
    "duration": 3,
    "start_time": "2023-06-23T06:09:15.041Z"
   },
   {
    "duration": 58,
    "start_time": "2023-06-23T06:11:08.620Z"
   },
   {
    "duration": 5,
    "start_time": "2023-06-23T06:11:22.750Z"
   },
   {
    "duration": 5,
    "start_time": "2023-06-23T06:12:17.540Z"
   },
   {
    "duration": 5,
    "start_time": "2023-06-23T06:12:31.882Z"
   },
   {
    "duration": 10,
    "start_time": "2023-06-23T06:12:36.823Z"
   },
   {
    "duration": 5,
    "start_time": "2023-06-23T06:12:40.843Z"
   },
   {
    "duration": 5,
    "start_time": "2023-06-23T06:12:57.203Z"
   },
   {
    "duration": 4,
    "start_time": "2023-06-23T06:13:15.482Z"
   },
   {
    "duration": 9,
    "start_time": "2023-06-23T06:15:08.665Z"
   },
   {
    "duration": 4,
    "start_time": "2023-06-23T06:15:16.235Z"
   },
   {
    "duration": 53,
    "start_time": "2023-06-23T06:17:58.725Z"
   },
   {
    "duration": 4,
    "start_time": "2023-06-23T06:18:07.375Z"
   },
   {
    "duration": 11,
    "start_time": "2023-06-23T06:24:09.385Z"
   },
   {
    "duration": 24,
    "start_time": "2023-06-23T06:24:18.163Z"
   },
   {
    "duration": 478,
    "start_time": "2023-06-23T06:24:45.121Z"
   },
   {
    "duration": 19,
    "start_time": "2023-06-23T06:29:05.253Z"
   },
   {
    "duration": 4,
    "start_time": "2023-06-23T06:29:17.454Z"
   },
   {
    "duration": 96,
    "start_time": "2023-06-23T06:30:44.304Z"
   },
   {
    "duration": 36,
    "start_time": "2023-06-23T06:31:00.399Z"
   },
   {
    "duration": 456,
    "start_time": "2023-06-23T06:31:47.847Z"
   },
   {
    "duration": 464,
    "start_time": "2023-06-23T06:36:12.648Z"
   },
   {
    "duration": 499,
    "start_time": "2023-06-23T06:36:31.348Z"
   },
   {
    "duration": 490,
    "start_time": "2023-06-23T06:36:46.919Z"
   },
   {
    "duration": 3,
    "start_time": "2023-06-23T06:38:02.624Z"
   },
   {
    "duration": 551,
    "start_time": "2023-06-23T06:38:06.219Z"
   },
   {
    "duration": 512,
    "start_time": "2023-06-23T06:39:27.103Z"
   },
   {
    "duration": 552,
    "start_time": "2023-06-23T06:39:55.183Z"
   },
   {
    "duration": 562,
    "start_time": "2023-06-23T06:40:31.947Z"
   },
   {
    "duration": 531,
    "start_time": "2023-06-23T06:40:49.873Z"
   },
   {
    "duration": 113,
    "start_time": "2023-06-23T18:46:35.041Z"
   },
   {
    "duration": 1869,
    "start_time": "2023-06-23T18:46:41.076Z"
   },
   {
    "duration": 8,
    "start_time": "2023-06-23T18:46:42.949Z"
   },
   {
    "duration": 422,
    "start_time": "2023-06-23T18:46:42.959Z"
   },
   {
    "duration": 42,
    "start_time": "2023-06-23T18:46:43.385Z"
   },
   {
    "duration": 80,
    "start_time": "2023-06-23T18:46:43.429Z"
   },
   {
    "duration": 138,
    "start_time": "2023-06-23T18:46:43.514Z"
   },
   {
    "duration": 158,
    "start_time": "2023-06-23T18:46:43.663Z"
   },
   {
    "duration": 175,
    "start_time": "2023-06-23T18:46:43.833Z"
   },
   {
    "duration": 123,
    "start_time": "2023-06-23T18:46:44.015Z"
   },
   {
    "duration": 32,
    "start_time": "2023-06-23T18:46:44.147Z"
   },
   {
    "duration": 52,
    "start_time": "2023-06-23T18:46:44.181Z"
   },
   {
    "duration": 185,
    "start_time": "2023-06-23T18:46:44.236Z"
   },
   {
    "duration": 1001,
    "start_time": "2023-06-23T18:46:44.429Z"
   },
   {
    "duration": 828,
    "start_time": "2023-06-23T18:47:12.347Z"
   },
   {
    "duration": 767,
    "start_time": "2023-06-23T18:53:59.286Z"
   },
   {
    "duration": 713,
    "start_time": "2023-06-23T18:58:08.300Z"
   },
   {
    "duration": 160,
    "start_time": "2023-06-23T19:00:54.026Z"
   },
   {
    "duration": 76,
    "start_time": "2023-06-23T19:01:14.106Z"
   },
   {
    "duration": 79,
    "start_time": "2023-06-23T19:01:22.060Z"
   },
   {
    "duration": 74347,
    "start_time": "2023-06-23T19:01:31.298Z"
   },
   {
    "duration": 99879,
    "start_time": "2023-06-23T19:05:18.372Z"
   },
   {
    "duration": 1138,
    "start_time": "2023-06-23T19:06:58.254Z"
   },
   {
    "duration": 2285,
    "start_time": "2023-06-23T19:07:07.060Z"
   },
   {
    "duration": 177,
    "start_time": "2023-06-23T19:08:08.723Z"
   },
   {
    "duration": 2059,
    "start_time": "2023-06-23T19:08:18.264Z"
   },
   {
    "duration": 817,
    "start_time": "2023-06-23T19:09:32.252Z"
   },
   {
    "duration": 2029,
    "start_time": "2023-06-23T19:09:38.678Z"
   },
   {
    "duration": 15227,
    "start_time": "2023-06-23T19:10:46.846Z"
   },
   {
    "duration": 15227,
    "start_time": "2023-06-23T19:11:22.542Z"
   },
   {
    "duration": 3275,
    "start_time": "2023-06-23T19:12:05.712Z"
   },
   {
    "duration": 81250,
    "start_time": "2023-06-23T19:15:26.459Z"
   },
   {
    "duration": 158336,
    "start_time": "2023-06-23T19:17:27.753Z"
   },
   {
    "duration": 3046,
    "start_time": "2023-06-23T20:28:21.032Z"
   },
   {
    "duration": 26153,
    "start_time": "2023-06-23T20:28:26.434Z"
   },
   {
    "duration": 78779,
    "start_time": "2023-06-23T20:28:58.832Z"
   },
   {
    "duration": 1208411,
    "start_time": "2023-06-23T20:30:52.999Z"
   },
   {
    "duration": 933,
    "start_time": "2023-06-23T20:52:45.443Z"
   },
   {
    "duration": 767807,
    "start_time": "2023-06-23T20:53:20.641Z"
   },
   {
    "duration": 109046,
    "start_time": "2023-06-23T21:09:06.620Z"
   },
   {
    "duration": 81264,
    "start_time": "2023-06-23T21:11:40.750Z"
   },
   {
    "duration": 125213,
    "start_time": "2023-06-23T21:13:11.040Z"
   },
   {
    "duration": 886350,
    "start_time": "2023-06-23T21:16:42.939Z"
   },
   {
    "duration": 6,
    "start_time": "2023-06-23T22:46:43.953Z"
   },
   {
    "duration": 873,
    "start_time": "2023-06-23T22:47:58.744Z"
   },
   {
    "duration": 863,
    "start_time": "2023-06-23T22:48:36.064Z"
   },
   {
    "duration": 923,
    "start_time": "2023-06-23T22:49:00.108Z"
   },
   {
    "duration": 4,
    "start_time": "2023-06-23T22:50:02.942Z"
   },
   {
    "duration": 152,
    "start_time": "2023-06-23T22:59:36.765Z"
   },
   {
    "duration": 134,
    "start_time": "2023-06-23T22:59:51.485Z"
   },
   {
    "duration": 218,
    "start_time": "2023-06-23T23:00:03.891Z"
   },
   {
    "duration": 132,
    "start_time": "2023-06-23T23:00:07.890Z"
   },
   {
    "duration": 41,
    "start_time": "2023-06-23T23:00:11.884Z"
   },
   {
    "duration": 27,
    "start_time": "2023-06-23T23:00:19.734Z"
   },
   {
    "duration": 298,
    "start_time": "2023-06-23T23:00:32.231Z"
   },
   {
    "duration": 6,
    "start_time": "2023-06-23T23:01:23.426Z"
   },
   {
    "duration": 128,
    "start_time": "2023-06-23T23:01:26.883Z"
   },
   {
    "duration": 5,
    "start_time": "2023-06-23T23:01:31.886Z"
   },
   {
    "duration": 4,
    "start_time": "2023-06-23T23:04:02.232Z"
   },
   {
    "duration": 26,
    "start_time": "2023-06-23T23:04:02.237Z"
   },
   {
    "duration": 87,
    "start_time": "2023-06-23T23:04:02.267Z"
   },
   {
    "duration": 416,
    "start_time": "2023-06-23T23:04:02.356Z"
   },
   {
    "duration": 7,
    "start_time": "2023-06-23T23:04:02.774Z"
   },
   {
    "duration": 32,
    "start_time": "2023-06-23T23:04:02.782Z"
   },
   {
    "duration": 23,
    "start_time": "2023-06-23T23:04:02.815Z"
   },
   {
    "duration": 29,
    "start_time": "2023-06-23T23:04:02.840Z"
   },
   {
    "duration": 16,
    "start_time": "2023-06-23T23:04:02.871Z"
   },
   {
    "duration": 8,
    "start_time": "2023-06-23T23:04:02.890Z"
   },
   {
    "duration": 31,
    "start_time": "2023-06-23T23:04:02.900Z"
   },
   {
    "duration": 19,
    "start_time": "2023-06-23T23:04:02.933Z"
   },
   {
    "duration": 921,
    "start_time": "2023-06-23T23:04:02.954Z"
   },
   {
    "duration": 224334,
    "start_time": "2023-06-23T23:04:03.877Z"
   },
   {
    "duration": 1611,
    "start_time": "2023-06-23T23:07:48.213Z"
   },
   {
    "duration": 4,
    "start_time": "2023-06-24T11:33:50.272Z"
   },
   {
    "duration": 51,
    "start_time": "2023-06-24T11:33:50.279Z"
   },
   {
    "duration": 99,
    "start_time": "2023-06-24T11:33:50.332Z"
   },
   {
    "duration": 22,
    "start_time": "2023-06-24T11:33:50.433Z"
   },
   {
    "duration": 15,
    "start_time": "2023-06-24T11:33:50.458Z"
   },
   {
    "duration": 31,
    "start_time": "2023-06-24T11:33:50.476Z"
   },
   {
    "duration": 18,
    "start_time": "2023-06-24T11:33:50.510Z"
   },
   {
    "duration": 11,
    "start_time": "2023-06-24T11:33:50.531Z"
   },
   {
    "duration": 30,
    "start_time": "2023-06-24T11:33:50.544Z"
   },
   {
    "duration": 16,
    "start_time": "2023-06-24T11:33:50.578Z"
   },
   {
    "duration": 50,
    "start_time": "2023-06-24T11:33:50.596Z"
   },
   {
    "duration": 7,
    "start_time": "2023-06-24T11:33:50.648Z"
   },
   {
    "duration": 22,
    "start_time": "2023-06-24T11:33:50.657Z"
   },
   {
    "duration": 873,
    "start_time": "2023-06-24T11:33:50.682Z"
   },
   {
    "duration": 220402,
    "start_time": "2023-06-24T11:33:51.557Z"
   },
   {
    "duration": 240,
    "start_time": "2023-06-24T11:37:31.961Z"
   },
   {
    "duration": 343474,
    "start_time": "2023-06-24T11:40:49.741Z"
   },
   {
    "duration": 50447,
    "start_time": "2023-06-24T11:47:07.934Z"
   },
   {
    "duration": 39,
    "start_time": "2023-06-24T12:01:48.808Z"
   },
   {
    "duration": 253607,
    "start_time": "2023-06-24T12:02:11.075Z"
   },
   {
    "duration": 5,
    "start_time": "2023-06-24T13:45:33.607Z"
   },
   {
    "duration": 90,
    "start_time": "2023-06-24T13:46:29.615Z"
   },
   {
    "duration": 4,
    "start_time": "2023-06-24T13:46:33.127Z"
   },
   {
    "duration": 22,
    "start_time": "2023-06-24T13:46:33.134Z"
   },
   {
    "duration": 107,
    "start_time": "2023-06-24T13:46:33.158Z"
   },
   {
    "duration": 20,
    "start_time": "2023-06-24T13:46:33.267Z"
   },
   {
    "duration": 13,
    "start_time": "2023-06-24T13:46:33.289Z"
   },
   {
    "duration": 35,
    "start_time": "2023-06-24T13:46:33.304Z"
   },
   {
    "duration": 46,
    "start_time": "2023-06-24T13:46:33.341Z"
   },
   {
    "duration": 55,
    "start_time": "2023-06-24T13:46:33.389Z"
   },
   {
    "duration": 11,
    "start_time": "2023-06-24T13:46:33.446Z"
   },
   {
    "duration": 56,
    "start_time": "2023-06-24T13:46:33.459Z"
   },
   {
    "duration": 21,
    "start_time": "2023-06-24T13:46:33.518Z"
   },
   {
    "duration": 54,
    "start_time": "2023-06-24T13:46:33.541Z"
   },
   {
    "duration": 39,
    "start_time": "2023-06-24T13:46:33.597Z"
   },
   {
    "duration": 980,
    "start_time": "2023-06-24T13:46:33.640Z"
   },
   {
    "duration": 248523,
    "start_time": "2023-06-24T13:46:34.622Z"
   },
   {
    "duration": 260,
    "start_time": "2023-06-24T13:50:43.147Z"
   },
   {
    "duration": 4,
    "start_time": "2023-06-24T13:52:10.147Z"
   },
   {
    "duration": 37,
    "start_time": "2023-06-24T13:52:10.153Z"
   },
   {
    "duration": 84,
    "start_time": "2023-06-24T13:52:10.192Z"
   },
   {
    "duration": 16,
    "start_time": "2023-06-24T13:52:10.279Z"
   },
   {
    "duration": 5,
    "start_time": "2023-06-24T13:52:10.297Z"
   },
   {
    "duration": 43,
    "start_time": "2023-06-24T13:52:10.303Z"
   },
   {
    "duration": 29,
    "start_time": "2023-06-24T13:52:10.348Z"
   },
   {
    "duration": 51,
    "start_time": "2023-06-24T13:52:10.380Z"
   },
   {
    "duration": 16,
    "start_time": "2023-06-24T13:52:10.434Z"
   },
   {
    "duration": 23,
    "start_time": "2023-06-24T13:52:10.452Z"
   },
   {
    "duration": 21,
    "start_time": "2023-06-24T13:52:10.478Z"
   },
   {
    "duration": 14,
    "start_time": "2023-06-24T13:52:10.502Z"
   },
   {
    "duration": 984,
    "start_time": "2023-06-24T13:52:10.518Z"
   },
   {
    "duration": 244778,
    "start_time": "2023-06-24T13:52:11.504Z"
   },
   {
    "duration": 130,
    "start_time": "2023-06-24T13:56:16.283Z"
   },
   {
    "duration": 331,
    "start_time": "2023-06-24T14:09:32.042Z"
   },
   {
    "duration": 335,
    "start_time": "2023-06-24T14:09:45.104Z"
   },
   {
    "duration": 97,
    "start_time": "2023-06-24T23:54:39.316Z"
   },
   {
    "duration": 88,
    "start_time": "2023-06-24T23:54:57.201Z"
   },
   {
    "duration": 82,
    "start_time": "2023-06-24T23:57:07.815Z"
   },
   {
    "duration": 4,
    "start_time": "2023-06-25T00:15:52.654Z"
   },
   {
    "duration": 20,
    "start_time": "2023-06-25T00:16:04.492Z"
   },
   {
    "duration": 5,
    "start_time": "2023-06-25T00:17:22.612Z"
   },
   {
    "duration": 21,
    "start_time": "2023-06-25T00:17:23.106Z"
   },
   {
    "duration": 5,
    "start_time": "2023-06-25T00:17:52.464Z"
   },
   {
    "duration": 22,
    "start_time": "2023-06-25T00:17:53.038Z"
   },
   {
    "duration": 4,
    "start_time": "2023-06-25T00:18:30.007Z"
   },
   {
    "duration": 22,
    "start_time": "2023-06-25T00:18:32.579Z"
   },
   {
    "duration": 5,
    "start_time": "2023-06-25T00:18:53.473Z"
   },
   {
    "duration": 862,
    "start_time": "2023-06-25T00:18:53.846Z"
   },
   {
    "duration": 5,
    "start_time": "2023-06-25T00:19:03.477Z"
   },
   {
    "duration": 822,
    "start_time": "2023-06-25T00:19:03.833Z"
   },
   {
    "duration": 172,
    "start_time": "2023-06-25T00:21:15.032Z"
   },
   {
    "duration": 5,
    "start_time": "2023-06-25T00:21:22.140Z"
   },
   {
    "duration": 24,
    "start_time": "2023-06-25T09:46:02.846Z"
   },
   {
    "duration": 3,
    "start_time": "2023-06-25T09:46:12.186Z"
   },
   {
    "duration": 9,
    "start_time": "2023-06-25T09:46:12.196Z"
   },
   {
    "duration": 61,
    "start_time": "2023-06-25T09:46:12.207Z"
   },
   {
    "duration": 30,
    "start_time": "2023-06-25T09:46:20.057Z"
   },
   {
    "duration": 4,
    "start_time": "2023-06-25T09:46:34.561Z"
   },
   {
    "duration": 30,
    "start_time": "2023-06-25T09:46:34.568Z"
   },
   {
    "duration": 80,
    "start_time": "2023-06-25T09:46:34.600Z"
   },
   {
    "duration": 25,
    "start_time": "2023-06-25T09:46:42.045Z"
   },
   {
    "duration": 4,
    "start_time": "2023-06-25T09:48:24.526Z"
   },
   {
    "duration": 3,
    "start_time": "2023-06-25T09:48:25.955Z"
   },
   {
    "duration": 59,
    "start_time": "2023-06-25T09:48:31.439Z"
   },
   {
    "duration": 6,
    "start_time": "2023-06-25T09:48:46.429Z"
   },
   {
    "duration": 11,
    "start_time": "2023-06-25T09:48:57.296Z"
   },
   {
    "duration": 23,
    "start_time": "2023-06-25T09:49:09.775Z"
   },
   {
    "duration": 3,
    "start_time": "2023-06-25T09:49:54.534Z"
   },
   {
    "duration": 14,
    "start_time": "2023-06-25T09:49:54.539Z"
   },
   {
    "duration": 79,
    "start_time": "2023-06-25T09:49:54.555Z"
   },
   {
    "duration": 5,
    "start_time": "2023-06-25T09:49:54.635Z"
   },
   {
    "duration": 13,
    "start_time": "2023-06-25T09:50:16.998Z"
   },
   {
    "duration": 18,
    "start_time": "2023-06-25T09:50:17.844Z"
   },
   {
    "duration": 19,
    "start_time": "2023-06-25T09:50:28.139Z"
   },
   {
    "duration": 4,
    "start_time": "2023-06-25T09:52:35.136Z"
   },
   {
    "duration": 6,
    "start_time": "2023-06-25T09:52:35.142Z"
   },
   {
    "duration": 82,
    "start_time": "2023-06-25T09:52:35.150Z"
   },
   {
    "duration": 5,
    "start_time": "2023-06-25T09:52:35.234Z"
   },
   {
    "duration": 13,
    "start_time": "2023-06-25T09:52:35.242Z"
   },
   {
    "duration": 27,
    "start_time": "2023-06-25T09:52:49.720Z"
   },
   {
    "duration": 3,
    "start_time": "2023-06-25T09:53:13.270Z"
   },
   {
    "duration": 20,
    "start_time": "2023-06-25T09:53:13.275Z"
   },
   {
    "duration": 69,
    "start_time": "2023-06-25T09:53:13.297Z"
   },
   {
    "duration": 4,
    "start_time": "2023-06-25T09:53:13.368Z"
   },
   {
    "duration": 23,
    "start_time": "2023-06-25T09:53:13.373Z"
   },
   {
    "duration": 27,
    "start_time": "2023-06-25T09:53:16.881Z"
   },
   {
    "duration": 58,
    "start_time": "2023-06-25T09:54:34.822Z"
   },
   {
    "duration": 4,
    "start_time": "2023-06-25T09:54:54.726Z"
   },
   {
    "duration": 32,
    "start_time": "2023-06-25T09:58:46.460Z"
   },
   {
    "duration": 4,
    "start_time": "2023-06-25T09:59:55.884Z"
   },
   {
    "duration": 11,
    "start_time": "2023-06-25T09:59:55.890Z"
   },
   {
    "duration": 80,
    "start_time": "2023-06-25T09:59:55.903Z"
   },
   {
    "duration": 6,
    "start_time": "2023-06-25T09:59:55.985Z"
   },
   {
    "duration": 17,
    "start_time": "2023-06-25T09:59:55.992Z"
   },
   {
    "duration": 23,
    "start_time": "2023-06-25T10:00:03.332Z"
   },
   {
    "duration": 21,
    "start_time": "2023-06-25T10:06:00.067Z"
   },
   {
    "duration": 12,
    "start_time": "2023-06-25T10:06:06.855Z"
   },
   {
    "duration": 8,
    "start_time": "2023-06-25T10:12:19.015Z"
   },
   {
    "duration": 9,
    "start_time": "2023-06-25T10:16:45.331Z"
   },
   {
    "duration": 6,
    "start_time": "2023-06-25T10:16:47.914Z"
   },
   {
    "duration": 11,
    "start_time": "2023-06-25T10:16:48.506Z"
   },
   {
    "duration": 14,
    "start_time": "2023-06-25T10:16:57.995Z"
   },
   {
    "duration": 3,
    "start_time": "2023-06-25T10:49:59.974Z"
   },
   {
    "duration": 6,
    "start_time": "2023-06-25T10:49:59.979Z"
   },
   {
    "duration": 64,
    "start_time": "2023-06-25T10:49:59.986Z"
   },
   {
    "duration": 18,
    "start_time": "2023-06-25T10:50:00.052Z"
   },
   {
    "duration": 34,
    "start_time": "2023-06-25T10:50:00.072Z"
   },
   {
    "duration": 31,
    "start_time": "2023-06-25T10:50:00.108Z"
   },
   {
    "duration": 17,
    "start_time": "2023-06-25T10:50:00.141Z"
   },
   {
    "duration": 58,
    "start_time": "2023-06-25T10:50:00.160Z"
   },
   {
    "duration": 8,
    "start_time": "2023-06-25T10:50:00.219Z"
   },
   {
    "duration": 18,
    "start_time": "2023-06-25T10:50:00.230Z"
   },
   {
    "duration": 44,
    "start_time": "2023-06-25T10:50:00.250Z"
   },
   {
    "duration": 22,
    "start_time": "2023-06-25T10:50:00.296Z"
   },
   {
    "duration": 14,
    "start_time": "2023-06-25T10:50:00.321Z"
   },
   {
    "duration": 914,
    "start_time": "2023-06-25T10:50:00.337Z"
   },
   {
    "duration": 4,
    "start_time": "2023-06-25T10:50:01.253Z"
   },
   {
    "duration": 37,
    "start_time": "2023-06-25T10:50:01.259Z"
   },
   {
    "duration": 86,
    "start_time": "2023-06-25T10:50:01.298Z"
   },
   {
    "duration": 361,
    "start_time": "2023-06-25T10:50:01.386Z"
   },
   {
    "duration": 7,
    "start_time": "2023-06-25T10:50:01.749Z"
   },
   {
    "duration": 57,
    "start_time": "2023-06-25T10:50:01.758Z"
   },
   {
    "duration": 51,
    "start_time": "2023-06-25T10:50:01.817Z"
   },
   {
    "duration": 88,
    "start_time": "2023-06-25T10:50:01.870Z"
   },
   {
    "duration": 4,
    "start_time": "2023-06-25T10:59:23.239Z"
   },
   {
    "duration": 3,
    "start_time": "2023-06-25T10:59:55.293Z"
   },
   {
    "duration": 5,
    "start_time": "2023-06-25T11:08:22.929Z"
   },
   {
    "duration": 5,
    "start_time": "2023-06-25T11:19:40.094Z"
   },
   {
    "duration": 30,
    "start_time": "2023-06-25T11:28:44.366Z"
   },
   {
    "duration": 5,
    "start_time": "2023-06-25T11:31:39.624Z"
   },
   {
    "duration": 4,
    "start_time": "2023-06-25T11:31:39.970Z"
   },
   {
    "duration": 22,
    "start_time": "2023-06-25T11:31:40.433Z"
   },
   {
    "duration": 5,
    "start_time": "2023-06-25T11:32:23.483Z"
   },
   {
    "duration": 4,
    "start_time": "2023-06-25T11:32:25.033Z"
   },
   {
    "duration": 18,
    "start_time": "2023-06-25T11:32:25.408Z"
   },
   {
    "duration": 5,
    "start_time": "2023-06-25T11:32:51.509Z"
   },
   {
    "duration": 15,
    "start_time": "2023-06-25T11:32:51.885Z"
   },
   {
    "duration": 5,
    "start_time": "2023-06-25T11:33:00.532Z"
   },
   {
    "duration": 15,
    "start_time": "2023-06-25T11:33:00.872Z"
   },
   {
    "duration": 3,
    "start_time": "2023-06-25T11:33:28.234Z"
   },
   {
    "duration": 5,
    "start_time": "2023-06-25T11:34:02.352Z"
   },
   {
    "duration": 4,
    "start_time": "2023-06-25T11:35:16.086Z"
   },
   {
    "duration": 5,
    "start_time": "2023-06-25T11:35:23.016Z"
   },
   {
    "duration": 6,
    "start_time": "2023-06-25T11:39:18.680Z"
   },
   {
    "duration": 5,
    "start_time": "2023-06-25T11:39:20.895Z"
   },
   {
    "duration": 5,
    "start_time": "2023-06-25T11:39:33.104Z"
   },
   {
    "duration": 5,
    "start_time": "2023-06-25T11:39:40.976Z"
   },
   {
    "duration": 862,
    "start_time": "2023-06-25T11:40:37.606Z"
   },
   {
    "duration": 536731,
    "start_time": "2023-06-25T11:41:14.547Z"
   },
   {
    "duration": 40,
    "start_time": "2023-06-25T11:50:11.281Z"
   },
   {
    "duration": 5,
    "start_time": "2023-06-25T11:53:58.574Z"
   },
   {
    "duration": 3,
    "start_time": "2023-06-25T11:53:59.824Z"
   },
   {
    "duration": 872,
    "start_time": "2023-06-25T11:54:05.524Z"
   },
   {
    "duration": 8,
    "start_time": "2023-06-25T11:56:24.267Z"
   },
   {
    "duration": 1016,
    "start_time": "2023-06-25T11:57:09.490Z"
   },
   {
    "duration": 871,
    "start_time": "2023-06-25T11:57:26.204Z"
   },
   {
    "duration": 486001,
    "start_time": "2023-06-25T11:58:44.722Z"
   },
   {
    "duration": 177,
    "start_time": "2023-06-25T12:06:50.726Z"
   },
   {
    "duration": 98,
    "start_time": "2023-06-25T12:14:45.484Z"
   },
   {
    "duration": 19,
    "start_time": "2023-06-25T12:17:11.579Z"
   },
   {
    "duration": 5,
    "start_time": "2023-06-25T12:17:12.528Z"
   },
   {
    "duration": 409587,
    "start_time": "2023-06-25T12:17:20.856Z"
   },
   {
    "duration": 485,
    "start_time": "2023-06-25T12:37:52.844Z"
   },
   {
    "duration": 861,
    "start_time": "2023-06-25T12:38:02.194Z"
   },
   {
    "duration": 141,
    "start_time": "2023-06-25T12:38:03.921Z"
   },
   {
    "duration": 20,
    "start_time": "2023-06-25T12:44:34.341Z"
   },
   {
    "duration": 13,
    "start_time": "2023-06-25T12:44:57.319Z"
   },
   {
    "duration": 13,
    "start_time": "2023-06-25T12:45:07.254Z"
   },
   {
    "duration": 7,
    "start_time": "2023-06-25T12:45:10.080Z"
   },
   {
    "duration": 15,
    "start_time": "2023-06-25T12:46:18.068Z"
   },
   {
    "duration": 15,
    "start_time": "2023-06-25T12:46:28.356Z"
   },
   {
    "duration": 11,
    "start_time": "2023-06-25T12:48:42.546Z"
   },
   {
    "duration": 10,
    "start_time": "2023-06-25T12:49:51.343Z"
   },
   {
    "duration": 4,
    "start_time": "2023-06-25T12:49:59.061Z"
   },
   {
    "duration": 5,
    "start_time": "2023-06-25T12:50:14.810Z"
   },
   {
    "duration": 103,
    "start_time": "2023-06-25T12:52:30.401Z"
   },
   {
    "duration": 33,
    "start_time": "2023-06-25T12:52:36.900Z"
   },
   {
    "duration": 37,
    "start_time": "2023-06-25T12:54:03.877Z"
   },
   {
    "duration": 31,
    "start_time": "2023-06-25T12:54:16.865Z"
   },
   {
    "duration": 16,
    "start_time": "2023-06-25T12:55:16.666Z"
   },
   {
    "duration": 13,
    "start_time": "2023-06-25T12:55:42.832Z"
   },
   {
    "duration": 90,
    "start_time": "2023-06-25T12:58:25.984Z"
   },
   {
    "duration": 5,
    "start_time": "2023-06-25T13:00:06.024Z"
   },
   {
    "duration": 93,
    "start_time": "2023-06-25T13:00:25.080Z"
   },
   {
    "duration": 113,
    "start_time": "2023-06-25T13:00:29.699Z"
   },
   {
    "duration": 27,
    "start_time": "2023-06-25T13:01:40.869Z"
   },
   {
    "duration": 84,
    "start_time": "2023-06-25T13:01:53.947Z"
   },
   {
    "duration": 154,
    "start_time": "2023-06-25T14:11:29.549Z"
   },
   {
    "duration": 950,
    "start_time": "2023-06-25T14:11:34.788Z"
   },
   {
    "duration": 963,
    "start_time": "2023-06-25T14:12:00.433Z"
   },
   {
    "duration": 89,
    "start_time": "2023-06-25T14:13:28.165Z"
   },
   {
    "duration": 889,
    "start_time": "2023-06-25T14:13:37.639Z"
   },
   {
    "duration": 5,
    "start_time": "2023-06-25T14:14:58.816Z"
   },
   {
    "duration": 12,
    "start_time": "2023-06-25T14:15:01.406Z"
   },
   {
    "duration": 4,
    "start_time": "2023-06-25T14:15:10.752Z"
   },
   {
    "duration": 5,
    "start_time": "2023-06-25T14:15:13.316Z"
   },
   {
    "duration": 4,
    "start_time": "2023-06-25T14:15:18.504Z"
   },
   {
    "duration": 5,
    "start_time": "2023-06-25T14:15:33.593Z"
   },
   {
    "duration": 4,
    "start_time": "2023-06-25T14:16:01.242Z"
   },
   {
    "duration": 4,
    "start_time": "2023-06-25T14:16:19.255Z"
   },
   {
    "duration": 1579,
    "start_time": "2023-06-25T14:17:08.157Z"
   },
   {
    "duration": 3,
    "start_time": "2023-06-25T14:17:09.738Z"
   },
   {
    "duration": 76,
    "start_time": "2023-06-25T14:17:11.219Z"
   },
   {
    "duration": 29,
    "start_time": "2023-06-25T14:17:13.223Z"
   },
   {
    "duration": 7,
    "start_time": "2023-06-25T14:17:13.942Z"
   },
   {
    "duration": 14,
    "start_time": "2023-06-25T14:17:14.869Z"
   },
   {
    "duration": 7,
    "start_time": "2023-06-25T14:17:16.146Z"
   },
   {
    "duration": 24,
    "start_time": "2023-06-25T14:17:17.394Z"
   },
   {
    "duration": 12,
    "start_time": "2023-06-25T14:17:18.690Z"
   },
   {
    "duration": 9,
    "start_time": "2023-06-25T14:17:19.468Z"
   },
   {
    "duration": 8,
    "start_time": "2023-06-25T14:17:20.321Z"
   },
   {
    "duration": 5,
    "start_time": "2023-06-25T14:17:20.932Z"
   },
   {
    "duration": 5,
    "start_time": "2023-06-25T14:17:23.704Z"
   },
   {
    "duration": 125,
    "start_time": "2023-06-25T14:17:24.852Z"
   },
   {
    "duration": 8,
    "start_time": "2023-06-25T14:17:43.157Z"
   },
   {
    "duration": 913,
    "start_time": "2023-06-25T14:17:43.590Z"
   },
   {
    "duration": 5,
    "start_time": "2023-06-25T14:18:05.641Z"
   },
   {
    "duration": 862,
    "start_time": "2023-06-25T14:18:05.882Z"
   },
   {
    "duration": 901,
    "start_time": "2023-06-25T14:20:13.963Z"
   },
   {
    "duration": 6,
    "start_time": "2023-06-25T14:20:31.297Z"
   },
   {
    "duration": 5,
    "start_time": "2023-06-25T14:20:56.648Z"
   },
   {
    "duration": 908,
    "start_time": "2023-06-25T14:20:57.399Z"
   },
   {
    "duration": 6,
    "start_time": "2023-06-25T14:21:06.123Z"
   },
   {
    "duration": 7,
    "start_time": "2023-06-25T14:21:07.185Z"
   },
   {
    "duration": 5,
    "start_time": "2023-06-25T14:21:21.024Z"
   },
   {
    "duration": 153,
    "start_time": "2023-06-25T14:21:27.864Z"
   },
   {
    "duration": 9,
    "start_time": "2023-06-25T14:21:35.133Z"
   },
   {
    "duration": 548489,
    "start_time": "2023-06-25T14:21:35.861Z"
   },
   {
    "duration": 63,
    "start_time": "2023-06-25T14:30:44.352Z"
   },
   {
    "duration": 190,
    "start_time": "2023-06-25T14:30:44.417Z"
   },
   {
    "duration": 5,
    "start_time": "2023-06-25T14:31:52.400Z"
   },
   {
    "duration": 13552,
    "start_time": "2023-06-25T14:31:54.722Z"
   },
   {
    "duration": 6,
    "start_time": "2023-06-25T14:32:15.940Z"
   },
   {
    "duration": 496182,
    "start_time": "2023-06-25T14:32:17.995Z"
   },
   {
    "duration": 102,
    "start_time": "2023-06-25T14:41:42.412Z"
   },
   {
    "duration": 901,
    "start_time": "2023-06-25T14:42:19.414Z"
   },
   {
    "duration": 121,
    "start_time": "2023-06-25T14:42:27.780Z"
   },
   {
    "duration": 483253,
    "start_time": "2023-06-25T14:42:51.738Z"
   },
   {
    "duration": 7,
    "start_time": "2023-06-25T14:52:34.787Z"
   },
   {
    "duration": 6,
    "start_time": "2023-06-25T14:52:36.534Z"
   },
   {
    "duration": 556,
    "start_time": "2023-06-25T14:52:47.718Z"
   },
   {
    "duration": 21,
    "start_time": "2023-06-25T14:52:49.551Z"
   },
   {
    "duration": 5,
    "start_time": "2023-06-25T14:52:52.964Z"
   },
   {
    "duration": 940,
    "start_time": "2023-06-25T14:52:56.850Z"
   },
   {
    "duration": 959,
    "start_time": "2023-06-25T14:53:49.285Z"
   },
   {
    "duration": 200,
    "start_time": "2023-06-25T14:53:59.902Z"
   },
   {
    "duration": 589283,
    "start_time": "2023-06-25T14:54:16.964Z"
   },
   {
    "duration": 104,
    "start_time": "2023-06-25T15:05:56.555Z"
   },
   {
    "duration": 1261,
    "start_time": "2023-06-25T15:06:39.777Z"
   },
   {
    "duration": 89,
    "start_time": "2023-06-25T15:07:11.093Z"
   },
   {
    "duration": 83,
    "start_time": "2023-06-25T15:07:26.182Z"
   },
   {
    "duration": 4,
    "start_time": "2023-06-25T15:09:47.283Z"
   },
   {
    "duration": 134,
    "start_time": "2023-06-25T15:19:48.028Z"
   },
   {
    "duration": 1213,
    "start_time": "2023-06-25T15:19:55.422Z"
   },
   {
    "duration": 4,
    "start_time": "2023-06-25T15:21:55.662Z"
   },
   {
    "duration": 1244,
    "start_time": "2023-06-25T15:22:57.991Z"
   },
   {
    "duration": 1413,
    "start_time": "2023-06-25T15:23:10.265Z"
   },
   {
    "duration": 1614,
    "start_time": "2023-06-25T15:48:15.493Z"
   },
   {
    "duration": 4,
    "start_time": "2023-06-25T15:48:17.110Z"
   },
   {
    "duration": 148,
    "start_time": "2023-06-25T15:48:17.117Z"
   },
   {
    "duration": 41,
    "start_time": "2023-06-25T15:48:17.267Z"
   },
   {
    "duration": 6,
    "start_time": "2023-06-25T15:48:17.310Z"
   },
   {
    "duration": 38,
    "start_time": "2023-06-25T15:48:17.318Z"
   },
   {
    "duration": 23,
    "start_time": "2023-06-25T15:48:17.358Z"
   },
   {
    "duration": 42,
    "start_time": "2023-06-25T15:48:17.383Z"
   },
   {
    "duration": 12,
    "start_time": "2023-06-25T15:48:17.428Z"
   },
   {
    "duration": 9,
    "start_time": "2023-06-25T15:48:17.442Z"
   },
   {
    "duration": 21,
    "start_time": "2023-06-25T15:48:17.452Z"
   },
   {
    "duration": 31,
    "start_time": "2023-06-25T15:48:17.475Z"
   },
   {
    "duration": 39,
    "start_time": "2023-06-25T15:48:17.508Z"
   },
   {
    "duration": 21,
    "start_time": "2023-06-25T15:48:17.552Z"
   },
   {
    "duration": 17,
    "start_time": "2023-06-25T15:48:17.575Z"
   },
   {
    "duration": 18,
    "start_time": "2023-06-25T15:48:17.595Z"
   },
   {
    "duration": 12,
    "start_time": "2023-06-25T15:48:17.616Z"
   },
   {
    "duration": 26,
    "start_time": "2023-06-25T15:48:17.630Z"
   },
   {
    "duration": 27,
    "start_time": "2023-06-25T15:48:17.658Z"
   },
   {
    "duration": 33,
    "start_time": "2023-06-25T15:48:17.687Z"
   },
   {
    "duration": 30,
    "start_time": "2023-06-25T15:48:17.722Z"
   },
   {
    "duration": 24,
    "start_time": "2023-06-25T15:48:17.755Z"
   },
   {
    "duration": 49,
    "start_time": "2023-06-25T15:48:17.782Z"
   },
   {
    "duration": 28,
    "start_time": "2023-06-25T15:48:17.834Z"
   },
   {
    "duration": 21,
    "start_time": "2023-06-25T15:48:17.864Z"
   },
   {
    "duration": 23,
    "start_time": "2023-06-25T15:48:17.887Z"
   },
   {
    "duration": 24,
    "start_time": "2023-06-25T15:48:17.913Z"
   },
   {
    "duration": 16,
    "start_time": "2023-06-25T15:48:17.939Z"
   },
   {
    "duration": 1285,
    "start_time": "2023-06-25T15:48:17.957Z"
   },
   {
    "duration": 1111,
    "start_time": "2023-06-26T10:52:51.268Z"
   },
   {
    "duration": 304,
    "start_time": "2023-06-28T20:04:37.891Z"
   },
   {
    "duration": 4,
    "start_time": "2023-06-28T20:05:27.343Z"
   },
   {
    "duration": 4,
    "start_time": "2023-06-28T20:05:27.352Z"
   },
   {
    "duration": 160,
    "start_time": "2023-06-28T20:05:27.357Z"
   },
   {
    "duration": 26,
    "start_time": "2023-06-28T20:05:27.520Z"
   },
   {
    "duration": 4,
    "start_time": "2023-06-28T20:05:27.548Z"
   },
   {
    "duration": 14,
    "start_time": "2023-06-28T20:05:27.554Z"
   },
   {
    "duration": 6,
    "start_time": "2023-06-28T20:05:27.570Z"
   },
   {
    "duration": 27,
    "start_time": "2023-06-28T20:05:27.577Z"
   },
   {
    "duration": 55,
    "start_time": "2023-06-28T20:05:27.606Z"
   },
   {
    "duration": 11,
    "start_time": "2023-06-28T20:05:27.663Z"
   },
   {
    "duration": 80,
    "start_time": "2023-06-28T20:05:30.575Z"
   },
   {
    "duration": 5,
    "start_time": "2023-06-28T20:06:56.372Z"
   },
   {
    "duration": 27,
    "start_time": "2023-06-28T20:09:29.822Z"
   },
   {
    "duration": 25,
    "start_time": "2023-06-28T20:09:38.240Z"
   },
   {
    "duration": 42,
    "start_time": "2023-06-28T20:09:41.765Z"
   },
   {
    "duration": 16,
    "start_time": "2023-06-28T20:10:30.144Z"
   },
   {
    "duration": 50,
    "start_time": "2023-06-28T20:11:00.692Z"
   },
   {
    "duration": 34,
    "start_time": "2023-06-28T20:11:08.250Z"
   },
   {
    "duration": 51,
    "start_time": "2023-06-28T20:11:14.299Z"
   },
   {
    "duration": 44,
    "start_time": "2023-06-28T20:11:25.422Z"
   },
   {
    "duration": 4,
    "start_time": "2023-06-28T20:11:44.451Z"
   },
   {
    "duration": 6,
    "start_time": "2023-06-28T20:11:44.457Z"
   },
   {
    "duration": 84,
    "start_time": "2023-06-28T20:11:44.465Z"
   },
   {
    "duration": 20,
    "start_time": "2023-06-28T20:11:44.551Z"
   },
   {
    "duration": 4,
    "start_time": "2023-06-28T20:11:44.574Z"
   },
   {
    "duration": 37,
    "start_time": "2023-06-28T20:11:44.579Z"
   },
   {
    "duration": 35,
    "start_time": "2023-06-28T20:11:44.626Z"
   },
   {
    "duration": 17,
    "start_time": "2023-06-28T20:11:44.663Z"
   },
   {
    "duration": 11,
    "start_time": "2023-06-28T20:11:44.682Z"
   },
   {
    "duration": 16,
    "start_time": "2023-06-28T20:11:44.694Z"
   },
   {
    "duration": 38,
    "start_time": "2023-06-28T20:11:44.718Z"
   },
   {
    "duration": 50,
    "start_time": "2023-06-28T20:11:44.758Z"
   },
   {
    "duration": 49,
    "start_time": "2023-06-28T20:12:14.290Z"
   },
   {
    "duration": 41,
    "start_time": "2023-06-28T20:12:16.647Z"
   },
   {
    "duration": 14,
    "start_time": "2023-06-28T20:13:04.380Z"
   },
   {
    "duration": 4,
    "start_time": "2023-06-28T20:13:23.661Z"
   },
   {
    "duration": 23,
    "start_time": "2023-06-28T20:13:23.668Z"
   },
   {
    "duration": 121,
    "start_time": "2023-06-28T20:13:23.694Z"
   },
   {
    "duration": 24,
    "start_time": "2023-06-28T20:13:23.816Z"
   },
   {
    "duration": 8,
    "start_time": "2023-06-28T20:13:23.844Z"
   },
   {
    "duration": 16,
    "start_time": "2023-06-28T20:13:23.854Z"
   },
   {
    "duration": 5,
    "start_time": "2023-06-28T20:13:23.872Z"
   },
   {
    "duration": 30,
    "start_time": "2023-06-28T20:13:23.878Z"
   },
   {
    "duration": 18,
    "start_time": "2023-06-28T20:13:23.919Z"
   },
   {
    "duration": 16,
    "start_time": "2023-06-28T20:13:23.942Z"
   },
   {
    "duration": 4,
    "start_time": "2023-06-28T20:13:23.961Z"
   },
   {
    "duration": 42,
    "start_time": "2023-06-28T20:13:23.968Z"
   },
   {
    "duration": 44,
    "start_time": "2023-06-28T20:13:33.980Z"
   },
   {
    "duration": 13,
    "start_time": "2023-06-28T20:13:35.050Z"
   },
   {
    "duration": 8,
    "start_time": "2023-06-28T20:14:02.964Z"
   },
   {
    "duration": 11,
    "start_time": "2023-06-28T20:14:06.967Z"
   },
   {
    "duration": 37,
    "start_time": "2023-06-28T20:14:14.159Z"
   },
   {
    "duration": 14,
    "start_time": "2023-06-28T20:14:22.445Z"
   },
   {
    "duration": 11,
    "start_time": "2023-06-28T20:16:25.843Z"
   },
   {
    "duration": 12,
    "start_time": "2023-06-28T20:16:43.541Z"
   },
   {
    "duration": 4,
    "start_time": "2023-06-28T20:17:04.943Z"
   },
   {
    "duration": 5,
    "start_time": "2023-06-28T20:17:04.949Z"
   },
   {
    "duration": 68,
    "start_time": "2023-06-28T20:17:04.956Z"
   },
   {
    "duration": 20,
    "start_time": "2023-06-28T20:17:05.028Z"
   },
   {
    "duration": 4,
    "start_time": "2023-06-28T20:17:05.050Z"
   },
   {
    "duration": 13,
    "start_time": "2023-06-28T20:17:05.056Z"
   },
   {
    "duration": 32,
    "start_time": "2023-06-28T20:17:05.071Z"
   },
   {
    "duration": 8,
    "start_time": "2023-06-28T20:17:05.105Z"
   },
   {
    "duration": 36,
    "start_time": "2023-06-28T20:17:05.115Z"
   },
   {
    "duration": 7,
    "start_time": "2023-06-28T20:17:05.153Z"
   },
   {
    "duration": 8,
    "start_time": "2023-06-28T20:17:05.161Z"
   },
   {
    "duration": 20,
    "start_time": "2023-06-28T20:17:08.243Z"
   },
   {
    "duration": 8,
    "start_time": "2023-06-28T20:17:24.327Z"
   },
   {
    "duration": 3,
    "start_time": "2023-06-28T20:17:24.354Z"
   },
   {
    "duration": 87,
    "start_time": "2023-06-28T20:17:24.359Z"
   },
   {
    "duration": 16,
    "start_time": "2023-06-28T20:17:24.448Z"
   },
   {
    "duration": 4,
    "start_time": "2023-06-28T20:17:24.466Z"
   },
   {
    "duration": 35,
    "start_time": "2023-06-28T20:17:24.472Z"
   },
   {
    "duration": 6,
    "start_time": "2023-06-28T20:17:24.509Z"
   },
   {
    "duration": 34,
    "start_time": "2023-06-28T20:17:24.517Z"
   },
   {
    "duration": 11,
    "start_time": "2023-06-28T20:17:24.553Z"
   },
   {
    "duration": 14,
    "start_time": "2023-06-28T20:17:24.565Z"
   },
   {
    "duration": 4,
    "start_time": "2023-06-28T20:17:24.581Z"
   },
   {
    "duration": 27,
    "start_time": "2023-06-28T20:17:26.740Z"
   },
   {
    "duration": 4,
    "start_time": "2023-06-28T20:17:36.847Z"
   },
   {
    "duration": 8,
    "start_time": "2023-06-28T20:17:36.853Z"
   },
   {
    "duration": 93,
    "start_time": "2023-06-28T20:17:36.863Z"
   },
   {
    "duration": 16,
    "start_time": "2023-06-28T20:17:36.958Z"
   },
   {
    "duration": 4,
    "start_time": "2023-06-28T20:17:36.976Z"
   },
   {
    "duration": 35,
    "start_time": "2023-06-28T20:17:36.982Z"
   },
   {
    "duration": 20,
    "start_time": "2023-06-28T20:17:37.030Z"
   },
   {
    "duration": 5,
    "start_time": "2023-06-28T20:17:37.052Z"
   },
   {
    "duration": 15,
    "start_time": "2023-06-28T20:17:37.058Z"
   },
   {
    "duration": 7,
    "start_time": "2023-06-28T20:17:37.074Z"
   },
   {
    "duration": 4,
    "start_time": "2023-06-28T20:17:37.083Z"
   },
   {
    "duration": 32,
    "start_time": "2023-06-28T20:17:40.044Z"
   },
   {
    "duration": 11,
    "start_time": "2023-06-28T20:17:54.178Z"
   },
   {
    "duration": 4,
    "start_time": "2023-06-28T20:18:33.394Z"
   },
   {
    "duration": 74,
    "start_time": "2023-06-28T20:18:33.399Z"
   },
   {
    "duration": 80,
    "start_time": "2023-06-28T20:18:33.475Z"
   },
   {
    "duration": 16,
    "start_time": "2023-06-28T20:18:33.557Z"
   },
   {
    "duration": 5,
    "start_time": "2023-06-28T20:18:33.574Z"
   },
   {
    "duration": 37,
    "start_time": "2023-06-28T20:18:33.580Z"
   },
   {
    "duration": 16,
    "start_time": "2023-06-28T20:18:33.625Z"
   },
   {
    "duration": 17,
    "start_time": "2023-06-28T20:18:33.642Z"
   },
   {
    "duration": 47,
    "start_time": "2023-06-28T20:18:33.661Z"
   },
   {
    "duration": 47,
    "start_time": "2023-06-28T20:18:33.711Z"
   },
   {
    "duration": 17,
    "start_time": "2023-06-28T20:18:33.761Z"
   },
   {
    "duration": 56,
    "start_time": "2023-06-28T20:18:33.779Z"
   },
   {
    "duration": 26,
    "start_time": "2023-06-28T20:18:35.347Z"
   },
   {
    "duration": 12,
    "start_time": "2023-06-28T20:18:36.749Z"
   },
   {
    "duration": 20,
    "start_time": "2023-06-28T20:18:56.319Z"
   },
   {
    "duration": 4,
    "start_time": "2023-06-28T20:19:54.639Z"
   },
   {
    "duration": 7,
    "start_time": "2023-06-28T20:19:54.650Z"
   },
   {
    "duration": 89,
    "start_time": "2023-06-28T20:19:54.659Z"
   },
   {
    "duration": 20,
    "start_time": "2023-06-28T20:19:54.751Z"
   },
   {
    "duration": 5,
    "start_time": "2023-06-28T20:19:54.773Z"
   },
   {
    "duration": 74,
    "start_time": "2023-06-28T20:19:54.781Z"
   },
   {
    "duration": 8,
    "start_time": "2023-06-28T20:19:54.857Z"
   },
   {
    "duration": 8,
    "start_time": "2023-06-28T20:19:54.866Z"
   },
   {
    "duration": 10,
    "start_time": "2023-06-28T20:19:54.876Z"
   },
   {
    "duration": 22,
    "start_time": "2023-06-28T20:19:54.888Z"
   },
   {
    "duration": 52,
    "start_time": "2023-06-28T20:19:54.912Z"
   },
   {
    "duration": 49,
    "start_time": "2023-06-28T20:19:54.966Z"
   },
   {
    "duration": 20,
    "start_time": "2023-06-28T20:19:55.018Z"
   },
   {
    "duration": 20,
    "start_time": "2023-06-28T20:20:03.698Z"
   },
   {
    "duration": 22,
    "start_time": "2023-06-28T20:20:05.420Z"
   },
   {
    "duration": 12,
    "start_time": "2023-06-28T20:21:13.039Z"
   },
   {
    "duration": 12,
    "start_time": "2023-06-28T20:21:19.841Z"
   },
   {
    "duration": 14,
    "start_time": "2023-06-28T20:21:20.840Z"
   },
   {
    "duration": 12,
    "start_time": "2023-06-28T20:21:46.843Z"
   },
   {
    "duration": 3,
    "start_time": "2023-06-29T08:22:15.697Z"
   },
   {
    "duration": 23,
    "start_time": "2023-06-29T08:22:15.702Z"
   },
   {
    "duration": 111,
    "start_time": "2023-06-29T08:22:15.727Z"
   },
   {
    "duration": 15,
    "start_time": "2023-06-29T08:22:15.839Z"
   },
   {
    "duration": 19,
    "start_time": "2023-06-29T08:22:15.857Z"
   },
   {
    "duration": 47,
    "start_time": "2023-06-29T08:22:15.878Z"
   },
   {
    "duration": 30,
    "start_time": "2023-06-29T08:22:15.927Z"
   },
   {
    "duration": 28,
    "start_time": "2023-06-29T08:22:15.959Z"
   },
   {
    "duration": 40,
    "start_time": "2023-06-29T08:22:15.988Z"
   },
   {
    "duration": 35,
    "start_time": "2023-06-29T08:22:16.030Z"
   },
   {
    "duration": 25,
    "start_time": "2023-06-29T08:22:16.067Z"
   },
   {
    "duration": 42,
    "start_time": "2023-06-29T08:22:16.094Z"
   },
   {
    "duration": 39,
    "start_time": "2023-06-29T08:22:16.138Z"
   },
   {
    "duration": 47,
    "start_time": "2023-06-29T08:22:16.180Z"
   },
   {
    "duration": 34,
    "start_time": "2023-06-29T08:22:16.230Z"
   },
   {
    "duration": 40,
    "start_time": "2023-06-29T08:22:16.266Z"
   },
   {
    "duration": 102,
    "start_time": "2023-06-29T08:22:16.308Z"
   },
   {
    "duration": 89,
    "start_time": "2023-06-29T08:22:16.412Z"
   },
   {
    "duration": 111,
    "start_time": "2023-06-29T08:22:16.502Z"
   },
   {
    "duration": 12,
    "start_time": "2023-06-29T08:22:16.615Z"
   },
   {
    "duration": 40,
    "start_time": "2023-06-29T08:22:16.628Z"
   },
   {
    "duration": 36,
    "start_time": "2023-06-29T08:22:16.670Z"
   },
   {
    "duration": 33,
    "start_time": "2023-06-29T08:22:16.707Z"
   },
   {
    "duration": 17,
    "start_time": "2023-06-29T08:22:16.742Z"
   },
   {
    "duration": 47,
    "start_time": "2023-06-29T08:22:16.760Z"
   },
   {
    "duration": 36,
    "start_time": "2023-06-29T08:22:16.809Z"
   },
   {
    "duration": 16,
    "start_time": "2023-06-29T08:22:16.846Z"
   },
   {
    "duration": 41,
    "start_time": "2023-06-29T08:22:16.864Z"
   },
   {
    "duration": 25,
    "start_time": "2023-06-29T08:22:16.906Z"
   },
   {
    "duration": 39,
    "start_time": "2023-06-29T08:22:16.933Z"
   },
   {
    "duration": 14,
    "start_time": "2023-06-29T08:22:16.974Z"
   },
   {
    "duration": 35,
    "start_time": "2023-06-29T08:22:16.990Z"
   },
   {
    "duration": 26,
    "start_time": "2023-06-29T08:22:17.027Z"
   },
   {
    "duration": 20,
    "start_time": "2023-06-29T08:22:17.054Z"
   },
   {
    "duration": 24,
    "start_time": "2023-06-29T08:22:17.075Z"
   },
   {
    "duration": 1115,
    "start_time": "2023-06-29T08:22:17.101Z"
   },
   {
    "duration": 4,
    "start_time": "2023-06-29T08:23:24.590Z"
   },
   {
    "duration": 3,
    "start_time": "2023-06-29T08:23:24.601Z"
   },
   {
    "duration": 72,
    "start_time": "2023-06-29T08:23:24.606Z"
   },
   {
    "duration": 17,
    "start_time": "2023-06-29T08:23:24.679Z"
   },
   {
    "duration": 159,
    "start_time": "2023-06-29T08:23:24.698Z"
   },
   {
    "duration": 33,
    "start_time": "2023-06-29T08:23:24.859Z"
   },
   {
    "duration": 5,
    "start_time": "2023-06-29T08:23:24.894Z"
   },
   {
    "duration": 15,
    "start_time": "2023-06-29T08:23:24.901Z"
   },
   {
    "duration": 16,
    "start_time": "2023-06-29T08:23:24.918Z"
   },
   {
    "duration": 7,
    "start_time": "2023-06-29T08:23:24.936Z"
   },
   {
    "duration": 6,
    "start_time": "2023-06-29T08:23:24.945Z"
   },
   {
    "duration": 18,
    "start_time": "2023-06-29T08:23:24.953Z"
   },
   {
    "duration": 22,
    "start_time": "2023-06-29T08:23:26.402Z"
   },
   {
    "duration": 9,
    "start_time": "2023-06-29T08:23:27.871Z"
   },
   {
    "duration": 4,
    "start_time": "2023-06-29T08:23:47.458Z"
   },
   {
    "duration": 19,
    "start_time": "2023-06-29T08:23:47.464Z"
   },
   {
    "duration": 135,
    "start_time": "2023-06-29T08:23:47.485Z"
   },
   {
    "duration": 17,
    "start_time": "2023-06-29T08:23:47.621Z"
   },
   {
    "duration": 4,
    "start_time": "2023-06-29T08:23:47.640Z"
   },
   {
    "duration": 14,
    "start_time": "2023-06-29T08:23:47.646Z"
   },
   {
    "duration": 8,
    "start_time": "2023-06-29T08:23:47.661Z"
   },
   {
    "duration": 37,
    "start_time": "2023-06-29T08:23:47.670Z"
   },
   {
    "duration": 12,
    "start_time": "2023-06-29T08:23:47.709Z"
   },
   {
    "duration": 7,
    "start_time": "2023-06-29T08:23:47.723Z"
   },
   {
    "duration": 7,
    "start_time": "2023-06-29T08:23:47.732Z"
   },
   {
    "duration": 30,
    "start_time": "2023-06-29T08:23:47.740Z"
   },
   {
    "duration": 6,
    "start_time": "2023-06-29T08:23:47.772Z"
   },
   {
    "duration": 31,
    "start_time": "2023-06-29T08:23:47.780Z"
   },
   {
    "duration": 11,
    "start_time": "2023-06-29T08:23:47.813Z"
   },
   {
    "duration": 14,
    "start_time": "2023-06-29T08:23:47.825Z"
   },
   {
    "duration": 7,
    "start_time": "2023-06-29T08:23:47.841Z"
   },
   {
    "duration": 13,
    "start_time": "2023-06-29T08:23:47.850Z"
   },
   {
    "duration": 15,
    "start_time": "2023-06-29T08:23:47.865Z"
   },
   {
    "duration": 22,
    "start_time": "2023-06-29T08:23:47.881Z"
   },
   {
    "duration": 11,
    "start_time": "2023-06-29T08:23:47.905Z"
   },
   {
    "duration": 13,
    "start_time": "2023-06-29T08:23:47.917Z"
   },
   {
    "duration": 9,
    "start_time": "2023-06-29T08:23:47.932Z"
   },
   {
    "duration": 12,
    "start_time": "2023-06-29T08:23:47.943Z"
   },
   {
    "duration": 18,
    "start_time": "2023-06-29T08:23:47.957Z"
   },
   {
    "duration": 7,
    "start_time": "2023-06-29T08:23:47.977Z"
   },
   {
    "duration": 23,
    "start_time": "2023-06-29T08:23:47.986Z"
   },
   {
    "duration": 12,
    "start_time": "2023-06-29T08:23:48.012Z"
   },
   {
    "duration": 24,
    "start_time": "2023-06-29T08:23:48.025Z"
   },
   {
    "duration": 3,
    "start_time": "2023-06-29T08:23:48.051Z"
   },
   {
    "duration": 14,
    "start_time": "2023-06-29T08:23:48.055Z"
   },
   {
    "duration": 23,
    "start_time": "2023-06-29T08:23:48.071Z"
   },
   {
    "duration": 8,
    "start_time": "2023-06-29T08:23:48.096Z"
   },
   {
    "duration": 6,
    "start_time": "2023-06-29T08:23:48.105Z"
   },
   {
    "duration": 1073,
    "start_time": "2023-06-29T08:23:48.112Z"
   },
   {
    "duration": 5,
    "start_time": "2023-06-29T08:24:15.898Z"
   },
   {
    "duration": 23,
    "start_time": "2023-06-29T08:24:15.906Z"
   },
   {
    "duration": 66,
    "start_time": "2023-06-29T08:24:15.931Z"
   },
   {
    "duration": 18,
    "start_time": "2023-06-29T08:24:15.999Z"
   },
   {
    "duration": 4,
    "start_time": "2023-06-29T08:24:16.020Z"
   },
   {
    "duration": 28,
    "start_time": "2023-06-29T08:24:16.025Z"
   },
   {
    "duration": 10,
    "start_time": "2023-06-29T08:24:16.055Z"
   },
   {
    "duration": 17,
    "start_time": "2023-06-29T08:24:16.067Z"
   },
   {
    "duration": 26,
    "start_time": "2023-06-29T08:24:16.086Z"
   },
   {
    "duration": 9,
    "start_time": "2023-06-29T08:24:16.114Z"
   },
   {
    "duration": 12,
    "start_time": "2023-06-29T08:24:16.125Z"
   },
   {
    "duration": 18,
    "start_time": "2023-06-29T08:24:16.139Z"
   },
   {
    "duration": 15,
    "start_time": "2023-06-29T08:24:18.455Z"
   },
   {
    "duration": 7,
    "start_time": "2023-06-29T08:24:18.957Z"
   },
   {
    "duration": 15,
    "start_time": "2023-06-29T08:24:30.779Z"
   },
   {
    "duration": 3,
    "start_time": "2023-06-29T08:24:46.298Z"
   },
   {
    "duration": 10,
    "start_time": "2023-06-29T08:24:46.303Z"
   },
   {
    "duration": 65,
    "start_time": "2023-06-29T08:24:46.315Z"
   },
   {
    "duration": 17,
    "start_time": "2023-06-29T08:24:46.381Z"
   },
   {
    "duration": 4,
    "start_time": "2023-06-29T08:24:46.400Z"
   },
   {
    "duration": 12,
    "start_time": "2023-06-29T08:24:46.406Z"
   },
   {
    "duration": 5,
    "start_time": "2023-06-29T08:24:46.420Z"
   },
   {
    "duration": 9,
    "start_time": "2023-06-29T08:24:46.426Z"
   },
   {
    "duration": 15,
    "start_time": "2023-06-29T08:24:46.437Z"
   },
   {
    "duration": 8,
    "start_time": "2023-06-29T08:24:46.454Z"
   },
   {
    "duration": 5,
    "start_time": "2023-06-29T08:24:46.463Z"
   },
   {
    "duration": 17,
    "start_time": "2023-06-29T08:24:46.502Z"
   },
   {
    "duration": 16,
    "start_time": "2023-06-29T08:24:47.533Z"
   },
   {
    "duration": 120,
    "start_time": "2023-06-29T08:24:47.842Z"
   },
   {
    "duration": 4,
    "start_time": "2023-06-29T08:25:17.898Z"
   },
   {
    "duration": 10,
    "start_time": "2023-06-29T08:25:17.904Z"
   },
   {
    "duration": 69,
    "start_time": "2023-06-29T08:25:17.916Z"
   },
   {
    "duration": 15,
    "start_time": "2023-06-29T08:25:17.987Z"
   },
   {
    "duration": 10,
    "start_time": "2023-06-29T08:25:18.004Z"
   },
   {
    "duration": 19,
    "start_time": "2023-06-29T08:25:18.016Z"
   },
   {
    "duration": 6,
    "start_time": "2023-06-29T08:25:18.037Z"
   },
   {
    "duration": 7,
    "start_time": "2023-06-29T08:25:18.044Z"
   },
   {
    "duration": 10,
    "start_time": "2023-06-29T08:25:18.052Z"
   },
   {
    "duration": 6,
    "start_time": "2023-06-29T08:25:18.064Z"
   },
   {
    "duration": 34,
    "start_time": "2023-06-29T08:25:18.072Z"
   },
   {
    "duration": 18,
    "start_time": "2023-06-29T08:25:18.108Z"
   },
   {
    "duration": 6,
    "start_time": "2023-06-29T08:25:18.128Z"
   },
   {
    "duration": 7,
    "start_time": "2023-06-29T08:25:20.009Z"
   },
   {
    "duration": 10,
    "start_time": "2023-06-29T08:25:20.859Z"
   },
   {
    "duration": 12,
    "start_time": "2023-06-29T08:25:23.401Z"
   },
   {
    "duration": 3,
    "start_time": "2023-06-29T08:25:38.371Z"
   },
   {
    "duration": 5,
    "start_time": "2023-06-29T08:25:38.376Z"
   },
   {
    "duration": 60,
    "start_time": "2023-06-29T08:25:38.395Z"
   },
   {
    "duration": 17,
    "start_time": "2023-06-29T08:25:38.457Z"
   },
   {
    "duration": 5,
    "start_time": "2023-06-29T08:25:38.475Z"
   },
   {
    "duration": 19,
    "start_time": "2023-06-29T08:25:38.481Z"
   },
   {
    "duration": 13,
    "start_time": "2023-06-29T08:25:38.503Z"
   },
   {
    "duration": 7,
    "start_time": "2023-06-29T08:25:38.518Z"
   },
   {
    "duration": 11,
    "start_time": "2023-06-29T08:25:38.528Z"
   },
   {
    "duration": 9,
    "start_time": "2023-06-29T08:25:38.541Z"
   },
   {
    "duration": 16,
    "start_time": "2023-06-29T08:25:38.552Z"
   },
   {
    "duration": 33,
    "start_time": "2023-06-29T08:25:38.570Z"
   },
   {
    "duration": 23,
    "start_time": "2023-06-29T08:25:40.358Z"
   },
   {
    "duration": 11,
    "start_time": "2023-06-29T08:25:42.012Z"
   },
   {
    "duration": 8,
    "start_time": "2023-06-29T08:26:06.261Z"
   },
   {
    "duration": 4,
    "start_time": "2023-06-29T08:26:30.918Z"
   },
   {
    "duration": 51,
    "start_time": "2023-06-29T08:26:30.924Z"
   },
   {
    "duration": 116,
    "start_time": "2023-06-29T08:26:30.976Z"
   },
   {
    "duration": 17,
    "start_time": "2023-06-29T08:26:31.094Z"
   },
   {
    "duration": 22,
    "start_time": "2023-06-29T08:26:31.114Z"
   },
   {
    "duration": 47,
    "start_time": "2023-06-29T08:26:31.138Z"
   },
   {
    "duration": 35,
    "start_time": "2023-06-29T08:26:31.187Z"
   },
   {
    "duration": 19,
    "start_time": "2023-06-29T08:26:31.224Z"
   },
   {
    "duration": 26,
    "start_time": "2023-06-29T08:26:31.244Z"
   },
   {
    "duration": 45,
    "start_time": "2023-06-29T08:26:31.272Z"
   },
   {
    "duration": 6,
    "start_time": "2023-06-29T08:26:31.319Z"
   },
   {
    "duration": 38,
    "start_time": "2023-06-29T08:26:31.326Z"
   },
   {
    "duration": 26,
    "start_time": "2023-06-29T08:26:31.366Z"
   },
   {
    "duration": 11,
    "start_time": "2023-06-29T08:26:32.692Z"
   },
   {
    "duration": 11,
    "start_time": "2023-06-29T08:26:33.214Z"
   },
   {
    "duration": 12,
    "start_time": "2023-06-29T08:26:40.963Z"
   },
   {
    "duration": 11,
    "start_time": "2023-06-29T08:26:46.094Z"
   },
   {
    "duration": 12,
    "start_time": "2023-06-29T08:26:56.041Z"
   },
   {
    "duration": 5,
    "start_time": "2023-06-29T08:28:23.160Z"
   },
   {
    "duration": 11,
    "start_time": "2023-06-29T08:28:23.168Z"
   },
   {
    "duration": 69,
    "start_time": "2023-06-29T08:28:23.181Z"
   },
   {
    "duration": 17,
    "start_time": "2023-06-29T08:28:23.252Z"
   },
   {
    "duration": 4,
    "start_time": "2023-06-29T08:28:23.271Z"
   },
   {
    "duration": 13,
    "start_time": "2023-06-29T08:28:23.277Z"
   },
   {
    "duration": 5,
    "start_time": "2023-06-29T08:28:23.302Z"
   },
   {
    "duration": 6,
    "start_time": "2023-06-29T08:28:23.309Z"
   },
   {
    "duration": 18,
    "start_time": "2023-06-29T08:28:23.316Z"
   },
   {
    "duration": 8,
    "start_time": "2023-06-29T08:28:23.335Z"
   },
   {
    "duration": 5,
    "start_time": "2023-06-29T08:28:23.344Z"
   },
   {
    "duration": 15,
    "start_time": "2023-06-29T08:28:25.708Z"
   },
   {
    "duration": 14,
    "start_time": "2023-06-29T08:28:26.918Z"
   },
   {
    "duration": 12,
    "start_time": "2023-06-29T08:28:39.065Z"
   },
   {
    "duration": 16,
    "start_time": "2023-06-29T08:29:51.290Z"
   },
   {
    "duration": 13,
    "start_time": "2023-06-29T08:30:02.428Z"
   },
   {
    "duration": 4,
    "start_time": "2023-06-29T08:30:20.371Z"
   },
   {
    "duration": 20,
    "start_time": "2023-06-29T08:30:20.376Z"
   },
   {
    "duration": 94,
    "start_time": "2023-06-29T08:30:20.398Z"
   },
   {
    "duration": 24,
    "start_time": "2023-06-29T08:30:20.494Z"
   },
   {
    "duration": 39,
    "start_time": "2023-06-29T08:30:20.521Z"
   },
   {
    "duration": 34,
    "start_time": "2023-06-29T08:30:20.562Z"
   },
   {
    "duration": 20,
    "start_time": "2023-06-29T08:30:20.599Z"
   },
   {
    "duration": 10,
    "start_time": "2023-06-29T08:30:20.622Z"
   },
   {
    "duration": 32,
    "start_time": "2023-06-29T08:30:20.634Z"
   },
   {
    "duration": 16,
    "start_time": "2023-06-29T08:30:20.669Z"
   },
   {
    "duration": 28,
    "start_time": "2023-06-29T08:30:20.687Z"
   },
   {
    "duration": 12,
    "start_time": "2023-06-29T08:30:24.065Z"
   },
   {
    "duration": 11,
    "start_time": "2023-06-29T08:30:35.668Z"
   },
   {
    "duration": 12,
    "start_time": "2023-06-29T08:30:45.054Z"
   },
   {
    "duration": 4,
    "start_time": "2023-06-29T08:31:50.698Z"
   },
   {
    "duration": 26,
    "start_time": "2023-06-29T08:31:50.705Z"
   },
   {
    "duration": 94,
    "start_time": "2023-06-29T08:31:50.733Z"
   },
   {
    "duration": 18,
    "start_time": "2023-06-29T08:31:50.828Z"
   },
   {
    "duration": 4,
    "start_time": "2023-06-29T08:31:50.849Z"
   },
   {
    "duration": 39,
    "start_time": "2023-06-29T08:31:50.854Z"
   },
   {
    "duration": 10,
    "start_time": "2023-06-29T08:31:50.895Z"
   },
   {
    "duration": 8,
    "start_time": "2023-06-29T08:31:50.907Z"
   },
   {
    "duration": 12,
    "start_time": "2023-06-29T08:31:50.917Z"
   },
   {
    "duration": 8,
    "start_time": "2023-06-29T08:31:50.930Z"
   },
   {
    "duration": 4,
    "start_time": "2023-06-29T08:31:50.940Z"
   },
   {
    "duration": 17,
    "start_time": "2023-06-29T08:31:50.945Z"
   },
   {
    "duration": 22,
    "start_time": "2023-06-29T08:31:52.514Z"
   },
   {
    "duration": 12,
    "start_time": "2023-06-29T08:31:52.942Z"
   },
   {
    "duration": 16,
    "start_time": "2023-06-29T08:31:54.612Z"
   },
   {
    "duration": 15,
    "start_time": "2023-06-29T08:32:23.416Z"
   },
   {
    "duration": 1512,
    "start_time": "2023-06-29T08:32:36.614Z"
   },
   {
    "duration": 13,
    "start_time": "2023-06-29T08:32:42.605Z"
   },
   {
    "duration": 10,
    "start_time": "2023-06-29T08:32:51.169Z"
   },
   {
    "duration": 4,
    "start_time": "2023-06-29T08:33:27.510Z"
   },
   {
    "duration": 18,
    "start_time": "2023-06-29T08:33:27.516Z"
   },
   {
    "duration": 75,
    "start_time": "2023-06-29T08:33:27.536Z"
   },
   {
    "duration": 18,
    "start_time": "2023-06-29T08:33:27.612Z"
   },
   {
    "duration": 4,
    "start_time": "2023-06-29T08:33:27.633Z"
   },
   {
    "duration": 18,
    "start_time": "2023-06-29T08:33:27.638Z"
   },
   {
    "duration": 11,
    "start_time": "2023-06-29T08:33:27.658Z"
   },
   {
    "duration": 32,
    "start_time": "2023-06-29T08:33:27.671Z"
   },
   {
    "duration": 9,
    "start_time": "2023-06-29T08:33:27.705Z"
   },
   {
    "duration": 8,
    "start_time": "2023-06-29T08:33:27.716Z"
   },
   {
    "duration": 8,
    "start_time": "2023-06-29T08:33:27.726Z"
   },
   {
    "duration": 34,
    "start_time": "2023-06-29T08:33:27.736Z"
   },
   {
    "duration": 36,
    "start_time": "2023-06-29T08:33:27.772Z"
   },
   {
    "duration": 11,
    "start_time": "2023-06-29T08:33:28.847Z"
   },
   {
    "duration": 13,
    "start_time": "2023-06-29T08:33:29.185Z"
   },
   {
    "duration": 4,
    "start_time": "2023-06-29T08:34:23.115Z"
   },
   {
    "duration": 13,
    "start_time": "2023-06-29T08:34:23.121Z"
   },
   {
    "duration": 71,
    "start_time": "2023-06-29T08:34:23.136Z"
   },
   {
    "duration": 17,
    "start_time": "2023-06-29T08:34:23.209Z"
   },
   {
    "duration": 7,
    "start_time": "2023-06-29T08:34:23.229Z"
   },
   {
    "duration": 39,
    "start_time": "2023-06-29T08:34:23.237Z"
   },
   {
    "duration": 7,
    "start_time": "2023-06-29T08:34:23.277Z"
   },
   {
    "duration": 8,
    "start_time": "2023-06-29T08:34:23.285Z"
   },
   {
    "duration": 20,
    "start_time": "2023-06-29T08:34:23.294Z"
   },
   {
    "duration": 26,
    "start_time": "2023-06-29T08:34:23.316Z"
   },
   {
    "duration": 0,
    "start_time": "2023-06-29T08:34:23.345Z"
   },
   {
    "duration": 0,
    "start_time": "2023-06-29T08:34:23.346Z"
   },
   {
    "duration": 0,
    "start_time": "2023-06-29T08:34:23.347Z"
   },
   {
    "duration": 0,
    "start_time": "2023-06-29T08:34:23.348Z"
   },
   {
    "duration": 0,
    "start_time": "2023-06-29T08:34:23.349Z"
   },
   {
    "duration": 0,
    "start_time": "2023-06-29T08:34:23.350Z"
   },
   {
    "duration": 1,
    "start_time": "2023-06-29T08:34:23.350Z"
   },
   {
    "duration": 0,
    "start_time": "2023-06-29T08:34:23.352Z"
   },
   {
    "duration": 0,
    "start_time": "2023-06-29T08:34:23.353Z"
   },
   {
    "duration": 0,
    "start_time": "2023-06-29T08:34:23.354Z"
   },
   {
    "duration": 0,
    "start_time": "2023-06-29T08:34:23.355Z"
   },
   {
    "duration": 0,
    "start_time": "2023-06-29T08:34:23.356Z"
   },
   {
    "duration": 0,
    "start_time": "2023-06-29T08:34:23.358Z"
   },
   {
    "duration": 0,
    "start_time": "2023-06-29T08:34:23.359Z"
   },
   {
    "duration": 0,
    "start_time": "2023-06-29T08:34:23.360Z"
   },
   {
    "duration": 0,
    "start_time": "2023-06-29T08:34:23.361Z"
   },
   {
    "duration": 0,
    "start_time": "2023-06-29T08:34:23.363Z"
   },
   {
    "duration": 0,
    "start_time": "2023-06-29T08:34:23.364Z"
   },
   {
    "duration": 0,
    "start_time": "2023-06-29T08:34:23.366Z"
   },
   {
    "duration": 0,
    "start_time": "2023-06-29T08:34:23.402Z"
   },
   {
    "duration": 0,
    "start_time": "2023-06-29T08:34:23.404Z"
   },
   {
    "duration": 0,
    "start_time": "2023-06-29T08:34:23.405Z"
   },
   {
    "duration": 0,
    "start_time": "2023-06-29T08:34:23.406Z"
   },
   {
    "duration": 0,
    "start_time": "2023-06-29T08:34:23.407Z"
   },
   {
    "duration": 0,
    "start_time": "2023-06-29T08:34:23.408Z"
   },
   {
    "duration": 3,
    "start_time": "2023-06-29T08:35:04.178Z"
   },
   {
    "duration": 36,
    "start_time": "2023-06-29T08:35:04.183Z"
   },
   {
    "duration": 70,
    "start_time": "2023-06-29T08:35:04.220Z"
   },
   {
    "duration": 15,
    "start_time": "2023-06-29T08:35:04.292Z"
   },
   {
    "duration": 30,
    "start_time": "2023-06-29T08:35:04.309Z"
   },
   {
    "duration": 19,
    "start_time": "2023-06-29T08:35:04.340Z"
   },
   {
    "duration": 6,
    "start_time": "2023-06-29T08:35:04.360Z"
   },
   {
    "duration": 12,
    "start_time": "2023-06-29T08:35:04.368Z"
   },
   {
    "duration": 11,
    "start_time": "2023-06-29T08:35:04.382Z"
   },
   {
    "duration": 7,
    "start_time": "2023-06-29T08:35:04.394Z"
   },
   {
    "duration": 5,
    "start_time": "2023-06-29T08:35:04.403Z"
   },
   {
    "duration": 18,
    "start_time": "2023-06-29T08:35:06.705Z"
   },
   {
    "duration": 13,
    "start_time": "2023-06-29T08:35:07.542Z"
   },
   {
    "duration": 14,
    "start_time": "2023-06-29T08:35:28.834Z"
   },
   {
    "duration": 5,
    "start_time": "2023-06-29T08:37:58.755Z"
   },
   {
    "duration": 8,
    "start_time": "2023-06-29T08:37:58.762Z"
   },
   {
    "duration": 64,
    "start_time": "2023-06-29T08:37:58.772Z"
   },
   {
    "duration": 16,
    "start_time": "2023-06-29T08:37:58.837Z"
   },
   {
    "duration": 13,
    "start_time": "2023-06-29T08:37:58.855Z"
   },
   {
    "duration": 46,
    "start_time": "2023-06-29T08:37:58.869Z"
   },
   {
    "duration": 14,
    "start_time": "2023-06-29T08:37:58.917Z"
   },
   {
    "duration": 5,
    "start_time": "2023-06-29T08:37:58.933Z"
   },
   {
    "duration": 12,
    "start_time": "2023-06-29T08:37:58.940Z"
   },
   {
    "duration": 11,
    "start_time": "2023-06-29T08:37:58.954Z"
   },
   {
    "duration": 19,
    "start_time": "2023-06-29T08:37:58.967Z"
   },
   {
    "duration": 20,
    "start_time": "2023-06-29T08:37:58.988Z"
   },
   {
    "duration": 14,
    "start_time": "2023-06-29T08:38:00.438Z"
   },
   {
    "duration": 2,
    "start_time": "2023-06-29T08:38:01.421Z"
   },
   {
    "duration": 12,
    "start_time": "2023-06-29T08:38:02.566Z"
   },
   {
    "duration": 4,
    "start_time": "2023-06-29T08:39:08.932Z"
   },
   {
    "duration": 2,
    "start_time": "2023-06-29T08:39:08.956Z"
   },
   {
    "duration": 65,
    "start_time": "2023-06-29T08:39:08.960Z"
   },
   {
    "duration": 17,
    "start_time": "2023-06-29T08:39:09.026Z"
   },
   {
    "duration": 5,
    "start_time": "2023-06-29T08:39:09.044Z"
   },
   {
    "duration": 20,
    "start_time": "2023-06-29T08:39:09.051Z"
   },
   {
    "duration": 32,
    "start_time": "2023-06-29T08:39:09.073Z"
   },
   {
    "duration": 4,
    "start_time": "2023-06-29T08:39:09.106Z"
   },
   {
    "duration": 10,
    "start_time": "2023-06-29T08:39:09.112Z"
   },
   {
    "duration": 4,
    "start_time": "2023-06-29T08:39:09.124Z"
   },
   {
    "duration": 11,
    "start_time": "2023-06-29T08:39:09.130Z"
   },
   {
    "duration": 20,
    "start_time": "2023-06-29T08:39:09.143Z"
   },
   {
    "duration": 2,
    "start_time": "2023-06-29T08:39:09.165Z"
   },
   {
    "duration": 3,
    "start_time": "2023-06-29T08:39:10.639Z"
   },
   {
    "duration": 5,
    "start_time": "2023-06-29T08:39:10.998Z"
   },
   {
    "duration": 13,
    "start_time": "2023-06-29T08:39:25.929Z"
   },
   {
    "duration": 12,
    "start_time": "2023-06-29T08:39:38.864Z"
   },
   {
    "duration": 9,
    "start_time": "2023-06-29T08:39:51.103Z"
   },
   {
    "duration": 3,
    "start_time": "2023-06-29T08:41:55.796Z"
   },
   {
    "duration": 4,
    "start_time": "2023-06-29T08:41:55.809Z"
   },
   {
    "duration": 65,
    "start_time": "2023-06-29T08:41:55.815Z"
   },
   {
    "duration": 16,
    "start_time": "2023-06-29T08:41:55.882Z"
   },
   {
    "duration": 4,
    "start_time": "2023-06-29T08:41:55.899Z"
   },
   {
    "duration": 13,
    "start_time": "2023-06-29T08:41:55.905Z"
   },
   {
    "duration": 6,
    "start_time": "2023-06-29T08:41:55.919Z"
   },
   {
    "duration": 5,
    "start_time": "2023-06-29T08:41:55.926Z"
   },
   {
    "duration": 15,
    "start_time": "2023-06-29T08:41:55.933Z"
   },
   {
    "duration": 7,
    "start_time": "2023-06-29T08:41:55.949Z"
   },
   {
    "duration": 10,
    "start_time": "2023-06-29T08:41:55.957Z"
   },
   {
    "duration": 41,
    "start_time": "2023-06-29T08:41:55.969Z"
   },
   {
    "duration": 3,
    "start_time": "2023-06-29T08:41:56.012Z"
   },
   {
    "duration": 3,
    "start_time": "2023-06-29T08:41:56.919Z"
   },
   {
    "duration": 13,
    "start_time": "2023-06-29T08:41:57.530Z"
   },
   {
    "duration": 37,
    "start_time": "2023-06-29T08:47:38.915Z"
   },
   {
    "duration": 41,
    "start_time": "2023-06-29T08:47:56.040Z"
   },
   {
    "duration": 4,
    "start_time": "2023-06-29T08:48:02.460Z"
   },
   {
    "duration": 9,
    "start_time": "2023-06-29T08:48:02.466Z"
   },
   {
    "duration": 88,
    "start_time": "2023-06-29T08:48:02.476Z"
   },
   {
    "duration": 17,
    "start_time": "2023-06-29T08:48:02.565Z"
   },
   {
    "duration": 7,
    "start_time": "2023-06-29T08:48:02.585Z"
   },
   {
    "duration": 25,
    "start_time": "2023-06-29T08:48:02.594Z"
   },
   {
    "duration": 17,
    "start_time": "2023-06-29T08:48:02.620Z"
   },
   {
    "duration": 5,
    "start_time": "2023-06-29T08:48:02.639Z"
   },
   {
    "duration": 25,
    "start_time": "2023-06-29T08:48:02.645Z"
   },
   {
    "duration": 11,
    "start_time": "2023-06-29T08:48:02.672Z"
   },
   {
    "duration": 18,
    "start_time": "2023-06-29T08:48:02.685Z"
   },
   {
    "duration": 39,
    "start_time": "2023-06-29T08:48:04.751Z"
   },
   {
    "duration": 3,
    "start_time": "2023-06-29T08:48:33.026Z"
   },
   {
    "duration": 16,
    "start_time": "2023-06-29T08:48:33.031Z"
   },
   {
    "duration": 66,
    "start_time": "2023-06-29T08:48:33.049Z"
   },
   {
    "duration": 17,
    "start_time": "2023-06-29T08:48:33.117Z"
   },
   {
    "duration": 5,
    "start_time": "2023-06-29T08:48:33.136Z"
   },
   {
    "duration": 17,
    "start_time": "2023-06-29T08:48:33.142Z"
   },
   {
    "duration": 8,
    "start_time": "2023-06-29T08:48:33.161Z"
   },
   {
    "duration": 6,
    "start_time": "2023-06-29T08:48:33.203Z"
   },
   {
    "duration": 11,
    "start_time": "2023-06-29T08:48:33.211Z"
   },
   {
    "duration": 8,
    "start_time": "2023-06-29T08:48:33.225Z"
   },
   {
    "duration": 6,
    "start_time": "2023-06-29T08:48:33.235Z"
   },
   {
    "duration": 39,
    "start_time": "2023-06-29T08:48:34.405Z"
   },
   {
    "duration": 335,
    "start_time": "2023-06-29T08:54:23.000Z"
   },
   {
    "duration": 4,
    "start_time": "2023-06-29T08:55:27.909Z"
   },
   {
    "duration": 5,
    "start_time": "2023-06-29T08:56:26.402Z"
   },
   {
    "duration": 4,
    "start_time": "2023-06-29T08:58:31.440Z"
   },
   {
    "duration": 4,
    "start_time": "2023-06-29T09:07:16.152Z"
   },
   {
    "duration": 166,
    "start_time": "2023-06-29T09:09:57.717Z"
   },
   {
    "duration": 5,
    "start_time": "2023-06-29T09:10:04.020Z"
   },
   {
    "duration": 3,
    "start_time": "2023-06-29T09:11:55.647Z"
   },
   {
    "duration": 1158,
    "start_time": "2023-06-29T09:15:54.427Z"
   },
   {
    "duration": 1082,
    "start_time": "2023-06-29T09:16:29.109Z"
   },
   {
    "duration": 5,
    "start_time": "2023-06-29T09:17:07.319Z"
   },
   {
    "duration": 3,
    "start_time": "2023-06-29T09:17:07.396Z"
   },
   {
    "duration": 68,
    "start_time": "2023-06-29T09:17:07.402Z"
   },
   {
    "duration": 18,
    "start_time": "2023-06-29T09:17:07.472Z"
   },
   {
    "duration": 4,
    "start_time": "2023-06-29T09:17:07.492Z"
   },
   {
    "duration": 12,
    "start_time": "2023-06-29T09:17:07.501Z"
   },
   {
    "duration": 6,
    "start_time": "2023-06-29T09:17:07.515Z"
   },
   {
    "duration": 7,
    "start_time": "2023-06-29T09:17:07.523Z"
   },
   {
    "duration": 22,
    "start_time": "2023-06-29T09:17:07.532Z"
   },
   {
    "duration": 19,
    "start_time": "2023-06-29T09:17:07.556Z"
   },
   {
    "duration": 28,
    "start_time": "2023-06-29T09:17:07.576Z"
   },
   {
    "duration": 46,
    "start_time": "2023-06-29T09:17:07.605Z"
   },
   {
    "duration": 8,
    "start_time": "2023-06-29T09:17:07.653Z"
   },
   {
    "duration": 61,
    "start_time": "2023-06-29T09:17:07.663Z"
   },
   {
    "duration": 13,
    "start_time": "2023-06-29T09:17:07.728Z"
   },
   {
    "duration": 5,
    "start_time": "2023-06-29T09:17:07.749Z"
   },
   {
    "duration": 25,
    "start_time": "2023-06-29T09:17:07.756Z"
   },
   {
    "duration": 25,
    "start_time": "2023-06-29T09:17:07.783Z"
   },
   {
    "duration": 18,
    "start_time": "2023-06-29T09:17:07.810Z"
   },
   {
    "duration": 25,
    "start_time": "2023-06-29T09:17:07.830Z"
   },
   {
    "duration": 22,
    "start_time": "2023-06-29T09:17:07.857Z"
   },
   {
    "duration": 15,
    "start_time": "2023-06-29T09:17:07.881Z"
   },
   {
    "duration": 31,
    "start_time": "2023-06-29T09:17:07.898Z"
   },
   {
    "duration": 40,
    "start_time": "2023-06-29T09:17:07.931Z"
   },
   {
    "duration": 30,
    "start_time": "2023-06-29T09:17:07.973Z"
   },
   {
    "duration": 19,
    "start_time": "2023-06-29T09:17:08.006Z"
   },
   {
    "duration": 28,
    "start_time": "2023-06-29T09:17:08.027Z"
   },
   {
    "duration": 4,
    "start_time": "2023-06-29T09:17:08.060Z"
   },
   {
    "duration": 16,
    "start_time": "2023-06-29T09:17:08.066Z"
   },
   {
    "duration": 8,
    "start_time": "2023-06-29T09:17:08.084Z"
   },
   {
    "duration": 9,
    "start_time": "2023-06-29T09:17:08.094Z"
   },
   {
    "duration": 12,
    "start_time": "2023-06-29T09:17:08.105Z"
   },
   {
    "duration": 1225,
    "start_time": "2023-06-29T09:17:13.256Z"
   },
   {
    "duration": 1315,
    "start_time": "2023-06-29T09:17:25.840Z"
   },
   {
    "duration": 9,
    "start_time": "2023-06-29T09:27:44.477Z"
   },
   {
    "duration": 11,
    "start_time": "2023-06-29T09:28:14.179Z"
   },
   {
    "duration": 10,
    "start_time": "2023-06-29T09:29:09.755Z"
   },
   {
    "duration": 5,
    "start_time": "2023-06-29T09:29:10.156Z"
   },
   {
    "duration": 10,
    "start_time": "2023-06-29T09:30:03.946Z"
   },
   {
    "duration": 6,
    "start_time": "2023-06-29T09:30:04.331Z"
   },
   {
    "duration": 106,
    "start_time": "2023-06-29T09:36:10.861Z"
   },
   {
    "duration": 5,
    "start_time": "2023-06-29T09:36:11.153Z"
   },
   {
    "duration": 5,
    "start_time": "2023-06-29T09:36:15.027Z"
   },
   {
    "duration": 3,
    "start_time": "2023-06-29T09:36:15.740Z"
   },
   {
    "duration": 10,
    "start_time": "2023-06-29T09:43:01.812Z"
   },
   {
    "duration": 11,
    "start_time": "2023-06-29T09:43:02.302Z"
   },
   {
    "duration": 5,
    "start_time": "2023-06-29T09:43:18.243Z"
   },
   {
    "duration": 10,
    "start_time": "2023-06-29T09:44:12.908Z"
   },
   {
    "duration": 10,
    "start_time": "2023-06-29T09:44:16.001Z"
   },
   {
    "duration": 4,
    "start_time": "2023-06-29T09:49:10.831Z"
   },
   {
    "duration": 3,
    "start_time": "2023-06-29T09:57:06.544Z"
   },
   {
    "duration": 4,
    "start_time": "2023-06-29T09:57:13.783Z"
   },
   {
    "duration": 5,
    "start_time": "2023-06-29T09:57:32.444Z"
   },
   {
    "duration": 6,
    "start_time": "2023-06-29T09:57:41.094Z"
   },
   {
    "duration": 8,
    "start_time": "2023-06-29T09:58:33.607Z"
   },
   {
    "duration": 6,
    "start_time": "2023-06-29T09:58:40.333Z"
   },
   {
    "duration": 8,
    "start_time": "2023-06-29T10:02:45.146Z"
   },
   {
    "duration": 7,
    "start_time": "2023-06-29T10:02:57.937Z"
   },
   {
    "duration": 10,
    "start_time": "2023-06-29T10:03:10.393Z"
   },
   {
    "duration": 8,
    "start_time": "2023-06-29T10:03:24.951Z"
   },
   {
    "duration": 9,
    "start_time": "2023-06-29T10:03:33.702Z"
   },
   {
    "duration": 7,
    "start_time": "2023-06-29T10:03:38.091Z"
   },
   {
    "duration": 6,
    "start_time": "2023-06-29T10:04:09.502Z"
   },
   {
    "duration": 14,
    "start_time": "2023-06-29T10:06:43.641Z"
   },
   {
    "duration": 8,
    "start_time": "2023-06-29T10:07:01.192Z"
   },
   {
    "duration": 7,
    "start_time": "2023-06-29T10:07:16.631Z"
   },
   {
    "duration": 14,
    "start_time": "2023-06-29T10:07:27.831Z"
   },
   {
    "duration": 11,
    "start_time": "2023-06-29T10:07:35.505Z"
   },
   {
    "duration": 13,
    "start_time": "2023-06-29T10:12:39.786Z"
   },
   {
    "duration": 13,
    "start_time": "2023-06-29T10:13:13.774Z"
   },
   {
    "duration": 17,
    "start_time": "2023-06-29T10:13:22.298Z"
   },
   {
    "duration": 14,
    "start_time": "2023-06-29T10:14:19.696Z"
   },
   {
    "duration": 15,
    "start_time": "2023-06-29T10:14:40.951Z"
   },
   {
    "duration": 16,
    "start_time": "2023-06-29T10:15:07.405Z"
   },
   {
    "duration": 5,
    "start_time": "2023-06-29T10:21:19.209Z"
   },
   {
    "duration": 9,
    "start_time": "2023-06-29T10:21:19.216Z"
   },
   {
    "duration": 80,
    "start_time": "2023-06-29T10:21:19.226Z"
   },
   {
    "duration": 18,
    "start_time": "2023-06-29T10:21:19.309Z"
   },
   {
    "duration": 5,
    "start_time": "2023-06-29T10:21:19.330Z"
   },
   {
    "duration": 8,
    "start_time": "2023-06-29T10:21:19.336Z"
   },
   {
    "duration": 10,
    "start_time": "2023-06-29T10:21:19.346Z"
   },
   {
    "duration": 7,
    "start_time": "2023-06-29T10:21:19.358Z"
   },
   {
    "duration": 44,
    "start_time": "2023-06-29T10:21:19.367Z"
   },
   {
    "duration": 11,
    "start_time": "2023-06-29T10:21:19.414Z"
   },
   {
    "duration": 5,
    "start_time": "2023-06-29T10:21:19.427Z"
   },
   {
    "duration": 10,
    "start_time": "2023-06-29T10:21:23.046Z"
   },
   {
    "duration": 238,
    "start_time": "2023-06-29T10:24:09.424Z"
   },
   {
    "duration": 17,
    "start_time": "2023-06-29T10:24:31.600Z"
   },
   {
    "duration": 26,
    "start_time": "2023-06-29T10:27:17.254Z"
   },
   {
    "duration": 26,
    "start_time": "2023-06-29T10:27:42.066Z"
   },
   {
    "duration": 25,
    "start_time": "2023-06-29T10:27:45.142Z"
   },
   {
    "duration": 12,
    "start_time": "2023-06-29T10:27:55.467Z"
   },
   {
    "duration": 11,
    "start_time": "2023-06-29T10:28:17.454Z"
   },
   {
    "duration": 10,
    "start_time": "2023-06-29T10:28:48.417Z"
   },
   {
    "duration": 21,
    "start_time": "2023-06-29T10:29:04.530Z"
   },
   {
    "duration": 4,
    "start_time": "2023-06-29T10:29:24.948Z"
   },
   {
    "duration": 10,
    "start_time": "2023-06-29T10:29:24.954Z"
   },
   {
    "duration": 66,
    "start_time": "2023-06-29T10:29:24.965Z"
   },
   {
    "duration": 17,
    "start_time": "2023-06-29T10:29:25.033Z"
   },
   {
    "duration": 4,
    "start_time": "2023-06-29T10:29:25.052Z"
   },
   {
    "duration": 12,
    "start_time": "2023-06-29T10:29:25.058Z"
   },
   {
    "duration": 18,
    "start_time": "2023-06-29T10:29:25.072Z"
   },
   {
    "duration": 12,
    "start_time": "2023-06-29T10:29:25.092Z"
   },
   {
    "duration": 11,
    "start_time": "2023-06-29T10:29:25.106Z"
   },
   {
    "duration": 7,
    "start_time": "2023-06-29T10:29:25.118Z"
   },
   {
    "duration": 6,
    "start_time": "2023-06-29T10:29:25.127Z"
   },
   {
    "duration": 25,
    "start_time": "2023-06-29T10:29:27.343Z"
   },
   {
    "duration": 13,
    "start_time": "2023-06-29T10:29:32.309Z"
   },
   {
    "duration": 3,
    "start_time": "2023-06-29T10:31:52.309Z"
   },
   {
    "duration": 4,
    "start_time": "2023-06-29T10:32:31.805Z"
   },
   {
    "duration": 25,
    "start_time": "2023-06-29T10:33:38.010Z"
   },
   {
    "duration": 6,
    "start_time": "2023-06-29T10:35:20.474Z"
   },
   {
    "duration": 11,
    "start_time": "2023-06-29T10:35:20.500Z"
   },
   {
    "duration": 95,
    "start_time": "2023-06-29T10:35:20.514Z"
   },
   {
    "duration": 21,
    "start_time": "2023-06-29T10:35:20.610Z"
   },
   {
    "duration": 8,
    "start_time": "2023-06-29T10:35:20.633Z"
   },
   {
    "duration": 18,
    "start_time": "2023-06-29T10:35:20.644Z"
   },
   {
    "duration": 32,
    "start_time": "2023-06-29T10:35:20.664Z"
   },
   {
    "duration": 22,
    "start_time": "2023-06-29T10:35:20.697Z"
   },
   {
    "duration": 28,
    "start_time": "2023-06-29T10:35:20.721Z"
   },
   {
    "duration": 16,
    "start_time": "2023-06-29T10:35:20.751Z"
   },
   {
    "duration": 18,
    "start_time": "2023-06-29T10:35:20.768Z"
   },
   {
    "duration": 3,
    "start_time": "2023-06-29T10:35:41.977Z"
   },
   {
    "duration": 7,
    "start_time": "2023-06-29T10:35:42.551Z"
   },
   {
    "duration": 24,
    "start_time": "2023-06-29T10:35:47.027Z"
   },
   {
    "duration": 4,
    "start_time": "2023-06-29T10:36:46.165Z"
   },
   {
    "duration": 7,
    "start_time": "2023-06-29T10:36:47.384Z"
   },
   {
    "duration": 28,
    "start_time": "2023-06-29T10:36:48.278Z"
   },
   {
    "duration": 12,
    "start_time": "2023-06-29T10:37:31.354Z"
   },
   {
    "duration": 14,
    "start_time": "2023-06-29T10:37:57.443Z"
   },
   {
    "duration": 19,
    "start_time": "2023-06-29T10:38:06.155Z"
   },
   {
    "duration": 4,
    "start_time": "2023-06-29T10:38:13.822Z"
   },
   {
    "duration": 17,
    "start_time": "2023-06-29T10:38:13.828Z"
   },
   {
    "duration": 67,
    "start_time": "2023-06-29T10:38:13.847Z"
   },
   {
    "duration": 19,
    "start_time": "2023-06-29T10:38:13.916Z"
   },
   {
    "duration": 18,
    "start_time": "2023-06-29T10:38:13.937Z"
   },
   {
    "duration": 11,
    "start_time": "2023-06-29T10:38:13.958Z"
   },
   {
    "duration": 30,
    "start_time": "2023-06-29T10:38:13.971Z"
   },
   {
    "duration": 24,
    "start_time": "2023-06-29T10:38:14.003Z"
   },
   {
    "duration": 19,
    "start_time": "2023-06-29T10:38:14.028Z"
   },
   {
    "duration": 18,
    "start_time": "2023-06-29T10:38:14.050Z"
   },
   {
    "duration": 12,
    "start_time": "2023-06-29T10:38:14.070Z"
   },
   {
    "duration": 25,
    "start_time": "2023-06-29T10:38:14.084Z"
   },
   {
    "duration": 3,
    "start_time": "2023-06-29T10:38:15.600Z"
   },
   {
    "duration": 20,
    "start_time": "2023-06-29T10:38:16.556Z"
   },
   {
    "duration": 22,
    "start_time": "2023-06-29T10:38:37.518Z"
   },
   {
    "duration": 5,
    "start_time": "2023-06-29T10:38:51.296Z"
   },
   {
    "duration": 9,
    "start_time": "2023-06-29T10:38:51.304Z"
   },
   {
    "duration": 78,
    "start_time": "2023-06-29T10:38:51.315Z"
   },
   {
    "duration": 18,
    "start_time": "2023-06-29T10:38:51.396Z"
   },
   {
    "duration": 5,
    "start_time": "2023-06-29T10:38:51.416Z"
   },
   {
    "duration": 10,
    "start_time": "2023-06-29T10:38:51.423Z"
   },
   {
    "duration": 17,
    "start_time": "2023-06-29T10:38:51.435Z"
   },
   {
    "duration": 17,
    "start_time": "2023-06-29T10:38:51.454Z"
   },
   {
    "duration": 12,
    "start_time": "2023-06-29T10:38:51.473Z"
   },
   {
    "duration": 20,
    "start_time": "2023-06-29T10:38:51.488Z"
   },
   {
    "duration": 6,
    "start_time": "2023-06-29T10:38:51.510Z"
   },
   {
    "duration": 12,
    "start_time": "2023-06-29T10:38:51.518Z"
   },
   {
    "duration": 5,
    "start_time": "2023-06-29T10:38:52.484Z"
   },
   {
    "duration": 25,
    "start_time": "2023-06-29T10:38:52.900Z"
   },
   {
    "duration": 13,
    "start_time": "2023-06-29T10:39:05.594Z"
   },
   {
    "duration": 21,
    "start_time": "2023-06-29T10:39:09.094Z"
   },
   {
    "duration": 22,
    "start_time": "2023-06-29T10:39:45.019Z"
   },
   {
    "duration": 5,
    "start_time": "2023-06-29T10:40:07.139Z"
   },
   {
    "duration": 7,
    "start_time": "2023-06-29T10:41:35.110Z"
   },
   {
    "duration": 5,
    "start_time": "2023-06-29T10:41:45.873Z"
   },
   {
    "duration": 4,
    "start_time": "2023-06-29T10:41:52.034Z"
   },
   {
    "duration": 4,
    "start_time": "2023-06-29T10:42:01.010Z"
   },
   {
    "duration": 4,
    "start_time": "2023-06-29T10:42:05.481Z"
   },
   {
    "duration": 5,
    "start_time": "2023-06-29T10:42:07.984Z"
   },
   {
    "duration": 5,
    "start_time": "2023-06-29T10:42:15.235Z"
   },
   {
    "duration": 5,
    "start_time": "2023-06-29T10:42:34.023Z"
   },
   {
    "duration": 4,
    "start_time": "2023-06-29T10:42:38.337Z"
   },
   {
    "duration": 5,
    "start_time": "2023-06-29T10:43:07.537Z"
   },
   {
    "duration": 5,
    "start_time": "2023-06-29T10:45:15.629Z"
   },
   {
    "duration": 26,
    "start_time": "2023-06-29T10:45:15.636Z"
   },
   {
    "duration": 67,
    "start_time": "2023-06-29T10:45:15.664Z"
   },
   {
    "duration": 17,
    "start_time": "2023-06-29T10:45:15.732Z"
   },
   {
    "duration": 20,
    "start_time": "2023-06-29T10:45:15.751Z"
   },
   {
    "duration": 43,
    "start_time": "2023-06-29T10:45:15.773Z"
   },
   {
    "duration": 28,
    "start_time": "2023-06-29T10:45:15.818Z"
   },
   {
    "duration": 30,
    "start_time": "2023-06-29T10:45:15.848Z"
   },
   {
    "duration": 29,
    "start_time": "2023-06-29T10:45:15.881Z"
   },
   {
    "duration": 10,
    "start_time": "2023-06-29T10:45:15.912Z"
   },
   {
    "duration": 4,
    "start_time": "2023-06-29T10:45:15.924Z"
   },
   {
    "duration": 16,
    "start_time": "2023-06-29T10:45:15.929Z"
   },
   {
    "duration": 21,
    "start_time": "2023-06-29T10:45:15.946Z"
   },
   {
    "duration": 8,
    "start_time": "2023-06-29T10:45:20.376Z"
   },
   {
    "duration": 25,
    "start_time": "2023-06-29T10:45:21.429Z"
   },
   {
    "duration": 3,
    "start_time": "2023-06-29T10:45:52.852Z"
   },
   {
    "duration": 9,
    "start_time": "2023-06-29T10:45:53.427Z"
   },
   {
    "duration": 26,
    "start_time": "2023-06-29T10:45:53.927Z"
   },
   {
    "duration": 24,
    "start_time": "2023-06-29T10:46:35.993Z"
   },
   {
    "duration": 17,
    "start_time": "2023-06-29T10:46:52.216Z"
   },
   {
    "duration": 26,
    "start_time": "2023-06-29T10:47:02.297Z"
   },
   {
    "duration": 4,
    "start_time": "2023-06-29T10:47:14.453Z"
   },
   {
    "duration": 4,
    "start_time": "2023-06-29T10:47:24.976Z"
   },
   {
    "duration": 48,
    "start_time": "2023-06-29T10:47:24.983Z"
   },
   {
    "duration": 85,
    "start_time": "2023-06-29T10:47:25.033Z"
   },
   {
    "duration": 19,
    "start_time": "2023-06-29T10:47:25.120Z"
   },
   {
    "duration": 21,
    "start_time": "2023-06-29T10:47:25.141Z"
   },
   {
    "duration": 39,
    "start_time": "2023-06-29T10:47:25.164Z"
   },
   {
    "duration": 39,
    "start_time": "2023-06-29T10:47:25.206Z"
   },
   {
    "duration": 34,
    "start_time": "2023-06-29T10:47:25.246Z"
   },
   {
    "duration": 15,
    "start_time": "2023-06-29T10:47:25.282Z"
   },
   {
    "duration": 14,
    "start_time": "2023-06-29T10:47:25.299Z"
   },
   {
    "duration": 11,
    "start_time": "2023-06-29T10:47:25.315Z"
   },
   {
    "duration": 24,
    "start_time": "2023-06-29T10:47:25.327Z"
   },
   {
    "duration": 24,
    "start_time": "2023-06-29T10:47:25.353Z"
   },
   {
    "duration": 7,
    "start_time": "2023-06-29T10:47:27.587Z"
   },
   {
    "duration": 26,
    "start_time": "2023-06-29T10:47:28.504Z"
   },
   {
    "duration": 5,
    "start_time": "2023-06-29T10:48:31.828Z"
   },
   {
    "duration": 23,
    "start_time": "2023-06-29T10:48:31.835Z"
   },
   {
    "duration": 79,
    "start_time": "2023-06-29T10:48:31.860Z"
   },
   {
    "duration": 19,
    "start_time": "2023-06-29T10:48:31.941Z"
   },
   {
    "duration": 14,
    "start_time": "2023-06-29T10:48:31.963Z"
   },
   {
    "duration": 45,
    "start_time": "2023-06-29T10:48:31.980Z"
   },
   {
    "duration": 28,
    "start_time": "2023-06-29T10:48:32.027Z"
   },
   {
    "duration": 20,
    "start_time": "2023-06-29T10:48:32.057Z"
   },
   {
    "duration": 45,
    "start_time": "2023-06-29T10:48:32.080Z"
   },
   {
    "duration": 18,
    "start_time": "2023-06-29T10:48:32.128Z"
   },
   {
    "duration": 24,
    "start_time": "2023-06-29T10:48:32.148Z"
   },
   {
    "duration": 19,
    "start_time": "2023-06-29T10:48:32.174Z"
   },
   {
    "duration": 36,
    "start_time": "2023-06-29T10:48:32.195Z"
   },
   {
    "duration": 7,
    "start_time": "2023-06-29T10:48:33.001Z"
   },
   {
    "duration": 24,
    "start_time": "2023-06-29T10:48:34.269Z"
   },
   {
    "duration": 27,
    "start_time": "2023-06-29T10:48:35.155Z"
   },
   {
    "duration": 5,
    "start_time": "2023-06-29T10:51:35.654Z"
   },
   {
    "duration": 1504,
    "start_time": "2023-06-29T10:52:32.267Z"
   },
   {
    "duration": 3,
    "start_time": "2023-06-29T10:52:33.773Z"
   },
   {
    "duration": 87,
    "start_time": "2023-06-29T10:52:33.778Z"
   },
   {
    "duration": 23,
    "start_time": "2023-06-29T10:52:33.867Z"
   },
   {
    "duration": 5,
    "start_time": "2023-06-29T10:52:33.892Z"
   },
   {
    "duration": 21,
    "start_time": "2023-06-29T10:52:33.902Z"
   },
   {
    "duration": 9,
    "start_time": "2023-06-29T10:52:33.925Z"
   },
   {
    "duration": 17,
    "start_time": "2023-06-29T10:52:33.936Z"
   },
   {
    "duration": 12,
    "start_time": "2023-06-29T10:52:33.955Z"
   },
   {
    "duration": 10,
    "start_time": "2023-06-29T10:52:33.971Z"
   },
   {
    "duration": 6,
    "start_time": "2023-06-29T10:52:33.982Z"
   },
   {
    "duration": 13,
    "start_time": "2023-06-29T10:52:34.002Z"
   },
   {
    "duration": 11,
    "start_time": "2023-06-29T10:52:34.016Z"
   },
   {
    "duration": 25,
    "start_time": "2023-06-29T10:52:34.029Z"
   },
   {
    "duration": 58,
    "start_time": "2023-06-29T10:52:34.056Z"
   },
   {
    "duration": 36,
    "start_time": "2023-06-29T10:52:34.116Z"
   },
   {
    "duration": 6,
    "start_time": "2023-06-29T10:52:34.154Z"
   },
   {
    "duration": 13,
    "start_time": "2023-06-29T10:52:34.161Z"
   },
   {
    "duration": 9,
    "start_time": "2023-06-29T10:52:34.176Z"
   },
   {
    "duration": 26,
    "start_time": "2023-06-29T10:52:34.187Z"
   },
   {
    "duration": 888,
    "start_time": "2023-06-29T10:52:34.215Z"
   },
   {
    "duration": 11,
    "start_time": "2023-06-29T10:52:35.105Z"
   },
   {
    "duration": 495845,
    "start_time": "2023-06-29T10:52:35.118Z"
   },
   {
    "duration": 4,
    "start_time": "2023-06-29T11:00:50.965Z"
   },
   {
    "duration": 1590,
    "start_time": "2023-06-29T11:00:50.971Z"
   },
   {
    "duration": 0,
    "start_time": "2023-06-29T11:00:52.563Z"
   },
   {
    "duration": 0,
    "start_time": "2023-06-29T11:00:52.564Z"
   },
   {
    "duration": 1,
    "start_time": "2023-06-29T11:00:52.565Z"
   },
   {
    "duration": 0,
    "start_time": "2023-06-29T11:00:52.567Z"
   },
   {
    "duration": 0,
    "start_time": "2023-06-29T11:00:52.568Z"
   },
   {
    "duration": 0,
    "start_time": "2023-06-29T11:00:52.569Z"
   },
   {
    "duration": 0,
    "start_time": "2023-06-29T11:00:52.570Z"
   },
   {
    "duration": 0,
    "start_time": "2023-06-29T11:00:52.571Z"
   },
   {
    "duration": 0,
    "start_time": "2023-06-29T11:00:52.572Z"
   },
   {
    "duration": 0,
    "start_time": "2023-06-29T11:00:52.573Z"
   },
   {
    "duration": 0,
    "start_time": "2023-06-29T11:00:52.575Z"
   },
   {
    "duration": 0,
    "start_time": "2023-06-29T11:00:52.576Z"
   },
   {
    "duration": 0,
    "start_time": "2023-06-29T11:00:52.577Z"
   },
   {
    "duration": 0,
    "start_time": "2023-06-29T11:00:52.578Z"
   },
   {
    "duration": 0,
    "start_time": "2023-06-29T11:00:52.579Z"
   },
   {
    "duration": 0,
    "start_time": "2023-06-29T11:00:52.580Z"
   },
   {
    "duration": 4,
    "start_time": "2023-06-29T11:05:51.895Z"
   },
   {
    "duration": 163,
    "start_time": "2023-06-29T11:05:52.640Z"
   },
   {
    "duration": 5,
    "start_time": "2023-06-29T11:06:04.761Z"
   },
   {
    "duration": 3379,
    "start_time": "2023-06-29T11:06:05.330Z"
   },
   {
    "duration": 5,
    "start_time": "2023-06-29T11:06:58.262Z"
   },
   {
    "duration": 3217,
    "start_time": "2023-06-29T11:06:58.693Z"
   },
   {
    "duration": 228,
    "start_time": "2023-06-29T11:07:31.355Z"
   },
   {
    "duration": 3285,
    "start_time": "2023-06-29T11:07:37.830Z"
   },
   {
    "duration": 5,
    "start_time": "2023-06-29T11:08:14.193Z"
   },
   {
    "duration": 7874,
    "start_time": "2023-06-29T11:08:17.432Z"
   },
   {
    "duration": 8064,
    "start_time": "2023-06-29T11:08:49.639Z"
   },
   {
    "duration": 8317,
    "start_time": "2023-06-29T11:09:05.094Z"
   },
   {
    "duration": 4,
    "start_time": "2023-06-29T11:10:40.073Z"
   },
   {
    "duration": 7832,
    "start_time": "2023-06-29T11:10:40.079Z"
   },
   {
    "duration": 1035,
    "start_time": "2023-06-29T11:10:47.912Z"
   },
   {
    "duration": 477305,
    "start_time": "2023-06-29T11:10:48.949Z"
   },
   {
    "duration": 8550,
    "start_time": "2023-06-29T11:18:46.256Z"
   },
   {
    "duration": 5,
    "start_time": "2023-06-29T11:18:54.809Z"
   },
   {
    "duration": 12,
    "start_time": "2023-06-29T11:18:54.902Z"
   },
   {
    "duration": 27,
    "start_time": "2023-06-29T11:18:54.916Z"
   },
   {
    "duration": 5,
    "start_time": "2023-06-29T11:18:54.946Z"
   },
   {
    "duration": 1126,
    "start_time": "2023-06-29T11:18:54.954Z"
   },
   {
    "duration": 653911,
    "start_time": "2023-06-29T11:18:56.082Z"
   },
   {
    "duration": 9415,
    "start_time": "2023-06-29T11:29:49.995Z"
   },
   {
    "duration": 101,
    "start_time": "2023-06-29T11:29:59.502Z"
   },
   {
    "duration": 17,
    "start_time": "2023-06-29T11:29:59.605Z"
   },
   {
    "duration": 463,
    "start_time": "2023-06-29T11:29:59.624Z"
   },
   {
    "duration": 285603,
    "start_time": "2023-06-29T11:30:00.088Z"
   },
   {
    "duration": 6701,
    "start_time": "2023-06-29T11:34:45.701Z"
   },
   {
    "duration": 105,
    "start_time": "2023-06-29T11:34:52.404Z"
   },
   {
    "duration": 0,
    "start_time": "2023-06-29T11:34:52.511Z"
   },
   {
    "duration": 175,
    "start_time": "2023-06-29T11:35:40.002Z"
   },
   {
    "duration": 1555,
    "start_time": "2023-06-29T11:36:12.731Z"
   },
   {
    "duration": 5,
    "start_time": "2023-06-29T11:36:47.369Z"
   },
   {
    "duration": 1614,
    "start_time": "2023-06-29T11:36:47.755Z"
   },
   {
    "duration": 977,
    "start_time": "2023-06-29T11:38:29.858Z"
   },
   {
    "duration": 6,
    "start_time": "2023-06-29T11:38:49.034Z"
   },
   {
    "duration": 5,
    "start_time": "2023-06-29T11:40:02.781Z"
   },
   {
    "duration": 1547,
    "start_time": "2023-06-29T11:40:03.988Z"
   },
   {
    "duration": 875,
    "start_time": "2023-06-29T11:42:25.694Z"
   },
   {
    "duration": 8149,
    "start_time": "2023-06-29T11:43:41.454Z"
   },
   {
    "duration": 5,
    "start_time": "2023-06-29T11:44:05.797Z"
   },
   {
    "duration": 7761,
    "start_time": "2023-06-29T11:44:11.042Z"
   },
   {
    "duration": 9566,
    "start_time": "2023-06-29T11:45:22.255Z"
   },
   {
    "duration": 1470,
    "start_time": "2023-06-29T12:05:41.962Z"
   },
   {
    "duration": 3,
    "start_time": "2023-06-29T12:05:43.435Z"
   },
   {
    "duration": 71,
    "start_time": "2023-06-29T12:05:43.440Z"
   },
   {
    "duration": 23,
    "start_time": "2023-06-29T12:05:43.514Z"
   },
   {
    "duration": 5,
    "start_time": "2023-06-29T12:05:43.539Z"
   },
   {
    "duration": 7,
    "start_time": "2023-06-29T12:05:43.545Z"
   },
   {
    "duration": 7,
    "start_time": "2023-06-29T12:05:43.554Z"
   },
   {
    "duration": 41,
    "start_time": "2023-06-29T12:05:43.562Z"
   },
   {
    "duration": 23,
    "start_time": "2023-06-29T12:05:43.605Z"
   },
   {
    "duration": 29,
    "start_time": "2023-06-29T12:05:43.631Z"
   },
   {
    "duration": 4,
    "start_time": "2023-06-29T12:05:43.662Z"
   },
   {
    "duration": 7,
    "start_time": "2023-06-29T12:05:43.668Z"
   },
   {
    "duration": 22,
    "start_time": "2023-06-29T12:05:43.677Z"
   },
   {
    "duration": 32,
    "start_time": "2023-06-29T12:05:43.701Z"
   },
   {
    "duration": 25,
    "start_time": "2023-06-29T12:05:43.734Z"
   },
   {
    "duration": 56,
    "start_time": "2023-06-29T12:05:43.761Z"
   },
   {
    "duration": 5,
    "start_time": "2023-06-29T12:05:43.819Z"
   },
   {
    "duration": 10,
    "start_time": "2023-06-29T12:05:43.826Z"
   },
   {
    "duration": 10,
    "start_time": "2023-06-29T12:05:43.838Z"
   },
   {
    "duration": 5,
    "start_time": "2023-06-29T12:05:43.849Z"
   },
   {
    "duration": 1563,
    "start_time": "2023-06-29T12:05:43.856Z"
   },
   {
    "duration": 5,
    "start_time": "2023-06-29T12:05:45.421Z"
   },
   {
    "duration": 9887,
    "start_time": "2023-06-29T12:05:45.428Z"
   },
   {
    "duration": 6,
    "start_time": "2023-06-29T12:05:55.317Z"
   },
   {
    "duration": 2889,
    "start_time": "2023-06-29T12:05:55.325Z"
   },
   {
    "duration": 0,
    "start_time": "2023-06-29T12:05:58.217Z"
   },
   {
    "duration": 0,
    "start_time": "2023-06-29T12:05:58.218Z"
   },
   {
    "duration": 1,
    "start_time": "2023-06-29T12:05:58.219Z"
   },
   {
    "duration": 0,
    "start_time": "2023-06-29T12:05:58.221Z"
   },
   {
    "duration": 0,
    "start_time": "2023-06-29T12:05:58.223Z"
   },
   {
    "duration": 0,
    "start_time": "2023-06-29T12:05:58.224Z"
   },
   {
    "duration": 0,
    "start_time": "2023-06-29T12:05:58.225Z"
   },
   {
    "duration": 0,
    "start_time": "2023-06-29T12:05:58.227Z"
   },
   {
    "duration": 0,
    "start_time": "2023-06-29T12:05:58.228Z"
   },
   {
    "duration": 0,
    "start_time": "2023-06-29T12:05:58.229Z"
   },
   {
    "duration": 0,
    "start_time": "2023-06-29T12:05:58.231Z"
   },
   {
    "duration": 0,
    "start_time": "2023-06-29T12:05:58.232Z"
   },
   {
    "duration": 0,
    "start_time": "2023-06-29T12:05:58.233Z"
   },
   {
    "duration": 0,
    "start_time": "2023-06-29T12:05:58.235Z"
   },
   {
    "duration": 0,
    "start_time": "2023-06-29T12:05:58.236Z"
   },
   {
    "duration": 0,
    "start_time": "2023-06-29T12:05:58.237Z"
   },
   {
    "duration": 1900,
    "start_time": "2023-06-29T12:06:40.033Z"
   },
   {
    "duration": 3,
    "start_time": "2023-06-29T12:06:41.935Z"
   },
   {
    "duration": 77,
    "start_time": "2023-06-29T12:06:41.940Z"
   },
   {
    "duration": 17,
    "start_time": "2023-06-29T12:06:42.019Z"
   },
   {
    "duration": 12,
    "start_time": "2023-06-29T12:06:42.038Z"
   },
   {
    "duration": 8,
    "start_time": "2023-06-29T12:06:42.052Z"
   },
   {
    "duration": 10,
    "start_time": "2023-06-29T12:06:42.062Z"
   },
   {
    "duration": 7,
    "start_time": "2023-06-29T12:06:42.073Z"
   },
   {
    "duration": 9,
    "start_time": "2023-06-29T12:06:42.102Z"
   },
   {
    "duration": 8,
    "start_time": "2023-06-29T12:06:42.113Z"
   },
   {
    "duration": 5,
    "start_time": "2023-06-29T12:06:42.122Z"
   },
   {
    "duration": 5,
    "start_time": "2023-06-29T12:06:42.129Z"
   },
   {
    "duration": 12,
    "start_time": "2023-06-29T12:06:42.135Z"
   },
   {
    "duration": 60,
    "start_time": "2023-06-29T12:06:42.150Z"
   },
   {
    "duration": 25,
    "start_time": "2023-06-29T12:06:42.212Z"
   },
   {
    "duration": 69,
    "start_time": "2023-06-29T12:06:42.239Z"
   },
   {
    "duration": 4,
    "start_time": "2023-06-29T12:06:42.310Z"
   },
   {
    "duration": 23,
    "start_time": "2023-06-29T12:06:42.316Z"
   },
   {
    "duration": 5,
    "start_time": "2023-06-29T12:06:42.341Z"
   },
   {
    "duration": 7,
    "start_time": "2023-06-29T12:06:42.347Z"
   },
   {
    "duration": 1514,
    "start_time": "2023-06-29T12:06:42.356Z"
   },
   {
    "duration": 5,
    "start_time": "2023-06-29T12:06:43.872Z"
   },
   {
    "duration": 473519,
    "start_time": "2023-06-29T12:06:43.879Z"
   },
   {
    "duration": 4,
    "start_time": "2023-06-29T12:14:37.401Z"
   },
   {
    "duration": 8203,
    "start_time": "2023-06-29T12:14:37.407Z"
   },
   {
    "duration": 1028,
    "start_time": "2023-06-29T12:14:45.612Z"
   },
   {
    "duration": 475841,
    "start_time": "2023-06-29T12:14:46.642Z"
   },
   {
    "duration": 7728,
    "start_time": "2023-06-29T12:22:42.485Z"
   },
   {
    "duration": 6,
    "start_time": "2023-06-29T12:22:50.301Z"
   },
   {
    "duration": 99,
    "start_time": "2023-06-29T12:22:50.311Z"
   },
   {
    "duration": 16,
    "start_time": "2023-06-29T12:22:50.412Z"
   },
   {
    "duration": 8,
    "start_time": "2023-06-29T12:22:50.430Z"
   },
   {
    "duration": 1083,
    "start_time": "2023-06-29T12:22:50.440Z"
   },
   {
    "duration": 670526,
    "start_time": "2023-06-29T12:22:51.525Z"
   },
   {
    "duration": 8353,
    "start_time": "2023-06-29T12:34:02.054Z"
   },
   {
    "duration": 90,
    "start_time": "2023-06-29T12:34:10.413Z"
   },
   {
    "duration": 38,
    "start_time": "2023-06-29T12:34:10.506Z"
   },
   {
    "duration": 620,
    "start_time": "2023-06-29T12:34:10.548Z"
   },
   {
    "duration": 294113,
    "start_time": "2023-06-29T12:34:11.170Z"
   },
   {
    "duration": 4218,
    "start_time": "2023-06-29T12:39:05.285Z"
   },
   {
    "duration": 247,
    "start_time": "2023-06-29T12:39:09.521Z"
   },
   {
    "duration": 3,
    "start_time": "2023-06-29T12:56:44.903Z"
   },
   {
    "duration": 107,
    "start_time": "2023-06-29T12:56:56.472Z"
   },
   {
    "duration": 982,
    "start_time": "2023-06-29T12:57:24.264Z"
   }
  ],
  "kernelspec": {
   "display_name": "Python 3 (ipykernel)",
   "language": "python",
   "name": "python3"
  },
  "language_info": {
   "codemirror_mode": {
    "name": "ipython",
    "version": 3
   },
   "file_extension": ".py",
   "mimetype": "text/x-python",
   "name": "python",
   "nbconvert_exporter": "python",
   "pygments_lexer": "ipython3",
   "version": "3.9.5"
  },
  "toc": {
   "base_numbering": 1,
   "nav_menu": {},
   "number_sections": true,
   "sideBar": true,
   "skip_h1_title": true,
   "title_cell": "Содержание",
   "title_sidebar": "Contents",
   "toc_cell": true,
   "toc_position": {
    "height": "calc(100% - 180px)",
    "left": "10px",
    "top": "150px",
    "width": "165px"
   },
   "toc_section_display": true,
   "toc_window_display": true
  }
 },
 "nbformat": 4,
 "nbformat_minor": 2
}
