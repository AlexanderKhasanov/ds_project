{
 "cells": [
  {
   "cell_type": "markdown",
   "metadata": {},
   "source": [
    "<div style=\"padding: 30px 25px; border: 2px #6495ed solid\">\n",
    "    \n",
    "<b>Привет, Александр!</b>\n",
    "\n",
    "Меня зовут Алексей, и я буду проверять твой проект.\n",
    "    \n",
    "Предлагаю общаться на «<b>ты</b>», но если это неудобно — обязательно сообщи об этом.\n",
    "    \n",
    "Ниже ты увидишь мои комментарии, выделенные разным цветом:\n",
    "    \n",
    "<div class=\"alert alert-success\">\n",
    "<h2>Комментарий ревьюера<a class=\"tocSkip\"></a></h2>\n",
    "\n",
    "<b>Отлично!</b> ✔️: все ок, продолжай в том же духе :)\n",
    "\n",
    "</div>\n",
    "<div class=\"alert alert-warning\">\n",
    "<h2>Комментарий ревьюера<a class=\"tocSkip\"></a></h2>\n",
    "    \n",
    "<b>Есть совет</b> ⚠️: так выделены некритичные замечания или советы, которые смогут улучшить твой проект.\n",
    "\n",
    "</div>\n",
    "<div class=\"alert alert-danger\">\n",
    "<h2>Комментарий ревьюера<a class=\"tocSkip\"></a></h2>\n",
    "\n",
    "<b>Нужно доработать</b> ❌: так выделены важные замечания — без их исправления проект не может быть принят.\n",
    "    \n",
    "</div>\n",
    "\n",
    "Будет здорово, если ты будешь участвовать в диалоге, а свои вопросы, комментарии и изменения в проекте тоже будешь выделять, например, вот так:\n",
    "    \n",
    "<div class=\"alert alert-info\">\n",
    "    <b>Комментарий студента:</b> твой комментарий\n",
    "</div>\n",
    "    \n",
    "Пожалуйста, не перемещай и не удаляй мои комментарии, это усложнит повторную проверку.\n",
    "    \n",
    "</div>"
   ]
  },
  {
   "cell_type": "markdown",
   "metadata": {},
   "source": [
    "<div style=\"padding: 30px 25px; border: 2px #6495ed solid\">\n",
    "    \n",
    "<b>Еще раз привет!</b>\n",
    "\n",
    "Спасибо, что доделал работу, оформление комментариев остается тем же, только обозначим номер итерации: v2\n",
    "    \n",
    "</div>"
   ]
  },
  {
   "cell_type": "markdown",
   "metadata": {},
   "source": [
    "# Рекомендация тарифов"
   ]
  },
  {
   "cell_type": "markdown",
   "metadata": {},
   "source": [
    "В вашем распоряжении данные о поведении клиентов, которые уже перешли на эти тарифы (из проекта курса «Статистический анализ данных»). Нужно построить модель для задачи классификации, которая выберет подходящий тариф. Предобработка данных не понадобится — вы её уже сделали.\n",
    "\n",
    "Постройте модель с максимально большим значением *accuracy*. Чтобы сдать проект успешно, нужно довести долю правильных ответов по крайней мере до 0.75. Проверьте *accuracy* на тестовой выборке самостоятельно."
   ]
  },
  {
   "cell_type": "markdown",
   "metadata": {},
   "source": [
    "## Откройте и изучите файл"
   ]
  },
  {
   "cell_type": "code",
   "execution_count": 1,
   "metadata": {},
   "outputs": [],
   "source": [
    "import pandas as pd\n",
    "import numpy as np\n",
    "from sklearn.tree import DecisionTreeClassifier\n",
    "from sklearn.ensemble import RandomForestClassifier\n",
    "from sklearn.linear_model import LogisticRegression\n",
    "from sklearn.model_selection import train_test_split\n",
    "from sklearn.metrics import precision_score, recall_score"
   ]
  },
  {
   "cell_type": "markdown",
   "metadata": {},
   "source": [
    "<div class=\"alert alert-success\">\n",
    "<h2>Комментарий ревьюера<a class=\"tocSkip\"></a></h2>\n",
    "    \n",
    "**Отлично!** ✔️: все импорты в одном месте, удобно :)</div>"
   ]
  },
  {
   "cell_type": "code",
   "execution_count": 2,
   "metadata": {},
   "outputs": [
    {
     "name": "stdout",
     "output_type": "stream",
     "text": [
      "<class 'pandas.core.frame.DataFrame'>\n",
      "RangeIndex: 3214 entries, 0 to 3213\n",
      "Data columns (total 5 columns):\n",
      " #   Column    Non-Null Count  Dtype  \n",
      "---  ------    --------------  -----  \n",
      " 0   calls     3214 non-null   float64\n",
      " 1   minutes   3214 non-null   float64\n",
      " 2   messages  3214 non-null   float64\n",
      " 3   mb_used   3214 non-null   float64\n",
      " 4   is_ultra  3214 non-null   int64  \n",
      "dtypes: float64(4), int64(1)\n",
      "memory usage: 125.7 KB\n"
     ]
    },
    {
     "data": {
      "text/html": [
       "<div>\n",
       "<style scoped>\n",
       "    .dataframe tbody tr th:only-of-type {\n",
       "        vertical-align: middle;\n",
       "    }\n",
       "\n",
       "    .dataframe tbody tr th {\n",
       "        vertical-align: top;\n",
       "    }\n",
       "\n",
       "    .dataframe thead th {\n",
       "        text-align: right;\n",
       "    }\n",
       "</style>\n",
       "<table border=\"1\" class=\"dataframe\">\n",
       "  <thead>\n",
       "    <tr style=\"text-align: right;\">\n",
       "      <th></th>\n",
       "      <th>calls</th>\n",
       "      <th>minutes</th>\n",
       "      <th>messages</th>\n",
       "      <th>mb_used</th>\n",
       "      <th>is_ultra</th>\n",
       "    </tr>\n",
       "  </thead>\n",
       "  <tbody>\n",
       "    <tr>\n",
       "      <th>0</th>\n",
       "      <td>40.0</td>\n",
       "      <td>311.90</td>\n",
       "      <td>83.0</td>\n",
       "      <td>19915.42</td>\n",
       "      <td>0</td>\n",
       "    </tr>\n",
       "    <tr>\n",
       "      <th>1</th>\n",
       "      <td>85.0</td>\n",
       "      <td>516.75</td>\n",
       "      <td>56.0</td>\n",
       "      <td>22696.96</td>\n",
       "      <td>0</td>\n",
       "    </tr>\n",
       "    <tr>\n",
       "      <th>2</th>\n",
       "      <td>77.0</td>\n",
       "      <td>467.66</td>\n",
       "      <td>86.0</td>\n",
       "      <td>21060.45</td>\n",
       "      <td>0</td>\n",
       "    </tr>\n",
       "    <tr>\n",
       "      <th>3</th>\n",
       "      <td>106.0</td>\n",
       "      <td>745.53</td>\n",
       "      <td>81.0</td>\n",
       "      <td>8437.39</td>\n",
       "      <td>1</td>\n",
       "    </tr>\n",
       "    <tr>\n",
       "      <th>4</th>\n",
       "      <td>66.0</td>\n",
       "      <td>418.74</td>\n",
       "      <td>1.0</td>\n",
       "      <td>14502.75</td>\n",
       "      <td>0</td>\n",
       "    </tr>\n",
       "  </tbody>\n",
       "</table>\n",
       "</div>"
      ],
      "text/plain": [
       "   calls  minutes  messages   mb_used  is_ultra\n",
       "0   40.0   311.90      83.0  19915.42         0\n",
       "1   85.0   516.75      56.0  22696.96         0\n",
       "2   77.0   467.66      86.0  21060.45         0\n",
       "3  106.0   745.53      81.0   8437.39         1\n",
       "4   66.0   418.74       1.0  14502.75         0"
      ]
     },
     "execution_count": 2,
     "metadata": {},
     "output_type": "execute_result"
    }
   ],
   "source": [
    "df = pd.read_csv('/datasets/users_behavior.csv')\n",
    "df.info()\n",
    "df.head()"
   ]
  },
  {
   "cell_type": "code",
   "execution_count": 3,
   "metadata": {},
   "outputs": [],
   "source": [
    "RANDOM_STATE = 42"
   ]
  },
  {
   "cell_type": "markdown",
   "metadata": {},
   "source": [
    "<div class=\"alert alert-success\">\n",
    "<h2>Комментарий ревьюера<a class=\"tocSkip\"></a></h2>\n",
    "    \n",
    "**Отлично!** ✔️: здорово, что выносишь значение random_state в константу!</div>"
   ]
  },
  {
   "cell_type": "markdown",
   "metadata": {},
   "source": [
    "## Разбейте данные на выборки"
   ]
  },
  {
   "cell_type": "code",
   "execution_count": 4,
   "metadata": {},
   "outputs": [],
   "source": [
    "features = df.drop('is_ultra', axis=1)\n",
    "target = df['is_ultra']"
   ]
  },
  {
   "cell_type": "markdown",
   "metadata": {},
   "source": [
    "Отделим тестовую выборку"
   ]
  },
  {
   "cell_type": "code",
   "execution_count": 5,
   "metadata": {},
   "outputs": [],
   "source": [
    "features_train, features_test, target_train, target_test = train_test_split(\n",
    "    features, target, test_size=.2, stratify=target, random_state=42\n",
    ")"
   ]
  },
  {
   "cell_type": "markdown",
   "metadata": {},
   "source": [
    "Отделим от обучающей выборки валидационную выборку"
   ]
  },
  {
   "cell_type": "code",
   "execution_count": 6,
   "metadata": {
    "scrolled": true
   },
   "outputs": [],
   "source": [
    "features_train, features_valid, target_train, target_valid = train_test_split(\n",
    "    features_train, target_train, test_size=.16, stratify=target_train, random_state=RANDOM_STATE\n",
    ")"
   ]
  },
  {
   "cell_type": "markdown",
   "metadata": {},
   "source": [
    "<div class=\"alert alert-warning\">\n",
    "<h2>Комментарий ревьюера<a class=\"tocSkip\"></a></h2>\n",
    "    \n",
    "**Есть совет** ⚠️: пусть `x` — это общее количество строк в датасете. Тогда после первого разделения в `features_train` осталось `0.8x` записей, а после второго разделения с выбранным test_size=0.2 в обучающей выборке останется `0.64x` записей(`0.8x*0.8`), а в валидационной — `0.16x`. Если ты хочешь добиться отношения размеров выборок как 60/20/20, то стоит поменять параметр test_size во втором разделении\n",
    "</div>"
   ]
  },
  {
   "cell_type": "markdown",
   "metadata": {},
   "source": [
    "<div class=\"alert alert-warning\">\n",
    "<h2>Комментарий ревьюера<a class=\"tocSkip\"></a></h2>\n",
    "    \n",
    "**Есть совет** ⚠️: еще выборки лучше стратифицировать с помощью параметра **stratify** в train_test_split. Так у тебя точно не возникнет ситуации, когда, например, в тестовой выборке соотношение классов будет сильно отличаться от соотношения в обучающей выборке\n",
    "\n",
    "Подробнее про стратификацию:\n",
    "* https://stackoverflow.com/questions/29438265/stratified-train-test-split-in-scikit-learn\n",
    "* https://realpython.com/train-test-split-python-data/#application-of-train_test_split    \n",
    "* https://habr.com/ru/post/496750/\n",
    "* https://habr.com/ru/company/X5Group/blog/596279/\n",
    "</div>"
   ]
  },
  {
   "cell_type": "markdown",
   "metadata": {},
   "source": [
    "<div class=\"alert alert-info\">\n",
    "    <b>Комментарий студента:</b> Поправил разделение выборки. Также добавил стратификацию. Спасибо большое за статьи!\n",
    "</div>"
   ]
  },
  {
   "cell_type": "markdown",
   "metadata": {},
   "source": [
    "<div class=\"alert alert-success\">\n",
    "<h2>Комментарий ревьюера v2<a class=\"tocSkip\"></a></h2>\n",
    "    \n",
    "**Отлично!** ✔️: со стратификацией все верно :)</div>"
   ]
  },
  {
   "cell_type": "markdown",
   "metadata": {},
   "source": [
    "<div class=\"alert alert-warning\">\n",
    "<h2>Комментарий ревьюера v2<a class=\"tocSkip\"></a></h2>\n",
    "    \n",
    "**Есть совет** ⚠️:  раз после первого разделения в обучающей выборке осталось 0.8x записей, то для того, чтобы оставить в ней 60%, при втором разделении необходимо использовать `test_size=0.25`(`0.8x * 0.75 = 0.6`)</div>"
   ]
  },
  {
   "cell_type": "markdown",
   "metadata": {},
   "source": [
    "## Исследуйте модели"
   ]
  },
  {
   "cell_type": "markdown",
   "metadata": {},
   "source": [
    "Исследуем модель Решающее дерево. Так как данные содержат всего 4 параметра, то будем перебирать гиперпараметр `max_depth` от 1 до 4"
   ]
  },
  {
   "cell_type": "code",
   "execution_count": 7,
   "metadata": {},
   "outputs": [
    {
     "name": "stdout",
     "output_type": "stream",
     "text": [
      "Лучшая модель DecisionTreeClassifier имеет следующие гиперпараметры:\n",
      "max_depth = 4.\n",
      "Accurecy модели равен 0.7961\n"
     ]
    }
   ],
   "source": [
    "best_model_tree = None\n",
    "best_acc_tree = 0\n",
    "for depth in range(1, 5):\n",
    "    model = DecisionTreeClassifier(max_depth=depth, random_state=RANDOM_STATE)\n",
    "    model.fit(features_train, target_train)\n",
    "    acc = model.score(features_valid, target_valid)\n",
    "    if acc > best_acc_tree:\n",
    "        best_acc_tree = acc\n",
    "        best_model_tree = model\n",
    "print(f'''Лучшая модель DecisionTreeClassifier имеет следующие гиперпараметры:\n",
    "max_depth = {best_model_tree.get_params().get(\"max_depth\")}.\n",
    "Accurecy модели равен {best_acc_tree:.4f}''')"
   ]
  },
  {
   "cell_type": "markdown",
   "metadata": {},
   "source": [
    "Исследуем модель случайный лес. Так как данные содержат всего 4 параметра, то будем перебирать гиперпараметр `max_depth` от 1 до 10. Количество \"оценщиков\" (`n_estimators`) будем перебирать от 1 до 20"
   ]
  },
  {
   "cell_type": "code",
   "execution_count": 8,
   "metadata": {},
   "outputs": [
    {
     "name": "stdout",
     "output_type": "stream",
     "text": [
      "Лучшая модель RandomForestClassifier имеет следующие гиперпараметры:\n",
      "max_depth = 7\n",
      "n_estimators = 6.\n",
      "Accurecy модели равен 0.8204\n"
     ]
    }
   ],
   "source": [
    "best_model_rand_forest = None\n",
    "best_acc_rand_forest = 0\n",
    "for est in range(1, 21):\n",
    "    for depth in range(1, 11):\n",
    "        model = RandomForestClassifier(max_depth=depth, n_estimators=est, random_state=RANDOM_STATE)\n",
    "        model.fit(features_train, target_train)\n",
    "        acc = model.score(features_valid, target_valid)\n",
    "        if acc > best_acc_rand_forest:\n",
    "            best_acc_rand_forest = acc\n",
    "            best_model_rand_forest = model\n",
    "print(f'''Лучшая модель RandomForestClassifier имеет следующие гиперпараметры:\n",
    "max_depth = {best_model_rand_forest.get_params().get(\"max_depth\")}\n",
    "n_estimators = {best_model_rand_forest.get_params().get(\"n_estimators\")}.\n",
    "Accurecy модели равен {best_acc_rand_forest:.4f}''')"
   ]
  },
  {
   "cell_type": "markdown",
   "metadata": {},
   "source": [
    "Исследуем модель логистической регрессии. Так как данных не много, то количество итераций для обучения выставим равным 200."
   ]
  },
  {
   "cell_type": "code",
   "execution_count": 9,
   "metadata": {},
   "outputs": [
    {
     "name": "stdout",
     "output_type": "stream",
     "text": [
      "Модель LogisticRegression имеет accurecy = 0.7597\n"
     ]
    }
   ],
   "source": [
    "model_log_regression = LogisticRegression(max_iter=200, solver='lbfgs', random_state=RANDOM_STATE)\n",
    "model_log_regression.fit(features_train, target_train)\n",
    "acc_log_regression = model_log_regression.score(features_valid, target_valid)\n",
    "print(f'Модель LogisticRegression имеет accurecy = {acc_log_regression:.4f}')"
   ]
  },
  {
   "cell_type": "markdown",
   "metadata": {},
   "source": [
    "**Вывод:** в результате было исследовано 3 модели: решающее дерево, случайный лес и логистическая регрессия. В результате для решающего дерева были подобраны следующие гиперпараметры: `max_depth=3`. С данными гиперпараметрами метка `accuracy=0.7961`. Для модели случайного леса были подобраны следующие гиперпараметры: `max_depth=7`, `n_estimators=6`. С даннами гиперпараметрами метка `accuracy=0.8204`. На модели модели логистической регресси при обучении на 200 итерациях и использованиии алгоритма оптимизации `lbfgs` метрика `accuracy=0.7591`  \n",
    "Наилучшее качество показала модель случайного леса. Модель решающее дерево лишь немного уступила в качестве, но гораздо быстрее по времени работы. Будем считать, что в нашей задаче важнее лучшее качество работы и мы можем пожертвовать временем работы. Поэтому для дальнейшей работы выберем модель случайного леса с гимерпараметрами `max_depth=7`, `n_estimators=6`."
   ]
  },
  {
   "cell_type": "markdown",
   "metadata": {},
   "source": [
    "<div class=\"alert alert-success\">\n",
    "<h2>Комментарий ревьюера<a class=\"tocSkip\"></a></h2>\n",
    "    \n",
    "**Отлично!** ✔️: все так, похоже, случайный лес здесь фаворит :)</div>"
   ]
  },
  {
   "cell_type": "markdown",
   "metadata": {},
   "source": [
    "## Проверьте модель на тестовой выборке"
   ]
  },
  {
   "cell_type": "markdown",
   "metadata": {},
   "source": [
    "Проверим модель случайного леса на тестовой выборке"
   ]
  },
  {
   "cell_type": "code",
   "execution_count": 10,
   "metadata": {},
   "outputs": [
    {
     "name": "stdout",
     "output_type": "stream",
     "text": [
      "Лучшая модель случайного леса на тестовой выборке имеет accuracy = 0.8320\n"
     ]
    }
   ],
   "source": [
    "acc_on_test = best_model_rand_forest.score(features_test, target_test)\n",
    "print(f'Лучшая модель случайного леса на тестовой выборке имеет '\n",
    "      f'accuracy = {acc_on_test:.4f}')"
   ]
  },
  {
   "cell_type": "markdown",
   "metadata": {},
   "source": [
    "<div class=\"alert alert-danger\">\n",
    "<h2>Комментарий ревьюера<a class=\"tocSkip\"></a></h2>\n",
    "\n",
    "**Нужно доработать** ❌: на тестовой выборке нельзя сравнивать модели(или подбирать гиперпараметры), иначе она перестанет быть независимой. Она используется на этапе финального тестирования только чтобы проверить одну лучшую модель по метрикам на валидации с прошлого этапа(с уже подобранными гиперпараметрами)</div>"
   ]
  },
  {
   "cell_type": "markdown",
   "metadata": {},
   "source": [
    "<div class=\"alert alert-info\">\n",
    "    <b>Комментарий студента:</b> Убрал сравнение качества моделей на тестовой выборке и изучил только качество лучшей.\n",
    "</div>"
   ]
  },
  {
   "cell_type": "markdown",
   "metadata": {},
   "source": [
    "<div class=\"alert alert-success\">\n",
    "<h2>Комментарий ревьюера v2<a class=\"tocSkip\"></a></h2>\n",
    "    \n",
    "**Отлично!** ✔️: все так, бейзлайн побит, ура!</div>"
   ]
  },
  {
   "cell_type": "markdown",
   "metadata": {},
   "source": [
    "**Вывод:** На тестовых данных лучшая модель случайного леса имеет метрику `accuracy=0.8320` \n",
    "  \n",
    "Таким образом, модель случайного леса имеет хорошие результаты качества на тестовой выборке и может быть использована для дальнейшей работы. Гиперпараметры модели: `max_depth=7`, `n_estimators=6`"
   ]
  },
  {
   "cell_type": "markdown",
   "metadata": {},
   "source": [
    "## (бонус) Проверьте модели на адекватность"
   ]
  },
  {
   "cell_type": "markdown",
   "metadata": {},
   "source": [
    "Проверим как соотносятся между собой классы в выборке"
   ]
  },
  {
   "cell_type": "code",
   "execution_count": 11,
   "metadata": {},
   "outputs": [
    {
     "data": {
      "text/plain": [
       "0.30647168637212197"
      ]
     },
     "execution_count": 11,
     "metadata": {},
     "output_type": "execute_result"
    }
   ],
   "source": [
    "df.query('is_ultra == 1')['is_ultra'].count() / df.shape[0]"
   ]
  },
  {
   "cell_type": "markdown",
   "metadata": {},
   "source": [
    "Видно, что наблюдается явный дисбаланс классов в выборке. Объекты с классом `Смарт` составляют 70% выборки, а объекты с классом \n",
    "`Ультра` составляют лишь 30%. Данный факт может значительно влиять на качество модели, так как модель может определять все объекты к классу `Смарт` и все равно получить на тестовой выборке высокое значение метрики `accuracy`.  \n",
    "Проверим значение метрик `precision` и `recall` для всех моделей"
   ]
  },
  {
   "cell_type": "code",
   "execution_count": 12,
   "metadata": {},
   "outputs": [
    {
     "name": "stdout",
     "output_type": "stream",
     "text": [
      "Для модели решающего дерева:\n",
      "accuracy = 0.8040\n",
      "precision = 0.8087\n",
      "recall = 0.4721\n"
     ]
    }
   ],
   "source": [
    "pred = best_model_tree.predict(features_test)\n",
    "print(f'''Для модели решающего дерева:\n",
    "accuracy = {best_model_tree.score(features_test, target_test):.4f}\n",
    "precision = {precision_score(target_test, pred):.4f}\n",
    "recall = {recall_score(target_test, pred):.4f}''')"
   ]
  },
  {
   "cell_type": "code",
   "execution_count": 13,
   "metadata": {},
   "outputs": [
    {
     "name": "stdout",
     "output_type": "stream",
     "text": [
      "Для модели случайного леса:\n",
      "accuracy = 0.8320\n",
      "precision = 0.8560\n",
      "recall = 0.5431\n"
     ]
    }
   ],
   "source": [
    "pred = best_model_rand_forest.predict(features_test)\n",
    "print(f'''Для модели случайного леса:\n",
    "accuracy = {best_model_rand_forest.score(features_test, target_test):.4f}\n",
    "precision = {precision_score(target_test, pred):.4f}\n",
    "recall = {recall_score(target_test, pred):.4f}''')"
   ]
  },
  {
   "cell_type": "code",
   "execution_count": 14,
   "metadata": {},
   "outputs": [
    {
     "name": "stdout",
     "output_type": "stream",
     "text": [
      "Для модели логистической регрессии:\n",
      "accuracy = 0.7403\n",
      "precision = 0.8409\n",
      "recall = 0.1878\n"
     ]
    }
   ],
   "source": [
    "pred = model_log_regression.predict(features_test)\n",
    "print(f'''Для модели логистической регрессии:\n",
    "accuracy = {model_log_regression.score(features_test, target_test):.4f}\n",
    "precision = {precision_score(target_test, pred):.4f}\n",
    "recall = {recall_score(target_test, pred):.4f}''')"
   ]
  },
  {
   "cell_type": "markdown",
   "metadata": {},
   "source": [
    "Как видно из результатов модель логистической регрессии работает не адекватно на данном наборе данных. Метрика `precision=0.8409`, а `recall=0.1878`. Получается, что логистической регрессии почти всем объекта назначает класс `Смарт` и за счет неравномерности выборки получет достаточно высокое значение `accuracy`. Однако данную модель нельзя применять на практике.  \n",
    "Модели решающего дерева и случайного леса показывают гораздо лучшие результаты и могут применяться на практике."
   ]
  },
  {
   "cell_type": "markdown",
   "metadata": {},
   "source": [
    "<div class=\"alert alert-success\">\n",
    "<h2>Комментарий ревьюера<a class=\"tocSkip\"></a></h2>\n",
    "    \n",
    "**Отлично!** ✔️: все верно, это одна из проблем метрики accuracy, при дисбалансе данных она становится непоказательной</div>"
   ]
  },
  {
   "cell_type": "markdown",
   "metadata": {},
   "source": [
    "\n",
    "## Эсперимент с равномерной выборкой"
   ]
  },
  {
   "cell_type": "markdown",
   "metadata": {},
   "source": [
    "Составим выборку, где объектов каждого класса будет равное количество"
   ]
  },
  {
   "cell_type": "code",
   "execution_count": 15,
   "metadata": {},
   "outputs": [
    {
     "name": "stdout",
     "output_type": "stream",
     "text": [
      "<class 'pandas.core.frame.DataFrame'>\n",
      "RangeIndex: 1970 entries, 0 to 1969\n",
      "Data columns (total 5 columns):\n",
      " #   Column    Non-Null Count  Dtype  \n",
      "---  ------    --------------  -----  \n",
      " 0   calls     1970 non-null   float64\n",
      " 1   minutes   1970 non-null   float64\n",
      " 2   messages  1970 non-null   float64\n",
      " 3   mb_used   1970 non-null   float64\n",
      " 4   is_ultra  1970 non-null   int64  \n",
      "dtypes: float64(4), int64(1)\n",
      "memory usage: 77.1 KB\n"
     ]
    }
   ],
   "source": [
    "df_ultra = df.query('is_ultra == 1')\n",
    "count_ultra = df_ultra.shape[0]\n",
    "df_smart = df.query('is_ultra == 0')[:count_ultra]\n",
    "df_2 = df_ultra.append(df_smart, ignore_index = True)\n",
    "df_2.info()"
   ]
  },
  {
   "cell_type": "markdown",
   "metadata": {},
   "source": [
    "<div class=\"alert alert-warning\">\n",
    "<h2>Комментарий ревьюера<a class=\"tocSkip\"></a></h2>\n",
    "    \n",
    "**Есть совет** ⚠️: устранять дисбаланс можно только в обучающей выборке, иначе метрики на валидации/тесте будут смещены. Подробнее про дисбаланс классов и борьбу с ним расскажут в следующем спринте</div>"
   ]
  },
  {
   "cell_type": "markdown",
   "metadata": {},
   "source": [
    "<div class=\"alert alert-info\">\n",
    "    <b>Комментарий студента:</b> Почитал некоторые статьи про дисбаланс классов, но так и не понял, почему при устранении дисбаланса на всей выборке метрики на валидации/тесте будет смещены. Если не сложно, можешь пожалуйста объяснить или посоветовать какие-нибудь статьи?\n",
    "</div>"
   ]
  },
  {
   "cell_type": "markdown",
   "metadata": {},
   "source": [
    "<div class=\"alert alert-warning\">\n",
    "<h2>Комментарий ревьюера v2<a class=\"tocSkip\"></a></h2>\n",
    "    \n",
    "**Есть совет** ⚠️: при устранении дисбаланса в общей выборке в валидационной и тестовой выборке также изменится соотношение классов, это может привести к слишком оптимистичным метрикам: ведь после внедрения модели придется предсказывать все также несбалансированные данные, а устранить дисбаланс в реальных данных уже не получится, ведь целевого признака не будет. Поэтому валидационную и тестовую выборки всегда оставляют исходными, чтобы метрики оставались показательны, но устраняют дисбаланс в обучающей выборке, чтобы модель научилась определять оба класса достаточно хорошо. Весь следующий проект будет посвящен борьбы с дисбалансом, у тебя еще будет возможность разобраться подробнее :)</div>"
   ]
  },
  {
   "cell_type": "code",
   "execution_count": 16,
   "metadata": {},
   "outputs": [],
   "source": [
    "features_2 = df_2.drop('is_ultra', axis=1)\n",
    "target_2 = df_2['is_ultra']\n",
    "features_train_2, features_test_2, target_train_2, target_test_2 = train_test_split(\n",
    "    features_2, target_2, stratify=target_2, test_size=.25\n",
    ")"
   ]
  },
  {
   "cell_type": "code",
   "execution_count": 17,
   "metadata": {},
   "outputs": [
    {
     "name": "stdout",
     "output_type": "stream",
     "text": [
      "Для модели решающего дерева:\n",
      "accuracy = 0.7282\n",
      "precision = 0.9308\n",
      "recall = 0.4919\n"
     ]
    }
   ],
   "source": [
    "tree_2 = DecisionTreeClassifier(max_depth=3, random_state=RANDOM_STATE)\n",
    "tree_2.fit(features_train_2, target_train_2)\n",
    "pred = tree_2.predict(features_test_2)\n",
    "print(f'''Для модели решающего дерева:\n",
    "accuracy = {tree_2.score(features_test_2, target_test_2):.4f}\n",
    "precision = {precision_score(target_test_2, pred):.4f}\n",
    "recall = {recall_score(target_test_2, pred):.4f}''')"
   ]
  },
  {
   "cell_type": "code",
   "execution_count": 18,
   "metadata": {},
   "outputs": [
    {
     "name": "stdout",
     "output_type": "stream",
     "text": [
      "Для модели случайного леса:\n",
      "accuracy = 0.7424\n",
      "precision = 0.8940\n",
      "recall = 0.5488\n"
     ]
    }
   ],
   "source": [
    "rand_forest_2 = RandomForestClassifier(max_depth=4, n_estimators=5, random_state=RANDOM_STATE)\n",
    "rand_forest_2.fit(features_train_2, target_train_2)\n",
    "pred = rand_forest_2.predict(features_test_2)\n",
    "print(f'''Для модели случайного леса:\n",
    "accuracy = {rand_forest_2.score(features_test_2, target_test_2):.4f}\n",
    "precision = {precision_score(target_test_2, pred):.4f}\n",
    "recall = {recall_score(target_test_2, pred):.4f}''')"
   ]
  },
  {
   "cell_type": "code",
   "execution_count": 19,
   "metadata": {},
   "outputs": [
    {
     "name": "stdout",
     "output_type": "stream",
     "text": [
      "Для модели логистической регрессии дерева:\n",
      "accuracy = 0.4665\n",
      "precision = 0.4775\n",
      "recall = 0.7317\n"
     ]
    }
   ],
   "source": [
    "log_regression_2 = LogisticRegression(max_iter=200, solver='lbfgs', random_state=RANDOM_STATE)\n",
    "log_regression_2.fit(features_train_2, target_train_2)\n",
    "pred = log_regression_2.predict(features_test_2)\n",
    "print(f'''Для модели логистической регрессии дерева:\n",
    "accuracy = {log_regression_2.score(features_test_2, target_test_2):.4f}\n",
    "precision = {precision_score(target_test_2, pred):.4f}\n",
    "recall = {recall_score(target_test_2, pred):.4f}''')"
   ]
  },
  {
   "cell_type": "markdown",
   "metadata": {},
   "source": [
    "**Вывод:** Для моделей решающее дерево и случайный лес метра `accuracy` упала (с `0.8040` до `0.6795`) и (с `0.8320` до `0.7099`) соответственно. Метрики `precision` и `recall` остались примерно на том же уровне.  \n",
    "Скорее всего, это связано с тем, что данных в датасете стало меньше, но они стали равнораспределенными.  \n",
    "  \n",
    "Для модели логистической регрессии, обученной на равнораспределенной выборке, все метрики значительно изменились и стали равняться: `accuracy = 0.4807`, `precision = 0.4864`, `recall = 0.7276`. С учетом того, что в выборке объектов каждого класса равное количество, то значение метрик говорит нам о том, что модель работает на уровне случайности, что евляется неадекватной работой и не может быть использовано."
   ]
  },
  {
   "cell_type": "markdown",
   "metadata": {},
   "source": [
    "<div class=\"alert alert-warning\">\n",
    "<h2>Комментарий ревьюера<a class=\"tocSkip\"></a></h2>\n",
    "    \n",
    "**Есть совет** ⚠️: если интересно, то еще можно узнать, как именно тот или иной признак влияет на обучение модели, для этого есть **feature_importances**, то есть важность признаков для решения модели. Это позволит убедиться, что модель обучилась корректно, сравнив результаты исследовательского анализа с результатами модели. А если важность очень мала, то такие признаки можно даже удалить, метрики, вероятно, поменяются незначительно\n",
    "\n",
    "Подробнее про **feature_importances**:\n",
    "* https://towardsdatascience.com/understanding-feature-importance-and-how-to-implement-it-in-python-ff0287b20285\n",
    "* https://medium.com/analytics-vidhya/feature-importance-explained-bfc8d874bcf\n",
    "* https://scikit-learn.org/stable/auto_examples/ensemble/plot_forest_importances.html\n",
    "* https://christophm.github.io/interpretable-ml-book/feature-importance.html<</div>"
   ]
  },
  {
   "cell_type": "code",
   "execution_count": 20,
   "metadata": {},
   "outputs": [
    {
     "data": {
      "text/plain": [
       "<AxesSubplot:title={'center':'Важность признаков в лучшей модели случайного леса'}, ylabel='Средняя важность признаков'>"
      ]
     },
     "execution_count": 20,
     "metadata": {},
     "output_type": "execute_result"
    },
    {
     "data": {
      "image/png": "[encoded data removed]",
      "text/plain": [
       "<Figure size 432x288 with 1 Axes>"
      ]
     },
     "metadata": {
      "needs_background": "light"
     },
     "output_type": "display_data"
    }
   ],
   "source": [
    "importances_features = best_model_rand_forest.feature_importances_\n",
    "std = np.std([tree.feature_importances_ for tree in best_model_rand_forest.estimators_], axis=0)\n",
    "forest_importances = pd.Series(importances_features, index=features.columns)\n",
    "forest_importances.plot.bar(\n",
    "    yerr=std,\n",
    "    grid=True,\n",
    "    title='Важность признаков в лучшей модели случайного леса',\n",
    "    ylabel='Средняя важность признаков'\n",
    ")"
   ]
  },
  {
   "cell_type": "markdown",
   "metadata": {},
   "source": [
    "В итоге получилось, что для лучше модели случайного дерева самым важным оказался признак mb_used (израсходованный интернет-трафик в Мб). Важность данного признака почти 0.35, тогда как остальные признаки имею важность не больше 0.25. Данный факт не противоречит логике. Сейчас люди все больше общаются именно в интернете (сообщения в месседжерах, интернет-звонки, использование видеохостингов и т.д.), поэтому для многих пользователей самой важной частью тарифа является именно пакет интернет трафика."
   ]
  },
  {
   "cell_type": "markdown",
   "metadata": {},
   "source": [
    "<div class=\"alert alert-info\">\n",
    "    <b>Комментарий студента:</b> Построил карту влияния признаков.\n",
    "</div>"
   ]
  },
  {
   "cell_type": "markdown",
   "metadata": {},
   "source": [
    "<div class=\"alert alert-success\">\n",
    "<h2>Комментарий ревьюера v2<a class=\"tocSkip\"></a></h2>\n",
    "    \n",
    "**Отлично!** ✔️: круто, что получилось разобраться с важностью признаков!</div>"
   ]
  },
  {
   "cell_type": "markdown",
   "metadata": {},
   "source": [
    "## Чек-лист готовности проекта"
   ]
  },
  {
   "cell_type": "markdown",
   "metadata": {},
   "source": [
    "Поставьте 'x' в выполненных пунктах. Далее нажмите Shift+Enter."
   ]
  },
  {
   "cell_type": "markdown",
   "metadata": {},
   "source": [
    "- [x] Jupyter Notebook открыт\n",
    "- [x] Весь код исполняется без ошибок\n",
    "- [x] Ячейки с кодом расположены в порядке исполнения\n",
    "- [x] Выполнено задание 1: данные загружены и изучены\n",
    "- [x] Выполнено задание 2: данные разбиты на три выборки\n",
    "- [x] Выполнено задание 3: проведено исследование моделей\n",
    "    - [x] Рассмотрено больше одной модели\n",
    "    - [x] Рассмотрено хотя бы 3 значения гипепараметров для какой-нибудь модели\n",
    "    - [x] Написаны выводы по результатам исследования\n",
    "- [x] Выполнено задание 3: Проведено тестирование\n",
    "- [x] Удалось достичь accuracy не меньше 0.75\n"
   ]
  },
  {
   "cell_type": "markdown",
   "metadata": {},
   "source": [
    "**Общий вывод:** В результате работы была исследована работа трех моделей. Модель решающее дерево показывает наилучшие результаты, когда максимальная глубина дерева не превышает 3. Модель случайный лес показывает наилучшие результаты, когда максимальная глубина деревьев не превышает 4, и имеется 5 оценщиков. При этом входе исследования выяснилось, что модель логистической регрессии показывает на данном наборе данных не адекватные результаты и не годится для использования. По всей видимости данные нельзя хорошо классифицировать линейной моделью.  \n",
    "Наилучшие реззультаты показала модель случайного леса. Метрики для данной модели, посчитанные на тестовой выборке: `accuracy = 0.8072`, `precision = 0.7712`, `recall = 0.4840`. Однако модель решающего дерева лишь немного уступила в качестве моделе случайного леса. Метрики для модели решающее дерево, посчитанные на тестовой выборке: `accuracy = 0.8056`, `precision = 0.7739`, `recall = 0.4734`. Однако, если учитывать, что модель решающего дерева работает значительно быстрее модели случайного леса, то для использования на практике стоит выбрать модель решающего дерева с максимальной глубиной не больше 3."
   ]
  },
  {
   "cell_type": "markdown",
   "metadata": {},
   "source": [
    "<div style=\"padding: 20px 25px; border: 2px #6495ed solid\">\n",
    "    \n",
    "<h2 style=\"color: #87187D\">Итоговый комментарий ревьюера<a class=\"tocSkip\"></a></h2>\n",
    "\n",
    "Чистый и структурированный проект, спасибо, такие всегда приятно проверять!\n",
    "\n",
    "Осталось убрать сравнение моделей на тестовой выборке, и я смогу принять твою работу\n",
    "\n",
    "Остальные комментарии можно найти в проекте. Готов ответить на любые вопросы :)\n",
    "\n",
    "<b>Жду доработанный проект на повторное ревью! Удачи!</b>\n",
    "        \n",
    "</div>"
   ]
  },
  {
   "cell_type": "markdown",
   "metadata": {},
   "source": [
    "<div class=\"alert alert-info\">\n",
    "    <b>Комментарий студента:</b> Спасибо большое советы и ссылки. Было очень интересно и познавательно\n",
    "</div>"
   ]
  },
  {
   "cell_type": "markdown",
   "metadata": {},
   "source": [
    "<div style=\"padding: 20px 25px; border: 2px #6495ed solid\">\n",
    "    \n",
    "<h2 style=\"color: #87187D\">Итоговый комментарий ревьюера v2<a class=\"tocSkip\"></a></h2>\n",
    "\n",
    "То, что нужно, молодец! Рад, что мои советы оказались полезны :)\n",
    "\n",
    "Критичное замечание исправлено, и теперь я могу принять твой проект\n",
    "\n",
    "<b>Успехов в обучении!</b>\n",
    "        \n",
    "</div>"
   ]
  },
  {
   "cell_type": "code",
   "execution_count": null,
   "metadata": {},
   "outputs": [],
   "source": []
  }
 ],
 "metadata": {
  "ExecuteTimeLog": [
   {
    "duration": 1170,
    "start_time": "2023-06-03T21:54:26.394Z"
   },
   {
    "duration": 131,
    "start_time": "2023-06-03T21:55:06.173Z"
   },
   {
    "duration": 49,
    "start_time": "2023-06-03T21:55:29.389Z"
   },
   {
    "duration": 4,
    "start_time": "2023-06-03T21:56:48.718Z"
   },
   {
    "duration": 12,
    "start_time": "2023-06-03T21:56:58.628Z"
   },
   {
    "duration": 108,
    "start_time": "2023-06-03T21:59:35.067Z"
   },
   {
    "duration": 4,
    "start_time": "2023-06-03T22:00:35.990Z"
   },
   {
    "duration": 19,
    "start_time": "2023-06-03T22:01:12.543Z"
   },
   {
    "duration": 14,
    "start_time": "2023-06-03T22:01:54.532Z"
   },
   {
    "duration": 5,
    "start_time": "2023-06-03T22:02:32.330Z"
   },
   {
    "duration": 6,
    "start_time": "2023-06-03T22:02:58.648Z"
   },
   {
    "duration": 17,
    "start_time": "2023-06-03T22:02:58.656Z"
   },
   {
    "duration": 5,
    "start_time": "2023-06-03T22:03:00.956Z"
   },
   {
    "duration": 12,
    "start_time": "2023-06-03T22:03:01.335Z"
   },
   {
    "duration": 5,
    "start_time": "2023-06-03T22:04:13.118Z"
   },
   {
    "duration": 6,
    "start_time": "2023-06-03T22:05:05.191Z"
   },
   {
    "duration": 5,
    "start_time": "2023-06-03T22:05:07.316Z"
   },
   {
    "duration": 5,
    "start_time": "2023-06-03T22:05:20.065Z"
   },
   {
    "duration": 5,
    "start_time": "2023-06-03T22:05:20.715Z"
   },
   {
    "duration": 124,
    "start_time": "2023-06-03T22:06:07.304Z"
   },
   {
    "duration": 4,
    "start_time": "2023-06-03T22:06:11.564Z"
   },
   {
    "duration": 7,
    "start_time": "2023-06-04T09:24:05.348Z"
   },
   {
    "duration": 41,
    "start_time": "2023-06-04T09:24:11.006Z"
   },
   {
    "duration": 1094,
    "start_time": "2023-06-04T09:24:18.354Z"
   },
   {
    "duration": 86,
    "start_time": "2023-06-04T09:24:19.450Z"
   },
   {
    "duration": 2,
    "start_time": "2023-06-04T09:24:19.538Z"
   },
   {
    "duration": 17,
    "start_time": "2023-06-04T09:24:19.541Z"
   },
   {
    "duration": 11,
    "start_time": "2023-06-04T09:24:19.560Z"
   },
   {
    "duration": 12,
    "start_time": "2023-06-04T09:24:19.572Z"
   },
   {
    "duration": 84,
    "start_time": "2023-06-04T09:30:38.434Z"
   },
   {
    "duration": 9,
    "start_time": "2023-06-04T09:30:48.086Z"
   },
   {
    "duration": 3,
    "start_time": "2023-06-04T09:31:18.858Z"
   },
   {
    "duration": 63,
    "start_time": "2023-06-04T09:31:18.864Z"
   },
   {
    "duration": 3,
    "start_time": "2023-06-04T09:31:18.929Z"
   },
   {
    "duration": 26,
    "start_time": "2023-06-04T09:31:18.933Z"
   },
   {
    "duration": 21,
    "start_time": "2023-06-04T09:31:18.961Z"
   },
   {
    "duration": 36,
    "start_time": "2023-06-04T09:31:18.984Z"
   },
   {
    "duration": 20,
    "start_time": "2023-06-04T09:31:21.724Z"
   },
   {
    "duration": 22,
    "start_time": "2023-06-04T09:31:36.725Z"
   },
   {
    "duration": 9,
    "start_time": "2023-06-04T09:35:15.264Z"
   },
   {
    "duration": 24,
    "start_time": "2023-06-04T09:35:24.254Z"
   },
   {
    "duration": 23,
    "start_time": "2023-06-04T09:36:13.193Z"
   },
   {
    "duration": 114,
    "start_time": "2023-06-04T09:37:55.767Z"
   },
   {
    "duration": 23,
    "start_time": "2023-06-04T09:38:03.283Z"
   },
   {
    "duration": 37,
    "start_time": "2023-06-04T09:38:09.918Z"
   },
   {
    "duration": 63,
    "start_time": "2023-06-04T09:38:16.514Z"
   },
   {
    "duration": 35,
    "start_time": "2023-06-04T09:38:20.133Z"
   },
   {
    "duration": 14,
    "start_time": "2023-06-04T09:38:23.358Z"
   },
   {
    "duration": 30,
    "start_time": "2023-06-04T09:38:27.120Z"
   },
   {
    "duration": 25,
    "start_time": "2023-06-04T09:38:55.353Z"
   },
   {
    "duration": 24,
    "start_time": "2023-06-04T09:39:00.398Z"
   },
   {
    "duration": 23,
    "start_time": "2023-06-04T09:39:05.897Z"
   },
   {
    "duration": 39,
    "start_time": "2023-06-04T09:40:56.081Z"
   },
   {
    "duration": 28,
    "start_time": "2023-06-04T09:41:08.861Z"
   },
   {
    "duration": 1884,
    "start_time": "2023-06-04T09:45:28.880Z"
   },
   {
    "duration": 1993,
    "start_time": "2023-06-04T09:45:58.194Z"
   },
   {
    "duration": 1992,
    "start_time": "2023-06-04T09:46:04.694Z"
   },
   {
    "duration": 1906,
    "start_time": "2023-06-04T09:47:15.621Z"
   },
   {
    "duration": 1756,
    "start_time": "2023-06-04T09:48:22.172Z"
   },
   {
    "duration": 1825,
    "start_time": "2023-06-04T09:49:22.098Z"
   },
   {
    "duration": 1811,
    "start_time": "2023-06-04T09:49:32.789Z"
   },
   {
    "duration": 1809,
    "start_time": "2023-06-04T09:49:40.813Z"
   },
   {
    "duration": 1841,
    "start_time": "2023-06-04T09:49:45.987Z"
   },
   {
    "duration": 10097,
    "start_time": "2023-06-04T09:51:43.999Z"
   },
   {
    "duration": 74324,
    "start_time": "2023-06-04T09:52:13.071Z"
   },
   {
    "duration": 1709,
    "start_time": "2023-06-04T09:54:45.520Z"
   },
   {
    "duration": 1756,
    "start_time": "2023-06-04T09:55:26.184Z"
   },
   {
    "duration": 1796,
    "start_time": "2023-06-04T09:55:32.447Z"
   },
   {
    "duration": 35,
    "start_time": "2023-06-04T10:00:54.943Z"
   },
   {
    "duration": 27,
    "start_time": "2023-06-04T10:01:05.360Z"
   },
   {
    "duration": 23,
    "start_time": "2023-06-04T10:01:13.268Z"
   },
   {
    "duration": 27,
    "start_time": "2023-06-04T10:01:33.410Z"
   },
   {
    "duration": 15,
    "start_time": "2023-06-04T10:01:38.605Z"
   },
   {
    "duration": 26,
    "start_time": "2023-06-04T10:01:54.868Z"
   },
   {
    "duration": 26,
    "start_time": "2023-06-04T10:01:59.407Z"
   },
   {
    "duration": 25,
    "start_time": "2023-06-04T10:02:02.133Z"
   },
   {
    "duration": 12,
    "start_time": "2023-06-04T10:02:06.881Z"
   },
   {
    "duration": 18,
    "start_time": "2023-06-04T10:02:14.969Z"
   },
   {
    "duration": 21,
    "start_time": "2023-06-04T10:02:17.954Z"
   },
   {
    "duration": 23,
    "start_time": "2023-06-04T10:02:22.806Z"
   },
   {
    "duration": 25,
    "start_time": "2023-06-04T10:02:42.644Z"
   },
   {
    "duration": 40,
    "start_time": "2023-06-04T10:02:47.057Z"
   },
   {
    "duration": 35,
    "start_time": "2023-06-04T10:02:49.682Z"
   },
   {
    "duration": 38,
    "start_time": "2023-06-04T10:02:52.195Z"
   },
   {
    "duration": 26,
    "start_time": "2023-06-04T10:02:54.494Z"
   },
   {
    "duration": 25,
    "start_time": "2023-06-04T10:03:01.246Z"
   },
   {
    "duration": 38,
    "start_time": "2023-06-04T10:03:23.058Z"
   },
   {
    "duration": 28,
    "start_time": "2023-06-04T11:27:29.565Z"
   },
   {
    "duration": 27,
    "start_time": "2023-06-04T11:27:49.554Z"
   },
   {
    "duration": 24,
    "start_time": "2023-06-04T11:27:54.616Z"
   },
   {
    "duration": 26,
    "start_time": "2023-06-04T11:27:59.890Z"
   },
   {
    "duration": 33,
    "start_time": "2023-06-04T11:28:02.415Z"
   },
   {
    "duration": 30,
    "start_time": "2023-06-04T11:30:01.844Z"
   },
   {
    "duration": 165,
    "start_time": "2023-06-04T11:31:38.234Z"
   },
   {
    "duration": 16,
    "start_time": "2023-06-04T11:32:11.985Z"
   },
   {
    "duration": 114,
    "start_time": "2023-06-04T11:32:21.251Z"
   },
   {
    "duration": 13,
    "start_time": "2023-06-04T11:32:35.148Z"
   },
   {
    "duration": 74,
    "start_time": "2023-06-04T11:33:04.363Z"
   },
   {
    "duration": 55,
    "start_time": "2023-06-04T11:33:15.787Z"
   },
   {
    "duration": 45,
    "start_time": "2023-06-04T11:33:21.049Z"
   },
   {
    "duration": 237,
    "start_time": "2023-06-04T12:30:39.110Z"
   },
   {
    "duration": 211,
    "start_time": "2023-06-04T12:30:57.204Z"
   },
   {
    "duration": 173,
    "start_time": "2023-06-04T12:31:03.289Z"
   },
   {
    "duration": 503,
    "start_time": "2023-06-04T12:31:06.814Z"
   },
   {
    "duration": 173,
    "start_time": "2023-06-04T12:32:24.315Z"
   },
   {
    "duration": 106,
    "start_time": "2023-06-04T12:32:28.703Z"
   },
   {
    "duration": 212,
    "start_time": "2023-06-04T12:32:56.241Z"
   },
   {
    "duration": 1472,
    "start_time": "2023-06-04T12:34:41.118Z"
   },
   {
    "duration": 1410,
    "start_time": "2023-06-04T12:34:56.408Z"
   },
   {
    "duration": 25,
    "start_time": "2023-06-04T12:36:51.858Z"
   },
   {
    "duration": 15,
    "start_time": "2023-06-04T12:36:57.395Z"
   },
   {
    "duration": 134,
    "start_time": "2023-06-04T12:37:07.022Z"
   },
   {
    "duration": 60,
    "start_time": "2023-06-04T12:37:15.384Z"
   },
   {
    "duration": 53,
    "start_time": "2023-06-04T12:37:20.637Z"
   },
   {
    "duration": 1696,
    "start_time": "2023-06-04T12:40:05.826Z"
   },
   {
    "duration": 1619,
    "start_time": "2023-06-04T12:40:12.877Z"
   },
   {
    "duration": 247,
    "start_time": "2023-06-04T12:40:22.674Z"
   },
   {
    "duration": 27,
    "start_time": "2023-06-04T12:40:51.973Z"
   },
   {
    "duration": 4,
    "start_time": "2023-06-04T12:41:44.454Z"
   },
   {
    "duration": 48,
    "start_time": "2023-06-04T12:41:44.461Z"
   },
   {
    "duration": 3,
    "start_time": "2023-06-04T12:41:44.511Z"
   },
   {
    "duration": 29,
    "start_time": "2023-06-04T12:41:44.515Z"
   },
   {
    "duration": 6,
    "start_time": "2023-06-04T12:41:44.548Z"
   },
   {
    "duration": 13,
    "start_time": "2023-06-04T12:41:44.557Z"
   },
   {
    "duration": 45,
    "start_time": "2023-06-04T12:41:44.571Z"
   },
   {
    "duration": 0,
    "start_time": "2023-06-04T12:41:44.617Z"
   },
   {
    "duration": 36,
    "start_time": "2023-06-04T12:43:22.917Z"
   },
   {
    "duration": 22,
    "start_time": "2023-06-04T12:44:26.792Z"
   },
   {
    "duration": 23,
    "start_time": "2023-06-04T12:44:35.301Z"
   },
   {
    "duration": 112,
    "start_time": "2023-06-04T12:46:17.876Z"
   },
   {
    "duration": 2107,
    "start_time": "2023-06-04T12:46:25.869Z"
   },
   {
    "duration": 7574,
    "start_time": "2023-06-04T12:47:09.207Z"
   },
   {
    "duration": 2047,
    "start_time": "2023-06-04T12:47:26.083Z"
   },
   {
    "duration": 6457,
    "start_time": "2023-06-04T12:47:36.247Z"
   },
   {
    "duration": 2319,
    "start_time": "2023-06-04T12:48:00.539Z"
   },
   {
    "duration": 5664,
    "start_time": "2023-06-04T12:48:08.876Z"
   },
   {
    "duration": 2112,
    "start_time": "2023-06-04T12:48:22.775Z"
   },
   {
    "duration": 6,
    "start_time": "2023-06-04T12:51:07.552Z"
   },
   {
    "duration": 24,
    "start_time": "2023-06-04T12:51:23.849Z"
   },
   {
    "duration": 5,
    "start_time": "2023-06-04T12:53:33.003Z"
   },
   {
    "duration": 6,
    "start_time": "2023-06-04T12:54:14.977Z"
   },
   {
    "duration": 9,
    "start_time": "2023-06-04T12:54:43.463Z"
   },
   {
    "duration": 6,
    "start_time": "2023-06-04T12:55:23.358Z"
   },
   {
    "duration": 7,
    "start_time": "2023-06-04T12:59:03.449Z"
   },
   {
    "duration": 55,
    "start_time": "2023-06-04T13:05:22.453Z"
   },
   {
    "duration": 27,
    "start_time": "2023-06-04T13:05:27.153Z"
   },
   {
    "duration": 22,
    "start_time": "2023-06-04T13:05:35.858Z"
   },
   {
    "duration": 5,
    "start_time": "2023-06-04T13:11:07.847Z"
   },
   {
    "duration": 11,
    "start_time": "2023-06-04T13:12:27.527Z"
   },
   {
    "duration": 10,
    "start_time": "2023-06-04T13:12:45.319Z"
   },
   {
    "duration": 11,
    "start_time": "2023-06-04T13:13:05.150Z"
   },
   {
    "duration": 12,
    "start_time": "2023-06-04T13:16:24.195Z"
   },
   {
    "duration": 10,
    "start_time": "2023-06-04T13:17:15.009Z"
   },
   {
    "duration": 10,
    "start_time": "2023-06-04T13:20:27.288Z"
   },
   {
    "duration": 18,
    "start_time": "2023-06-04T13:23:03.202Z"
   },
   {
    "duration": 15,
    "start_time": "2023-06-04T13:23:55.600Z"
   },
   {
    "duration": 13,
    "start_time": "2023-06-04T13:24:02.045Z"
   },
   {
    "duration": 16,
    "start_time": "2023-06-04T13:24:46.594Z"
   },
   {
    "duration": 27,
    "start_time": "2023-06-04T13:26:24.263Z"
   },
   {
    "duration": 15,
    "start_time": "2023-06-04T13:26:43.653Z"
   },
   {
    "duration": 20,
    "start_time": "2023-06-04T13:26:58.212Z"
   },
   {
    "duration": 40,
    "start_time": "2023-06-04T13:27:35.725Z"
   },
   {
    "duration": 11,
    "start_time": "2023-06-04T13:27:51.018Z"
   },
   {
    "duration": 6,
    "start_time": "2023-06-04T13:29:45.218Z"
   },
   {
    "duration": 28,
    "start_time": "2023-06-04T13:33:15.778Z"
   },
   {
    "duration": 10,
    "start_time": "2023-06-04T14:19:31.665Z"
   },
   {
    "duration": 7,
    "start_time": "2023-06-04T14:19:57.215Z"
   },
   {
    "duration": 9,
    "start_time": "2023-06-04T14:20:08.311Z"
   },
   {
    "duration": 10,
    "start_time": "2023-06-04T14:20:21.641Z"
   },
   {
    "duration": 18,
    "start_time": "2023-06-04T14:20:34.040Z"
   },
   {
    "duration": 9,
    "start_time": "2023-06-04T14:20:44.266Z"
   },
   {
    "duration": 13,
    "start_time": "2023-06-04T14:20:44.543Z"
   },
   {
    "duration": 10,
    "start_time": "2023-06-04T14:22:53.008Z"
   },
   {
    "duration": 2319,
    "start_time": "2023-06-04T14:23:55.210Z"
   },
   {
    "duration": 33,
    "start_time": "2023-06-04T14:25:05.787Z"
   },
   {
    "duration": 1071,
    "start_time": "2023-06-04T14:25:07.374Z"
   },
   {
    "duration": 16,
    "start_time": "2023-06-04T14:25:34.152Z"
   },
   {
    "duration": 7,
    "start_time": "2023-06-04T14:32:27.312Z"
   },
   {
    "duration": 9,
    "start_time": "2023-06-04T14:32:27.939Z"
   },
   {
    "duration": 8,
    "start_time": "2023-06-04T14:32:31.079Z"
   },
   {
    "duration": 1950,
    "start_time": "2023-06-04T14:34:30.452Z"
   },
   {
    "duration": 2017,
    "start_time": "2023-06-04T14:34:49.404Z"
   },
   {
    "duration": 1823,
    "start_time": "2023-06-04T14:37:17.840Z"
   },
   {
    "duration": 37,
    "start_time": "2023-06-04T14:37:33.508Z"
   },
   {
    "duration": 7,
    "start_time": "2023-06-04T14:45:45.967Z"
   },
   {
    "duration": 8,
    "start_time": "2023-06-04T14:50:24.184Z"
   },
   {
    "duration": 12,
    "start_time": "2023-06-04T15:26:45.078Z"
   },
   {
    "duration": 12,
    "start_time": "2023-06-04T15:26:45.586Z"
   },
   {
    "duration": 33,
    "start_time": "2023-06-04T15:26:45.867Z"
   },
   {
    "duration": 10,
    "start_time": "2023-06-04T15:29:11.908Z"
   },
   {
    "duration": 12,
    "start_time": "2023-06-04T15:31:45.907Z"
   },
   {
    "duration": 34,
    "start_time": "2023-06-04T15:31:46.247Z"
   },
   {
    "duration": 26,
    "start_time": "2023-06-04T15:38:14.853Z"
   },
   {
    "duration": 17,
    "start_time": "2023-06-04T15:38:20.362Z"
   },
   {
    "duration": 32,
    "start_time": "2023-06-04T15:38:31.916Z"
   },
   {
    "duration": 23,
    "start_time": "2023-06-04T15:38:39.153Z"
   },
   {
    "duration": 13,
    "start_time": "2023-06-04T15:38:47.893Z"
   },
   {
    "duration": 23,
    "start_time": "2023-06-04T15:39:27.516Z"
   },
   {
    "duration": 13,
    "start_time": "2023-06-04T15:42:04.285Z"
   },
   {
    "duration": 5,
    "start_time": "2023-06-04T15:42:07.696Z"
   },
   {
    "duration": 49,
    "start_time": "2023-06-04T15:42:07.954Z"
   },
   {
    "duration": 43,
    "start_time": "2023-06-04T15:43:29.313Z"
   },
   {
    "duration": 18,
    "start_time": "2023-06-04T15:44:07.999Z"
   },
   {
    "duration": 21,
    "start_time": "2023-06-04T15:44:15.080Z"
   },
   {
    "duration": 53,
    "start_time": "2023-06-04T15:44:15.602Z"
   },
   {
    "duration": 163,
    "start_time": "2023-06-04T15:45:00.607Z"
   },
   {
    "duration": 22,
    "start_time": "2023-06-04T15:45:32.578Z"
   },
   {
    "duration": 58,
    "start_time": "2023-06-04T15:45:48.721Z"
   },
   {
    "duration": 1010,
    "start_time": "2023-06-04T15:46:14.176Z"
   },
   {
    "duration": 686,
    "start_time": "2023-06-04T15:49:56.785Z"
   },
   {
    "duration": 1103,
    "start_time": "2023-06-04T15:50:02.256Z"
   },
   {
    "duration": 1418,
    "start_time": "2023-06-04T15:50:07.718Z"
   },
   {
    "duration": 1251,
    "start_time": "2023-06-04T15:50:13.681Z"
   },
   {
    "duration": 5,
    "start_time": "2023-06-04T15:52:04.040Z"
   },
   {
    "duration": 15,
    "start_time": "2023-06-04T15:52:21.174Z"
   },
   {
    "duration": 21,
    "start_time": "2023-06-04T15:52:34.750Z"
   },
   {
    "duration": 17,
    "start_time": "2023-06-04T15:52:38.665Z"
   },
   {
    "duration": 37,
    "start_time": "2023-06-04T15:52:44.902Z"
   },
   {
    "duration": 2391,
    "start_time": "2023-06-04T15:52:52.156Z"
   },
   {
    "duration": 1358,
    "start_time": "2023-06-04T16:16:05.203Z"
   },
   {
    "duration": 51,
    "start_time": "2023-06-04T16:16:06.563Z"
   },
   {
    "duration": 3,
    "start_time": "2023-06-04T16:16:06.616Z"
   },
   {
    "duration": 10,
    "start_time": "2023-06-04T16:16:06.621Z"
   },
   {
    "duration": 8,
    "start_time": "2023-06-04T16:16:06.640Z"
   },
   {
    "duration": 8,
    "start_time": "2023-06-04T16:16:06.652Z"
   },
   {
    "duration": 25,
    "start_time": "2023-06-04T16:16:06.662Z"
   },
   {
    "duration": 2135,
    "start_time": "2023-06-04T16:16:06.688Z"
   },
   {
    "duration": 40,
    "start_time": "2023-06-04T16:16:08.832Z"
   },
   {
    "duration": 5,
    "start_time": "2023-06-04T16:16:08.876Z"
   },
   {
    "duration": 13,
    "start_time": "2023-06-04T16:16:08.883Z"
   },
   {
    "duration": 6,
    "start_time": "2023-06-04T16:16:08.898Z"
   },
   {
    "duration": 28,
    "start_time": "2023-06-04T16:16:08.905Z"
   },
   {
    "duration": 22,
    "start_time": "2023-06-04T16:16:08.936Z"
   },
   {
    "duration": 17,
    "start_time": "2023-06-04T16:16:08.960Z"
   },
   {
    "duration": 8,
    "start_time": "2023-06-04T16:16:08.979Z"
   },
   {
    "duration": 14,
    "start_time": "2023-06-04T16:16:08.989Z"
   },
   {
    "duration": 139,
    "start_time": "2023-06-04T16:16:09.005Z"
   },
   {
    "duration": 0,
    "start_time": "2023-06-04T16:16:09.146Z"
   },
   {
    "duration": 0,
    "start_time": "2023-06-04T16:16:09.147Z"
   },
   {
    "duration": 0,
    "start_time": "2023-06-04T16:16:09.147Z"
   },
   {
    "duration": 1098,
    "start_time": "2023-06-04T16:17:41.861Z"
   },
   {
    "duration": 49,
    "start_time": "2023-06-04T16:17:42.961Z"
   },
   {
    "duration": 3,
    "start_time": "2023-06-04T16:17:43.011Z"
   },
   {
    "duration": 14,
    "start_time": "2023-06-04T16:17:43.015Z"
   },
   {
    "duration": 8,
    "start_time": "2023-06-04T16:17:43.033Z"
   },
   {
    "duration": 5,
    "start_time": "2023-06-04T16:17:43.042Z"
   },
   {
    "duration": 24,
    "start_time": "2023-06-04T16:17:43.054Z"
   },
   {
    "duration": 2082,
    "start_time": "2023-06-04T16:17:43.079Z"
   },
   {
    "duration": 22,
    "start_time": "2023-06-04T16:17:45.163Z"
   },
   {
    "duration": 6,
    "start_time": "2023-06-04T16:17:45.186Z"
   },
   {
    "duration": 16,
    "start_time": "2023-06-04T16:17:45.193Z"
   },
   {
    "duration": 40,
    "start_time": "2023-06-04T16:17:45.210Z"
   },
   {
    "duration": 10,
    "start_time": "2023-06-04T16:17:45.254Z"
   },
   {
    "duration": 12,
    "start_time": "2023-06-04T16:17:45.267Z"
   },
   {
    "duration": 21,
    "start_time": "2023-06-04T16:17:45.281Z"
   },
   {
    "duration": 8,
    "start_time": "2023-06-04T16:17:45.304Z"
   },
   {
    "duration": 37,
    "start_time": "2023-06-04T16:17:45.314Z"
   },
   {
    "duration": 5,
    "start_time": "2023-06-04T16:17:45.356Z"
   },
   {
    "duration": 16,
    "start_time": "2023-06-04T16:17:45.362Z"
   },
   {
    "duration": 22,
    "start_time": "2023-06-04T16:17:45.380Z"
   },
   {
    "duration": 47,
    "start_time": "2023-06-04T16:17:45.403Z"
   },
   {
    "duration": 250,
    "start_time": "2023-06-04T16:21:04.762Z"
   },
   {
    "duration": 22,
    "start_time": "2023-06-04T16:21:15.046Z"
   },
   {
    "duration": 79,
    "start_time": "2023-06-04T16:21:28.690Z"
   },
   {
    "duration": 5,
    "start_time": "2023-06-04T16:21:38.960Z"
   },
   {
    "duration": 65,
    "start_time": "2023-06-04T16:21:38.968Z"
   },
   {
    "duration": 6,
    "start_time": "2023-06-04T16:21:39.035Z"
   },
   {
    "duration": 62,
    "start_time": "2023-06-04T16:21:41.579Z"
   },
   {
    "duration": 7,
    "start_time": "2023-06-04T16:23:03.139Z"
   },
   {
    "duration": 4,
    "start_time": "2023-06-04T16:23:08.737Z"
   },
   {
    "duration": 56,
    "start_time": "2023-06-04T16:23:08.744Z"
   },
   {
    "duration": 3,
    "start_time": "2023-06-04T16:23:08.803Z"
   },
   {
    "duration": 34,
    "start_time": "2023-06-04T16:23:48.404Z"
   },
   {
    "duration": 16,
    "start_time": "2023-06-04T16:26:37.026Z"
   },
   {
    "duration": 3,
    "start_time": "2023-06-04T16:26:41.218Z"
   },
   {
    "duration": 487,
    "start_time": "2023-06-04T16:26:41.450Z"
   },
   {
    "duration": 7,
    "start_time": "2023-06-04T16:27:28.918Z"
   },
   {
    "duration": 4,
    "start_time": "2023-06-04T16:27:34.167Z"
   },
   {
    "duration": 65,
    "start_time": "2023-06-04T16:27:34.173Z"
   },
   {
    "duration": 8,
    "start_time": "2023-06-04T16:27:34.246Z"
   },
   {
    "duration": 3,
    "start_time": "2023-06-04T16:27:34.259Z"
   },
   {
    "duration": 18,
    "start_time": "2023-06-04T16:27:34.265Z"
   },
   {
    "duration": 11,
    "start_time": "2023-06-04T16:27:35.812Z"
   },
   {
    "duration": 5,
    "start_time": "2023-06-04T16:27:36.270Z"
   },
   {
    "duration": 6,
    "start_time": "2023-06-04T16:27:38.358Z"
   },
   {
    "duration": 39,
    "start_time": "2023-06-04T16:27:39.581Z"
   },
   {
    "duration": 2225,
    "start_time": "2023-06-04T16:27:43.649Z"
   },
   {
    "duration": 28,
    "start_time": "2023-06-04T16:27:48.286Z"
   },
   {
    "duration": 8,
    "start_time": "2023-06-04T16:27:53.599Z"
   },
   {
    "duration": 10,
    "start_time": "2023-06-04T16:27:54.342Z"
   },
   {
    "duration": 7,
    "start_time": "2023-06-04T16:27:55.007Z"
   },
   {
    "duration": 12,
    "start_time": "2023-06-04T16:27:58.919Z"
   },
   {
    "duration": 18,
    "start_time": "2023-06-04T16:28:04.323Z"
   },
   {
    "duration": 16,
    "start_time": "2023-06-04T16:28:10.564Z"
   },
   {
    "duration": 4,
    "start_time": "2023-06-04T16:28:24.383Z"
   },
   {
    "duration": 3,
    "start_time": "2023-06-04T16:28:29.550Z"
   },
   {
    "duration": 50,
    "start_time": "2023-06-04T16:28:29.561Z"
   },
   {
    "duration": 3,
    "start_time": "2023-06-04T16:28:29.614Z"
   },
   {
    "duration": 15,
    "start_time": "2023-06-04T16:28:29.619Z"
   },
   {
    "duration": 9,
    "start_time": "2023-06-04T16:28:29.635Z"
   },
   {
    "duration": 4,
    "start_time": "2023-06-04T16:28:29.647Z"
   },
   {
    "duration": 31,
    "start_time": "2023-06-04T16:28:29.655Z"
   },
   {
    "duration": 2229,
    "start_time": "2023-06-04T16:28:29.688Z"
   },
   {
    "duration": 33,
    "start_time": "2023-06-04T16:28:31.920Z"
   },
   {
    "duration": 13,
    "start_time": "2023-06-04T16:28:31.955Z"
   },
   {
    "duration": 25,
    "start_time": "2023-06-04T16:28:31.970Z"
   },
   {
    "duration": 34,
    "start_time": "2023-06-04T16:28:31.997Z"
   },
   {
    "duration": 19,
    "start_time": "2023-06-04T16:28:32.033Z"
   },
   {
    "duration": 21,
    "start_time": "2023-06-04T16:28:32.057Z"
   },
   {
    "duration": 16,
    "start_time": "2023-06-04T16:28:32.081Z"
   },
   {
    "duration": 13,
    "start_time": "2023-06-04T16:28:32.099Z"
   },
   {
    "duration": 21,
    "start_time": "2023-06-04T16:28:32.114Z"
   },
   {
    "duration": 8,
    "start_time": "2023-06-04T16:28:32.137Z"
   },
   {
    "duration": 28,
    "start_time": "2023-06-04T16:28:32.148Z"
   },
   {
    "duration": 57,
    "start_time": "2023-06-04T16:28:32.178Z"
   },
   {
    "duration": 38,
    "start_time": "2023-06-04T16:28:32.238Z"
   },
   {
    "duration": 33,
    "start_time": "2023-06-04T16:34:51.345Z"
   },
   {
    "duration": 41,
    "start_time": "2023-06-04T16:34:51.811Z"
   },
   {
    "duration": 23,
    "start_time": "2023-06-04T16:36:53.189Z"
   },
   {
    "duration": 37,
    "start_time": "2023-06-04T16:43:26.398Z"
   },
   {
    "duration": 18,
    "start_time": "2023-06-04T16:43:33.376Z"
   },
   {
    "duration": 8,
    "start_time": "2023-06-04T16:43:52.291Z"
   },
   {
    "duration": 6,
    "start_time": "2023-06-04T16:43:57.776Z"
   },
   {
    "duration": 1551,
    "start_time": "2023-06-04T16:49:14.347Z"
   },
   {
    "duration": 80,
    "start_time": "2023-06-04T16:49:15.900Z"
   },
   {
    "duration": 3,
    "start_time": "2023-06-04T16:49:15.984Z"
   },
   {
    "duration": 28,
    "start_time": "2023-06-04T16:49:15.990Z"
   },
   {
    "duration": 31,
    "start_time": "2023-06-04T16:49:16.019Z"
   },
   {
    "duration": 9,
    "start_time": "2023-06-04T16:49:16.051Z"
   },
   {
    "duration": 23,
    "start_time": "2023-06-04T16:49:16.073Z"
   },
   {
    "duration": 2067,
    "start_time": "2023-06-04T16:49:16.097Z"
   },
   {
    "duration": 27,
    "start_time": "2023-06-04T16:49:18.171Z"
   },
   {
    "duration": 6,
    "start_time": "2023-06-04T16:49:18.200Z"
   },
   {
    "duration": 27,
    "start_time": "2023-06-04T16:49:18.207Z"
   },
   {
    "duration": 11,
    "start_time": "2023-06-04T16:49:18.235Z"
   },
   {
    "duration": 25,
    "start_time": "2023-06-04T16:49:18.249Z"
   },
   {
    "duration": 9,
    "start_time": "2023-06-04T16:49:18.275Z"
   },
   {
    "duration": 17,
    "start_time": "2023-06-04T16:49:18.285Z"
   },
   {
    "duration": 8,
    "start_time": "2023-06-04T16:49:18.304Z"
   },
   {
    "duration": 15,
    "start_time": "2023-06-04T16:49:18.314Z"
   },
   {
    "duration": 6,
    "start_time": "2023-06-04T16:49:18.330Z"
   },
   {
    "duration": 19,
    "start_time": "2023-06-04T16:49:18.337Z"
   },
   {
    "duration": 45,
    "start_time": "2023-06-04T16:49:18.357Z"
   },
   {
    "duration": 21,
    "start_time": "2023-06-04T16:49:18.404Z"
   },
   {
    "duration": 10,
    "start_time": "2023-06-04T16:50:04.149Z"
   },
   {
    "duration": 11,
    "start_time": "2023-06-04T16:50:20.472Z"
   },
   {
    "duration": 1215,
    "start_time": "2023-06-04T16:50:45.574Z"
   },
   {
    "duration": 65,
    "start_time": "2023-06-04T16:50:46.791Z"
   },
   {
    "duration": 3,
    "start_time": "2023-06-04T16:50:46.858Z"
   },
   {
    "duration": 15,
    "start_time": "2023-06-04T16:50:46.863Z"
   },
   {
    "duration": 6,
    "start_time": "2023-06-04T16:50:46.883Z"
   },
   {
    "duration": 6,
    "start_time": "2023-06-04T16:50:46.890Z"
   },
   {
    "duration": 31,
    "start_time": "2023-06-04T16:50:46.897Z"
   },
   {
    "duration": 2129,
    "start_time": "2023-06-04T16:50:46.932Z"
   },
   {
    "duration": 40,
    "start_time": "2023-06-04T16:50:49.063Z"
   },
   {
    "duration": 20,
    "start_time": "2023-06-04T16:50:49.105Z"
   },
   {
    "duration": 10,
    "start_time": "2023-06-04T16:50:49.127Z"
   },
   {
    "duration": 7,
    "start_time": "2023-06-04T16:50:49.139Z"
   },
   {
    "duration": 12,
    "start_time": "2023-06-04T16:50:49.150Z"
   },
   {
    "duration": 17,
    "start_time": "2023-06-04T16:50:49.164Z"
   },
   {
    "duration": 15,
    "start_time": "2023-06-04T16:50:49.183Z"
   },
   {
    "duration": 10,
    "start_time": "2023-06-04T16:50:49.199Z"
   },
   {
    "duration": 34,
    "start_time": "2023-06-04T16:50:49.210Z"
   },
   {
    "duration": 8,
    "start_time": "2023-06-04T16:50:49.247Z"
   },
   {
    "duration": 20,
    "start_time": "2023-06-04T16:50:49.257Z"
   },
   {
    "duration": 29,
    "start_time": "2023-06-04T16:50:49.279Z"
   },
   {
    "duration": 31,
    "start_time": "2023-06-04T16:50:49.310Z"
   },
   {
    "duration": 54,
    "start_time": "2023-06-05T14:42:45.717Z"
   },
   {
    "duration": 1154,
    "start_time": "2023-06-05T14:42:52.032Z"
   },
   {
    "duration": 91,
    "start_time": "2023-06-05T14:42:53.188Z"
   },
   {
    "duration": 3,
    "start_time": "2023-06-05T14:42:53.280Z"
   },
   {
    "duration": 4,
    "start_time": "2023-06-05T14:42:53.285Z"
   },
   {
    "duration": 8,
    "start_time": "2023-06-05T14:42:53.291Z"
   },
   {
    "duration": 7,
    "start_time": "2023-06-05T14:42:53.300Z"
   },
   {
    "duration": 5,
    "start_time": "2023-06-05T14:42:56.389Z"
   },
   {
    "duration": 28,
    "start_time": "2023-06-05T14:44:02.850Z"
   },
   {
    "duration": 1836,
    "start_time": "2023-06-05T14:44:06.812Z"
   },
   {
    "duration": 7309,
    "start_time": "2023-06-05T14:44:27.589Z"
   },
   {
    "duration": 11317,
    "start_time": "2023-06-05T14:44:45.812Z"
   },
   {
    "duration": 22857,
    "start_time": "2023-06-05T14:45:18.891Z"
   },
   {
    "duration": 5843,
    "start_time": "2023-06-05T14:45:54.487Z"
   },
   {
    "duration": 6033,
    "start_time": "2023-06-05T14:46:09.083Z"
   },
   {
    "duration": 11,
    "start_time": "2023-06-05T14:46:24.574Z"
   },
   {
    "duration": 7,
    "start_time": "2023-06-05T14:46:32.998Z"
   },
   {
    "duration": 33,
    "start_time": "2023-06-05T14:46:49.098Z"
   },
   {
    "duration": 6,
    "start_time": "2023-06-05T14:46:55.279Z"
   },
   {
    "duration": 70,
    "start_time": "2023-06-05T14:48:44.168Z"
   },
   {
    "duration": 6,
    "start_time": "2023-06-05T14:49:01.299Z"
   },
   {
    "duration": 12,
    "start_time": "2023-06-05T14:49:08.385Z"
   },
   {
    "duration": 6,
    "start_time": "2023-06-05T14:49:11.183Z"
   },
   {
    "duration": 45,
    "start_time": "2023-06-05T14:49:18.386Z"
   },
   {
    "duration": 3,
    "start_time": "2023-06-05T14:49:18.866Z"
   },
   {
    "duration": 4,
    "start_time": "2023-06-05T14:49:21.384Z"
   },
   {
    "duration": 6,
    "start_time": "2023-06-05T14:49:27.710Z"
   },
   {
    "duration": 6,
    "start_time": "2023-06-05T14:49:28.426Z"
   },
   {
    "duration": 27,
    "start_time": "2023-06-05T14:49:31.345Z"
   },
   {
    "duration": 5971,
    "start_time": "2023-06-05T14:49:41.824Z"
   },
   {
    "duration": 30,
    "start_time": "2023-06-05T14:50:07.328Z"
   },
   {
    "duration": 9,
    "start_time": "2023-06-05T14:53:58.545Z"
   },
   {
    "duration": 10,
    "start_time": "2023-06-05T14:56:45.213Z"
   },
   {
    "duration": 11,
    "start_time": "2023-06-05T14:56:54.323Z"
   },
   {
    "duration": 16,
    "start_time": "2023-06-05T14:57:03.195Z"
   },
   {
    "duration": 9,
    "start_time": "2023-06-05T14:57:06.504Z"
   },
   {
    "duration": 16,
    "start_time": "2023-06-05T15:11:23.432Z"
   },
   {
    "duration": 7,
    "start_time": "2023-06-05T15:11:24.861Z"
   },
   {
    "duration": 13,
    "start_time": "2023-06-05T15:11:25.083Z"
   },
   {
    "duration": 23,
    "start_time": "2023-06-05T15:11:25.310Z"
   },
   {
    "duration": 27,
    "start_time": "2023-06-05T15:11:25.545Z"
   },
   {
    "duration": 121,
    "start_time": "2023-06-05T15:13:16.440Z"
   },
   {
    "duration": 7,
    "start_time": "2023-06-05T15:13:23.649Z"
   },
   {
    "duration": 22,
    "start_time": "2023-06-05T15:13:26.349Z"
   },
   {
    "duration": 26,
    "start_time": "2023-06-05T15:13:28.633Z"
   },
   {
    "duration": 28,
    "start_time": "2023-06-05T15:13:29.890Z"
   },
   {
    "duration": 12,
    "start_time": "2023-06-05T15:21:49.977Z"
   },
   {
    "duration": 3,
    "start_time": "2023-06-05T15:22:07.534Z"
   },
   {
    "duration": 17,
    "start_time": "2023-06-05T15:22:13.279Z"
   },
   {
    "duration": 13,
    "start_time": "2023-06-05T15:22:21.004Z"
   },
   {
    "duration": 8,
    "start_time": "2023-06-05T15:22:35.020Z"
   },
   {
    "duration": 14,
    "start_time": "2023-06-05T15:22:47.330Z"
   },
   {
    "duration": 14,
    "start_time": "2023-06-05T15:23:00.307Z"
   },
   {
    "duration": 9,
    "start_time": "2023-06-05T15:23:09.745Z"
   },
   {
    "duration": 513,
    "start_time": "2023-06-05T15:23:43.022Z"
   },
   {
    "duration": 266,
    "start_time": "2023-06-05T15:27:18.818Z"
   },
   {
    "duration": 4,
    "start_time": "2023-06-05T15:27:44.235Z"
   },
   {
    "duration": 1214,
    "start_time": "2023-06-05T15:34:06.935Z"
   },
   {
    "duration": 57,
    "start_time": "2023-06-05T15:34:08.151Z"
   },
   {
    "duration": 3,
    "start_time": "2023-06-05T15:34:08.209Z"
   },
   {
    "duration": 12,
    "start_time": "2023-06-05T15:34:08.214Z"
   },
   {
    "duration": 9,
    "start_time": "2023-06-05T15:34:08.228Z"
   },
   {
    "duration": 6,
    "start_time": "2023-06-05T15:34:08.239Z"
   },
   {
    "duration": 38,
    "start_time": "2023-06-05T15:34:08.248Z"
   },
   {
    "duration": 6693,
    "start_time": "2023-06-05T15:34:08.288Z"
   },
   {
    "duration": 35,
    "start_time": "2023-06-05T15:34:14.984Z"
   },
   {
    "duration": 8,
    "start_time": "2023-06-05T15:34:15.021Z"
   },
   {
    "duration": 18,
    "start_time": "2023-06-05T15:34:15.031Z"
   },
   {
    "duration": 12,
    "start_time": "2023-06-05T15:34:15.056Z"
   },
   {
    "duration": 32,
    "start_time": "2023-06-05T15:34:15.069Z"
   },
   {
    "duration": 9,
    "start_time": "2023-06-05T15:34:15.105Z"
   },
   {
    "duration": 17,
    "start_time": "2023-06-05T15:34:15.116Z"
   },
   {
    "duration": 9,
    "start_time": "2023-06-05T15:34:15.135Z"
   },
   {
    "duration": 38,
    "start_time": "2023-06-05T15:34:15.145Z"
   },
   {
    "duration": 30,
    "start_time": "2023-06-05T15:34:15.185Z"
   },
   {
    "duration": 104,
    "start_time": "2023-06-05T15:34:15.217Z"
   },
   {
    "duration": 412,
    "start_time": "2023-06-05T15:34:15.322Z"
   }
  ],
  "kernelspec": {
   "display_name": "Python 3 (ipykernel)",
   "language": "python",
   "name": "python3"
  },
  "language_info": {
   "codemirror_mode": {
    "name": "ipython",
    "version": 3
   },
   "file_extension": ".py",
   "mimetype": "text/x-python",
   "name": "python",
   "nbconvert_exporter": "python",
   "pygments_lexer": "ipython3",
   "version": "3.9.5"
  },
  "toc": {
   "base_numbering": 1,
   "nav_menu": {},
   "number_sections": true,
   "sideBar": true,
   "skip_h1_title": true,
   "title_cell": "Table of Contents",
   "title_sidebar": "Contents",
   "toc_cell": false,
   "toc_position": {},
   "toc_section_display": true,
   "toc_window_display": false
  }
 },
 "nbformat": 4,
 "nbformat_minor": 2
}
