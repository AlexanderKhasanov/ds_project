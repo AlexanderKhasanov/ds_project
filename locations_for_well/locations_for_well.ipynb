{
 "cells": [
  {
   "cell_type": "markdown",
   "metadata": {},
   "source": [
    "Привет! меня зовут Люман Аблаев. Сегодня я проверю твой проект.\n",
    "<br> Дальнейшее общение будет происходить на \"ты\" если это не вызывает никаких проблем.\n",
    "<br> Желательно реагировать на красные комментарии ('исправил', 'не понятно как исправить ошибку', ...)\n",
    "<br> Пожалуйста, не удаляй комментарии ревьюера, так как они повышают качество повторного ревью.\n",
    "\n",
    "Комментарии будут в <font color='green'>зеленой</font>, <font color='blue'>синей</font> или <font color='red'>красной</font> рамках:\n",
    "\n",
    "\n",
    "<div class=\"alert alert-block alert-success\">\n",
    "<b>Успех:</b> Если все сделано отлично\n",
    "</div>\n",
    "\n",
    "<div class=\"alert alert-block alert-info\">\n",
    "<b>Совет: </b> Если можно немного улучшить\n",
    "</div>\n",
    "\n",
    "<div class=\"alert alert-block alert-danger\">\n",
    "<b>Ошибка:</b> Если требуются исправления. Работа не может быть принята с красными комментариями.\n",
    "</div>\n",
    "\n",
    "-------------------\n",
    "\n",
    "Будет очень хорошо, если ты будешь помечать свои действия следующим образом:\n",
    "<div class=\"alert alert-block alert-warning\">\n",
    "<b>Комментарий студента:</b> ..\n",
    "</div>\n",
    "<div class=\"alert alert-block alert-warning\">\n",
    "<b>Изменения:</b> Были внесены следующие изменения ...\n",
    "</div>\n",
    "\n",
    "<font color='orange' style='font-size:24px; font-weight:bold'>Общее впечатление</font>\n",
    "* Спасибо за  качественную работу, было интересно ее проверять.\n",
    "- Я оставил некоторые советы надеюсь они будут полезными или интересными.\n",
    "\n",
    "- Техника бутстрап применилась корректно, было проведено тщательное исследование и выбран правильный регион!\n",
    "- Отправляю проект назад, чтобы у тебя была возможность задать вопросы, если они у тебя есть. Если их нет, то можешь просто отправить проект еще раз и я его зачту\n"
   ]
  },
  {
   "cell_type": "markdown",
   "metadata": {},
   "source": [
    "# Выбор локации для скважины"
   ]
  },
  {
   "cell_type": "markdown",
   "metadata": {},
   "source": [
    "Допустим, вы работаете в добывающей компании «ГлавРосГосНефть». Нужно решить, где бурить новую скважину.\n",
    "\n",
    "Вам предоставлены пробы нефти в трёх регионах: в каждом 10 000 месторождений, где измерили качество нефти и объём её запасов. Постройте модель машинного обучения, которая поможет определить регион, где добыча принесёт наибольшую прибыль. Проанализируйте возможную прибыль и риски техникой *Bootstrap.*\n",
    "\n",
    "Шаги для выбора локации:\n",
    "\n",
    "- В избранном регионе ищут месторождения, для каждого определяют значения признаков;\n",
    "- Строят модель и оценивают объём запасов;\n",
    "- Выбирают месторождения с самым высокими оценками значений. Количество месторождений зависит от бюджета компании и стоимости разработки одной скважины;\n",
    "- Прибыль равна суммарной прибыли отобранных месторождений."
   ]
  },
  {
   "cell_type": "markdown",
   "metadata": {},
   "source": [
    "## Загрузка и подготовка данных"
   ]
  },
  {
   "cell_type": "code",
   "execution_count": 1,
   "metadata": {},
   "outputs": [],
   "source": [
    "import pandas as pd\n",
    "from math import sqrt\n",
    "from numpy.random import RandomState\n",
    "from sklearn.model_selection import train_test_split\n",
    "from sklearn.preprocessing import StandardScaler\n",
    "from sklearn.linear_model import LinearRegression\n",
    "from sklearn.metrics import mean_squared_error"
   ]
  },
  {
   "cell_type": "markdown",
   "metadata": {},
   "source": [
    "\n",
    "<div class=\"alert alert-block alert-success\">\n",
    "<b>Успех:</b> Импорты  на месте\n",
    "</div>"
   ]
  },
  {
   "cell_type": "code",
   "execution_count": 2,
   "metadata": {},
   "outputs": [],
   "source": [
    "RANDOM_STATE = RandomState(42)\n",
    "\n",
    "SEARCH_WELLS = 500 # Количество изучаемых скважин\n",
    "DEVELOP_WELLS = 200 # Количество разрабатываемых скважин\n",
    "PRICE = 450 # Цена одного барреля нефти\n",
    "UNIT = 1000 # Количество баррелей в одном юните в датасете\n",
    "BUDGET = 10**10 # Бюджет на разработку скважин в регионе\n",
    "PRICE_FOR_UNIT = PRICE * UNIT # Цена за одну единицу объема, указанную в датасете"
   ]
  },
  {
   "cell_type": "markdown",
   "metadata": {},
   "source": [
    "\n",
    "<div class=\"alert alert-block alert-success\">\n",
    "<b>Успех:</b> Лайк за константы в верхнем регистре, не забываешь про PEP8\n",
    "</div> \n"
   ]
  },
  {
   "cell_type": "code",
   "execution_count": 3,
   "metadata": {},
   "outputs": [],
   "source": [
    "df_1 = pd.read_csv('/datasets/geo_data_0.csv')\n",
    "df_2 = pd.read_csv('/datasets/geo_data_1.csv')\n",
    "df_3 = pd.read_csv('/datasets/geo_data_2.csv')"
   ]
  },
  {
   "cell_type": "code",
   "execution_count": 4,
   "metadata": {},
   "outputs": [
    {
     "name": "stdout",
     "output_type": "stream",
     "text": [
      "<class 'pandas.core.frame.DataFrame'>\n",
      "RangeIndex: 100000 entries, 0 to 99999\n",
      "Data columns (total 5 columns):\n",
      " #   Column   Non-Null Count   Dtype  \n",
      "---  ------   --------------   -----  \n",
      " 0   id       100000 non-null  object \n",
      " 1   f0       100000 non-null  float64\n",
      " 2   f1       100000 non-null  float64\n",
      " 3   f2       100000 non-null  float64\n",
      " 4   product  100000 non-null  float64\n",
      "dtypes: float64(4), object(1)\n",
      "memory usage: 3.8+ MB\n"
     ]
    },
    {
     "data": {
      "text/html": [
       "<div>\n",
       "<style scoped>\n",
       "    .dataframe tbody tr th:only-of-type {\n",
       "        vertical-align: middle;\n",
       "    }\n",
       "\n",
       "    .dataframe tbody tr th {\n",
       "        vertical-align: top;\n",
       "    }\n",
       "\n",
       "    .dataframe thead th {\n",
       "        text-align: right;\n",
       "    }\n",
       "</style>\n",
       "<table border=\"1\" class=\"dataframe\">\n",
       "  <thead>\n",
       "    <tr style=\"text-align: right;\">\n",
       "      <th></th>\n",
       "      <th>id</th>\n",
       "      <th>f0</th>\n",
       "      <th>f1</th>\n",
       "      <th>f2</th>\n",
       "      <th>product</th>\n",
       "    </tr>\n",
       "  </thead>\n",
       "  <tbody>\n",
       "    <tr>\n",
       "      <th>0</th>\n",
       "      <td>txEyH</td>\n",
       "      <td>0.705745</td>\n",
       "      <td>-0.497823</td>\n",
       "      <td>1.221170</td>\n",
       "      <td>105.280062</td>\n",
       "    </tr>\n",
       "    <tr>\n",
       "      <th>1</th>\n",
       "      <td>2acmU</td>\n",
       "      <td>1.334711</td>\n",
       "      <td>-0.340164</td>\n",
       "      <td>4.365080</td>\n",
       "      <td>73.037750</td>\n",
       "    </tr>\n",
       "    <tr>\n",
       "      <th>2</th>\n",
       "      <td>409Wp</td>\n",
       "      <td>1.022732</td>\n",
       "      <td>0.151990</td>\n",
       "      <td>1.419926</td>\n",
       "      <td>85.265647</td>\n",
       "    </tr>\n",
       "    <tr>\n",
       "      <th>3</th>\n",
       "      <td>iJLyR</td>\n",
       "      <td>-0.032172</td>\n",
       "      <td>0.139033</td>\n",
       "      <td>2.978566</td>\n",
       "      <td>168.620776</td>\n",
       "    </tr>\n",
       "    <tr>\n",
       "      <th>4</th>\n",
       "      <td>Xdl7t</td>\n",
       "      <td>1.988431</td>\n",
       "      <td>0.155413</td>\n",
       "      <td>4.751769</td>\n",
       "      <td>154.036647</td>\n",
       "    </tr>\n",
       "    <tr>\n",
       "      <th>5</th>\n",
       "      <td>wX4Hy</td>\n",
       "      <td>0.969570</td>\n",
       "      <td>0.489775</td>\n",
       "      <td>-0.735383</td>\n",
       "      <td>64.741541</td>\n",
       "    </tr>\n",
       "    <tr>\n",
       "      <th>6</th>\n",
       "      <td>tL6pL</td>\n",
       "      <td>0.645075</td>\n",
       "      <td>0.530656</td>\n",
       "      <td>1.780266</td>\n",
       "      <td>49.055285</td>\n",
       "    </tr>\n",
       "    <tr>\n",
       "      <th>7</th>\n",
       "      <td>BYPU6</td>\n",
       "      <td>-0.400648</td>\n",
       "      <td>0.808337</td>\n",
       "      <td>-5.624670</td>\n",
       "      <td>72.943292</td>\n",
       "    </tr>\n",
       "    <tr>\n",
       "      <th>8</th>\n",
       "      <td>j9Oui</td>\n",
       "      <td>0.643105</td>\n",
       "      <td>-0.551583</td>\n",
       "      <td>2.372141</td>\n",
       "      <td>113.356160</td>\n",
       "    </tr>\n",
       "    <tr>\n",
       "      <th>9</th>\n",
       "      <td>OLuZU</td>\n",
       "      <td>2.173381</td>\n",
       "      <td>0.563698</td>\n",
       "      <td>9.441852</td>\n",
       "      <td>127.910945</td>\n",
       "    </tr>\n",
       "  </tbody>\n",
       "</table>\n",
       "</div>"
      ],
      "text/plain": [
       "      id        f0        f1        f2     product\n",
       "0  txEyH  0.705745 -0.497823  1.221170  105.280062\n",
       "1  2acmU  1.334711 -0.340164  4.365080   73.037750\n",
       "2  409Wp  1.022732  0.151990  1.419926   85.265647\n",
       "3  iJLyR -0.032172  0.139033  2.978566  168.620776\n",
       "4  Xdl7t  1.988431  0.155413  4.751769  154.036647\n",
       "5  wX4Hy  0.969570  0.489775 -0.735383   64.741541\n",
       "6  tL6pL  0.645075  0.530656  1.780266   49.055285\n",
       "7  BYPU6 -0.400648  0.808337 -5.624670   72.943292\n",
       "8  j9Oui  0.643105 -0.551583  2.372141  113.356160\n",
       "9  OLuZU  2.173381  0.563698  9.441852  127.910945"
      ]
     },
     "execution_count": 4,
     "metadata": {},
     "output_type": "execute_result"
    }
   ],
   "source": [
    "df_1.info()\n",
    "df_1.head(10)"
   ]
  },
  {
   "cell_type": "code",
   "execution_count": 5,
   "metadata": {},
   "outputs": [
    {
     "name": "stdout",
     "output_type": "stream",
     "text": [
      "<class 'pandas.core.frame.DataFrame'>\n",
      "RangeIndex: 100000 entries, 0 to 99999\n",
      "Data columns (total 5 columns):\n",
      " #   Column   Non-Null Count   Dtype  \n",
      "---  ------   --------------   -----  \n",
      " 0   id       100000 non-null  object \n",
      " 1   f0       100000 non-null  float64\n",
      " 2   f1       100000 non-null  float64\n",
      " 3   f2       100000 non-null  float64\n",
      " 4   product  100000 non-null  float64\n",
      "dtypes: float64(4), object(1)\n",
      "memory usage: 3.8+ MB\n"
     ]
    },
    {
     "data": {
      "text/html": [
       "<div>\n",
       "<style scoped>\n",
       "    .dataframe tbody tr th:only-of-type {\n",
       "        vertical-align: middle;\n",
       "    }\n",
       "\n",
       "    .dataframe tbody tr th {\n",
       "        vertical-align: top;\n",
       "    }\n",
       "\n",
       "    .dataframe thead th {\n",
       "        text-align: right;\n",
       "    }\n",
       "</style>\n",
       "<table border=\"1\" class=\"dataframe\">\n",
       "  <thead>\n",
       "    <tr style=\"text-align: right;\">\n",
       "      <th></th>\n",
       "      <th>id</th>\n",
       "      <th>f0</th>\n",
       "      <th>f1</th>\n",
       "      <th>f2</th>\n",
       "      <th>product</th>\n",
       "    </tr>\n",
       "  </thead>\n",
       "  <tbody>\n",
       "    <tr>\n",
       "      <th>0</th>\n",
       "      <td>kBEdx</td>\n",
       "      <td>-15.001348</td>\n",
       "      <td>-8.276000</td>\n",
       "      <td>-0.005876</td>\n",
       "      <td>3.179103</td>\n",
       "    </tr>\n",
       "    <tr>\n",
       "      <th>1</th>\n",
       "      <td>62mP7</td>\n",
       "      <td>14.272088</td>\n",
       "      <td>-3.475083</td>\n",
       "      <td>0.999183</td>\n",
       "      <td>26.953261</td>\n",
       "    </tr>\n",
       "    <tr>\n",
       "      <th>2</th>\n",
       "      <td>vyE1P</td>\n",
       "      <td>6.263187</td>\n",
       "      <td>-5.948386</td>\n",
       "      <td>5.001160</td>\n",
       "      <td>134.766305</td>\n",
       "    </tr>\n",
       "    <tr>\n",
       "      <th>3</th>\n",
       "      <td>KcrkZ</td>\n",
       "      <td>-13.081196</td>\n",
       "      <td>-11.506057</td>\n",
       "      <td>4.999415</td>\n",
       "      <td>137.945408</td>\n",
       "    </tr>\n",
       "    <tr>\n",
       "      <th>4</th>\n",
       "      <td>AHL4O</td>\n",
       "      <td>12.702195</td>\n",
       "      <td>-8.147433</td>\n",
       "      <td>5.004363</td>\n",
       "      <td>134.766305</td>\n",
       "    </tr>\n",
       "    <tr>\n",
       "      <th>5</th>\n",
       "      <td>HHckp</td>\n",
       "      <td>-3.327590</td>\n",
       "      <td>-2.205276</td>\n",
       "      <td>3.003647</td>\n",
       "      <td>84.038886</td>\n",
       "    </tr>\n",
       "    <tr>\n",
       "      <th>6</th>\n",
       "      <td>h5Ujo</td>\n",
       "      <td>-11.142655</td>\n",
       "      <td>-10.133399</td>\n",
       "      <td>4.002382</td>\n",
       "      <td>110.992147</td>\n",
       "    </tr>\n",
       "    <tr>\n",
       "      <th>7</th>\n",
       "      <td>muH9x</td>\n",
       "      <td>4.234715</td>\n",
       "      <td>-0.001354</td>\n",
       "      <td>2.004588</td>\n",
       "      <td>53.906522</td>\n",
       "    </tr>\n",
       "    <tr>\n",
       "      <th>8</th>\n",
       "      <td>YiRkx</td>\n",
       "      <td>13.355129</td>\n",
       "      <td>-0.332068</td>\n",
       "      <td>4.998647</td>\n",
       "      <td>134.766305</td>\n",
       "    </tr>\n",
       "    <tr>\n",
       "      <th>9</th>\n",
       "      <td>jG6Gi</td>\n",
       "      <td>1.069227</td>\n",
       "      <td>-11.025667</td>\n",
       "      <td>4.997844</td>\n",
       "      <td>137.945408</td>\n",
       "    </tr>\n",
       "  </tbody>\n",
       "</table>\n",
       "</div>"
      ],
      "text/plain": [
       "      id         f0         f1        f2     product\n",
       "0  kBEdx -15.001348  -8.276000 -0.005876    3.179103\n",
       "1  62mP7  14.272088  -3.475083  0.999183   26.953261\n",
       "2  vyE1P   6.263187  -5.948386  5.001160  134.766305\n",
       "3  KcrkZ -13.081196 -11.506057  4.999415  137.945408\n",
       "4  AHL4O  12.702195  -8.147433  5.004363  134.766305\n",
       "5  HHckp  -3.327590  -2.205276  3.003647   84.038886\n",
       "6  h5Ujo -11.142655 -10.133399  4.002382  110.992147\n",
       "7  muH9x   4.234715  -0.001354  2.004588   53.906522\n",
       "8  YiRkx  13.355129  -0.332068  4.998647  134.766305\n",
       "9  jG6Gi   1.069227 -11.025667  4.997844  137.945408"
      ]
     },
     "execution_count": 5,
     "metadata": {},
     "output_type": "execute_result"
    }
   ],
   "source": [
    "df_2.info()\n",
    "df_2.head(10)"
   ]
  },
  {
   "cell_type": "code",
   "execution_count": 6,
   "metadata": {
    "scrolled": true
   },
   "outputs": [
    {
     "name": "stdout",
     "output_type": "stream",
     "text": [
      "<class 'pandas.core.frame.DataFrame'>\n",
      "RangeIndex: 100000 entries, 0 to 99999\n",
      "Data columns (total 5 columns):\n",
      " #   Column   Non-Null Count   Dtype  \n",
      "---  ------   --------------   -----  \n",
      " 0   id       100000 non-null  object \n",
      " 1   f0       100000 non-null  float64\n",
      " 2   f1       100000 non-null  float64\n",
      " 3   f2       100000 non-null  float64\n",
      " 4   product  100000 non-null  float64\n",
      "dtypes: float64(4), object(1)\n",
      "memory usage: 3.8+ MB\n"
     ]
    },
    {
     "data": {
      "text/html": [
       "<div>\n",
       "<style scoped>\n",
       "    .dataframe tbody tr th:only-of-type {\n",
       "        vertical-align: middle;\n",
       "    }\n",
       "\n",
       "    .dataframe tbody tr th {\n",
       "        vertical-align: top;\n",
       "    }\n",
       "\n",
       "    .dataframe thead th {\n",
       "        text-align: right;\n",
       "    }\n",
       "</style>\n",
       "<table border=\"1\" class=\"dataframe\">\n",
       "  <thead>\n",
       "    <tr style=\"text-align: right;\">\n",
       "      <th></th>\n",
       "      <th>id</th>\n",
       "      <th>f0</th>\n",
       "      <th>f1</th>\n",
       "      <th>f2</th>\n",
       "      <th>product</th>\n",
       "    </tr>\n",
       "  </thead>\n",
       "  <tbody>\n",
       "    <tr>\n",
       "      <th>0</th>\n",
       "      <td>fwXo0</td>\n",
       "      <td>-1.146987</td>\n",
       "      <td>0.963328</td>\n",
       "      <td>-0.828965</td>\n",
       "      <td>27.758673</td>\n",
       "    </tr>\n",
       "    <tr>\n",
       "      <th>1</th>\n",
       "      <td>WJtFt</td>\n",
       "      <td>0.262778</td>\n",
       "      <td>0.269839</td>\n",
       "      <td>-2.530187</td>\n",
       "      <td>56.069697</td>\n",
       "    </tr>\n",
       "    <tr>\n",
       "      <th>2</th>\n",
       "      <td>ovLUW</td>\n",
       "      <td>0.194587</td>\n",
       "      <td>0.289035</td>\n",
       "      <td>-5.586433</td>\n",
       "      <td>62.871910</td>\n",
       "    </tr>\n",
       "    <tr>\n",
       "      <th>3</th>\n",
       "      <td>q6cA6</td>\n",
       "      <td>2.236060</td>\n",
       "      <td>-0.553760</td>\n",
       "      <td>0.930038</td>\n",
       "      <td>114.572842</td>\n",
       "    </tr>\n",
       "    <tr>\n",
       "      <th>4</th>\n",
       "      <td>WPMUX</td>\n",
       "      <td>-0.515993</td>\n",
       "      <td>1.716266</td>\n",
       "      <td>5.899011</td>\n",
       "      <td>149.600746</td>\n",
       "    </tr>\n",
       "    <tr>\n",
       "      <th>5</th>\n",
       "      <td>LzZXx</td>\n",
       "      <td>-0.758092</td>\n",
       "      <td>0.710691</td>\n",
       "      <td>2.585887</td>\n",
       "      <td>90.222465</td>\n",
       "    </tr>\n",
       "    <tr>\n",
       "      <th>6</th>\n",
       "      <td>WBHRv</td>\n",
       "      <td>-0.574891</td>\n",
       "      <td>0.317727</td>\n",
       "      <td>1.773745</td>\n",
       "      <td>45.641478</td>\n",
       "    </tr>\n",
       "    <tr>\n",
       "      <th>7</th>\n",
       "      <td>XO8fn</td>\n",
       "      <td>-1.906649</td>\n",
       "      <td>-2.458350</td>\n",
       "      <td>-0.177097</td>\n",
       "      <td>72.480640</td>\n",
       "    </tr>\n",
       "    <tr>\n",
       "      <th>8</th>\n",
       "      <td>ybmQ5</td>\n",
       "      <td>1.776292</td>\n",
       "      <td>-0.279356</td>\n",
       "      <td>3.004156</td>\n",
       "      <td>106.616832</td>\n",
       "    </tr>\n",
       "    <tr>\n",
       "      <th>9</th>\n",
       "      <td>OilcN</td>\n",
       "      <td>-1.214452</td>\n",
       "      <td>-0.439314</td>\n",
       "      <td>5.922514</td>\n",
       "      <td>52.954532</td>\n",
       "    </tr>\n",
       "  </tbody>\n",
       "</table>\n",
       "</div>"
      ],
      "text/plain": [
       "      id        f0        f1        f2     product\n",
       "0  fwXo0 -1.146987  0.963328 -0.828965   27.758673\n",
       "1  WJtFt  0.262778  0.269839 -2.530187   56.069697\n",
       "2  ovLUW  0.194587  0.289035 -5.586433   62.871910\n",
       "3  q6cA6  2.236060 -0.553760  0.930038  114.572842\n",
       "4  WPMUX -0.515993  1.716266  5.899011  149.600746\n",
       "5  LzZXx -0.758092  0.710691  2.585887   90.222465\n",
       "6  WBHRv -0.574891  0.317727  1.773745   45.641478\n",
       "7  XO8fn -1.906649 -2.458350 -0.177097   72.480640\n",
       "8  ybmQ5  1.776292 -0.279356  3.004156  106.616832\n",
       "9  OilcN -1.214452 -0.439314  5.922514   52.954532"
      ]
     },
     "execution_count": 6,
     "metadata": {},
     "output_type": "execute_result"
    }
   ],
   "source": [
    "df_3.info()\n",
    "df_3.head(10)"
   ]
  },
  {
   "cell_type": "markdown",
   "metadata": {},
   "source": [
    "\n",
    "<div class=\"alert alert-block alert-info\">\n",
    "<b>Совет: </b> Анализ данных и выводы понятнее было бы наблюдать в данном разделе\n",
    "</div>\n"
   ]
  },
  {
   "cell_type": "markdown",
   "metadata": {},
   "source": [
    "## Обучение и проверка модели"
   ]
  },
  {
   "cell_type": "markdown",
   "metadata": {},
   "source": [
    "### Модель для региона №1"
   ]
  },
  {
   "cell_type": "markdown",
   "metadata": {},
   "source": [
    "Изучим зависимости признаков"
   ]
  },
  {
   "cell_type": "code",
   "execution_count": 7,
   "metadata": {},
   "outputs": [
    {
     "data": {
      "text/plain": [
       "array([[<AxesSubplot:xlabel='f0', ylabel='f0'>,\n",
       "        <AxesSubplot:xlabel='f1', ylabel='f0'>,\n",
       "        <AxesSubplot:xlabel='f2', ylabel='f0'>,\n",
       "        <AxesSubplot:xlabel='product', ylabel='f0'>],\n",
       "       [<AxesSubplot:xlabel='f0', ylabel='f1'>,\n",
       "        <AxesSubplot:xlabel='f1', ylabel='f1'>,\n",
       "        <AxesSubplot:xlabel='f2', ylabel='f1'>,\n",
       "        <AxesSubplot:xlabel='product', ylabel='f1'>],\n",
       "       [<AxesSubplot:xlabel='f0', ylabel='f2'>,\n",
       "        <AxesSubplot:xlabel='f1', ylabel='f2'>,\n",
       "        <AxesSubplot:xlabel='f2', ylabel='f2'>,\n",
       "        <AxesSubplot:xlabel='product', ylabel='f2'>],\n",
       "       [<AxesSubplot:xlabel='f0', ylabel='product'>,\n",
       "        <AxesSubplot:xlabel='f1', ylabel='product'>,\n",
       "        <AxesSubplot:xlabel='f2', ylabel='product'>,\n",
       "        <AxesSubplot:xlabel='product', ylabel='product'>]], dtype=object)"
      ]
     },
     "execution_count": 7,
     "metadata": {},
     "output_type": "execute_result"
    },
    {
     "data": {
      "image/png": "[encoded data removed]",
      "text/plain": [
       "<Figure size 504x504 with 16 Axes>"
      ]
     },
     "metadata": {
      "needs_background": "light"
     },
     "output_type": "display_data"
    }
   ],
   "source": [
    "pd.plotting.scatter_matrix(df_1, figsize=(7, 7)) "
   ]
  },
  {
   "cell_type": "markdown",
   "metadata": {},
   "source": [
    "Из диаграмм видно, что признаки f0 и f1 имею сложную нелинейную зависимость. Остальные признаки не коррелируют между собой. Целевой признак имеет корреляцию только с признаком f2"
   ]
  },
  {
   "cell_type": "code",
   "execution_count": 8,
   "metadata": {},
   "outputs": [],
   "source": [
    "features_1 = df_1.drop(['id', 'product'], axis=1)\n",
    "target_1 = df_1['product']"
   ]
  },
  {
   "cell_type": "markdown",
   "metadata": {},
   "source": [
    "Выдели обучающую и валидационную выборки "
   ]
  },
  {
   "cell_type": "code",
   "execution_count": 9,
   "metadata": {},
   "outputs": [],
   "source": [
    "features_train_1, features_valid_1, target_train_1, target_valid_1 = train_test_split(\n",
    "    features_1, target_1, test_size=.25, random_state=RANDOM_STATE\n",
    ")"
   ]
  },
  {
   "cell_type": "code",
   "execution_count": 10,
   "metadata": {},
   "outputs": [
    {
     "name": "stdout",
     "output_type": "stream",
     "text": [
      "Размер обучающей выборки - 75000\n",
      "Размер валидационной выборки - 25000\n"
     ]
    }
   ],
   "source": [
    "print(f'Размер обучающей выборки - {len(features_train_1)}')\n",
    "print(f'Размер валидационной выборки - {len(features_valid_1)}')"
   ]
  },
  {
   "cell_type": "markdown",
   "metadata": {},
   "source": [
    "Выполним стандартизацию количественных признаков"
   ]
  },
  {
   "cell_type": "code",
   "execution_count": 11,
   "metadata": {},
   "outputs": [],
   "source": [
    "scaler = StandardScaler()\n",
    "scaler.fit(features_train_1)\n",
    "features_train_1 = pd.DataFrame(\n",
    "    scaler.transform(features_train_1), index=features_train_1.index, columns=features_train_1.columns)\n",
    "features_valid_1 = pd.DataFrame(\n",
    "    scaler.transform(features_valid_1), index=features_valid_1.index, columns=features_valid_1.columns)"
   ]
  },
  {
   "cell_type": "markdown",
   "metadata": {},
   "source": [
    "<div class=\"alert alert-block alert-success\">\n",
    "<b>Успех:</b> Масштабирование проведено корректно\n",
    "</div"
   ]
  },
  {
   "cell_type": "code",
   "execution_count": 12,
   "metadata": {},
   "outputs": [
    {
     "name": "stdout",
     "output_type": "stream",
     "text": [
      "Средний запас предсказанного сырья: 92.399 тысяч баррелей\n",
      "RMSE = 37.76\n"
     ]
    }
   ],
   "source": [
    "model_1 = LinearRegression().fit(features_train_1, target_train_1)\n",
    "predicted_1 = pd.Series(model_1.predict(features_valid_1), index=target_valid_1.index)\n",
    "rmse_1 = sqrt(mean_squared_error(target_valid_1, predicted_1))\n",
    "print(f'Средний запас предсказанного сырья: {predicted_1.sum() / predicted_1.shape[0]:.3f} тысяч баррелей')\n",
    "print(f'RMSE = {rmse_1:.2f}')"
   ]
  },
  {
   "cell_type": "code",
   "execution_count": 13,
   "metadata": {},
   "outputs": [
    {
     "name": "stdout",
     "output_type": "stream",
     "text": [
      "Коэффициенты модели: [ 3.34267636 -7.18196275 21.4239503 ]\n"
     ]
    }
   ],
   "source": [
    "print('Коэффициенты модели:', model_1.coef_)"
   ]
  },
  {
   "cell_type": "markdown",
   "metadata": {},
   "source": [
    "**Вывод:** в результате обучения получили модель, которая на валидационной выборке имеет ошибку `RMSE = 37.76`, что является не очень хорошим результатом при среднем значении предсказанного объема равному `92.4`. Также по коэффициентам модели видно, что наибольший вклад в результат вносит именно признак f2. Что согласуется с тем, что мы увидели при изучении зависимостей признаков"
   ]
  },
  {
   "cell_type": "markdown",
   "metadata": {},
   "source": [
    "### Модель для региона №2"
   ]
  },
  {
   "cell_type": "markdown",
   "metadata": {},
   "source": [
    "Изучим зависимости признаков"
   ]
  },
  {
   "cell_type": "code",
   "execution_count": 14,
   "metadata": {},
   "outputs": [
    {
     "data": {
      "text/plain": [
       "array([[<AxesSubplot:xlabel='f0', ylabel='f0'>,\n",
       "        <AxesSubplot:xlabel='f1', ylabel='f0'>,\n",
       "        <AxesSubplot:xlabel='f2', ylabel='f0'>,\n",
       "        <AxesSubplot:xlabel='product', ylabel='f0'>],\n",
       "       [<AxesSubplot:xlabel='f0', ylabel='f1'>,\n",
       "        <AxesSubplot:xlabel='f1', ylabel='f1'>,\n",
       "        <AxesSubplot:xlabel='f2', ylabel='f1'>,\n",
       "        <AxesSubplot:xlabel='product', ylabel='f1'>],\n",
       "       [<AxesSubplot:xlabel='f0', ylabel='f2'>,\n",
       "        <AxesSubplot:xlabel='f1', ylabel='f2'>,\n",
       "        <AxesSubplot:xlabel='f2', ylabel='f2'>,\n",
       "        <AxesSubplot:xlabel='product', ylabel='f2'>],\n",
       "       [<AxesSubplot:xlabel='f0', ylabel='product'>,\n",
       "        <AxesSubplot:xlabel='f1', ylabel='product'>,\n",
       "        <AxesSubplot:xlabel='f2', ylabel='product'>,\n",
       "        <AxesSubplot:xlabel='product', ylabel='product'>]], dtype=object)"
      ]
     },
     "execution_count": 14,
     "metadata": {},
     "output_type": "execute_result"
    },
    {
     "data": {
      "image/png": "[encoded data removed]",
      "text/plain": [
       "<Figure size 504x504 with 16 Axes>"
      ]
     },
     "metadata": {
      "needs_background": "light"
     },
     "output_type": "display_data"
    }
   ],
   "source": [
    "pd.plotting.scatter_matrix(df_2, figsize=(7, 7)) "
   ]
  },
  {
   "cell_type": "markdown",
   "metadata": {},
   "source": [
    "Из диаграмм видно, что признаки не коррелируют между собой. Целевой признак имеет сильную корреляцию только с признаком f2"
   ]
  },
  {
   "cell_type": "code",
   "execution_count": 15,
   "metadata": {},
   "outputs": [],
   "source": [
    "features_2 = df_2.drop(['id', 'product'], axis=1)\n",
    "target_2 = df_2['product']"
   ]
  },
  {
   "cell_type": "markdown",
   "metadata": {},
   "source": [
    "Выдели обучающую и валидационную выборки "
   ]
  },
  {
   "cell_type": "code",
   "execution_count": 16,
   "metadata": {},
   "outputs": [],
   "source": [
    "features_train_2, features_valid_2, target_train_2, target_valid_2 = train_test_split(\n",
    "    features_2, target_2, test_size=.25, random_state=RANDOM_STATE\n",
    ")"
   ]
  },
  {
   "cell_type": "code",
   "execution_count": 17,
   "metadata": {},
   "outputs": [
    {
     "name": "stdout",
     "output_type": "stream",
     "text": [
      "Размер обучающей выборки - 75000\n",
      "Размер валидационной выборки - 25000\n"
     ]
    }
   ],
   "source": [
    "print(f'Размер обучающей выборки - {len(features_train_2)}')\n",
    "print(f'Размер валидационной выборки - {len(features_valid_2)}')"
   ]
  },
  {
   "cell_type": "markdown",
   "metadata": {},
   "source": [
    "Выполним стандартизацию количественных признаков"
   ]
  },
  {
   "cell_type": "code",
   "execution_count": 18,
   "metadata": {},
   "outputs": [],
   "source": [
    "scaler = StandardScaler()\n",
    "scaler.fit(features_train_2)\n",
    "features_train_2 = pd.DataFrame(\n",
    "    scaler.transform(features_train_2), index=features_train_2.index, columns=features_train_2.columns)\n",
    "features_valid_2 = pd.DataFrame(\n",
    "    scaler.transform(features_valid_2), index=features_valid_2.index, columns=features_valid_2.columns)"
   ]
  },
  {
   "cell_type": "code",
   "execution_count": 19,
   "metadata": {},
   "outputs": [
    {
     "name": "stdout",
     "output_type": "stream",
     "text": [
      "Средний запас предсказанного сырья: 68.588 тысяч баррелей\n",
      "RMSE = 0.89\n"
     ]
    }
   ],
   "source": [
    "model_2 = LinearRegression().fit(features_train_2, target_train_2)\n",
    "predicted_2 = pd.Series(model_2.predict(features_valid_2), index=target_valid_2.index)\n",
    "rmse_2 = sqrt(mean_squared_error(target_valid_2, predicted_2))\n",
    "print(f'Средний запас предсказанного сырья: {predicted_2.sum() / predicted_2.shape[0]:.3f} тысяч баррелей')\n",
    "print(f'RMSE = {rmse_2:.2f}')"
   ]
  },
  {
   "cell_type": "code",
   "execution_count": 20,
   "metadata": {},
   "outputs": [
    {
     "name": "stdout",
     "output_type": "stream",
     "text": [
      "Коэффициенты модели: [-1.29905268 -0.10943252 45.9149147 ]\n"
     ]
    }
   ],
   "source": [
    "print('Коэффициенты модели:', model_2.coef_)"
   ]
  },
  {
   "cell_type": "markdown",
   "metadata": {},
   "source": [
    "**Вывод:** в результате обучения получили модель, которая на валидационной выборке имеет ошибку `RMSE = 0.89`, что является хорошим результатом при среднем значении предсказанного объема равному `68.6`. Также по коэффициентам модели видно, что наибольший вклад в результат вносит именно признак f2. Что согласуется с тем, что мы увидели при изучении зависимостей признаков"
   ]
  },
  {
   "cell_type": "markdown",
   "metadata": {},
   "source": [
    "### Модель для региона №3"
   ]
  },
  {
   "cell_type": "markdown",
   "metadata": {},
   "source": [
    "Изучим зависимости признаков"
   ]
  },
  {
   "cell_type": "code",
   "execution_count": 21,
   "metadata": {},
   "outputs": [
    {
     "data": {
      "text/plain": [
       "array([[<AxesSubplot:xlabel='f0', ylabel='f0'>,\n",
       "        <AxesSubplot:xlabel='f1', ylabel='f0'>,\n",
       "        <AxesSubplot:xlabel='f2', ylabel='f0'>,\n",
       "        <AxesSubplot:xlabel='product', ylabel='f0'>],\n",
       "       [<AxesSubplot:xlabel='f0', ylabel='f1'>,\n",
       "        <AxesSubplot:xlabel='f1', ylabel='f1'>,\n",
       "        <AxesSubplot:xlabel='f2', ylabel='f1'>,\n",
       "        <AxesSubplot:xlabel='product', ylabel='f1'>],\n",
       "       [<AxesSubplot:xlabel='f0', ylabel='f2'>,\n",
       "        <AxesSubplot:xlabel='f1', ylabel='f2'>,\n",
       "        <AxesSubplot:xlabel='f2', ylabel='f2'>,\n",
       "        <AxesSubplot:xlabel='product', ylabel='f2'>],\n",
       "       [<AxesSubplot:xlabel='f0', ylabel='product'>,\n",
       "        <AxesSubplot:xlabel='f1', ylabel='product'>,\n",
       "        <AxesSubplot:xlabel='f2', ylabel='product'>,\n",
       "        <AxesSubplot:xlabel='product', ylabel='product'>]], dtype=object)"
      ]
     },
     "execution_count": 21,
     "metadata": {},
     "output_type": "execute_result"
    },
    {
     "data": {
      "image/png": "[encoded data removed]",
      "text/plain": [
       "<Figure size 504x504 with 16 Axes>"
      ]
     },
     "metadata": {
      "needs_background": "light"
     },
     "output_type": "display_data"
    }
   ],
   "source": [
    "pd.plotting.scatter_matrix(df_3, figsize=(7, 7)) "
   ]
  },
  {
   "cell_type": "markdown",
   "metadata": {},
   "source": [
    "Из диаграмм видно, что признаки не коррелируют между собой. Целевой признак имеет слабую корреляцию с признаком f2 и никак не коррелирую с признаками f0 и f1"
   ]
  },
  {
   "cell_type": "code",
   "execution_count": 22,
   "metadata": {},
   "outputs": [],
   "source": [
    "features_3 = df_3.drop(['id', 'product', 'f0', 'f1'], axis=1)\n",
    "target_3 = df_3['product']"
   ]
  },
  {
   "cell_type": "markdown",
   "metadata": {},
   "source": [
    "Выдели обучающую и валидационную выборки "
   ]
  },
  {
   "cell_type": "code",
   "execution_count": 23,
   "metadata": {},
   "outputs": [],
   "source": [
    "features_train_3, features_valid_3, target_train_3, target_valid_3 = train_test_split(\n",
    "    features_3, target_3, test_size=.25, random_state=RANDOM_STATE\n",
    ")"
   ]
  },
  {
   "cell_type": "code",
   "execution_count": 24,
   "metadata": {},
   "outputs": [
    {
     "name": "stdout",
     "output_type": "stream",
     "text": [
      "Размер обучающей выборки - 75000\n",
      "Размер валидационной выборки - 25000\n"
     ]
    }
   ],
   "source": [
    "print(f'Размер обучающей выборки - {len(features_train_3)}')\n",
    "print(f'Размер валидационной выборки - {len(features_valid_3)}')"
   ]
  },
  {
   "cell_type": "markdown",
   "metadata": {},
   "source": [
    "Выполним стандартизацию количественных признаков"
   ]
  },
  {
   "cell_type": "code",
   "execution_count": 25,
   "metadata": {},
   "outputs": [],
   "source": [
    "scaler = StandardScaler()\n",
    "scaler.fit(features_train_3)\n",
    "features_train_3 = pd.DataFrame(\n",
    "    scaler.transform(features_train_3), index=features_train_3.index, columns=features_train_3.columns)\n",
    "features_valid_3 = pd.DataFrame(\n",
    "    scaler.transform(features_valid_3), index=features_valid_3.index, columns=features_valid_3.columns)"
   ]
  },
  {
   "cell_type": "code",
   "execution_count": 26,
   "metadata": {},
   "outputs": [
    {
     "name": "stdout",
     "output_type": "stream",
     "text": [
      "Средний запас предсказанного сырья: 95.095 тысяч баррелей\n",
      "RMSE = 40.24\n"
     ]
    }
   ],
   "source": [
    "model_3 = LinearRegression().fit(features_train_3, target_train_3)\n",
    "predicted_3 = pd.Series(model_3.predict(features_valid_3), index=target_valid_3.index)\n",
    "rmse_3 = sqrt(mean_squared_error(target_valid_3, predicted_3))\n",
    "print(f'Средний запас предсказанного сырья: {predicted_3.sum() / predicted_3.shape[0]:.3f} тысяч баррелей')\n",
    "print(f'RMSE = {rmse_3:.2f}')"
   ]
  },
  {
   "cell_type": "code",
   "execution_count": 27,
   "metadata": {},
   "outputs": [
    {
     "name": "stdout",
     "output_type": "stream",
     "text": [
      "Коэффициенты модели: [20.02863023]\n"
     ]
    }
   ],
   "source": [
    "print('Коэффициенты модели:', model_3.coef_)"
   ]
  },
  {
   "cell_type": "markdown",
   "metadata": {},
   "source": [
    "**Вывод:** в результате обучения получили модель, которая на валидационной выборке имеет ошибку `RMSE = 40.24`, что является не очень хорошим результатом при среднем значении предсказанного объема равному `95.1`. Также по коэффициентам модели видно, что наибольший вклад в результат вносит именно признак f2. Что согласуется с тем, что мы увидели при изучении зависимостей признаков"
   ]
  },
  {
   "cell_type": "markdown",
   "metadata": {},
   "source": [
    "<div class=\"alert alert-block alert-success\">\n",
    "<b>Успех:</b> Шаг проделан хорошо, все метрики посчитаны корректно\n",
    "</div> \n",
    "\n",
    "\n",
    "<div class=\"alert alert-block alert-info\">\n",
    "<b>Совет: </b>  Можно было бы использовать циклы/функции и избежать дублирования кода. Дублирование кода, часто приводит к глупым ошибкам, которые тяжело отследить.\n",
    "</div>"
   ]
  },
  {
   "cell_type": "markdown",
   "metadata": {},
   "source": [
    "**Вывод по пункту**: было обучено 3 модели для разных регионов. Наилучний результат показала модель для 2 региона: `RMSE = 0.89` при среднем запасе предсказанного сырья в `68.6` единиц. Модели для регионов 1 и 3 имеют значительно больший средний предсказанный объем сырья: 92.4 и 95.1 соответственно. Однако модели имеют большую ошибку: `RMSE` моделей равен `37.76` и `40.24` соответственно.  \n",
    "Также стоит заметить, что у всех моделей наибольший вес имеет именно признак f2. По диаграмма зависимостей признаков также видно, что целевой признак имеет корреляцию только с признаком f2 и никак не коррелируют с признаками f0 и f1, что является достаточно важным моментом для линейной модели. Стоит задуматься над тем, чтобы исключить f0 и f1 из признаков и либо добавить другие(более подходящии), либо оставить только признак f2."
   ]
  },
  {
   "cell_type": "markdown",
   "metadata": {},
   "source": [
    "\n",
    "<div class=\"alert alert-block alert-info\">\n",
    "<b>Совет:</b>  Советую обратить внимание на библиотеки sweetviz и pandas_profiling помогут в проведении более тщательного EDA анализа. Исследовательский анализ можно делать и с помощью ручного вызова функций дефолтных библиотек. Данные библиотеки хороши для максимизации комфорта презентации результатов анализа бизнес-пользователям.  \n",
    "\n",
    "Очень просты в использоовании, на вход кладется датафрейм: pandas_profiling.ProfileReport(df) \n",
    "</div>\n"
   ]
  },
  {
   "cell_type": "markdown",
   "metadata": {},
   "source": [
    "## Подготовка к расчёту прибыли"
   ]
  },
  {
   "cell_type": "code",
   "execution_count": 28,
   "metadata": {},
   "outputs": [
    {
     "name": "stdout",
     "output_type": "stream",
     "text": [
      "Для безубыточного производства на каждой скважине необходимо добывать 111.111 тысяч баррелей\n"
     ]
    }
   ],
   "source": [
    "production_volume_per_well = BUDGET / DEVELOP_WELLS / PRICE_FOR_UNIT\n",
    "print(f'Для безубыточного производства на каждой скважине необходимо добывать {production_volume_per_well:.3f} тысяч баррелей')"
   ]
  },
  {
   "cell_type": "markdown",
   "metadata": {},
   "source": [
    "**Вывод:** расчеты говорят о том, что для окупаимости региона на каждой разрабатываемой скважине необходимо добавать не меньше 111.111 тысяч баррелей. По предсказаниям всех обученных моделей средние запасы всех трех регионов меньше необходимого количества. Поэтому рискованно брать рандомную скважину. Безопаснее по предсказаниям модели определять 200 наиболее перспективных скважин"
   ]
  },
  {
   "cell_type": "markdown",
   "metadata": {},
   "source": [
    "\n",
    "<div class=\"alert alert-block alert-success\">\n",
    "<b>Успех:</b> Значение для безубыточной разработки посчитано верно, с выводом согласен  \n",
    "</div>"
   ]
  },
  {
   "cell_type": "markdown",
   "metadata": {},
   "source": [
    "## Расчёт прибыли и рисков "
   ]
  },
  {
   "cell_type": "code",
   "execution_count": 29,
   "metadata": {},
   "outputs": [],
   "source": [
    "def get_revenue(target, predicted, develop_wells, price) -> float:\n",
    "    predict_sorted = predicted.sort_values(ascending=False)\n",
    "    best_wells = target[predict_sorted.index][:develop_wells]\n",
    "    return best_wells.sum() * price"
   ]
  },
  {
   "cell_type": "code",
   "execution_count": 30,
   "metadata": {},
   "outputs": [],
   "source": [
    "def get_profit(target, predicted, develop_wells, price, expenses) -> float:\n",
    "    revenue = get_revenue(target, predicted, develop_wells, price)\n",
    "    return revenue - expenses"
   ]
  },
  {
   "cell_type": "markdown",
   "metadata": {},
   "source": [
    "<div class=\"alert alert-block alert-success\"\n",
    "<b>Успех:</b> Ф-ция для подсчета прибыли и выручки определены верно\n",
    "</div>\n"
   ]
  },
  {
   "cell_type": "code",
   "execution_count": 31,
   "metadata": {},
   "outputs": [],
   "source": [
    "def bootstrap_profit(target, predicted, count, search_wells, develop_wells, price, expenses) -> pd.Series:\n",
    "    profits = []\n",
    "    for i in range(count):\n",
    "        target_subsamples = target.sample(n=search_wells, replace=True, random_state=RANDOM_STATE)\n",
    "        predicted_subsamples = predicted[target_subsamples.index]\n",
    "        profit = get_profit(\n",
    "            target_subsamples, predicted_subsamples, develop_wells, price, expenses\n",
    "        )\n",
    "        profits.append(profit)\n",
    "    return pd.Series(profits)"
   ]
  },
  {
   "cell_type": "markdown",
   "metadata": {},
   "source": [
    "<div class=\"alert alert-block alert-success\">\n",
    "<b>Успех:</b> С бутстрапом тоже все в порядке, метрики\n",
    "</div>"
   ]
  },
  {
   "cell_type": "markdown",
   "metadata": {},
   "source": [
    "### Регион №1"
   ]
  },
  {
   "cell_type": "code",
   "execution_count": 32,
   "metadata": {},
   "outputs": [
    {
     "name": "stdout",
     "output_type": "stream",
     "text": [
      "Средняя прибыль: 440446619.54\n",
      "95% доверительный интервал: [-129698263.88, 980351534.78]\n",
      "Риск получить убыток: 5.80%\n"
     ]
    }
   ],
   "source": [
    "profits = bootstrap_profit(\n",
    "    target_valid_1, predicted_1, 1000, SEARCH_WELLS, DEVELOP_WELLS, PRICE_FOR_UNIT, BUDGET\n",
    ")\n",
    "lower = profits.quantile(.025)\n",
    "upper = profits.quantile(.975)\n",
    "loss = profits[profits < 0].count() / profits.shape[0]\n",
    "print(f'Средняя прибыль: {profits.mean():.2f}')\n",
    "print(f'95% доверительный интервал: [{lower:.2f}, {upper:.2f}]')\n",
    "print(f'Риск получить убыток: {loss:.2%}', )"
   ]
  },
  {
   "cell_type": "markdown",
   "metadata": {},
   "source": [
    "<div class=\"alert alert-block alert-success\">\n",
    "<b>Успех:</b>  Все метрики считаются верным образом!  Но почему бы не занести эти действия  в функцию? \n",
    "</div>"
   ]
  },
  {
   "cell_type": "markdown",
   "metadata": {},
   "source": [
    "### Регион №2"
   ]
  },
  {
   "cell_type": "code",
   "execution_count": 33,
   "metadata": {},
   "outputs": [
    {
     "name": "stdout",
     "output_type": "stream",
     "text": [
      "Средняя прибыль: 489036146.09\n",
      "95% доверительный интервал: [63878578.77, 900130455.53]\n",
      "Риск получить убыток: 1.00%\n"
     ]
    }
   ],
   "source": [
    "profits = bootstrap_profit(\n",
    "    target_valid_2, predicted_2, 1000, SEARCH_WELLS, DEVELOP_WELLS, PRICE_FOR_UNIT, BUDGET\n",
    ")\n",
    "lower = profits.quantile(.025)\n",
    "upper = profits.quantile(.975)\n",
    "loss = profits[profits < 0].count() / profits.shape[0]\n",
    "print(f'Средняя прибыль: {profits.mean():.2f}')\n",
    "print(f'95% доверительный интервал: [{lower:.2f}, {upper:.2f}]')\n",
    "print(f'Риск получить убыток: {loss:.2%}', )"
   ]
  },
  {
   "cell_type": "markdown",
   "metadata": {},
   "source": [
    "### Регион №3"
   ]
  },
  {
   "cell_type": "code",
   "execution_count": 34,
   "metadata": {},
   "outputs": [
    {
     "name": "stdout",
     "output_type": "stream",
     "text": [
      "Средняя прибыль: 344295892.34\n",
      "95% доверительный интервал: [-215964219.94, 880027938.14]\n",
      "Риск получить убыток: 11.40%\n"
     ]
    }
   ],
   "source": [
    "profits = bootstrap_profit(\n",
    "    target_valid_3, predicted_3, 1000, SEARCH_WELLS, DEVELOP_WELLS, PRICE_FOR_UNIT, BUDGET\n",
    ")\n",
    "lower = profits.quantile(.025)\n",
    "upper = profits.quantile(.975)\n",
    "loss = profits[profits < 0].count() / profits.shape[0]\n",
    "print(f'Средняя прибыль: {profits.mean():.2f}')\n",
    "print(f'95% доверительный интервал: [{lower:.2f}, {upper:.2f}]')\n",
    "print(f'Риск получить убыток: {loss:.2%}', )"
   ]
  },
  {
   "cell_type": "markdown",
   "metadata": {},
   "source": [
    "**Вывод:** Для каждого региона была применена техника Bootstrap на 1000 выборках. Каждая выборка содержит 500 скважин для которых проводятся исследования. Из этих 500 выбираются 200, у которых модель предсказала наибольший объем запасов. В итоге были получены следующие результаты:  \n",
    "1. Регион №1. Средняя прибыль составила `440446619.54`. 95% доверительный интервал для прибыли: `[-129698263.88, 980351534.78]`. Нижняя граница говорит о том, что мы имеем вероятность 2,5% получить убыток в `129698263.88` или более. Риск получить убыток составляет 5.8%  \n",
    "2. Регион №2. Средняя прибыль составила `489036146.09`. 95% доверительный интервал для прибыли: `[63878578.77, 900130455.53]`. Нижняя граница говорит о том, что с вероятностью в 97.5% мы получим прибыль не менее `63878578.77`. Риск получить убыток составляет 1%  \n",
    "3. Регион №3. Средняя прибыль составила `344295892.34`. 95% доверительный интервал для прибыли: `[-215964219.94, 880027938.14]`. Нижняя граница говорит о том, что мы имеем вероятность 2,5% получить убыток в `215964219.94` или более. Риск получить убыток составляет 11.4%  \n",
    "  \n",
    "В результате регионы 1 и 3 имеют слишком высокий риск получить убыток. Также стоит заметить, что вероятная прибыль во втором регионе наибольшая:  \n",
    "* средняя прибыль `489036146.09`  \n",
    "* с вероятностью 97.5% прибыль будет не менее `63878578.77`  \n",
    "* с вероятность. 2.5% прибыль будет более `900130455.53`  \n",
    "  \n",
    "Таким образом, регион №2 является наиболее перспективным и безопасным для инвестиций. "
   ]
  },
  {
   "cell_type": "markdown",
   "metadata": {},
   "source": [
    "\n",
    "<div class=\"alert alert-block alert-success\">\n",
    "<b>Успех:</b> Отлично, проведено детальное исследование и был выбран правильный регион!\n",
    "</div>\n",
    "\n",
    "\n",
    "\n",
    "<div class=\"alert alert-block alert-info\">\n",
    "<b>Совет: </b> Если интересно изучить тему бутстрапа глубже - я оставлю  ниже несколько интересных и полезных ссылок по теме:\n",
    "        \n",
    "1. \"Bootstrap Hypothesis Testing in Statistics with Example\" \n",
    "        \n",
    "https://www.youtube.com/watch?v=9STZ7MxkNVg\n",
    "        \n",
    "2. \"How to Calculate Bootstrap Confidence Intervals For Machine Learning Results in Python\" \n",
    "        \n",
    "https://machinelearningmastery.com/calculate-bootstrap-confidence-intervals-machine-learning-results-python/\n",
    "        \n",
    "3. \"A Gentle Introduction to the Bootstrap Method\" \n",
    "\n",
    "https://machinelearningmastery.com/a-gentle-introduction-to-the-bootstrap-method/\n",
    "        \n",
    "4. \"An Introduction to the Bootstrap Method\" \n",
    "        \n",
    "https://towardsdatascience.com/an-introduction-to-the-bootstrap-method-58bcb51b4d60#:~:text=The%20basic%20idea%20of%20bootstrap,population%20mean)%20on%20sample%20data.&amp;text=A%20sample%20from%20population%20with%20sample%20size%20n\n",
    "        \n",
    "5. \"Bootstrapping and Resampling in Statistics with Example\" \n",
    "        \n",
    "        \n",
    "https://www.youtube.com/watch?v=O_Fj4q8lgmc\n",
    "\n",
    "6. Также одна из программ на рынке по этой теме управлненеческого моделирования - AnyLogic - интересный продукт. Можешь видео из интернета посмотреть по какому-нибудь примеру с её использованием. Тогда тема управленческого моделирования и бутстрапа может по-другому лечь.\n",
    "</div>\n",
    "\n",
    "\n"
   ]
  },
  {
   "cell_type": "markdown",
   "metadata": {},
   "source": [
    "<div class=\"alert alert-block alert-warning\">\n",
    "<b>Комментарий студента:</b> Спасибо большое за советы и полезные материалы. Изучу их и постараюсь использовать в будущих проектах.\n",
    "</div>"
   ]
  },
  {
   "cell_type": "markdown",
   "metadata": {},
   "source": [
    "<div class=\"alert alert-block alert-success\">\n",
    "    \n",
    "<b>Успех[2]:</b> 🤝\n",
    "</div>\n"
   ]
  },
  {
   "cell_type": "markdown",
   "metadata": {},
   "source": [
    "## Общий вывод"
   ]
  },
  {
   "cell_type": "markdown",
   "metadata": {},
   "source": [
    "В результате работы были обучены модели линейной регрессии для каждого из трех регионов. Наилучний результат показала модель для 2 региона: RMSE = 0.89 при среднем запасе предсказанного сырья в 68.6 единиц. Модели для регионов 1 и 3 имеют значительно больший средний предсказанный объем сырья: 92.4 и 95.1 соответственно. Однако модели имеют большую ошибку: RMSE моделей равен 37.76 и 40.24 соответственно.  \n",
    "В ходе обучения были изучены зависимости признаков. Выяснилось, что наибольший вклад в решение всех моделей вносит признак f2. Целевой признак практически не зависит от признаков f0 и f1. Поэтому при необходимости улучшения качества обучаемых моделей стоит изучить другие признаки и заменить ими признаки f0 и f1. Также можно исследовать качество моделей, обученных без этих признаков.  \n",
    "Далее была рассчитана прибыль для каждого региона и изучены риски:\n",
    "1. Регион №1. Средняя прибыль составила `440446619.54`. 95% доверительный интервал для прибыли: `[-129698263.88, 980351534.78]`. Риск получить убыток составляет 5.8%. Риск получить убыток `129698263.88` или более составляет 2.5%.  \n",
    "2. Регион №2. Средняя прибыль составила `489036146.09`. 95% доверительный интервал для прибыли: `[63878578.77, 900130455.53]`. С вероятностью в 97.5% прибыль в регионе составит не менее `63878578.77`. С вероятностью 2.5% прибыль составит `900130455.53` или более.\n",
    "3. Регион №3. Средняя прибыль составила `344295892.34`. 95% доверительный интервал для прибыли: `[-215964219.94, 880027938.14]`. Риск получить убыток составляет 11.4%. Риск получить убыток в `215964219.94` или более составляет 2.5%.  \n",
    "  \n",
    "Исходя из всего вышесказанного, регион №2 является наиболее перспективным и безопасным для инвестиций и рекомендуется к разработке."
   ]
  },
  {
   "cell_type": "markdown",
   "metadata": {},
   "source": [
    "\n",
    "<div class=\"alert alert-block alert-success\">\n",
    "<b>Успех:</b> Всегда приятно наблюдать подробный и структурированный итоговый вывод в конце работы! \n",
    "</div>\n"
   ]
  },
  {
   "cell_type": "markdown",
   "metadata": {},
   "source": [
    "## Чек-лист готовности проекта"
   ]
  },
  {
   "cell_type": "markdown",
   "metadata": {},
   "source": [
    "Поставьте 'x' в выполненных пунктах. Далее нажмите Shift+Enter."
   ]
  },
  {
   "cell_type": "markdown",
   "metadata": {},
   "source": [
    "- [x]  Jupyter Notebook открыт\n",
    "- [x]  Весь код выполняется без ошибок\n",
    "- [x]  Ячейки с кодом расположены в порядке исполнения\n",
    "- [x]  Выполнен шаг 1: данные подготовлены\n",
    "- [x]  Выполнен шаг 2: модели обучены и проверены\n",
    "    - [x]  Данные корректно разбиты на обучающую и валидационную выборки\n",
    "    - [x]  Модели обучены, предсказания сделаны\n",
    "    - [x]  Предсказания и правильные ответы на валидационной выборке сохранены\n",
    "    - [x]  На экране напечатаны результаты\n",
    "    - [x]  Сделаны выводы\n",
    "- [x]  Выполнен шаг 3: проведена подготовка к расчёту прибыли\n",
    "    - [x]  Для всех ключевых значений созданы константы Python\n",
    "    - [x]  Посчитано минимальное среднее количество продукта в месторождениях региона, достаточное для разработки\n",
    "    - [x]  По предыдущему пункту сделаны выводы\n",
    "    - [x]  Написана функция расчёта прибыли\n",
    "- [x]  Выполнен шаг 4: посчитаны риски и прибыль\n",
    "    - [x]  Проведена процедура *Bootstrap*\n",
    "    - [x]  Все параметры бутстрепа соответствуют условию\n",
    "    - [x]  Найдены все нужные величины\n",
    "    - [x]  Предложен регион для разработки месторождения\n",
    "    - [x]  Выбор региона обоснован"
   ]
  },
  {
   "cell_type": "code",
   "execution_count": null,
   "metadata": {},
   "outputs": [],
   "source": []
  }
 ],
 "metadata": {
  "ExecuteTimeLog": [
   {
    "duration": 475,
    "start_time": "2023-07-16T20:06:07.163Z"
   },
   {
    "duration": 86,
    "start_time": "2023-07-16T20:06:59.021Z"
   },
   {
    "duration": 3055,
    "start_time": "2023-07-16T20:07:29.869Z"
   },
   {
    "duration": 46,
    "start_time": "2023-07-16T20:08:01.158Z"
   },
   {
    "duration": 110,
    "start_time": "2023-07-16T20:08:35.505Z"
   },
   {
    "duration": 39,
    "start_time": "2023-07-16T20:08:38.710Z"
   },
   {
    "duration": 27,
    "start_time": "2023-07-16T20:08:56.624Z"
   },
   {
    "duration": 434,
    "start_time": "2023-07-17T07:29:58.969Z"
   },
   {
    "duration": 4,
    "start_time": "2023-07-17T07:30:14.687Z"
   },
   {
    "duration": 68,
    "start_time": "2023-07-17T07:31:50.990Z"
   },
   {
    "duration": 2165,
    "start_time": "2023-07-17T07:31:58.020Z"
   },
   {
    "duration": 39,
    "start_time": "2023-07-17T07:32:01.190Z"
   },
   {
    "duration": 32,
    "start_time": "2023-07-17T07:32:01.900Z"
   },
   {
    "duration": 26,
    "start_time": "2023-07-17T07:32:02.388Z"
   },
   {
    "duration": 3,
    "start_time": "2023-07-17T07:32:03.222Z"
   },
   {
    "duration": 5,
    "start_time": "2023-07-17T07:32:04.521Z"
   },
   {
    "duration": 941,
    "start_time": "2023-07-17T07:34:43.890Z"
   },
   {
    "duration": 4,
    "start_time": "2023-07-17T07:35:02.718Z"
   },
   {
    "duration": 23,
    "start_time": "2023-07-17T07:37:16.254Z"
   },
   {
    "duration": 13,
    "start_time": "2023-07-17T07:39:02.268Z"
   },
   {
    "duration": 6,
    "start_time": "2023-07-17T07:39:11.766Z"
   },
   {
    "duration": 10,
    "start_time": "2023-07-17T07:43:14.418Z"
   },
   {
    "duration": 4,
    "start_time": "2023-07-17T07:44:07.450Z"
   },
   {
    "duration": 15,
    "start_time": "2023-07-17T07:45:57.403Z"
   },
   {
    "duration": 15,
    "start_time": "2023-07-17T07:46:08.315Z"
   },
   {
    "duration": 9,
    "start_time": "2023-07-17T07:49:01.610Z"
   },
   {
    "duration": 6,
    "start_time": "2023-07-17T07:49:09.881Z"
   },
   {
    "duration": 5,
    "start_time": "2023-07-17T07:49:25.704Z"
   },
   {
    "duration": 4,
    "start_time": "2023-07-17T07:49:32.666Z"
   },
   {
    "duration": 463,
    "start_time": "2023-07-17T07:49:32.678Z"
   },
   {
    "duration": 41,
    "start_time": "2023-07-17T07:49:33.143Z"
   },
   {
    "duration": 30,
    "start_time": "2023-07-17T07:49:33.186Z"
   },
   {
    "duration": 27,
    "start_time": "2023-07-17T07:49:33.218Z"
   },
   {
    "duration": 12,
    "start_time": "2023-07-17T07:49:33.267Z"
   },
   {
    "duration": 11,
    "start_time": "2023-07-17T07:49:33.285Z"
   },
   {
    "duration": 27,
    "start_time": "2023-07-17T07:49:33.299Z"
   },
   {
    "duration": 7,
    "start_time": "2023-07-17T07:49:33.329Z"
   },
   {
    "duration": 5,
    "start_time": "2023-07-17T07:49:34.098Z"
   },
   {
    "duration": 5,
    "start_time": "2023-07-17T07:49:34.340Z"
   },
   {
    "duration": 16,
    "start_time": "2023-07-17T07:50:26.488Z"
   },
   {
    "duration": 5,
    "start_time": "2023-07-17T07:50:33.550Z"
   },
   {
    "duration": 118,
    "start_time": "2023-07-17T07:50:53.701Z"
   },
   {
    "duration": 26,
    "start_time": "2023-07-17T07:50:57.254Z"
   },
   {
    "duration": 16,
    "start_time": "2023-07-17T07:52:07.184Z"
   },
   {
    "duration": 17,
    "start_time": "2023-07-17T07:52:48.270Z"
   },
   {
    "duration": 4,
    "start_time": "2023-07-17T07:52:50.051Z"
   },
   {
    "duration": 9,
    "start_time": "2023-07-17T07:53:07.251Z"
   },
   {
    "duration": 14,
    "start_time": "2023-07-17T07:53:25.971Z"
   },
   {
    "duration": 1166,
    "start_time": "2023-07-17T15:57:54.609Z"
   },
   {
    "duration": 132,
    "start_time": "2023-07-17T15:58:57.666Z"
   },
   {
    "duration": 13,
    "start_time": "2023-07-17T15:59:16.946Z"
   },
   {
    "duration": 3,
    "start_time": "2023-07-17T15:59:21.171Z"
   },
   {
    "duration": 12,
    "start_time": "2023-07-17T16:03:17.087Z"
   },
   {
    "duration": 3,
    "start_time": "2023-07-17T16:03:25.806Z"
   },
   {
    "duration": 852,
    "start_time": "2023-07-17T16:03:25.811Z"
   },
   {
    "duration": 24,
    "start_time": "2023-07-17T16:03:26.666Z"
   },
   {
    "duration": 21,
    "start_time": "2023-07-17T16:03:26.692Z"
   },
   {
    "duration": 39,
    "start_time": "2023-07-17T16:03:26.715Z"
   },
   {
    "duration": 4,
    "start_time": "2023-07-17T16:03:26.756Z"
   },
   {
    "duration": 10,
    "start_time": "2023-07-17T16:03:26.762Z"
   },
   {
    "duration": 34,
    "start_time": "2023-07-17T16:03:26.774Z"
   },
   {
    "duration": 4,
    "start_time": "2023-07-17T16:03:26.811Z"
   },
   {
    "duration": 27,
    "start_time": "2023-07-17T16:03:26.817Z"
   },
   {
    "duration": 87,
    "start_time": "2023-07-17T16:03:26.846Z"
   },
   {
    "duration": 19,
    "start_time": "2023-07-17T16:03:33.201Z"
   },
   {
    "duration": 90,
    "start_time": "2023-07-17T16:04:46.546Z"
   },
   {
    "duration": 3,
    "start_time": "2023-07-17T16:04:51.266Z"
   },
   {
    "duration": 22,
    "start_time": "2023-07-17T16:04:55.854Z"
   },
   {
    "duration": 21,
    "start_time": "2023-07-17T16:08:54.908Z"
   },
   {
    "duration": 10,
    "start_time": "2023-07-17T16:12:57.945Z"
   },
   {
    "duration": 12,
    "start_time": "2023-07-17T16:13:10.265Z"
   },
   {
    "duration": 10,
    "start_time": "2023-07-17T16:13:11.092Z"
   },
   {
    "duration": 11,
    "start_time": "2023-07-17T16:13:54.413Z"
   },
   {
    "duration": 11,
    "start_time": "2023-07-17T16:14:13.452Z"
   },
   {
    "duration": 8,
    "start_time": "2023-07-17T16:14:18.310Z"
   },
   {
    "duration": 3,
    "start_time": "2023-07-17T16:14:47.077Z"
   },
   {
    "duration": 413,
    "start_time": "2023-07-17T16:14:47.082Z"
   },
   {
    "duration": 21,
    "start_time": "2023-07-17T16:14:47.497Z"
   },
   {
    "duration": 42,
    "start_time": "2023-07-17T16:14:47.519Z"
   },
   {
    "duration": 40,
    "start_time": "2023-07-17T16:14:47.563Z"
   },
   {
    "duration": 2,
    "start_time": "2023-07-17T16:14:47.605Z"
   },
   {
    "duration": 49,
    "start_time": "2023-07-17T16:14:47.609Z"
   },
   {
    "duration": 43,
    "start_time": "2023-07-17T16:14:47.660Z"
   },
   {
    "duration": 10,
    "start_time": "2023-07-17T16:14:47.704Z"
   },
   {
    "duration": 8,
    "start_time": "2023-07-17T16:14:48.857Z"
   },
   {
    "duration": 20,
    "start_time": "2023-07-17T16:15:36.361Z"
   },
   {
    "duration": 8,
    "start_time": "2023-07-17T16:15:39.667Z"
   },
   {
    "duration": 32,
    "start_time": "2023-07-17T16:15:55.951Z"
   },
   {
    "duration": 9,
    "start_time": "2023-07-17T16:16:41.347Z"
   },
   {
    "duration": 4,
    "start_time": "2023-07-17T16:16:54.267Z"
   },
   {
    "duration": 10,
    "start_time": "2023-07-17T16:17:08.567Z"
   },
   {
    "duration": 35,
    "start_time": "2023-07-17T16:17:21.595Z"
   },
   {
    "duration": 11,
    "start_time": "2023-07-17T16:18:20.611Z"
   },
   {
    "duration": 1424,
    "start_time": "2023-07-17T16:18:27.773Z"
   },
   {
    "duration": 5,
    "start_time": "2023-07-17T16:19:16.853Z"
   },
   {
    "duration": 12,
    "start_time": "2023-07-17T16:21:44.786Z"
   },
   {
    "duration": 12,
    "start_time": "2023-07-17T16:21:58.369Z"
   },
   {
    "duration": 11,
    "start_time": "2023-07-17T16:22:04.685Z"
   },
   {
    "duration": 9,
    "start_time": "2023-07-17T16:22:12.065Z"
   },
   {
    "duration": 4,
    "start_time": "2023-07-17T16:22:20.057Z"
   },
   {
    "duration": 429,
    "start_time": "2023-07-17T16:22:20.063Z"
   },
   {
    "duration": 22,
    "start_time": "2023-07-17T16:22:20.494Z"
   },
   {
    "duration": 42,
    "start_time": "2023-07-17T16:22:20.517Z"
   },
   {
    "duration": 32,
    "start_time": "2023-07-17T16:22:20.564Z"
   },
   {
    "duration": 3,
    "start_time": "2023-07-17T16:22:20.759Z"
   },
   {
    "duration": 15,
    "start_time": "2023-07-17T16:22:20.764Z"
   },
   {
    "duration": 10,
    "start_time": "2023-07-17T16:22:23.298Z"
   },
   {
    "duration": 18,
    "start_time": "2023-07-17T16:22:23.310Z"
   },
   {
    "duration": 51,
    "start_time": "2023-07-17T16:22:23.329Z"
   },
   {
    "duration": 34,
    "start_time": "2023-07-17T16:22:23.382Z"
   },
   {
    "duration": 59,
    "start_time": "2023-07-17T16:22:23.419Z"
   },
   {
    "duration": 22,
    "start_time": "2023-07-17T16:22:23.479Z"
   },
   {
    "duration": 4,
    "start_time": "2023-07-17T16:22:34.489Z"
   },
   {
    "duration": 5,
    "start_time": "2023-07-17T16:22:35.100Z"
   },
   {
    "duration": 30,
    "start_time": "2023-07-17T16:22:36.286Z"
   },
   {
    "duration": 3,
    "start_time": "2023-07-17T16:23:01.261Z"
   },
   {
    "duration": 533,
    "start_time": "2023-07-17T16:23:01.266Z"
   },
   {
    "duration": 22,
    "start_time": "2023-07-17T16:23:01.801Z"
   },
   {
    "duration": 66,
    "start_time": "2023-07-17T16:23:01.831Z"
   },
   {
    "duration": 41,
    "start_time": "2023-07-17T16:23:01.899Z"
   },
   {
    "duration": 34,
    "start_time": "2023-07-17T16:23:01.942Z"
   },
   {
    "duration": 45,
    "start_time": "2023-07-17T16:23:01.978Z"
   },
   {
    "duration": 68,
    "start_time": "2023-07-17T16:23:02.024Z"
   },
   {
    "duration": 83,
    "start_time": "2023-07-17T16:23:02.094Z"
   },
   {
    "duration": 34,
    "start_time": "2023-07-17T16:23:02.179Z"
   },
   {
    "duration": 90,
    "start_time": "2023-07-17T16:23:02.215Z"
   },
   {
    "duration": 41,
    "start_time": "2023-07-17T16:23:02.306Z"
   },
   {
    "duration": 16,
    "start_time": "2023-07-17T16:23:06.546Z"
   },
   {
    "duration": 11,
    "start_time": "2023-07-17T16:23:07.871Z"
   },
   {
    "duration": 9,
    "start_time": "2023-07-17T16:23:10.467Z"
   },
   {
    "duration": 4,
    "start_time": "2023-07-17T16:23:13.968Z"
   },
   {
    "duration": 6,
    "start_time": "2023-07-17T16:23:14.892Z"
   },
   {
    "duration": 104,
    "start_time": "2023-07-17T16:23:18.461Z"
   },
   {
    "duration": 18,
    "start_time": "2023-07-17T16:24:48.494Z"
   },
   {
    "duration": 21,
    "start_time": "2023-07-17T16:24:53.548Z"
   },
   {
    "duration": 5,
    "start_time": "2023-07-17T16:25:00.456Z"
   },
   {
    "duration": 6,
    "start_time": "2023-07-17T16:25:04.612Z"
   },
   {
    "duration": 79,
    "start_time": "2023-07-17T16:25:10.073Z"
   },
   {
    "duration": 4,
    "start_time": "2023-07-17T16:26:34.257Z"
   },
   {
    "duration": 448,
    "start_time": "2023-07-17T16:26:34.263Z"
   },
   {
    "duration": 29,
    "start_time": "2023-07-17T16:26:34.712Z"
   },
   {
    "duration": 39,
    "start_time": "2023-07-17T16:26:34.743Z"
   },
   {
    "duration": 29,
    "start_time": "2023-07-17T16:26:34.784Z"
   },
   {
    "duration": 5,
    "start_time": "2023-07-17T16:26:34.815Z"
   },
   {
    "duration": 41,
    "start_time": "2023-07-17T16:26:34.821Z"
   },
   {
    "duration": 4,
    "start_time": "2023-07-17T16:26:36.509Z"
   },
   {
    "duration": 13,
    "start_time": "2023-07-17T16:26:36.896Z"
   },
   {
    "duration": 13,
    "start_time": "2023-07-17T16:26:37.876Z"
   },
   {
    "duration": 3,
    "start_time": "2023-07-17T16:26:38.561Z"
   },
   {
    "duration": 12,
    "start_time": "2023-07-17T16:26:41.206Z"
   },
   {
    "duration": 4,
    "start_time": "2023-07-17T16:27:11.702Z"
   },
   {
    "duration": 442,
    "start_time": "2023-07-17T16:27:11.708Z"
   },
   {
    "duration": 27,
    "start_time": "2023-07-17T16:27:12.151Z"
   },
   {
    "duration": 21,
    "start_time": "2023-07-17T16:27:12.179Z"
   },
   {
    "duration": 32,
    "start_time": "2023-07-17T16:27:12.202Z"
   },
   {
    "duration": 6,
    "start_time": "2023-07-17T16:27:12.235Z"
   },
   {
    "duration": 53,
    "start_time": "2023-07-17T16:27:12.243Z"
   },
   {
    "duration": 17,
    "start_time": "2023-07-17T16:27:12.297Z"
   },
   {
    "duration": 20,
    "start_time": "2023-07-17T16:27:12.315Z"
   },
   {
    "duration": 18,
    "start_time": "2023-07-17T16:27:13.415Z"
   },
   {
    "duration": 29,
    "start_time": "2023-07-17T16:27:16.268Z"
   },
   {
    "duration": 3,
    "start_time": "2023-07-17T16:27:20.761Z"
   },
   {
    "duration": 54,
    "start_time": "2023-07-17T16:27:22.212Z"
   },
   {
    "duration": 1364,
    "start_time": "2023-07-17T20:30:27.308Z"
   },
   {
    "duration": 2260,
    "start_time": "2023-07-17T20:30:28.674Z"
   },
   {
    "duration": 54,
    "start_time": "2023-07-17T20:30:30.936Z"
   },
   {
    "duration": 234,
    "start_time": "2023-07-17T20:30:30.993Z"
   },
   {
    "duration": 184,
    "start_time": "2023-07-17T20:30:31.229Z"
   },
   {
    "duration": 116,
    "start_time": "2023-07-17T20:30:31.414Z"
   },
   {
    "duration": 147,
    "start_time": "2023-07-17T20:30:31.540Z"
   },
   {
    "duration": 138,
    "start_time": "2023-07-17T20:30:31.690Z"
   },
   {
    "duration": 73,
    "start_time": "2023-07-17T20:30:31.831Z"
   },
   {
    "duration": 59,
    "start_time": "2023-07-17T20:30:31.907Z"
   },
   {
    "duration": 290,
    "start_time": "2023-07-17T20:30:31.968Z"
   },
   {
    "duration": 0,
    "start_time": "2023-07-17T20:30:32.260Z"
   },
   {
    "duration": 29,
    "start_time": "2023-07-17T20:31:16.278Z"
   },
   {
    "duration": 52,
    "start_time": "2023-07-17T20:31:17.250Z"
   },
   {
    "duration": 4,
    "start_time": "2023-07-17T20:31:19.201Z"
   },
   {
    "duration": 100,
    "start_time": "2023-07-17T20:31:22.485Z"
   },
   {
    "duration": 15,
    "start_time": "2023-07-17T20:31:48.100Z"
   },
   {
    "duration": 40,
    "start_time": "2023-07-17T20:31:49.260Z"
   },
   {
    "duration": 8,
    "start_time": "2023-07-17T20:31:49.997Z"
   },
   {
    "duration": 107,
    "start_time": "2023-07-17T20:31:50.500Z"
   },
   {
    "duration": 7,
    "start_time": "2023-07-17T20:31:57.063Z"
   },
   {
    "duration": 635,
    "start_time": "2023-07-17T20:31:57.073Z"
   },
   {
    "duration": 39,
    "start_time": "2023-07-17T20:31:57.712Z"
   },
   {
    "duration": 40,
    "start_time": "2023-07-17T20:31:57.757Z"
   },
   {
    "duration": 43,
    "start_time": "2023-07-17T20:31:57.806Z"
   },
   {
    "duration": 5,
    "start_time": "2023-07-17T20:31:57.851Z"
   },
   {
    "duration": 46,
    "start_time": "2023-07-17T20:31:57.858Z"
   },
   {
    "duration": 15,
    "start_time": "2023-07-17T20:31:57.911Z"
   },
   {
    "duration": 71,
    "start_time": "2023-07-17T20:31:57.927Z"
   },
   {
    "duration": 57,
    "start_time": "2023-07-17T20:31:58.000Z"
   },
   {
    "duration": 102,
    "start_time": "2023-07-17T20:31:58.059Z"
   },
   {
    "duration": 65,
    "start_time": "2023-07-17T20:31:58.164Z"
   },
   {
    "duration": 5,
    "start_time": "2023-07-17T20:31:59.815Z"
   },
   {
    "duration": 256,
    "start_time": "2023-07-17T20:32:00.218Z"
   },
   {
    "duration": 6,
    "start_time": "2023-07-17T20:32:29.276Z"
   },
   {
    "duration": 516,
    "start_time": "2023-07-17T20:32:29.285Z"
   },
   {
    "duration": 50,
    "start_time": "2023-07-17T20:32:29.808Z"
   },
   {
    "duration": 49,
    "start_time": "2023-07-17T20:32:29.864Z"
   },
   {
    "duration": 38,
    "start_time": "2023-07-17T20:32:29.916Z"
   },
   {
    "duration": 12,
    "start_time": "2023-07-17T20:32:29.955Z"
   },
   {
    "duration": 121,
    "start_time": "2023-07-17T20:32:29.968Z"
   },
   {
    "duration": 124,
    "start_time": "2023-07-17T20:32:30.096Z"
   },
   {
    "duration": 84,
    "start_time": "2023-07-17T20:32:30.222Z"
   },
   {
    "duration": 22,
    "start_time": "2023-07-17T20:32:30.308Z"
   },
   {
    "duration": 176,
    "start_time": "2023-07-17T20:32:30.334Z"
   },
   {
    "duration": 89,
    "start_time": "2023-07-17T20:32:30.512Z"
   },
   {
    "duration": 4,
    "start_time": "2023-07-17T20:32:31.900Z"
   },
   {
    "duration": 41,
    "start_time": "2023-07-17T20:32:32.321Z"
   },
   {
    "duration": 5,
    "start_time": "2023-07-17T20:33:08.884Z"
   },
   {
    "duration": 703,
    "start_time": "2023-07-17T20:33:08.892Z"
   },
   {
    "duration": 39,
    "start_time": "2023-07-17T20:33:09.597Z"
   },
   {
    "duration": 236,
    "start_time": "2023-07-17T20:33:09.639Z"
   },
   {
    "duration": 144,
    "start_time": "2023-07-17T20:33:09.893Z"
   },
   {
    "duration": 46,
    "start_time": "2023-07-17T20:33:10.048Z"
   },
   {
    "duration": 199,
    "start_time": "2023-07-17T20:33:10.096Z"
   },
   {
    "duration": 23,
    "start_time": "2023-07-17T20:33:10.297Z"
   },
   {
    "duration": 161,
    "start_time": "2023-07-17T20:33:10.321Z"
   },
   {
    "duration": 127,
    "start_time": "2023-07-17T20:33:10.484Z"
   },
   {
    "duration": 139,
    "start_time": "2023-07-17T20:33:10.614Z"
   },
   {
    "duration": 148,
    "start_time": "2023-07-17T20:33:10.899Z"
   },
   {
    "duration": 111,
    "start_time": "2023-07-17T20:33:12.405Z"
   },
   {
    "duration": 11,
    "start_time": "2023-07-17T20:33:36.408Z"
   },
   {
    "duration": 8,
    "start_time": "2023-07-17T20:34:11.056Z"
   },
   {
    "duration": 629,
    "start_time": "2023-07-17T20:34:11.068Z"
   },
   {
    "duration": 46,
    "start_time": "2023-07-17T20:34:11.699Z"
   },
   {
    "duration": 164,
    "start_time": "2023-07-17T20:34:11.746Z"
   },
   {
    "duration": 39,
    "start_time": "2023-07-17T20:34:11.916Z"
   },
   {
    "duration": 5,
    "start_time": "2023-07-17T20:34:11.960Z"
   },
   {
    "duration": 60,
    "start_time": "2023-07-17T20:34:11.969Z"
   },
   {
    "duration": 91,
    "start_time": "2023-07-17T20:34:12.031Z"
   },
   {
    "duration": 4,
    "start_time": "2023-07-17T20:34:12.124Z"
   },
   {
    "duration": 86,
    "start_time": "2023-07-17T20:34:12.129Z"
   },
   {
    "duration": 33,
    "start_time": "2023-07-17T20:34:12.218Z"
   },
   {
    "duration": 45,
    "start_time": "2023-07-17T20:34:12.252Z"
   },
   {
    "duration": 17,
    "start_time": "2023-07-17T20:34:13.151Z"
   },
   {
    "duration": 107,
    "start_time": "2023-07-17T20:34:14.170Z"
   },
   {
    "duration": 21,
    "start_time": "2023-07-17T20:34:15.576Z"
   },
   {
    "duration": 60,
    "start_time": "2023-07-17T20:36:23.090Z"
   },
   {
    "duration": 6,
    "start_time": "2023-07-17T20:37:12.578Z"
   },
   {
    "duration": 581,
    "start_time": "2023-07-17T20:37:12.587Z"
   },
   {
    "duration": 29,
    "start_time": "2023-07-17T20:37:13.179Z"
   },
   {
    "duration": 27,
    "start_time": "2023-07-17T20:37:13.211Z"
   },
   {
    "duration": 42,
    "start_time": "2023-07-17T20:37:13.239Z"
   },
   {
    "duration": 33,
    "start_time": "2023-07-17T20:37:13.288Z"
   },
   {
    "duration": 13,
    "start_time": "2023-07-17T20:37:13.323Z"
   },
   {
    "duration": 79,
    "start_time": "2023-07-17T20:37:13.337Z"
   },
   {
    "duration": 36,
    "start_time": "2023-07-17T20:37:13.420Z"
   },
   {
    "duration": 83,
    "start_time": "2023-07-17T20:37:13.458Z"
   },
   {
    "duration": 57,
    "start_time": "2023-07-17T20:37:13.546Z"
   },
   {
    "duration": 18,
    "start_time": "2023-07-17T20:37:13.605Z"
   },
   {
    "duration": 185,
    "start_time": "2023-07-17T20:37:13.752Z"
   },
   {
    "duration": 11,
    "start_time": "2023-07-17T20:37:16.704Z"
   },
   {
    "duration": 55,
    "start_time": "2023-07-17T20:39:36.072Z"
   },
   {
    "duration": 61,
    "start_time": "2023-07-17T20:40:13.265Z"
   },
   {
    "duration": 84,
    "start_time": "2023-07-17T20:40:50.619Z"
   },
   {
    "duration": 255,
    "start_time": "2023-07-17T20:44:00.364Z"
   },
   {
    "duration": 17,
    "start_time": "2023-07-17T20:44:41.467Z"
   },
   {
    "duration": 836,
    "start_time": "2023-07-17T20:44:41.487Z"
   },
   {
    "duration": 42,
    "start_time": "2023-07-17T20:44:42.332Z"
   },
   {
    "duration": 140,
    "start_time": "2023-07-17T20:44:42.382Z"
   },
   {
    "duration": 40,
    "start_time": "2023-07-17T20:44:42.530Z"
   },
   {
    "duration": 60,
    "start_time": "2023-07-17T20:44:42.575Z"
   },
   {
    "duration": 79,
    "start_time": "2023-07-17T20:44:42.652Z"
   },
   {
    "duration": 100,
    "start_time": "2023-07-17T20:44:42.738Z"
   },
   {
    "duration": 138,
    "start_time": "2023-07-17T20:44:42.843Z"
   },
   {
    "duration": 46,
    "start_time": "2023-07-17T20:44:42.993Z"
   },
   {
    "duration": 102,
    "start_time": "2023-07-17T20:44:43.048Z"
   },
   {
    "duration": 56,
    "start_time": "2023-07-17T20:44:43.163Z"
   },
   {
    "duration": 7,
    "start_time": "2023-07-17T20:44:44.512Z"
   },
   {
    "duration": 174,
    "start_time": "2023-07-17T20:44:45.556Z"
   },
   {
    "duration": 6,
    "start_time": "2023-07-17T20:47:39.097Z"
   },
   {
    "duration": 1188,
    "start_time": "2023-07-17T20:47:39.105Z"
   },
   {
    "duration": 57,
    "start_time": "2023-07-17T20:47:40.298Z"
   },
   {
    "duration": 230,
    "start_time": "2023-07-17T20:47:40.361Z"
   },
   {
    "duration": 144,
    "start_time": "2023-07-17T20:47:40.611Z"
   },
   {
    "duration": 125,
    "start_time": "2023-07-17T20:47:40.762Z"
   },
   {
    "duration": 178,
    "start_time": "2023-07-17T20:47:40.897Z"
   },
   {
    "duration": 197,
    "start_time": "2023-07-17T20:47:41.086Z"
   },
   {
    "duration": 163,
    "start_time": "2023-07-17T20:47:41.296Z"
   },
   {
    "duration": 239,
    "start_time": "2023-07-17T20:47:41.466Z"
   },
   {
    "duration": 243,
    "start_time": "2023-07-17T20:47:41.712Z"
   },
   {
    "duration": 111,
    "start_time": "2023-07-17T20:47:41.968Z"
   },
   {
    "duration": 258,
    "start_time": "2023-07-17T20:47:42.097Z"
   },
   {
    "duration": 9,
    "start_time": "2023-07-17T20:49:06.507Z"
   },
   {
    "duration": 47,
    "start_time": "2023-07-17T20:49:15.916Z"
   },
   {
    "duration": 10,
    "start_time": "2023-07-17T20:49:21.553Z"
   },
   {
    "duration": 835,
    "start_time": "2023-07-17T20:49:21.565Z"
   },
   {
    "duration": 61,
    "start_time": "2023-07-17T20:49:22.402Z"
   },
   {
    "duration": 189,
    "start_time": "2023-07-17T20:49:22.465Z"
   },
   {
    "duration": 123,
    "start_time": "2023-07-17T20:49:22.665Z"
   },
   {
    "duration": 81,
    "start_time": "2023-07-17T20:49:22.790Z"
   },
   {
    "duration": 152,
    "start_time": "2023-07-17T20:49:22.873Z"
   },
   {
    "duration": 147,
    "start_time": "2023-07-17T20:49:23.032Z"
   },
   {
    "duration": 176,
    "start_time": "2023-07-17T20:49:23.199Z"
   },
   {
    "duration": 246,
    "start_time": "2023-07-17T20:49:23.385Z"
   },
   {
    "duration": 0,
    "start_time": "2023-07-17T20:49:23.641Z"
   },
   {
    "duration": 0,
    "start_time": "2023-07-17T20:49:23.650Z"
   },
   {
    "duration": 7,
    "start_time": "2023-07-17T20:49:24.248Z"
   },
   {
    "duration": 65,
    "start_time": "2023-07-17T20:49:25.324Z"
   },
   {
    "duration": 2361,
    "start_time": "2023-07-17T20:50:57.310Z"
   },
   {
    "duration": 2853,
    "start_time": "2023-07-17T20:51:59.156Z"
   },
   {
    "duration": 23,
    "start_time": "2023-07-17T20:52:07.284Z"
   },
   {
    "duration": 582,
    "start_time": "2023-07-17T20:52:07.310Z"
   },
   {
    "duration": 29,
    "start_time": "2023-07-17T20:52:07.893Z"
   },
   {
    "duration": 146,
    "start_time": "2023-07-17T20:52:07.929Z"
   },
   {
    "duration": 84,
    "start_time": "2023-07-17T20:52:08.084Z"
   },
   {
    "duration": 49,
    "start_time": "2023-07-17T20:52:08.174Z"
   },
   {
    "duration": 40,
    "start_time": "2023-07-17T20:52:08.226Z"
   },
   {
    "duration": 111,
    "start_time": "2023-07-17T20:52:08.269Z"
   },
   {
    "duration": 45,
    "start_time": "2023-07-17T20:52:08.383Z"
   },
   {
    "duration": 2141,
    "start_time": "2023-07-17T20:52:08.430Z"
   },
   {
    "duration": 0,
    "start_time": "2023-07-17T20:52:10.575Z"
   },
   {
    "duration": 0,
    "start_time": "2023-07-17T20:52:10.585Z"
   },
   {
    "duration": 8,
    "start_time": "2023-07-17T20:52:12.045Z"
   },
   {
    "duration": 29,
    "start_time": "2023-07-17T20:52:12.996Z"
   },
   {
    "duration": 6,
    "start_time": "2023-07-17T20:54:12.256Z"
   },
   {
    "duration": 543,
    "start_time": "2023-07-17T20:54:12.265Z"
   },
   {
    "duration": 58,
    "start_time": "2023-07-17T20:54:12.809Z"
   },
   {
    "duration": 32,
    "start_time": "2023-07-17T20:54:12.876Z"
   },
   {
    "duration": 44,
    "start_time": "2023-07-17T20:54:12.910Z"
   },
   {
    "duration": 9,
    "start_time": "2023-07-17T20:54:12.962Z"
   },
   {
    "duration": 36,
    "start_time": "2023-07-17T20:54:12.974Z"
   },
   {
    "duration": 25,
    "start_time": "2023-07-17T20:54:13.013Z"
   },
   {
    "duration": 41,
    "start_time": "2023-07-17T20:54:13.043Z"
   },
   {
    "duration": 725,
    "start_time": "2023-07-17T20:54:13.090Z"
   },
   {
    "duration": 0,
    "start_time": "2023-07-17T20:54:13.818Z"
   },
   {
    "duration": 0,
    "start_time": "2023-07-17T20:54:13.819Z"
   },
   {
    "duration": 7,
    "start_time": "2023-07-17T20:54:14.618Z"
   },
   {
    "duration": 80,
    "start_time": "2023-07-17T20:54:15.203Z"
   },
   {
    "duration": 3,
    "start_time": "2023-07-17T20:55:17.300Z"
   },
   {
    "duration": 581,
    "start_time": "2023-07-17T20:55:17.308Z"
   },
   {
    "duration": 33,
    "start_time": "2023-07-17T20:55:17.892Z"
   },
   {
    "duration": 73,
    "start_time": "2023-07-17T20:55:17.927Z"
   },
   {
    "duration": 114,
    "start_time": "2023-07-17T20:55:18.002Z"
   },
   {
    "duration": 7,
    "start_time": "2023-07-17T20:55:18.118Z"
   },
   {
    "duration": 27,
    "start_time": "2023-07-17T20:55:18.127Z"
   },
   {
    "duration": 66,
    "start_time": "2023-07-17T20:55:18.156Z"
   },
   {
    "duration": 83,
    "start_time": "2023-07-17T20:55:18.224Z"
   },
   {
    "duration": 11,
    "start_time": "2023-07-17T20:55:18.310Z"
   },
   {
    "duration": 870,
    "start_time": "2023-07-17T20:55:18.326Z"
   },
   {
    "duration": 0,
    "start_time": "2023-07-17T20:55:19.197Z"
   },
   {
    "duration": 0,
    "start_time": "2023-07-17T20:55:19.199Z"
   },
   {
    "duration": 9,
    "start_time": "2023-07-17T20:55:21.058Z"
   },
   {
    "duration": 65,
    "start_time": "2023-07-17T20:55:21.773Z"
   },
   {
    "duration": 22,
    "start_time": "2023-07-17T20:55:44.096Z"
   },
   {
    "duration": 4,
    "start_time": "2023-07-17T21:01:26.760Z"
   },
   {
    "duration": 503,
    "start_time": "2023-07-17T21:01:26.768Z"
   },
   {
    "duration": 26,
    "start_time": "2023-07-17T21:01:27.272Z"
   },
   {
    "duration": 48,
    "start_time": "2023-07-17T21:01:27.300Z"
   },
   {
    "duration": 50,
    "start_time": "2023-07-17T21:01:27.350Z"
   },
   {
    "duration": 11,
    "start_time": "2023-07-17T21:01:27.401Z"
   },
   {
    "duration": 7,
    "start_time": "2023-07-17T21:01:27.414Z"
   },
   {
    "duration": 55,
    "start_time": "2023-07-17T21:01:27.423Z"
   },
   {
    "duration": 17,
    "start_time": "2023-07-17T21:01:27.482Z"
   },
   {
    "duration": 7,
    "start_time": "2023-07-17T21:01:27.501Z"
   },
   {
    "duration": 659,
    "start_time": "2023-07-17T21:01:27.510Z"
   },
   {
    "duration": 0,
    "start_time": "2023-07-17T21:01:28.171Z"
   },
   {
    "duration": 0,
    "start_time": "2023-07-17T21:01:28.172Z"
   },
   {
    "duration": 0,
    "start_time": "2023-07-17T21:01:28.173Z"
   },
   {
    "duration": 12,
    "start_time": "2023-07-17T21:01:28.484Z"
   },
   {
    "duration": 59,
    "start_time": "2023-07-17T21:01:29.156Z"
   },
   {
    "duration": 12,
    "start_time": "2023-07-17T21:01:37.191Z"
   },
   {
    "duration": 4,
    "start_time": "2023-07-17T21:02:25.598Z"
   },
   {
    "duration": 560,
    "start_time": "2023-07-17T21:02:25.604Z"
   },
   {
    "duration": 40,
    "start_time": "2023-07-17T21:02:26.169Z"
   },
   {
    "duration": 34,
    "start_time": "2023-07-17T21:02:26.211Z"
   },
   {
    "duration": 59,
    "start_time": "2023-07-17T21:02:26.247Z"
   },
   {
    "duration": 8,
    "start_time": "2023-07-17T21:02:26.307Z"
   },
   {
    "duration": 28,
    "start_time": "2023-07-17T21:02:26.317Z"
   },
   {
    "duration": 111,
    "start_time": "2023-07-17T21:02:26.352Z"
   },
   {
    "duration": 42,
    "start_time": "2023-07-17T21:02:26.471Z"
   },
   {
    "duration": 8,
    "start_time": "2023-07-17T21:02:26.516Z"
   },
   {
    "duration": 186,
    "start_time": "2023-07-17T21:02:26.526Z"
   },
   {
    "duration": 49,
    "start_time": "2023-07-17T21:02:26.714Z"
   },
   {
    "duration": 0,
    "start_time": "2023-07-17T21:02:26.765Z"
   },
   {
    "duration": 4,
    "start_time": "2023-07-17T21:02:27.918Z"
   },
   {
    "duration": 42,
    "start_time": "2023-07-17T21:02:28.318Z"
   },
   {
    "duration": 45,
    "start_time": "2023-07-17T21:02:28.652Z"
   },
   {
    "duration": 5,
    "start_time": "2023-07-17T21:04:35.786Z"
   },
   {
    "duration": 508,
    "start_time": "2023-07-17T21:04:35.793Z"
   },
   {
    "duration": 19,
    "start_time": "2023-07-17T21:04:36.303Z"
   },
   {
    "duration": 31,
    "start_time": "2023-07-17T21:04:36.331Z"
   },
   {
    "duration": 55,
    "start_time": "2023-07-17T21:04:36.367Z"
   },
   {
    "duration": 5,
    "start_time": "2023-07-17T21:04:36.423Z"
   },
   {
    "duration": 58,
    "start_time": "2023-07-17T21:04:36.429Z"
   },
   {
    "duration": 26,
    "start_time": "2023-07-17T21:04:36.490Z"
   },
   {
    "duration": 6,
    "start_time": "2023-07-17T21:04:36.518Z"
   },
   {
    "duration": 35,
    "start_time": "2023-07-17T21:04:36.527Z"
   },
   {
    "duration": 211,
    "start_time": "2023-07-17T21:04:36.564Z"
   },
   {
    "duration": 39,
    "start_time": "2023-07-17T21:04:36.777Z"
   },
   {
    "duration": 0,
    "start_time": "2023-07-17T21:04:36.818Z"
   },
   {
    "duration": 0,
    "start_time": "2023-07-17T21:04:36.819Z"
   },
   {
    "duration": 16,
    "start_time": "2023-07-17T21:04:38.093Z"
   },
   {
    "duration": 33,
    "start_time": "2023-07-17T21:04:38.860Z"
   },
   {
    "duration": 7,
    "start_time": "2023-07-17T21:05:04.183Z"
   },
   {
    "duration": 650,
    "start_time": "2023-07-17T21:05:04.195Z"
   },
   {
    "duration": 40,
    "start_time": "2023-07-17T21:05:04.853Z"
   },
   {
    "duration": 74,
    "start_time": "2023-07-17T21:05:04.901Z"
   },
   {
    "duration": 132,
    "start_time": "2023-07-17T21:05:04.977Z"
   },
   {
    "duration": 107,
    "start_time": "2023-07-17T21:05:05.111Z"
   },
   {
    "duration": 102,
    "start_time": "2023-07-17T21:05:05.221Z"
   },
   {
    "duration": 93,
    "start_time": "2023-07-17T21:05:05.325Z"
   },
   {
    "duration": 8,
    "start_time": "2023-07-17T21:05:05.421Z"
   },
   {
    "duration": 128,
    "start_time": "2023-07-17T21:05:05.438Z"
   },
   {
    "duration": 90,
    "start_time": "2023-07-17T21:05:05.570Z"
   },
   {
    "duration": 99,
    "start_time": "2023-07-17T21:05:05.664Z"
   },
   {
    "duration": 55,
    "start_time": "2023-07-17T21:05:05.766Z"
   },
   {
    "duration": 18,
    "start_time": "2023-07-17T21:05:05.902Z"
   },
   {
    "duration": 106,
    "start_time": "2023-07-17T21:05:05.921Z"
   },
   {
    "duration": 13,
    "start_time": "2023-07-17T21:08:37.970Z"
   },
   {
    "duration": 8632,
    "start_time": "2023-07-17T21:08:45.609Z"
   },
   {
    "duration": 4,
    "start_time": "2023-07-17T21:10:37.764Z"
   },
   {
    "duration": 813,
    "start_time": "2023-07-17T21:10:37.770Z"
   },
   {
    "duration": 67,
    "start_time": "2023-07-17T21:10:38.596Z"
   },
   {
    "duration": 219,
    "start_time": "2023-07-17T21:10:38.682Z"
   },
   {
    "duration": 110,
    "start_time": "2023-07-17T21:10:38.923Z"
   },
   {
    "duration": 86,
    "start_time": "2023-07-17T21:10:39.038Z"
   },
   {
    "duration": 8474,
    "start_time": "2023-07-17T21:10:39.127Z"
   },
   {
    "duration": 8,
    "start_time": "2023-07-17T21:10:47.613Z"
   },
   {
    "duration": 151,
    "start_time": "2023-07-17T21:10:47.622Z"
   },
   {
    "duration": 196,
    "start_time": "2023-07-17T21:10:47.795Z"
   },
   {
    "duration": 246,
    "start_time": "2023-07-17T21:10:47.993Z"
   },
   {
    "duration": 185,
    "start_time": "2023-07-17T21:10:48.242Z"
   },
   {
    "duration": 205,
    "start_time": "2023-07-17T21:10:48.434Z"
   },
   {
    "duration": 129,
    "start_time": "2023-07-17T21:10:48.646Z"
   },
   {
    "duration": 231,
    "start_time": "2023-07-17T21:10:48.782Z"
   },
   {
    "duration": 347,
    "start_time": "2023-07-17T21:10:49.020Z"
   },
   {
    "duration": 42,
    "start_time": "2023-07-17T21:12:37.019Z"
   },
   {
    "duration": 23,
    "start_time": "2023-07-17T21:12:43.492Z"
   },
   {
    "duration": 7,
    "start_time": "2023-07-17T21:12:50.414Z"
   },
   {
    "duration": 11,
    "start_time": "2023-07-17T21:12:56.576Z"
   },
   {
    "duration": 22,
    "start_time": "2023-07-17T21:13:05.755Z"
   },
   {
    "duration": 6,
    "start_time": "2023-07-17T21:13:08.319Z"
   },
   {
    "duration": 4,
    "start_time": "2023-07-17T21:14:13.421Z"
   },
   {
    "duration": 629,
    "start_time": "2023-07-17T21:14:13.426Z"
   },
   {
    "duration": 48,
    "start_time": "2023-07-17T21:14:14.063Z"
   },
   {
    "duration": 42,
    "start_time": "2023-07-17T21:14:14.116Z"
   },
   {
    "duration": 90,
    "start_time": "2023-07-17T21:14:14.161Z"
   },
   {
    "duration": 84,
    "start_time": "2023-07-17T21:14:14.252Z"
   },
   {
    "duration": 7744,
    "start_time": "2023-07-17T21:14:14.340Z"
   },
   {
    "duration": 10,
    "start_time": "2023-07-17T21:14:22.095Z"
   },
   {
    "duration": 117,
    "start_time": "2023-07-17T21:14:22.110Z"
   },
   {
    "duration": 94,
    "start_time": "2023-07-17T21:14:22.229Z"
   },
   {
    "duration": 67,
    "start_time": "2023-07-17T21:14:22.325Z"
   },
   {
    "duration": 78,
    "start_time": "2023-07-17T21:14:22.394Z"
   },
   {
    "duration": 138,
    "start_time": "2023-07-17T21:14:22.478Z"
   },
   {
    "duration": 123,
    "start_time": "2023-07-17T21:14:22.619Z"
   },
   {
    "duration": 4,
    "start_time": "2023-07-17T21:14:22.751Z"
   },
   {
    "duration": 71,
    "start_time": "2023-07-17T21:14:22.756Z"
   },
   {
    "duration": 111,
    "start_time": "2023-07-17T21:14:22.829Z"
   },
   {
    "duration": 163,
    "start_time": "2023-07-17T21:14:22.942Z"
   },
   {
    "duration": 4,
    "start_time": "2023-07-17T21:15:08.158Z"
   },
   {
    "duration": 748,
    "start_time": "2023-07-17T21:15:08.164Z"
   },
   {
    "duration": 49,
    "start_time": "2023-07-17T21:15:08.915Z"
   },
   {
    "duration": 129,
    "start_time": "2023-07-17T21:15:08.967Z"
   },
   {
    "duration": 91,
    "start_time": "2023-07-17T21:15:09.106Z"
   },
   {
    "duration": 17,
    "start_time": "2023-07-17T21:15:09.210Z"
   },
   {
    "duration": 7653,
    "start_time": "2023-07-17T21:15:09.230Z"
   },
   {
    "duration": 23,
    "start_time": "2023-07-17T21:15:16.887Z"
   },
   {
    "duration": 69,
    "start_time": "2023-07-17T21:15:16.920Z"
   },
   {
    "duration": 94,
    "start_time": "2023-07-17T21:15:16.995Z"
   },
   {
    "duration": 102,
    "start_time": "2023-07-17T21:15:17.095Z"
   },
   {
    "duration": 97,
    "start_time": "2023-07-17T21:15:17.200Z"
   },
   {
    "duration": 128,
    "start_time": "2023-07-17T21:15:17.299Z"
   },
   {
    "duration": 104,
    "start_time": "2023-07-17T21:15:17.429Z"
   },
   {
    "duration": 81,
    "start_time": "2023-07-17T21:15:17.537Z"
   },
   {
    "duration": 26,
    "start_time": "2023-07-17T21:15:17.621Z"
   },
   {
    "duration": 247,
    "start_time": "2023-07-17T21:15:17.652Z"
   },
   {
    "duration": 50,
    "start_time": "2023-07-17T21:15:17.900Z"
   },
   {
    "duration": 9,
    "start_time": "2023-07-17T21:15:44.418Z"
   },
   {
    "duration": 683,
    "start_time": "2023-07-17T21:15:44.429Z"
   },
   {
    "duration": 47,
    "start_time": "2023-07-17T21:15:45.118Z"
   },
   {
    "duration": 174,
    "start_time": "2023-07-17T21:15:45.170Z"
   },
   {
    "duration": 106,
    "start_time": "2023-07-17T21:15:45.349Z"
   },
   {
    "duration": 119,
    "start_time": "2023-07-17T21:15:45.465Z"
   },
   {
    "duration": 7632,
    "start_time": "2023-07-17T21:15:45.586Z"
   },
   {
    "duration": 7,
    "start_time": "2023-07-17T21:15:53.225Z"
   },
   {
    "duration": 81,
    "start_time": "2023-07-17T21:15:53.234Z"
   },
   {
    "duration": 161,
    "start_time": "2023-07-17T21:15:53.317Z"
   },
   {
    "duration": 36,
    "start_time": "2023-07-17T21:15:53.480Z"
   },
   {
    "duration": 91,
    "start_time": "2023-07-17T21:15:53.519Z"
   },
   {
    "duration": 72,
    "start_time": "2023-07-17T21:15:53.612Z"
   },
   {
    "duration": 101,
    "start_time": "2023-07-17T21:15:53.686Z"
   },
   {
    "duration": 33,
    "start_time": "2023-07-17T21:15:53.789Z"
   },
   {
    "duration": 37,
    "start_time": "2023-07-17T21:15:53.824Z"
   },
   {
    "duration": 103,
    "start_time": "2023-07-17T21:15:53.863Z"
   },
   {
    "duration": 7218,
    "start_time": "2023-07-17T21:18:10.861Z"
   },
   {
    "duration": 6792,
    "start_time": "2023-07-17T21:21:36.452Z"
   },
   {
    "duration": 7388,
    "start_time": "2023-07-17T21:22:04.187Z"
   },
   {
    "duration": 5,
    "start_time": "2023-07-17T21:23:52.464Z"
   },
   {
    "duration": 648,
    "start_time": "2023-07-17T21:23:52.472Z"
   },
   {
    "duration": 29,
    "start_time": "2023-07-17T21:23:53.122Z"
   },
   {
    "duration": 87,
    "start_time": "2023-07-17T21:23:53.152Z"
   },
   {
    "duration": 126,
    "start_time": "2023-07-17T21:23:53.241Z"
   },
   {
    "duration": 14,
    "start_time": "2023-07-17T21:23:53.370Z"
   },
   {
    "duration": 7350,
    "start_time": "2023-07-17T21:23:53.392Z"
   },
   {
    "duration": 9,
    "start_time": "2023-07-17T21:24:00.745Z"
   },
   {
    "duration": 103,
    "start_time": "2023-07-17T21:24:00.760Z"
   },
   {
    "duration": 50,
    "start_time": "2023-07-17T21:24:00.871Z"
   },
   {
    "duration": 72,
    "start_time": "2023-07-17T21:24:00.924Z"
   },
   {
    "duration": 76,
    "start_time": "2023-07-17T21:24:01.002Z"
   },
   {
    "duration": 81,
    "start_time": "2023-07-17T21:24:01.088Z"
   },
   {
    "duration": 138,
    "start_time": "2023-07-17T21:24:01.171Z"
   },
   {
    "duration": 83,
    "start_time": "2023-07-17T21:24:01.312Z"
   },
   {
    "duration": 129,
    "start_time": "2023-07-17T21:24:01.397Z"
   },
   {
    "duration": 264,
    "start_time": "2023-07-17T21:24:01.528Z"
   },
   {
    "duration": 12,
    "start_time": "2023-07-17T21:24:23.683Z"
   },
   {
    "duration": 607,
    "start_time": "2023-07-17T21:24:23.697Z"
   },
   {
    "duration": 36,
    "start_time": "2023-07-17T21:24:24.307Z"
   },
   {
    "duration": 74,
    "start_time": "2023-07-17T21:24:24.347Z"
   },
   {
    "duration": 24,
    "start_time": "2023-07-17T21:24:24.423Z"
   },
   {
    "duration": 54,
    "start_time": "2023-07-17T21:24:24.449Z"
   },
   {
    "duration": 6887,
    "start_time": "2023-07-17T21:24:24.504Z"
   },
   {
    "duration": 13,
    "start_time": "2023-07-17T21:24:31.401Z"
   },
   {
    "duration": 20,
    "start_time": "2023-07-17T21:24:31.415Z"
   },
   {
    "duration": 82,
    "start_time": "2023-07-17T21:24:31.438Z"
   },
   {
    "duration": 97,
    "start_time": "2023-07-17T21:24:31.521Z"
   },
   {
    "duration": 89,
    "start_time": "2023-07-17T21:24:31.620Z"
   },
   {
    "duration": 77,
    "start_time": "2023-07-17T21:24:31.713Z"
   },
   {
    "duration": 114,
    "start_time": "2023-07-17T21:24:31.791Z"
   },
   {
    "duration": 20,
    "start_time": "2023-07-17T21:24:31.907Z"
   },
   {
    "duration": 82,
    "start_time": "2023-07-17T21:24:31.929Z"
   },
   {
    "duration": 37,
    "start_time": "2023-07-17T21:24:32.013Z"
   },
   {
    "duration": 3,
    "start_time": "2023-07-17T21:26:38.300Z"
   },
   {
    "duration": 502,
    "start_time": "2023-07-17T21:26:38.306Z"
   },
   {
    "duration": 36,
    "start_time": "2023-07-17T21:26:38.812Z"
   },
   {
    "duration": 51,
    "start_time": "2023-07-17T21:26:38.851Z"
   },
   {
    "duration": 36,
    "start_time": "2023-07-17T21:26:38.907Z"
   },
   {
    "duration": 7,
    "start_time": "2023-07-17T21:26:38.947Z"
   },
   {
    "duration": 6739,
    "start_time": "2023-07-17T21:26:38.958Z"
   },
   {
    "duration": 19,
    "start_time": "2023-07-17T21:26:45.703Z"
   },
   {
    "duration": 92,
    "start_time": "2023-07-17T21:26:45.727Z"
   },
   {
    "duration": 19,
    "start_time": "2023-07-17T21:26:45.822Z"
   },
   {
    "duration": 78,
    "start_time": "2023-07-17T21:26:45.843Z"
   },
   {
    "duration": 57,
    "start_time": "2023-07-17T21:26:45.923Z"
   },
   {
    "duration": 2523,
    "start_time": "2023-07-17T21:26:45.982Z"
   },
   {
    "duration": 0,
    "start_time": "2023-07-17T21:26:48.508Z"
   },
   {
    "duration": 0,
    "start_time": "2023-07-17T21:26:48.509Z"
   },
   {
    "duration": 0,
    "start_time": "2023-07-17T21:26:48.511Z"
   },
   {
    "duration": 0,
    "start_time": "2023-07-17T21:26:48.512Z"
   },
   {
    "duration": 5,
    "start_time": "2023-07-17T21:26:58.191Z"
   },
   {
    "duration": 606,
    "start_time": "2023-07-17T21:26:58.198Z"
   },
   {
    "duration": 32,
    "start_time": "2023-07-17T21:26:58.809Z"
   },
   {
    "duration": 36,
    "start_time": "2023-07-17T21:26:58.846Z"
   },
   {
    "duration": 54,
    "start_time": "2023-07-17T21:26:58.888Z"
   },
   {
    "duration": 24,
    "start_time": "2023-07-17T21:26:58.944Z"
   },
   {
    "duration": 7338,
    "start_time": "2023-07-17T21:26:58.973Z"
   },
   {
    "duration": 14,
    "start_time": "2023-07-17T21:27:06.313Z"
   },
   {
    "duration": 94,
    "start_time": "2023-07-17T21:27:06.329Z"
   },
   {
    "duration": 86,
    "start_time": "2023-07-17T21:27:06.424Z"
   },
   {
    "duration": 12,
    "start_time": "2023-07-17T21:27:06.513Z"
   },
   {
    "duration": 88,
    "start_time": "2023-07-17T21:27:06.527Z"
   },
   {
    "duration": 2691,
    "start_time": "2023-07-17T21:27:06.617Z"
   },
   {
    "duration": 0,
    "start_time": "2023-07-17T21:27:09.310Z"
   },
   {
    "duration": 0,
    "start_time": "2023-07-17T21:27:09.312Z"
   },
   {
    "duration": 0,
    "start_time": "2023-07-17T21:27:09.313Z"
   },
   {
    "duration": 0,
    "start_time": "2023-07-17T21:27:09.314Z"
   },
   {
    "duration": 5,
    "start_time": "2023-07-17T21:27:48.978Z"
   },
   {
    "duration": 587,
    "start_time": "2023-07-17T21:27:48.989Z"
   },
   {
    "duration": 37,
    "start_time": "2023-07-17T21:27:49.585Z"
   },
   {
    "duration": 39,
    "start_time": "2023-07-17T21:27:49.624Z"
   },
   {
    "duration": 64,
    "start_time": "2023-07-17T21:27:49.665Z"
   },
   {
    "duration": 15,
    "start_time": "2023-07-17T21:27:49.730Z"
   },
   {
    "duration": 7175,
    "start_time": "2023-07-17T21:27:49.746Z"
   },
   {
    "duration": 21,
    "start_time": "2023-07-17T21:27:56.922Z"
   },
   {
    "duration": 45,
    "start_time": "2023-07-17T21:27:56.948Z"
   },
   {
    "duration": 28,
    "start_time": "2023-07-17T21:27:56.995Z"
   },
   {
    "duration": 4,
    "start_time": "2023-07-17T21:27:57.025Z"
   },
   {
    "duration": 78,
    "start_time": "2023-07-17T21:27:57.031Z"
   },
   {
    "duration": 15,
    "start_time": "2023-07-17T21:27:57.113Z"
   },
   {
    "duration": 90,
    "start_time": "2023-07-17T21:27:57.130Z"
   },
   {
    "duration": 4,
    "start_time": "2023-07-17T21:27:57.223Z"
   },
   {
    "duration": 74,
    "start_time": "2023-07-17T21:27:57.229Z"
   },
   {
    "duration": 29,
    "start_time": "2023-07-17T21:27:57.304Z"
   },
   {
    "duration": 8,
    "start_time": "2023-07-17T21:28:15.212Z"
   },
   {
    "duration": 21,
    "start_time": "2023-07-17T21:29:02.678Z"
   },
   {
    "duration": 1177,
    "start_time": "2023-07-17T21:29:02.704Z"
   },
   {
    "duration": 51,
    "start_time": "2023-07-17T21:29:03.891Z"
   },
   {
    "duration": 320,
    "start_time": "2023-07-17T21:29:03.947Z"
   },
   {
    "duration": 230,
    "start_time": "2023-07-17T21:29:04.277Z"
   },
   {
    "duration": 184,
    "start_time": "2023-07-17T21:29:04.512Z"
   },
   {
    "duration": 8737,
    "start_time": "2023-07-17T21:29:04.703Z"
   },
   {
    "duration": 16,
    "start_time": "2023-07-17T21:29:13.447Z"
   },
   {
    "duration": 135,
    "start_time": "2023-07-17T21:29:13.468Z"
   },
   {
    "duration": 157,
    "start_time": "2023-07-17T21:29:13.626Z"
   },
   {
    "duration": 99,
    "start_time": "2023-07-17T21:29:13.796Z"
   },
   {
    "duration": 125,
    "start_time": "2023-07-17T21:29:13.897Z"
   },
   {
    "duration": 161,
    "start_time": "2023-07-17T21:29:14.028Z"
   },
   {
    "duration": 194,
    "start_time": "2023-07-17T21:29:14.197Z"
   },
   {
    "duration": 74,
    "start_time": "2023-07-17T21:29:14.393Z"
   },
   {
    "duration": 189,
    "start_time": "2023-07-17T21:29:14.469Z"
   },
   {
    "duration": 362,
    "start_time": "2023-07-17T21:29:14.663Z"
   },
   {
    "duration": 109,
    "start_time": "2023-07-17T21:29:18.511Z"
   },
   {
    "duration": 4,
    "start_time": "2023-07-17T21:33:10.798Z"
   },
   {
    "duration": 1144,
    "start_time": "2023-07-17T21:33:10.806Z"
   },
   {
    "duration": 61,
    "start_time": "2023-07-17T21:33:11.968Z"
   },
   {
    "duration": 182,
    "start_time": "2023-07-17T21:33:12.032Z"
   },
   {
    "duration": 166,
    "start_time": "2023-07-17T21:33:12.226Z"
   },
   {
    "duration": 11,
    "start_time": "2023-07-17T21:33:12.405Z"
   },
   {
    "duration": 8676,
    "start_time": "2023-07-17T21:33:12.418Z"
   },
   {
    "duration": 11,
    "start_time": "2023-07-17T21:33:21.096Z"
   },
   {
    "duration": 197,
    "start_time": "2023-07-17T21:33:21.109Z"
   },
   {
    "duration": 205,
    "start_time": "2023-07-17T21:33:21.308Z"
   },
   {
    "duration": 127,
    "start_time": "2023-07-17T21:33:21.518Z"
   },
   {
    "duration": 177,
    "start_time": "2023-07-17T21:33:21.651Z"
   },
   {
    "duration": 278,
    "start_time": "2023-07-17T21:33:21.836Z"
   },
   {
    "duration": 156,
    "start_time": "2023-07-17T21:33:22.128Z"
   },
   {
    "duration": 166,
    "start_time": "2023-07-17T21:33:22.297Z"
   },
   {
    "duration": 130,
    "start_time": "2023-07-17T21:33:22.469Z"
   },
   {
    "duration": 164,
    "start_time": "2023-07-17T21:33:22.605Z"
   },
   {
    "duration": 48,
    "start_time": "2023-07-18T14:47:29.892Z"
   },
   {
    "duration": 1135,
    "start_time": "2023-07-18T14:47:35.303Z"
   },
   {
    "duration": 1593,
    "start_time": "2023-07-18T14:47:36.440Z"
   },
   {
    "duration": 39,
    "start_time": "2023-07-18T14:47:38.034Z"
   },
   {
    "duration": 21,
    "start_time": "2023-07-18T14:47:38.076Z"
   },
   {
    "duration": 20,
    "start_time": "2023-07-18T14:47:38.099Z"
   },
   {
    "duration": 3,
    "start_time": "2023-07-18T14:47:38.121Z"
   },
   {
    "duration": 15,
    "start_time": "2023-07-18T14:47:38.125Z"
   },
   {
    "duration": 31,
    "start_time": "2023-07-18T14:47:38.141Z"
   },
   {
    "duration": 8,
    "start_time": "2023-07-18T14:47:38.174Z"
   },
   {
    "duration": 22,
    "start_time": "2023-07-18T14:47:38.184Z"
   },
   {
    "duration": 17,
    "start_time": "2023-07-18T14:48:01.791Z"
   },
   {
    "duration": 14,
    "start_time": "2023-07-18T14:48:05.991Z"
   },
   {
    "duration": 9,
    "start_time": "2023-07-18T14:48:07.016Z"
   },
   {
    "duration": 16,
    "start_time": "2023-07-18T14:48:36.457Z"
   },
   {
    "duration": 8,
    "start_time": "2023-07-18T14:48:37.209Z"
   },
   {
    "duration": 9,
    "start_time": "2023-07-18T14:48:47.650Z"
   },
   {
    "duration": 38,
    "start_time": "2023-07-18T14:49:51.026Z"
   },
   {
    "duration": 20,
    "start_time": "2023-07-18T14:50:10.606Z"
   },
   {
    "duration": 22,
    "start_time": "2023-07-18T14:50:15.324Z"
   },
   {
    "duration": 22,
    "start_time": "2023-07-18T14:50:57.177Z"
   },
   {
    "duration": 4,
    "start_time": "2023-07-18T14:51:47.028Z"
   },
   {
    "duration": 34,
    "start_time": "2023-07-18T14:54:31.049Z"
   },
   {
    "duration": 36,
    "start_time": "2023-07-18T14:55:10.342Z"
   },
   {
    "duration": 25,
    "start_time": "2023-07-18T14:55:39.292Z"
   },
   {
    "duration": 24,
    "start_time": "2023-07-18T14:55:46.470Z"
   },
   {
    "duration": 75,
    "start_time": "2023-07-18T14:56:34.286Z"
   },
   {
    "duration": 6,
    "start_time": "2023-07-18T14:57:30.967Z"
   },
   {
    "duration": 3,
    "start_time": "2023-07-18T14:59:39.290Z"
   },
   {
    "duration": 432,
    "start_time": "2023-07-18T14:59:39.295Z"
   },
   {
    "duration": 43,
    "start_time": "2023-07-18T14:59:39.729Z"
   },
   {
    "duration": 22,
    "start_time": "2023-07-18T14:59:39.775Z"
   },
   {
    "duration": 22,
    "start_time": "2023-07-18T14:59:39.798Z"
   },
   {
    "duration": 3,
    "start_time": "2023-07-18T14:59:39.821Z"
   },
   {
    "duration": 13,
    "start_time": "2023-07-18T14:59:39.826Z"
   },
   {
    "duration": 31,
    "start_time": "2023-07-18T14:59:39.841Z"
   },
   {
    "duration": 4,
    "start_time": "2023-07-18T14:59:39.875Z"
   },
   {
    "duration": 26,
    "start_time": "2023-07-18T14:59:39.880Z"
   },
   {
    "duration": 57,
    "start_time": "2023-07-18T14:59:39.908Z"
   },
   {
    "duration": 10,
    "start_time": "2023-07-18T14:59:39.968Z"
   },
   {
    "duration": 86,
    "start_time": "2023-07-18T14:59:39.980Z"
   },
   {
    "duration": 30,
    "start_time": "2023-07-18T14:59:40.072Z"
   },
   {
    "duration": 4,
    "start_time": "2023-07-18T14:59:40.104Z"
   },
   {
    "duration": 28,
    "start_time": "2023-07-18T14:59:40.109Z"
   },
   {
    "duration": 25,
    "start_time": "2023-07-18T14:59:40.139Z"
   },
   {
    "duration": 5,
    "start_time": "2023-07-18T14:59:40.166Z"
   },
   {
    "duration": 1216,
    "start_time": "2023-07-18T15:02:11.970Z"
   },
   {
    "duration": 421,
    "start_time": "2023-07-18T15:02:13.190Z"
   },
   {
    "duration": 28,
    "start_time": "2023-07-18T15:02:13.613Z"
   },
   {
    "duration": 44,
    "start_time": "2023-07-18T15:02:13.643Z"
   },
   {
    "duration": 24,
    "start_time": "2023-07-18T15:02:13.690Z"
   },
   {
    "duration": 3,
    "start_time": "2023-07-18T15:02:13.715Z"
   },
   {
    "duration": 14,
    "start_time": "2023-07-18T15:02:13.720Z"
   },
   {
    "duration": 36,
    "start_time": "2023-07-18T15:02:13.735Z"
   },
   {
    "duration": 4,
    "start_time": "2023-07-18T15:02:13.773Z"
   },
   {
    "duration": 40,
    "start_time": "2023-07-18T15:02:13.779Z"
   },
   {
    "duration": 59,
    "start_time": "2023-07-18T15:02:13.821Z"
   },
   {
    "duration": 93,
    "start_time": "2023-07-18T15:02:13.881Z"
   },
   {
    "duration": 7,
    "start_time": "2023-07-18T15:02:13.976Z"
   },
   {
    "duration": 43,
    "start_time": "2023-07-18T15:02:13.986Z"
   },
   {
    "duration": 4,
    "start_time": "2023-07-18T15:02:14.031Z"
   },
   {
    "duration": 40,
    "start_time": "2023-07-18T15:02:14.036Z"
   },
   {
    "duration": 22,
    "start_time": "2023-07-18T15:02:14.079Z"
   },
   {
    "duration": 14,
    "start_time": "2023-07-18T15:02:14.161Z"
   },
   {
    "duration": 86,
    "start_time": "2023-07-18T15:02:14.181Z"
   },
   {
    "duration": 29,
    "start_time": "2023-07-18T15:02:14.270Z"
   },
   {
    "duration": 15,
    "start_time": "2023-07-18T15:02:14.301Z"
   },
   {
    "duration": 21,
    "start_time": "2023-07-18T15:02:14.318Z"
   },
   {
    "duration": 41,
    "start_time": "2023-07-18T15:02:14.341Z"
   },
   {
    "duration": 79,
    "start_time": "2023-07-18T15:02:14.384Z"
   },
   {
    "duration": 3,
    "start_time": "2023-07-18T15:05:11.188Z"
   },
   {
    "duration": 2,
    "start_time": "2023-07-18T15:07:21.646Z"
   },
   {
    "duration": 3,
    "start_time": "2023-07-18T15:07:23.833Z"
   },
   {
    "duration": 3,
    "start_time": "2023-07-18T15:11:56.874Z"
   },
   {
    "duration": 4,
    "start_time": "2023-07-18T15:12:00.402Z"
   },
   {
    "duration": 52,
    "start_time": "2023-07-18T18:50:11.395Z"
   },
   {
    "duration": 1184,
    "start_time": "2023-07-18T18:50:19.028Z"
   },
   {
    "duration": 1969,
    "start_time": "2023-07-18T18:50:20.215Z"
   },
   {
    "duration": 39,
    "start_time": "2023-07-18T18:50:22.187Z"
   },
   {
    "duration": 27,
    "start_time": "2023-07-18T18:50:22.228Z"
   },
   {
    "duration": 29,
    "start_time": "2023-07-18T18:50:22.269Z"
   },
   {
    "duration": 4,
    "start_time": "2023-07-18T18:50:22.300Z"
   },
   {
    "duration": 9,
    "start_time": "2023-07-18T18:50:22.306Z"
   },
   {
    "duration": 17,
    "start_time": "2023-07-18T18:50:22.317Z"
   },
   {
    "duration": 30,
    "start_time": "2023-07-18T18:50:22.336Z"
   },
   {
    "duration": 18,
    "start_time": "2023-07-18T18:50:22.369Z"
   },
   {
    "duration": 80,
    "start_time": "2023-07-18T18:50:22.389Z"
   },
   {
    "duration": 4,
    "start_time": "2023-07-18T18:50:22.471Z"
   },
   {
    "duration": 8,
    "start_time": "2023-07-18T18:50:22.478Z"
   },
   {
    "duration": 21,
    "start_time": "2023-07-18T18:50:22.570Z"
   },
   {
    "duration": 4,
    "start_time": "2023-07-18T18:50:22.594Z"
   },
   {
    "duration": 23,
    "start_time": "2023-07-18T18:50:22.600Z"
   },
   {
    "duration": 48,
    "start_time": "2023-07-18T18:50:22.625Z"
   },
   {
    "duration": 5,
    "start_time": "2023-07-18T18:50:22.675Z"
   },
   {
    "duration": 107,
    "start_time": "2023-07-18T18:50:22.681Z"
   },
   {
    "duration": 36,
    "start_time": "2023-07-18T18:50:22.790Z"
   },
   {
    "duration": 4,
    "start_time": "2023-07-18T18:50:22.828Z"
   },
   {
    "duration": 14,
    "start_time": "2023-07-18T18:50:22.868Z"
   },
   {
    "duration": 91,
    "start_time": "2023-07-18T18:50:22.883Z"
   },
   {
    "duration": 89,
    "start_time": "2023-07-18T18:50:22.978Z"
   },
   {
    "duration": 20,
    "start_time": "2023-07-18T18:50:23.069Z"
   },
   {
    "duration": 23,
    "start_time": "2023-07-18T18:50:23.091Z"
   },
   {
    "duration": 4,
    "start_time": "2023-07-18T18:54:14.916Z"
   },
   {
    "duration": 4,
    "start_time": "2023-07-18T18:54:23.426Z"
   },
   {
    "duration": 4,
    "start_time": "2023-07-18T18:54:30.275Z"
   },
   {
    "duration": 3,
    "start_time": "2023-07-18T19:54:21.620Z"
   },
   {
    "duration": 4,
    "start_time": "2023-07-18T19:55:34.250Z"
   },
   {
    "duration": 5,
    "start_time": "2023-07-18T19:55:36.972Z"
   },
   {
    "duration": 30,
    "start_time": "2023-07-18T20:01:45.180Z"
   },
   {
    "duration": 30,
    "start_time": "2023-07-18T20:02:00.573Z"
   },
   {
    "duration": 104,
    "start_time": "2023-07-18T20:03:12.886Z"
   },
   {
    "duration": 4,
    "start_time": "2023-07-18T20:03:17.797Z"
   },
   {
    "duration": 84,
    "start_time": "2023-07-18T20:03:35.265Z"
   },
   {
    "duration": 4,
    "start_time": "2023-07-18T20:04:29.386Z"
   },
   {
    "duration": 23,
    "start_time": "2023-07-18T20:04:29.822Z"
   },
   {
    "duration": 4,
    "start_time": "2023-07-18T20:04:40.530Z"
   },
   {
    "duration": 37,
    "start_time": "2023-07-18T20:04:41.959Z"
   },
   {
    "duration": 4,
    "start_time": "2023-07-18T20:04:51.199Z"
   },
   {
    "duration": 16,
    "start_time": "2023-07-18T20:04:52.155Z"
   },
   {
    "duration": 22,
    "start_time": "2023-07-18T20:06:43.144Z"
   },
   {
    "duration": 4,
    "start_time": "2023-07-18T20:06:45.030Z"
   },
   {
    "duration": 23,
    "start_time": "2023-07-18T20:06:45.668Z"
   },
   {
    "duration": 40,
    "start_time": "2023-07-18T20:07:28.280Z"
   },
   {
    "duration": 3,
    "start_time": "2023-07-18T20:26:20.330Z"
   },
   {
    "duration": 3,
    "start_time": "2023-07-18T20:27:41.282Z"
   },
   {
    "duration": 5,
    "start_time": "2023-07-18T20:45:41.153Z"
   },
   {
    "duration": 52,
    "start_time": "2023-07-19T06:15:57.154Z"
   },
   {
    "duration": 1130,
    "start_time": "2023-07-19T06:16:01.909Z"
   },
   {
    "duration": 3,
    "start_time": "2023-07-19T06:16:03.041Z"
   },
   {
    "duration": 739,
    "start_time": "2023-07-19T06:16:03.045Z"
   },
   {
    "duration": 25,
    "start_time": "2023-07-19T06:16:03.785Z"
   },
   {
    "duration": 42,
    "start_time": "2023-07-19T06:16:03.812Z"
   },
   {
    "duration": 53,
    "start_time": "2023-07-19T06:16:03.855Z"
   },
   {
    "duration": 3,
    "start_time": "2023-07-19T06:16:03.910Z"
   },
   {
    "duration": 75,
    "start_time": "2023-07-19T06:16:03.914Z"
   },
   {
    "duration": 0,
    "start_time": "2023-07-19T06:16:03.991Z"
   },
   {
    "duration": 0,
    "start_time": "2023-07-19T06:16:03.992Z"
   },
   {
    "duration": 0,
    "start_time": "2023-07-19T06:16:03.993Z"
   },
   {
    "duration": 0,
    "start_time": "2023-07-19T06:16:03.994Z"
   },
   {
    "duration": 0,
    "start_time": "2023-07-19T06:16:03.995Z"
   },
   {
    "duration": 0,
    "start_time": "2023-07-19T06:16:03.996Z"
   },
   {
    "duration": 0,
    "start_time": "2023-07-19T06:16:03.997Z"
   },
   {
    "duration": 0,
    "start_time": "2023-07-19T06:16:03.997Z"
   },
   {
    "duration": 0,
    "start_time": "2023-07-19T06:16:03.998Z"
   },
   {
    "duration": 0,
    "start_time": "2023-07-19T06:16:03.999Z"
   },
   {
    "duration": 0,
    "start_time": "2023-07-19T06:16:04.000Z"
   },
   {
    "duration": 0,
    "start_time": "2023-07-19T06:16:04.001Z"
   },
   {
    "duration": 0,
    "start_time": "2023-07-19T06:16:04.002Z"
   },
   {
    "duration": 0,
    "start_time": "2023-07-19T06:16:04.003Z"
   },
   {
    "duration": 0,
    "start_time": "2023-07-19T06:16:04.004Z"
   },
   {
    "duration": 0,
    "start_time": "2023-07-19T06:16:04.005Z"
   },
   {
    "duration": 0,
    "start_time": "2023-07-19T06:16:04.020Z"
   },
   {
    "duration": 0,
    "start_time": "2023-07-19T06:16:04.021Z"
   },
   {
    "duration": 2,
    "start_time": "2023-07-19T06:16:08.792Z"
   },
   {
    "duration": 9,
    "start_time": "2023-07-19T06:16:10.064Z"
   },
   {
    "duration": 3,
    "start_time": "2023-07-19T06:17:20.641Z"
   },
   {
    "duration": 22,
    "start_time": "2023-07-19T06:17:20.646Z"
   },
   {
    "duration": 349,
    "start_time": "2023-07-19T06:17:20.670Z"
   },
   {
    "duration": 19,
    "start_time": "2023-07-19T06:17:21.021Z"
   },
   {
    "duration": 19,
    "start_time": "2023-07-19T06:17:21.042Z"
   },
   {
    "duration": 17,
    "start_time": "2023-07-19T06:17:21.062Z"
   },
   {
    "duration": 5,
    "start_time": "2023-07-19T06:17:21.080Z"
   },
   {
    "duration": 37,
    "start_time": "2023-07-19T06:17:21.086Z"
   },
   {
    "duration": 20,
    "start_time": "2023-07-19T06:17:21.124Z"
   },
   {
    "duration": 29,
    "start_time": "2023-07-19T06:17:21.145Z"
   },
   {
    "duration": 55,
    "start_time": "2023-07-19T06:17:21.177Z"
   },
   {
    "duration": 198,
    "start_time": "2023-07-19T06:17:21.234Z"
   },
   {
    "duration": 11,
    "start_time": "2023-07-19T06:17:21.433Z"
   },
   {
    "duration": 22,
    "start_time": "2023-07-19T06:17:21.446Z"
   },
   {
    "duration": 16,
    "start_time": "2023-07-19T06:17:21.469Z"
   },
   {
    "duration": 56,
    "start_time": "2023-07-19T06:17:21.487Z"
   },
   {
    "duration": 47,
    "start_time": "2023-07-19T06:17:21.544Z"
   },
   {
    "duration": 42,
    "start_time": "2023-07-19T06:17:21.592Z"
   },
   {
    "duration": 109,
    "start_time": "2023-07-19T06:17:21.636Z"
   },
   {
    "duration": 37,
    "start_time": "2023-07-19T06:17:21.747Z"
   },
   {
    "duration": 26,
    "start_time": "2023-07-19T06:17:21.785Z"
   },
   {
    "duration": 27,
    "start_time": "2023-07-19T06:17:21.813Z"
   },
   {
    "duration": 31,
    "start_time": "2023-07-19T06:17:21.842Z"
   },
   {
    "duration": 153,
    "start_time": "2023-07-19T06:17:21.874Z"
   },
   {
    "duration": 29,
    "start_time": "2023-07-19T06:17:22.029Z"
   },
   {
    "duration": 20,
    "start_time": "2023-07-19T06:17:22.060Z"
   },
   {
    "duration": 27,
    "start_time": "2023-07-19T06:17:22.083Z"
   },
   {
    "duration": 0,
    "start_time": "2023-07-19T06:17:22.112Z"
   },
   {
    "duration": 11,
    "start_time": "2023-07-19T06:17:59.656Z"
   },
   {
    "duration": 100,
    "start_time": "2023-07-19T06:19:09.671Z"
   },
   {
    "duration": 8,
    "start_time": "2023-07-19T06:19:16.434Z"
   },
   {
    "duration": 15,
    "start_time": "2023-07-19T06:19:21.383Z"
   },
   {
    "duration": 3,
    "start_time": "2023-07-19T06:20:37.911Z"
   },
   {
    "duration": 12,
    "start_time": "2023-07-19T06:20:38.452Z"
   },
   {
    "duration": 4,
    "start_time": "2023-07-19T06:27:31.310Z"
   },
   {
    "duration": 16,
    "start_time": "2023-07-19T06:27:32.310Z"
   },
   {
    "duration": 12,
    "start_time": "2023-07-19T06:30:01.500Z"
   },
   {
    "duration": 13,
    "start_time": "2023-07-19T06:30:24.502Z"
   },
   {
    "duration": 14,
    "start_time": "2023-07-19T06:32:38.540Z"
   },
   {
    "duration": 3,
    "start_time": "2023-07-19T06:33:53.209Z"
   },
   {
    "duration": 50,
    "start_time": "2023-07-19T06:33:53.214Z"
   },
   {
    "duration": 410,
    "start_time": "2023-07-19T06:33:53.266Z"
   },
   {
    "duration": 19,
    "start_time": "2023-07-19T06:33:53.677Z"
   },
   {
    "duration": 69,
    "start_time": "2023-07-19T06:33:53.698Z"
   },
   {
    "duration": 30,
    "start_time": "2023-07-19T06:33:53.768Z"
   },
   {
    "duration": 12,
    "start_time": "2023-07-19T06:33:53.800Z"
   },
   {
    "duration": 26,
    "start_time": "2023-07-19T06:33:53.814Z"
   },
   {
    "duration": 25,
    "start_time": "2023-07-19T06:33:53.843Z"
   },
   {
    "duration": 12,
    "start_time": "2023-07-19T06:33:53.870Z"
   },
   {
    "duration": 47,
    "start_time": "2023-07-19T06:33:53.886Z"
   },
   {
    "duration": 125,
    "start_time": "2023-07-19T06:33:53.935Z"
   },
   {
    "duration": 64,
    "start_time": "2023-07-19T06:33:54.061Z"
   },
   {
    "duration": 84,
    "start_time": "2023-07-19T06:33:54.129Z"
   },
   {
    "duration": 5,
    "start_time": "2023-07-19T06:33:54.215Z"
   },
   {
    "duration": 49,
    "start_time": "2023-07-19T06:33:54.222Z"
   },
   {
    "duration": 28,
    "start_time": "2023-07-19T06:33:54.272Z"
   },
   {
    "duration": 21,
    "start_time": "2023-07-19T06:33:54.301Z"
   },
   {
    "duration": 5,
    "start_time": "2023-07-19T06:33:54.324Z"
   },
   {
    "duration": 99,
    "start_time": "2023-07-19T06:33:54.332Z"
   },
   {
    "duration": 19,
    "start_time": "2023-07-19T06:33:54.434Z"
   },
   {
    "duration": 18,
    "start_time": "2023-07-19T06:33:54.454Z"
   },
   {
    "duration": 57,
    "start_time": "2023-07-19T06:33:54.473Z"
   },
   {
    "duration": 83,
    "start_time": "2023-07-19T06:33:54.538Z"
   },
   {
    "duration": 24,
    "start_time": "2023-07-19T06:33:54.623Z"
   },
   {
    "duration": 15,
    "start_time": "2023-07-19T06:33:54.649Z"
   },
   {
    "duration": 4,
    "start_time": "2023-07-19T06:33:55.504Z"
   },
   {
    "duration": 11,
    "start_time": "2023-07-19T06:33:55.911Z"
   },
   {
    "duration": 22,
    "start_time": "2023-07-19T06:38:05.557Z"
   },
   {
    "duration": 11,
    "start_time": "2023-07-19T06:38:37.899Z"
   },
   {
    "duration": 4,
    "start_time": "2023-07-19T06:38:56.054Z"
   },
   {
    "duration": 24,
    "start_time": "2023-07-19T06:38:56.537Z"
   },
   {
    "duration": 32,
    "start_time": "2023-07-19T06:39:40.343Z"
   },
   {
    "duration": 28,
    "start_time": "2023-07-19T06:40:06.435Z"
   },
   {
    "duration": 16,
    "start_time": "2023-07-19T06:40:11.747Z"
   },
   {
    "duration": 14,
    "start_time": "2023-07-19T06:40:20.399Z"
   },
   {
    "duration": 31,
    "start_time": "2023-07-19T06:40:23.315Z"
   },
   {
    "duration": 23,
    "start_time": "2023-07-19T06:40:57.818Z"
   },
   {
    "duration": 161,
    "start_time": "2023-07-19T06:41:23.948Z"
   },
   {
    "duration": 15,
    "start_time": "2023-07-19T06:41:31.055Z"
   },
   {
    "duration": 13,
    "start_time": "2023-07-19T06:41:56.599Z"
   },
   {
    "duration": 16,
    "start_time": "2023-07-19T06:42:21.453Z"
   },
   {
    "duration": 11,
    "start_time": "2023-07-19T06:42:26.770Z"
   },
   {
    "duration": 13,
    "start_time": "2023-07-19T06:43:15.560Z"
   },
   {
    "duration": 9,
    "start_time": "2023-07-19T06:43:39.043Z"
   },
   {
    "duration": 52,
    "start_time": "2023-07-19T15:42:41.904Z"
   },
   {
    "duration": 1219,
    "start_time": "2023-07-19T15:42:45.821Z"
   },
   {
    "duration": 4,
    "start_time": "2023-07-19T15:42:47.042Z"
   },
   {
    "duration": 1625,
    "start_time": "2023-07-19T15:42:47.048Z"
   },
   {
    "duration": 29,
    "start_time": "2023-07-19T15:42:48.675Z"
   },
   {
    "duration": 21,
    "start_time": "2023-07-19T15:42:48.707Z"
   },
   {
    "duration": 31,
    "start_time": "2023-07-19T15:42:48.730Z"
   },
   {
    "duration": 4,
    "start_time": "2023-07-19T15:42:48.763Z"
   },
   {
    "duration": 22,
    "start_time": "2023-07-19T15:42:48.768Z"
   },
   {
    "duration": 11,
    "start_time": "2023-07-19T15:42:48.793Z"
   },
   {
    "duration": 23,
    "start_time": "2023-07-19T15:42:48.806Z"
   },
   {
    "duration": 31,
    "start_time": "2023-07-19T15:42:48.831Z"
   },
   {
    "duration": 95,
    "start_time": "2023-07-19T15:42:48.864Z"
   },
   {
    "duration": 15,
    "start_time": "2023-07-19T15:42:48.961Z"
   },
   {
    "duration": 15,
    "start_time": "2023-07-19T15:42:49.058Z"
   },
   {
    "duration": 8,
    "start_time": "2023-07-19T15:42:49.075Z"
   },
   {
    "duration": 15,
    "start_time": "2023-07-19T15:42:49.084Z"
   },
   {
    "duration": 67,
    "start_time": "2023-07-19T15:42:49.100Z"
   },
   {
    "duration": 5,
    "start_time": "2023-07-19T15:42:49.258Z"
   },
   {
    "duration": 14,
    "start_time": "2023-07-19T15:42:49.265Z"
   },
   {
    "duration": 31,
    "start_time": "2023-07-19T15:42:49.281Z"
   },
   {
    "duration": 6,
    "start_time": "2023-07-19T15:42:49.314Z"
   },
   {
    "duration": 28,
    "start_time": "2023-07-19T15:42:49.322Z"
   },
   {
    "duration": 33,
    "start_time": "2023-07-19T15:42:49.352Z"
   },
   {
    "duration": 77,
    "start_time": "2023-07-19T15:42:49.387Z"
   },
   {
    "duration": 95,
    "start_time": "2023-07-19T15:42:49.467Z"
   },
   {
    "duration": 13,
    "start_time": "2023-07-19T15:42:49.564Z"
   },
   {
    "duration": 45,
    "start_time": "2023-07-19T15:42:49.579Z"
   },
   {
    "duration": 16,
    "start_time": "2023-07-19T15:42:49.625Z"
   },
   {
    "duration": 4,
    "start_time": "2023-07-19T15:42:51.099Z"
   },
   {
    "duration": 4,
    "start_time": "2023-07-19T15:53:26.305Z"
   },
   {
    "duration": 4,
    "start_time": "2023-07-19T16:00:57.076Z"
   },
   {
    "duration": 3,
    "start_time": "2023-07-19T16:00:57.401Z"
   },
   {
    "duration": 8,
    "start_time": "2023-07-19T16:00:57.777Z"
   },
   {
    "duration": 4,
    "start_time": "2023-07-19T16:00:58.325Z"
   },
   {
    "duration": 4,
    "start_time": "2023-07-19T16:01:02.528Z"
   },
   {
    "duration": 212,
    "start_time": "2023-07-19T16:01:02.534Z"
   },
   {
    "duration": 440,
    "start_time": "2023-07-19T16:01:02.748Z"
   },
   {
    "duration": 23,
    "start_time": "2023-07-19T16:01:03.189Z"
   },
   {
    "duration": 22,
    "start_time": "2023-07-19T16:01:03.214Z"
   },
   {
    "duration": 50,
    "start_time": "2023-07-19T16:01:03.237Z"
   },
   {
    "duration": 6,
    "start_time": "2023-07-19T16:01:03.289Z"
   },
   {
    "duration": 13,
    "start_time": "2023-07-19T16:01:03.297Z"
   },
   {
    "duration": 4,
    "start_time": "2023-07-19T16:01:03.312Z"
   },
   {
    "duration": 19,
    "start_time": "2023-07-19T16:01:03.317Z"
   },
   {
    "duration": 47,
    "start_time": "2023-07-19T16:01:03.337Z"
   },
   {
    "duration": 79,
    "start_time": "2023-07-19T16:01:03.385Z"
   },
   {
    "duration": 96,
    "start_time": "2023-07-19T16:01:03.466Z"
   },
   {
    "duration": 12,
    "start_time": "2023-07-19T16:01:03.577Z"
   },
   {
    "duration": 4,
    "start_time": "2023-07-19T16:01:03.591Z"
   },
   {
    "duration": 16,
    "start_time": "2023-07-19T16:01:03.597Z"
   },
   {
    "duration": 68,
    "start_time": "2023-07-19T16:01:03.615Z"
   },
   {
    "duration": 72,
    "start_time": "2023-07-19T16:01:03.689Z"
   },
   {
    "duration": 26,
    "start_time": "2023-07-19T16:01:03.763Z"
   },
   {
    "duration": 26,
    "start_time": "2023-07-19T16:01:03.791Z"
   },
   {
    "duration": 28,
    "start_time": "2023-07-19T16:01:03.819Z"
   },
   {
    "duration": 25,
    "start_time": "2023-07-19T16:01:03.849Z"
   },
   {
    "duration": 14,
    "start_time": "2023-07-19T16:01:03.876Z"
   },
   {
    "duration": 5,
    "start_time": "2023-07-19T16:01:03.892Z"
   },
   {
    "duration": 8,
    "start_time": "2023-07-19T16:01:03.974Z"
   },
   {
    "duration": 86,
    "start_time": "2023-07-19T16:01:03.984Z"
   },
   {
    "duration": 15,
    "start_time": "2023-07-19T16:01:04.072Z"
   },
   {
    "duration": 13,
    "start_time": "2023-07-19T16:01:04.089Z"
   },
   {
    "duration": 4,
    "start_time": "2023-07-19T16:01:04.105Z"
   },
   {
    "duration": 7,
    "start_time": "2023-07-19T16:01:26.673Z"
   },
   {
    "duration": 71,
    "start_time": "2023-07-19T16:04:04.453Z"
   },
   {
    "duration": 1523,
    "start_time": "2023-07-19T16:04:17.270Z"
   },
   {
    "duration": 1569,
    "start_time": "2023-07-19T16:06:04.025Z"
   },
   {
    "duration": 1460,
    "start_time": "2023-07-19T16:06:28.462Z"
   },
   {
    "duration": 14,
    "start_time": "2023-07-19T16:08:19.349Z"
   },
   {
    "duration": 14,
    "start_time": "2023-07-19T16:08:42.565Z"
   },
   {
    "duration": 5,
    "start_time": "2023-07-19T16:08:51.363Z"
   },
   {
    "duration": 10,
    "start_time": "2023-07-19T16:08:53.924Z"
   },
   {
    "duration": 4,
    "start_time": "2023-07-19T16:09:07.362Z"
   },
   {
    "duration": 11,
    "start_time": "2023-07-19T16:09:16.274Z"
   },
   {
    "duration": 12,
    "start_time": "2023-07-19T16:09:27.824Z"
   },
   {
    "duration": 4,
    "start_time": "2023-07-19T16:10:06.971Z"
   },
   {
    "duration": 14,
    "start_time": "2023-07-19T16:10:09.764Z"
   },
   {
    "duration": 4,
    "start_time": "2023-07-19T16:10:18.801Z"
   },
   {
    "duration": 11,
    "start_time": "2023-07-19T16:10:22.510Z"
   },
   {
    "duration": 13,
    "start_time": "2023-07-19T16:10:26.077Z"
   },
   {
    "duration": 3,
    "start_time": "2023-07-19T16:11:05.681Z"
   },
   {
    "duration": 12,
    "start_time": "2023-07-19T16:11:07.880Z"
   },
   {
    "duration": 3,
    "start_time": "2023-07-19T16:11:54.666Z"
   },
   {
    "duration": 11,
    "start_time": "2023-07-19T16:11:56.901Z"
   },
   {
    "duration": 4,
    "start_time": "2023-07-19T16:12:12.222Z"
   },
   {
    "duration": 1502,
    "start_time": "2023-07-19T16:12:14.720Z"
   },
   {
    "duration": 1562,
    "start_time": "2023-07-19T16:12:23.265Z"
   },
   {
    "duration": 1499,
    "start_time": "2023-07-19T16:14:20.496Z"
   },
   {
    "duration": 1458,
    "start_time": "2023-07-19T16:14:48.518Z"
   },
   {
    "duration": 1592,
    "start_time": "2023-07-19T16:15:02.998Z"
   },
   {
    "duration": 1476,
    "start_time": "2023-07-19T16:15:17.108Z"
   },
   {
    "duration": 1448,
    "start_time": "2023-07-19T16:17:24.995Z"
   },
   {
    "duration": 1511,
    "start_time": "2023-07-19T16:17:48.665Z"
   },
   {
    "duration": 1532,
    "start_time": "2023-07-19T16:17:52.806Z"
   },
   {
    "duration": 1484,
    "start_time": "2023-07-19T16:17:55.467Z"
   },
   {
    "duration": 1463,
    "start_time": "2023-07-19T16:17:58.177Z"
   },
   {
    "duration": 1589,
    "start_time": "2023-07-19T16:18:00.861Z"
   },
   {
    "duration": 3,
    "start_time": "2023-07-19T16:20:12.516Z"
   },
   {
    "duration": 3,
    "start_time": "2023-07-19T16:20:12.786Z"
   },
   {
    "duration": 9,
    "start_time": "2023-07-19T16:20:13.071Z"
   },
   {
    "duration": 9,
    "start_time": "2023-07-19T16:20:15.138Z"
   },
   {
    "duration": 9,
    "start_time": "2023-07-19T16:20:15.906Z"
   },
   {
    "duration": 9,
    "start_time": "2023-07-19T16:20:16.589Z"
   },
   {
    "duration": 9,
    "start_time": "2023-07-19T16:20:17.270Z"
   },
   {
    "duration": 29,
    "start_time": "2023-07-19T16:20:17.281Z"
   },
   {
    "duration": 8,
    "start_time": "2023-07-19T16:20:19.170Z"
   },
   {
    "duration": 8,
    "start_time": "2023-07-19T16:20:19.987Z"
   },
   {
    "duration": 8,
    "start_time": "2023-07-19T16:20:20.706Z"
   },
   {
    "duration": 9,
    "start_time": "2023-07-19T16:20:21.464Z"
   },
   {
    "duration": 9,
    "start_time": "2023-07-19T16:20:22.111Z"
   },
   {
    "duration": 9,
    "start_time": "2023-07-19T16:20:22.777Z"
   },
   {
    "duration": 9,
    "start_time": "2023-07-19T16:20:23.405Z"
   },
   {
    "duration": 9,
    "start_time": "2023-07-19T16:20:24.014Z"
   },
   {
    "duration": 3,
    "start_time": "2023-07-19T16:20:24.881Z"
   },
   {
    "duration": 1485,
    "start_time": "2023-07-19T16:20:26.960Z"
   },
   {
    "duration": 1515,
    "start_time": "2023-07-19T16:20:30.866Z"
   },
   {
    "duration": 1551,
    "start_time": "2023-07-19T16:20:33.370Z"
   },
   {
    "duration": 1474,
    "start_time": "2023-07-19T16:20:38.588Z"
   },
   {
    "duration": 1479,
    "start_time": "2023-07-19T16:20:45.965Z"
   },
   {
    "duration": 1433,
    "start_time": "2023-07-19T16:20:50.814Z"
   },
   {
    "duration": 1488,
    "start_time": "2023-07-19T16:20:54.711Z"
   },
   {
    "duration": 1182,
    "start_time": "2023-07-19T16:22:36.747Z"
   },
   {
    "duration": 100,
    "start_time": "2023-07-19T16:22:37.931Z"
   },
   {
    "duration": 0,
    "start_time": "2023-07-19T16:22:38.033Z"
   },
   {
    "duration": 0,
    "start_time": "2023-07-19T16:22:38.034Z"
   },
   {
    "duration": 0,
    "start_time": "2023-07-19T16:22:38.035Z"
   },
   {
    "duration": 0,
    "start_time": "2023-07-19T16:22:38.036Z"
   },
   {
    "duration": 0,
    "start_time": "2023-07-19T16:22:38.038Z"
   },
   {
    "duration": 0,
    "start_time": "2023-07-19T16:22:38.039Z"
   },
   {
    "duration": 0,
    "start_time": "2023-07-19T16:22:38.059Z"
   },
   {
    "duration": 0,
    "start_time": "2023-07-19T16:22:38.060Z"
   },
   {
    "duration": 0,
    "start_time": "2023-07-19T16:22:38.061Z"
   },
   {
    "duration": 0,
    "start_time": "2023-07-19T16:22:38.063Z"
   },
   {
    "duration": 0,
    "start_time": "2023-07-19T16:22:38.064Z"
   },
   {
    "duration": 0,
    "start_time": "2023-07-19T16:22:38.066Z"
   },
   {
    "duration": 0,
    "start_time": "2023-07-19T16:22:38.068Z"
   },
   {
    "duration": 0,
    "start_time": "2023-07-19T16:22:38.069Z"
   },
   {
    "duration": 0,
    "start_time": "2023-07-19T16:22:38.071Z"
   },
   {
    "duration": 0,
    "start_time": "2023-07-19T16:22:38.072Z"
   },
   {
    "duration": 0,
    "start_time": "2023-07-19T16:22:38.074Z"
   },
   {
    "duration": 0,
    "start_time": "2023-07-19T16:22:38.075Z"
   },
   {
    "duration": 0,
    "start_time": "2023-07-19T16:22:38.076Z"
   },
   {
    "duration": 0,
    "start_time": "2023-07-19T16:22:38.078Z"
   },
   {
    "duration": 0,
    "start_time": "2023-07-19T16:22:38.079Z"
   },
   {
    "duration": 0,
    "start_time": "2023-07-19T16:22:38.081Z"
   },
   {
    "duration": 0,
    "start_time": "2023-07-19T16:22:38.083Z"
   },
   {
    "duration": 0,
    "start_time": "2023-07-19T16:22:38.084Z"
   },
   {
    "duration": 0,
    "start_time": "2023-07-19T16:22:38.091Z"
   },
   {
    "duration": 0,
    "start_time": "2023-07-19T16:22:38.092Z"
   },
   {
    "duration": 0,
    "start_time": "2023-07-19T16:22:38.094Z"
   },
   {
    "duration": 0,
    "start_time": "2023-07-19T16:22:38.095Z"
   },
   {
    "duration": 1167,
    "start_time": "2023-07-19T16:23:03.915Z"
   },
   {
    "duration": 5,
    "start_time": "2023-07-19T16:23:05.084Z"
   },
   {
    "duration": 407,
    "start_time": "2023-07-19T16:23:05.091Z"
   },
   {
    "duration": 31,
    "start_time": "2023-07-19T16:23:05.500Z"
   },
   {
    "duration": 36,
    "start_time": "2023-07-19T16:23:05.534Z"
   },
   {
    "duration": 21,
    "start_time": "2023-07-19T16:23:05.572Z"
   },
   {
    "duration": 4,
    "start_time": "2023-07-19T16:23:05.595Z"
   },
   {
    "duration": 22,
    "start_time": "2023-07-19T16:23:05.601Z"
   },
   {
    "duration": 25,
    "start_time": "2023-07-19T16:23:05.624Z"
   },
   {
    "duration": 14,
    "start_time": "2023-07-19T16:23:05.659Z"
   },
   {
    "duration": 24,
    "start_time": "2023-07-19T16:23:05.675Z"
   },
   {
    "duration": 160,
    "start_time": "2023-07-19T16:23:05.700Z"
   },
   {
    "duration": 6,
    "start_time": "2023-07-19T16:23:05.862Z"
   },
   {
    "duration": 52,
    "start_time": "2023-07-19T16:23:05.871Z"
   },
   {
    "duration": 4,
    "start_time": "2023-07-19T16:23:05.924Z"
   },
   {
    "duration": 24,
    "start_time": "2023-07-19T16:23:05.930Z"
   },
   {
    "duration": 110,
    "start_time": "2023-07-19T16:23:05.956Z"
   },
   {
    "duration": 10,
    "start_time": "2023-07-19T16:23:06.068Z"
   },
   {
    "duration": 84,
    "start_time": "2023-07-19T16:23:06.080Z"
   },
   {
    "duration": 21,
    "start_time": "2023-07-19T16:23:06.166Z"
   },
   {
    "duration": 4,
    "start_time": "2023-07-19T16:23:06.189Z"
   },
   {
    "duration": 16,
    "start_time": "2023-07-19T16:23:06.196Z"
   },
   {
    "duration": 51,
    "start_time": "2023-07-19T16:23:06.214Z"
   },
   {
    "duration": 4,
    "start_time": "2023-07-19T16:23:06.267Z"
   },
   {
    "duration": 90,
    "start_time": "2023-07-19T16:23:06.272Z"
   },
   {
    "duration": 7,
    "start_time": "2023-07-19T16:23:06.364Z"
   },
   {
    "duration": 14,
    "start_time": "2023-07-19T16:23:06.373Z"
   },
   {
    "duration": 173,
    "start_time": "2023-07-19T16:23:06.389Z"
   },
   {
    "duration": 0,
    "start_time": "2023-07-19T16:23:06.564Z"
   },
   {
    "duration": 0,
    "start_time": "2023-07-19T16:23:06.565Z"
   },
   {
    "duration": 1189,
    "start_time": "2023-07-19T16:23:21.121Z"
   },
   {
    "duration": 4,
    "start_time": "2023-07-19T16:23:22.312Z"
   },
   {
    "duration": 392,
    "start_time": "2023-07-19T16:23:22.318Z"
   },
   {
    "duration": 31,
    "start_time": "2023-07-19T16:23:22.712Z"
   },
   {
    "duration": 31,
    "start_time": "2023-07-19T16:23:22.744Z"
   },
   {
    "duration": 24,
    "start_time": "2023-07-19T16:23:22.777Z"
   },
   {
    "duration": 5,
    "start_time": "2023-07-19T16:23:22.802Z"
   },
   {
    "duration": 14,
    "start_time": "2023-07-19T16:23:22.808Z"
   },
   {
    "duration": 7,
    "start_time": "2023-07-19T16:23:22.824Z"
   },
   {
    "duration": 15,
    "start_time": "2023-07-19T16:23:22.858Z"
   },
   {
    "duration": 95,
    "start_time": "2023-07-19T16:23:22.875Z"
   },
   {
    "duration": 88,
    "start_time": "2023-07-19T16:23:22.974Z"
   },
   {
    "duration": 33,
    "start_time": "2023-07-19T16:23:23.064Z"
   },
   {
    "duration": 31,
    "start_time": "2023-07-19T16:23:23.100Z"
   },
   {
    "duration": 4,
    "start_time": "2023-07-19T16:23:23.133Z"
   },
   {
    "duration": 22,
    "start_time": "2023-07-19T16:23:23.139Z"
   },
   {
    "duration": 23,
    "start_time": "2023-07-19T16:23:23.163Z"
   },
   {
    "duration": 5,
    "start_time": "2023-07-19T16:23:23.261Z"
   },
   {
    "duration": 97,
    "start_time": "2023-07-19T16:23:23.269Z"
   },
   {
    "duration": 20,
    "start_time": "2023-07-19T16:23:23.368Z"
   },
   {
    "duration": 5,
    "start_time": "2023-07-19T16:23:23.390Z"
   },
   {
    "duration": 34,
    "start_time": "2023-07-19T16:23:23.397Z"
   },
   {
    "duration": 38,
    "start_time": "2023-07-19T16:23:23.433Z"
   },
   {
    "duration": 100,
    "start_time": "2023-07-19T16:23:23.473Z"
   },
   {
    "duration": 5,
    "start_time": "2023-07-19T16:23:23.576Z"
   },
   {
    "duration": 7,
    "start_time": "2023-07-19T16:23:23.582Z"
   },
   {
    "duration": 12,
    "start_time": "2023-07-19T16:23:23.660Z"
   },
   {
    "duration": 166,
    "start_time": "2023-07-19T16:23:23.676Z"
   },
   {
    "duration": 0,
    "start_time": "2023-07-19T16:23:23.843Z"
   },
   {
    "duration": 0,
    "start_time": "2023-07-19T16:23:23.844Z"
   },
   {
    "duration": 1269,
    "start_time": "2023-07-19T16:24:03.520Z"
   },
   {
    "duration": 4,
    "start_time": "2023-07-19T16:24:04.791Z"
   },
   {
    "duration": 410,
    "start_time": "2023-07-19T16:24:04.796Z"
   },
   {
    "duration": 32,
    "start_time": "2023-07-19T16:24:05.208Z"
   },
   {
    "duration": 36,
    "start_time": "2023-07-19T16:24:05.242Z"
   },
   {
    "duration": 56,
    "start_time": "2023-07-19T16:24:05.280Z"
   },
   {
    "duration": 38,
    "start_time": "2023-07-19T16:24:05.338Z"
   },
   {
    "duration": 36,
    "start_time": "2023-07-19T16:24:05.378Z"
   },
   {
    "duration": 20,
    "start_time": "2023-07-19T16:24:05.417Z"
   },
   {
    "duration": 71,
    "start_time": "2023-07-19T16:24:05.441Z"
   },
   {
    "duration": 65,
    "start_time": "2023-07-19T16:24:05.514Z"
   },
   {
    "duration": 80,
    "start_time": "2023-07-19T16:24:05.581Z"
   },
   {
    "duration": 117,
    "start_time": "2023-07-19T16:24:05.663Z"
   },
   {
    "duration": 33,
    "start_time": "2023-07-19T16:24:05.782Z"
   },
   {
    "duration": 11,
    "start_time": "2023-07-19T16:24:05.817Z"
   },
   {
    "duration": 43,
    "start_time": "2023-07-19T16:24:05.831Z"
   },
   {
    "duration": 87,
    "start_time": "2023-07-19T16:24:05.877Z"
   },
   {
    "duration": 108,
    "start_time": "2023-07-19T16:24:05.967Z"
   },
   {
    "duration": 21,
    "start_time": "2023-07-19T16:24:06.078Z"
   },
   {
    "duration": 28,
    "start_time": "2023-07-19T16:24:06.101Z"
   },
   {
    "duration": 5,
    "start_time": "2023-07-19T16:24:06.131Z"
   },
   {
    "duration": 18,
    "start_time": "2023-07-19T16:24:06.138Z"
   },
   {
    "duration": 24,
    "start_time": "2023-07-19T16:24:06.158Z"
   },
   {
    "duration": 5,
    "start_time": "2023-07-19T16:24:06.259Z"
   },
   {
    "duration": 108,
    "start_time": "2023-07-19T16:24:06.266Z"
   },
   {
    "duration": 38,
    "start_time": "2023-07-19T16:24:06.376Z"
   },
   {
    "duration": 28,
    "start_time": "2023-07-19T16:24:06.416Z"
   },
   {
    "duration": 19,
    "start_time": "2023-07-19T16:24:06.447Z"
   },
   {
    "duration": 5,
    "start_time": "2023-07-19T16:24:06.467Z"
   },
   {
    "duration": 1464,
    "start_time": "2023-07-19T16:24:06.473Z"
   },
   {
    "duration": 11,
    "start_time": "2023-07-19T16:24:20.942Z"
   },
   {
    "duration": 11,
    "start_time": "2023-07-19T16:24:22.356Z"
   },
   {
    "duration": 9,
    "start_time": "2023-07-19T16:24:23.207Z"
   },
   {
    "duration": 10,
    "start_time": "2023-07-19T16:24:24.064Z"
   },
   {
    "duration": 8,
    "start_time": "2023-07-19T16:24:25.001Z"
   },
   {
    "duration": 11,
    "start_time": "2023-07-19T16:24:25.791Z"
   },
   {
    "duration": 10,
    "start_time": "2023-07-19T16:24:26.542Z"
   },
   {
    "duration": 9,
    "start_time": "2023-07-19T16:24:28.661Z"
   },
   {
    "duration": 1555,
    "start_time": "2023-07-19T16:24:31.668Z"
   },
   {
    "duration": 1514,
    "start_time": "2023-07-19T16:24:34.164Z"
   },
   {
    "duration": 1479,
    "start_time": "2023-07-19T16:24:36.582Z"
   },
   {
    "duration": 1485,
    "start_time": "2023-07-19T16:24:39.364Z"
   },
   {
    "duration": 1488,
    "start_time": "2023-07-19T16:25:00.503Z"
   },
   {
    "duration": 1546,
    "start_time": "2023-07-19T16:25:14.150Z"
   },
   {
    "duration": 1444,
    "start_time": "2023-07-19T16:25:22.438Z"
   },
   {
    "duration": 1487,
    "start_time": "2023-07-19T16:25:44.348Z"
   },
   {
    "duration": 4,
    "start_time": "2023-07-19T16:26:44.795Z"
   },
   {
    "duration": 1362,
    "start_time": "2023-07-19T16:26:49.838Z"
   },
   {
    "duration": 1390,
    "start_time": "2023-07-19T16:26:52.656Z"
   },
   {
    "duration": 1370,
    "start_time": "2023-07-19T16:26:54.957Z"
   },
   {
    "duration": 4,
    "start_time": "2023-07-19T16:27:08.650Z"
   },
   {
    "duration": 1335,
    "start_time": "2023-07-19T16:27:09.440Z"
   },
   {
    "duration": 1501,
    "start_time": "2023-07-19T16:27:13.079Z"
   },
   {
    "duration": 1431,
    "start_time": "2023-07-19T16:27:45.188Z"
   },
   {
    "duration": 1407,
    "start_time": "2023-07-19T16:27:47.846Z"
   },
   {
    "duration": 1415,
    "start_time": "2023-07-19T16:27:50.502Z"
   },
   {
    "duration": 1534,
    "start_time": "2023-07-19T16:27:52.884Z"
   },
   {
    "duration": 1409,
    "start_time": "2023-07-19T16:27:55.404Z"
   },
   {
    "duration": 1344,
    "start_time": "2023-07-19T16:27:57.689Z"
   },
   {
    "duration": 1376,
    "start_time": "2023-07-19T16:28:04.851Z"
   },
   {
    "duration": 1360,
    "start_time": "2023-07-19T16:28:07.240Z"
   },
   {
    "duration": 1400,
    "start_time": "2023-07-19T16:28:09.245Z"
   },
   {
    "duration": 1348,
    "start_time": "2023-07-19T16:28:11.348Z"
   },
   {
    "duration": 1447,
    "start_time": "2023-07-19T16:28:13.490Z"
   },
   {
    "duration": 22,
    "start_time": "2023-07-19T16:29:24.777Z"
   },
   {
    "duration": 18,
    "start_time": "2023-07-19T16:29:26.077Z"
   },
   {
    "duration": 22,
    "start_time": "2023-07-19T16:29:26.805Z"
   },
   {
    "duration": 21,
    "start_time": "2023-07-19T16:29:27.478Z"
   },
   {
    "duration": 20,
    "start_time": "2023-07-19T16:29:28.327Z"
   },
   {
    "duration": 18,
    "start_time": "2023-07-19T16:29:29.086Z"
   },
   {
    "duration": 17,
    "start_time": "2023-07-19T16:29:29.803Z"
   },
   {
    "duration": 19,
    "start_time": "2023-07-19T16:29:30.658Z"
   },
   {
    "duration": 14,
    "start_time": "2023-07-19T16:29:39.270Z"
   },
   {
    "duration": 3,
    "start_time": "2023-07-19T16:29:39.569Z"
   },
   {
    "duration": 16,
    "start_time": "2023-07-19T16:29:40.139Z"
   },
   {
    "duration": 27,
    "start_time": "2023-07-19T16:29:40.416Z"
   },
   {
    "duration": 10,
    "start_time": "2023-07-19T16:29:43.116Z"
   },
   {
    "duration": 4,
    "start_time": "2023-07-19T16:29:43.350Z"
   },
   {
    "duration": 14,
    "start_time": "2023-07-19T16:29:43.859Z"
   },
   {
    "duration": 16,
    "start_time": "2023-07-19T16:29:44.182Z"
   },
   {
    "duration": 14,
    "start_time": "2023-07-19T16:29:46.396Z"
   },
   {
    "duration": 5,
    "start_time": "2023-07-19T16:29:46.656Z"
   },
   {
    "duration": 11,
    "start_time": "2023-07-19T16:29:47.144Z"
   },
   {
    "duration": 15,
    "start_time": "2023-07-19T16:29:47.415Z"
   },
   {
    "duration": 10,
    "start_time": "2023-07-19T16:29:49.653Z"
   },
   {
    "duration": 3,
    "start_time": "2023-07-19T16:29:49.882Z"
   },
   {
    "duration": 12,
    "start_time": "2023-07-19T16:29:50.339Z"
   },
   {
    "duration": 106,
    "start_time": "2023-07-19T16:29:50.653Z"
   },
   {
    "duration": 1191,
    "start_time": "2023-07-19T16:37:05.322Z"
   },
   {
    "duration": 5,
    "start_time": "2023-07-19T16:37:06.515Z"
   },
   {
    "duration": 398,
    "start_time": "2023-07-19T16:37:06.522Z"
   },
   {
    "duration": 44,
    "start_time": "2023-07-19T16:37:06.923Z"
   },
   {
    "duration": 30,
    "start_time": "2023-07-19T16:37:06.969Z"
   },
   {
    "duration": 24,
    "start_time": "2023-07-19T16:37:07.001Z"
   },
   {
    "duration": 5,
    "start_time": "2023-07-19T16:37:07.026Z"
   },
   {
    "duration": 16,
    "start_time": "2023-07-19T16:37:07.059Z"
   },
   {
    "duration": 6,
    "start_time": "2023-07-19T16:37:07.077Z"
   },
   {
    "duration": 16,
    "start_time": "2023-07-19T16:37:07.086Z"
   },
   {
    "duration": 156,
    "start_time": "2023-07-19T16:37:07.104Z"
   },
   {
    "duration": 6,
    "start_time": "2023-07-19T16:37:07.262Z"
   },
   {
    "duration": 11,
    "start_time": "2023-07-19T16:37:07.270Z"
   },
   {
    "duration": 19,
    "start_time": "2023-07-19T16:37:07.283Z"
   },
   {
    "duration": 4,
    "start_time": "2023-07-19T16:37:07.303Z"
   },
   {
    "duration": 15,
    "start_time": "2023-07-19T16:37:07.309Z"
   },
   {
    "duration": 69,
    "start_time": "2023-07-19T16:37:07.326Z"
   },
   {
    "duration": 74,
    "start_time": "2023-07-19T16:37:07.397Z"
   },
   {
    "duration": 90,
    "start_time": "2023-07-19T16:37:07.473Z"
   },
   {
    "duration": 19,
    "start_time": "2023-07-19T16:37:07.566Z"
   },
   {
    "duration": 5,
    "start_time": "2023-07-19T16:37:07.588Z"
   },
   {
    "duration": 17,
    "start_time": "2023-07-19T16:37:07.594Z"
   },
   {
    "duration": 47,
    "start_time": "2023-07-19T16:37:07.613Z"
   },
   {
    "duration": 9,
    "start_time": "2023-07-19T16:37:07.662Z"
   },
   {
    "duration": 89,
    "start_time": "2023-07-19T16:37:07.673Z"
   },
   {
    "duration": 6,
    "start_time": "2023-07-19T16:37:07.763Z"
   },
   {
    "duration": 10,
    "start_time": "2023-07-19T16:37:07.771Z"
   },
   {
    "duration": 18,
    "start_time": "2023-07-19T16:37:07.784Z"
   },
   {
    "duration": 4,
    "start_time": "2023-07-19T16:37:07.803Z"
   },
   {
    "duration": 1526,
    "start_time": "2023-07-19T16:37:07.809Z"
   },
   {
    "duration": 1225,
    "start_time": "2023-07-19T16:37:18.675Z"
   },
   {
    "duration": 4,
    "start_time": "2023-07-19T16:37:19.903Z"
   },
   {
    "duration": 427,
    "start_time": "2023-07-19T16:37:19.909Z"
   },
   {
    "duration": 48,
    "start_time": "2023-07-19T16:37:20.338Z"
   },
   {
    "duration": 28,
    "start_time": "2023-07-19T16:37:20.390Z"
   },
   {
    "duration": 41,
    "start_time": "2023-07-19T16:37:20.420Z"
   },
   {
    "duration": 6,
    "start_time": "2023-07-19T16:37:20.463Z"
   },
   {
    "duration": 23,
    "start_time": "2023-07-19T16:37:20.471Z"
   },
   {
    "duration": 4,
    "start_time": "2023-07-19T16:37:20.497Z"
   },
   {
    "duration": 33,
    "start_time": "2023-07-19T16:37:20.503Z"
   },
   {
    "duration": 122,
    "start_time": "2023-07-19T16:37:20.539Z"
   },
   {
    "duration": 7,
    "start_time": "2023-07-19T16:37:20.664Z"
   },
   {
    "duration": 98,
    "start_time": "2023-07-19T16:37:20.674Z"
   },
   {
    "duration": 32,
    "start_time": "2023-07-19T16:37:20.776Z"
   },
   {
    "duration": 4,
    "start_time": "2023-07-19T16:37:20.811Z"
   },
   {
    "duration": 37,
    "start_time": "2023-07-19T16:37:20.816Z"
   },
   {
    "duration": 115,
    "start_time": "2023-07-19T16:37:20.855Z"
   },
   {
    "duration": 87,
    "start_time": "2023-07-19T16:37:20.975Z"
   },
   {
    "duration": 6,
    "start_time": "2023-07-19T16:37:21.064Z"
   },
   {
    "duration": 31,
    "start_time": "2023-07-19T16:37:21.072Z"
   },
   {
    "duration": 21,
    "start_time": "2023-07-19T16:37:21.105Z"
   },
   {
    "duration": 47,
    "start_time": "2023-07-19T16:37:21.127Z"
   },
   {
    "duration": 93,
    "start_time": "2023-07-19T16:37:21.176Z"
   },
   {
    "duration": 5,
    "start_time": "2023-07-19T16:37:21.271Z"
   },
   {
    "duration": 93,
    "start_time": "2023-07-19T16:37:21.278Z"
   },
   {
    "duration": 11,
    "start_time": "2023-07-19T16:37:21.373Z"
   },
   {
    "duration": 19,
    "start_time": "2023-07-19T16:37:21.387Z"
   },
   {
    "duration": 23,
    "start_time": "2023-07-19T16:37:21.408Z"
   },
   {
    "duration": 5,
    "start_time": "2023-07-19T16:37:21.459Z"
   },
   {
    "duration": 1439,
    "start_time": "2023-07-19T16:37:21.466Z"
   },
   {
    "duration": 1224,
    "start_time": "2023-07-19T16:37:30.792Z"
   },
   {
    "duration": 7,
    "start_time": "2023-07-19T16:37:32.018Z"
   },
   {
    "duration": 458,
    "start_time": "2023-07-19T16:37:32.027Z"
   },
   {
    "duration": 33,
    "start_time": "2023-07-19T16:37:32.488Z"
   },
   {
    "duration": 41,
    "start_time": "2023-07-19T16:37:32.523Z"
   },
   {
    "duration": 34,
    "start_time": "2023-07-19T16:37:32.567Z"
   },
   {
    "duration": 5,
    "start_time": "2023-07-19T16:37:32.603Z"
   },
   {
    "duration": 24,
    "start_time": "2023-07-19T16:37:32.610Z"
   },
   {
    "duration": 25,
    "start_time": "2023-07-19T16:37:32.636Z"
   },
   {
    "duration": 18,
    "start_time": "2023-07-19T16:37:32.664Z"
   },
   {
    "duration": 176,
    "start_time": "2023-07-19T16:37:32.684Z"
   },
   {
    "duration": 6,
    "start_time": "2023-07-19T16:37:32.862Z"
   },
   {
    "duration": 33,
    "start_time": "2023-07-19T16:37:32.870Z"
   },
   {
    "duration": 22,
    "start_time": "2023-07-19T16:37:32.905Z"
   },
   {
    "duration": 30,
    "start_time": "2023-07-19T16:37:32.929Z"
   },
   {
    "duration": 16,
    "start_time": "2023-07-19T16:37:32.962Z"
   },
   {
    "duration": 18,
    "start_time": "2023-07-19T16:37:32.979Z"
   },
   {
    "duration": 64,
    "start_time": "2023-07-19T16:37:32.999Z"
   },
   {
    "duration": 8,
    "start_time": "2023-07-19T16:37:33.066Z"
   },
   {
    "duration": 91,
    "start_time": "2023-07-19T16:37:33.075Z"
   },
   {
    "duration": 5,
    "start_time": "2023-07-19T16:37:33.169Z"
   },
   {
    "duration": 24,
    "start_time": "2023-07-19T16:37:33.176Z"
   },
   {
    "duration": 62,
    "start_time": "2023-07-19T16:37:33.202Z"
   },
   {
    "duration": 5,
    "start_time": "2023-07-19T16:37:33.266Z"
   },
   {
    "duration": 91,
    "start_time": "2023-07-19T16:37:33.273Z"
   },
   {
    "duration": 4,
    "start_time": "2023-07-19T16:37:33.366Z"
   },
   {
    "duration": 5,
    "start_time": "2023-07-19T16:37:33.372Z"
   },
   {
    "duration": 11,
    "start_time": "2023-07-19T16:37:33.382Z"
   },
   {
    "duration": 6,
    "start_time": "2023-07-19T16:37:33.395Z"
   },
   {
    "duration": 1601,
    "start_time": "2023-07-19T16:37:33.402Z"
   },
   {
    "duration": 3,
    "start_time": "2023-07-19T16:46:50.518Z"
   },
   {
    "duration": 1883,
    "start_time": "2023-07-19T16:46:52.783Z"
   },
   {
    "duration": 3,
    "start_time": "2023-07-19T16:47:32.121Z"
   },
   {
    "duration": 5,
    "start_time": "2023-07-19T16:47:47.256Z"
   },
   {
    "duration": 1825,
    "start_time": "2023-07-19T16:47:48.860Z"
   },
   {
    "duration": 4,
    "start_time": "2023-07-19T16:47:58.437Z"
   },
   {
    "duration": 4,
    "start_time": "2023-07-19T16:48:03.755Z"
   },
   {
    "duration": 1847,
    "start_time": "2023-07-19T16:48:04.272Z"
   },
   {
    "duration": 3,
    "start_time": "2023-07-19T16:48:07.326Z"
   },
   {
    "duration": 4,
    "start_time": "2023-07-19T16:48:07.493Z"
   },
   {
    "duration": 4,
    "start_time": "2023-07-19T16:48:07.640Z"
   },
   {
    "duration": 1828,
    "start_time": "2023-07-19T16:48:08.502Z"
   },
   {
    "duration": 3,
    "start_time": "2023-07-19T16:48:13.718Z"
   },
   {
    "duration": 1458,
    "start_time": "2023-07-19T16:48:14.167Z"
   },
   {
    "duration": 1112,
    "start_time": "2023-07-19T16:51:17.201Z"
   },
   {
    "duration": 4,
    "start_time": "2023-07-19T16:51:18.315Z"
   },
   {
    "duration": 428,
    "start_time": "2023-07-19T16:51:18.321Z"
   },
   {
    "duration": 36,
    "start_time": "2023-07-19T16:51:18.752Z"
   },
   {
    "duration": 22,
    "start_time": "2023-07-19T16:51:18.790Z"
   },
   {
    "duration": 21,
    "start_time": "2023-07-19T16:51:18.814Z"
   },
   {
    "duration": 26,
    "start_time": "2023-07-19T16:51:18.836Z"
   },
   {
    "duration": 25,
    "start_time": "2023-07-19T16:51:18.864Z"
   },
   {
    "duration": 3,
    "start_time": "2023-07-19T16:51:18.891Z"
   },
   {
    "duration": 20,
    "start_time": "2023-07-19T16:51:18.896Z"
   },
   {
    "duration": 50,
    "start_time": "2023-07-19T16:51:18.919Z"
   },
   {
    "duration": 92,
    "start_time": "2023-07-19T16:51:18.971Z"
   },
   {
    "duration": 7,
    "start_time": "2023-07-19T16:51:19.066Z"
   },
   {
    "duration": 94,
    "start_time": "2023-07-19T16:51:19.077Z"
   },
   {
    "duration": 8,
    "start_time": "2023-07-19T16:51:19.173Z"
   },
   {
    "duration": 23,
    "start_time": "2023-07-19T16:51:19.183Z"
   },
   {
    "duration": 53,
    "start_time": "2023-07-19T16:51:19.208Z"
   },
   {
    "duration": 7,
    "start_time": "2023-07-19T16:51:19.263Z"
   },
   {
    "duration": 98,
    "start_time": "2023-07-19T16:51:19.271Z"
   },
   {
    "duration": 19,
    "start_time": "2023-07-19T16:51:19.372Z"
   },
   {
    "duration": 3,
    "start_time": "2023-07-19T16:51:19.393Z"
   },
   {
    "duration": 17,
    "start_time": "2023-07-19T16:51:19.398Z"
   },
   {
    "duration": 142,
    "start_time": "2023-07-19T16:51:19.417Z"
   },
   {
    "duration": 4,
    "start_time": "2023-07-19T16:51:19.561Z"
   },
   {
    "duration": 18,
    "start_time": "2023-07-19T16:51:19.567Z"
   },
   {
    "duration": 9,
    "start_time": "2023-07-19T16:51:19.587Z"
   },
   {
    "duration": 7,
    "start_time": "2023-07-19T16:51:19.598Z"
   },
   {
    "duration": 7,
    "start_time": "2023-07-19T16:51:19.607Z"
   },
   {
    "duration": 1431,
    "start_time": "2023-07-19T16:51:19.616Z"
   },
   {
    "duration": 1181,
    "start_time": "2023-07-19T16:51:46.348Z"
   },
   {
    "duration": 3,
    "start_time": "2023-07-19T16:51:47.532Z"
   },
   {
    "duration": 430,
    "start_time": "2023-07-19T16:51:47.537Z"
   },
   {
    "duration": 33,
    "start_time": "2023-07-19T16:51:47.969Z"
   },
   {
    "duration": 38,
    "start_time": "2023-07-19T16:51:48.006Z"
   },
   {
    "duration": 39,
    "start_time": "2023-07-19T16:51:48.046Z"
   },
   {
    "duration": 126,
    "start_time": "2023-07-19T16:51:48.087Z"
   },
   {
    "duration": 24,
    "start_time": "2023-07-19T16:51:48.215Z"
   },
   {
    "duration": 5,
    "start_time": "2023-07-19T16:51:48.241Z"
   },
   {
    "duration": 41,
    "start_time": "2023-07-19T16:51:48.248Z"
   },
   {
    "duration": 21,
    "start_time": "2023-07-19T16:51:48.292Z"
   },
   {
    "duration": 50,
    "start_time": "2023-07-19T16:51:48.314Z"
   },
   {
    "duration": 98,
    "start_time": "2023-07-19T16:51:48.366Z"
   },
   {
    "duration": 32,
    "start_time": "2023-07-19T16:51:48.467Z"
   },
   {
    "duration": 9,
    "start_time": "2023-07-19T16:51:48.501Z"
   },
   {
    "duration": 19,
    "start_time": "2023-07-19T16:51:48.512Z"
   },
   {
    "duration": 27,
    "start_time": "2023-07-19T16:51:48.533Z"
   },
   {
    "duration": 8,
    "start_time": "2023-07-19T16:51:48.562Z"
   },
   {
    "duration": 99,
    "start_time": "2023-07-19T16:51:48.571Z"
   },
   {
    "duration": 28,
    "start_time": "2023-07-19T16:51:48.760Z"
   },
   {
    "duration": 9,
    "start_time": "2023-07-19T16:51:48.790Z"
   },
   {
    "duration": 21,
    "start_time": "2023-07-19T16:51:48.801Z"
   },
   {
    "duration": 37,
    "start_time": "2023-07-19T16:51:48.823Z"
   },
   {
    "duration": 98,
    "start_time": "2023-07-19T16:51:48.863Z"
   },
   {
    "duration": 10,
    "start_time": "2023-07-19T16:51:48.963Z"
   },
   {
    "duration": 9,
    "start_time": "2023-07-19T16:51:48.975Z"
   },
   {
    "duration": 10,
    "start_time": "2023-07-19T16:51:48.985Z"
   },
   {
    "duration": 8,
    "start_time": "2023-07-19T16:51:48.997Z"
   },
   {
    "duration": 1456,
    "start_time": "2023-07-19T16:51:49.007Z"
   },
   {
    "duration": 1217,
    "start_time": "2023-07-19T16:52:53.773Z"
   },
   {
    "duration": 4,
    "start_time": "2023-07-19T16:52:54.992Z"
   },
   {
    "duration": 445,
    "start_time": "2023-07-19T16:52:54.998Z"
   },
   {
    "duration": 38,
    "start_time": "2023-07-19T16:52:55.445Z"
   },
   {
    "duration": 38,
    "start_time": "2023-07-19T16:52:55.486Z"
   },
   {
    "duration": 47,
    "start_time": "2023-07-19T16:52:55.526Z"
   },
   {
    "duration": 5,
    "start_time": "2023-07-19T16:52:55.575Z"
   },
   {
    "duration": 36,
    "start_time": "2023-07-19T16:52:55.582Z"
   },
   {
    "duration": 14,
    "start_time": "2023-07-19T16:52:55.621Z"
   },
   {
    "duration": 24,
    "start_time": "2023-07-19T16:52:55.639Z"
   },
   {
    "duration": 20,
    "start_time": "2023-07-19T16:52:55.665Z"
   },
   {
    "duration": 82,
    "start_time": "2023-07-19T16:52:55.687Z"
   },
   {
    "duration": 95,
    "start_time": "2023-07-19T16:52:55.771Z"
   },
   {
    "duration": 25,
    "start_time": "2023-07-19T16:52:55.868Z"
   },
   {
    "duration": 3,
    "start_time": "2023-07-19T16:52:55.896Z"
   },
   {
    "duration": 34,
    "start_time": "2023-07-19T16:52:55.901Z"
   },
   {
    "duration": 30,
    "start_time": "2023-07-19T16:52:55.937Z"
   },
   {
    "duration": 97,
    "start_time": "2023-07-19T16:52:55.970Z"
   },
   {
    "duration": 93,
    "start_time": "2023-07-19T16:52:56.069Z"
   },
   {
    "duration": 30,
    "start_time": "2023-07-19T16:52:56.164Z"
   },
   {
    "duration": 14,
    "start_time": "2023-07-19T16:52:56.196Z"
   },
   {
    "duration": 33,
    "start_time": "2023-07-19T16:52:56.211Z"
   },
   {
    "duration": 27,
    "start_time": "2023-07-19T16:52:56.247Z"
   },
   {
    "duration": 7,
    "start_time": "2023-07-19T16:52:56.358Z"
   },
   {
    "duration": 5,
    "start_time": "2023-07-19T16:52:56.367Z"
   },
   {
    "duration": 94,
    "start_time": "2023-07-19T16:52:56.374Z"
   },
   {
    "duration": 5,
    "start_time": "2023-07-19T16:52:56.469Z"
   },
   {
    "duration": 4,
    "start_time": "2023-07-19T16:52:56.477Z"
   },
   {
    "duration": 1431,
    "start_time": "2023-07-19T16:52:56.483Z"
   },
   {
    "duration": 1425,
    "start_time": "2023-07-19T16:52:57.916Z"
   },
   {
    "duration": 1588,
    "start_time": "2023-07-19T16:52:59.343Z"
   },
   {
    "duration": 23,
    "start_time": "2023-07-20T09:25:05.224Z"
   },
   {
    "duration": 18,
    "start_time": "2023-07-20T09:25:09.858Z"
   },
   {
    "duration": 5039,
    "start_time": "2023-07-20T09:41:51.198Z"
   },
   {
    "duration": 4296,
    "start_time": "2023-07-20T09:43:48.804Z"
   },
   {
    "duration": 4392,
    "start_time": "2023-07-20T09:44:07.664Z"
   },
   {
    "duration": 4836,
    "start_time": "2023-07-20T10:17:42.103Z"
   },
   {
    "duration": 4520,
    "start_time": "2023-07-20T10:17:58.837Z"
   },
   {
    "duration": 8,
    "start_time": "2023-07-20T10:19:02.181Z"
   },
   {
    "duration": 7,
    "start_time": "2023-07-20T10:19:24.614Z"
   },
   {
    "duration": 7,
    "start_time": "2023-07-20T10:19:29.452Z"
   },
   {
    "duration": 4694,
    "start_time": "2023-07-20T10:22:16.285Z"
   },
   {
    "duration": 7,
    "start_time": "2023-07-20T10:23:01.080Z"
   },
   {
    "duration": 6,
    "start_time": "2023-07-20T10:23:06.998Z"
   },
   {
    "duration": 6,
    "start_time": "2023-07-20T10:23:15.581Z"
   },
   {
    "duration": 7,
    "start_time": "2023-07-20T10:23:19.456Z"
   },
   {
    "duration": 8,
    "start_time": "2023-07-20T10:23:27.166Z"
   },
   {
    "duration": 4,
    "start_time": "2023-07-20T10:38:16.217Z"
   },
   {
    "duration": 11,
    "start_time": "2023-07-20T10:38:17.985Z"
   },
   {
    "duration": 3,
    "start_time": "2023-07-20T10:38:18.782Z"
   },
   {
    "duration": 11,
    "start_time": "2023-07-20T10:38:20.206Z"
   },
   {
    "duration": 15,
    "start_time": "2023-07-20T10:38:21.776Z"
   },
   {
    "duration": 3,
    "start_time": "2023-07-20T10:38:32.746Z"
   },
   {
    "duration": 4,
    "start_time": "2023-07-20T10:42:54.770Z"
   },
   {
    "duration": 4,
    "start_time": "2023-07-20T10:42:58.796Z"
   },
   {
    "duration": 1420,
    "start_time": "2023-07-20T10:49:30.394Z"
   },
   {
    "duration": 1159,
    "start_time": "2023-07-20T10:49:40.743Z"
   },
   {
    "duration": 4,
    "start_time": "2023-07-20T10:49:41.904Z"
   },
   {
    "duration": 384,
    "start_time": "2023-07-20T10:49:41.909Z"
   },
   {
    "duration": 32,
    "start_time": "2023-07-20T10:49:42.295Z"
   },
   {
    "duration": 33,
    "start_time": "2023-07-20T10:49:42.329Z"
   },
   {
    "duration": 22,
    "start_time": "2023-07-20T10:49:42.363Z"
   },
   {
    "duration": 4899,
    "start_time": "2023-07-20T10:49:42.386Z"
   },
   {
    "duration": 4,
    "start_time": "2023-07-20T10:49:47.287Z"
   },
   {
    "duration": 21,
    "start_time": "2023-07-20T10:49:47.293Z"
   },
   {
    "duration": 4,
    "start_time": "2023-07-20T10:49:47.315Z"
   },
   {
    "duration": 103,
    "start_time": "2023-07-20T10:49:47.320Z"
   },
   {
    "duration": 40,
    "start_time": "2023-07-20T10:49:47.424Z"
   },
   {
    "duration": 92,
    "start_time": "2023-07-20T10:49:47.468Z"
   },
   {
    "duration": 4512,
    "start_time": "2023-07-20T10:49:47.563Z"
   },
   {
    "duration": 10,
    "start_time": "2023-07-20T10:49:52.077Z"
   },
   {
    "duration": 61,
    "start_time": "2023-07-20T10:49:52.089Z"
   },
   {
    "duration": 38,
    "start_time": "2023-07-20T10:49:52.152Z"
   },
   {
    "duration": 43,
    "start_time": "2023-07-20T10:49:52.191Z"
   },
   {
    "duration": 18,
    "start_time": "2023-07-20T10:49:52.235Z"
   },
   {
    "duration": 100,
    "start_time": "2023-07-20T10:49:52.259Z"
   },
   {
    "duration": 1135,
    "start_time": "2023-07-20T10:49:58.922Z"
   },
   {
    "duration": 5,
    "start_time": "2023-07-20T10:50:00.059Z"
   },
   {
    "duration": 459,
    "start_time": "2023-07-20T10:50:00.068Z"
   },
   {
    "duration": 31,
    "start_time": "2023-07-20T10:50:00.529Z"
   },
   {
    "duration": 20,
    "start_time": "2023-07-20T10:50:00.562Z"
   },
   {
    "duration": 27,
    "start_time": "2023-07-20T10:50:00.584Z"
   },
   {
    "duration": 4997,
    "start_time": "2023-07-20T10:50:00.612Z"
   },
   {
    "duration": 5,
    "start_time": "2023-07-20T10:50:05.610Z"
   },
   {
    "duration": 23,
    "start_time": "2023-07-20T10:50:05.616Z"
   },
   {
    "duration": 37,
    "start_time": "2023-07-20T10:50:05.641Z"
   },
   {
    "duration": 122,
    "start_time": "2023-07-20T10:50:05.680Z"
   },
   {
    "duration": 55,
    "start_time": "2023-07-20T10:50:05.805Z"
   },
   {
    "duration": 4,
    "start_time": "2023-07-20T10:50:05.864Z"
   },
   {
    "duration": 4411,
    "start_time": "2023-07-20T10:50:05.960Z"
   },
   {
    "duration": 5,
    "start_time": "2023-07-20T10:50:10.372Z"
   },
   {
    "duration": 30,
    "start_time": "2023-07-20T10:50:10.378Z"
   },
   {
    "duration": 16,
    "start_time": "2023-07-20T10:50:10.410Z"
   },
   {
    "duration": 22,
    "start_time": "2023-07-20T10:50:10.427Z"
   },
   {
    "duration": 34,
    "start_time": "2023-07-20T10:50:10.451Z"
   },
   {
    "duration": 176,
    "start_time": "2023-07-20T10:50:10.486Z"
   },
   {
    "duration": 4605,
    "start_time": "2023-07-20T10:50:10.663Z"
   },
   {
    "duration": 5,
    "start_time": "2023-07-20T10:50:15.270Z"
   },
   {
    "duration": 43,
    "start_time": "2023-07-20T10:50:15.277Z"
   },
   {
    "duration": 17,
    "start_time": "2023-07-20T10:50:15.328Z"
   },
   {
    "duration": 27,
    "start_time": "2023-07-20T10:50:15.347Z"
   },
   {
    "duration": 21,
    "start_time": "2023-07-20T10:50:15.376Z"
   },
   {
    "duration": 4,
    "start_time": "2023-07-20T10:50:15.398Z"
   },
   {
    "duration": 17,
    "start_time": "2023-07-20T10:50:15.404Z"
   },
   {
    "duration": 19,
    "start_time": "2023-07-20T10:50:15.423Z"
   },
   {
    "duration": 9,
    "start_time": "2023-07-20T10:50:15.444Z"
   },
   {
    "duration": 11,
    "start_time": "2023-07-20T10:50:15.455Z"
   },
   {
    "duration": 1488,
    "start_time": "2023-07-20T10:50:15.469Z"
   },
   {
    "duration": 1317,
    "start_time": "2023-07-20T10:50:16.960Z"
   },
   {
    "duration": 1301,
    "start_time": "2023-07-20T10:50:18.279Z"
   },
   {
    "duration": 1125,
    "start_time": "2023-07-20T10:52:04.551Z"
   },
   {
    "duration": 4,
    "start_time": "2023-07-20T10:52:05.678Z"
   },
   {
    "duration": 384,
    "start_time": "2023-07-20T10:52:05.684Z"
   },
   {
    "duration": 30,
    "start_time": "2023-07-20T10:52:06.070Z"
   },
   {
    "duration": 22,
    "start_time": "2023-07-20T10:52:06.103Z"
   },
   {
    "duration": 49,
    "start_time": "2023-07-20T10:52:06.127Z"
   },
   {
    "duration": 4703,
    "start_time": "2023-07-20T10:52:06.178Z"
   },
   {
    "duration": 4,
    "start_time": "2023-07-20T10:52:10.883Z"
   },
   {
    "duration": 20,
    "start_time": "2023-07-20T10:52:10.889Z"
   },
   {
    "duration": 5,
    "start_time": "2023-07-20T10:52:10.911Z"
   },
   {
    "duration": 103,
    "start_time": "2023-07-20T10:52:10.917Z"
   },
   {
    "duration": 40,
    "start_time": "2023-07-20T10:52:11.022Z"
   },
   {
    "duration": 97,
    "start_time": "2023-07-20T10:52:11.064Z"
   },
   {
    "duration": 4642,
    "start_time": "2023-07-20T10:52:11.164Z"
   },
   {
    "duration": 5,
    "start_time": "2023-07-20T10:52:15.809Z"
   },
   {
    "duration": 29,
    "start_time": "2023-07-20T10:52:15.815Z"
   },
   {
    "duration": 14,
    "start_time": "2023-07-20T10:52:15.847Z"
   },
   {
    "duration": 47,
    "start_time": "2023-07-20T10:52:15.863Z"
   },
   {
    "duration": 34,
    "start_time": "2023-07-20T10:52:15.913Z"
   },
   {
    "duration": 10,
    "start_time": "2023-07-20T10:52:15.960Z"
   },
   {
    "duration": 4541,
    "start_time": "2023-07-20T10:52:16.059Z"
   },
   {
    "duration": 6,
    "start_time": "2023-07-20T10:52:20.602Z"
   },
   {
    "duration": 43,
    "start_time": "2023-07-20T10:52:20.610Z"
   },
   {
    "duration": 43,
    "start_time": "2023-07-20T10:52:20.655Z"
   },
   {
    "duration": 52,
    "start_time": "2023-07-20T10:52:20.701Z"
   },
   {
    "duration": 65,
    "start_time": "2023-07-20T10:52:20.755Z"
   },
   {
    "duration": 20,
    "start_time": "2023-07-20T10:52:20.822Z"
   },
   {
    "duration": 33,
    "start_time": "2023-07-20T10:52:20.844Z"
   },
   {
    "duration": 53,
    "start_time": "2023-07-20T10:52:20.879Z"
   },
   {
    "duration": 30,
    "start_time": "2023-07-20T10:52:20.934Z"
   },
   {
    "duration": 35,
    "start_time": "2023-07-20T10:52:20.966Z"
   },
   {
    "duration": 1478,
    "start_time": "2023-07-20T10:52:21.002Z"
   },
   {
    "duration": 1336,
    "start_time": "2023-07-20T10:52:22.481Z"
   },
   {
    "duration": 1420,
    "start_time": "2023-07-20T10:52:23.819Z"
   },
   {
    "duration": 1394,
    "start_time": "2023-07-20T11:28:04.987Z"
   },
   {
    "duration": 4,
    "start_time": "2023-07-20T11:28:06.382Z"
   },
   {
    "duration": 467,
    "start_time": "2023-07-20T11:28:06.387Z"
   },
   {
    "duration": 28,
    "start_time": "2023-07-20T11:28:06.856Z"
   },
   {
    "duration": 20,
    "start_time": "2023-07-20T11:28:06.886Z"
   },
   {
    "duration": 20,
    "start_time": "2023-07-20T11:28:06.908Z"
   },
   {
    "duration": 5123,
    "start_time": "2023-07-20T11:28:06.930Z"
   },
   {
    "duration": 5,
    "start_time": "2023-07-20T11:28:12.055Z"
   },
   {
    "duration": 32,
    "start_time": "2023-07-20T11:28:12.062Z"
   },
   {
    "duration": 4,
    "start_time": "2023-07-20T11:28:12.097Z"
   },
   {
    "duration": 101,
    "start_time": "2023-07-20T11:28:12.103Z"
   },
   {
    "duration": 61,
    "start_time": "2023-07-20T11:28:12.205Z"
   },
   {
    "duration": 93,
    "start_time": "2023-07-20T11:28:12.267Z"
   },
   {
    "duration": 4659,
    "start_time": "2023-07-20T11:28:12.362Z"
   },
   {
    "duration": 5,
    "start_time": "2023-07-20T11:28:17.023Z"
   },
   {
    "duration": 29,
    "start_time": "2023-07-20T11:28:17.029Z"
   },
   {
    "duration": 4,
    "start_time": "2023-07-20T11:28:17.061Z"
   },
   {
    "duration": 25,
    "start_time": "2023-07-20T11:28:17.067Z"
   },
   {
    "duration": 26,
    "start_time": "2023-07-20T11:28:17.094Z"
   },
   {
    "duration": 5,
    "start_time": "2023-07-20T11:28:17.160Z"
   },
   {
    "duration": 4659,
    "start_time": "2023-07-20T11:28:17.167Z"
   },
   {
    "duration": 4,
    "start_time": "2023-07-20T11:28:21.828Z"
   },
   {
    "duration": 37,
    "start_time": "2023-07-20T11:28:21.833Z"
   },
   {
    "duration": 43,
    "start_time": "2023-07-20T11:28:21.872Z"
   },
   {
    "duration": 48,
    "start_time": "2023-07-20T11:28:21.917Z"
   },
   {
    "duration": 50,
    "start_time": "2023-07-20T11:28:21.967Z"
   },
   {
    "duration": 16,
    "start_time": "2023-07-20T11:28:22.019Z"
   },
   {
    "duration": 9,
    "start_time": "2023-07-20T11:28:22.039Z"
   },
   {
    "duration": 9,
    "start_time": "2023-07-20T11:28:22.051Z"
   },
   {
    "duration": 18,
    "start_time": "2023-07-20T11:28:22.061Z"
   },
   {
    "duration": 27,
    "start_time": "2023-07-20T11:28:22.081Z"
   },
   {
    "duration": 1549,
    "start_time": "2023-07-20T11:28:22.110Z"
   },
   {
    "duration": 1468,
    "start_time": "2023-07-20T11:28:23.661Z"
   },
   {
    "duration": 1416,
    "start_time": "2023-07-20T11:28:25.130Z"
   }
  ],
  "kernelspec": {
   "display_name": "Python 3 (ipykernel)",
   "language": "python",
   "name": "python3"
  },
  "language_info": {
   "codemirror_mode": {
    "name": "ipython",
    "version": 3
   },
   "file_extension": ".py",
   "mimetype": "text/x-python",
   "name": "python",
   "nbconvert_exporter": "python",
   "pygments_lexer": "ipython3",
   "version": "3.9.5"
  },
  "toc": {
   "base_numbering": 1,
   "nav_menu": {},
   "number_sections": true,
   "sideBar": true,
   "skip_h1_title": true,
   "title_cell": "Table of Contents",
   "title_sidebar": "Contents",
   "toc_cell": false,
   "toc_position": {},
   "toc_section_display": true,
   "toc_window_display": false
  }
 },
 "nbformat": 4,
 "nbformat_minor": 2
}
